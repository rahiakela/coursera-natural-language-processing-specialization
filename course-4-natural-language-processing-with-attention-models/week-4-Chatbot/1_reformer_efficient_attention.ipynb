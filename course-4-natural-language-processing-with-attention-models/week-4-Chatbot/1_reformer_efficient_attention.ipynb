{
  "nbformat": 4,
  "nbformat_minor": 0,
  "metadata": {
    "colab": {
      "name": "1-reformer-efficient-attention.ipynb",
      "provenance": [],
      "toc_visible": true,
      "authorship_tag": "ABX9TyPHU1ob0LhtAbX9QC4HB7iv",
      "include_colab_link": true
    },
    "kernelspec": {
      "name": "python3",
      "display_name": "Python 3"
    },
    "language_info": {
      "name": "python"
    }
  },
  "cells": [
    {
      "cell_type": "markdown",
      "metadata": {
        "id": "view-in-github",
        "colab_type": "text"
      },
      "source": [
        "<a href=\"https://colab.research.google.com/github/rahiakela/coursera-natural-language-processing-specialization/blob/master/course-4-natural-language-processing-with-attention-models/week-4-Chatbot/1_reformer_efficient_attention.ipynb\" target=\"_parent\"><img src=\"https://colab.research.google.com/assets/colab-badge.svg\" alt=\"Open In Colab\"/></a>"
      ]
    },
    {
      "cell_type": "markdown",
      "metadata": {
        "id": "f2Wg9YVngt3h"
      },
      "source": [
        "##Reformer Efficient Attention"
      ]
    },
    {
      "cell_type": "markdown",
      "metadata": {
        "id": "RzNaUFkNguwK"
      },
      "source": [
        ""
      ]
    }
  ]
}