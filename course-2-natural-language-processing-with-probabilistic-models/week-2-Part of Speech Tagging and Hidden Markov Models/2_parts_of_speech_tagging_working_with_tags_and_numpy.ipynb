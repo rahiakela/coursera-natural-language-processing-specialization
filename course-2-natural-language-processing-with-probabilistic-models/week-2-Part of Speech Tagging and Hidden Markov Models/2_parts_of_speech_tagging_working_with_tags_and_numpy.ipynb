{
  "nbformat": 4,
  "nbformat_minor": 0,
  "metadata": {
    "colab": {
      "name": "2-parts-of-speech-tagging--working-with-tags-and-numpy.ipynb",
      "provenance": [],
      "toc_visible": true,
      "authorship_tag": "ABX9TyNjaGxab9xWzZSmppHnsrT9",
      "include_colab_link": true
    },
    "kernelspec": {
      "name": "python3",
      "display_name": "Python 3"
    }
  },
  "cells": [
    {
      "cell_type": "markdown",
      "metadata": {
        "id": "view-in-github",
        "colab_type": "text"
      },
      "source": [
        "<a href=\"https://colab.research.google.com/github/rahiakela/coursera-natural-language-processing-specialization/blob/master/course-2-natural-language-processing-with-probabilistic-models/week-2-Part%20of%20Speech%20Tagging%20and%20Hidden%20Markov%20Models/2_parts_of_speech_tagging_working_with_tags_and_numpy.ipynb\" target=\"_parent\"><img src=\"https://colab.research.google.com/assets/colab-badge.svg\" alt=\"Open In Colab\"/></a>"
      ]
    },
    {
      "cell_type": "markdown",
      "metadata": {
        "id": "8bnL7vOi97ls"
      },
      "source": [
        "# Parts-of-Speech Tagging - Working with tags and Numpy"
      ]
    },
    {
      "cell_type": "markdown",
      "metadata": {
        "id": "FLcnbdr098RZ"
      },
      "source": [
        "In this lecture notebook you will create a matrix using some tag information and then modify it using different approaches.\n",
        "This will serve as hands-on experience working with Numpy and as an introduction to some elements used for POS tagging."
      ]
    },
    {
      "cell_type": "code",
      "metadata": {
        "id": "MYYn6kA3-Lsd"
      },
      "source": [
        "import numpy as np\n",
        "import pandas as pd"
      ],
      "execution_count": 1,
      "outputs": []
    },
    {
      "cell_type": "markdown",
      "metadata": {
        "id": "xDSltjg7-NWR"
      },
      "source": [
        "## Some information on tags"
      ]
    },
    {
      "cell_type": "markdown",
      "metadata": {
        "id": "yELrT8OF-QL7"
      },
      "source": [
        "For this notebook you will be using a toy example including only three tags (or states). In a real world application there are many more tags which can be found [here](https://www.ling.upenn.edu/courses/Fall_2003/ling001/penn_treebank_pos.html)."
      ]
    },
    {
      "cell_type": "code",
      "metadata": {
        "id": "cbinYwmE-SQ4"
      },
      "source": [
        "# Define tags for Adverb, Noun and To (the preposition) , respectively\n",
        "tags = ['RB', 'NN', 'TO']"
      ],
      "execution_count": 2,
      "outputs": []
    },
    {
      "cell_type": "markdown",
      "metadata": {
        "id": "dAi9Z2cSMyAi"
      },
      "source": [
        "In this week's assignment you will construct some dictionaries that provide useful information of the tags and words you will be working with. \n",
        "\n",
        "One of these dictionaries is the `transition_counts` which counts the number of times a particular tag happened next to another. The keys of this dictionary have the form `(previous_tag, tag)` and the values are the frequency of occurrences.\n",
        "\n",
        "Another one is the `emission_counts` dictionary which will count the number of times a particular pair of `(tag, word)` appeared in the training dataset.\n",
        "\n",
        "In general think of `transition` when working with tags only and of `emission` when working with tags and words.\n",
        "\n",
        "In this notebook you will be looking at the first one:"
      ]
    },
    {
      "cell_type": "code",
      "metadata": {
        "id": "tlaJUBM9MRwl"
      },
      "source": [
        "# Define 'transition_counts' dictionary\n",
        "# Note: values are the same as the ones in the assignment\n",
        "transition_counts = {\n",
        "    ('NN', 'NN'): 16241,\n",
        "    ('RB', 'RB'): 2263,\n",
        "    ('TO', 'TO'): 2,\n",
        "    ('NN', 'TO'): 5256,\n",
        "    ('RB', 'TO'): 855,\n",
        "    ('TO', 'NN'): 734,\n",
        "    ('NN', 'RB'): 2431,\n",
        "    ('RB', 'NN'): 358,\n",
        "    ('TO', 'RB'): 200\n",
        "}"
      ],
      "execution_count": 3,
      "outputs": []
    },
    {
      "cell_type": "markdown",
      "metadata": {
        "id": "WTYWn0y_NBii"
      },
      "source": [
        "Notice that there are 9 combinations of the 3 tags used. Each tag can appear after the same tag so you should include those as well."
      ]
    },
    {
      "cell_type": "markdown",
      "metadata": {
        "id": "vT7p7oTONCAa"
      },
      "source": [
        "## Using Numpy for matrix creation"
      ]
    },
    {
      "cell_type": "markdown",
      "metadata": {
        "id": "C1FTdcU0NJsT"
      },
      "source": [
        "Now you will create a matrix that includes these frequencies using Numpy arrays:"
      ]
    },
    {
      "cell_type": "code",
      "metadata": {
        "id": "cz8hx2ofNL-u",
        "colab": {
          "base_uri": "https://localhost:8080/"
        },
        "outputId": "0515e69c-d505-41a8-ee2b-662f83e34027"
      },
      "source": [
        "# Store the number of tags in the 'num_tags' variable\n",
        "num_tags = len(tags)\n",
        "\n",
        "# Initialize a 3X3 numpy array with zeros\n",
        "transition_matrix = np.zeros((num_tags, num_tags))\n",
        "transition_matrix"
      ],
      "execution_count": 4,
      "outputs": [
        {
          "output_type": "execute_result",
          "data": {
            "text/plain": [
              "array([[0., 0., 0.],\n",
              "       [0., 0., 0.],\n",
              "       [0., 0., 0.]])"
            ]
          },
          "metadata": {
            "tags": []
          },
          "execution_count": 4
        }
      ]
    },
    {
      "cell_type": "markdown",
      "metadata": {
        "id": "UzCxl1E8SDo_"
      },
      "source": [
        "Visually you can see the matrix has the correct dimensions. Don't forget you can check this too using the `shape` attribute:"
      ]
    },
    {
      "cell_type": "code",
      "metadata": {
        "id": "01itsEELR-qD",
        "colab": {
          "base_uri": "https://localhost:8080/"
        },
        "outputId": "176e3d85-179e-4532-bfb1-0d4e6cbfd775"
      },
      "source": [
        "transition_matrix.shape"
      ],
      "execution_count": 5,
      "outputs": [
        {
          "output_type": "execute_result",
          "data": {
            "text/plain": [
              "(3, 3)"
            ]
          },
          "metadata": {
            "tags": []
          },
          "execution_count": 5
        }
      ]
    },
    {
      "cell_type": "markdown",
      "metadata": {
        "id": "2g2Vl_0ISLYB"
      },
      "source": [
        "Before filling this matrix with the values of the `transition_counts` dictionary you should sort the tags so that their placement in the matrix is consistent:"
      ]
    },
    {
      "cell_type": "code",
      "metadata": {
        "id": "AiH9lXtDSGma",
        "colab": {
          "base_uri": "https://localhost:8080/"
        },
        "outputId": "09762438-0bb3-40b8-8688-8a5c733ac5d7"
      },
      "source": [
        "# Create sorted version of the tag's list\n",
        "sorted_tags = sorted(tags)\n",
        "sorted_tags"
      ],
      "execution_count": 6,
      "outputs": [
        {
          "output_type": "execute_result",
          "data": {
            "text/plain": [
              "['NN', 'RB', 'TO']"
            ]
          },
          "metadata": {
            "tags": []
          },
          "execution_count": 6
        }
      ]
    },
    {
      "cell_type": "markdown",
      "metadata": {
        "id": "JJTF3Zi3U2xv"
      },
      "source": [
        "To fill this matrix with the correct values you can use a `double for loop`. You could also use `itertools.product` to one line this double loop:"
      ]
    },
    {
      "cell_type": "code",
      "metadata": {
        "id": "RlLn2C-WUnv_",
        "colab": {
          "base_uri": "https://localhost:8080/"
        },
        "outputId": "3aebc8e0-6ffb-42a1-d2c3-fd3941a77eb1"
      },
      "source": [
        "for i in range(num_tags):\n",
        "  for j in range(num_tags):\n",
        "    # Define tag pair\n",
        "    tag_tuple = (sorted_tags[i], sorted_tags[j])\n",
        "    # Get frequency from transition_counts dict and assign to (i, j) position in the matrix\n",
        "    transition_matrix[i, j] = transition_counts.get(tag_tuple)\n",
        "\n",
        "transition_matrix"
      ],
      "execution_count": 7,
      "outputs": [
        {
          "output_type": "execute_result",
          "data": {
            "text/plain": [
              "array([[1.6241e+04, 2.4310e+03, 5.2560e+03],\n",
              "       [3.5800e+02, 2.2630e+03, 8.5500e+02],\n",
              "       [7.3400e+02, 2.0000e+02, 2.0000e+00]])"
            ]
          },
          "metadata": {
            "tags": []
          },
          "execution_count": 7
        }
      ]
    },
    {
      "cell_type": "markdown",
      "metadata": {
        "id": "T8Sjc_juVk3O"
      },
      "source": [
        "Looks like this worked fine. However the matrix can be hard to read as `Numpy` is more about efficiency, rather than presenting values in a pretty format. \n",
        "\n",
        "For this you can use a `Pandas DataFrame`. In particular, a function that takes the matrix as input and prints out a pretty version of it will be very useful:"
      ]
    },
    {
      "cell_type": "code",
      "metadata": {
        "id": "ERNNud_jVgaV"
      },
      "source": [
        "# Define 'print_matrix' function\n",
        "def print_matrix(matrix):\n",
        "  print(pd.DataFrame(matrix, index=sorted_tags, columns=sorted_tags))"
      ],
      "execution_count": 8,
      "outputs": []
    },
    {
      "cell_type": "markdown",
      "metadata": {
        "id": "kMXHgixgVufr"
      },
      "source": [
        "Notice that the tags are not a parameter of the function. This is because the `sorted_tags` list will not change in the rest of the notebook so it is safe to use the variable previously declared. To test this function simply run: "
      ]
    },
    {
      "cell_type": "code",
      "metadata": {
        "id": "ZcaFbaCuWGKX",
        "colab": {
          "base_uri": "https://localhost:8080/"
        },
        "outputId": "485335c0-e3e8-4689-c96a-19267e426197"
      },
      "source": [
        "# Print the 'transition_matrix' by calling the 'print_matrix' function\n",
        "print_matrix(transition_matrix)"
      ],
      "execution_count": 9,
      "outputs": [
        {
          "output_type": "stream",
          "text": [
            "         NN      RB      TO\n",
            "NN  16241.0  2431.0  5256.0\n",
            "RB    358.0  2263.0   855.0\n",
            "TO    734.0   200.0     2.0\n"
          ],
          "name": "stdout"
        }
      ]
    },
    {
      "cell_type": "markdown",
      "metadata": {
        "id": "0in8AB1pWOyh"
      },
      "source": [
        "That is a lot better, isn't it? \n",
        "\n",
        "As you may have already deducted this matrix is not symmetrical."
      ]
    },
    {
      "cell_type": "markdown",
      "metadata": {
        "id": "d1rSlS3cWPo5"
      },
      "source": [
        "## Working with Numpy for matrix manipulation"
      ]
    },
    {
      "cell_type": "markdown",
      "metadata": {
        "id": "hog4M7QLWSTP"
      },
      "source": [
        "Now that you got the matrix set up it is time to see how a matrix can be manipulated after being created. \n",
        "\n",
        "`Numpy` allows vectorized operations which means that operations that would normally include looping over the matrix can be done in a simpler manner. This is consistent with treating numpy arrays as matrices since you get support for common matrix operations. You can do matrix multiplication, scalar multiplication, vector addition and many more!\n",
        "\n",
        "For instance try scaling each value in the matrix by a factor of $\\frac{1}{10}$. Normally you would loop over each value in the matrix, updating them accordingly. But in Numpy this is as easy as dividing the whole matrix by 10:"
      ]
    },
    {
      "cell_type": "code",
      "metadata": {
        "id": "Ut3vFU2JWMUs",
        "colab": {
          "base_uri": "https://localhost:8080/"
        },
        "outputId": "697e37e1-d3bd-4831-89b4-37a94437896e"
      },
      "source": [
        "# Scale transition matrix\n",
        "transition_matrix = transition_matrix / 10\n",
        "print_matrix(transition_matrix)"
      ],
      "execution_count": 10,
      "outputs": [
        {
          "output_type": "stream",
          "text": [
            "        NN     RB     TO\n",
            "NN  1624.1  243.1  525.6\n",
            "RB    35.8  226.3   85.5\n",
            "TO    73.4   20.0    0.2\n"
          ],
          "name": "stdout"
        }
      ]
    },
    {
      "cell_type": "markdown",
      "metadata": {
        "id": "L-JTqobWywRQ"
      },
      "source": [
        "Another trickier example is to normalize each row so that each value is equal to $\\frac{value}{sum \\,of \\,row}$.\n",
        "\n",
        "This can be easily done with vectorization. First you will compute the sum of each row:"
      ]
    },
    {
      "cell_type": "code",
      "metadata": {
        "id": "LUCy90sRyhxD",
        "colab": {
          "base_uri": "https://localhost:8080/"
        },
        "outputId": "31ba6fa0-b922-4fab-cb8e-fd18d10f1880"
      },
      "source": [
        "# Compute sum of row for each row\n",
        "rows_sum = transition_matrix.sum(axis=1, keepdims=True)\n",
        "rows_sum"
      ],
      "execution_count": 11,
      "outputs": [
        {
          "output_type": "execute_result",
          "data": {
            "text/plain": [
              "array([[2392.8],\n",
              "       [ 347.6],\n",
              "       [  93.6]])"
            ]
          },
          "metadata": {
            "tags": []
          },
          "execution_count": 11
        }
      ]
    },
    {
      "cell_type": "markdown",
      "metadata": {
        "id": "VPb-H6phy_Zy"
      },
      "source": [
        "Notice that the `sum()` method was used. This method does exactly what its name implies. Since the sum of the rows was desired the axis was set to `1`. In Numpy `axis=1` refers to the columns so the sum is done by summing each column of a particular row, for each row. \n",
        "\n",
        "Also the `keepdims` parameter was set to `True` so the resulting array had shape `(3, 1)` rather than `(3,)`. This was done so that the axes were consistent with the desired operation. \n",
        "\n",
        "When working with Numpy, always remember to check the shape of the arrays you are working with, many unexpected errors happen because of axes not being consistent. The `shape` attribute is your friend for these cases."
      ]
    },
    {
      "cell_type": "code",
      "metadata": {
        "id": "SossIg4Ay8Ic",
        "colab": {
          "base_uri": "https://localhost:8080/"
        },
        "outputId": "808bc7a6-138a-4e8f-9faa-b9359ca52c5f"
      },
      "source": [
        "# Normalize transition matrix\n",
        "transition_matrix = transition_matrix / rows_sum\n",
        "print_matrix(transition_matrix)"
      ],
      "execution_count": 12,
      "outputs": [
        {
          "output_type": "stream",
          "text": [
            "          NN        RB        TO\n",
            "NN  0.678745  0.101596  0.219659\n",
            "RB  0.102992  0.651036  0.245972\n",
            "TO  0.784188  0.213675  0.002137\n"
          ],
          "name": "stdout"
        }
      ]
    },
    {
      "cell_type": "markdown",
      "metadata": {
        "id": "BXT2SKFzzhZN"
      },
      "source": [
        "Notice that the normalization that was carried out forces the sum of each row to be equal to `1`. You can easily check this by running the `sum` method on the resulting matrix:"
      ]
    },
    {
      "cell_type": "code",
      "metadata": {
        "id": "_Dig-HrbzdLz",
        "colab": {
          "base_uri": "https://localhost:8080/"
        },
        "outputId": "1dea6f26-9a80-4cbd-f83f-3702bbae6935"
      },
      "source": [
        "transition_matrix.sum(axis=1, keepdims=True)"
      ],
      "execution_count": 13,
      "outputs": [
        {
          "output_type": "execute_result",
          "data": {
            "text/plain": [
              "array([[1.],\n",
              "       [1.],\n",
              "       [1.]])"
            ]
          },
          "metadata": {
            "tags": []
          },
          "execution_count": 13
        }
      ]
    },
    {
      "cell_type": "markdown",
      "metadata": {
        "id": "wxQVzFZnzz3b"
      },
      "source": [
        "For a final example you are asked to modify each value of the diagonal of the matrix so that they are equal to the `log` of the sum of the current row plus the current value. When doing mathematical operations like this one don't forget to import the `math` module. \n",
        "\n",
        "This can be done using a standard `for loop` or `vectorization`. You'll see both in action:"
      ]
    },
    {
      "cell_type": "code",
      "metadata": {
        "id": "tifDVeWgzw-v"
      },
      "source": [
        "import math\n",
        "\n",
        "# Copy transition matrix for for-loop example\n",
        "t_matrix_for = np.copy(transition_matrix)\n",
        "\n",
        "# Copy transition matrix for numpy functions example\n",
        "t_matrix_np = np.copy(transition_matrix)"
      ],
      "execution_count": 14,
      "outputs": []
    },
    {
      "cell_type": "markdown",
      "metadata": {
        "id": "vY7BTEwF0Sd6"
      },
      "source": [
        "### Using a for-loop"
      ]
    },
    {
      "cell_type": "code",
      "metadata": {
        "id": "LI9XnAQ50Oeh",
        "colab": {
          "base_uri": "https://localhost:8080/"
        },
        "outputId": "54479b99-4534-47b8-e1ed-fe87753899e9"
      },
      "source": [
        "# Loop values in the diagonal\n",
        "for i in range(num_tags):\n",
        "  t_matrix_for[i, i] = t_matrix_for[i, i] + math.log(rows_sum[i])\n",
        "\n",
        "print_matrix(t_matrix_for)"
      ],
      "execution_count": 15,
      "outputs": [
        {
          "output_type": "stream",
          "text": [
            "          NN        RB        TO\n",
            "NN  8.458964  0.101596  0.219659\n",
            "RB  0.102992  6.502088  0.245972\n",
            "TO  0.784188  0.213675  4.541167\n"
          ],
          "name": "stdout"
        }
      ]
    },
    {
      "cell_type": "code",
      "metadata": {
        "id": "E7oI4nQP1Thy",
        "colab": {
          "base_uri": "https://localhost:8080/"
        },
        "outputId": "ba629e2f-561e-430c-8b3c-d62c6bc12ea3"
      },
      "source": [
        "t_matrix_for.shape"
      ],
      "execution_count": 16,
      "outputs": [
        {
          "output_type": "execute_result",
          "data": {
            "text/plain": [
              "(3, 3)"
            ]
          },
          "metadata": {
            "tags": []
          },
          "execution_count": 16
        }
      ]
    },
    {
      "cell_type": "markdown",
      "metadata": {
        "id": "rkXd4-Vs0-4J"
      },
      "source": [
        "### Using vectorization"
      ]
    },
    {
      "cell_type": "code",
      "metadata": {
        "id": "GfLIN9jl0wZQ",
        "colab": {
          "base_uri": "https://localhost:8080/"
        },
        "outputId": "b9876eb3-1b85-4d2f-98db-19f01f13eb25"
      },
      "source": [
        "# Save diagonal in a numpy array\n",
        "d = np.diag(t_matrix_np)\n",
        "d.shape"
      ],
      "execution_count": 17,
      "outputs": [
        {
          "output_type": "execute_result",
          "data": {
            "text/plain": [
              "(3,)"
            ]
          },
          "metadata": {
            "tags": []
          },
          "execution_count": 17
        }
      ]
    },
    {
      "cell_type": "markdown",
      "metadata": {
        "id": "rKILSO2q1R_7"
      },
      "source": [
        "You can save the diagonal in a numpy array using Numpy's `diag()` function. Notice that this array has shape `(3,)` so it is inconsistent with the dimensions of the `rows_sum` array which are `(3, 1)`. You'll have to reshape before moving forward. For this you can use Numpy's `reshape()` function, specifying the desired shape in a tuple:"
      ]
    },
    {
      "cell_type": "code",
      "metadata": {
        "id": "AyFyQK2N1ICu",
        "colab": {
          "base_uri": "https://localhost:8080/"
        },
        "outputId": "a0d7f1dd-c8dd-4f04-8083-694bd685a8ca"
      },
      "source": [
        "# Reshape diagonal numpy arrayd\n",
        "d = np.reshape(d, (3, 1))\n",
        "d.shape"
      ],
      "execution_count": 18,
      "outputs": [
        {
          "output_type": "execute_result",
          "data": {
            "text/plain": [
              "(3, 1)"
            ]
          },
          "metadata": {
            "tags": []
          },
          "execution_count": 18
        }
      ]
    },
    {
      "cell_type": "markdown",
      "metadata": {
        "id": "NQrjr9tN1hSb"
      },
      "source": [
        "Now that the diagonal has the correct shape you can do the vectorized operation by applying the `math.log()` function to the `rows_sum` array and adding the diagonal. \n",
        "\n",
        "To apply a function to each element of a numpy array use Numpy's `vectorize()` function providing the desired function as a parameter. This function returns a vectorized function that accepts a numpy array as a parameter. \n",
        "\n",
        "To update the original matrix you can use Numpy's `fill_diagonal()` function."
      ]
    },
    {
      "cell_type": "code",
      "metadata": {
        "id": "01YQK_EM1dip",
        "colab": {
          "base_uri": "https://localhost:8080/"
        },
        "outputId": "2bc973f3-673f-47a4-d730-1b11251e9143"
      },
      "source": [
        "# Perform the vectorized operation\n",
        "d = d + np.vectorize(math.log)(rows_sum)\n",
        "\n",
        "# Use numpy's 'fill_diagonal' function to update the diagonal\n",
        "np.fill_diagonal(t_matrix_np, d)\n",
        "print_matrix(t_matrix_np)"
      ],
      "execution_count": 19,
      "outputs": [
        {
          "output_type": "stream",
          "text": [
            "          NN        RB        TO\n",
            "NN  8.458964  0.101596  0.219659\n",
            "RB  0.102992  6.502088  0.245972\n",
            "TO  0.784188  0.213675  4.541167\n"
          ],
          "name": "stdout"
        }
      ]
    },
    {
      "cell_type": "markdown",
      "metadata": {
        "id": "C0KoAks_2WE6"
      },
      "source": [
        "To perform a sanity check that both methods yield the same result you can compare both matrices. Notice that this operation is also vectorized so you will get the equality check for each element in both matrices:"
      ]
    },
    {
      "cell_type": "code",
      "metadata": {
        "id": "H3nYTLBY2Gbx",
        "colab": {
          "base_uri": "https://localhost:8080/"
        },
        "outputId": "07d6f0e0-79d5-43e1-fd3e-c1efcbc60de0"
      },
      "source": [
        "# Check for equality\n",
        "t_matrix_for == t_matrix_np"
      ],
      "execution_count": 20,
      "outputs": [
        {
          "output_type": "execute_result",
          "data": {
            "text/plain": [
              "array([[ True,  True,  True],\n",
              "       [ True,  True,  True],\n",
              "       [ True,  True,  True]])"
            ]
          },
          "metadata": {
            "tags": []
          },
          "execution_count": 20
        }
      ]
    },
    {
      "cell_type": "markdown",
      "metadata": {
        "id": "B21J-1QA2im9"
      },
      "source": [
        "**Congratulations on finishing this lecture notebook!** Now you should be more familiar with some elements used by a POS tagger such as the `transition_counts` dictionary and with working with Numpy.\n",
        "\n",
        "**Keep it up!**"
      ]
    }
  ]
}