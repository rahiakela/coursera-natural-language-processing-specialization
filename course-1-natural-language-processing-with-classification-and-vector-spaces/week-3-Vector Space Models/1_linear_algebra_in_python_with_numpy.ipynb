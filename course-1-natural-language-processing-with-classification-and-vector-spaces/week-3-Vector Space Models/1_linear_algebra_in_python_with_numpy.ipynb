{
  "nbformat": 4,
  "nbformat_minor": 0,
  "metadata": {
    "colab": {
      "name": "1-linear-algebra-in-python-with-numpy.ipynb",
      "provenance": [],
      "toc_visible": true,
      "authorship_tag": "ABX9TyPpyS72W8rV9aB5/sG0JvMr",
      "include_colab_link": true
    },
    "kernelspec": {
      "name": "python3",
      "display_name": "Python 3"
    }
  },
  "cells": [
    {
      "cell_type": "markdown",
      "metadata": {
        "id": "view-in-github",
        "colab_type": "text"
      },
      "source": [
        "<a href=\"https://colab.research.google.com/github/rahiakela/coursera-natural-language-processing-specialization/blob/master/course-1-natural-language-processing-with-classification-and-vector-spaces/week-3-Vector%20Space%20Models/1_linear_algebra_in_python_with_numpy.ipynb\" target=\"_parent\"><img src=\"https://colab.research.google.com/assets/colab-badge.svg\" alt=\"Open In Colab\"/></a>"
      ]
    },
    {
      "cell_type": "markdown",
      "metadata": {
        "id": "j9--ALRMvJGs"
      },
      "source": [
        "# Linear algebra in Python with NumPy"
      ]
    },
    {
      "cell_type": "markdown",
      "metadata": {
        "id": "R8HSz-LMvKE5"
      },
      "source": [
        "In this lab, you will have the opportunity to remember some basic concepts about linear algebra and how to use them in Python.\n",
        "\n",
        "Numpy is one of the most used libraries in Python for arrays manipulation. It adds to Python a set of functions that allows us to operate on large multidimensional arrays with just a few lines. So forget about writing nested loops for adding matrices! With NumPy, this is as simple as adding numbers.\n",
        "\n",
        "Let us import the `numpy` library and assign the alias `np` for it. We will follow this convention in almost every notebook in this course, and you'll see this in many resources outside this course as well."
      ]
    },
    {
      "cell_type": "code",
      "metadata": {
        "id": "Ol2QpFGtw8lZ"
      },
      "source": [
        "import numpy as np  # The swiss knife of the data scientist."
      ],
      "execution_count": 1,
      "outputs": []
    },
    {
      "cell_type": "markdown",
      "metadata": {
        "id": "pFIiffKlxQg2"
      },
      "source": [
        "## Defining lists and numpy arrays"
      ]
    },
    {
      "cell_type": "code",
      "metadata": {
        "id": "QQUjV0iSxCBJ"
      },
      "source": [
        "# Define a python list. It looks like an np array\n",
        "alist = [1, 2, 3, 4, 5, 6]\n",
        "# Define a numpy array\n",
        "narray = np.array([1, 2, 3, 4])"
      ],
      "execution_count": 2,
      "outputs": []
    },
    {
      "cell_type": "markdown",
      "metadata": {
        "id": "pGgPhLYzxnsh"
      },
      "source": [
        "Note the difference between a Python list and a NumPy array."
      ]
    },
    {
      "cell_type": "code",
      "metadata": {
        "id": "yCItMusqxpA8",
        "colab": {
          "base_uri": "https://localhost:8080/"
        },
        "outputId": "4ec4071d-4f3e-4607-f34b-3347445be20f"
      },
      "source": [
        "print(alist)\n",
        "print(narray)\n",
        "\n",
        "print(type(alist))\n",
        "print(type(narray))"
      ],
      "execution_count": 3,
      "outputs": [
        {
          "output_type": "stream",
          "text": [
            "[1, 2, 3, 4, 5, 6]\n",
            "[1 2 3 4]\n",
            "<class 'list'>\n",
            "<class 'numpy.ndarray'>\n"
          ],
          "name": "stdout"
        }
      ]
    },
    {
      "cell_type": "markdown",
      "metadata": {
        "id": "hCFTUPeBx5V9"
      },
      "source": [
        "## Algebraic operators on NumPy arrays vs. Python lists"
      ]
    },
    {
      "cell_type": "markdown",
      "metadata": {
        "id": "t7jWCVwJx54U"
      },
      "source": [
        "One of the common beginner mistakes is to mix up the concepts of NumPy arrays and Python lists. Just observe the next example, where we add two objects of the two mentioned types. Note that the '+' operator on NumPy arrays perform an element-wise addition, while the same operation on Python lists results in a list concatenation. Be careful while coding. Knowing this can save many headaches."
      ]
    },
    {
      "cell_type": "code",
      "metadata": {
        "id": "-I5cQCwEx0Nr",
        "colab": {
          "base_uri": "https://localhost:8080/"
        },
        "outputId": "6aaaa8e6-7f65-46bc-c3dc-eaad4888b1ab"
      },
      "source": [
        "print(narray + narray)\n",
        "print(alist + alist)"
      ],
      "execution_count": 4,
      "outputs": [
        {
          "output_type": "stream",
          "text": [
            "[2 4 6 8]\n",
            "[1, 2, 3, 4, 5, 6, 1, 2, 3, 4, 5, 6]\n"
          ],
          "name": "stdout"
        }
      ]
    },
    {
      "cell_type": "markdown",
      "metadata": {
        "id": "sXyLcVDdyf2l"
      },
      "source": [
        "It is the same as with the product operator, `*`. In the first case, we scale the vector, while in the second case, we concatenate three times the same list."
      ]
    },
    {
      "cell_type": "code",
      "metadata": {
        "id": "c2NwjRliyMIP",
        "colab": {
          "base_uri": "https://localhost:8080/"
        },
        "outputId": "d89d4b82-3af8-4840-8386-01efeeb57a0d"
      },
      "source": [
        "print(narray * 3)\n",
        "print(alist * 3)"
      ],
      "execution_count": 5,
      "outputs": [
        {
          "output_type": "stream",
          "text": [
            "[ 3  6  9 12]\n",
            "[1, 2, 3, 4, 5, 6, 1, 2, 3, 4, 5, 6, 1, 2, 3, 4, 5, 6]\n"
          ],
          "name": "stdout"
        }
      ]
    },
    {
      "cell_type": "markdown",
      "metadata": {
        "id": "IJ6xs6Ajyz3Y"
      },
      "source": [
        "Be aware of the difference because, within the same function,  both types of arrays can appear. \n",
        "Numpy arrays are designed for numerical and matrix operations, while lists are for more general purposes."
      ]
    },
    {
      "cell_type": "markdown",
      "metadata": {
        "id": "cHBBQBVvy0vv"
      },
      "source": [
        "## Matrix or Array of Arrays"
      ]
    },
    {
      "cell_type": "markdown",
      "metadata": {
        "id": "M06EnRsLy6o3"
      },
      "source": [
        "In linear algebra, a matrix is a structure composed of n rows by m columns. That means each row must have the same number of columns. With NumPy, we have two ways to create a matrix:\n",
        "* Creating an array of arrays using `np.array` (recommended). \n",
        "* Creating a matrix using `np.matrix` (still available but might be removed soon).\n",
        "\n",
        "NumPy arrays or lists can be used to initialize a matrix, but the resulting matrix will be composed of NumPy arrays only."
      ]
    },
    {
      "cell_type": "code",
      "metadata": {
        "id": "oTri_ZBYyr8W",
        "colab": {
          "base_uri": "https://localhost:8080/"
        },
        "outputId": "7c10b2d8-b2fb-4db0-9045-5af1f645383c"
      },
      "source": [
        "# Matrix initialized with NumPy arrays\n",
        "npmatrix1 = np.array([narray, narray, narray])\n",
        "# Matrix initialized with lists\n",
        "npmatrix2 = np.array([alist, alist, alist])\n",
        "# Matrix initialized with both types\n",
        "npmatrix3 = np.matrix([narray, [1, 1, 1, 1], narray])\n",
        "\n",
        "print(npmatrix1)\n",
        "print(npmatrix2)\n",
        "print(npmatrix3)"
      ],
      "execution_count": 6,
      "outputs": [
        {
          "output_type": "stream",
          "text": [
            "[[1 2 3 4]\n",
            " [1 2 3 4]\n",
            " [1 2 3 4]]\n",
            "[[1 2 3 4 5 6]\n",
            " [1 2 3 4 5 6]\n",
            " [1 2 3 4 5 6]]\n",
            "[[1 2 3 4]\n",
            " [1 1 1 1]\n",
            " [1 2 3 4]]\n"
          ],
          "name": "stdout"
        }
      ]
    },
    {
      "cell_type": "markdown",
      "metadata": {
        "id": "lsR9e5h00PdX"
      },
      "source": [
        "However, when defining a matrix, be sure that all the rows contain the same number of elements. Otherwise, the linear algebra operations could lead to unexpected results.\n",
        "\n",
        "Analyze the following two examples:"
      ]
    },
    {
      "cell_type": "code",
      "metadata": {
        "id": "4Dr99itl0GMj",
        "colab": {
          "base_uri": "https://localhost:8080/"
        },
        "outputId": "bd6d9820-0d4f-447b-85b6-ee91e1936c2b"
      },
      "source": [
        "# Example 1:\n",
        "\n",
        "# Define a 2x2 matrix\n",
        "okmatrix = np.array([[1, 2], [3, 4]])\n",
        "print(okmatrix)\n",
        "\n",
        "# scaled version of okmatrix\n",
        "print(okmatrix * 2)"
      ],
      "execution_count": 7,
      "outputs": [
        {
          "output_type": "stream",
          "text": [
            "[[1 2]\n",
            " [3 4]]\n",
            "[[2 4]\n",
            " [6 8]]\n"
          ],
          "name": "stdout"
        }
      ]
    },
    {
      "cell_type": "code",
      "metadata": {
        "id": "9FJ1OfL306An",
        "colab": {
          "base_uri": "https://localhost:8080/"
        },
        "outputId": "1a830278-8a97-49d1-d09f-ba9fae98eafd"
      },
      "source": [
        "# Example 2:\n",
        "\n",
        "# Define a matrix. Note the third row contains 3 elements\n",
        "badmatrix = np.array([[1, 2], [3, 4], [5, 6, 7]])\n",
        "print(badmatrix)\n",
        "\n",
        "# It is supposed to scale the whole matrix\n",
        "print(badmatrix * 2)"
      ],
      "execution_count": 9,
      "outputs": [
        {
          "output_type": "stream",
          "text": [
            "[list([1, 2]) list([3, 4]) list([5, 6, 7])]\n",
            "[list([1, 2, 1, 2]) list([3, 4, 3, 4]) list([5, 6, 7, 5, 6, 7])]\n"
          ],
          "name": "stdout"
        },
        {
          "output_type": "stream",
          "text": [
            "/usr/local/lib/python3.6/dist-packages/ipykernel_launcher.py:4: VisibleDeprecationWarning: Creating an ndarray from ragged nested sequences (which is a list-or-tuple of lists-or-tuples-or ndarrays with different lengths or shapes) is deprecated. If you meant to do this, you must specify 'dtype=object' when creating the ndarray\n",
            "  after removing the cwd from sys.path.\n"
          ],
          "name": "stderr"
        }
      ]
    },
    {
      "cell_type": "markdown",
      "metadata": {
        "id": "3CJWRWn51bRf"
      },
      "source": [
        "## Scaling and translating matrices"
      ]
    },
    {
      "cell_type": "markdown",
      "metadata": {
        "id": "0FUb48qu1cKK"
      },
      "source": [
        "Now that you know how to build correct NumPy arrays and matrices, let us see how easy it is to operate with them in Python using the regular algebraic operators like + and -. \n",
        "\n",
        "Operations can be performed between arrays and arrays or between arrays and scalars."
      ]
    },
    {
      "cell_type": "code",
      "metadata": {
        "id": "br0ODQrp3at8",
        "colab": {
          "base_uri": "https://localhost:8080/"
        },
        "outputId": "a249c4fc-d5ff-460c-888f-51fad9445a53"
      },
      "source": [
        "okmatrix"
      ],
      "execution_count": 10,
      "outputs": [
        {
          "output_type": "execute_result",
          "data": {
            "text/plain": [
              "array([[1, 2],\n",
              "       [3, 4]])"
            ]
          },
          "metadata": {
            "tags": []
          },
          "execution_count": 10
        }
      ]
    },
    {
      "cell_type": "code",
      "metadata": {
        "id": "UR1lmM9g1RSx",
        "colab": {
          "base_uri": "https://localhost:8080/"
        },
        "outputId": "2bbbdaf8-6bd8-434e-9691-00bade384c96"
      },
      "source": [
        "# Scale by 2 and translate 1 unit the matrix\n",
        "result = okmatrix * 2 + 1   # For each element in the matrix, multiply by 2 and add 1\n",
        "print(result)"
      ],
      "execution_count": 11,
      "outputs": [
        {
          "output_type": "stream",
          "text": [
            "[[3 5]\n",
            " [7 9]]\n"
          ],
          "name": "stdout"
        }
      ]
    },
    {
      "cell_type": "code",
      "metadata": {
        "id": "CnEkQUYD3X80",
        "colab": {
          "base_uri": "https://localhost:8080/"
        },
        "outputId": "9e71ff06-33ec-4fca-ec9b-cdc8042cee8c"
      },
      "source": [
        "# Add two sum compatible matrices\n",
        "result1 = okmatrix + okmatrix\n",
        "print(result1)\n",
        "\n",
        "# Subtract two sum compatible matrices. This is called the difference vector\n",
        "result2 = okmatrix - okmatrix\n",
        "print(result2)"
      ],
      "execution_count": 12,
      "outputs": [
        {
          "output_type": "stream",
          "text": [
            "[[2 4]\n",
            " [6 8]]\n",
            "[[0 0]\n",
            " [0 0]]\n"
          ],
          "name": "stdout"
        }
      ]
    },
    {
      "cell_type": "markdown",
      "metadata": {
        "id": "x7HaEla433lv"
      },
      "source": [
        "The product operator `*` when used on arrays or matrices indicates element-wise multiplications.\n",
        "Do not confuse it with the dot product."
      ]
    },
    {
      "cell_type": "code",
      "metadata": {
        "id": "_vnrlWdq3zJ3",
        "colab": {
          "base_uri": "https://localhost:8080/"
        },
        "outputId": "80c313c8-85d4-41d4-8f2a-5ce73af5acaf"
      },
      "source": [
        "# Multiply each element by itself\n",
        "result = okmatrix * okmatrix \n",
        "print(result)"
      ],
      "execution_count": 13,
      "outputs": [
        {
          "output_type": "stream",
          "text": [
            "[[ 1  4]\n",
            " [ 9 16]]\n"
          ],
          "name": "stdout"
        }
      ]
    },
    {
      "cell_type": "markdown",
      "metadata": {
        "id": "-oAfRuOz4Knc"
      },
      "source": [
        "## Transpose a matrix"
      ]
    },
    {
      "cell_type": "markdown",
      "metadata": {
        "id": "K6Twl5Yn4LJF"
      },
      "source": [
        "In linear algebra, the transpose of a matrix is an operator that flips a matrix over its diagonal, i.e., the transpose operator switches the row and column indices of the matrix producing another matrix. If the original matrix dimension is n by m, the resulting transposed matrix will be m by n.\n",
        "\n",
        "**T** denotes the transpose operations with NumPy matrices."
      ]
    },
    {
      "cell_type": "code",
      "metadata": {
        "id": "WAC7ehYc4FWC",
        "colab": {
          "base_uri": "https://localhost:8080/"
        },
        "outputId": "26665536-c87e-4f9b-ff71-901548b889f3"
      },
      "source": [
        "matrix3x2 = np.array([[1, 2], [3, 4], [5, 6]]) # Define a 3x2 matrix\n",
        "print('Original matrix 3 x 2')\n",
        "print(matrix3x2)\n",
        "print('Transposed matrix 2 x 3')\n",
        "print(matrix3x2.T)"
      ],
      "execution_count": 14,
      "outputs": [
        {
          "output_type": "stream",
          "text": [
            "Original matrix 3 x 2\n",
            "[[1 2]\n",
            " [3 4]\n",
            " [5 6]]\n",
            "Transposed matrix 2 x 3\n",
            "[[1 3 5]\n",
            " [2 4 6]]\n"
          ],
          "name": "stdout"
        }
      ]
    },
    {
      "cell_type": "markdown",
      "metadata": {
        "id": "JIJWFqrU485y"
      },
      "source": [
        "However, note that the transpose operation does not affect 1D arrays."
      ]
    },
    {
      "cell_type": "code",
      "metadata": {
        "id": "acvCgnlb4z0x",
        "colab": {
          "base_uri": "https://localhost:8080/"
        },
        "outputId": "0d84a719-1881-4a4d-c93c-5c0f4fec21d4"
      },
      "source": [
        "nparray = np.array([1, 2, 3, 4]) # Define an array\n",
        "print('Original array')\n",
        "print(nparray)\n",
        "print('Transposed array')\n",
        "print(nparray.T)"
      ],
      "execution_count": 15,
      "outputs": [
        {
          "output_type": "stream",
          "text": [
            "Original array\n",
            "[1 2 3 4]\n",
            "Transposed array\n",
            "[1 2 3 4]\n"
          ],
          "name": "stdout"
        }
      ]
    },
    {
      "cell_type": "markdown",
      "metadata": {
        "id": "tS6yEyQ_5BLI"
      },
      "source": [
        "Perhaps in this case you wanted to do:"
      ]
    },
    {
      "cell_type": "code",
      "metadata": {
        "id": "87HfcsH15EUa",
        "colab": {
          "base_uri": "https://localhost:8080/"
        },
        "outputId": "b073083c-b7fc-4897-832c-9d97a68ab650"
      },
      "source": [
        "nparray = np.array([[1, 2, 3, 4]]) # Define a 1 x 4 matrix. Note the 2 level of square brackets\n",
        "print('Original array')\n",
        "print(nparray)\n",
        "print('Transposed array')\n",
        "print(nparray.T)"
      ],
      "execution_count": 16,
      "outputs": [
        {
          "output_type": "stream",
          "text": [
            "Original array\n",
            "[[1 2 3 4]]\n",
            "Transposed array\n",
            "[[1]\n",
            " [2]\n",
            " [3]\n",
            " [4]]\n"
          ],
          "name": "stdout"
        }
      ]
    },
    {
      "cell_type": "markdown",
      "metadata": {
        "id": "O8GCBF3o5SEJ"
      },
      "source": [
        "## Get the norm of a nparray or matrix"
      ]
    },
    {
      "cell_type": "markdown",
      "metadata": {
        "id": "RvztcRUD5So5"
      },
      "source": [
        "In linear algebra, the norm of an n-dimensional vector $\\vec a$   is defined as:\n",
        "\n",
        "$$ norm(\\vec a) = ||\\vec a|| = \\sqrt {\\sum_{i=1}^{n} a_i ^ 2}$$\n",
        "\n",
        "Calculating the norm of vector or even of a matrix is a general operation when dealing with data. Numpy has a set of functions for linear algebra in the subpackage **linalg**, including the **norm** function. Let us see how to get the norm a given array or matrix:"
      ]
    },
    {
      "cell_type": "code",
      "metadata": {
        "id": "IypwIZFj5H1w",
        "colab": {
          "base_uri": "https://localhost:8080/"
        },
        "outputId": "f0a94681-f039-49d6-ada6-0b4c1e5a3609"
      },
      "source": [
        "# Define an array\n",
        "nparray1 = np.array([1, 2, 3, 4])\n",
        "norm1 = np.linalg.norm(nparray1)\n",
        "\n",
        "# Define a 2 x 2 matrix. Note the 2 level of square brackets\n",
        "nparray2 = np.array([[1, 2], [3, 4]])\n",
        "norm2 = np.linalg.norm(nparray2)\n",
        "\n",
        "print(norm1)\n",
        "print(norm2)"
      ],
      "execution_count": 17,
      "outputs": [
        {
          "output_type": "stream",
          "text": [
            "5.477225575051661\n",
            "5.477225575051661\n"
          ],
          "name": "stdout"
        }
      ]
    },
    {
      "cell_type": "code",
      "metadata": {
        "id": "VGyDa8OIBd1b",
        "outputId": "c366dce8-3969-4429-f119-25c1d70cfa4d",
        "colab": {
          "base_uri": "https://localhost:8080/"
        }
      },
      "source": [
        "print(np.linalg.norm(nparray1, axis=0))"
      ],
      "execution_count": 19,
      "outputs": [
        {
          "output_type": "stream",
          "text": [
            "5.477225575051661\n"
          ],
          "name": "stdout"
        }
      ]
    },
    {
      "cell_type": "code",
      "metadata": {
        "id": "czRVlRDxBsLV"
      },
      "source": [
        "# print(np.linalg.norm(nparray1, axis=1))  # Error: AxisError: axis 1 is out of bounds for array of dimension 1"
      ],
      "execution_count": null,
      "outputs": []
    },
    {
      "cell_type": "code",
      "metadata": {
        "id": "jsD2k_oTB6km",
        "outputId": "5e0a0c42-94e6-467e-8221-18f46be856d0",
        "colab": {
          "base_uri": "https://localhost:8080/"
        }
      },
      "source": [
        "print(np.linalg.norm(nparray2, axis=0))"
      ],
      "execution_count": 21,
      "outputs": [
        {
          "output_type": "stream",
          "text": [
            "[3.74165739 3.74165739]\n"
          ],
          "name": "stdout"
        }
      ]
    },
    {
      "cell_type": "code",
      "metadata": {
        "id": "hNS8GoxyB9ZF",
        "outputId": "982d3d18-63f8-49e9-ca35-e497cc68e3fa",
        "colab": {
          "base_uri": "https://localhost:8080/"
        }
      },
      "source": [
        "print(np.linalg.norm(nparray2, axis=1))"
      ],
      "execution_count": 22,
      "outputs": [
        {
          "output_type": "stream",
          "text": [
            "[1.41421356 2.82842712 4.24264069]\n"
          ],
          "name": "stdout"
        }
      ]
    },
    {
      "cell_type": "markdown",
      "metadata": {
        "id": "8Plt4NRC6ZSv"
      },
      "source": [
        "Note that without any other parameter, the norm function treats the matrix as being just an array of numbers.\n",
        "However, it is possible to get the norm by rows or by columns. The **axis** parameter controls the form of the operation: \n",
        "* **axis=0** means get the norm of each column\n",
        "* **axis=1** means get the norm of each row. "
      ]
    },
    {
      "cell_type": "code",
      "metadata": {
        "id": "10YCBX7B6Sp8",
        "colab": {
          "base_uri": "https://localhost:8080/"
        },
        "outputId": "70adcd66-ab2a-4790-c0d9-3c17574931f3"
      },
      "source": [
        "# Define a 3 x 2 matrix. \n",
        "nparray2 = np.array([[1, 1], [2, 2], [3, 3]])\n",
        "\n",
        "# Get the norm for each column. Returns 2 elements\n",
        "normByCols = np.linalg.norm(nparray2, axis=0)\n",
        "# get the norm for each row. Returns 3 elements\n",
        "normByRows = np.linalg.norm(nparray2, axis=1)\n",
        "\n",
        "print(normByCols)\n",
        "print(normByRows)"
      ],
      "execution_count": 18,
      "outputs": [
        {
          "output_type": "stream",
          "text": [
            "[3.74165739 3.74165739]\n",
            "[1.41421356 2.82842712 4.24264069]\n"
          ],
          "name": "stdout"
        }
      ]
    },
    {
      "cell_type": "markdown",
      "metadata": {
        "id": "PIZhVlmE7TYb"
      },
      "source": [
        "However, there are more ways to get the norm of a matrix in Python.\n",
        "For that, let us see all the different ways of defining the dot product between 2 arrays."
      ]
    },
    {
      "cell_type": "markdown",
      "metadata": {
        "id": "_aLxsk8E7UUM"
      },
      "source": [
        "## The dot product between arrays: All the flavors"
      ]
    },
    {
      "cell_type": "markdown",
      "metadata": {
        "id": "UkeFew4r7W9F"
      },
      "source": [
        "The dot product or scalar product or inner product between two vectors $\\vec a$ and $\\vec b$ of the same size is defined as:\n",
        "$$\\vec a \\cdot \\vec b = \\sum_{i=1}^{n} a_i b_i$$\n",
        "\n",
        "The dot product takes two vectors and returns a single number."
      ]
    },
    {
      "cell_type": "code",
      "metadata": {
        "id": "PtmONof77I3B",
        "colab": {
          "base_uri": "https://localhost:8080/"
        },
        "outputId": "7e49c896-af7d-4a56-ec73-40ef9737bdc6"
      },
      "source": [
        "nparray1 = np.array([0, 1, 2, 3]) # Define an array\n",
        "nparray2 = np.array([4, 5, 6, 7]) # Define an array\n",
        "\n",
        "# Recommended way\n",
        "flavor1 = np.dot(nparray1, nparray2)\n",
        "print(flavor1)\n",
        "\n",
        "# Ok way\n",
        "flavor2 = np.sum(nparray1 * nparray2)\n",
        "print(flavor2)\n",
        "\n",
        "# Geeks way\n",
        "flavor3 = nparray1 @ nparray2\n",
        "print(flavor3)\n",
        "\n",
        "# Noobs way: As you never should do\n",
        "flavor4 = 0\n",
        "for a, b in zip(nparray1, nparray2):\n",
        "  flavor4 += a * b\n",
        "print(flavor4)"
      ],
      "execution_count": 23,
      "outputs": [
        {
          "output_type": "stream",
          "text": [
            "38\n",
            "38\n",
            "38\n",
            "38\n"
          ],
          "name": "stdout"
        }
      ]
    },
    {
      "cell_type": "markdown",
      "metadata": {
        "id": "wkdinL0Q81Pu"
      },
      "source": [
        "**We strongly recommend using np.dot, since it is the only method that accepts arrays and lists without problems**"
      ]
    },
    {
      "cell_type": "code",
      "metadata": {
        "id": "0-j9-JZ48wtX",
        "colab": {
          "base_uri": "https://localhost:8080/"
        },
        "outputId": "f82e80ad-dcfd-4c1f-dadb-72059db78034"
      },
      "source": [
        "# Dot product on nparrays\n",
        "norm1 = np.dot(np.array([1, 2]), np.array([3, 4]))\n",
        "# Dot product on python lists\n",
        "norm2 = np.dot([1, 2], [3, 4])\n",
        "print(norm1, '=', norm1)"
      ],
      "execution_count": 24,
      "outputs": [
        {
          "output_type": "stream",
          "text": [
            "11 = 11\n"
          ],
          "name": "stdout"
        }
      ]
    },
    {
      "cell_type": "markdown",
      "metadata": {
        "id": "t0VJeH6b9Wbf"
      },
      "source": [
        "Finally, note that the norm is the square root of the dot product of the vector with itself. That gives many options to write that function:\n",
        "\n",
        "$$ norm(\\vec a) = ||\\vec a|| = \\sqrt {\\sum_{i=1}^{n} a_i ^ 2} = \\sqrt {a \\cdot a}$$\n"
      ]
    },
    {
      "cell_type": "markdown",
      "metadata": {
        "id": "Xg47PKbk9f_N"
      },
      "source": [
        "## Sums by rows or columns"
      ]
    },
    {
      "cell_type": "markdown",
      "metadata": {
        "id": "XTAZW2uf9gj-"
      },
      "source": [
        "Another general operation performed on matrices is the sum by rows or columns.\n",
        "Just as we did for the function norm, the **axis** parameter controls the form of the operation:\n",
        "* **axis=0** means to sum the elements of each column together. \n",
        "* **axis=1** means to sum the elements of each row together."
      ]
    },
    {
      "cell_type": "code",
      "metadata": {
        "id": "CJVYy90G9TTw",
        "colab": {
          "base_uri": "https://localhost:8080/"
        },
        "outputId": "e5d2986f-172a-464c-b984-36b53b260430"
      },
      "source": [
        "# Define a 3 x 2 matrix.\n",
        "nparray2 = np.array([[1, -1], [2, -2], [3, -3]]) \n",
        "\n",
        "# Get the sum for each column. Returns 2 elements\n",
        "sumByCols = np.sum(nparray2, axis=0)\n",
        "# get the sum for each row. Returns 3 elements\n",
        "sumByRows = np.sum(nparray2, axis=1)\n",
        "\n",
        "print('Sum by columns: ')\n",
        "print(sumByCols)\n",
        "print('Sum by rows:')\n",
        "print(sumByRows)"
      ],
      "execution_count": 25,
      "outputs": [
        {
          "output_type": "stream",
          "text": [
            "Sum by columns: \n",
            "[ 6 -6]\n",
            "Sum by rows:\n",
            "[0 0 0]\n"
          ],
          "name": "stdout"
        }
      ]
    },
    {
      "cell_type": "markdown",
      "metadata": {
        "id": "YNtO7p5Z-H_0"
      },
      "source": [
        "## Get the mean by rows or columns"
      ]
    },
    {
      "cell_type": "markdown",
      "metadata": {
        "id": "C6rLW2Li-JFS"
      },
      "source": [
        "As with the sums, one can get the **mean** by rows or columns using the **axis** parameter. Just remember that the mean is the sum of the elements divided by the length of the vector\n",
        "$$ mean(\\vec a) = \\frac {\\sqrt {\\sum_{i=1}^{n} a_i }}{n}$$"
      ]
    },
    {
      "cell_type": "code",
      "metadata": {
        "id": "-CY1Z0gU-DQB",
        "colab": {
          "base_uri": "https://localhost:8080/"
        },
        "outputId": "34e8aad6-b913-4cd6-a4f4-849527e42290"
      },
      "source": [
        "# Define a 3 x 2 matrix. Chosen to be a matrix with 0 mean\n",
        "nparray2 = np.array([[1, -1], [2, -2], [3, -3]])\n",
        "\n",
        "# Get the mean for the whole matrix\n",
        "mean = np.mean(nparray2)\n",
        "# Get the mean for each column. Returns 2 elements\n",
        "meanByCols = np.mean(nparray2, axis=0)\n",
        "# get the mean for each row. Returns 3 elements\n",
        "meanByRows = np.mean(nparray2, axis=1)\n",
        "\n",
        "print('Matrix mean: ')\n",
        "print(mean)\n",
        "print('Mean by columns: ')\n",
        "print(meanByCols)\n",
        "print('Mean by rows:')\n",
        "print(meanByRows)"
      ],
      "execution_count": 26,
      "outputs": [
        {
          "output_type": "stream",
          "text": [
            "Matrix mean: \n",
            "0.0\n",
            "Mean by columns: \n",
            "[ 2. -2.]\n",
            "Mean by rows:\n",
            "[0. 0. 0.]\n"
          ],
          "name": "stdout"
        }
      ]
    },
    {
      "cell_type": "markdown",
      "metadata": {
        "id": "fJZTbhJc-1l2"
      },
      "source": [
        "## Center the columns of a matrix"
      ]
    },
    {
      "cell_type": "markdown",
      "metadata": {
        "id": "33g170w2-2ID"
      },
      "source": [
        "Centering the attributes of a data matrix is another essential preprocessing step. Centering a matrix means to remove the column mean to each element inside the column. The sum by columns of a centered matrix is always 0.\n",
        "\n",
        "With NumPy, this process is as simple as this:"
      ]
    },
    {
      "cell_type": "code",
      "metadata": {
        "id": "8YUtTm6P-xr7",
        "colab": {
          "base_uri": "https://localhost:8080/"
        },
        "outputId": "5a5e8793-1eb9-4fce-c6c5-cc55f1626d41"
      },
      "source": [
        "# Define a 3 x 2 matrix.\n",
        "nparray2 = np.array([[1, 1], [2, 2], [3, 3]])\n",
        "\n",
        "# Remove the mean for each column\n",
        "nparrayCentered = nparray2 - np.mean(nparray2, axis=0)\n",
        "\n",
        "print('Original matrix')\n",
        "print(nparray2)\n",
        "print('Centered by columns matrix')\n",
        "print(nparrayCentered)\n",
        "\n",
        "print('New mean by column')\n",
        "print(nparrayCentered.mean(axis=0))"
      ],
      "execution_count": 27,
      "outputs": [
        {
          "output_type": "stream",
          "text": [
            "Original matrix\n",
            "[[1 1]\n",
            " [2 2]\n",
            " [3 3]]\n",
            "Centered by columns matrix\n",
            "[[-1. -1.]\n",
            " [ 0.  0.]\n",
            " [ 1.  1.]]\n",
            "New mean by column\n",
            "[0. 0.]\n"
          ],
          "name": "stdout"
        }
      ]
    },
    {
      "cell_type": "markdown",
      "metadata": {
        "id": "JCD2HFQ-_T6Z"
      },
      "source": [
        "**Warning:** This process does not apply for row centering. In such cases, consider transposing the matrix, centering by columns, and then transpose back the result. \n",
        "\n",
        "See the example below:"
      ]
    },
    {
      "cell_type": "code",
      "metadata": {
        "id": "e5D_tFPd_OJL",
        "colab": {
          "base_uri": "https://localhost:8080/"
        },
        "outputId": "bf2c3a37-6fbb-4b30-ec23-6cfb641d49c0"
      },
      "source": [
        "nparray2 = np.array([[1, 3], [2, 4], [3, 5]]) # Define a 3 x 2 matrix. \n",
        "\n",
        "nparrayCentered = nparray2.T - np.mean(nparray2, axis=1) # Remove the mean for each row\n",
        "nparrayCentered = nparrayCentered.T # Transpose back the result\n",
        "\n",
        "print('Original matrix')\n",
        "print(nparray2)\n",
        "print('Centered by columns matrix')\n",
        "print(nparrayCentered)\n",
        "\n",
        "print('New mean by rows')\n",
        "print(nparrayCentered.mean(axis=1))"
      ],
      "execution_count": 28,
      "outputs": [
        {
          "output_type": "stream",
          "text": [
            "Original matrix\n",
            "[[1 3]\n",
            " [2 4]\n",
            " [3 5]]\n",
            "Centered by columns matrix\n",
            "[[-1.  1.]\n",
            " [-1.  1.]\n",
            " [-1.  1.]]\n",
            "New mean by rows\n",
            "[0. 0. 0.]\n"
          ],
          "name": "stdout"
        }
      ]
    },
    {
      "cell_type": "markdown",
      "metadata": {
        "id": "SmEfOuwd_dc4"
      },
      "source": [
        "Note that some operations can be performed using static functions like `np.sum()` or `np.mean()`, or by using the inner functions of the array"
      ]
    },
    {
      "cell_type": "code",
      "metadata": {
        "id": "Q9toN9IS_aSR",
        "colab": {
          "base_uri": "https://localhost:8080/"
        },
        "outputId": "f57090a0-2813-4be6-a79e-11b421d72d2f"
      },
      "source": [
        "nparray2 = np.array([[1, 3], [2, 4], [3, 5]]) # Define a 3 x 2 matrix. \n",
        "\n",
        "mean1 = np.mean(nparray2) # Static way\n",
        "mean2 = nparray2.mean()   # Dynamic way\n",
        "\n",
        "print(mean1, ' == ', mean2)"
      ],
      "execution_count": 29,
      "outputs": [
        {
          "output_type": "stream",
          "text": [
            "3.0  ==  3.0\n"
          ],
          "name": "stdout"
        }
      ]
    },
    {
      "cell_type": "markdown",
      "metadata": {
        "id": "dfEPEg7Q_hKT"
      },
      "source": [
        "Even if they are equivalent, we recommend the use of the static way always.\n",
        "\n",
        "**Congratulations! You have successfully reviewed vector and matrix operations with Numpy!**"
      ]
    }
  ]
}