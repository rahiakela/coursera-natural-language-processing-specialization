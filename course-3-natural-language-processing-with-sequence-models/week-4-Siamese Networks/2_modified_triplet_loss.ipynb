{
  "nbformat": 4,
  "nbformat_minor": 0,
  "metadata": {
    "colab": {
      "name": "2-modified-triplet-loss.ipynb",
      "provenance": [],
      "toc_visible": true,
      "authorship_tag": "ABX9TyP2z/v9ok9OKEtJmsg+X46v",
      "include_colab_link": true
    },
    "kernelspec": {
      "name": "python3",
      "display_name": "Python 3"
    }
  },
  "cells": [
    {
      "cell_type": "markdown",
      "metadata": {
        "id": "view-in-github",
        "colab_type": "text"
      },
      "source": [
        "<a href=\"https://colab.research.google.com/github/rahiakela/coursera-natural-language-processing-specialization/blob/master/course-3-natural-language-processing-with-sequence-models/week-4-Siamese%20Networks/2_modified_triplet_loss.ipynb\" target=\"_parent\"><img src=\"https://colab.research.google.com/assets/colab-badge.svg\" alt=\"Open In Colab\"/></a>"
      ]
    },
    {
      "cell_type": "markdown",
      "metadata": {
        "id": "fNt72Clu8jyx"
      },
      "source": [
        "##  Modified Triplet Loss"
      ]
    },
    {
      "cell_type": "markdown",
      "metadata": {
        "id": "Dil0lfdx8rvB"
      },
      "source": [
        "In this notebook you'll see how to calculate the full triplet loss, step by step, including the mean negative and the closest negative. \n",
        "\n",
        "You'll also calculate the matrix of similarity scores."
      ]
    },
    {
      "cell_type": "markdown",
      "metadata": {
        "id": "R3SvrBrk8sPP"
      },
      "source": [
        "## Background"
      ]
    },
    {
      "cell_type": "markdown",
      "metadata": {
        "id": "O9jpHx_b8yXu"
      },
      "source": [
        "This is the original triplet loss function:\n",
        "\n",
        "$$\\mathcal{L_\\mathrm{Original}} = \\max{(\\mathrm{s}(A,N) -\\mathrm{s}(A,P) +\\alpha, 0)}$$\n",
        "\n",
        "It can be improved by including the mean negative and the closest negative, to create a new full loss function. The inputs are the Anchor $\\mathrm{A}$, Positive $\\mathrm{P}$ and Negative $\\mathrm{N}$.\n",
        "\n",
        "$$\\mathcal{L_\\mathrm{1}} = \\max{(mean\\_neg -\\mathrm{s}(A,P)  +\\alpha, 0)}$$\n",
        "\n",
        "$$\\mathcal{L_\\mathrm{2}} = \\max{(closest\\_neg -\\mathrm{s}(A,P)  +\\alpha, 0)}$$\n",
        "\n",
        "$$\\mathcal{L_\\mathrm{Full}} = \\mathcal{L_\\mathrm{1}} + \\mathcal{L_\\mathrm{2}}$$\n",
        "\n",
        "Let me show you what that means exactly, and how to calculate each step."
      ]
    },
    {
      "cell_type": "code",
      "metadata": {
        "id": "71ByNPY683X6"
      },
      "source": [
        "import numpy as np"
      ],
      "execution_count": 1,
      "outputs": []
    },
    {
      "cell_type": "markdown",
      "metadata": {
        "id": "gJ_dQWDV9YMT"
      },
      "source": [
        "## Similarity Scores"
      ]
    },
    {
      "cell_type": "markdown",
      "metadata": {
        "id": "Eyt7aH1s9YrE"
      },
      "source": [
        "The first step is to calculate the matrix of similarity scores using cosine similarity so that you can look up $\\mathrm{s}(A,P)$, $\\mathrm{s}(A,N)$ as needed for the loss formulas."
      ]
    },
    {
      "cell_type": "markdown",
      "metadata": {
        "id": "XGjGnULv9a9a"
      },
      "source": [
        "### Two Vectors"
      ]
    },
    {
      "cell_type": "markdown",
      "metadata": {
        "id": "11XgDkKd9dHc"
      },
      "source": [
        "First I'll show you how to calculate the similarity score, using cosine similarity, for 2 vectors.\n",
        "\n",
        "$\\mathrm{s}(v_1,v_2) = \\mathrm{cosine \\ similarity}(v_1,v_2) = \\frac{v_1 \\cdot v_2}{||v_1||~||v_2||}$\n",
        "* Try changing the values in the second vector to see how it changes the cosine similarity."
      ]
    },
    {
      "cell_type": "code",
      "metadata": {
        "id": "S9zY7uOh9Vd0",
        "colab": {
          "base_uri": "https://localhost:8080/"
        },
        "outputId": "bf4533c3-0c53-49d9-b50f-bca61a9e26c6"
      },
      "source": [
        "# Two vector example\n",
        "\n",
        "# Input data\n",
        "print(\"-- Inputs --\")\n",
        "v1 = np.array([1, 2, 3], dtype=float)\n",
        "v2 = np.array([100, 2, 3.9])  # notice the 3rd element is offset by 0.5\n",
        "\n",
        "### START CODE HERE ###\n",
        "# Try modifying the vector v2 to see how it impacts the cosine similarity\n",
        "# v2 = v1                   # identical vector\n",
        "# v2 = v1 * -1              # opposite vector\n",
        "# v2 = np.array([0,-42,1])  # random example\n",
        "### END CODE HERE ###\n",
        "print(\"v1 :\", v1)\n",
        "print(\"v2 :\", v2, \"\\n\")\n",
        "\n",
        "# Similarity score\n",
        "def cosine_similarity(v1, v2):\n",
        "  numerator = np.dot(v1, v2)\n",
        "  denominator = np.sqrt(np.dot(v1, v1)) * np.sqrt(np.dot(v2, v2))\n",
        "\n",
        "  return numerator / denominator\n",
        "\n",
        "print(\"-- Outputs --\")\n",
        "print(\"cosine similarity :\", cosine_similarity(v1, v2))"
      ],
      "execution_count": 2,
      "outputs": [
        {
          "output_type": "stream",
          "text": [
            "-- Inputs --\n",
            "v1 : [1. 2. 3.]\n",
            "v2 : [100.    2.    3.9] \n",
            "\n",
            "-- Outputs --\n",
            "cosine similarity : 0.30892467710442195\n"
          ],
          "name": "stdout"
        }
      ]
    },
    {
      "cell_type": "markdown",
      "metadata": {
        "id": "5WXPYZTPAJ65"
      },
      "source": [
        "### Two Batches of Vectors"
      ]
    },
    {
      "cell_type": "markdown",
      "metadata": {
        "id": "-UVfkfeuAKdk"
      },
      "source": [
        "Now i'll show you how to calculate the similarity scores, using cosine similarity, for 2 batches of vectors. These are rows of individual vectors, just like in the example above, but stacked vertically into a matrix. They would look like the image below for a batch size (row count) of 4 and embedding size (column count) of 5.\n",
        "\n",
        "The data is setup so that $v_{1\\_1}$ and $v_{2\\_1}$ represent duplicate inputs, but they are not duplicates with any other rows in the batch. This means $v_{1\\_1}$ and $v_{2\\_1}$ (green and green) have more similar vectors than say $v_{1\\_1}$ and $v_{2\\_2}$ (green and magenta).\n",
        "\n",
        "I'll show you two different methods for calculating the matrix of similarities from 2 batches of vectors.\n",
        "\n",
        "<img src='https://github.com/rahiakela/img-repo/blob/master/deeplearning.ai-NLPS/v1v2_stacked.png?raw=1' width='800'/>"
      ]
    },
    {
      "cell_type": "code",
      "metadata": {
        "id": "4nCKWHqp_opR",
        "colab": {
          "base_uri": "https://localhost:8080/"
        },
        "outputId": "c75abc87-a647-45ac-cfd5-db23d9d6d0b9"
      },
      "source": [
        "# Two batches of vectors example\n",
        "\n",
        "# Input data\n",
        "print(\"-- Inputs --\")\n",
        "v1_1 = np.array([1, 2, 3])\n",
        "v1_2 = np.array([9, 8, 7])\n",
        "v1_3 = np.array([-1, -4, -2])\n",
        "v1_4 = np.array([1, -7, 2])\n",
        "v1 = np.vstack([v1_1, v1_2, v1_3, v1_4])\n",
        "print(\"v1 :\")\n",
        "print(v1, \"\\n\")\n",
        "\n",
        "# add some noise to create approximate duplicate\n",
        "v2_1 = v1_1 + np.random.normal(0, 2, 3)\n",
        "v2_2 = v1_2 + np.random.normal(0, 2, 3)\n",
        "v2_3 = v1_3 + np.random.normal(0, 2, 3)\n",
        "v2_4 = v1_4 + np.random.normal(0, 2, 3)\n",
        "v2 = np.vstack([v2_1, v2_2, v2_3, v2_4])\n",
        "print(\"v2 :\")\n",
        "print(v2, \"\\n\")\n",
        "\n",
        "# Batch sizes must match\n",
        "b = len(v1)\n",
        "print(\"batch sizes match :\", b==len(v2), \"\\n\")\n",
        "\n",
        "# Similarity scores\n",
        "print(\"-- Outputs --\")\n",
        "# Option 1 : nested loops and the cosine similarity function\n",
        "sim_1 = np.zeros([b, b])  #  empty array to take similarity scores\n",
        "for row in range(0, sim_1.shape[0]):\n",
        "  for col in range(sim_1.shape[1]):\n",
        "    sim_1[row, col] = cosine_similarity(v1[row], v2[col])\n",
        "print(\"option 1 : loop\")\n",
        "print(sim_1, \"\\n\")\n",
        "\n",
        "# Option 2 : vector normalization and dot product\n",
        "def norm(x):\n",
        "  return x / np.sqrt(np.sum(x * x, axis=1, keepdims=True))\n",
        "\n",
        "sim_2 = np.dot(norm(v1), norm(v2).T)\n",
        "print(\"option 2 : vec norm & dot product\")\n",
        "print(sim_2, \"\\n\")\n",
        "\n",
        "# Check\n",
        "print(\"outputs are the same :\", np.allclose(sim_1, sim_2))"
      ],
      "execution_count": 3,
      "outputs": [
        {
          "output_type": "stream",
          "text": [
            "-- Inputs --\n",
            "v1 :\n",
            "[[ 1  2  3]\n",
            " [ 9  8  7]\n",
            " [-1 -4 -2]\n",
            " [ 1 -7  2]] \n",
            "\n",
            "v2 :\n",
            "[[-0.01241022  1.93225039  1.16090514]\n",
            " [ 9.31865873  8.99255637  8.47515675]\n",
            " [-3.25751901 -3.81920348  3.0094833 ]\n",
            " [ 2.89178117 -5.12733366  1.6291067 ]] \n",
            "\n",
            "batch sizes match : True \n",
            "\n",
            "-- Outputs --\n",
            "option 1 : loop\n",
            "[[ 0.86962285  0.91055454 -0.08527677 -0.10832321]\n",
            " [ 0.74759697  0.99799325 -0.47602041 -0.04218621]\n",
            " [-0.97176499 -0.87755186  0.46663103  0.51302184]\n",
            " [-0.67711293 -0.32250625  0.68581038  0.93667858]] \n",
            "\n",
            "option 2 : vec norm & dot product\n",
            "[[ 0.86962285  0.91055454 -0.08527677 -0.10832321]\n",
            " [ 0.74759697  0.99799325 -0.47602041 -0.04218621]\n",
            " [-0.97176499 -0.87755186  0.46663103  0.51302184]\n",
            " [-0.67711293 -0.32250625  0.68581038  0.93667858]] \n",
            "\n",
            "outputs are the same : True\n"
          ],
          "name": "stdout"
        }
      ]
    },
    {
      "cell_type": "markdown",
      "metadata": {
        "id": "Z10J8lVmFJzE"
      },
      "source": [
        "## Hard Negative Mining"
      ]
    },
    {
      "cell_type": "markdown",
      "metadata": {
        "id": "s4pzSd-tFKUW"
      },
      "source": [
        "I'll now show you how to calculate the mean negative $mean\\_neg$ and the closest negative $close\\_neg$ used in calculating $\\mathcal{L_\\mathrm{1}}$ and $\\mathcal{L_\\mathrm{2}}$.\n",
        "\n",
        "\n",
        "$$\\mathcal{L_\\mathrm{1}} = \\max{(mean\\_neg -\\mathrm{s}(A,P)  +\\alpha, 0)}$$\n",
        "\n",
        "$$\\mathcal{L_\\mathrm{2}} = \\max{(closest\\_neg -\\mathrm{s}(A,P)  +\\alpha, 0)}$$\n",
        "\n",
        "You'll do this using the matrix of similarity scores you already know how to make, like the example below for a batch size of 4. The diagonal of the matrix contains all the $\\mathrm{s}(A,P)$ values, similarities from duplicate question pairs (aka Positives). This is an important attribute for the calculations to follow.\n",
        "\n",
        "<img src='https://github.com/rahiakela/img-repo/blob/master/deeplearning.ai-NLPS/ss_matrix.png?raw=1' width='800'/>\n",
        "\n",
        "**Mean Negative**\n",
        "\n",
        "$mean\\_neg$ is the average of the off diagonals, the $\\mathrm{s}(A,N)$ values, for each row.\n",
        "\n",
        "**Closest Negative**\n",
        "\n",
        "$closest\\_neg$ is the largest off diagonal value, $\\mathrm{s}(A,N)$, that is smaller than the diagonal $\\mathrm{s}(A,P)$ for each row.\n",
        "* Try using a different matrix of similarity scores. "
      ]
    },
    {
      "cell_type": "code",
      "metadata": {
        "id": "Fa2KrI5ZFDD0",
        "colab": {
          "base_uri": "https://localhost:8080/"
        },
        "outputId": "b1da7f9c-1050-40b5-bcb3-68495dd63fd6"
      },
      "source": [
        "# Hardcoded matrix of similarity scores\n",
        "sim_hardcoded = np.array([\n",
        "        [0.9, -0.8, 0.3, -0.5],\n",
        "        [-0.4, 0.5, 0.1, -0.1],\n",
        "        [0.3, 0.1, -0.4, -0.8],\n",
        "        [-0.5, -0.2, -0.7, 0.5],\n",
        "    ]\n",
        ")\n",
        "\n",
        "sim = sim_hardcoded\n",
        "\n",
        "### START CODE HERE ###\n",
        "# Try using different values for the matrix of similarity scores\n",
        "# sim = 2 * np.random.random_sample((b,b)) -1   # random similarity scores between -1 and 1\n",
        "# sim = sim_2                                   # the matrix calculated previously\n",
        "### END CODE HERE ###\n",
        "\n",
        "# Batch size\n",
        "b = sim.shape[0]\n",
        "\n",
        "print(\"-- Inputs --\")\n",
        "print(\"sim :\")\n",
        "print(sim)\n",
        "print(\"shape :\", sim.shape, \"\\n\")\n",
        "\n",
        "# Positives\n",
        "# All the s(A,P) values : similarities from duplicate question pairs (aka Positives)\n",
        "# These are along the diagonal\n",
        "sim_ap = np.diag(sim)\n",
        "print(\"sim_ap :\")\n",
        "print(np.diag(sim_ap), \"\\n\")\n",
        "\n",
        "# Negatives\n",
        "# all the s(A,N) values : similarities the non duplicate question pairs (aka Negatives)\n",
        "# These are in the off diagonals\n",
        "sim_an = sim - np.diag(sim_ap)\n",
        "print(\"sim_an :\")\n",
        "print(sim_an, \"\\n\")\n",
        "\n",
        "print(\"-- Outputs --\")\n",
        "# Mean negative\n",
        "# Average of the s(A,N) values for each row\n",
        "mean_neg = np.sum(sim_an, axis=1, keepdims=True) / (b - 1)\n",
        "print(\"mean_neg :\")\n",
        "print(mean_neg, \"\\n\")\n",
        "\n",
        "# Closest negative\n",
        "# Max s(A,N) that is <= s(A,P) for each row\n",
        "mask_1 = np.identity(b) == 1              # mask to exclude the diagonal\n",
        "mask_2 = sim_an > sim_ap.reshape(b, 1)    # mask to exclude sim_an > sim_ap\n",
        "mask = mask_1 | mask_2\n",
        "sim_an_masked = np.copy(sim_an)           # create a copy to preserve sim_an\n",
        "sim_an_masked[mask] = -2\n",
        "\n",
        "closest_neg = np.max(sim_an_masked, axis=1, keepdims=True)\n",
        "print(\"closest_neg :\")\n",
        "print(closest_neg, \"\\n\")"
      ],
      "execution_count": 4,
      "outputs": [
        {
          "output_type": "stream",
          "text": [
            "-- Inputs --\n",
            "sim :\n",
            "[[ 0.9 -0.8  0.3 -0.5]\n",
            " [-0.4  0.5  0.1 -0.1]\n",
            " [ 0.3  0.1 -0.4 -0.8]\n",
            " [-0.5 -0.2 -0.7  0.5]]\n",
            "shape : (4, 4) \n",
            "\n",
            "sim_ap :\n",
            "[[ 0.9  0.   0.   0. ]\n",
            " [ 0.   0.5  0.   0. ]\n",
            " [ 0.   0.  -0.4  0. ]\n",
            " [ 0.   0.   0.   0.5]] \n",
            "\n",
            "sim_an :\n",
            "[[ 0.  -0.8  0.3 -0.5]\n",
            " [-0.4  0.   0.1 -0.1]\n",
            " [ 0.3  0.1  0.  -0.8]\n",
            " [-0.5 -0.2 -0.7  0. ]] \n",
            "\n",
            "-- Outputs --\n",
            "mean_neg :\n",
            "[[-0.33333333]\n",
            " [-0.13333333]\n",
            " [-0.13333333]\n",
            " [-0.46666667]] \n",
            "\n",
            "closest_neg :\n",
            "[[ 0.3]\n",
            " [ 0.1]\n",
            " [-0.8]\n",
            " [-0.2]] \n",
            "\n"
          ],
          "name": "stdout"
        }
      ]
    },
    {
      "cell_type": "markdown",
      "metadata": {
        "id": "cmzmmg569-oX"
      },
      "source": [
        "## The Loss Functions"
      ]
    },
    {
      "cell_type": "markdown",
      "metadata": {
        "id": "8oLOqWk2-Awo"
      },
      "source": [
        "The last step is to calculate the loss functions.\n",
        "\n",
        "$$\\mathcal{L_\\mathrm{1}} = \\max{(mean\\_neg -\\mathrm{s}(A,P)  +\\alpha, 0)}$$\n",
        "\n",
        "$$\\mathcal{L_\\mathrm{2}} = \\max{(closest\\_neg -\\mathrm{s}(A,P)  +\\alpha, 0)}$$\n",
        "\n",
        "$$\\mathcal{L_\\mathrm{Full}} = \\mathcal{L_\\mathrm{1}} + \\mathcal{L_\\mathrm{2}}$$"
      ]
    },
    {
      "cell_type": "code",
      "metadata": {
        "id": "HPhKL0Bk9sAg",
        "colab": {
          "base_uri": "https://localhost:8080/"
        },
        "outputId": "cdc88474-437d-4c9a-c898-67e0cc0001da"
      },
      "source": [
        "# Alpha margin\n",
        "alpha = 0.25\n",
        "\n",
        "# Modified triplet loss\n",
        "# Loss 1\n",
        "l_1 = np.maximum(mean_neg - sim_ap.reshape(b, 1) + alpha, 0)\n",
        "# Loss 2\n",
        "l_2 = np.maximum(closest_neg - sim_ap.reshape(b, 1) + alpha, 0)\n",
        "# Loss full\n",
        "l_full = l_1 + l_2\n",
        "# cost\n",
        "cost = np.sum(l_full)\n",
        "\n",
        "print(\"-- Outputs --\")\n",
        "print(\"loss full :\")\n",
        "print(l_full, \"\\n\")\n",
        "print(\"cost :\", \"{:.3f}\".format(cost))"
      ],
      "execution_count": 5,
      "outputs": [
        {
          "output_type": "stream",
          "text": [
            "-- Outputs --\n",
            "loss full :\n",
            "[[0.        ]\n",
            " [0.        ]\n",
            " [0.51666667]\n",
            " [0.        ]] \n",
            "\n",
            "cost : 0.517\n"
          ],
          "name": "stdout"
        }
      ]
    },
    {
      "cell_type": "markdown",
      "metadata": {
        "id": "BjEMu-U1_Bch"
      },
      "source": [
        "## Summary"
      ]
    },
    {
      "cell_type": "markdown",
      "metadata": {
        "id": "3P8ZRl4A_H6e"
      },
      "source": [
        "There were a lot of steps in there, so well done. You now know how to calculate a modified triplet loss, incorporating the mean negative and the closest negative. You also learned how to create a matrix of similarity scores based on cosine similarity."
      ]
    }
  ]
}