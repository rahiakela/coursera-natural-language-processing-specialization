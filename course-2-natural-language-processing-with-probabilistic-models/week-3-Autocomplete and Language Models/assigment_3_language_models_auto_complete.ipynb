{
  "nbformat": 4,
  "nbformat_minor": 0,
  "metadata": {
    "colab": {
      "name": "assigment-3-language-models--auto-complete.ipynb",
      "provenance": [],
      "toc_visible": true,
      "authorship_tag": "ABX9TyNqzQogVqOAG32XhR031NdW",
      "include_colab_link": true
    },
    "kernelspec": {
      "name": "python3",
      "display_name": "Python 3"
    }
  },
  "cells": [
    {
      "cell_type": "markdown",
      "metadata": {
        "id": "view-in-github",
        "colab_type": "text"
      },
      "source": [
        "<a href=\"https://colab.research.google.com/github/rahiakela/coursera-natural-language-processing-specialization/blob/master/course-2-natural-language-processing-with-probabilistic-models/week-3-Autocomplete%20and%20Language%20Models/assigment_3_language_models_auto_complete.ipynb\" target=\"_parent\"><img src=\"https://colab.research.google.com/assets/colab-badge.svg\" alt=\"Open In Colab\"/></a>"
      ]
    },
    {
      "cell_type": "markdown",
      "metadata": {
        "id": "jy87ztQcRwfH"
      },
      "source": [
        "## Language Models: Auto-Complete"
      ]
    },
    {
      "cell_type": "markdown",
      "metadata": {
        "id": "HONYuxn9RxaY"
      },
      "source": [
        "In this assignment, you will build an auto-complete system.  Auto-complete system is something you may see every day\n",
        "- When you google something, you often have suggestions to help you complete your search. \n",
        "- When you are writing an email, you get suggestions telling you possible endings to your sentence.  \n",
        "\n",
        "By the end of this assignment, you will develop a prototype of such a system.\n",
        "\n",
        "<img src='https://github.com/rahiakela/img-repo/blob/master/deeplearning.ai-NLPS/stanford.png?raw=1' width='800'/>\n"
      ]
    },
    {
      "cell_type": "markdown",
      "metadata": {
        "id": "wvuv8hsiS_Ab"
      },
      "source": [
        "## Outline"
      ]
    },
    {
      "cell_type": "markdown",
      "metadata": {
        "id": "9ro21zgOTGRe"
      },
      "source": [
        "- [1 Load and Preprocess Data](#1)\n",
        "- [1.1: Load the data](#1.1)\n",
        "- [1.2 Pre-process the data](#1.2)\n",
        "    - [Exercise 01](#ex-01) : Split data\n",
        "    - [Exercise 02](#ex-02) : Tokenize sentences\n",
        "    - [Exercise 03](#ex-03) : Split into train and test sets\n",
        "    - [Exercise 04](#ex-04) : Word count\n",
        "- [1.3 Handling 'Out of Vocabulary' words](#1.3)\n",
        "    - [Exercise 05](#ex-05) : Handling words frequency\n",
        "    - [Exercise 06](#ex-06) : Handling unknown word\n",
        "    - [Exercise 07](#ex-07) : Preprocessing all the steps\n",
        "- [1.4 Preprocess the train and test data](#1.4)\n",
        "- [2 Develop n-gram based language models](#2)\n",
        "    - [Exercise 08](#ex-08) : Computing the counts of n-grams\n",
        "    - [Exercise 09](#ex-09) : Estimate the probability of a word   \n",
        "- [3 Perplexity](#3)\n",
        "    - [Exercise 10](#ex-10) : Compute the perplexity score\n",
        "- [4 Build an auto-complete system](#4)\n",
        "    - [Exercise 11](#ex-11) : Compute probabilities for all possible next words"
      ]
    },
    {
      "cell_type": "markdown",
      "metadata": {
        "id": "g5ZShTuGTJMY"
      },
      "source": [
        "## Introduction"
      ]
    },
    {
      "cell_type": "markdown",
      "metadata": {
        "id": "ziwUIoo-TP9j"
      },
      "source": [
        "A key building block for an auto-complete system is a language model.\n",
        "A language model assigns the probability to a sequence of words, in a way that more \"likely\" sequences receive higher scores.  For example, \n",
        ">\"I have a pen\" \n",
        "is expected to have a higher probability than \n",
        ">\"I am a pen\"\n",
        "since the first one seems to be a more natural sentence in the real world.\n",
        "\n",
        "You can take advantage of this probability calculation to develop an auto-complete system.  \n",
        "Suppose the user typed \n",
        ">\"I eat scrambled\"\n",
        "Then you can find a word `x`  such that \"I eat scrambled x\" receives the highest probability.  If x = \"eggs\", the sentence would be\n",
        ">\"I eat scrambled eggs\"\n",
        "\n",
        "While a variety of language models have been developed, this assignment uses **N-grams**, a simple but powerful method for language modeling.\n",
        "- N-grams are also used in machine translation and speech recognition. \n",
        "\n",
        "\n",
        "Here are the steps of this assignment:\n",
        "\n",
        "1. Load and preprocess data\n",
        "    - Load and tokenize data.\n",
        "    - Split the sentences into train and test sets.\n",
        "    - Replace words with a low frequency by an unknown marker `<unk>`.\n",
        "1. Develop N-gram based language models\n",
        "    - Compute the count of n-grams from a given data set.\n",
        "    - Estimate the conditional probability of a next word with k-smoothing.\n",
        "1. Evaluate the N-gram models by computing the perplexity score.\n",
        "1. Use your own model to suggest an upcoming word given your sentence. "
      ]
    },
    {
      "cell_type": "markdown",
      "metadata": {
        "id": "bZhuVGXBHRPX"
      },
      "source": [
        "## Setup"
      ]
    },
    {
      "cell_type": "code",
      "metadata": {
        "id": "gw6LB_fWTRT-"
      },
      "source": [
        "import math\n",
        "import random\n",
        "import numpy as np\n",
        "import pandas as pd\n",
        "import nltk\n",
        "nltk.data.path.append('.')"
      ],
      "execution_count": 1,
      "outputs": []
    },
    {
      "cell_type": "code",
      "metadata": {
        "id": "WIpV_OamGijU"
      },
      "source": [
        "!wget https://github.com/rahiakela/coursera-natural-language-processing-specialization/raw/master/course-2-natural-language-processing-with-probabilistic-models/week-3-Autocomplete%20and%20Language%20Models/en_US.twitter.txt"
      ],
      "execution_count": null,
      "outputs": []
    },
    {
      "cell_type": "markdown",
      "metadata": {
        "id": "su6n61yRTWAz"
      },
      "source": [
        "<a name='1'></a>\n",
        "## Part 1: Load and Preprocess Data"
      ]
    },
    {
      "cell_type": "markdown",
      "metadata": {
        "id": "f4Dpw_OVTYXP"
      },
      "source": [
        "<a name='1.1'></a>\n",
        "### Part 1.1: Load the data"
      ]
    },
    {
      "cell_type": "markdown",
      "metadata": {
        "id": "ve08UkTdTavw"
      },
      "source": [
        "You will use twitter data.\n",
        "Load the data and view the first few sentences by running the next cell.\n",
        "\n",
        "Notice that data is a long string that contains many many tweets.\n",
        "Observe that there is a line break \"\\n\" between tweets."
      ]
    },
    {
      "cell_type": "code",
      "metadata": {
        "id": "XTvMB5IyTdPh",
        "colab": {
          "base_uri": "https://localhost:8080/",
          "height": 279
        },
        "outputId": "431baa16-5513-438a-aa1a-95d43c09dcdf"
      },
      "source": [
        "with open('en_US.twitter.txt', 'r') as f:\n",
        "  data = f.read()\n",
        "\n",
        "print('Data type:', type(data))\n",
        "print('Number of letters:', len(data))\n",
        "\n",
        "print('\\nFirst 300 letters of the data')\n",
        "print(\"-------\")\n",
        "display(data[0:300])\n",
        "print(\"-------\")\n",
        "\n",
        "print(\"Last 300 letters of the data\")\n",
        "print(\"-------\")\n",
        "display(data[-300:])\n",
        "print(\"-------\")"
      ],
      "execution_count": 3,
      "outputs": [
        {
          "output_type": "stream",
          "text": [
            "Data type: <class 'str'>\n",
            "Number of letters: 3335477\n",
            "\n",
            "First 300 letters of the data\n",
            "-------\n"
          ],
          "name": "stdout"
        },
        {
          "output_type": "display_data",
          "data": {
            "application/vnd.google.colaboratory.intrinsic+json": {
              "type": "string"
            },
            "text/plain": [
              "\"How are you? Btw thanks for the RT. You gonna be in DC anytime soon? Love to see you. Been way, way too long.\\nWhen you meet someone special... you'll know. Your heart will beat more rapidly and you'll smile for no reason.\\nthey've decided its more fun if I don't.\\nSo Tired D; Played Lazer Tag & Ran A \""
            ]
          },
          "metadata": {
            "tags": []
          }
        },
        {
          "output_type": "stream",
          "text": [
            "-------\n",
            "Last 300 letters of the data\n",
            "-------\n"
          ],
          "name": "stdout"
        },
        {
          "output_type": "display_data",
          "data": {
            "application/vnd.google.colaboratory.intrinsic+json": {
              "type": "string"
            },
            "text/plain": [
              "\"ust had one a few weeks back....hopefully we will be back soon! wish you the best yo\\nColombia is with an 'o'...“: We now ship to 4 countries in South America (fist pump). Please welcome Columbia to the Stunner Family”\\n#GutsiestMovesYouCanMake Giving a cat a bath.\\nCoffee after 5 was a TERRIBLE idea.\\n\""
            ]
          },
          "metadata": {
            "tags": []
          }
        },
        {
          "output_type": "stream",
          "text": [
            "-------\n"
          ],
          "name": "stdout"
        }
      ]
    },
    {
      "cell_type": "markdown",
      "metadata": {
        "id": "INyyytGzcJB7"
      },
      "source": [
        "<a name='1.2'></a>\n",
        "### Part 1.2 Pre-process the data"
      ]
    },
    {
      "cell_type": "markdown",
      "metadata": {
        "id": "VXPEdQKucJjs"
      },
      "source": [
        "Preprocess this data with the following steps:\n",
        "\n",
        "1. Split data into sentences using \"\\n\" as the delimiter.\n",
        "1. Split each sentence into tokens. Note that in this assignment we use \"token\" and \"words\" interchangeably.\n",
        "1. Assign sentences into train or test sets.\n",
        "1. Find tokens that appear at least N times in the training data.\n",
        "1. Replace tokens that appear less than N times by `<unk>`\n",
        "\n",
        "\n",
        "Note: we omit validation data in this exercise.\n",
        "- In real applications, we should hold a part of data as a validation set and use it to tune our training.\n",
        "- We skip this process for simplicity."
      ]
    },
    {
      "cell_type": "markdown",
      "metadata": {
        "id": "0I8l9lwJcMNZ"
      },
      "source": [
        "<a name='ex-01'></a>\n",
        "#### Exercise 01: Split data"
      ]
    },
    {
      "cell_type": "markdown",
      "metadata": {
        "id": "-hMbEtOoceV3"
      },
      "source": [
        "Split data into sentences."
      ]
    },
    {
      "cell_type": "markdown",
      "metadata": {
        "id": "CBMXO0g1cgVq"
      },
      "source": [
        "<details>    \n",
        "<summary>\n",
        "    <font size=\"3\" color=\"darkgreen\"><b>Hints</b></font>\n",
        "</summary>\n",
        "<p>\n",
        "<ul>\n",
        "    <li> Use <a href=\"https://docs.python.org/3/library/stdtypes.html?highlight=split#str.split\" >str.split</a> </li>\n",
        "</ul>\n",
        "</p>"
      ]
    },
    {
      "cell_type": "code",
      "metadata": {
        "id": "KxgJl0fsb5U2"
      },
      "source": [
        "# UNQ_C1 (UNIQUE CELL IDENTIFIER, DO NOT EDIT)\n",
        "### GRADED_FUNCTION: split_to_sentences ###\n",
        "def split_to_sentences(data):\n",
        "  \"\"\"\n",
        "  Split data by linebreak \"\\n\"\n",
        "  Args:\n",
        "      data: str\n",
        "  Returns:\n",
        "      A list of sentences\n",
        "  \"\"\"\n",
        "\n",
        "  ### START CODE HERE (Replace instances of 'None' with your code) ###\n",
        "  sentences = data.split('\\n')\n",
        "  ### END CODE HERE ###\n",
        "\n",
        "  # Additional clearning (This part is already implemented)\n",
        "  # - Remove leading and trailing spaces from each sentence\n",
        "  # - Drop sentences if they are empty strings.\n",
        "  sentences = [s.strip() for s in sentences]\n",
        "  sentences = [s for s in sentences if len(s) > 0]\n",
        "\n",
        "  return sentences"
      ],
      "execution_count": 4,
      "outputs": []
    },
    {
      "cell_type": "code",
      "metadata": {
        "id": "lpaNLQkedezO",
        "colab": {
          "base_uri": "https://localhost:8080/"
        },
        "outputId": "4c7b2498-f48e-4379-c159-2ea2a3b7de51"
      },
      "source": [
        "# test your code\n",
        "x = \"\"\"I have a pen.\\nI have an apple. \\nAh\\nApple pen.\\n\"\"\"\n",
        "print(x)\n",
        "split_to_sentences(x)"
      ],
      "execution_count": 5,
      "outputs": [
        {
          "output_type": "stream",
          "text": [
            "I have a pen.\n",
            "I have an apple. \n",
            "Ah\n",
            "Apple pen.\n",
            "\n"
          ],
          "name": "stdout"
        },
        {
          "output_type": "execute_result",
          "data": {
            "text/plain": [
              "['I have a pen.', 'I have an apple.', 'Ah', 'Apple pen.']"
            ]
          },
          "metadata": {
            "tags": []
          },
          "execution_count": 5
        }
      ]
    },
    {
      "cell_type": "markdown",
      "metadata": {
        "id": "xTBT3oDod1V4"
      },
      "source": [
        "Expected answer: \n",
        "```CPP\n",
        "['I have a pen.', 'I have an apple.', 'Ah', 'Apple pen.']\n",
        "```"
      ]
    },
    {
      "cell_type": "markdown",
      "metadata": {
        "id": "6tP4xATnd164"
      },
      "source": [
        "<a name='ex-02'></a>\n",
        "#### Exercise 02: Tokenize sentences"
      ]
    },
    {
      "cell_type": "markdown",
      "metadata": {
        "id": "tfQxeosQd47L"
      },
      "source": [
        "The next step is to tokenize sentences (split a sentence into a list of words). \n",
        "- Convert all tokens into lower case so that words which are capitalized (for example, at the start of a sentence) in the original text are treated the same as the lowercase versions of the words.\n",
        "- Append each tokenized list of words into a list of tokenized sentences."
      ]
    },
    {
      "cell_type": "markdown",
      "metadata": {
        "id": "n-E_U2_ad72o"
      },
      "source": [
        "<details>    \n",
        "<summary>\n",
        "    <font size=\"3\" color=\"darkgreen\"><b>Hints</b></font>\n",
        "</summary>\n",
        "<p>\n",
        "<ul>\n",
        "    <li>Use <a href=\"https://docs.python.org/3/library/stdtypes.html?highlight=split#str.lower\" >str.lower</a> to convert strings to lowercase. </li>\n",
        "    <li>Please use <a href=\"https://www.nltk.org/api/nltk.tokenize.html#nltk.tokenize.punkt.PunktLanguageVars.word_tokenize\" >nltk.word_tokenize</a> to split sentences into tokens.</li>\n",
        "    <li>If you used str.split insteaad of nltk.word_tokenize, there are additional edge cases to handle, such as the punctuation (comma, period) that follows a word.</li>\n",
        "</ul>\n",
        "</p>\n"
      ]
    },
    {
      "cell_type": "code",
      "metadata": {
        "id": "eWPvocXohtqv",
        "colab": {
          "base_uri": "https://localhost:8080/"
        },
        "outputId": "0dd0843c-7f4a-456c-f7b2-62874d302837"
      },
      "source": [
        "nltk.download('punkt')"
      ],
      "execution_count": 7,
      "outputs": [
        {
          "output_type": "stream",
          "text": [
            "[nltk_data] Downloading package punkt to /root/nltk_data...\n",
            "[nltk_data]   Unzipping tokenizers/punkt.zip.\n"
          ],
          "name": "stdout"
        },
        {
          "output_type": "execute_result",
          "data": {
            "text/plain": [
              "True"
            ]
          },
          "metadata": {
            "tags": []
          },
          "execution_count": 7
        }
      ]
    },
    {
      "cell_type": "code",
      "metadata": {
        "id": "512Gg3yrdrSw"
      },
      "source": [
        "# UNQ_C2 (UNIQUE CELL IDENTIFIER, DO NOT EDIT)\n",
        "### GRADED_FUNCTION: tokenize_sentences ###\n",
        "def tokenize_sentences(sentences):\n",
        "  \"\"\"\n",
        "  Tokenize sentences into tokens (words)\n",
        "  Args:\n",
        "      sentences: List of strings\n",
        "  Returns:\n",
        "      List of lists of tokens\n",
        "  \"\"\"\n",
        "\n",
        "  # Initialize the list of lists of tokenized sentences\n",
        "  tokenized_sentences = []\n",
        "\n",
        "  ### START CODE HERE (Replace instances of 'None' with your code) ###\n",
        "\n",
        "  # Go through each sentence\n",
        "  for sentence in sentences:\n",
        "    # Convert to lowercase letters\n",
        "    sentence = sentence.lower()\n",
        "    # Convert into a list of words\n",
        "    tokenized = nltk.word_tokenize(sentence)\n",
        "    # append the list of words to the list of lists\n",
        "    tokenized_sentences.append(tokenized)\n",
        "\n",
        "  ### END CODE HERE ###\n",
        "\n",
        "  return tokenized_sentences"
      ],
      "execution_count": 8,
      "outputs": []
    },
    {
      "cell_type": "code",
      "metadata": {
        "id": "XUePkjFRhNEx",
        "colab": {
          "base_uri": "https://localhost:8080/"
        },
        "outputId": "98f18015-3962-4b1a-c245-e4482c187a31"
      },
      "source": [
        "# test your code\n",
        "sentences = [\"Sky is blue.\", \"Leaves are green.\", \"Roses are red.\"]\n",
        "tokenize_sentences(sentences)"
      ],
      "execution_count": 9,
      "outputs": [
        {
          "output_type": "execute_result",
          "data": {
            "text/plain": [
              "[['sky', 'is', 'blue', '.'],\n",
              " ['leaves', 'are', 'green', '.'],\n",
              " ['roses', 'are', 'red', '.']]"
            ]
          },
          "metadata": {
            "tags": []
          },
          "execution_count": 9
        }
      ]
    },
    {
      "cell_type": "markdown",
      "metadata": {
        "id": "nGrb9ioDh2_R"
      },
      "source": [
        "Expected output\n",
        "\n",
        "```CPP\n",
        "[['sky', 'is', 'blue', '.'],\n",
        " ['leaves', 'are', 'green', '.'],\n",
        " ['roses', 'are', 'red', '.']]\n",
        "```"
      ]
    },
    {
      "cell_type": "markdown",
      "metadata": {
        "id": "xeSTN-9lh31w"
      },
      "source": [
        "<a name='ex-03'></a>\n",
        "#### Exercise 03:  Split into train and test sets"
      ]
    },
    {
      "cell_type": "markdown",
      "metadata": {
        "id": "gpGV8y-jiRWP"
      },
      "source": [
        "Use the two functions that you have just implemented to get the tokenized data.\n",
        "- split the data into sentences\n",
        "- tokenize those sentences"
      ]
    },
    {
      "cell_type": "code",
      "metadata": {
        "id": "vruxwZBfhVTC"
      },
      "source": [
        "# UNQ_C3 (UNIQUE CELL IDENTIFIER, DO NOT EDIT)\n",
        "### GRADED_FUNCTION: get_tokenized_data ###\n",
        "def get_tokenized_data(data):\n",
        "  \"\"\"\n",
        "  Make a list of tokenized sentences\n",
        "  Args:\n",
        "      data: String\n",
        "  Returns:\n",
        "      List of lists of tokens\n",
        "  \"\"\"\n",
        "\n",
        "  ### START CODE HERE (Replace instances of 'None' with your code) ###\n",
        "\n",
        "  # Get the sentences by splitting up the data\n",
        "  sentences = split_to_sentences(data)\n",
        "\n",
        "  # Get the list of lists of tokens by tokenizing the sentences\n",
        "  tokenized_sentences = tokenize_sentences(sentences)\n",
        "\n",
        "  ### END CODE HERE ###\n",
        "\n",
        "  return tokenized_sentences"
      ],
      "execution_count": 10,
      "outputs": []
    },
    {
      "cell_type": "code",
      "metadata": {
        "id": "56CTXgiGidx5",
        "colab": {
          "base_uri": "https://localhost:8080/"
        },
        "outputId": "90260056-ea99-4f5d-8d42-62a5d7878fed"
      },
      "source": [
        "# test your function\n",
        "x = 'Sky is blue.\\nLeaves are green\\nRoses are red.'\n",
        "get_tokenized_data(x)"
      ],
      "execution_count": 11,
      "outputs": [
        {
          "output_type": "execute_result",
          "data": {
            "text/plain": [
              "[['sky', 'is', 'blue', '.'],\n",
              " ['leaves', 'are', 'green'],\n",
              " ['roses', 'are', 'red', '.']]"
            ]
          },
          "metadata": {
            "tags": []
          },
          "execution_count": 11
        }
      ]
    },
    {
      "cell_type": "markdown",
      "metadata": {
        "id": "2bYZjH6WieDp"
      },
      "source": [
        "Expected outcome\n",
        "\n",
        "```CPP\n",
        "[['sky', 'is', 'blue', '.'],\n",
        " ['leaves', 'are', 'green'],\n",
        " ['roses', 'are', 'red', '.']]\n",
        "```"
      ]
    },
    {
      "cell_type": "markdown",
      "metadata": {
        "id": "yYCrDseGigv-"
      },
      "source": [
        "**Split into train and test sets**\n",
        "\n",
        "Now run the cell below to split data into training and test sets."
      ]
    },
    {
      "cell_type": "code",
      "metadata": {
        "id": "LPUQrE-Cikdy",
        "colab": {
          "base_uri": "https://localhost:8080/"
        },
        "outputId": "97ab97ac-bed3-419f-f125-94545753bf75"
      },
      "source": [
        "tokenized_data = get_tokenized_data(data)\n",
        "random.seed(42)\n",
        "random.shuffle(tokenized_data)\n",
        "\n",
        "train_size = int(len(tokenized_data) * 0.8)\n",
        "train_data = tokenized_data[0: train_size]\n",
        "test_data = tokenized_data[train_size: ]\n",
        "(len(train_data), len(test_data))"
      ],
      "execution_count": 12,
      "outputs": [
        {
          "output_type": "execute_result",
          "data": {
            "text/plain": [
              "(38368, 9593)"
            ]
          },
          "metadata": {
            "tags": []
          },
          "execution_count": 12
        }
      ]
    },
    {
      "cell_type": "code",
      "metadata": {
        "id": "EU_PvznHOCyN",
        "colab": {
          "base_uri": "https://localhost:8080/"
        },
        "outputId": "a65c1eab-2685-4bcf-ff24-99bbb1d37f54"
      },
      "source": [
        "print(\"{} data are split into {} train and {} test set\".format(len(tokenized_data), len(train_data), len(test_data)))\n",
        "\n",
        "print(\"First training sample:\")\n",
        "print(train_data[0])\n",
        "\n",
        "print(\"First test sample:\")\n",
        "print(test_data[0])"
      ],
      "execution_count": 13,
      "outputs": [
        {
          "output_type": "stream",
          "text": [
            "47961 data are split into 38368 train and 9593 test set\n",
            "First training sample:\n",
            "['what', 'little', 'i', 'have', 'goes', 'toward', 'my', 'commute', '.', '$', '4', 'gasoline', '.']\n",
            "First test sample:\n",
            "['at', 'least', 'it', 'was', 'ervin', 'santana', \"'s\", 'own', 'wild', 'pitch', 'that', 'kept', 'him', 'from', 'throwing', 'a', 'scorelss', 'no-hitter', '.', 'pretty', 'unique', 'i', 'must', 'say', '.']\n"
          ],
          "name": "stdout"
        }
      ]
    },
    {
      "cell_type": "markdown",
      "metadata": {
        "id": "EJULn6EzRnhe"
      },
      "source": [
        "Expected output\n",
        "\n",
        "```CPP\n",
        "47961 data are split into 38368 train and 9593 test set\n",
        "First training sample:\n",
        "['i', 'personally', 'would', 'like', 'as', 'our', 'official', 'glove', 'of', 'the', 'team', 'local', 'company', 'and', 'quality', 'production']\n",
        "First test sample\n",
        "['that', 'picture', 'i', 'just', 'seen', 'whoa', 'dere', '!', '!', '>', '>', '>', '>', '>', '>', '>']\n",
        "```"
      ]
    },
    {
      "cell_type": "markdown",
      "metadata": {
        "id": "vXcHLS3aRuFU"
      },
      "source": [
        "<a name='ex-04'></a>\n",
        "#### Exercise 04: Word count"
      ]
    },
    {
      "cell_type": "markdown",
      "metadata": {
        "id": "57qSiMlxRyRp"
      },
      "source": [
        "You won't use all the tokens (words) appearing in the data for training.  Instead, you will use the more frequently used words.  \n",
        "- You will focus on the words that appear at least N times in the data.\n",
        "- First count how many times each word appears in the data.\n",
        "\n",
        "You will need a double for-loop, one for sentences and the other for tokens within a sentence."
      ]
    },
    {
      "cell_type": "markdown",
      "metadata": {
        "id": "fKtgOVeYMvX8"
      },
      "source": [
        "<details>    \n",
        "<summary>\n",
        "    <font size=\"3\" color=\"darkgreen\"><b>Hints</b></font>\n",
        "</summary>\n",
        "<p>\n",
        "<ul>\n",
        "    <li>If you decide to import and use defaultdict, remember to cast the dictionary back to a regular 'dict' before returning it. </li>\n",
        "</ul>\n",
        "</p>\n"
      ]
    },
    {
      "cell_type": "code",
      "metadata": {
        "id": "JHVPx9-6Odi3"
      },
      "source": [
        "# UNQ_C4 (UNIQUE CELL IDENTIFIER, DO NOT EDIT)\n",
        "### GRADED_FUNCTION: count_words ###\n",
        "def count_words(tokenized_sentences):\n",
        "  \"\"\"\n",
        "  Count the number of word appearence in the tokenized sentences\n",
        "  Args:\n",
        "      tokenized_sentences: List of lists of strings\n",
        "  Returns:\n",
        "      dict that maps word (str) to the frequency (int)\n",
        "  \"\"\"\n",
        "\n",
        "  word_counts = {}\n",
        "\n",
        "  ### START CODE HERE (Replace instances of 'None' with your code) ###\n",
        "\n",
        "  # Loop through each sentence\n",
        "  for sentence in tokenized_sentences:\n",
        "    # Go through each token in the sentence\n",
        "    for token in sentence:\n",
        "      # If the token is not in the dictionary yet, set the count to 1\n",
        "      if token not in word_counts.keys():\n",
        "        word_counts[token] = 1\n",
        "      else:  # If the token is already in the dictionary, increment the count by 1\n",
        "        word_counts[token] += 1\n",
        "    \n",
        "  ### END CODE HERE ###\n",
        "\n",
        "  return word_counts"
      ],
      "execution_count": 14,
      "outputs": []
    },
    {
      "cell_type": "code",
      "metadata": {
        "id": "2EvheoxbNwcx",
        "colab": {
          "base_uri": "https://localhost:8080/"
        },
        "outputId": "14b5558c-fd02-4ede-9b5f-f75caf094ada"
      },
      "source": [
        "# test your code\n",
        "tokenized_sentences = [['sky', 'is', 'blue', '.'],\n",
        "                       ['leaves', 'are', 'green', '.'],\n",
        "                       ['roses', 'are', 'red', '.']]\n",
        "count_words(tokenized_sentences)"
      ],
      "execution_count": 15,
      "outputs": [
        {
          "output_type": "execute_result",
          "data": {
            "text/plain": [
              "{'.': 3,\n",
              " 'are': 2,\n",
              " 'blue': 1,\n",
              " 'green': 1,\n",
              " 'is': 1,\n",
              " 'leaves': 1,\n",
              " 'red': 1,\n",
              " 'roses': 1,\n",
              " 'sky': 1}"
            ]
          },
          "metadata": {
            "tags": []
          },
          "execution_count": 15
        }
      ]
    },
    {
      "cell_type": "markdown",
      "metadata": {
        "id": "LJBDpDbRPtF2"
      },
      "source": [
        "Expected output\n",
        "\n",
        "Note that the order may differ.\n",
        "\n",
        "```CPP\n",
        "{'sky': 1,\n",
        " 'is': 1,\n",
        " 'blue': 1,\n",
        " '.': 3,\n",
        " 'leaves': 1,\n",
        " 'are': 2,\n",
        " 'green': 1,\n",
        " 'roses': 1,\n",
        " 'red': 1}\n",
        "```"
      ]
    },
    {
      "cell_type": "markdown",
      "metadata": {
        "id": "9ngpKXQDRZ_O"
      },
      "source": [
        "<a name='1.3'></a>\n",
        "### Part 1.3 Handling 'Out of Vocabulary' words"
      ]
    },
    {
      "cell_type": "markdown",
      "metadata": {
        "id": "0D9DZ8JiPxrC"
      },
      "source": [
        "If your model is performing autocomplete, but encounters a word that it never saw during training, it won't have an input word to help it determine the next word to suggest. The model will not be able to predict the next word because there are no counts for the current word. \n",
        "- This 'new' word is called an 'unknown word', or <b>out of vocabulary (OOV)</b> words.\n",
        "- The percentage of unknown words in the test set is called the <b> OOV </b> rate. \n",
        "\n",
        "To handle unknown words during prediction, use a special token to represent all unknown words 'unk'. \n",
        "- Modify the training data so that it has some 'unknown' words to train on.\n",
        "- Words to convert into \"unknown\" words are those that do not occur very frequently in the training set.\n",
        "- Create a list of the most frequent words in the training set, called the <b> closed vocabulary </b>. \n",
        "- Convert all the other words that are not part of the closed vocabulary to the token 'unk'. "
      ]
    },
    {
      "cell_type": "markdown",
      "metadata": {
        "id": "1z0ED6BMUaaS"
      },
      "source": [
        "<a name='ex-05'></a>\n",
        "#### Exercise 05: Handling words frequency"
      ]
    },
    {
      "cell_type": "markdown",
      "metadata": {
        "id": "a8pRUEdoUv4A"
      },
      "source": [
        "You will now create a function that takes in a text document and a threshold 'count_threshold'.\n",
        "- Any word whose count is greater than or equal to the threshold 'count_threshold' is kept in the closed vocabulary.\n",
        "- used that you want to keep, returns the document containing only the word closed vocabulary and the word unk. "
      ]
    },
    {
      "cell_type": "code",
      "metadata": {
        "id": "LUZ8iri3RqbV"
      },
      "source": [
        "# UNQ_C5 (UNIQUE CELL IDENTIFIER, DO NOT EDIT)\n",
        "### GRADED_FUNCTION: get_words_with_nplus_frequency ###\n",
        "def get_words_with_nplus_frequency(tokenized_sentences, count_threshold):\n",
        "  \"\"\"\n",
        "  Find the words that appear N times or more\n",
        "  Args:\n",
        "      tokenized_sentences: List of lists of sentences\n",
        "      count_threshold: minimum number of occurrences for a word to be in the closed vocabulary.\n",
        "  Returns:\n",
        "      List of words that appear N times or more\n",
        "  \"\"\"\n",
        "\n",
        "  # Initialize an empty list to contain the words that appear at least 'minimum_freq' times.\n",
        "  closed_vocab = []\n",
        "\n",
        "  # Get the word couts of the tokenized sentences\n",
        "  # Use the function that you defined earlier to count the words\n",
        "  word_counts = count_words(tokenized_sentences)\n",
        "\n",
        "  ### START CODE HERE (Replace instances of 'None' with your code) ###\n",
        "\n",
        "  # for each word and its count\n",
        "  \"\"\"\n",
        "  for word, count in word_counts.items():\n",
        "    # check that the word's count is at least as great as the minimum count\n",
        "    if count >= count_threshold:\n",
        "      # append the word to the list\n",
        "      closed_vocab.append(word)\n",
        "  \"\"\"\n",
        "  closed_vocab = [word for word, count in word_counts.items() if count >= count_threshold]\n",
        "  ### END CODE HERE ###\n",
        "\n",
        "  return closed_vocab"
      ],
      "execution_count": 16,
      "outputs": []
    },
    {
      "cell_type": "code",
      "metadata": {
        "id": "go-8CsGvTk37",
        "colab": {
          "base_uri": "https://localhost:8080/"
        },
        "outputId": "a90c74cd-4446-4170-bd6c-6c0bd13b2b46"
      },
      "source": [
        "# test your code\n",
        "tokenized_sentences = [['sky', 'is', 'blue', '.'],\n",
        "                       ['leaves', 'are', 'green', '.'],\n",
        "                       ['roses', 'are', 'red', '.']]\n",
        "tmp_closed_vocab = get_words_with_nplus_frequency(tokenized_sentences, count_threshold=2)\n",
        "print(f\"Closed vocabulary:\")\n",
        "print(tmp_closed_vocab)"
      ],
      "execution_count": 17,
      "outputs": [
        {
          "output_type": "stream",
          "text": [
            "Closed vocabulary:\n",
            "['.', 'are']\n"
          ],
          "name": "stdout"
        }
      ]
    },
    {
      "cell_type": "markdown",
      "metadata": {
        "id": "qTrz1eeOT4sy"
      },
      "source": [
        "Expected output\n",
        "\n",
        "```CPP\n",
        "Closed vocabulary:\n",
        "['.', 'are']\n",
        "```"
      ]
    },
    {
      "cell_type": "markdown",
      "metadata": {
        "id": "2FYNsAh_P6iz"
      },
      "source": [
        "<a name='ex-06'></a>\n",
        "#### Exercise 06: Handling unknown word"
      ]
    },
    {
      "cell_type": "markdown",
      "metadata": {
        "id": "Lw5HacbTP78v"
      },
      "source": [
        "The words that appear 'count_threshold' times or more are in the 'closed vocabulary. \n",
        "- All other words are regarded as 'unknown'.\n",
        "- Replace words not in the closed vocabulary with the token \"<unk\\>\"."
      ]
    },
    {
      "cell_type": "code",
      "metadata": {
        "id": "p-0ak05JPeO3"
      },
      "source": [
        "# UNQ_C6 (UNIQUE CELL IDENTIFIER, DO NOT EDIT)\n",
        "### GRADED_FUNCTION: replace_oov_words_by_unk ###\n",
        "def replace_oov_words_by_unk(tokenized_sentences, vocabulary, unknown_token=\"<unk>\"):\n",
        "  \"\"\"\n",
        "  Replace words not in the given vocabulary with '<unk>' token.\n",
        "  Args:\n",
        "      tokenized_sentences: List of lists of strings\n",
        "      vocabulary: List of strings that we will use\n",
        "      unknown_token: A string representing unknown (out-of-vocabulary) words\n",
        "  Returns:\n",
        "      List of lists of strings, with words not in the vocabulary replaced\n",
        "  \"\"\"\n",
        "\n",
        "  # Place vocabulary into a set for faster search\n",
        "  vocabulary = set(vocabulary)\n",
        "\n",
        "  # Initialize a list that will hold the sentences after less frequent words are replaced by the unknown token\n",
        "  replaced_tokenized_sentences = []\n",
        "\n",
        "  # Go through each sentence\n",
        "  for sentence in tokenized_sentences:\n",
        "    # Initialize the list that will contain a single sentence with \"unknown_token\" replacements\n",
        "    replaced_sentence = []\n",
        "\n",
        "    ### START CODE HERE (Replace instances of 'None' with your code) ###\n",
        "    \n",
        "    #for each token in the sentence\n",
        "    \"\"\"\n",
        "    for token in sentence:\n",
        "      # Check if the token is in the closed vocabulary\n",
        "      if token in vocabulary:\n",
        "        # If so, append the word to the replaced_sentence\n",
        "        replaced_sentence.append(token)\n",
        "      else:\n",
        "        replaced_sentence.append(unknown_token)\n",
        "    \"\"\"\n",
        "    replaced_sentence = [token if token in vocabulary else unknown_token for token in sentence]\n",
        "    ### END CODE HERE ###\n",
        "\n",
        "    # Append the list of tokens to the list of lists\n",
        "    replaced_tokenized_sentences.append(replaced_sentence)\n",
        "\n",
        "  return replaced_tokenized_sentences"
      ],
      "execution_count": 18,
      "outputs": []
    },
    {
      "cell_type": "code",
      "metadata": {
        "id": "fDTtQiiBXcMX",
        "colab": {
          "base_uri": "https://localhost:8080/"
        },
        "outputId": "94ae6e6e-54f3-4520-c775-2da2b64366cb"
      },
      "source": [
        "tokenized_sentences = [[\"dogs\", \"run\"], [\"cats\", \"sleep\"]]\n",
        "vocabulary = [\"dogs\", \"sleep\"]\n",
        "\n",
        "tmp_replaced_tokenized_sentences = replace_oov_words_by_unk(tokenized_sentences, vocabulary)\n",
        "print(f\"Original sentence:\")\n",
        "print(tokenized_sentences)\n",
        "print(f\"tokenized_sentences with less frequent words converted to '<unk>':\")\n",
        "print(tmp_replaced_tokenized_sentences)"
      ],
      "execution_count": 19,
      "outputs": [
        {
          "output_type": "stream",
          "text": [
            "Original sentence:\n",
            "[['dogs', 'run'], ['cats', 'sleep']]\n",
            "tokenized_sentences with less frequent words converted to '<unk>':\n",
            "[['dogs', '<unk>'], ['<unk>', 'sleep']]\n"
          ],
          "name": "stdout"
        }
      ]
    },
    {
      "cell_type": "markdown",
      "metadata": {
        "id": "qrFp9fU9X-Uc"
      },
      "source": [
        "Expected answer\n",
        "\n",
        "```CPP\n",
        "Original sentence:\n",
        "[['dogs', 'run'], ['cats', 'sleep']]\n",
        "tokenized_sentences with less frequent words converted to '<unk>':\n",
        "[['dogs', '<unk>'], ['<unk>', 'sleep']]\n",
        "```"
      ]
    },
    {
      "cell_type": "markdown",
      "metadata": {
        "id": "HUU67S44YBEz"
      },
      "source": [
        "<a name='ex-07'></a>\n",
        "#### Exercise 07: Preprocessing all the steps"
      ]
    },
    {
      "cell_type": "markdown",
      "metadata": {
        "id": "2TZQYAfPYZIx"
      },
      "source": [
        "Now we are ready to process our data by combining the functions that you just implemented.\n",
        "\n",
        "1. Find tokens that appear at least count_threshold times in the training data.\n",
        "1. Replace tokens that appear less than count_threshold times by \"<unk\\>\" both for training and test data."
      ]
    },
    {
      "cell_type": "code",
      "metadata": {
        "id": "2hxAuTnmX6cp"
      },
      "source": [
        "# UNQ_C7 (UNIQUE CELL IDENTIFIER, DO NOT EDIT)\n",
        "### GRADED_FUNCTION: preprocess_data ###\n",
        "def preprocess_data(train_data, test_data, count_threshold):\n",
        "  \"\"\"\n",
        "  Preprocess data, i.e.,\n",
        "      - Find tokens that appear at least N times in the training data.\n",
        "      - Replace tokens that appear less than N times by \"<unk>\" both for training and test data.        \n",
        "  Args:\n",
        "      train_data, test_data: List of lists of strings.\n",
        "      count_threshold: Words whose count is less than this are \n",
        "                    treated as unknown.\n",
        "  Returns:\n",
        "      Tuple of\n",
        "      - training data with low frequent words replaced by \"<unk>\"\n",
        "      - test data with low frequent words replaced by \"<unk>\"\n",
        "      - vocabulary of words that appear n times or more in the training data\n",
        "  \"\"\"\n",
        "\n",
        "  ### START CODE HERE (Replace instances of 'None' with your code) ###\n",
        "\n",
        "  # Get the closed vocabulary using the train data\n",
        "  vocabulary = get_words_with_nplus_frequency(train_data, count_threshold)\n",
        "\n",
        "  # For the train data, replace less common words with \"<unk>\"\n",
        "  train_data_replaced = replace_oov_words_by_unk(train_data, vocabulary)\n",
        "\n",
        "  # For the test data, replace less common words with \"<unk>\"\n",
        "  test_data_replaced = replace_oov_words_by_unk(test_data, vocabulary)\n",
        "\n",
        "  ### END CODE HERE ###\n",
        "\n",
        "  return train_data_replaced, test_data_replaced, vocabulary"
      ],
      "execution_count": 20,
      "outputs": []
    },
    {
      "cell_type": "code",
      "metadata": {
        "id": "w9Rwjzq-acVR",
        "colab": {
          "base_uri": "https://localhost:8080/"
        },
        "outputId": "ced206bd-4a01-4297-f1f4-019ad6dbcea6"
      },
      "source": [
        "# test your code\n",
        "tmp_train = [['sky', 'is', 'blue', '.'],\n",
        "     ['leaves', 'are', 'green']]\n",
        "tmp_test = [['roses', 'are', 'red', '.']]\n",
        "\n",
        "tmp_train_repl, tmp_test_repl, tmp_vocab = preprocess_data(tmp_train, tmp_test, count_threshold=1)\n",
        "print(\"tmp_train_repl\")\n",
        "print(tmp_train_repl)\n",
        "print()\n",
        "print(\"tmp_test_repl\")\n",
        "print(tmp_test_repl)\n",
        "print()\n",
        "print(\"tmp_vocab\")\n",
        "print(tmp_vocab)"
      ],
      "execution_count": 21,
      "outputs": [
        {
          "output_type": "stream",
          "text": [
            "tmp_train_repl\n",
            "[['sky', 'is', 'blue', '.'], ['leaves', 'are', 'green']]\n",
            "\n",
            "tmp_test_repl\n",
            "[['<unk>', 'are', '<unk>', '.']]\n",
            "\n",
            "tmp_vocab\n",
            "['sky', 'is', 'blue', '.', 'leaves', 'are', 'green']\n"
          ],
          "name": "stdout"
        }
      ]
    },
    {
      "cell_type": "markdown",
      "metadata": {
        "id": "SINTTYRSa27T"
      },
      "source": [
        "Expected outcome\n",
        "\n",
        "```CPP\n",
        "tmp_train_repl\n",
        "[['sky', 'is', 'blue', '.'], ['leaves', 'are', 'green']]\n",
        "\n",
        "tmp_test_repl\n",
        "[['<unk>', 'are', '<unk>', '.']]\n",
        "\n",
        "tmp_vocab\n",
        "['sky', 'is', 'blue', '.', 'leaves', 'are', 'green']\n",
        "```"
      ]
    },
    {
      "cell_type": "markdown",
      "metadata": {
        "id": "xJx43bdsbKrZ"
      },
      "source": [
        "<a name='1.4'></a>\n",
        "### Part 1.4 Preprocess the train and test data"
      ]
    },
    {
      "cell_type": "markdown",
      "metadata": {
        "id": "3iitHeRobXwn"
      },
      "source": [
        "Run the cell below to complete the preprocessing both for training and test sets."
      ]
    },
    {
      "cell_type": "code",
      "metadata": {
        "id": "uf5p-lQsawkY",
        "colab": {
          "base_uri": "https://localhost:8080/"
        },
        "outputId": "3abe7ccd-4ba2-4e24-bd0a-a28802b2965e"
      },
      "source": [
        "minimum_freq = 2\n",
        "train_data_processed, test_data_processed, vocabulary = preprocess_data(train_data, test_data, minimum_freq)\n",
        "\n",
        "print(\"First preprocessed training sample:\")\n",
        "print(train_data_processed[0])\n",
        "print()\n",
        "print(\"First preprocessed test sample:\")\n",
        "print(test_data_processed[0])\n",
        "print()\n",
        "print(\"First 10 vocabulary:\")\n",
        "print(vocabulary[0:10])\n",
        "print()\n",
        "print(\"Size of vocabulary:\", len(vocabulary))"
      ],
      "execution_count": 22,
      "outputs": [
        {
          "output_type": "stream",
          "text": [
            "First preprocessed training sample:\n",
            "['what', 'little', 'i', 'have', 'goes', 'toward', 'my', 'commute', '.', '$', '4', 'gasoline', '.']\n",
            "\n",
            "First preprocessed test sample:\n",
            "['at', 'least', 'it', 'was', '<unk>', 'santana', \"'s\", 'own', 'wild', 'pitch', 'that', 'kept', 'him', 'from', 'throwing', 'a', '<unk>', 'no-hitter', '.', 'pretty', 'unique', 'i', 'must', 'say', '.']\n",
            "\n",
            "First 10 vocabulary:\n",
            "['what', 'little', 'i', 'have', 'goes', 'toward', 'my', 'commute', '.', '$']\n",
            "\n",
            "Size of vocabulary: 14868\n"
          ],
          "name": "stdout"
        }
      ]
    },
    {
      "cell_type": "markdown",
      "metadata": {
        "id": "jBaTaG9db3Rq"
      },
      "source": [
        "Expected output\n",
        "\n",
        "```CPP\n",
        "First preprocessed training sample:\n",
        "['i', 'personally', 'would', 'like', 'as', 'our', 'official', 'glove', 'of', 'the', 'team', 'local', 'company', 'and', 'quality', 'production']\n",
        "\n",
        "First preprocessed test sample:\n",
        "['that', 'picture', 'i', 'just', 'seen', 'whoa', 'dere', '!', '!', '>', '>', '>', '>', '>', '>', '>']\n",
        "\n",
        "First 10 vocabulary:\n",
        "['i', 'personally', 'would', 'like', 'as', 'our', 'official', 'glove', 'of', 'the']\n",
        "\n",
        "Size of vocabulary: 14821\n",
        "```\n",
        "\n",
        "You are done with the preprocessing section of the assignment.\n",
        "Objects `train_data_processed`, `test_data_processed`, and `vocabulary` will be used in the rest of the exercises."
      ]
    },
    {
      "cell_type": "markdown",
      "metadata": {
        "id": "PJR9qlKKb7cr"
      },
      "source": [
        "<a name='2'></a>\n",
        "## Part 2: Develop n-gram based language models"
      ]
    },
    {
      "cell_type": "markdown",
      "metadata": {
        "id": "sS49v6A-cJMP"
      },
      "source": [
        "In this section, you will develop the n-grams language model.\n",
        "- Assume the probability of the next word depends only on the previous n-gram.\n",
        "- The previous n-gram is the series of the previous 'n' words.\n",
        "\n",
        "The conditional probability for the word at position 't' in the sentence, given that the words preceding it are $w_{t-1}, w_{t-2} \\cdots w_{t-n}$ is:\n",
        "\n",
        "$$ P(w_t | w_{t-1}\\dots w_{t-n}) \\tag{1}$$\n",
        "\n",
        "You can estimate this probability  by counting the occurrences of these series of words in the training data.\n",
        "- The probability can be estimated as a ratio, where\n",
        "- The numerator is the number of times word 't' appears after words t-1 through t-n appear in the training data.\n",
        "- The denominator is the number of times word t-1 through t-n appears in the training data.\n",
        "\n",
        "$$ \\hat{P}(w_t | w_{t-1}\\dots w_{t-n}) = \\frac{C(w_{t-1}\\dots w_{t-n}, w_n)}{C(w_{t-1}\\dots w_{t-n})} \\tag{2} $$\n",
        "\n",
        "- The function $C(\\cdots)$ denotes the number of occurence of the given sequence. \n",
        "- $\\hat{P}$ means the estimation of $P$. \n",
        "- Notice that denominator of the equation (2) is the number of occurence of the previous $n$ words, and the numerator is the same sequence followed by the word $w_t$.\n",
        "\n",
        "Later, you will modify the equation (2) by adding k-smoothing, which avoids errors when any counts are zero.\n",
        "\n",
        "The equation (2) tells us that to estimate probabilities based on n-grams, you need the counts of n-grams (for denominator) and (n+1)-grams (for numerator)."
      ]
    },
    {
      "cell_type": "markdown",
      "metadata": {
        "id": "7lYENKdD33gf"
      },
      "source": [
        "<a name='ex-08'></a>\n",
        "#### Exercise 08: Computing the counts of n-grams"
      ]
    },
    {
      "cell_type": "markdown",
      "metadata": {
        "id": "ZBvl0fXD38Iz"
      },
      "source": [
        "Next, you will implement a function that computes the counts of n-grams for an arbitrary number $n$.\n",
        "\n",
        "When computing the counts for n-grams, prepare the sentence beforehand by prepending $n-1$ starting markers \"<s\\>\" to indicate the beginning of the sentence.  \n",
        "- For example, in the bi-gram model (N=2), a sequence with two start tokens \"<s\\><s\\>\" should predict the first word of a sentence.\n",
        "- So, if the sentence is \"I like food\", modify it to be \"<s\\><s\\> I like food\".\n",
        "- Also prepare the sentence for counting by appending an end token \"<e\\>\" so that the model can predict when to finish a sentence.\n",
        "\n",
        "Technical note: In this implementation, you will store the counts as a dictionary.\n",
        "- The key of each key-value pair in the dictionary is a **tuple** of n words (and not a list)\n",
        "- The value in the key-value pair is the number of occurrences.  \n",
        "- The reason for using a tuple as a key instead of a list is because a list in Python is a mutable object (it can be changed after it is first created).  A tuple is \"immutable\", so it cannot be altered after it is first created.  This makes a tuple suitable as a data type for the key in a dictionary."
      ]
    },
    {
      "cell_type": "markdown",
      "metadata": {
        "id": "xqV9dhWV4AVq"
      },
      "source": [
        "<details>    \n",
        "<summary>\n",
        "    <font size=\"3\" color=\"darkgreen\"><b>Hints</b></font>\n",
        "</summary>\n",
        "<p>\n",
        "<ul>\n",
        "    <li> To prepend or append, you can create lists and concatenate them using the + operator </li>\n",
        "    <li> To create a list of a repeated value, you can follow this syntax: <code>['a'] * 3</code> to get <code>['a','a','a']</code> </li>\n",
        "    <li>To set the range for index 'i', think of this example: An n-gram where n=2 (bigram), and the sentence is length N=5 (including two start tokens and one end token).  So the index positions are <code>[0,1,2,3,4]</code>.  The largest index 'i' where a bigram can start is at position i=3, because the word tokens at position 3 and 4 will form the bigram. </li>\n",
        "    <li>Remember that the <code>range()</code> function excludes the value that is used for the maximum of the range.  <code> range(3) </code> produces (0,1,2) but excludes 3. </li>\n",
        "</ul>\n",
        "</p>\n"
      ]
    },
    {
      "cell_type": "code",
      "metadata": {
        "id": "1TG2rQNQbpzs"
      },
      "source": [
        "# UNQ_C8 (UNIQUE CELL IDENTIFIER, DO NOT EDIT)\n",
        "### GRADED FUNCTION: count_n_grams ###\n",
        "def count_n_grams(data, n, start_token='<s>', end_token='<e>'):\n",
        "  \"\"\"\n",
        "  Count all n-grams in the data\n",
        "  Args:\n",
        "      data: List of lists of words\n",
        "      n: number of words in a sequence\n",
        "  Returns:\n",
        "      A dictionary that maps a tuple of n-words to its frequency\n",
        "  \"\"\"\n",
        "\n",
        "  # Initialize dictionary of n-grams and their counts\n",
        "  n_grams = {}\n",
        "\n",
        "  ### START CODE HERE (Replace instances of 'None' with your code) ###\n",
        "\n",
        "  # Go through each sentence in the data\n",
        "  for sentence in data:\n",
        "    # prepend start token n times, and  append <e> one time\n",
        "    sentence = [start_token] * n + sentence + [end_token]\n",
        "\n",
        "    # convert list to tuple so that the sequence of words can be used as a key in the dictionary\n",
        "    sentence = tuple(sentence)\n",
        "\n",
        "    # Use 'i' to indicate the start of the n-gram from index 0\n",
        "    # to the last index where the end of the n-gram is within the sentence.\n",
        "    m = len(sentence) if n == 1 else len(sentence) - 1\n",
        "    for i in range(m):\n",
        "      # Get the n-gram from i to i+n\n",
        "      n_gram = sentence[i: i + n]\n",
        "\n",
        "      # check if the n-gram is in the dictionary\n",
        "      if n_gram in n_grams.keys():\n",
        "        # Increment the count for this n-gram\n",
        "        n_grams[n_gram] += 1\n",
        "      else:\n",
        "        # Initialize this n-gram count to 1\n",
        "        n_grams[n_gram] = 1\n",
        "\n",
        "  ### END CODE HERE ###\n",
        "\n",
        "  return n_grams"
      ],
      "execution_count": 23,
      "outputs": []
    },
    {
      "cell_type": "code",
      "metadata": {
        "id": "v0wxrruB74db",
        "colab": {
          "base_uri": "https://localhost:8080/"
        },
        "outputId": "96018fe5-e2f2-4f3c-dbc3-0434bbb54fd9"
      },
      "source": [
        "# test your code\n",
        "# CODE REVIEW COMMENT: Outcome does not match expected outcome\n",
        "sentences = [['i', 'like', 'a', 'cat'],\n",
        "             ['this', 'dog', 'is', 'like', 'a', 'cat']]\n",
        "print(\"Uni-gram:\")\n",
        "print(count_n_grams(sentences, 1))\n",
        "print(\"Bi-gram:\")\n",
        "print(count_n_grams(sentences, 2))"
      ],
      "execution_count": 24,
      "outputs": [
        {
          "output_type": "stream",
          "text": [
            "Uni-gram:\n",
            "{('<s>',): 2, ('i',): 1, ('like',): 2, ('a',): 2, ('cat',): 2, ('<e>',): 2, ('this',): 1, ('dog',): 1, ('is',): 1}\n",
            "Bi-gram:\n",
            "{('<s>', '<s>'): 2, ('<s>', 'i'): 1, ('i', 'like'): 1, ('like', 'a'): 2, ('a', 'cat'): 2, ('cat', '<e>'): 2, ('<s>', 'this'): 1, ('this', 'dog'): 1, ('dog', 'is'): 1, ('is', 'like'): 1}\n"
          ],
          "name": "stdout"
        }
      ]
    },
    {
      "cell_type": "markdown",
      "metadata": {
        "id": "fzAVdscI8YD2"
      },
      "source": [
        "Expected outcome:\n",
        "\n",
        "```CPP\n",
        "Uni-gram:\n",
        "{('<s>',): 2, ('i',): 1, ('like',): 2, ('a',): 2, ('cat',): 2, ('<e>',): 2, ('this',): 1, ('dog',): 1, ('is',): 1}\n",
        "Bi-gram:\n",
        "{('<s>', '<s>'): 2, ('<s>', 'i'): 1, ('i', 'like'): 1, ('like', 'a'): 2, ('a', 'cat'): 2, ('cat', '<e>'): 2, ('<s>', 'this'): 1, ('this', 'dog'): 1, ('dog', 'is'): 1, ('is', 'like'): 1}\n",
        "```"
      ]
    },
    {
      "cell_type": "markdown",
      "metadata": {
        "id": "cCqn_DUV8Y6n"
      },
      "source": [
        "<a name='ex-09'></a>\n",
        "#### Exercise 09: Estimate the probability of a word"
      ]
    },
    {
      "cell_type": "markdown",
      "metadata": {
        "id": "XeW6DSv29IQH"
      },
      "source": [
        "Next, estimate the probability of a word given the prior 'n' words using the n-gram counts.\n",
        "\n",
        "$$ \\hat{P}(w_t | w_{t-1}\\dots w_{t-n}) = \\frac{C(w_{t-1}\\dots w_{t-n}, w_n)}{C(w_{t-1}\\dots w_{t-n})} \\tag{2} $$\n",
        "\n",
        "This formula doesn't work when a count of an n-gram is zero..\n",
        "- Suppose we encounter an n-gram that did not occur in the training data.  \n",
        "- Then, the equation (2) cannot be evaluated (it becomes zero divided by zero).\n",
        "\n",
        "A way to handle zero counts is to add k-smoothing.  \n",
        "- K-smoothing adds a positive constant $k$ to each numerator and $k \\times |V|$ in the denominator, where $|V|$ is the number of words in the vocabulary.\n",
        "\n",
        "$$ \\hat{P}(w_t | w_{t-1}\\dots w_{t-n}) = \\frac{C(w_{t-1}\\dots w_{t-n}, w_n) + k}{C(w_{t-1}\\dots w_{t-n}) + k|V|} \\tag{3} $$\n",
        "\n",
        "\n",
        "For n-grams that have a zero count, the equation (3) becomes $\\frac{1}{|V|}$.\n",
        "- This means that any n-gram with zero count has the same probability of $\\frac{1}{|V|}$.\n",
        "\n",
        "Define a function that computes the probability estimate (3) from n-gram counts and a constant $k$.\n",
        "\n",
        "- The function takes in a dictionary 'n_gram_counts', where the key is the n-gram and the value is the count of that n-gram.\n",
        "- The function also takes another dictionary n_plus1_gram_counts, which you'll use to find the count for the previous n-gram plus the current word."
      ]
    },
    {
      "cell_type": "markdown",
      "metadata": {
        "id": "RKrTK0UH9PWs"
      },
      "source": [
        "<details>    \n",
        "<summary>\n",
        "    <font size=\"3\" color=\"darkgreen\"><b>Hints</b></font>\n",
        "</summary>\n",
        "<p>\n",
        "<ul>\n",
        "    <li>To define a tuple containing a single value, add a comma after that value.  For example: <code>('apple',)</code> is a tuple containing a single string 'apple' </li>\n",
        "    <li>To concatenate two tuples, use the '+' operator</li>\n",
        "    <li><a href=\"\" > words </a> </li>\n",
        "</ul>\n",
        "</p>\n"
      ]
    },
    {
      "cell_type": "code",
      "metadata": {
        "id": "3hrPv_HH9P51"
      },
      "source": [
        "# UNQ_C9 (UNIQUE CELL IDENTIFIER, DO NOT EDIT)\n",
        "### GRADED FUNCTION: estimate_probabilityy ###\n",
        "def estimate_probability(word, previous_n_gram, n_gram_counts, n_plus1_gram_counts, vocabulary_size, k=1.0):\n",
        "  \"\"\"\n",
        "  Estimate the probabilities of a next word using the n-gram counts with k-smoothing\n",
        "  Args:\n",
        "      word: next word\n",
        "      previous_n_gram: A sequence of words of length n\n",
        "      n_gram_counts: Dictionary of counts of (n+1)-grams\n",
        "      n_plus1_gram_counts: Dictionary of counts of (n+1)-grams\n",
        "      vocabulary_size: number of words in the vocabulary\n",
        "      k: positive constant, smoothing parameter\n",
        "  Returns:\n",
        "      A probability\n",
        "  \"\"\"\n",
        "\n",
        "  # convert list to tuple to use it as a dictionary key\n",
        "  previous_n_gram = tuple(previous_n_gram)\n",
        "\n",
        "  ### START CODE HERE (Replace instances of 'None' with your code) ###\n",
        "\n",
        "  # Set the denominator\n",
        "  # If the previous n-gram exists in the dictionary of n-gram counts, Get its count.  \n",
        "  # Otherwise set the count to zero, Use the dictionary that has counts for n-grams\n",
        "  previous_n_gram_count = n_gram_counts[previous_n_gram] if previous_n_gram in n_gram_counts else 0\n",
        "\n",
        "  # Calculate the denominator using the count of the previous n gram and apply k-smoothing\n",
        "  denominator = previous_n_gram_count + k * vocabulary_size\n",
        "\n",
        "  # Define n plus 1 gram as the previous n-gram plus the current word as a tuple\n",
        "  n_plus1_gram = previous_n_gram + (word, )\n",
        "\n",
        "  # Set the count to the count in the dictionary,\n",
        "  # otherwise 0 if not in the dictionary\n",
        "  # use the dictionary that has counts for the n-gram plus current word\n",
        "  n_plus1_gram_count = n_plus1_gram_counts[n_plus1_gram] if n_plus1_gram in n_plus1_gram_counts else 0\n",
        "\n",
        "  # Define the numerator use the count of the n-gram plus current word, and apply smoothing\n",
        "  numerator = n_plus1_gram_count + k\n",
        "\n",
        "  # Calculate the probability as the numerator divided by denominator\n",
        "  probability = numerator / denominator\n",
        "\n",
        "  ### END CODE HERE ###\n",
        "\n",
        "  return probability"
      ],
      "execution_count": 25,
      "outputs": []
    },
    {
      "cell_type": "code",
      "metadata": {
        "id": "k-3x0i31BU5l",
        "colab": {
          "base_uri": "https://localhost:8080/"
        },
        "outputId": "5f212b24-c33c-4dc4-88c9-1832e64fbcf0"
      },
      "source": [
        "# test your code\n",
        "sentences = [['i', 'like', 'a', 'cat'],\n",
        "             ['this', 'dog', 'is', 'like', 'a', 'cat']]\n",
        "\n",
        "unique_words = list(set(sentences[0] + sentences[1]))\n",
        "\n",
        "unigram_counts = count_n_grams(sentences, 1)\n",
        "bigram_counts = count_n_grams(sentences, 2) \n",
        "tmp_prob = estimate_probability('cat', 'a', unigram_counts, bigram_counts, len(unique_words), k=1)\n",
        "print(f\"The estimated probability of word 'cat' given the previous n-gram 'a' is: {tmp_prob: .4f}\")          "
      ],
      "execution_count": 26,
      "outputs": [
        {
          "output_type": "stream",
          "text": [
            "The estimated probability of word 'cat' given the previous n-gram 'a' is:  0.3333\n"
          ],
          "name": "stdout"
        }
      ]
    },
    {
      "cell_type": "markdown",
      "metadata": {
        "id": "sBU3HiyaColD"
      },
      "source": [
        "Expected output\n",
        "\n",
        "```CPP\n",
        "The estimated probability of word 'cat' given the previous n-gram 'a' is: 0.3333\n",
        "```"
      ]
    },
    {
      "cell_type": "markdown",
      "metadata": {
        "id": "hog5USQPCrQX"
      },
      "source": [
        "### Estimate probabilities for all words"
      ]
    },
    {
      "cell_type": "markdown",
      "metadata": {
        "id": "0FZsCcDiC6iW"
      },
      "source": [
        "The function defined below loops over all words in vocabulary to calculate probabilities for all possible words.\n",
        "- This function is provided for you."
      ]
    },
    {
      "cell_type": "code",
      "metadata": {
        "id": "YYRy3XrlCXbX"
      },
      "source": [
        "def estimate_probabilities(previous_n_gram, n_gram_counts, n_plus1_gram_counts, vocabulary, k=1.0):\n",
        "  \"\"\"\n",
        "  Estimate the probabilities of next words using the n-gram counts with k-smoothing\n",
        "  Args:\n",
        "      previous_n_gram: A sequence of words of length n\n",
        "      n_gram_counts: Dictionary of counts of (n+1)-grams\n",
        "      n_plus1_gram_counts: Dictionary of counts of (n+1)-grams\n",
        "      vocabulary: List of words\n",
        "      k: positive constant, smoothing parameter\n",
        "  Returns:\n",
        "      A dictionary mapping from next words to the probability.\n",
        "  \"\"\"\n",
        "\n",
        "  # convert list to tuple to use it as a dictionary key\n",
        "  previous_n_gram = tuple(previous_n_gram)\n",
        "\n",
        "  # add <e> <unk> to the vocabulary\n",
        "  # <s> is not needed since it should not appear as the next word\n",
        "  vocabulary = vocabulary + [\"<e>\", \"<unk>\"]\n",
        "  vocabulary_size = len(vocabulary)\n",
        "\n",
        "  \"\"\"\n",
        "  probabilities = {}\n",
        "    for word in vocabulary:\n",
        "        probability = estimate_probability(word, previous_n_gram, \n",
        "                                           n_gram_counts, n_plus1_gram_counts, \n",
        "                                           vocabulary_size, k=k)\n",
        "        probabilities[word] = probability\n",
        "  \"\"\"\n",
        "  probabilities = {word: estimate_probability(word, previous_n_gram, n_gram_counts, n_plus1_gram_counts, vocabulary_size, k) for word in vocabulary}\n",
        "\n",
        "  return probabilities"
      ],
      "execution_count": 27,
      "outputs": []
    },
    {
      "cell_type": "code",
      "metadata": {
        "id": "Z0-_RYPADxa_",
        "colab": {
          "base_uri": "https://localhost:8080/"
        },
        "outputId": "cca93b74-6219-45e0-ce8b-623ebf646644"
      },
      "source": [
        "# test your code\n",
        "sentences = [['i', 'like', 'a', 'cat'],\n",
        "             ['this', 'dog', 'is', 'like', 'a', 'cat']]\n",
        "             \n",
        "unique_words = list(set(sentences[0] + sentences[1]))\n",
        "\n",
        "unigram_counts = count_n_grams(sentences, 1)\n",
        "bigram_counts = count_n_grams(sentences, 2)\n",
        "estimate_probabilities(\"a\", unigram_counts, bigram_counts, unique_words, k=1)"
      ],
      "execution_count": 28,
      "outputs": [
        {
          "output_type": "execute_result",
          "data": {
            "text/plain": [
              "{'<e>': 0.09090909090909091,\n",
              " '<unk>': 0.09090909090909091,\n",
              " 'a': 0.09090909090909091,\n",
              " 'cat': 0.2727272727272727,\n",
              " 'dog': 0.09090909090909091,\n",
              " 'i': 0.09090909090909091,\n",
              " 'is': 0.09090909090909091,\n",
              " 'like': 0.09090909090909091,\n",
              " 'this': 0.09090909090909091}"
            ]
          },
          "metadata": {
            "tags": []
          },
          "execution_count": 28
        }
      ]
    },
    {
      "cell_type": "markdown",
      "metadata": {
        "id": "M0xavul9FHvb"
      },
      "source": [
        "Expected output\n",
        "\n",
        "```CPP\n",
        "{'cat': 0.2727272727272727,\n",
        " 'i': 0.09090909090909091,\n",
        " 'this': 0.09090909090909091,\n",
        " 'a': 0.09090909090909091,\n",
        " 'is': 0.09090909090909091,\n",
        " 'like': 0.09090909090909091,\n",
        " 'dog': 0.09090909090909091,\n",
        " '<e>': 0.09090909090909091,\n",
        " '<unk>': 0.09090909090909091}\n",
        "```"
      ]
    },
    {
      "cell_type": "code",
      "metadata": {
        "id": "Vvr-U-OhE2BG",
        "colab": {
          "base_uri": "https://localhost:8080/"
        },
        "outputId": "fb09fa9a-00da-4dc8-8b78-62ac41463c48"
      },
      "source": [
        "# Additional test\n",
        "trigram_counts = count_n_grams(sentences, 3)\n",
        "estimate_probabilities([\"<s>\", \"<s>\"], bigram_counts, trigram_counts, unique_words, k=1)"
      ],
      "execution_count": 29,
      "outputs": [
        {
          "output_type": "execute_result",
          "data": {
            "text/plain": [
              "{'<e>': 0.09090909090909091,\n",
              " '<unk>': 0.09090909090909091,\n",
              " 'a': 0.09090909090909091,\n",
              " 'cat': 0.09090909090909091,\n",
              " 'dog': 0.09090909090909091,\n",
              " 'i': 0.18181818181818182,\n",
              " 'is': 0.09090909090909091,\n",
              " 'like': 0.09090909090909091,\n",
              " 'this': 0.18181818181818182}"
            ]
          },
          "metadata": {
            "tags": []
          },
          "execution_count": 29
        }
      ]
    },
    {
      "cell_type": "markdown",
      "metadata": {
        "id": "CRXmG04_FrjI"
      },
      "source": [
        "Expected output\n",
        "\n",
        "```CPP\n",
        "{'cat': 0.09090909090909091,\n",
        " 'i': 0.18181818181818182,\n",
        " 'this': 0.18181818181818182,\n",
        " 'a': 0.09090909090909091,\n",
        " 'is': 0.09090909090909091,\n",
        " 'like': 0.09090909090909091,\n",
        " 'dog': 0.09090909090909091,\n",
        " '<e>': 0.09090909090909091,\n",
        " '<unk>': 0.09090909090909091}\n",
        "```"
      ]
    },
    {
      "cell_type": "markdown",
      "metadata": {
        "id": "LNmvUmaiFvvZ"
      },
      "source": [
        "### Count and probability matrices"
      ]
    },
    {
      "cell_type": "markdown",
      "metadata": {
        "id": "-F1nNvW6FwQ_"
      },
      "source": [
        "As we have seen so far, the n-gram counts computed above are sufficient for computing the probabilities of the next word.  \n",
        "- It can be more intuitive to present them as count or probability matrices.\n",
        "- The functions defined in the next cells return count or probability matrices.\n",
        "- This function is provided for you."
      ]
    },
    {
      "cell_type": "code",
      "metadata": {
        "id": "BlcZI2y_Fga2"
      },
      "source": [
        "def make_count_matrix(n_plus1_gram_counts, vocabulary):\n",
        "  # add <e> <unk> to the vocabulary\n",
        "  # <s> is omitted since it should not appear as the next word\n",
        "  vocabulary = vocabulary + [\"<e>\", \"<unk>\"]\n",
        "\n",
        "  # obtain unique n-grams\n",
        "  \"\"\"\n",
        "  n_grams = []\n",
        "  for n_plus1_gram in n_plus1_gram_counts.keys():\n",
        "    n_gram = n_plus1_gram[0: -1]\n",
        "    n_grams.append(n_gram)\n",
        "  \"\"\"\n",
        "  n_grams = [n_plus1_gram[0: -1] for n_plus1_gram in n_plus1_gram_counts.keys()]\n",
        "\n",
        "  # mapping from n-gram to row\n",
        "  row_index = {n_gram: i for i, n_gram in enumerate(n_grams)}\n",
        "  # mapping from next word to column\n",
        "  col_index = {word: j for j, word in enumerate(vocabulary) }\n",
        "\n",
        "  nrow = len(n_grams)\n",
        "  ncol = len(vocabulary)\n",
        "  count_matrix = np.zeros((nrow, ncol))\n",
        "  for n_plus1_gram, count in n_plus1_gram_counts.items():\n",
        "    n_gram = n_plus1_gram[0: -1]\n",
        "    word = n_plus1_gram[-1]\n",
        "    if word not in vocabulary:\n",
        "      continue\n",
        "    i = row_index[n_gram]\n",
        "    j = col_index[word]\n",
        "    count_matrix[i, j] = count\n",
        "\n",
        "  count_matrix = pd.DataFrame(count_matrix, index=n_grams, columns=vocabulary)\n",
        "\n",
        "  return count_matrix"
      ],
      "execution_count": 30,
      "outputs": []
    },
    {
      "cell_type": "code",
      "metadata": {
        "id": "t3GzknA_Jmeg",
        "colab": {
          "base_uri": "https://localhost:8080/",
          "height": 373
        },
        "outputId": "cb928168-4dfe-44d8-b352-6100fcbe135b"
      },
      "source": [
        "sentences = [\n",
        "             ['i', 'like', 'a', 'cat'],\n",
        "             ['this', 'dog', 'is', 'like', 'a', 'cat']\n",
        "            ]\n",
        "\n",
        "unique_words = list(set(sentences[0] + sentences[1]))\n",
        "bigram_counts = count_n_grams(sentences, 2)\n",
        "\n",
        "print('bigram counts')\n",
        "display(make_count_matrix(bigram_counts, unique_words))"
      ],
      "execution_count": 31,
      "outputs": [
        {
          "output_type": "stream",
          "text": [
            "bigram counts\n"
          ],
          "name": "stdout"
        },
        {
          "output_type": "display_data",
          "data": {
            "text/html": [
              "<div>\n",
              "<style scoped>\n",
              "    .dataframe tbody tr th:only-of-type {\n",
              "        vertical-align: middle;\n",
              "    }\n",
              "\n",
              "    .dataframe tbody tr th {\n",
              "        vertical-align: top;\n",
              "    }\n",
              "\n",
              "    .dataframe thead th {\n",
              "        text-align: right;\n",
              "    }\n",
              "</style>\n",
              "<table border=\"1\" class=\"dataframe\">\n",
              "  <thead>\n",
              "    <tr style=\"text-align: right;\">\n",
              "      <th></th>\n",
              "      <th>a</th>\n",
              "      <th>this</th>\n",
              "      <th>like</th>\n",
              "      <th>i</th>\n",
              "      <th>dog</th>\n",
              "      <th>is</th>\n",
              "      <th>cat</th>\n",
              "      <th>&lt;e&gt;</th>\n",
              "      <th>&lt;unk&gt;</th>\n",
              "    </tr>\n",
              "  </thead>\n",
              "  <tbody>\n",
              "    <tr>\n",
              "      <th>(&lt;s&gt;,)</th>\n",
              "      <td>0.0</td>\n",
              "      <td>0.0</td>\n",
              "      <td>0.0</td>\n",
              "      <td>0.0</td>\n",
              "      <td>0.0</td>\n",
              "      <td>0.0</td>\n",
              "      <td>0.0</td>\n",
              "      <td>0.0</td>\n",
              "      <td>0.0</td>\n",
              "    </tr>\n",
              "    <tr>\n",
              "      <th>(&lt;s&gt;,)</th>\n",
              "      <td>0.0</td>\n",
              "      <td>0.0</td>\n",
              "      <td>0.0</td>\n",
              "      <td>0.0</td>\n",
              "      <td>0.0</td>\n",
              "      <td>0.0</td>\n",
              "      <td>0.0</td>\n",
              "      <td>0.0</td>\n",
              "      <td>0.0</td>\n",
              "    </tr>\n",
              "    <tr>\n",
              "      <th>(i,)</th>\n",
              "      <td>0.0</td>\n",
              "      <td>0.0</td>\n",
              "      <td>1.0</td>\n",
              "      <td>0.0</td>\n",
              "      <td>0.0</td>\n",
              "      <td>0.0</td>\n",
              "      <td>0.0</td>\n",
              "      <td>0.0</td>\n",
              "      <td>0.0</td>\n",
              "    </tr>\n",
              "    <tr>\n",
              "      <th>(like,)</th>\n",
              "      <td>2.0</td>\n",
              "      <td>0.0</td>\n",
              "      <td>0.0</td>\n",
              "      <td>0.0</td>\n",
              "      <td>0.0</td>\n",
              "      <td>0.0</td>\n",
              "      <td>0.0</td>\n",
              "      <td>0.0</td>\n",
              "      <td>0.0</td>\n",
              "    </tr>\n",
              "    <tr>\n",
              "      <th>(a,)</th>\n",
              "      <td>0.0</td>\n",
              "      <td>0.0</td>\n",
              "      <td>0.0</td>\n",
              "      <td>0.0</td>\n",
              "      <td>0.0</td>\n",
              "      <td>0.0</td>\n",
              "      <td>2.0</td>\n",
              "      <td>0.0</td>\n",
              "      <td>0.0</td>\n",
              "    </tr>\n",
              "    <tr>\n",
              "      <th>(cat,)</th>\n",
              "      <td>0.0</td>\n",
              "      <td>0.0</td>\n",
              "      <td>0.0</td>\n",
              "      <td>0.0</td>\n",
              "      <td>0.0</td>\n",
              "      <td>0.0</td>\n",
              "      <td>0.0</td>\n",
              "      <td>2.0</td>\n",
              "      <td>0.0</td>\n",
              "    </tr>\n",
              "    <tr>\n",
              "      <th>(&lt;s&gt;,)</th>\n",
              "      <td>0.0</td>\n",
              "      <td>1.0</td>\n",
              "      <td>0.0</td>\n",
              "      <td>1.0</td>\n",
              "      <td>0.0</td>\n",
              "      <td>0.0</td>\n",
              "      <td>0.0</td>\n",
              "      <td>0.0</td>\n",
              "      <td>0.0</td>\n",
              "    </tr>\n",
              "    <tr>\n",
              "      <th>(this,)</th>\n",
              "      <td>0.0</td>\n",
              "      <td>0.0</td>\n",
              "      <td>0.0</td>\n",
              "      <td>0.0</td>\n",
              "      <td>1.0</td>\n",
              "      <td>0.0</td>\n",
              "      <td>0.0</td>\n",
              "      <td>0.0</td>\n",
              "      <td>0.0</td>\n",
              "    </tr>\n",
              "    <tr>\n",
              "      <th>(dog,)</th>\n",
              "      <td>0.0</td>\n",
              "      <td>0.0</td>\n",
              "      <td>0.0</td>\n",
              "      <td>0.0</td>\n",
              "      <td>0.0</td>\n",
              "      <td>1.0</td>\n",
              "      <td>0.0</td>\n",
              "      <td>0.0</td>\n",
              "      <td>0.0</td>\n",
              "    </tr>\n",
              "    <tr>\n",
              "      <th>(is,)</th>\n",
              "      <td>0.0</td>\n",
              "      <td>0.0</td>\n",
              "      <td>1.0</td>\n",
              "      <td>0.0</td>\n",
              "      <td>0.0</td>\n",
              "      <td>0.0</td>\n",
              "      <td>0.0</td>\n",
              "      <td>0.0</td>\n",
              "      <td>0.0</td>\n",
              "    </tr>\n",
              "  </tbody>\n",
              "</table>\n",
              "</div>"
            ],
            "text/plain": [
              "           a  this  like    i  dog   is  cat  <e>  <unk>\n",
              "(<s>,)   0.0   0.0   0.0  0.0  0.0  0.0  0.0  0.0    0.0\n",
              "(<s>,)   0.0   0.0   0.0  0.0  0.0  0.0  0.0  0.0    0.0\n",
              "(i,)     0.0   0.0   1.0  0.0  0.0  0.0  0.0  0.0    0.0\n",
              "(like,)  2.0   0.0   0.0  0.0  0.0  0.0  0.0  0.0    0.0\n",
              "(a,)     0.0   0.0   0.0  0.0  0.0  0.0  2.0  0.0    0.0\n",
              "(cat,)   0.0   0.0   0.0  0.0  0.0  0.0  0.0  2.0    0.0\n",
              "(<s>,)   0.0   1.0   0.0  1.0  0.0  0.0  0.0  0.0    0.0\n",
              "(this,)  0.0   0.0   0.0  0.0  1.0  0.0  0.0  0.0    0.0\n",
              "(dog,)   0.0   0.0   0.0  0.0  0.0  1.0  0.0  0.0    0.0\n",
              "(is,)    0.0   0.0   1.0  0.0  0.0  0.0  0.0  0.0    0.0"
            ]
          },
          "metadata": {
            "tags": []
          }
        }
      ]
    },
    {
      "cell_type": "markdown",
      "metadata": {
        "id": "nJL6wgDdKHQ0"
      },
      "source": [
        "Expected output\n",
        "\n",
        "```CPP\n",
        "bigram counts\n",
        "          cat    i   this   a  is   like  dog  <e>   <unk>\n",
        "(<s>,)    0.0   1.0  1.0  0.0  0.0  0.0   0.0  0.0    0.0\n",
        "(a,)      2.0   0.0  0.0  0.0  0.0  0.0   0.0  0.0    0.0\n",
        "(this,)   0.0   0.0  0.0  0.0  0.0  0.0   1.0  0.0    0.0\n",
        "(like,)   0.0   0.0  0.0  2.0  0.0  0.0   0.0  0.0    0.0\n",
        "(dog,)    0.0   0.0  0.0  0.0  1.0  0.0   0.0  0.0    0.0\n",
        "(cat,)    0.0   0.0  0.0  0.0  0.0  0.0   0.0  2.0    0.0\n",
        "(is,)     0.0   0.0  0.0  0.0  0.0  1.0   0.0  0.0    0.0\n",
        "(i,)      0.0   0.0  0.0  0.0  0.0  1.0   0.0  0.0    0.0\n",
        "```"
      ]
    },
    {
      "cell_type": "code",
      "metadata": {
        "id": "N46jodADJ8RV",
        "colab": {
          "base_uri": "https://localhost:8080/",
          "height": 451
        },
        "outputId": "2b339175-151c-48eb-d259-b7d433e2c6fd"
      },
      "source": [
        "# Show trigram counts\n",
        "print('\\ntrigram counts')\n",
        "trigram_counts = count_n_grams(sentences, 3)\n",
        "display(make_count_matrix(trigram_counts, unique_words))"
      ],
      "execution_count": 32,
      "outputs": [
        {
          "output_type": "stream",
          "text": [
            "\n",
            "trigram counts\n"
          ],
          "name": "stdout"
        },
        {
          "output_type": "display_data",
          "data": {
            "text/html": [
              "<div>\n",
              "<style scoped>\n",
              "    .dataframe tbody tr th:only-of-type {\n",
              "        vertical-align: middle;\n",
              "    }\n",
              "\n",
              "    .dataframe tbody tr th {\n",
              "        vertical-align: top;\n",
              "    }\n",
              "\n",
              "    .dataframe thead th {\n",
              "        text-align: right;\n",
              "    }\n",
              "</style>\n",
              "<table border=\"1\" class=\"dataframe\">\n",
              "  <thead>\n",
              "    <tr style=\"text-align: right;\">\n",
              "      <th></th>\n",
              "      <th>a</th>\n",
              "      <th>this</th>\n",
              "      <th>like</th>\n",
              "      <th>i</th>\n",
              "      <th>dog</th>\n",
              "      <th>is</th>\n",
              "      <th>cat</th>\n",
              "      <th>&lt;e&gt;</th>\n",
              "      <th>&lt;unk&gt;</th>\n",
              "    </tr>\n",
              "  </thead>\n",
              "  <tbody>\n",
              "    <tr>\n",
              "      <th>(&lt;s&gt;, &lt;s&gt;)</th>\n",
              "      <td>0.0</td>\n",
              "      <td>0.0</td>\n",
              "      <td>0.0</td>\n",
              "      <td>0.0</td>\n",
              "      <td>0.0</td>\n",
              "      <td>0.0</td>\n",
              "      <td>0.0</td>\n",
              "      <td>0.0</td>\n",
              "      <td>0.0</td>\n",
              "    </tr>\n",
              "    <tr>\n",
              "      <th>(&lt;s&gt;, &lt;s&gt;)</th>\n",
              "      <td>0.0</td>\n",
              "      <td>0.0</td>\n",
              "      <td>0.0</td>\n",
              "      <td>0.0</td>\n",
              "      <td>0.0</td>\n",
              "      <td>0.0</td>\n",
              "      <td>0.0</td>\n",
              "      <td>0.0</td>\n",
              "      <td>0.0</td>\n",
              "    </tr>\n",
              "    <tr>\n",
              "      <th>(&lt;s&gt;, i)</th>\n",
              "      <td>0.0</td>\n",
              "      <td>0.0</td>\n",
              "      <td>1.0</td>\n",
              "      <td>0.0</td>\n",
              "      <td>0.0</td>\n",
              "      <td>0.0</td>\n",
              "      <td>0.0</td>\n",
              "      <td>0.0</td>\n",
              "      <td>0.0</td>\n",
              "    </tr>\n",
              "    <tr>\n",
              "      <th>(i, like)</th>\n",
              "      <td>1.0</td>\n",
              "      <td>0.0</td>\n",
              "      <td>0.0</td>\n",
              "      <td>0.0</td>\n",
              "      <td>0.0</td>\n",
              "      <td>0.0</td>\n",
              "      <td>0.0</td>\n",
              "      <td>0.0</td>\n",
              "      <td>0.0</td>\n",
              "    </tr>\n",
              "    <tr>\n",
              "      <th>(like, a)</th>\n",
              "      <td>0.0</td>\n",
              "      <td>0.0</td>\n",
              "      <td>0.0</td>\n",
              "      <td>0.0</td>\n",
              "      <td>0.0</td>\n",
              "      <td>0.0</td>\n",
              "      <td>2.0</td>\n",
              "      <td>0.0</td>\n",
              "      <td>0.0</td>\n",
              "    </tr>\n",
              "    <tr>\n",
              "      <th>(a, cat)</th>\n",
              "      <td>0.0</td>\n",
              "      <td>0.0</td>\n",
              "      <td>0.0</td>\n",
              "      <td>0.0</td>\n",
              "      <td>0.0</td>\n",
              "      <td>0.0</td>\n",
              "      <td>0.0</td>\n",
              "      <td>2.0</td>\n",
              "      <td>0.0</td>\n",
              "    </tr>\n",
              "    <tr>\n",
              "      <th>(cat,)</th>\n",
              "      <td>0.0</td>\n",
              "      <td>0.0</td>\n",
              "      <td>0.0</td>\n",
              "      <td>0.0</td>\n",
              "      <td>0.0</td>\n",
              "      <td>0.0</td>\n",
              "      <td>0.0</td>\n",
              "      <td>2.0</td>\n",
              "      <td>0.0</td>\n",
              "    </tr>\n",
              "    <tr>\n",
              "      <th>(&lt;s&gt;, &lt;s&gt;)</th>\n",
              "      <td>0.0</td>\n",
              "      <td>1.0</td>\n",
              "      <td>0.0</td>\n",
              "      <td>1.0</td>\n",
              "      <td>0.0</td>\n",
              "      <td>0.0</td>\n",
              "      <td>0.0</td>\n",
              "      <td>0.0</td>\n",
              "      <td>0.0</td>\n",
              "    </tr>\n",
              "    <tr>\n",
              "      <th>(&lt;s&gt;, this)</th>\n",
              "      <td>0.0</td>\n",
              "      <td>0.0</td>\n",
              "      <td>0.0</td>\n",
              "      <td>0.0</td>\n",
              "      <td>1.0</td>\n",
              "      <td>0.0</td>\n",
              "      <td>0.0</td>\n",
              "      <td>0.0</td>\n",
              "      <td>0.0</td>\n",
              "    </tr>\n",
              "    <tr>\n",
              "      <th>(this, dog)</th>\n",
              "      <td>0.0</td>\n",
              "      <td>0.0</td>\n",
              "      <td>0.0</td>\n",
              "      <td>0.0</td>\n",
              "      <td>0.0</td>\n",
              "      <td>1.0</td>\n",
              "      <td>0.0</td>\n",
              "      <td>0.0</td>\n",
              "      <td>0.0</td>\n",
              "    </tr>\n",
              "    <tr>\n",
              "      <th>(dog, is)</th>\n",
              "      <td>0.0</td>\n",
              "      <td>0.0</td>\n",
              "      <td>1.0</td>\n",
              "      <td>0.0</td>\n",
              "      <td>0.0</td>\n",
              "      <td>0.0</td>\n",
              "      <td>0.0</td>\n",
              "      <td>0.0</td>\n",
              "      <td>0.0</td>\n",
              "    </tr>\n",
              "    <tr>\n",
              "      <th>(is, like)</th>\n",
              "      <td>1.0</td>\n",
              "      <td>0.0</td>\n",
              "      <td>0.0</td>\n",
              "      <td>0.0</td>\n",
              "      <td>0.0</td>\n",
              "      <td>0.0</td>\n",
              "      <td>0.0</td>\n",
              "      <td>0.0</td>\n",
              "      <td>0.0</td>\n",
              "    </tr>\n",
              "  </tbody>\n",
              "</table>\n",
              "</div>"
            ],
            "text/plain": [
              "               a  this  like    i  dog   is  cat  <e>  <unk>\n",
              "(<s>, <s>)   0.0   0.0   0.0  0.0  0.0  0.0  0.0  0.0    0.0\n",
              "(<s>, <s>)   0.0   0.0   0.0  0.0  0.0  0.0  0.0  0.0    0.0\n",
              "(<s>, i)     0.0   0.0   1.0  0.0  0.0  0.0  0.0  0.0    0.0\n",
              "(i, like)    1.0   0.0   0.0  0.0  0.0  0.0  0.0  0.0    0.0\n",
              "(like, a)    0.0   0.0   0.0  0.0  0.0  0.0  2.0  0.0    0.0\n",
              "(a, cat)     0.0   0.0   0.0  0.0  0.0  0.0  0.0  2.0    0.0\n",
              "(cat,)       0.0   0.0   0.0  0.0  0.0  0.0  0.0  2.0    0.0\n",
              "(<s>, <s>)   0.0   1.0   0.0  1.0  0.0  0.0  0.0  0.0    0.0\n",
              "(<s>, this)  0.0   0.0   0.0  0.0  1.0  0.0  0.0  0.0    0.0\n",
              "(this, dog)  0.0   0.0   0.0  0.0  0.0  1.0  0.0  0.0    0.0\n",
              "(dog, is)    0.0   0.0   1.0  0.0  0.0  0.0  0.0  0.0    0.0\n",
              "(is, like)   1.0   0.0   0.0  0.0  0.0  0.0  0.0  0.0    0.0"
            ]
          },
          "metadata": {
            "tags": []
          }
        }
      ]
    },
    {
      "cell_type": "markdown",
      "metadata": {
        "id": "bWEe3CMIKSXy"
      },
      "source": [
        "Expected output\n",
        "\n",
        "```CPP\n",
        "trigram counts\n",
        "              cat    i   this   a  is   like  dog  <e>   <unk>\n",
        "(dog, is)     0.0   0.0  0.0  0.0  0.0  1.0   0.0  0.0    0.0\n",
        "(this, dog)   0.0   0.0  0.0  0.0  1.0  0.0   0.0  0.0    0.0\n",
        "(a, cat)      0.0   0.0  0.0  0.0  0.0  0.0   0.0  2.0    0.0\n",
        "(like, a)     2.0   0.0  0.0  0.0  0.0  0.0   0.0  0.0    0.0\n",
        "(is, like)    0.0   0.0  0.0  1.0  0.0  0.0   0.0  0.0    0.0\n",
        "(<s>, i)      0.0   0.0  0.0  0.0  0.0  1.0   0.0  0.0    0.0\n",
        "(i, like)     0.0   0.0  0.0  1.0  0.0  0.0   0.0  0.0    0.0\n",
        "(<s>, <s>)    0.0   1.0  1.0  0.0  0.0  0.0   0.0  0.0    0.0\n",
        "(<s>, this)   0.0   0.0  0.0  0.0  0.0  0.0   1.0  0.0    0.0\n",
        "```"
      ]
    },
    {
      "cell_type": "markdown",
      "metadata": {
        "id": "Hv4Db5-cKVBB"
      },
      "source": [
        "The following function calculates the probabilities of each word given the previous n-gram, and stores this in matrix form.\n",
        "- This function is provided for you."
      ]
    },
    {
      "cell_type": "code",
      "metadata": {
        "id": "6ildFn64KM1_"
      },
      "source": [
        "def make_probability_matrix(n_plus1_gram_counts, vocabulary, k):\n",
        "  count_matrix = make_count_matrix(n_plus1_gram_counts, unique_words)\n",
        "  count_matrix += k\n",
        "  prob_matrix = count_matrix.div(count_matrix.sum(axis=1), axis=0)\n",
        "\n",
        "  return prob_matrix"
      ],
      "execution_count": 33,
      "outputs": []
    },
    {
      "cell_type": "code",
      "metadata": {
        "id": "tPk_cbwdLAGU",
        "colab": {
          "base_uri": "https://localhost:8080/",
          "height": 373
        },
        "outputId": "513410a7-6329-4acd-de21-ced8dd39e2a8"
      },
      "source": [
        "sentences = [['i', 'like', 'a', 'cat'],\n",
        "                 ['this', 'dog', 'is', 'like', 'a', 'cat']]\n",
        "\n",
        "unique_words = list(set(sentences[0] + sentences[1]))\n",
        "bigram_counts = count_n_grams(sentences, 2)\n",
        "\n",
        "print(\"bigram probabilities\")\n",
        "make_probability_matrix(bigram_counts, unique_words, k=1)"
      ],
      "execution_count": 34,
      "outputs": [
        {
          "output_type": "stream",
          "text": [
            "bigram probabilities\n"
          ],
          "name": "stdout"
        },
        {
          "output_type": "execute_result",
          "data": {
            "text/html": [
              "<div>\n",
              "<style scoped>\n",
              "    .dataframe tbody tr th:only-of-type {\n",
              "        vertical-align: middle;\n",
              "    }\n",
              "\n",
              "    .dataframe tbody tr th {\n",
              "        vertical-align: top;\n",
              "    }\n",
              "\n",
              "    .dataframe thead th {\n",
              "        text-align: right;\n",
              "    }\n",
              "</style>\n",
              "<table border=\"1\" class=\"dataframe\">\n",
              "  <thead>\n",
              "    <tr style=\"text-align: right;\">\n",
              "      <th></th>\n",
              "      <th>a</th>\n",
              "      <th>this</th>\n",
              "      <th>like</th>\n",
              "      <th>i</th>\n",
              "      <th>dog</th>\n",
              "      <th>is</th>\n",
              "      <th>cat</th>\n",
              "      <th>&lt;e&gt;</th>\n",
              "      <th>&lt;unk&gt;</th>\n",
              "    </tr>\n",
              "  </thead>\n",
              "  <tbody>\n",
              "    <tr>\n",
              "      <th>(&lt;s&gt;,)</th>\n",
              "      <td>0.111111</td>\n",
              "      <td>0.111111</td>\n",
              "      <td>0.111111</td>\n",
              "      <td>0.111111</td>\n",
              "      <td>0.111111</td>\n",
              "      <td>0.111111</td>\n",
              "      <td>0.111111</td>\n",
              "      <td>0.111111</td>\n",
              "      <td>0.111111</td>\n",
              "    </tr>\n",
              "    <tr>\n",
              "      <th>(&lt;s&gt;,)</th>\n",
              "      <td>0.111111</td>\n",
              "      <td>0.111111</td>\n",
              "      <td>0.111111</td>\n",
              "      <td>0.111111</td>\n",
              "      <td>0.111111</td>\n",
              "      <td>0.111111</td>\n",
              "      <td>0.111111</td>\n",
              "      <td>0.111111</td>\n",
              "      <td>0.111111</td>\n",
              "    </tr>\n",
              "    <tr>\n",
              "      <th>(i,)</th>\n",
              "      <td>0.100000</td>\n",
              "      <td>0.100000</td>\n",
              "      <td>0.200000</td>\n",
              "      <td>0.100000</td>\n",
              "      <td>0.100000</td>\n",
              "      <td>0.100000</td>\n",
              "      <td>0.100000</td>\n",
              "      <td>0.100000</td>\n",
              "      <td>0.100000</td>\n",
              "    </tr>\n",
              "    <tr>\n",
              "      <th>(like,)</th>\n",
              "      <td>0.272727</td>\n",
              "      <td>0.090909</td>\n",
              "      <td>0.090909</td>\n",
              "      <td>0.090909</td>\n",
              "      <td>0.090909</td>\n",
              "      <td>0.090909</td>\n",
              "      <td>0.090909</td>\n",
              "      <td>0.090909</td>\n",
              "      <td>0.090909</td>\n",
              "    </tr>\n",
              "    <tr>\n",
              "      <th>(a,)</th>\n",
              "      <td>0.090909</td>\n",
              "      <td>0.090909</td>\n",
              "      <td>0.090909</td>\n",
              "      <td>0.090909</td>\n",
              "      <td>0.090909</td>\n",
              "      <td>0.090909</td>\n",
              "      <td>0.272727</td>\n",
              "      <td>0.090909</td>\n",
              "      <td>0.090909</td>\n",
              "    </tr>\n",
              "    <tr>\n",
              "      <th>(cat,)</th>\n",
              "      <td>0.090909</td>\n",
              "      <td>0.090909</td>\n",
              "      <td>0.090909</td>\n",
              "      <td>0.090909</td>\n",
              "      <td>0.090909</td>\n",
              "      <td>0.090909</td>\n",
              "      <td>0.090909</td>\n",
              "      <td>0.272727</td>\n",
              "      <td>0.090909</td>\n",
              "    </tr>\n",
              "    <tr>\n",
              "      <th>(&lt;s&gt;,)</th>\n",
              "      <td>0.090909</td>\n",
              "      <td>0.181818</td>\n",
              "      <td>0.090909</td>\n",
              "      <td>0.181818</td>\n",
              "      <td>0.090909</td>\n",
              "      <td>0.090909</td>\n",
              "      <td>0.090909</td>\n",
              "      <td>0.090909</td>\n",
              "      <td>0.090909</td>\n",
              "    </tr>\n",
              "    <tr>\n",
              "      <th>(this,)</th>\n",
              "      <td>0.100000</td>\n",
              "      <td>0.100000</td>\n",
              "      <td>0.100000</td>\n",
              "      <td>0.100000</td>\n",
              "      <td>0.200000</td>\n",
              "      <td>0.100000</td>\n",
              "      <td>0.100000</td>\n",
              "      <td>0.100000</td>\n",
              "      <td>0.100000</td>\n",
              "    </tr>\n",
              "    <tr>\n",
              "      <th>(dog,)</th>\n",
              "      <td>0.100000</td>\n",
              "      <td>0.100000</td>\n",
              "      <td>0.100000</td>\n",
              "      <td>0.100000</td>\n",
              "      <td>0.100000</td>\n",
              "      <td>0.200000</td>\n",
              "      <td>0.100000</td>\n",
              "      <td>0.100000</td>\n",
              "      <td>0.100000</td>\n",
              "    </tr>\n",
              "    <tr>\n",
              "      <th>(is,)</th>\n",
              "      <td>0.100000</td>\n",
              "      <td>0.100000</td>\n",
              "      <td>0.200000</td>\n",
              "      <td>0.100000</td>\n",
              "      <td>0.100000</td>\n",
              "      <td>0.100000</td>\n",
              "      <td>0.100000</td>\n",
              "      <td>0.100000</td>\n",
              "      <td>0.100000</td>\n",
              "    </tr>\n",
              "  </tbody>\n",
              "</table>\n",
              "</div>"
            ],
            "text/plain": [
              "                a      this      like  ...       cat       <e>     <unk>\n",
              "(<s>,)   0.111111  0.111111  0.111111  ...  0.111111  0.111111  0.111111\n",
              "(<s>,)   0.111111  0.111111  0.111111  ...  0.111111  0.111111  0.111111\n",
              "(i,)     0.100000  0.100000  0.200000  ...  0.100000  0.100000  0.100000\n",
              "(like,)  0.272727  0.090909  0.090909  ...  0.090909  0.090909  0.090909\n",
              "(a,)     0.090909  0.090909  0.090909  ...  0.272727  0.090909  0.090909\n",
              "(cat,)   0.090909  0.090909  0.090909  ...  0.090909  0.272727  0.090909\n",
              "(<s>,)   0.090909  0.181818  0.090909  ...  0.090909  0.090909  0.090909\n",
              "(this,)  0.100000  0.100000  0.100000  ...  0.100000  0.100000  0.100000\n",
              "(dog,)   0.100000  0.100000  0.100000  ...  0.100000  0.100000  0.100000\n",
              "(is,)    0.100000  0.100000  0.200000  ...  0.100000  0.100000  0.100000\n",
              "\n",
              "[10 rows x 9 columns]"
            ]
          },
          "metadata": {
            "tags": []
          },
          "execution_count": 34
        }
      ]
    },
    {
      "cell_type": "code",
      "metadata": {
        "id": "bTwrg-PgLLNW",
        "colab": {
          "base_uri": "https://localhost:8080/",
          "height": 434
        },
        "outputId": "712ead6a-97ea-4f8e-b089-ea3c7b7045dc"
      },
      "source": [
        "print(\"trigram probabilities\")\n",
        "trigram_counts = count_n_grams(sentences, 3)\n",
        "display(make_probability_matrix(trigram_counts, unique_words, k=1))"
      ],
      "execution_count": 35,
      "outputs": [
        {
          "output_type": "stream",
          "text": [
            "trigram probabilities\n"
          ],
          "name": "stdout"
        },
        {
          "output_type": "display_data",
          "data": {
            "text/html": [
              "<div>\n",
              "<style scoped>\n",
              "    .dataframe tbody tr th:only-of-type {\n",
              "        vertical-align: middle;\n",
              "    }\n",
              "\n",
              "    .dataframe tbody tr th {\n",
              "        vertical-align: top;\n",
              "    }\n",
              "\n",
              "    .dataframe thead th {\n",
              "        text-align: right;\n",
              "    }\n",
              "</style>\n",
              "<table border=\"1\" class=\"dataframe\">\n",
              "  <thead>\n",
              "    <tr style=\"text-align: right;\">\n",
              "      <th></th>\n",
              "      <th>a</th>\n",
              "      <th>this</th>\n",
              "      <th>like</th>\n",
              "      <th>i</th>\n",
              "      <th>dog</th>\n",
              "      <th>is</th>\n",
              "      <th>cat</th>\n",
              "      <th>&lt;e&gt;</th>\n",
              "      <th>&lt;unk&gt;</th>\n",
              "    </tr>\n",
              "  </thead>\n",
              "  <tbody>\n",
              "    <tr>\n",
              "      <th>(&lt;s&gt;, &lt;s&gt;)</th>\n",
              "      <td>0.111111</td>\n",
              "      <td>0.111111</td>\n",
              "      <td>0.111111</td>\n",
              "      <td>0.111111</td>\n",
              "      <td>0.111111</td>\n",
              "      <td>0.111111</td>\n",
              "      <td>0.111111</td>\n",
              "      <td>0.111111</td>\n",
              "      <td>0.111111</td>\n",
              "    </tr>\n",
              "    <tr>\n",
              "      <th>(&lt;s&gt;, &lt;s&gt;)</th>\n",
              "      <td>0.111111</td>\n",
              "      <td>0.111111</td>\n",
              "      <td>0.111111</td>\n",
              "      <td>0.111111</td>\n",
              "      <td>0.111111</td>\n",
              "      <td>0.111111</td>\n",
              "      <td>0.111111</td>\n",
              "      <td>0.111111</td>\n",
              "      <td>0.111111</td>\n",
              "    </tr>\n",
              "    <tr>\n",
              "      <th>(&lt;s&gt;, i)</th>\n",
              "      <td>0.100000</td>\n",
              "      <td>0.100000</td>\n",
              "      <td>0.200000</td>\n",
              "      <td>0.100000</td>\n",
              "      <td>0.100000</td>\n",
              "      <td>0.100000</td>\n",
              "      <td>0.100000</td>\n",
              "      <td>0.100000</td>\n",
              "      <td>0.100000</td>\n",
              "    </tr>\n",
              "    <tr>\n",
              "      <th>(i, like)</th>\n",
              "      <td>0.200000</td>\n",
              "      <td>0.100000</td>\n",
              "      <td>0.100000</td>\n",
              "      <td>0.100000</td>\n",
              "      <td>0.100000</td>\n",
              "      <td>0.100000</td>\n",
              "      <td>0.100000</td>\n",
              "      <td>0.100000</td>\n",
              "      <td>0.100000</td>\n",
              "    </tr>\n",
              "    <tr>\n",
              "      <th>(like, a)</th>\n",
              "      <td>0.090909</td>\n",
              "      <td>0.090909</td>\n",
              "      <td>0.090909</td>\n",
              "      <td>0.090909</td>\n",
              "      <td>0.090909</td>\n",
              "      <td>0.090909</td>\n",
              "      <td>0.272727</td>\n",
              "      <td>0.090909</td>\n",
              "      <td>0.090909</td>\n",
              "    </tr>\n",
              "    <tr>\n",
              "      <th>(a, cat)</th>\n",
              "      <td>0.090909</td>\n",
              "      <td>0.090909</td>\n",
              "      <td>0.090909</td>\n",
              "      <td>0.090909</td>\n",
              "      <td>0.090909</td>\n",
              "      <td>0.090909</td>\n",
              "      <td>0.090909</td>\n",
              "      <td>0.272727</td>\n",
              "      <td>0.090909</td>\n",
              "    </tr>\n",
              "    <tr>\n",
              "      <th>(cat,)</th>\n",
              "      <td>0.090909</td>\n",
              "      <td>0.090909</td>\n",
              "      <td>0.090909</td>\n",
              "      <td>0.090909</td>\n",
              "      <td>0.090909</td>\n",
              "      <td>0.090909</td>\n",
              "      <td>0.090909</td>\n",
              "      <td>0.272727</td>\n",
              "      <td>0.090909</td>\n",
              "    </tr>\n",
              "    <tr>\n",
              "      <th>(&lt;s&gt;, &lt;s&gt;)</th>\n",
              "      <td>0.090909</td>\n",
              "      <td>0.181818</td>\n",
              "      <td>0.090909</td>\n",
              "      <td>0.181818</td>\n",
              "      <td>0.090909</td>\n",
              "      <td>0.090909</td>\n",
              "      <td>0.090909</td>\n",
              "      <td>0.090909</td>\n",
              "      <td>0.090909</td>\n",
              "    </tr>\n",
              "    <tr>\n",
              "      <th>(&lt;s&gt;, this)</th>\n",
              "      <td>0.100000</td>\n",
              "      <td>0.100000</td>\n",
              "      <td>0.100000</td>\n",
              "      <td>0.100000</td>\n",
              "      <td>0.200000</td>\n",
              "      <td>0.100000</td>\n",
              "      <td>0.100000</td>\n",
              "      <td>0.100000</td>\n",
              "      <td>0.100000</td>\n",
              "    </tr>\n",
              "    <tr>\n",
              "      <th>(this, dog)</th>\n",
              "      <td>0.100000</td>\n",
              "      <td>0.100000</td>\n",
              "      <td>0.100000</td>\n",
              "      <td>0.100000</td>\n",
              "      <td>0.100000</td>\n",
              "      <td>0.200000</td>\n",
              "      <td>0.100000</td>\n",
              "      <td>0.100000</td>\n",
              "      <td>0.100000</td>\n",
              "    </tr>\n",
              "    <tr>\n",
              "      <th>(dog, is)</th>\n",
              "      <td>0.100000</td>\n",
              "      <td>0.100000</td>\n",
              "      <td>0.200000</td>\n",
              "      <td>0.100000</td>\n",
              "      <td>0.100000</td>\n",
              "      <td>0.100000</td>\n",
              "      <td>0.100000</td>\n",
              "      <td>0.100000</td>\n",
              "      <td>0.100000</td>\n",
              "    </tr>\n",
              "    <tr>\n",
              "      <th>(is, like)</th>\n",
              "      <td>0.200000</td>\n",
              "      <td>0.100000</td>\n",
              "      <td>0.100000</td>\n",
              "      <td>0.100000</td>\n",
              "      <td>0.100000</td>\n",
              "      <td>0.100000</td>\n",
              "      <td>0.100000</td>\n",
              "      <td>0.100000</td>\n",
              "      <td>0.100000</td>\n",
              "    </tr>\n",
              "  </tbody>\n",
              "</table>\n",
              "</div>"
            ],
            "text/plain": [
              "                    a      this      like  ...       cat       <e>     <unk>\n",
              "(<s>, <s>)   0.111111  0.111111  0.111111  ...  0.111111  0.111111  0.111111\n",
              "(<s>, <s>)   0.111111  0.111111  0.111111  ...  0.111111  0.111111  0.111111\n",
              "(<s>, i)     0.100000  0.100000  0.200000  ...  0.100000  0.100000  0.100000\n",
              "(i, like)    0.200000  0.100000  0.100000  ...  0.100000  0.100000  0.100000\n",
              "(like, a)    0.090909  0.090909  0.090909  ...  0.272727  0.090909  0.090909\n",
              "(a, cat)     0.090909  0.090909  0.090909  ...  0.090909  0.272727  0.090909\n",
              "(cat,)       0.090909  0.090909  0.090909  ...  0.090909  0.272727  0.090909\n",
              "(<s>, <s>)   0.090909  0.181818  0.090909  ...  0.090909  0.090909  0.090909\n",
              "(<s>, this)  0.100000  0.100000  0.100000  ...  0.100000  0.100000  0.100000\n",
              "(this, dog)  0.100000  0.100000  0.100000  ...  0.100000  0.100000  0.100000\n",
              "(dog, is)    0.100000  0.100000  0.200000  ...  0.100000  0.100000  0.100000\n",
              "(is, like)   0.200000  0.100000  0.100000  ...  0.100000  0.100000  0.100000\n",
              "\n",
              "[12 rows x 9 columns]"
            ]
          },
          "metadata": {
            "tags": []
          }
        }
      ]
    },
    {
      "cell_type": "markdown",
      "metadata": {
        "id": "3j1bLnVKLd8I"
      },
      "source": [
        "Confirm that you obtain the same results as for the `estimate_probabilities` function that you implemented."
      ]
    },
    {
      "cell_type": "markdown",
      "metadata": {
        "id": "dGCV0wB8Lez0"
      },
      "source": [
        "<a name='3'></a>\n",
        "## Part 3: Perplexity"
      ]
    },
    {
      "cell_type": "markdown",
      "metadata": {
        "id": "tQmyx0CULli8"
      },
      "source": [
        "In this section, you will generate the perplexity score to evaluate your model on the test set. \n",
        "- You will also use back-off when needed. \n",
        "- Perplexity is used as an evaluation metric of your language model. \n",
        "- To calculate the  the perplexity score of the test set on an n-gram model, use: \n",
        "\n",
        "$$ PP(W) =\\sqrt[N]{ \\prod_{t=n+1}^N \\frac{1}{P(w_t | w_{t-n} \\cdots w_{t-1})} } \\tag{4}$$\n",
        "\n",
        "- where $N$ is the length of the sentence.\n",
        "- $n$ is the number of words in the n-gram (e.g. 2 for a bigram).\n",
        "- In math, the numbering starts at one and not zero.\n",
        "\n",
        "In code, array indexing starts at zero, so the code will use ranges for $t$ according to this formula:\n",
        "\n",
        "$$ PP(W) =\\sqrt[N]{ \\prod_{t=n}^{N-1} \\frac{1}{P(w_t | w_{t-n} \\cdots w_{t-1})} } \\tag{4.1}$$\n",
        "\n",
        "The higher the probabilities are, the lower the perplexity will be. \n",
        "- The more the n-grams tell us about the sentence, the lower the perplexity score will be. "
      ]
    },
    {
      "cell_type": "markdown",
      "metadata": {
        "id": "KlKkkyNzjbWP"
      },
      "source": [
        "<a name='ex-10'></a>\n",
        "### Exercise 10: Compute the perplexity score"
      ]
    },
    {
      "cell_type": "markdown",
      "metadata": {
        "id": "KCIaDYhLjcoF"
      },
      "source": [
        "Compute the perplexity score given an N-gram count matrix and a sentence. "
      ]
    },
    {
      "cell_type": "markdown",
      "metadata": {
        "id": "kwn1JWVXjkmJ"
      },
      "source": [
        "<details>    \n",
        "<summary>\n",
        "    <font size=\"3\" color=\"darkgreen\"><b>Hints</b></font>\n",
        "</summary>\n",
        "<p>\n",
        "<ul>\n",
        "    <li>Remember that <code>range(2,4)</code> produces the integers [2, 3] (and excludes 4).</li>\n",
        "</ul>\n",
        "</p>\n"
      ]
    },
    {
      "cell_type": "code",
      "metadata": {
        "id": "U45u-vo_LSPn"
      },
      "source": [
        "# UNQ_C10 (UNIQUE CELL IDENTIFIER, DO NOT EDIT)\n",
        "# GRADED FUNCTION: calculate_perplexity\n",
        "def calculate_perplexity(sentence, n_gram_counts, n_plus1_gram_counts, vocabulary_size, k=1.0):\n",
        "  \"\"\"\n",
        "  Calculate perplexity for a list of sentences\n",
        "  Args:\n",
        "      sentence: List of strings\n",
        "      n_gram_counts: Dictionary of counts of (n+1)-grams\n",
        "      n_plus1_gram_counts: Dictionary of counts of (n+1)-grams\n",
        "      vocabulary_size: number of unique words in the vocabulary\n",
        "      k: Positive smoothing constant\n",
        "  Returns:\n",
        "      Perplexity score\n",
        "  \"\"\"\n",
        "\n",
        "  # length of previous words\n",
        "  n = len(list(n_gram_counts.keys())[0])\n",
        "\n",
        "  # prepend <s> and append <e>\n",
        "  sentence = [\"<s>\"] * n + sentence +[\"<e>\"]\n",
        "\n",
        "  # Cast the sentence from a list to a tuple\n",
        "  sentence = tuple(sentence)\n",
        "\n",
        "  # length of sentence (after adding <s> and <e> tokens)\n",
        "  N = len(sentence)\n",
        "\n",
        "  # The variable p will hold the product that is calculated inside the n-root\n",
        "  # Update this in the code below\n",
        "  product_pi = 1.0\n",
        "\n",
        "  ### START CODE HERE (Replace instances of 'None' with your code) ###\n",
        "\n",
        "  # Index t ranges from n to N - 1\n",
        "  for t in range(n, N):\n",
        "    # get the n-gram preceding the word at position t\n",
        "    n_gram = sentence[t - n: t]\n",
        "\n",
        "    # get the word at position t\n",
        "    word = sentence[t]\n",
        "\n",
        "    # Estimate the probability of the word given the n-gram using the n-gram counts, \n",
        "    # n-plus1-gram counts, vocabulary size, and smoothing constant\n",
        "    probability = estimate_probability(word, n_gram, n_gram_counts, n_plus1_gram_counts, len(unique_words), k=1)\n",
        "\n",
        "    # Update the product of the probabilities\n",
        "    # This 'product_pi' is a cumulative product \n",
        "    # of the (1/P) factors that are calculated in the loop\n",
        "    product_pi *= 1 / probability\n",
        "\n",
        "  # Take the Nth root of the product\n",
        "  perplexity = product_pi ** (1 / float(N))\n",
        "\n",
        "  ### END CODE HERE ###\n",
        "\n",
        "  return perplexity"
      ],
      "execution_count": 36,
      "outputs": []
    },
    {
      "cell_type": "code",
      "metadata": {
        "id": "soyFu2MZmI-0",
        "colab": {
          "base_uri": "https://localhost:8080/"
        },
        "outputId": "01c1de6d-cbd5-4edc-c289-cb4d83dc8081"
      },
      "source": [
        "# test your code\n",
        "sentences = [['i', 'like', 'a', 'cat'],\n",
        "                 ['this', 'dog', 'is', 'like', 'a', 'cat']]\n",
        "unique_words = list(set(sentences[0] + sentences[1]))\n",
        "\n",
        "unigram_counts = count_n_grams(sentences, 1)\n",
        "bigram_counts = count_n_grams(sentences, 2)\n",
        "\n",
        "perplexity_train1 = calculate_perplexity(sentences[0], unigram_counts, bigram_counts, len(unique_words), k=1.0)\n",
        "print(f\"Perplexity for first train sample: {perplexity_train1:.4f}\")\n",
        "\n",
        "test_sentence = ['i', 'like', 'a', 'dog']\n",
        "perplexity_test = calculate_perplexity(test_sentence, unigram_counts, bigram_counts, len(unique_words), k=1.0)\n",
        "print(f\"Perplexity for test sample: {perplexity_test:.4f}\")"
      ],
      "execution_count": 37,
      "outputs": [
        {
          "output_type": "stream",
          "text": [
            "Perplexity for first train sample: 2.8040\n",
            "Perplexity for test sample: 3.9654\n"
          ],
          "name": "stdout"
        }
      ]
    },
    {
      "cell_type": "markdown",
      "metadata": {
        "id": "ylz0mJu1m8S3"
      },
      "source": [
        "Expected Output\n",
        "\n",
        "```CPP\n",
        "Perplexity for first train sample: 2.8040\n",
        "Perplexity for test sample: 3.9654\n",
        "```\n",
        "\n",
        "<b> Note: </b> If your sentence is really long, there will be underflow when multiplying many fractions.\n",
        "- To handle longer sentences, modify your implementation to take the sum of the log of the probabilities."
      ]
    },
    {
      "cell_type": "markdown",
      "metadata": {
        "id": "B_W_AL3Om-V0"
      },
      "source": [
        "<a name='4'></a>\n",
        "## Part 4: Build an auto-complete system"
      ]
    },
    {
      "cell_type": "markdown",
      "metadata": {
        "id": "7BZumi60nK0G"
      },
      "source": [
        "In this section, you will combine the language models developed so far to implement an auto-complete system."
      ]
    },
    {
      "cell_type": "markdown",
      "metadata": {
        "id": "yrAaugswnO2C"
      },
      "source": [
        "<a name='ex-11'></a>\n",
        "### Exercise 11: Compute probabilities for all possible next words"
      ]
    },
    {
      "cell_type": "markdown",
      "metadata": {
        "id": "NvvzK_BHnURr"
      },
      "source": [
        "Compute probabilities for all possible next words and suggest the most likely one.\n",
        "- This function also take an optional argument `start_with`, which specifies the first few letters of the next words."
      ]
    },
    {
      "cell_type": "markdown",
      "metadata": {
        "id": "NO2vRqKhnWRF"
      },
      "source": [
        "<details>    \n",
        "<summary>\n",
        "    <font size=\"3\" color=\"darkgreen\"><b>Hints</b></font>\n",
        "</summary>\n",
        "<p>\n",
        "<ul>\n",
        "    <li><code>estimate_probabilities</code> returns a dictionary where the key is a word and the value is the word's probability.</li>\n",
        "    <li> Use <code>str1.startswith(str2)</code> to determine if a string starts with the letters of another string.  For example, <code>'learning'.startswith('lea')</code> returns True, whereas <code>'learning'.startswith('ear')</code> returns False. There are two additional parameters in <code>str.startswith()</code>, but you can use the default values for those parameters in this case.</li>\n",
        "</ul>\n",
        "</p>"
      ]
    },
    {
      "cell_type": "code",
      "metadata": {
        "id": "HFR2QHU1m4fy"
      },
      "source": [
        "# UNQ_C11 (UNIQUE CELL IDENTIFIER, DO NOT EDIT)\n",
        "# GRADED FUNCTION: suggest_a_word\n",
        "def suggest_a_word(previous_tokens, n_gram_counts, n_plus1_gram_counts, vocabulary, k=1.0, start_with=None):\n",
        "  \"\"\"\n",
        "  Get suggestion for the next word\n",
        "  Args:\n",
        "      previous_tokens: The sentence you input where each token is a word. Must have length > n \n",
        "      n_gram_counts: Dictionary of counts of (n+1)-grams\n",
        "      n_plus1_gram_counts: Dictionary of counts of (n+1)-grams\n",
        "      vocabulary: List of words\n",
        "      k: positive constant, smoothing parameter\n",
        "      start_with: If not None, specifies the first few letters of the next word\n",
        "  Returns:\n",
        "      A tuple of \n",
        "        - string of the most likely next word\n",
        "        - corresponding probability\n",
        "  \"\"\"\n",
        "\n",
        "  # length of previous words\n",
        "  n = len(list(n_gram_counts.keys())[0])\n",
        "\n",
        "  # From the words that the user already typed\n",
        "  # get the most recent 'n' words as the previous n-gram\n",
        "  previous_n_gram = previous_tokens[-n: ]\n",
        "\n",
        "  # Estimate the probabilities that each word in the vocabulary is the next word,\n",
        "  # given the previous n-gram, the dictionary of n-gram counts,\n",
        "  # the dictionary of n plus 1 gram counts, and the smoothing constant\n",
        "  probabilities = estimate_probabilities(previous_n_gram, n_gram_counts, n_plus1_gram_counts, vocabulary, k=k)\n",
        "\n",
        "  # Initialize suggested word to None\n",
        "  # This will be set to the word with highest probability\n",
        "  suggestion = None\n",
        "\n",
        "  # Initialize the highest word probability to 0\n",
        "  # this will be set to the highest probability of all words to be suggested\n",
        "  max_prob = 0\n",
        "\n",
        "  ### START CODE HERE (Replace instances of 'None' with your code) ###\n",
        "\n",
        "  # For each word and its probability in the probabilities dictionary:\n",
        "  for word, prob in probabilities.items():\n",
        "    # If the optional start_with string is set\n",
        "    if start_with != None:\n",
        "      # Check if the word starts with the letters in 'start_with'\n",
        "      if not word.startswith(start_with):\n",
        "        # If so, don't consider this word (move onto the next word)\n",
        "        continue\n",
        "    \n",
        "    # Check if this word's probability is greater than the current maximum probability\n",
        "    if prob > max_prob:\n",
        "      # If so, save this word as the best suggestion (so far)\n",
        "      suggestion = word\n",
        "      # Save the new maximum probability\n",
        "      max_prob = prob\n",
        "\n",
        "  ### END CODE HERE\n",
        "\n",
        "  return suggestion, max_prob"
      ],
      "execution_count": 38,
      "outputs": []
    },
    {
      "cell_type": "code",
      "metadata": {
        "id": "S5859WB4q4S1",
        "colab": {
          "base_uri": "https://localhost:8080/"
        },
        "outputId": "54eadb67-5a1c-474f-ab3f-49fd21e43222"
      },
      "source": [
        "# test your code\n",
        "sentences = [['i', 'like', 'a', 'cat'],\n",
        "             ['this', 'dog', 'is', 'like', 'a', 'cat']]\n",
        "unique_words = list(set(sentences[0] + sentences[1]))\n",
        "\n",
        "unigram_counts = count_n_grams(sentences, 1)\n",
        "bigram_counts = count_n_grams(sentences, 2)\n",
        "\n",
        "previous_tokens = [\"i\", \"like\"]\n",
        "tmp_suggest1 = suggest_a_word(previous_tokens, unigram_counts, bigram_counts, unique_words, k=1.0)\n",
        "print(f\"The previous words are 'i like',\\n\\tand the suggested word is `{tmp_suggest1[0]}` with a probability of {tmp_suggest1[1]:.4f}\")\n",
        "\n",
        "print()\n",
        "# test your code when setting the starts_with\n",
        "tmp_starts_with = 'c'\n",
        "tmp_suggest2 = suggest_a_word(previous_tokens, unigram_counts, bigram_counts, unique_words, k=1.0, start_with=tmp_starts_with)\n",
        "print(f\"The previous words are 'i like',\\n\\tand the suggested word is `{tmp_suggest2[0]}` with a probability of {tmp_suggest2[1]:.4f}\")"
      ],
      "execution_count": 39,
      "outputs": [
        {
          "output_type": "stream",
          "text": [
            "The previous words are 'i like',\n",
            "\tand the suggested word is `a` with a probability of 0.2727\n",
            "\n",
            "The previous words are 'i like',\n",
            "\tand the suggested word is `cat` with a probability of 0.0909\n"
          ],
          "name": "stdout"
        }
      ]
    },
    {
      "cell_type": "markdown",
      "metadata": {
        "id": "9XUd6BY9r7Vs"
      },
      "source": [
        "Expected output\n",
        "\n",
        "```CPP\n",
        "The previous words are 'i like',\n",
        "\tand the suggested word is `a` with a probability of 0.2727\n",
        "\n",
        "The previous words are 'i like', the suggestion must start with `c`\n",
        "\tand the suggested word is `cat` with a probability of 0.0909\n",
        "\n",
        "```"
      ]
    },
    {
      "cell_type": "markdown",
      "metadata": {
        "id": "afIH7Uv7sI59"
      },
      "source": [
        "### Get multiple suggestions"
      ]
    },
    {
      "cell_type": "markdown",
      "metadata": {
        "id": "Ul0qF0ZbsJZu"
      },
      "source": [
        "The function defined below loop over varioud n-gram models to get multiple suggestions."
      ]
    },
    {
      "cell_type": "code",
      "metadata": {
        "id": "RhL_YYGxrimD"
      },
      "source": [
        "def get_suggestions(previous_tokens, n_gram_counts_list, vocabulary, k=1.0, start_with=None):\n",
        "  model_counts = len(n_gram_counts_list)\n",
        "  suggestions = []\n",
        "\n",
        "  for i in range(model_counts - 1):\n",
        "    n_gram_counts = n_gram_counts_list[i]\n",
        "    n_plus1_gram_counts = n_gram_counts_list[i + 1]\n",
        "\n",
        "    suggestion = suggest_a_word(previous_tokens, n_gram_counts, n_plus1_gram_counts, vocabulary, k=k, start_with=start_with)\n",
        "    suggestions.append(suggestion)\n",
        "\n",
        "  return suggestions"
      ],
      "execution_count": 40,
      "outputs": []
    },
    {
      "cell_type": "code",
      "metadata": {
        "id": "4A8qW1P7tJcW",
        "colab": {
          "base_uri": "https://localhost:8080/",
          "height": 104
        },
        "outputId": "94307877-7b66-4db4-a303-e317d0186bb1"
      },
      "source": [
        "# test your code\n",
        "sentences = [['i', 'like', 'a', 'cat'],\n",
        "             ['this', 'dog', 'is', 'like', 'a', 'cat']]\n",
        "unique_words = list(set(sentences[0] + sentences[1]))\n",
        "\n",
        "unigram_counts = count_n_grams(sentences, 1)\n",
        "bigram_counts = count_n_grams(sentences, 2)\n",
        "trigram_counts = count_n_grams(sentences, 3)\n",
        "quadgram_counts = count_n_grams(sentences, 4)\n",
        "qintgram_counts = count_n_grams(sentences, 5)\n",
        "\n",
        "n_gram_counts_list = [unigram_counts, bigram_counts, trigram_counts, quadgram_counts, qintgram_counts]\n",
        "previous_tokens = [\"i\", \"like\"]\n",
        "tmp_suggest3 = get_suggestions(previous_tokens, n_gram_counts_list, unique_words, k=1.0)\n",
        "print(f\"The previous words are 'i like', the suggestions are:\")\n",
        "display(tmp_suggest3)"
      ],
      "execution_count": 41,
      "outputs": [
        {
          "output_type": "stream",
          "text": [
            "The previous words are 'i like', the suggestions are:\n"
          ],
          "name": "stdout"
        },
        {
          "output_type": "display_data",
          "data": {
            "text/plain": [
              "[('a', 0.2727272727272727),\n",
              " ('a', 0.2),\n",
              " ('a', 0.1111111111111111),\n",
              " ('a', 0.1111111111111111)]"
            ]
          },
          "metadata": {
            "tags": []
          }
        }
      ]
    },
    {
      "cell_type": "markdown",
      "metadata": {
        "id": "tVfwcFG0yEuf"
      },
      "source": [
        "### Suggest multiple words using n-grams of varying length"
      ]
    },
    {
      "cell_type": "markdown",
      "metadata": {
        "id": "LPPohoc8yFQg"
      },
      "source": [
        "Congratulations!  You have developed all building blocks for implementing your own auto-complete systems.\n",
        "\n",
        "Let's see this with n-grams of varying lengths (unigrams, bigrams, trigrams, 4-grams...6-grams)."
      ]
    },
    {
      "cell_type": "code",
      "metadata": {
        "id": "4bSriz5gtqa5",
        "colab": {
          "base_uri": "https://localhost:8080/"
        },
        "outputId": "df8db8dc-7266-43a4-8049-909f898c0784"
      },
      "source": [
        "n_gram_counts_list = []\n",
        "for n in range(1, 6):\n",
        "  print(\"Computing n-gram counts with n =\", n, \"...\")\n",
        "  n_model_counts = count_n_grams(train_data_processed, n)\n",
        "  n_gram_counts_list.append(n_model_counts)"
      ],
      "execution_count": 42,
      "outputs": [
        {
          "output_type": "stream",
          "text": [
            "Computing n-gram counts with n = 1 ...\n",
            "Computing n-gram counts with n = 2 ...\n",
            "Computing n-gram counts with n = 3 ...\n",
            "Computing n-gram counts with n = 4 ...\n",
            "Computing n-gram counts with n = 5 ...\n"
          ],
          "name": "stdout"
        }
      ]
    },
    {
      "cell_type": "code",
      "metadata": {
        "id": "fmop_fx2ymKz",
        "colab": {
          "base_uri": "https://localhost:8080/",
          "height": 104
        },
        "outputId": "5269835c-934b-4947-d967-164537ffac6f"
      },
      "source": [
        "previous_tokens = [\"i\", \"am\", \"to\"]\n",
        "tmp_suggest4 = get_suggestions(previous_tokens, n_gram_counts_list, vocabulary, k=1.0)\n",
        "print(f\"The previous words are {previous_tokens}, the suggestions are:\")\n",
        "display(tmp_suggest4)"
      ],
      "execution_count": 43,
      "outputs": [
        {
          "output_type": "stream",
          "text": [
            "The previous words are ['i', 'am', 'to'], the suggestions are:\n"
          ],
          "name": "stdout"
        },
        {
          "output_type": "display_data",
          "data": {
            "text/plain": [
              "[('be', 0.026899773706109936),\n",
              " ('have', 0.0001344357061235464),\n",
              " ('have', 0.00013448090371167293),\n",
              " ('what', 6.724949562878279e-05)]"
            ]
          },
          "metadata": {
            "tags": []
          }
        }
      ]
    },
    {
      "cell_type": "code",
      "metadata": {
        "id": "iPqAHg5ay41D",
        "colab": {
          "base_uri": "https://localhost:8080/",
          "height": 104
        },
        "outputId": "6b7464d4-d47f-4693-b68b-23ee7edc7e5d"
      },
      "source": [
        "previous_tokens = [\"i\", \"want\", \"to\", \"go\"]\n",
        "tmp_suggest5 = get_suggestions(previous_tokens, n_gram_counts_list, vocabulary, k=1.0)\n",
        "\n",
        "print(f\"The previous words are {previous_tokens}, the suggestions are:\")\n",
        "display(tmp_suggest5)"
      ],
      "execution_count": 44,
      "outputs": [
        {
          "output_type": "stream",
          "text": [
            "The previous words are ['i', 'want', 'to', 'go'], the suggestions are:\n"
          ],
          "name": "stdout"
        },
        {
          "output_type": "display_data",
          "data": {
            "text/plain": [
              "[('to', 0.014242179240002487),\n",
              " ('to', 0.005078820658267924),\n",
              " ('to', 0.0009394081728511038),\n",
              " ('to', 0.00040309035942223714)]"
            ]
          },
          "metadata": {
            "tags": []
          }
        }
      ]
    },
    {
      "cell_type": "code",
      "metadata": {
        "id": "6DN8gs3rzJf2",
        "colab": {
          "base_uri": "https://localhost:8080/",
          "height": 104
        },
        "outputId": "c357461a-3b34-4af4-d342-0f51e097e977"
      },
      "source": [
        "previous_tokens = [\"hey\", \"how\", \"are\"]\n",
        "tmp_suggest6 = get_suggestions(previous_tokens, n_gram_counts_list, vocabulary, k=1.0)\n",
        "\n",
        "print(f\"The previous words are {previous_tokens}, the suggestions are:\")\n",
        "display(tmp_suggest6)"
      ],
      "execution_count": 45,
      "outputs": [
        {
          "output_type": "stream",
          "text": [
            "The previous words are ['hey', 'how', 'are'], the suggestions are:\n"
          ],
          "name": "stdout"
        },
        {
          "output_type": "display_data",
          "data": {
            "text/plain": [
              "[('you', 0.02190030797308087),\n",
              " ('you', 0.0035482359242150364),\n",
              " ('what', 6.724949562878279e-05),\n",
              " ('what', 6.724949562878279e-05)]"
            ]
          },
          "metadata": {
            "tags": []
          }
        }
      ]
    },
    {
      "cell_type": "code",
      "metadata": {
        "id": "amBFMt4IzQd8",
        "colab": {
          "base_uri": "https://localhost:8080/",
          "height": 104
        },
        "outputId": "5beb21e5-d43c-4351-8cec-794a9e27f06c"
      },
      "source": [
        "previous_tokens = [\"hey\", \"how\", \"are\", \"you\"]\n",
        "tmp_suggest7 = get_suggestions(previous_tokens, n_gram_counts_list, vocabulary, k=1.0)\n",
        "\n",
        "print(f\"The previous words are {previous_tokens}, the suggestions are:\")\n",
        "display(tmp_suggest7)"
      ],
      "execution_count": 46,
      "outputs": [
        {
          "output_type": "stream",
          "text": [
            "The previous words are ['hey', 'how', 'are', 'you'], the suggestions are:\n"
          ],
          "name": "stdout"
        },
        {
          "output_type": "display_data",
          "data": {
            "text/plain": [
              "[(\"'re\", 0.023596783364470797),\n",
              " ('?', 0.002622434930833279),\n",
              " ('?', 0.0014743331993030426),\n",
              " ('what', 6.724949562878279e-05)]"
            ]
          },
          "metadata": {
            "tags": []
          }
        }
      ]
    },
    {
      "cell_type": "code",
      "metadata": {
        "id": "ArHaTSYLzWi8",
        "colab": {
          "base_uri": "https://localhost:8080/",
          "height": 104
        },
        "outputId": "95a46457-3845-4d04-8bc4-8781938aac6c"
      },
      "source": [
        "previous_tokens = [\"hey\", \"how\", \"are\", \"you\"]\n",
        "tmp_suggest8 = get_suggestions(previous_tokens, n_gram_counts_list, vocabulary, k=1.0, start_with=\"d\")\n",
        "\n",
        "print(f\"The previous words are {previous_tokens}, the suggestions are:\")\n",
        "display(tmp_suggest8)"
      ],
      "execution_count": 47,
      "outputs": [
        {
          "output_type": "stream",
          "text": [
            "The previous words are ['hey', 'how', 'are', 'you'], the suggestions are:\n"
          ],
          "name": "stdout"
        },
        {
          "output_type": "display_data",
          "data": {
            "text/plain": [
              "[('do', 0.009300625456908455),\n",
              " ('doing', 0.0017045827050416313),\n",
              " ('doing', 0.00046910601796005895),\n",
              " ('dl', 6.724949562878279e-05)]"
            ]
          },
          "metadata": {
            "tags": []
          }
        }
      ]
    },
    {
      "cell_type": "code",
      "metadata": {
        "id": "u_NSlCO4z71x",
        "colab": {
          "base_uri": "https://localhost:8080/",
          "height": 104
        },
        "outputId": "85d163c3-3715-40ff-9b6e-533c4aa9c9bf"
      },
      "source": [
        "previous_tokens = [\"i\", \"am\", \"a\"]\n",
        "tmp_suggest9 = get_suggestions(previous_tokens, n_gram_counts_list, vocabulary, k=1.0)\n",
        "\n",
        "print(f\"The previous words are {previous_tokens}, the suggestions are:\")\n",
        "display(tmp_suggest9)"
      ],
      "execution_count": 48,
      "outputs": [
        {
          "output_type": "stream",
          "text": [
            "The previous words are ['i', 'am', 'a'], the suggestions are:\n"
          ],
          "name": "stdout"
        },
        {
          "output_type": "display_data",
          "data": {
            "text/plain": [
              "[('<unk>', 0.02847348255696713),\n",
              " ('<unk>', 0.0002684924150892737),\n",
              " ('<unk>', 0.0002684924150892737),\n",
              " ('what', 6.724949562878279e-05)]"
            ]
          },
          "metadata": {
            "tags": []
          }
        }
      ]
    },
    {
      "cell_type": "code",
      "metadata": {
        "id": "olT9ybWl0DqZ",
        "colab": {
          "base_uri": "https://localhost:8080/",
          "height": 104
        },
        "outputId": "67ea98f8-6b21-4161-8af9-e74d2a15ad2a"
      },
      "source": [
        "previous_tokens = [\"he\", \"is\", \"going\"]\n",
        "tmp_suggest10 = get_suggestions(previous_tokens, n_gram_counts_list, vocabulary, k=1.0)\n",
        "\n",
        "print(f\"The previous words are {previous_tokens}, the suggestions are:\")\n",
        "display(tmp_suggest10)"
      ],
      "execution_count": 49,
      "outputs": [
        {
          "output_type": "stream",
          "text": [
            "The previous words are ['he', 'is', 'going'], the suggestions are:\n"
          ],
          "name": "stdout"
        },
        {
          "output_type": "display_data",
          "data": {
            "text/plain": [
              "[('to', 0.03541283239195278),\n",
              " ('to', 0.0053376034160661865),\n",
              " ('to', 0.00013448090371167293),\n",
              " ('what', 6.724949562878279e-05)]"
            ]
          },
          "metadata": {
            "tags": []
          }
        }
      ]
    },
    {
      "cell_type": "code",
      "metadata": {
        "id": "wjG4z1-u0PCS",
        "colab": {
          "base_uri": "https://localhost:8080/",
          "height": 104
        },
        "outputId": "b756f038-4ad3-489a-ee8f-4fefbb850dc7"
      },
      "source": [
        "previous_tokens = [\"school\", \"is\", \"very\"]\n",
        "tmp_suggest11 = get_suggestions(previous_tokens, n_gram_counts_list, vocabulary, k=1.0)\n",
        "\n",
        "print(f\"The previous words are {previous_tokens}, the suggestions are:\")\n",
        "display(tmp_suggest11)"
      ],
      "execution_count": 50,
      "outputs": [
        {
          "output_type": "stream",
          "text": [
            "The previous words are ['school', 'is', 'very'], the suggestions are:\n"
          ],
          "name": "stdout"
        },
        {
          "output_type": "display_data",
          "data": {
            "text/plain": [
              "[('cool', 0.001311561413863204),\n",
              " ('very', 0.0002685104383432906),\n",
              " ('important', 0.00013448994687647098),\n",
              " ('what', 6.724949562878279e-05)]"
            ]
          },
          "metadata": {
            "tags": []
          }
        }
      ]
    },
    {
      "cell_type": "markdown",
      "metadata": {
        "id": "iR05H6n1znfS"
      },
      "source": [
        "# Congratulations!"
      ]
    },
    {
      "cell_type": "markdown",
      "metadata": {
        "id": "O_Z9AHnlzoB2"
      },
      "source": [
        "You've completed this assignment by building an autocomplete model using an n-gram language model!  \n",
        "\n",
        "Please continue onto the fourth and final week of this course!"
      ]
    }
  ]
}