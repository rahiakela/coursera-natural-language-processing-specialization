{
  "nbformat": 4,
  "nbformat_minor": 0,
  "metadata": {
    "colab": {
      "name": "part2-t5-squad-model.ipynb",
      "provenance": [],
      "toc_visible": true,
      "authorship_tag": "ABX9TyMjohBX7JwhZSr1pLvtrr0F",
      "include_colab_link": true
    },
    "kernelspec": {
      "name": "python3",
      "display_name": "Python 3"
    }
  },
  "cells": [
    {
      "cell_type": "markdown",
      "metadata": {
        "id": "view-in-github",
        "colab_type": "text"
      },
      "source": [
        "<a href=\"https://colab.research.google.com/github/rahiakela/coursera-natural-language-processing-specialization/blob/master/course-4-natural-language-processing-with-attention-models/week-3-Question%20Answering/part2_t5_squad_model.ipynb\" target=\"_parent\"><img src=\"https://colab.research.google.com/assets/colab-badge.svg\" alt=\"Open In Colab\"/></a>"
      ]
    },
    {
      "cell_type": "markdown",
      "metadata": {
        "id": "MW224V8kJgBb"
      },
      "source": [
        "##Part 2: T5 SQuAD Model"
      ]
    },
    {
      "cell_type": "markdown",
      "metadata": {
        "id": "gx6iGbxgJh_b"
      },
      "source": [
        "Welcome to the part 2 of testing the models for this week's assignment. This time we will perform decoding using the T5 SQuAD model. In this notebook we'll perform Question Answering by providing a \"Question\", its \"Context\" and see how well we get the \"Target\" answer. "
      ]
    },
    {
      "cell_type": "markdown",
      "metadata": {
        "id": "8MJ2w9S2KXSZ"
      },
      "source": [
        "## Colab"
      ]
    },
    {
      "cell_type": "markdown",
      "metadata": {
        "id": "ebO8uNysKXyw"
      },
      "source": [
        "Since this ungraded lab takes a lot of time to run on coursera, as an alternative we have a colab prepared for you.\n",
        "\n",
        "[T5 SQuAD Model Colab](https://drive.google.com/file/d/1c-8KJkTySRGqCx_JjwjvXuRBTNTqEE0N/view?usp=sharing)\n",
        "\n",
        "- If you run into a page that looks similar to the one below, with the option `Open with`, this would mean you need to download the `Colaboratory` app. You can do so by `Open with -> Connect more apps -> in the search bar write \"Colaboratory\" -> install`\n",
        "\n",
        "<img src='https://github.com/rahiakela/img-repo/blob/master/deeplearning.ai-NLPS/colab_help_1.png?raw=1' width='800'/>\n",
        "\n",
        "- After installation it should look like this. Click on `Open with Google Colaboratory`\n",
        "\n",
        "<img src='https://github.com/rahiakela/img-repo/blob/master/deeplearning.ai-NLPS/colab_help_2.png?raw=1' width='800'/>"
      ]
    },
    {
      "cell_type": "markdown",
      "metadata": {
        "id": "i5TaYZ-eKbi2"
      },
      "source": [
        "<a name='0'></a>\n",
        "## Outline"
      ]
    },
    {
      "cell_type": "markdown",
      "metadata": {
        "id": "C3hvMahLKfdA"
      },
      "source": [
        " [Overview](#0)\n",
        "- [Part 1: Resuming the assignment (T5 SQuAD Model)](#1)\n",
        "- [Part 2: Fine-tuning on SQuAD](#2)\n",
        "    - [2.1 Loading in the data and preprocessing](#2.1)\n",
        "    - [2.2 Decoding from a fine-tuned model](#2.2)"
      ]
    },
    {
      "cell_type": "markdown",
      "metadata": {
        "id": "s0U_N56BNsYL"
      },
      "source": [
        "<a name='0'></a>\n",
        "## Overview"
      ]
    },
    {
      "cell_type": "markdown",
      "metadata": {
        "id": "kXZJD6L-NvBJ"
      },
      "source": [
        "In this notebook you will:\n",
        "* Implement the Bidirectional Encoder Representation from Transformer (BERT) loss. \n",
        "* Use a pretrained version of the model you created in the assignment for inference."
      ]
    },
    {
      "cell_type": "markdown",
      "metadata": {
        "id": "fdY2izpSKh3m"
      },
      "source": [
        "<a name='1'></a>\n",
        "## Part 1: Getting ready"
      ]
    },
    {
      "cell_type": "markdown",
      "metadata": {
        "id": "2YOUhqyWN1Et"
      },
      "source": [
        "Run the code cells below to import the necessary libraries and to define some functions which will be useful for decoding. The code and the functions are the same as the ones you previsouly ran on the graded assignment."
      ]
    },
    {
      "cell_type": "code",
      "metadata": {
        "id": "HPAtWWy1Kx5X"
      },
      "source": [
        "!pip -q install trax==1.3.9"
      ],
      "execution_count": null,
      "outputs": []
    },
    {
      "cell_type": "code",
      "metadata": {
        "id": "SQc3q6BaKpJi"
      },
      "source": [
        "import string\n",
        "import t5\n",
        "import numpy as np\n",
        "import trax \n",
        "from trax.supervised import decoding\n",
        "import textwrap \n",
        "\n",
        "wrapper = textwrap.TextWrapper(width=70)"
      ],
      "execution_count": 2,
      "outputs": []
    },
    {
      "cell_type": "code",
      "metadata": {
        "id": "WSB5ENhPYHeM",
        "outputId": "99e9d499-5692-453f-ab04-340a492545af",
        "colab": {
          "base_uri": "https://localhost:8080/"
        }
      },
      "source": [
        "%%shell\n",
        "\n",
        "wget -q https://github.com/rahiakela/coursera-natural-language-processing-specialization/raw/master/course-4-natural-language-processing-with-attention-models/week-3-Question%20Answering/dataset/data.txt\n",
        "wget -q https://github.com/rahiakela/coursera-natural-language-processing-specialization/raw/master/course-4-natural-language-processing-with-attention-models/week-3-Question%20Answering/dataset/inputs_targets_pairs_file.txt\n",
        "\n",
        "wget -q https://github.com/rahiakela/coursera-natural-language-processing-specialization/raw/master/course-4-natural-language-processing-with-attention-models/week-3-Question%20Answering/model/sentencepiece.model\n",
        "#wget -q https://github.com/rahiakela/coursera-natural-language-processing-specialization/raw/master/course-4-natural-language-processing-with-attention-models/week-3-Question%20Answering/model/data.txt"
      ],
      "execution_count": 3,
      "outputs": [
        {
          "output_type": "execute_result",
          "data": {
            "text/plain": [
              ""
            ]
          },
          "metadata": {
            "tags": []
          },
          "execution_count": 3
        }
      ]
    },
    {
      "cell_type": "code",
      "metadata": {
        "id": "UietqLplYLjp"
      },
      "source": [
        "PAD, EOS, UNK = 0, 1, 2\n",
        "\n",
        "def tokenize(s):\n",
        "  return next(trax.data.tokenize(iter([s]), vocab_type=\"sentencepiece\", vocab_file=\"sentencepiece.model\", vocab_dir=\".\"))\n",
        "\n",
        "def detokenize(np_array):\n",
        "  return trax.data.detokenize(np_array, vocab_type=\"sentencepiece\", vocab_file=\"sentencepiece.model\", vocab_dir=\".\")"
      ],
      "execution_count": 4,
      "outputs": []
    },
    {
      "cell_type": "code",
      "metadata": {
        "id": "N35tOGG4Ydmd"
      },
      "source": [
        "vocab_size = trax.data.vocab_size(vocab_type=\"sentencepiece\", vocab_file=\"sentencepiece.model\", vocab_dir=\".\")"
      ],
      "execution_count": 5,
      "outputs": []
    },
    {
      "cell_type": "code",
      "metadata": {
        "id": "qcth8H4nYeHZ"
      },
      "source": [
        "def get_sentinels(vocab_size, display=False):\n",
        "  sentinels = {}\n",
        "  for i, char in enumerate(reversed(string.ascii_letters), 1):\n",
        "    decoded_text = detokenize([vocab_size - i])\n",
        "    # Sentinels, ex: <Z> - <a>\n",
        "    sentinels[decoded_text] = f\"<{char}>\"\n",
        "    if display:\n",
        "      print(f\"The sentinel is <{char}> and the decoded token is:\", decoded_text)\n",
        "\n",
        "  return sentinels\n",
        "\n",
        "sentinels = get_sentinels(vocab_size, display=False)"
      ],
      "execution_count": 6,
      "outputs": []
    },
    {
      "cell_type": "code",
      "metadata": {
        "id": "3_EN4QzEYmrP"
      },
      "source": [
        "def pretty_decode(encoded_str_list, sentinels=sentinels):\n",
        "  # If already a string, just do the replacements.\n",
        "  if isinstance(encoded_str_list, (str, bytes)):\n",
        "    for token, char in sentinels.items():\n",
        "      encoded_str_list = encoded_str_list.replace(token, char)\n",
        "    return encoded_str_list\n",
        "  # We need to decode and then prettyfy it.\n",
        "  return pretty_decode(detokenize(encoded_str_list))"
      ],
      "execution_count": 7,
      "outputs": []
    },
    {
      "cell_type": "markdown",
      "metadata": {
        "id": "XoGZBHS-YqjN"
      },
      "source": [
        "##Part 2: Fine-tuning on SQuAD"
      ]
    },
    {
      "cell_type": "markdown",
      "metadata": {
        "id": "UHaYlRqmKvbq"
      },
      "source": [
        "Now let's try to fine tune on SQuAD and see what becomes of the model.For this, we need to write a function that will create and process the SQuAD tf.data.Dataset. Below is how T5 pre-processes SQuAD dataset as a text2text example. Before we jump in, we will have to first load in the data."
      ]
    },
    {
      "cell_type": "markdown",
      "metadata": {
        "id": "U58NwLWBY5SH"
      },
      "source": [
        "###2.1 Loading in the data and preprocessing"
      ]
    },
    {
      "cell_type": "markdown",
      "metadata": {
        "id": "nDAvRJUcY6NK"
      },
      "source": [
        "You first start by loading in the dataset. The text2text example for a SQuAD example looks like:\n",
        "\n",
        "```\n",
        "{\n",
        "  'inputs': 'question: <question> context: <article>',\n",
        "  'targets': '<answer_0>',\n",
        "}\n",
        "```\n",
        "\n",
        "The squad pre-processing function takes in the dataset and processes it using the sentencePiece vocabulary you have seen above. It generates the features from the vocab and encodes the string features. It takes on question, context, and answer, and returns \"question: Q context: C\" as input and \"A\" as target."
      ]
    },
    {
      "cell_type": "code",
      "metadata": {
        "id": "Ay4pW1dSZI84"
      },
      "source": [
        "# Retrieve Question, C, A and return \"question: Q context: C\" as input and \"A\" as target.\n",
        "def squad_preprocess_fn(dataset, mode=\"train\"):\n",
        "  return t5.data.preprocessors.squad(dataset)"
      ],
      "execution_count": 8,
      "outputs": []
    },
    {
      "cell_type": "code",
      "metadata": {
        "id": "6pwkDfR1ZloT"
      },
      "source": [
        "# train generator, this takes about 1 minute\n",
        "train_generator_fn, eval_generator_fn = trax.data.tf_inputs.data_streams(\n",
        "  'squad/plain_text:1.0.0',\n",
        "  data_dir='data/',\n",
        "  bare_preprocess_fn=squad_preprocess_fn,\n",
        "  input_name='inputs',\n",
        "  target_name='targets'\n",
        ")\n",
        "\n",
        "train_generator = train_generator_fn()\n",
        "next(train_generator)"
      ],
      "execution_count": null,
      "outputs": []
    },
    {
      "cell_type": "code",
      "metadata": {
        "id": "kE8ZSIRybDtw"
      },
      "source": [
        "#print example from train_generator\n",
        "(inp, out) = next(train_generator)\n",
        "print(inp.decode('utf8').split('context:')[0])\n",
        "print()\n",
        "print('context:', inp.decode('utf8').split('context:')[1])\n",
        "print()\n",
        "print('target:', out.decode('utf8'))"
      ],
      "execution_count": null,
      "outputs": []
    },
    {
      "cell_type": "markdown",
      "metadata": {
        "id": "Ng2Pueaxd--z"
      },
      "source": [
        "###2.2 Decoding from a fine-tuned model"
      ]
    },
    {
      "cell_type": "code",
      "metadata": {
        "id": "Uy3ONLN4d_ro"
      },
      "source": [
        "# Initialize the model \n",
        "model = trax.models.Transformer(\n",
        "    d_ff = 4096,\n",
        "    d_model = 1024,\n",
        "    max_len = 2048,\n",
        "    n_heads = 16,\n",
        "    dropout = 0.1,\n",
        "    input_vocab_size = 32000,\n",
        "    n_encoder_layers = 24,\n",
        "    n_decoder_layers = 24,\n",
        "    mode='predict')  # Change to 'eval' for slow decoding."
      ],
      "execution_count": null,
      "outputs": []
    },
    {
      "cell_type": "code",
      "metadata": {
        "id": "KiEVECoHeFfj"
      },
      "source": [
        "# load in the model\n",
        "# this will take a minute\n",
        "shape11 = trax.shapes.ShapeDtype((1, 1), dtype=np.int32)\n",
        "model.init_from_file('model_squad.pkl.gz', weights_only=True, input_signature=(shape11, shape11))"
      ],
      "execution_count": null,
      "outputs": []
    },
    {
      "cell_type": "code",
      "metadata": {
        "id": "ldCamuOxeJi3"
      },
      "source": [
        "# create inputs\n",
        "# a simple example \n",
        "# inputs = 'question: She asked him where is john? context: John was at the game'\n",
        "\n",
        "# an extensive example\n",
        "inputs = 'question: What are some of the colours of a rose? context: A rose is a woody perennial flowering plant of the genus Rosa, in the family Rosaceae, or the flower it bears.There are over three hundred species and tens of thousands of cultivars. They form a group of plants that can be erect shrubs, climbing, or trailing, with stems that are often armed with sharp prickles. Flowers vary in size and shape and are usually large and showy, in colours ranging from white through yellows and reds. Most species are native to Asia, with smaller numbers native to Europe, North America, and northwestern Africa. Species, cultivars and hybrids are all widely grown for their beauty and often are fragrant.'"
      ],
      "execution_count": null,
      "outputs": []
    },
    {
      "cell_type": "code",
      "metadata": {
        "id": "EjOj6py2eNVk"
      },
      "source": [
        "# tokenizing the input so we could feed it for decoding\n",
        "print(tokenize(inputs))\n",
        "test_inputs = tokenize(inputs)"
      ],
      "execution_count": null,
      "outputs": []
    },
    {
      "cell_type": "markdown",
      "metadata": {
        "id": "rhdxRrWaePvA"
      },
      "source": [
        "**Note: This will take some time to run**\n",
        "\n",
        "Run the cell below to decode."
      ]
    },
    {
      "cell_type": "code",
      "metadata": {
        "id": "WUoWzj0EeTCc"
      },
      "source": [
        "# Temperature is a parameter for sampling.\n",
        "#   # * 0.0: same as argmax, always pick the most probable token\n",
        "#   # * 1.0: sampling from the distribution (can sometimes say random things)\n",
        "#   # * values inbetween can trade off diversity and quality, try it out!\n",
        "output = decoding.autoregressive_sample(model, inputs=np.array(test_inputs)[None, :], temperature=0.0, max_length=5) # originally max_length=10\n",
        "print(wrapper.fill(pretty_decode(output[0])))"
      ],
      "execution_count": null,
      "outputs": []
    },
    {
      "cell_type": "markdown",
      "metadata": {
        "id": "JwQgaJBZeVmv"
      },
      "source": [
        "You should also be aware that the quality of the decoding is not very good because max_length was downsized from 10 to 5 so that this runs faster within this environment. The colab version uses the original max_length so check that one for the actual decoding."
      ]
    }
  ]
}