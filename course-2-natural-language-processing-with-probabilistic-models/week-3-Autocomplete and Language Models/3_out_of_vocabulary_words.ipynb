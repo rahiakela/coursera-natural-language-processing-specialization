{
  "nbformat": 4,
  "nbformat_minor": 0,
  "metadata": {
    "colab": {
      "name": "3-out-of-vocabulary-words.ipynb",
      "provenance": [],
      "authorship_tag": "ABX9TyMxm5+GoVeXp/LcAA3FKQqb",
      "include_colab_link": true
    },
    "kernelspec": {
      "name": "python3",
      "display_name": "Python 3"
    }
  },
  "cells": [
    {
      "cell_type": "markdown",
      "metadata": {
        "id": "view-in-github",
        "colab_type": "text"
      },
      "source": [
        "<a href=\"https://colab.research.google.com/github/rahiakela/coursera-natural-language-processing-specialization/blob/2-natural-language-processing-with-probabilistic-models/week-3/3_out_of_vocabulary_words.ipynb\" target=\"_parent\"><img src=\"https://colab.research.google.com/assets/colab-badge.svg\" alt=\"Open In Colab\"/></a>"
      ]
    },
    {
      "cell_type": "markdown",
      "metadata": {
        "id": "VgLocAnAIJKn",
        "colab_type": "text"
      },
      "source": [
        "<a name=\"oov-words\"></a>\n",
        "# Out of vocabulary words (OOV)"
      ]
    },
    {
      "cell_type": "markdown",
      "metadata": {
        "id": "Y-w6ZfL0IJzC",
        "colab_type": "text"
      },
      "source": [
        "<a name=\"vocabulary\"></a>\n",
        "## Vocabulary"
      ]
    },
    {
      "cell_type": "markdown",
      "metadata": {
        "id": "I6E_ICvgIUHh",
        "colab_type": "text"
      },
      "source": [
        "In the video about the out of vocabulary words, you saw that the first step in dealing with the unknown words is to decide which words belong to the vocabulary. \n",
        "\n",
        "In the code assignment, you will try the method based on minimum frequency - all words appearing in the training set with frequency >= minimum frequency are added to the vocabulary.\n",
        "\n",
        "Here is a code for the other method, where the target size of the vocabulary is known in advance and the vocabulary is filled with words based on their frequency in the training set."
      ]
    },
    {
      "cell_type": "code",
      "metadata": {
        "id": "v6LAz9d0IWhj",
        "colab_type": "code",
        "colab": {
          "base_uri": "https://localhost:8080/",
          "height": 51
        },
        "outputId": "6ec49537-e7fd-490d-b004-f8d4da804487"
      },
      "source": [
        "# build the vocabulary from M most frequent words\n",
        "# use Counter object from the collections library to find M most common words\n",
        "from collections import Counter\n",
        "\n",
        "# the target size of the vocabulary\n",
        "M = 3\n",
        "\n",
        "# pre-calculated word counts\n",
        "# Counter could be used to build this dictionary from the source corpus\n",
        "word_counts = {'happy': 5, 'because': 3, 'i': 2, 'am': 2, 'learning': 3, '.': 1}\n",
        "\n",
        "vocabulary = Counter(word_counts).most_common(M)\n",
        "\n",
        "# remove the frequencies and leave just the words\n",
        "vocabulary = [w[0] for w in vocabulary]\n",
        "\n",
        "print(f\"the new vocabulary containing {M} most frequent words: {vocabulary}\\n\")"
      ],
      "execution_count": 1,
      "outputs": [
        {
          "output_type": "stream",
          "text": [
            "the new vocabulary containing 3 most frequent words: ['happy', 'because', 'learning']\n",
            "\n"
          ],
          "name": "stdout"
        }
      ]
    },
    {
      "cell_type": "markdown",
      "metadata": {
        "id": "eUWyzOdiJ-lV",
        "colab_type": "text"
      },
      "source": [
        "Now that the vocabulary is ready, you can use it to replace the OOV words with $<UNK>$ as you saw in the lecture."
      ]
    },
    {
      "cell_type": "code",
      "metadata": {
        "id": "DXq-e2vSJ2wt",
        "colab_type": "code",
        "colab": {
          "base_uri": "https://localhost:8080/",
          "height": 51
        },
        "outputId": "329ee634-57e4-4be5-e0c3-ff74bc0194ef"
      },
      "source": [
        "# test if words in the input sentences are in the vocabulary, if OOV, print <UNK>\n",
        "sentence = ['am', 'i', 'learning']\n",
        "output_sentence = []\n",
        "print(f\"input sentence: {sentence}\")\n",
        "\n",
        "for w in sentence:\n",
        "  # test if word w is in vocabulary\n",
        "  if w in vocabulary:\n",
        "    output_sentence.append(w)\n",
        "  else:\n",
        "    output_sentence.append(\"<UNK>\")\n",
        "\n",
        "print(f\"output sentence: {output_sentence}\")"
      ],
      "execution_count": 2,
      "outputs": [
        {
          "output_type": "stream",
          "text": [
            "input sentence: ['am', 'i', 'learning']\n",
            "output sentence: ['<UNK>', '<UNK>', 'learning']\n"
          ],
          "name": "stdout"
        }
      ]
    },
    {
      "cell_type": "markdown",
      "metadata": {
        "id": "ZsPgtHcSPwtF",
        "colab_type": "text"
      },
      "source": [
        "When building the vocabulary in the code assignment, you will need to know how to iterate through the word counts dictionary. \n",
        "\n",
        "Here is an example of a similar task showing how to go through all the word counts and print out only the words with the frequency equal to f. "
      ]
    },
    {
      "cell_type": "code",
      "metadata": {
        "id": "Ksf3dRGpKykP",
        "colab_type": "code",
        "colab": {
          "base_uri": "https://localhost:8080/",
          "height": 51
        },
        "outputId": "55152347-aac4-40a7-d2ce-fbeb61b51ef5"
      },
      "source": [
        "# iterate through all word counts and print words with given frequency f\n",
        "f = 3\n",
        "\n",
        "word_counts = {'happy': 5, 'because': 3, 'i': 2, 'am': 2, 'learning':3, '.': 1}\n",
        "for word, freq in word_counts.items():\n",
        "  if freq == f:\n",
        "    print(word)"
      ],
      "execution_count": 3,
      "outputs": [
        {
          "output_type": "stream",
          "text": [
            "because\n",
            "learning\n"
          ],
          "name": "stdout"
        }
      ]
    },
    {
      "cell_type": "markdown",
      "metadata": {
        "id": "3ye5htQxRAFK",
        "colab_type": "text"
      },
      "source": [
        "As mentioned in the videos, if there are many $<UNK>$ replacements in your train and test set, you may get a very low perplexity even though the model itself wouldn't be very helpful. \n",
        "    \n",
        "Here is a sample code showing this unwanted effect. "
      ]
    },
    {
      "cell_type": "code",
      "metadata": {
        "id": "Y7CLzpEZQqFq",
        "colab_type": "code",
        "colab": {
          "base_uri": "https://localhost:8080/",
          "height": 51
        },
        "outputId": "b97a6232-f9ce-457f-96e3-e706d43ed1b7"
      },
      "source": [
        "# many <unk> low perplexity \n",
        "training_set = ['i', 'am', 'happy', 'because','i', 'am', 'learning', '.']\n",
        "training_set_unk = ['i', 'am', '<UNK>', '<UNK>','i', 'am', '<UNK>', '<UNK>']\n",
        "\n",
        "test_set = ['i', 'am', 'learning']\n",
        "test_set_unk = ['i', 'am', '<UNK>']\n",
        "\n",
        "M = len(test_set)\n",
        "probability = 1\n",
        "probability_unk = 1\n",
        "\n",
        "# pre-calculated probabilities\n",
        "bigram_probabilities = {('i', 'am'): 1.0, ('am', 'happy'): 0.5, ('happy', 'because'): 1.0, ('because', 'i'): 1.0, ('am', 'learning'): 0.5, ('learning', '.'): 1.0}\n",
        "bigram_probabilities_unk = {('i', 'am'): 1.0, ('am', '<UNK>'): 1.0, ('<UNK>', '<UNK>'): 0.5, ('<UNK>', 'i'): 0.25}\n",
        "\n",
        "# got through the test set and calculate its bigram probability\n",
        "for i in range(len(test_set) - 2 + 1):\n",
        "  bigram = tuple(test_set[i: i + 2])\n",
        "  probability = probability * bigram_probabilities[bigram]\n",
        "\n",
        "  bigram_unk = tuple(test_set_unk[i: i + 2])\n",
        "  probability_unk = probability_unk * bigram_probabilities_unk[bigram_unk]\n",
        "\n",
        "# calculate perplexity for both original test set and test set with <UNK>\n",
        "perplexity = probability ** -1 / M\n",
        "perplexity_unk = probability_unk ** -1 / M\n",
        "\n",
        "print(f\"perplexity for the training set: {perplexity}\")\n",
        "print(f\"perplexity for the training set with <UNK>: {perplexity_unk}\")"
      ],
      "execution_count": 5,
      "outputs": [
        {
          "output_type": "stream",
          "text": [
            "perplexity for the training set: 0.6666666666666666\n",
            "perplexity for the training set with <UNK>: 0.3333333333333333\n"
          ],
          "name": "stdout"
        }
      ]
    },
    {
      "cell_type": "markdown",
      "metadata": {
        "id": "7QO5T32YTgT_",
        "colab_type": "text"
      },
      "source": [
        "<a name=\"smoothing\"></a>\n",
        "## Smoothing"
      ]
    },
    {
      "cell_type": "markdown",
      "metadata": {
        "id": "ube9SvKNT2dT",
        "colab_type": "text"
      },
      "source": [
        "Add-k smoothing was described as a method for smoothing of the probabilities for previously unseen n-grams. \n",
        "\n",
        "Here is an example code that shows how to implement add-k smoothing but also highlights a disadvantage of this method. The downside is that n-grams not previously seen in the training dataset get too high probability. \n",
        "\n",
        "In the code output bellow you'll see that a phrase that is in the training set gets the same probability as an unknown phrase."
      ]
    },
    {
      "cell_type": "code",
      "metadata": {
        "id": "uwumkrgiTNCm",
        "colab_type": "code",
        "colab": {}
      },
      "source": [
        "def add_k_smooting_probability(k, vocabulary_size, n_gram_count, n_gram_prefix_count):\n",
        "  numerator = n_gram_count + k\n",
        "  denominator = n_gram_prefix_count + k * vocabulary_size\n",
        "  return numerator / denominator"
      ],
      "execution_count": 6,
      "outputs": []
    },
    {
      "cell_type": "code",
      "metadata": {
        "id": "hPFTj2fYU9ZM",
        "colab_type": "code",
        "colab": {
          "base_uri": "https://localhost:8080/",
          "height": 51
        },
        "outputId": "2db88106-ff6d-4d0c-9668-68bbff68985f"
      },
      "source": [
        "trigram_probabilities = {('i', 'am', 'happy') : 2}\n",
        "bigram_probabilities = {( 'am', 'happy') : 10}\n",
        "vocabulary_size = 5\n",
        "k = 1\n",
        "\n",
        "probability_known_trigram = add_k_smooting_probability(k, vocabulary_size, trigram_probabilities[('i', 'am', 'happy')], bigram_probabilities[('am', 'happy')])\n",
        "probability_unknown_trigram = add_k_smooting_probability(k, vocabulary_size, 0, 0)\n",
        "\n",
        "print(f\"probability_known_trigram: {probability_known_trigram}\")\n",
        "print(f\"probability_unknown_trigram: {probability_unknown_trigram}\")"
      ],
      "execution_count": 7,
      "outputs": [
        {
          "output_type": "stream",
          "text": [
            "probability_known_trigram: 0.2\n",
            "probability_unknown_trigram: 0.2\n"
          ],
          "name": "stdout"
        }
      ]
    },
    {
      "cell_type": "markdown",
      "metadata": {
        "id": "VrxeWmC_VtbT",
        "colab_type": "text"
      },
      "source": [
        "<a name=\"backoff\"></a>\n",
        "## Back-off"
      ]
    },
    {
      "cell_type": "markdown",
      "metadata": {
        "id": "GTdM2UI_Vt-X",
        "colab_type": "text"
      },
      "source": [
        "Back-off is a model generalization method that leverages information from lower order n-grams in case information about the high order n-grams is missing. For example, if the probability of an trigram is missing, use bigram information and so on.\n",
        "\n",
        "Here you can see an example of a simple back-off technique."
      ]
    },
    {
      "cell_type": "code",
      "metadata": {
        "id": "LIc_qq-jVmvj",
        "colab_type": "code",
        "colab": {
          "base_uri": "https://localhost:8080/",
          "height": 136
        },
        "outputId": "4bab3d4b-5692-4fd5-eb85-b09cee945074"
      },
      "source": [
        "# pre-calculated probabilities of all types of n-grams\n",
        "trigram_probabilities = {('i', 'am', 'happy'): 0}\n",
        "bigram_probabilities = {( 'am', 'happy'): 0.3}\n",
        "unigram_probabilities = {'happy': 0.4}\n",
        "\n",
        "# this is the input trigram we need to estimate\n",
        "trigram = ('are', 'you', 'happy')\n",
        "\n",
        "# find the last bigram and unigram of the input\n",
        "bigram = trigram[1: 3]\n",
        "unigram = trigram[2]\n",
        "print(f\"besides the trigram {trigram} we also use bigram {bigram} and unigram ({unigram})\\n\")\n",
        "\n",
        "# 0.4 is used as an example, experimentally found for web-scale corpuses when using the \"stupid\" back-off\n",
        "lambda_factor = 0.4\n",
        "probability_hat_trigram = 0\n",
        "\n",
        "# search for first non-zero probability starting with trigram\n",
        "# to generalize this for any order of n-gram hierarchy, \n",
        "# you could loop through the probability dictionaries instead of if/else cascade\n",
        "if trigram not in trigram_probabilities or trigram_probabilities[trigram] == 0:\n",
        "  print(f\"probability for trigram {trigram} not found\")\n",
        "\n",
        "  if bigram not in bigram_probabilities or bigram_probabilities[bigram] == 0:\n",
        "    print(f\"probability for bigram {bigram} not found\")\n",
        "\n",
        "    if unigram in unigram_probabilities:\n",
        "      print(f\"probability for unigram {unigram} found\\n\")\n",
        "      probability_hat_trigram = lambda_factor * lambda_factor * unigram_probabilities[unigram]\n",
        "    else:\n",
        "      probability_hat_trigram = 0\n",
        "  else:\n",
        "    probability_hat_trigram = lambda_factor * bigram_probabilities[bigram]\n",
        "else:\n",
        "  probability_hat_trigram = trigram_probabilities[trigram]\n",
        "\n",
        "print(f\"probability for trigram {trigram} estimated as {probability_hat_trigram}\")"
      ],
      "execution_count": 8,
      "outputs": [
        {
          "output_type": "stream",
          "text": [
            "besides the trigram ('are', 'you', 'happy') we also use bigram ('you', 'happy') and unigram (happy)\n",
            "\n",
            "probability for trigram ('are', 'you', 'happy') not found\n",
            "probability for bigram ('you', 'happy') not found\n",
            "probability for unigram happy found\n",
            "\n",
            "probability for trigram ('are', 'you', 'happy') estimated as 0.06400000000000002\n"
          ],
          "name": "stdout"
        }
      ]
    },
    {
      "cell_type": "markdown",
      "metadata": {
        "id": "NYAeJeE8dmvP",
        "colab_type": "text"
      },
      "source": [
        "<a name=\"interpolation\"></a>\n",
        "## Interpolation"
      ]
    },
    {
      "cell_type": "markdown",
      "metadata": {
        "id": "_55Uc9YxdnRP",
        "colab_type": "text"
      },
      "source": [
        "The other method for using probabilities of lower order n-grams is the interpolation. In this case, you use weighted probabilities of n-grams of all orders every time, not just when high order information is missing. \n",
        "\n",
        "For example, you always combine trigram, bigram and unigram probability. You can see how this in the following code snippet."
      ]
    },
    {
      "cell_type": "code",
      "metadata": {
        "id": "7yQWV4M7dZQk",
        "colab_type": "code",
        "colab": {
          "base_uri": "https://localhost:8080/",
          "height": 68
        },
        "outputId": "f41e687f-b52d-4bce-832e-23a818b063a4"
      },
      "source": [
        "# pre-calculated probabilities of all types of n-grams\n",
        "trigram_probabilities = {('i', 'am', 'happy'): 0.15}\n",
        "bigram_probabilities = {( 'am', 'happy'): 0.3}\n",
        "unigram_probabilities = {'happy': 0.4}\n",
        "\n",
        "# the weights come from optimization on a validation set\n",
        "lambda_1 = 0.8\n",
        "lambda_2 = 0.15\n",
        "lambda_3 = 0.05\n",
        "\n",
        "# this is the input trigram we need to estimate\n",
        "trigram = ('i', 'am', 'happy')\n",
        "\n",
        "# find the last bigram and unigram of the input\n",
        "bigram = trigram[1: 3]\n",
        "unigram = trigram[2]\n",
        "print(f\"besides the trigram {trigram} we also use bigram {bigram} and unigram ({unigram})\\n\")\n",
        "\n",
        "# in the production code, you would need to check if the probability n-gram dictionary contains the n-gram\n",
        "probability_hat_trigram = lambda_1 * trigram_probabilities[trigram] + lambda_2 * bigram_probabilities[bigram] + lambda_3 * unigram_probabilities[unigram]\n",
        "print(f\"estimated probability of the input trigram {trigram} is {probability_hat_trigram}\")"
      ],
      "execution_count": 11,
      "outputs": [
        {
          "output_type": "stream",
          "text": [
            "besides the trigram ('i', 'am', 'happy') we also use bigram ('am', 'happy') and unigram (happy)\n",
            "\n",
            "estimated probability of the input trigram ('i', 'am', 'happy') is 0.185\n"
          ],
          "name": "stdout"
        }
      ]
    },
    {
      "cell_type": "markdown",
      "metadata": {
        "id": "5uMjhpsRfdUO",
        "colab_type": "text"
      },
      "source": [
        "That's it for week 3, you should be ready now for the code assignment. "
      ]
    }
  ]
}