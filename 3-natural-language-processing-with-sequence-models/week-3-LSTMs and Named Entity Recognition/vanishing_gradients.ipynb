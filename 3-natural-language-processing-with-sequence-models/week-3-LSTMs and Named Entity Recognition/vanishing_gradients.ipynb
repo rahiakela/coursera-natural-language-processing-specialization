{
  "nbformat": 4,
  "nbformat_minor": 0,
  "metadata": {
    "colab": {
      "name": "vanishing-gradients.ipynb",
      "provenance": [],
      "authorship_tag": "ABX9TyN7gNa8GH4HY2JBe/dLYh9C",
      "include_colab_link": true
    },
    "kernelspec": {
      "name": "python3",
      "display_name": "Python 3"
    }
  },
  "cells": [
    {
      "cell_type": "markdown",
      "metadata": {
        "id": "view-in-github",
        "colab_type": "text"
      },
      "source": [
        "<a href=\"https://colab.research.google.com/github/rahiakela/coursera-natural-language-processing-specialization/blob/3-natural-language-processing-with-sequence-models/week-3/vanishing_gradients.ipynb\" target=\"_parent\"><img src=\"https://colab.research.google.com/assets/colab-badge.svg\" alt=\"Open In Colab\"/></a>"
      ]
    },
    {
      "cell_type": "markdown",
      "metadata": {
        "id": "3-k17RjTkarj",
        "colab_type": "text"
      },
      "source": [
        "# Vanishing Gradients"
      ]
    },
    {
      "cell_type": "markdown",
      "metadata": {
        "id": "FqsHV1W1kh4E",
        "colab_type": "text"
      },
      "source": [
        "In this notebook you'll take another look at vanishing gradients, from an intuitive standpoint."
      ]
    },
    {
      "cell_type": "markdown",
      "metadata": {
        "id": "diwLSiQrkibw",
        "colab_type": "text"
      },
      "source": [
        "## Background"
      ]
    },
    {
      "cell_type": "markdown",
      "metadata": {
        "id": "WLR6q-e2kkuh",
        "colab_type": "text"
      },
      "source": [
        "Adding layers to a neural network introduces multiplicative effects in both forward and backward propagation. The back prop in particular presents a problem as the gradient of activation functions can be very small. Multiplied together across many layers, their product can be vanishingly small! This results in weights not being updated in the front layers and training not progressing.\n",
        "<br/><br/>\n",
        "Gradients of the sigmoid function, for example, are in the range 0 to 0.25. To calculate gradients for the front layers of a neural network the chain rule is used. This means that these tiny values are multiplied starting at the last layer, working backwards to the first layer, with the gradients shrinking exponentially at each step."
      ]
    },
    {
      "cell_type": "code",
      "metadata": {
        "id": "a6bigFdEkn5_",
        "colab_type": "code",
        "colab": {}
      },
      "source": [
        "import numpy as np\n",
        "import matplotlib.pyplot as plt\n",
        "\n",
        "%matplotlib inline"
      ],
      "execution_count": 1,
      "outputs": []
    },
    {
      "cell_type": "markdown",
      "metadata": {
        "id": "RTFlT-k8lE0T",
        "colab_type": "text"
      },
      "source": [
        "## Data, Activation & Gradient"
      ]
    },
    {
      "cell_type": "markdown",
      "metadata": {
        "id": "9BLjUrwwlFUj",
        "colab_type": "text"
      },
      "source": [
        "### Data"
      ]
    },
    {
      "cell_type": "markdown",
      "metadata": {
        "id": "bT3sPAkplHeT",
        "colab_type": "text"
      },
      "source": [
        "I'll start be creating some data, nothing special going on here. Just some values spread across the interval -5 to 5.\n",
        "* Try changing the range of values in the data to see how it impacts the plots that follow."
      ]
    },
    {
      "cell_type": "markdown",
      "metadata": {
        "id": "g544TcsclMSS",
        "colab_type": "text"
      },
      "source": [
        "### Activation"
      ]
    },
    {
      "cell_type": "markdown",
      "metadata": {
        "id": "nVIFitw9lM2w",
        "colab_type": "text"
      },
      "source": [
        "The example here is sigmoid() to squish the data x into the interval 0 to 1."
      ]
    },
    {
      "cell_type": "markdown",
      "metadata": {
        "id": "wSMYmZRUlPDI",
        "colab_type": "text"
      },
      "source": [
        "### Gradient"
      ]
    },
    {
      "cell_type": "markdown",
      "metadata": {
        "id": "USNG2qevlRfy",
        "colab_type": "text"
      },
      "source": [
        "This is the derivative of the sigmoid() activation function. It has a maximum of 0.25 at x = 0, the steepest point on the sigmoid plot.\n",
        "* Try changing the x value for finding the tangent line in the plot.\n",
        "\n",
        "<img src='https://github.com/rahiakela/img-repo/blob/master/deeplearning.ai-NLPS/sigmoid_tangent.png?raw=1' width='800'/>"
      ]
    },
    {
      "cell_type": "code",
      "metadata": {
        "id": "bfSydSFvlV8S",
        "colab_type": "code",
        "colab": {
          "base_uri": "https://localhost:8080/",
          "height": 295
        },
        "outputId": "75fe2229-b758-49f8-833b-1640a4883dc8"
      },
      "source": [
        "# Data\n",
        "# Interval [-5, 5]\n",
        "### START CODE HERE ###\n",
        "# try changing the range of values in the data. eg: (-100,100,1000)\n",
        "x = np.linspace(-5, 5, 100)\n",
        "### END CODE HERE ###\n",
        "\n",
        "# Activation\n",
        "# Interval [0, 1]\n",
        "def sigmoid(x):\n",
        "  return 1 / (1 + np.exp(-x))\n",
        "\n",
        "activations = sigmoid(x)\n",
        "\n",
        "# Gradient\n",
        "# Interval [0, 0.25]\n",
        "def sigmoid_gradient(x):\n",
        "  return (x) * (1 - x)\n",
        "\n",
        "gradients = sigmoid_gradient(x)\n",
        "\n",
        "# Plot sigmoid with tangent line\n",
        "plt.plot(x, activations)\n",
        "plt.title(\"Sigmoid Steepest Point\")\n",
        "plt.xlabel(\"x input data\")\n",
        "plt.ylabel(\"sigmoid(x)\")\n",
        "\n",
        "# Add the tangent line\n",
        "### START CODE HERE ###\n",
        "# x value to find the tangent. try different values within x declared above. eg: 2  \n",
        "x_tan = 0\n",
        "### END CODE HERE ###\n",
        "\n",
        "y_tan = sigmoid(x_tan)  # y value\n",
        "span = 1.7              # line span along x axis\n",
        "data_tan = np.linspace(x_tan - span, x_tan + span)       # x values to plot\n",
        "gradient_tan = sigmoid_gradient(sigmoid(x_tan))          # gradient of the tangent\n",
        "tan = y_tan + gradient_tan * (data_tan - x_tan)          # y values to plot\n",
        "\n",
        "plt.plot(x_tan, y_tan, marker=\"o\", color=\"orange\", label=True)  # marker\n",
        "plt.plot(data_tan, tan, linestyle=\"--\", color=\"orange\")         # line\n",
        "plt.show()"
      ],
      "execution_count": 2,
      "outputs": [
        {
          "output_type": "display_data",
          "data": {
            "image/png": "[encoded data removed]",
            "text/plain": [
              "<Figure size 432x288 with 1 Axes>"
            ]
          },
          "metadata": {
            "tags": [],
            "needs_background": "light"
          }
        }
      ]
    },
    {
      "cell_type": "markdown",
      "metadata": {
        "id": "XCIcE39ppGX9",
        "colab_type": "text"
      },
      "source": [
        "## Plots"
      ]
    },
    {
      "cell_type": "markdown",
      "metadata": {
        "id": "pma5mzJ4pG2d",
        "colab_type": "text"
      },
      "source": [
        "### Sub Plots"
      ]
    },
    {
      "cell_type": "markdown",
      "metadata": {
        "id": "yVxgWOz2pIw2",
        "colab_type": "text"
      },
      "source": [
        "Data values along the x-axis of the plots on the interval chosen for x, -5 to 5. Subplots:\n",
        "- x vs x\n",
        "- sigmoid of x\n",
        "- gradient of sigmoid\n",
        "\n",
        "Notice how the y axis keeps compressing from the left plot to the right plot. The interval range has shrunk from 10 to 1 to 0.25. How did this happen? As |x| gets larger the sigmoid approaches asymptotes at 0 and 1, and the sigmoid gradient shrinks towards 0.\n",
        "* Try changing the range of values in the code block above to see how it impacts the plots."
      ]
    },
    {
      "cell_type": "code",
      "metadata": {
        "id": "oudvOdFIo6Wt",
        "colab_type": "code",
        "colab": {
          "base_uri": "https://localhost:8080/",
          "height": 295
        },
        "outputId": "2bf42c72-1c8c-4ae2-db41-9fd6a13c59d9"
      },
      "source": [
        "# Sub plots\n",
        "fig, axs = plt.subplots(1, 3, figsize=(15, 4), sharex=True)\n",
        "\n",
        "# X values\n",
        "axs[0].plot(x, x)\n",
        "axs[0].set_title(\"x values\")\n",
        "axs[0].set_ylabel(\"y=x\")\n",
        "axs[0].set_xlabel(\"x input data\")\n",
        "\n",
        "# Sigmoid\n",
        "axs[1].plot(x, activations)\n",
        "axs[1].set_title(\"sigmoid\")\n",
        "axs[1].set_ylabel(\"sigmoid\")\n",
        "axs[1].set_xlabel(\"x input data\")\n",
        "\n",
        "# Sigmoid gradient\n",
        "axs[2].plot(x, gradients)\n",
        "axs[2].set_title(\"sigmoid gradient\")\n",
        "axs[2].set_ylabel(\"gradient\")\n",
        "axs[2].set_xlabel(\"x input data\")\n",
        "\n",
        "fig.show()"
      ],
      "execution_count": 3,
      "outputs": [
        {
          "output_type": "display_data",
          "data": {
            "image/png": "[encoded data removed]",
            "text/plain": [
              "<Figure size 1080x288 with 3 Axes>"
            ]
          },
          "metadata": {
            "tags": [],
            "needs_background": "light"
          }
        }
      ]
    },
    {
      "cell_type": "markdown",
      "metadata": {
        "id": "dQts-gF1pWRR",
        "colab_type": "text"
      },
      "source": [
        "### Single Plot"
      ]
    },
    {
      "cell_type": "markdown",
      "metadata": {
        "id": "3otd49bFpYtA",
        "colab_type": "text"
      },
      "source": [
        "Putting all 3 series on a single plot can help visualize the compression. Notice how hard it is to interpret because sigmoid and sigmoid gradient are so small compared to the scale of the input data x.\n",
        "* Trying changing the plot ylim to zoom in."
      ]
    },
    {
      "cell_type": "code",
      "metadata": {
        "id": "nzZ8_mV1pa35",
        "colab_type": "code",
        "colab": {
          "base_uri": "https://localhost:8080/",
          "height": 455
        },
        "outputId": "bde6ad6a-f0b1-4bff-8b10-3313d5cd0db8"
      },
      "source": [
        "# Single plot\n",
        "plt.plot(x, x, label=\"data\")\n",
        "plt.plot(x, activations, label=\"sigmoid\")\n",
        "plt.plot(x, gradients, label=\"sigmoid gradient\")\n",
        "plt.legend(loc=\"upper left\")\n",
        "plt.title(\"Visualizing Compression\")\n",
        "plt.xlabel(\"x input data\")\n",
        "plt.ylabel(\"range\")\n",
        "\n",
        "### START CODE HERE ###\n",
        "# plt.ylim(-.5, 1.5)    # try shrinking the y axis limit for better visualization. eg: uncomment this line\n",
        "### END CODE HERE ###\n",
        "plt.show()\n",
        "\n",
        "# Max, Min of each array\n",
        "print(\"\")\n",
        "print(\"Max of x data :\", np.max(x))\n",
        "print(\"Min of x data :\", np.min(x), \"\\n\")\n",
        "print(\"Max of sigmoid :\", \"{:.3f}\".format(np.max(activations)))\n",
        "print(\"Min of sigmoid :\", \"{:.3f}\".format(np.min(activations)), \"\\n\")\n",
        "print(\"Max of gradients :\", \"{:.3f}\".format(np.max(gradients)))\n",
        "print(\"Min of gradients :\", \"{:.3f}\".format(np.min(gradients)))"
      ],
      "execution_count": 6,
      "outputs": [
        {
          "output_type": "display_data",
          "data": {
            "image/png": "[encoded data removed]",
            "text/plain": [
              "<Figure size 432x288 with 1 Axes>"
            ]
          },
          "metadata": {
            "tags": [],
            "needs_background": "light"
          }
        },
        {
          "output_type": "stream",
          "text": [
            "\n",
            "Max of x data : 5.0\n",
            "Min of x data : -5.0 \n",
            "\n",
            "Max of sigmoid : 0.993\n",
            "Min of sigmoid : 0.007 \n",
            "\n",
            "Max of gradients : 0.248\n",
            "Min of gradients : -30.000\n"
          ],
          "name": "stdout"
        }
      ]
    },
    {
      "cell_type": "markdown",
      "metadata": {
        "id": "IZ3sHI65pr8i",
        "colab_type": "text"
      },
      "source": [
        "## Numerical Impact"
      ]
    },
    {
      "cell_type": "markdown",
      "metadata": {
        "id": "iT7I2aispqyN",
        "colab_type": "text"
      },
      "source": [
        "###  Multiplication & Decay"
      ]
    },
    {
      "cell_type": "markdown",
      "metadata": {
        "id": "8CLD4jBBp8T4",
        "colab_type": "text"
      },
      "source": [
        "Multiplying numbers smaller than 1 results in smaller and smaller numbers. Below is an example that finds the gradient for an input x = 0 and multiplies it over n steps. Look how quickly it 'Vanishes' to almost zero. Yet sigmoid(x=0)=0.5 which has a sigmoid gradient of 0.25 and that happens to be the largest sigmoid gradient possible!\n",
        "<br/><br/>\n",
        "(Note: This is NOT an implementation of back propagation.)\n",
        "* Try changing the number of steps n.\n",
        "* Try changing the input value x. Consider the impact on sigmoid and sigmoid gradient."
      ]
    },
    {
      "cell_type": "code",
      "metadata": {
        "id": "9D5_Io-PqA3w",
        "colab_type": "code",
        "colab": {
          "base_uri": "https://localhost:8080/",
          "height": 544
        },
        "outputId": "c95d2be7-46ad-43e4-8182-bc27fe4eaa8a"
      },
      "source": [
        "# Simulate decay\n",
        "# Inputs\n",
        "### START CODE HERE ###\n",
        "n = 6  # number of steps : try changing this\n",
        "x = 0  # value for input x : try changing this\n",
        "### END CODE HERE ###\n",
        "\n",
        "grad = sigmoid_gradient(sigmoid(x))\n",
        "steps = np.arange(1, n + 1)\n",
        "print(\"-- Inputs --\")\n",
        "print(\"steps :\", n)\n",
        "print(\"x value :\", x)\n",
        "print(\"sigmoid :\", \"{:.5f}\".format(sigmoid(x)))\n",
        "print(\"gradient :\", \"{:.5f}\".format(grad), \"\\n\")\n",
        "\n",
        "# Loop to calculate cumulative total\n",
        "print(\"-- Loop --\")\n",
        "vals = []\n",
        "total_grad = 1   # initialize to 1 to satisfy first loop below\n",
        "for s in steps:\n",
        "  total_grad = total_grad * grad\n",
        "  vals.append(total_grad)\n",
        "  print(\"step\", s, \":\", total_grad)\n",
        "print(\"\")\n",
        "\n",
        "# Plot\n",
        "plt.plot(steps, vals)\n",
        "plt.xticks(steps)\n",
        "plt.title(\"Multiplying Small Numbers\")\n",
        "plt.xlabel(\"Steps\")\n",
        "plt.ylabel(\"Cumulative Gradient\")\n",
        "plt.show()"
      ],
      "execution_count": 7,
      "outputs": [
        {
          "output_type": "stream",
          "text": [
            "-- Inputs --\n",
            "steps : 6\n",
            "x value : 0\n",
            "sigmoid : 0.50000\n",
            "gradient : 0.25000 \n",
            "\n",
            "-- Loop --\n",
            "step 1 : 0.25\n",
            "step 2 : 0.0625\n",
            "step 3 : 0.015625\n",
            "step 4 : 0.00390625\n",
            "step 5 : 0.0009765625\n",
            "step 6 : 0.000244140625\n",
            "\n"
          ],
          "name": "stdout"
        },
        {
          "output_type": "display_data",
          "data": {
            "image/png": "[encoded data removed]",
            "text/plain": [
              "<Figure size 432x288 with 1 Axes>"
            ]
          },
          "metadata": {
            "tags": [],
            "needs_background": "light"
          }
        }
      ]
    },
    {
      "cell_type": "markdown",
      "metadata": {
        "id": "ZDLgmMhbq0i0",
        "colab_type": "text"
      },
      "source": [
        "## Solution"
      ]
    },
    {
      "cell_type": "markdown",
      "metadata": {
        "id": "MWknK6TRq2w2",
        "colab_type": "text"
      },
      "source": [
        "One solution is to use activation functions that don't have tiny gradients. Other solutions involve more sophisticated model design. But they're both discussions for another time."
      ]
    }
  ]
}