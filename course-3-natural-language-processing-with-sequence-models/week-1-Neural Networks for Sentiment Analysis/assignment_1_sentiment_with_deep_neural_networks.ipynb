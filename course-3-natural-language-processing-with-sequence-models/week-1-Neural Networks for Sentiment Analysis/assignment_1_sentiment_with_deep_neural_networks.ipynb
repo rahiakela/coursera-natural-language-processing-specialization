{
  "nbformat": 4,
  "nbformat_minor": 0,
  "metadata": {
    "colab": {
      "name": "assignment-1--sentiment-with-deep-neural-networks.ipynb",
      "provenance": [],
      "toc_visible": true,
      "authorship_tag": "ABX9TyPyeIS/eXDVr/RrUmiuxlIW",
      "include_colab_link": true
    },
    "kernelspec": {
      "name": "python3",
      "display_name": "Python 3"
    },
    "accelerator": "GPU"
  },
  "cells": [
    {
      "cell_type": "markdown",
      "metadata": {
        "id": "view-in-github",
        "colab_type": "text"
      },
      "source": [
        "<a href=\"https://colab.research.google.com/github/rahiakela/coursera-natural-language-processing-specialization/blob/master/course-3-natural-language-processing-with-sequence-models/week-1-Neural%20Networks%20for%20Sentiment%20Analysis/assignment_1_sentiment_with_deep_neural_networks.ipynb\" target=\"_parent\"><img src=\"https://colab.research.google.com/assets/colab-badge.svg\" alt=\"Open In Colab\"/></a>"
      ]
    },
    {
      "cell_type": "markdown",
      "metadata": {
        "id": "3_vH09LR9MuT"
      },
      "source": [
        "## Assignment 1:  Sentiment with Deep Neural Networks"
      ]
    },
    {
      "cell_type": "markdown",
      "metadata": {
        "id": "bpHb5c7d9b1e"
      },
      "source": [
        "Welcome to the first assignment of course 3. In this assignment, you will explore sentiment analysis using deep neural networks. \n",
        "\n",
        "In course 1, you implemented Logistic regression and Naive Bayes for sentiment analysis. However if you were to give your old models an example like:\n",
        "\n",
        "<center> <span style='color:blue'> <b>This movie was almost good.</b> </span> </center>\n",
        "\n",
        "Your model would have predicted a positive sentiment for that review. However, that sentence has a negative sentiment and indicates that the movie was not good. To solve those kinds of misclassifications, you will write a program that uses deep neural networks to identify sentiment in text. By completing this assignment, you will: \n",
        "\n",
        "- Understand how you can build/design a model using layers\n",
        "- Train a model using a training loop\n",
        "- Use a binary cross-entropy loss function\n",
        "- Compute the accuracy of your model\n",
        "- Predict using your own input\n",
        "\n",
        "As you can tell, this model follows a similar structure to the one you previously implemented in the second course of this specialization. \n",
        "- Indeed most of the deep nets you will be implementing will have a similar structure. The only thing that changes is the model architecture, the inputs, and the outputs. \n",
        "\n",
        "Before starting the assignment, we will introduce you to the Google library `trax` that we use for building and training models.\n",
        "\n",
        "\n",
        "Now we will show you how to compute the gradient of a certain function `f` by just using `  .grad(f)`. \n",
        "\n",
        "- Trax source code can be found on Github: [Trax](https://github.com/google/trax)\n",
        "- The Trax code also uses the JAX library: [JAX](https://jax.readthedocs.io/en/latest/index.html)"
      ]
    },
    {
      "cell_type": "markdown",
      "metadata": {
        "id": "eKWyOC579cdt"
      },
      "source": [
        "## Outline"
      ]
    },
    {
      "cell_type": "markdown",
      "metadata": {
        "id": "Twu72zu_9P3X"
      },
      "source": [
        "- [Part 1:  Setup and try out Trax](#1)\n",
        "- [Part 2:  Importing the data](#2)\n",
        "    - [2.1  Loading in the data](#2.1)\n",
        "    - [2.2  Building the vocabulary](#2.2)\n",
        "    - [2.3  Converting a tweet to a tensor](#2.3)\n",
        "        - [Exercise 01](#ex01)\n",
        "    - [2.4  Creating a batch generator](#2.4)\n",
        "        - [Exercise 02](#ex02)\n",
        "- [Part 3:  Defining classes](#3)\n",
        "    - [3.1  ReLU class](#3.1)\n",
        "        - [Exercise 03](#ex03)\n",
        "    - [3.2  Dense class ](#3.2)\n",
        "        - [Exercise 04](#ex04)\n",
        "    - [3.3  Model](#3.3)\n",
        "        - [Exercise 05](#ex05)\n",
        "- [Part 4:  Training](#4)\n",
        "    - [4.1  Training the model](#4.1)\n",
        "        - [Exercise 06](#ex06)\n",
        "    - [4.2  Practice Making a prediction](#4.2)\n",
        "- [Part 5:  Evaluation  ](#5)\n",
        "    - [5.1  Computing the accuracy on a batch](#5.1)\n",
        "        - [Exercise 07](#ex07)\n",
        "    - [5.2  Testing your model on Validation Data](#5.2)\n",
        "        - [Exercise 08](#ex08)\n",
        "- [Part 6:  Testing with your own input](#6)"
      ]
    },
    {
      "cell_type": "markdown",
      "metadata": {
        "id": "Nr6a4RP0BJb-"
      },
      "source": [
        "<a name=\"1\"></a>\n",
        "## Part 1:  Setup and try out Trax"
      ]
    },
    {
      "cell_type": "markdown",
      "metadata": {
        "id": "oHl-NseVBO5m"
      },
      "source": [
        "- Let's import libraries and look at an example of using the Trax library."
      ]
    },
    {
      "cell_type": "code",
      "metadata": {
        "id": "npgFVNf1B9lH"
      },
      "source": [
        "!pip install trax==1.3.9 # Use this version for this notebook"
      ],
      "execution_count": null,
      "outputs": []
    },
    {
      "cell_type": "code",
      "metadata": {
        "id": "8kctPe6Xyf6b"
      },
      "source": [
        "!wget https://raw.githubusercontent.com/rahiakela/coursera-natural-language-processing-specialization/master/course-3-natural-language-processing-with-sequence-models/week-1-Neural%20Networks%20for%20Sentiment%20Analysis/utils.py"
      ],
      "execution_count": null,
      "outputs": []
    },
    {
      "cell_type": "code",
      "metadata": {
        "id": "t3VoYV5XBrVp",
        "colab": {
          "base_uri": "https://localhost:8080/"
        },
        "outputId": "6409c477-988c-40e2-ac91-3c83ae3cf6e3"
      },
      "source": [
        "import os \n",
        "import random as rnd\n",
        "\n",
        "# import relevant libraries\n",
        "import trax\n",
        "\n",
        "# set random seeds to make this notebook easier to replicate\n",
        "#trax.supervised.trainer_lib.init_random_number_generators(31)\n",
        "\n",
        "# import trax.fastmath.numpy\n",
        "import trax.fastmath.numpy as np\n",
        "\n",
        "# import trax.layers\n",
        "from trax import layers as trax_layer\n",
        "\n",
        "# import Layer from the utils.py file\n",
        "from utils import Layer, load_tweets, process_tweet"
      ],
      "execution_count": 4,
      "outputs": [
        {
          "output_type": "stream",
          "text": [
            "[nltk_data] Downloading package twitter_samples to /root/nltk_data...\n",
            "[nltk_data]   Unzipping corpora/twitter_samples.zip.\n",
            "[nltk_data] Downloading package stopwords to /root/nltk_data...\n",
            "[nltk_data]   Unzipping corpora/stopwords.zip.\n"
          ],
          "name": "stdout"
        }
      ]
    },
    {
      "cell_type": "code",
      "metadata": {
        "id": "9f_tduHYBr54",
        "colab": {
          "base_uri": "https://localhost:8080/",
          "height": 52
        },
        "outputId": "6fe2ff76-db41-431b-cff8-01eddd2f718d"
      },
      "source": [
        "# Create an array using trax.fastmath.numpy\n",
        "a = np.array(5.0)\n",
        "\n",
        "# View the returned array\n",
        "display(a)\n",
        "print(type(a))"
      ],
      "execution_count": 5,
      "outputs": [
        {
          "output_type": "display_data",
          "data": {
            "text/plain": [
              "DeviceArray(5., dtype=float32)"
            ]
          },
          "metadata": {
            "tags": []
          }
        },
        {
          "output_type": "stream",
          "text": [
            "<class 'jaxlib.xla_extension.DeviceArray'>\n"
          ],
          "name": "stdout"
        }
      ]
    },
    {
      "cell_type": "markdown",
      "metadata": {
        "id": "x5poF1h2DR72"
      },
      "source": [
        "Notice that trax.fastmath.numpy returns a DeviceArray from the jax library."
      ]
    },
    {
      "cell_type": "code",
      "metadata": {
        "id": "87TF5PA_DN3u"
      },
      "source": [
        "# Define a function that will use the trax.fastmath.numpy array\n",
        "def f(x):\n",
        "  # f = x^2\n",
        "  return (x ** 2)"
      ],
      "execution_count": 6,
      "outputs": []
    },
    {
      "cell_type": "code",
      "metadata": {
        "id": "XVic-QVhDbad",
        "colab": {
          "base_uri": "https://localhost:8080/"
        },
        "outputId": "b6d57c88-e8be-413e-c2e7-4d466a94c68d"
      },
      "source": [
        "# Call the function\n",
        "print(f\"f(a) for a={a} is {f(a)}\")"
      ],
      "execution_count": 7,
      "outputs": [
        {
          "output_type": "stream",
          "text": [
            "f(a) for a=5.0 is 25.0\n"
          ],
          "name": "stdout"
        }
      ]
    },
    {
      "cell_type": "markdown",
      "metadata": {
        "id": "YJGxUj1LDo6F"
      },
      "source": [
        "The gradient (derivative) of function `f` with respect to its input `x` is the derivative of $x^2$.\n",
        "- The derivative of $x^2$ is $2x$.  \n",
        "- When x is 5, then $2x=10$.\n",
        "\n",
        "You can calculate the gradient of a function by using `trax.fastmath.grad(fun=)` and passing in the name of the function.\n",
        "- In this case the function you want to take the gradient of is `f`.\n",
        "- The object returned (saved in `grad_f` in this example) is a function that can calculate the gradient of f for a given trax.fastmath.numpy array."
      ]
    },
    {
      "cell_type": "code",
      "metadata": {
        "id": "iGYawWxUDk4N",
        "colab": {
          "base_uri": "https://localhost:8080/"
        },
        "outputId": "c316d17e-09c2-407e-b8e3-65917f31ad39"
      },
      "source": [
        "# Directly use trax.fastmath.grad to calculate the gradient (derivative) of the function\n",
        "grad_f = trax.fastmath.grad(fun=f)  # df / dx - Gradient of function f(x) with respect to x\n",
        "\n",
        "# View the type of the retuned object (it's a function)\n",
        "type(grad_f)"
      ],
      "execution_count": 8,
      "outputs": [
        {
          "output_type": "execute_result",
          "data": {
            "text/plain": [
              "function"
            ]
          },
          "metadata": {
            "tags": []
          },
          "execution_count": 8
        }
      ]
    },
    {
      "cell_type": "code",
      "metadata": {
        "id": "jvSDMl7FEbNc",
        "colab": {
          "base_uri": "https://localhost:8080/",
          "height": 35
        },
        "outputId": "40d3af9a-2a52-45d4-bfc0-30b6f9ca6b02"
      },
      "source": [
        "# Call the newly created function and pass in a value for x (the DeviceArray stored in 'a')\n",
        "grad_calculation = grad_f(a)\n",
        "\n",
        "# View the result of calling the grad_f function\n",
        "display(grad_calculation)"
      ],
      "execution_count": 9,
      "outputs": [
        {
          "output_type": "display_data",
          "data": {
            "text/plain": [
              "DeviceArray(10., dtype=float32)"
            ]
          },
          "metadata": {
            "tags": []
          }
        }
      ]
    },
    {
      "cell_type": "markdown",
      "metadata": {
        "id": "Zf0_8MfeEsHK"
      },
      "source": [
        "The function returned by trax.fastmath.grad takes in x=5 and calculates the gradient of f, which is 2*x, which is 10. The value is also stored as a DeviceArray from the jax library."
      ]
    },
    {
      "cell_type": "markdown",
      "metadata": {
        "id": "zojg57AgEsl7"
      },
      "source": [
        "<a name=\"2\"></a>\n",
        "## Part 2:  Importing the data"
      ]
    },
    {
      "cell_type": "markdown",
      "metadata": {
        "id": "f42aWu0xEzit"
      },
      "source": [
        "<a name=\"2.1\"></a>\n",
        "### 2.1  Loading in the data"
      ]
    },
    {
      "cell_type": "markdown",
      "metadata": {
        "id": "K3YXF8vcE31s"
      },
      "source": [
        "Import the data set.  \n",
        "- You may recognize this from earlier assignments in the specialization.\n",
        "- Details of process_tweet function are available in utils.py file"
      ]
    },
    {
      "cell_type": "code",
      "metadata": {
        "id": "8GSSqK2JEpUL",
        "colab": {
          "base_uri": "https://localhost:8080/"
        },
        "outputId": "cce5ca9f-f251-40fc-9c2b-3d89f5554719"
      },
      "source": [
        "## DO NOT EDIT THIS CELL\n",
        "\n",
        "# Import functions from the utils.py file\n",
        "import numpy as np\n",
        "\n",
        "# Load positive and negative tweets\n",
        "all_positive_tweets, all_negative_tweets = load_tweets()\n",
        "\n",
        "# View the total number of positive and negative tweets.\n",
        "print(f\"The number of positive tweets: {len(all_positive_tweets)}\")\n",
        "print(f\"The number of negative tweets: {len(all_negative_tweets)}\")\n",
        "\n",
        "# Split positive set into validation and training\n",
        "val_pos   = all_positive_tweets[4000:] # generating validation set for positive tweets\n",
        "train_pos  = all_positive_tweets[:4000]# generating training set for positive tweets\n",
        "\n",
        "# Split negative set into validation and training\n",
        "val_neg   = all_negative_tweets[4000:] # generating validation set for negative tweets\n",
        "train_neg  = all_negative_tweets[:4000] # generating training set for nagative tweets\n",
        "\n",
        "# Combine training data into one set\n",
        "train_x = train_pos + train_neg \n",
        "\n",
        "# Combine validation data into one set\n",
        "val_x  = val_pos + val_neg\n",
        "\n",
        "# Set the labels for the training set (1 for positive, 0 for negative)\n",
        "train_y = np.append(np.ones(len(train_pos)), np.zeros(len(train_neg)))\n",
        "\n",
        "# Set the labels for the validation set (1 for positive, 0 for negative)\n",
        "val_y  = np.append(np.ones(len(val_pos)), np.zeros(len(val_neg)))\n",
        "\n",
        "print(f\"length of train_x {len(train_x)}\")\n",
        "print(f\"length of val_x {len(val_x)}\")"
      ],
      "execution_count": 10,
      "outputs": [
        {
          "output_type": "stream",
          "text": [
            "The number of positive tweets: 5000\n",
            "The number of negative tweets: 5000\n",
            "length of train_x 8000\n",
            "length of val_x 2000\n"
          ],
          "name": "stdout"
        }
      ]
    },
    {
      "cell_type": "markdown",
      "metadata": {
        "id": "VNm-g018Ixl7"
      },
      "source": [
        "Now import a function that processes tweets (we've provided this in the utils.py file).\n",
        "- `process_tweets' removes unwanted characters e.g. hashtag, hyperlinks, stock tickers from tweet.\n",
        "- It also returns a list of words (it tokenizes the original string)."
      ]
    },
    {
      "cell_type": "code",
      "metadata": {
        "id": "97OXe93hIsQp",
        "colab": {
          "base_uri": "https://localhost:8080/"
        },
        "outputId": "936beed0-c9e3-4dcd-95e0-b5e093a14d82"
      },
      "source": [
        "# Import a function that processes the tweets\n",
        "# from utils import process_tweet\n",
        "\n",
        "# Try out function that processes tweets\n",
        "print(\"original tweet at training position 0:\")\n",
        "print(train_pos[0])\n",
        "\n",
        "print(\"Tweet at training position 0 after processing:\")\n",
        "process_tweet(train_pos[0])"
      ],
      "execution_count": 11,
      "outputs": [
        {
          "output_type": "stream",
          "text": [
            "original tweet at training position 0:\n",
            "#FollowFriday @France_Inte @PKuchly57 @Milipol_Paris for being top engaged members in my community this week :)\n",
            "Tweet at training position 0 after processing:\n"
          ],
          "name": "stdout"
        },
        {
          "output_type": "execute_result",
          "data": {
            "text/plain": [
              "['followfriday', 'top', 'engag', 'member', 'commun', 'week', ':)']"
            ]
          },
          "metadata": {
            "tags": []
          },
          "execution_count": 11
        }
      ]
    },
    {
      "cell_type": "markdown",
      "metadata": {
        "id": "A7ivU1vSJnTh"
      },
      "source": [
        "Notice that the function `process_tweet` keeps key words, removes the hash # symbol, and ignores usernames (words that begin with '@').  It also returns a list of the words."
      ]
    },
    {
      "cell_type": "markdown",
      "metadata": {
        "id": "l3zWDhUgJn3g"
      },
      "source": [
        "<a name=\"2.2\"></a>\n",
        "### 2.2  Building the vocabulary"
      ]
    },
    {
      "cell_type": "markdown",
      "metadata": {
        "id": "RfKueHhFJq57"
      },
      "source": [
        "Now build the vocabulary.\n",
        "- Map each word in each tweet to an integer (an \"index\"). \n",
        "- The following code does this for you, but please read it and understand what it's doing.\n",
        "- Note that you will build the vocabulary based on the training data. \n",
        "- To do so, you will assign an index to every word by iterating over your training set.\n",
        "\n",
        "The vocabulary will also include some special tokens\n",
        "- `__PAD__`: padding\n",
        "- `</e>`: end of line\n",
        "- `__UNK__`: a token representing any word that is not in the vocabulary."
      ]
    },
    {
      "cell_type": "code",
      "metadata": {
        "id": "7ypKWajYJepz"
      },
      "source": [
        "# Build the vocabulary\n",
        "# Unit Test Note - There is no test set here only train/val\n",
        "\n",
        "# Include special tokens \n",
        "# started with pad, end of line and unk tokens\n",
        "vocab = {'__PAD__': 0, '__</e>__': 1, '__UNK__': 2} \n",
        "\n",
        "# Note that we build vocab using training data\n",
        "for tweet in train_x:\n",
        "  processed_tweet = process_tweet(tweet)\n",
        "  for word in processed_tweet:\n",
        "    if word not in vocab:\n",
        "      vocab[word] = len(vocab)\n",
        "\n",
        "print(\"Total words in vocab are \", len(vocab))\n",
        "display(vocab)"
      ],
      "execution_count": null,
      "outputs": []
    },
    {
      "cell_type": "markdown",
      "metadata": {
        "id": "xx0xVBBHLgCP"
      },
      "source": [
        "The dictionary `vocab` will look like this:\n",
        "```CPP\n",
        "{'__PAD__': 0,\n",
        " '__</e>__': 1,\n",
        " '__UNK__': 2,\n",
        " 'followfriday': 3,\n",
        " 'top': 4,\n",
        " 'engag': 5,\n",
        " ...\n",
        "```\n",
        "\n",
        "- Each unique word has a unique integer associated with it.\n",
        "- The total number of words in vocab: 9088"
      ]
    },
    {
      "cell_type": "markdown",
      "metadata": {
        "id": "GwBlgE8BLima"
      },
      "source": [
        "<a name=\"2.3\"></a>\n",
        "### 2.3  Converting a tweet to a tensor"
      ]
    },
    {
      "cell_type": "markdown",
      "metadata": {
        "id": "hlL4MzXpLpMV"
      },
      "source": [
        "Write a function that will convert each tweet to a tensor (a list of unique integer IDs representing the processed tweet).\n",
        "- Note, the returned data type will be a **regular Python `list()`**\n",
        "    - You won't use TensorFlow in this function\n",
        "    - You also won't use a numpy array\n",
        "    - You also won't use trax.fastmath.numpy array\n",
        "- For words in the tweet that are not in the vocabulary, set them to the unique ID for the token `__UNK__`.\n",
        "\n",
        "**Example**\n",
        "\n",
        "Input a tweet:\n",
        "```CPP\n",
        "'@happypuppy, is Maria happy?'\n",
        "```\n",
        "\n",
        "The tweet_to_tensor will first conver the tweet into a list of tokens (including only relevant words)\n",
        "```CPP\n",
        "['maria', 'happi']\n",
        "```\n",
        "\n",
        "Then it will convert each word into its unique integer\n",
        "\n",
        "```CPP\n",
        "[2, 56]\n",
        "```\n",
        "- Notice that the word \"maria\" is not in the vocabulary, so it is assigned the unique integer associated with the `__UNK__` token, because it is considered \"unknown.\""
      ]
    },
    {
      "cell_type": "markdown",
      "metadata": {
        "id": "CBjQhaV_mWr1"
      },
      "source": [
        "<a name=\"ex01\"></a>\n",
        "#### Exercise 01"
      ]
    },
    {
      "cell_type": "markdown",
      "metadata": {
        "id": "EH1QOUwRmYXz"
      },
      "source": [
        "**Instructions:** Write a program `tweet_to_tensor` that takes in a tweet and converts it to an array of numbers. You can use the `vocab` dictionary you just found to help create the tensor. \n",
        "\n",
        "- Use the vocab_dict parameter and not a global variable.\n",
        "- Do not hard code the integer value for the `__UNK__` token."
      ]
    },
    {
      "cell_type": "markdown",
      "metadata": {
        "id": "VC4ssgwsma_E"
      },
      "source": [
        "<details>    \n",
        "<summary>\n",
        "    <font size=\"3\" color=\"darkgreen\"><b>Hints</b></font>\n",
        "</summary>\n",
        "<p>\n",
        "<ul>\n",
        "    <li>Map each word in tweet to corresponding token in 'vocab'</li>\n",
        "    <li>Use Python's Dictionary.get(key,value) so that the function returns a default value if the key is not found in the dictionary.</li>\n",
        "</ul>\n",
        "</p>\n"
      ]
    },
    {
      "cell_type": "code",
      "metadata": {
        "id": "FwEmYwepLMBf"
      },
      "source": [
        "# UNQ_C1 (UNIQUE CELL IDENTIFIER, DO NOT EDIT)\n",
        "# GRADED FUNCTION: tweet_to_tensor\n",
        "def tweet_to_tensor(tweet, vocab_dict, unk_token='__UNK__', verbose=False):\n",
        "  \"\"\"\n",
        "  Input: \n",
        "      tweet - A string containing a tweet\n",
        "      vocab_dict - The words dictionary\n",
        "      unk_token - The special string for unknown tokens\n",
        "      verbose - Print info durign runtime\n",
        "  Output:\n",
        "      tensor_l - A python list with\n",
        "  \"\"\"\n",
        "\n",
        "  ### START CODE HERE (Replace instances of 'None' with your code) ###\n",
        "\n",
        "  # Process the tweet into a list of words\n",
        "  # where only important words are kept (stop words removed)\n",
        "  word_l = process_tweet(tweet)\n",
        "\n",
        "  if verbose:\n",
        "    print(\"List of words from the processed tweet:\")\n",
        "    print(word_l)\n",
        "\n",
        "  # Initialize the list that will contain the unique integer IDs of each word\n",
        "  tensor_l = []\n",
        "\n",
        "  # Get the unique integer ID of the __UNK__ token\n",
        "  unk_ID = vocab_dict[unk_token]\n",
        "\n",
        "  if verbose:\n",
        "    print(f\"The unique integer ID for the unk_token is {unk_ID}\")\n",
        "\n",
        "  # for each word in the list:\n",
        "  for word in word_l:\n",
        "    # Get the unique integer ID.\n",
        "    # If the word doesn't exist in the vocab dictionary, use the unique ID for __UNK__ instead.\n",
        "    word_ID = vocab_dict[word] if word in vocab_dict else unk_ID\n",
        "\n",
        "  ### END CODE HERE ###\n",
        "    \n",
        "    # Append the unique integer ID to the tensor list.\n",
        "    tensor_l.append(word_ID)\n",
        "\n",
        "  return tensor_l"
      ],
      "execution_count": 15,
      "outputs": []
    },
    {
      "cell_type": "code",
      "metadata": {
        "id": "2NPmtFa52woU",
        "colab": {
          "base_uri": "https://localhost:8080/"
        },
        "outputId": "c931d5a3-b448-4a27-a62b-d2268173ffc5"
      },
      "source": [
        "print(\"Actual tweet is\\n\", val_pos[0])\n",
        "print(\"\\nTensor of tweet:\\n\", tweet_to_tensor(val_pos[0], vocab_dict=vocab))"
      ],
      "execution_count": 16,
      "outputs": [
        {
          "output_type": "stream",
          "text": [
            "Actual tweet is\n",
            " Bro:U wan cut hair anot,ur hair long Liao bo\n",
            "Me:since ord liao,take it easy lor treat as save $ leave it longer :)\n",
            "Bro:LOL Sibei xialan\n",
            "\n",
            "Tensor of tweet:\n",
            " [1065, 136, 479, 2351, 745, 8146, 1123, 745, 53, 2, 2672, 791, 2, 2, 349, 601, 2, 3489, 1017, 597, 4559, 9, 1065, 157, 2, 2]\n"
          ],
          "name": "stdout"
        }
      ]
    },
    {
      "cell_type": "markdown",
      "metadata": {
        "id": "cLR1bkt63DcP"
      },
      "source": [
        "##### Expected output\n",
        "\n",
        "```CPP\n",
        "Actual tweet is\n",
        " Bro:U wan cut hair anot,ur hair long Liao bo\n",
        "Me:since ord liao,take it easy lor treat as save $ leave it longer :)\n",
        "Bro:LOL Sibei xialan\n",
        "\n",
        "Tensor of tweet:\n",
        " [1065, 136, 479, 2351, 745, 8148, 1123, 745, 53, 2, 2672, 791, 2, 2, 349, 601, 2, 3489, 1017, 597, 4559, 9, 1065, 157, 2, 2]\n",
        "```"
      ]
    },
    {
      "cell_type": "code",
      "metadata": {
        "id": "VM56eAsM3qf5"
      },
      "source": [
        "# test tweet_to_tensor\n",
        "def test_tweet_to_tensor():\n",
        "  test_cases = [\n",
        "      {\n",
        "          \"name\":\"simple_test_check\",\n",
        "          \"input\": [val_pos[1], vocab],\n",
        "          \"expected\":[444, 2, 304, 567, 56, 9],\n",
        "          \"error\":\"The function gives bad output for val_pos[1]. Test failed\"\n",
        "      },\n",
        "      {\n",
        "          \"name\":\"datatype_check\",\n",
        "          \"input\":[val_pos[1], vocab],\n",
        "          \"expected\":type([]),\n",
        "          \"error\":\"Datatype mismatch. Need only list not np.array\"\n",
        "      },\n",
        "      {\n",
        "          \"name\":\"without_unk_check\",\n",
        "          \"input\":[val_pos[1], vocab],\n",
        "          \"expected\":6,\n",
        "          \"error\":\"Unk word check not done- Please check if you included mapping for unknown word\"\n",
        "      }          \n",
        "  ]\n",
        "\n",
        "  count = 0\n",
        "  for test_case in test_cases:\n",
        "    try:\n",
        "      if test_case['name'] == \"simple_test_check\":\n",
        "          assert test_case[\"expected\"] == tweet_to_tensor(*test_case['input'])\n",
        "          count += 1\n",
        "      if test_case['name'] == \"datatype_check\":\n",
        "          assert isinstance(tweet_to_tensor(*test_case['input']), test_case[\"expected\"])\n",
        "          count += 1\n",
        "      if test_case['name'] == \"without_unk_check\":\n",
        "          assert None not in tweet_to_tensor(*test_case['input'])\n",
        "          count += 1\n",
        "    except:\n",
        "      print(test_case['error'])\n",
        "\n",
        "  if count == 3:\n",
        "    print(\"\\033[92m All tests passed\")\n",
        "  else:\n",
        "    print(count, \" Tests passed out of 3\")"
      ],
      "execution_count": 17,
      "outputs": []
    },
    {
      "cell_type": "code",
      "metadata": {
        "id": "k7uJbH6N4pVd",
        "colab": {
          "base_uri": "https://localhost:8080/"
        },
        "outputId": "80bc9cdc-5aad-4ad2-aaf4-05e0341e43b7"
      },
      "source": [
        "test_tweet_to_tensor()"
      ],
      "execution_count": 18,
      "outputs": [
        {
          "output_type": "stream",
          "text": [
            "\u001b[92m All tests passed\n"
          ],
          "name": "stdout"
        }
      ]
    },
    {
      "cell_type": "markdown",
      "metadata": {
        "id": "zMHZApYM4-PW"
      },
      "source": [
        "<a name=\"2.4\"></a>\n",
        "### 2.4  Creating a batch generator"
      ]
    },
    {
      "cell_type": "markdown",
      "metadata": {
        "id": "GQwxoyER4_6E"
      },
      "source": [
        "Most of the time in Natural Language Processing, and AI in general we use batches when training our data sets. \n",
        "- If instead of training with batches of examples, you were to train a model with one example at a time, it would take a very long time to train the model. \n",
        "- You will now build a data generator that takes in the positive/negative tweets and returns a batch of training examples. It returns the model inputs, the targets (positive or negative labels) and the weight for each target (ex: this allows us to can treat some examples as more important to get right than others, but commonly this will all be 1.0). \n",
        "\n",
        "Once you create the generator, you could include it in a for loop\n",
        "\n",
        "```CPP\n",
        "for batch_inputs, batch_targets, batch_example_weights in data_generator:\n",
        "    ...\n",
        "```\n",
        "\n",
        "You can also get a single batch like this:\n",
        "\n",
        "```CPP\n",
        "batch_inputs, batch_targets, batch_example_weights = next(data_generator)\n",
        "```\n",
        "The generator returns the next batch each time it's called. \n",
        "- This generator returns the data in a format (tensors) that you could directly use in your model.\n",
        "- It returns a triple: the inputs, targets, and loss weights:\n",
        "-- Inputs is a tensor that contains the batch of tweets we put into the model.\n",
        "-- Targets is the corresponding batch of labels that we train to generate.\n",
        "-- Loss weights here are just 1s with same shape as targets. Next week, you will use it to mask input padding."
      ]
    },
    {
      "cell_type": "markdown",
      "metadata": {
        "id": "uqGWG1_T5G-E"
      },
      "source": [
        "<a name=\"ex02\"></a>\n",
        "#### Exercise 02"
      ]
    },
    {
      "cell_type": "markdown",
      "metadata": {
        "id": "nmrGxxmG5K5G"
      },
      "source": [
        "Implement `data_generator`."
      ]
    },
    {
      "cell_type": "code",
      "metadata": {
        "id": "z_a9Jto74r1b"
      },
      "source": [
        "# UNQ_C2 (UNIQUE CELL IDENTIFIER, DO NOT EDIT)\n",
        "# GRADED: Data generator\n",
        "def data_generator(data_pos, data_neg, batch_size, loop, vocab_dict, shuffle=False):\n",
        "  \"\"\"\n",
        "  Input: \n",
        "      data_pos - Set of posstive examples\n",
        "      data_neg - Set of negative examples\n",
        "      batch_size - number of samples per batch. Must be even\n",
        "      loop - True or False\n",
        "      vocab_dict - The words dictionary\n",
        "      shuffle - Shuffle the data order\n",
        "  Yield:\n",
        "      inputs - Subset of positive and negative examples\n",
        "      targets - The corresponding labels for the subset\n",
        "      example_weights - An array specifying the importance of each example\n",
        "  \"\"\"\n",
        "\n",
        "  ### START GIVEN CODE ###\n",
        "\n",
        "  # make sure the batch size is an even number to allow an equal number of positive and negative samples\n",
        "  assert batch_size % 2 == 0\n",
        "\n",
        "  # Number of positive examples in each batch is half of the batch size, same with number of negative examples in each batch\n",
        "  n_to_take = batch_size // 2\n",
        "\n",
        "  # Use pos_index to walk through the data_pos array, same with neg_index and data_neg\n",
        "  pos_index = 0\n",
        "  neg_index = 0\n",
        "\n",
        "  len_data_pos = len(data_pos)\n",
        "  len_data_neg = len(data_neg)\n",
        "\n",
        "  # Get and array with the data indexes\n",
        "  pos_index_lines = list(range(len_data_pos))\n",
        "  neg_index_lines = list(range(len_data_neg))\n",
        "\n",
        "  # shuffle lines if shuffle is set to True\n",
        "  if shuffle:\n",
        "    rnd.shuffle(pos_index_lines)\n",
        "    rnd.shuffle(neg_index_lines)\n",
        "\n",
        "  stop = False\n",
        "\n",
        "  # Loop indefinitely\n",
        "  while not stop:\n",
        "    # create a batch with positive and negative examples\n",
        "    batch = []\n",
        "\n",
        "    # First part: Pack n_to_take positive examples\n",
        "\n",
        "    # Start from pos_index and increment i up to n_to_take\n",
        "    for i in range(n_to_take):\n",
        "      # If the positive index goes past the positive dataset lenght\n",
        "      if pos_index >= len_data_pos:\n",
        "        # If loop is set to False, break once we reach the end of the dataset\n",
        "        if not loop:\n",
        "          stop = True;\n",
        "          break;\n",
        "        # If user wants to keep re-using the data, reset the index\n",
        "        pos_index = 0\n",
        "        if shuffle:\n",
        "          # Shuffle the index of the positive sample\n",
        "          rnd.shuffle(pos_index_lines)\n",
        "        \n",
        "      # get the tweet as pos_index\n",
        "      tweet = data_pos[pos_index_lines[pos_index]]\n",
        "      # convert the tweet into tensors of integers representing the processed words\n",
        "      tensor = tweet_to_tensor(tweet, vocab_dict)\n",
        "      # append the tensor to the batch list\n",
        "      batch.append(tensor)\n",
        "      # Increment pos_index by one\n",
        "      pos_index = pos_index + 1\n",
        "  ### END GIVEN CODE ###\n",
        "\n",
        "  ### START CODE HERE (Replace instances of 'None' with your code) ###\n",
        "\n",
        "    # Second part: Pack n_to_take negative examples\n",
        "\n",
        "    # Using the same batch list, start from neg_index and increment i up to n_to_take\n",
        "    for i in range(n_to_take):\n",
        "      # If the negative index goes past the negative dataset length,\n",
        "      if neg_index >= len_data_neg:\n",
        "        # If loop is set to False, break once we reach the end of the dataset\n",
        "        if not stop:\n",
        "          stop = True;\n",
        "          break;\n",
        "        # If user wants to keep re-using the data, reset the index\n",
        "        neg_index = 0\n",
        "        if shuffle:\n",
        "          # Shuffle the index of the negative sample\n",
        "          rnd.shuffle(neg_index_lines)\n",
        "\n",
        "      # get the tweet as neg_index\n",
        "      tweet = data_neg[neg_index_lines[neg_index]]\n",
        "      # convert the tweet into tensors of integers representing the processed words\n",
        "      tensor = tweet_to_tensor(tweet, vocab_dict)\n",
        "      # append the tensor to the batch list\n",
        "      batch.append(tensor)\n",
        "      # Increment neg_index by one\n",
        "      neg_index += 1\n",
        "  ### END CODE HERE ###  \n",
        "\n",
        "  ### START GIVEN CODE ###\n",
        "    if stop:\n",
        "      break;\n",
        "\n",
        "    # Update the start index for positive data so that it's n_to_take positions after the current pos_index\n",
        "    pos_index += n_to_take\n",
        "    # Update the start index for negative data so that it's n_to_take positions after the current neg_index\n",
        "    neg_index += n_to_take\n",
        "\n",
        "    # Get the max tweet length (the length of the longest tweet) (you will pad all shorter tweets to have this length)\n",
        "    max_len = max([len(t) for t in batch])\n",
        "\n",
        "    # Initialize the input_l, which will store the padded versions of the tensors\n",
        "    tensor_pad_l = []\n",
        "    # Pad shorter tweets with zeros\n",
        "    for tensor in batch:\n",
        "  ### END GIVEN CODE ###\n",
        "  ### START CODE HERE (Replace instances of 'None' with your code) ###\n",
        "      # Get the number of positions to pad for this tensor so that it will be max_len long\n",
        "      n_pad = max_len - len(tensor)\n",
        "      # Generate a list of zeros, with length n_pad\n",
        "      pad_l = [0] * n_pad\n",
        "      # concatenate the tensor and the list of padded zeros\n",
        "      tensor_pad = tensor + pad_l\n",
        "      # append the padded tensor to the list of padded tensors\n",
        "      tensor_pad_l.append(tensor_pad)\n",
        "    \n",
        "    # convert the list of padded tensors to a numpy array and store this as the model inputs\n",
        "    inputs = np.array(tensor_pad_l)\n",
        "\n",
        "    # Generate the list of targets for the positive examples (a list of ones)\n",
        "    # The length is the number of positive examples in the batch\n",
        "    target_pos = [1] * n_to_take\n",
        "\n",
        "    # Generate the list of targets for the negative examples (a list of ones)\n",
        "    # The length is the number of negative examples in the batch\n",
        "    target_neg = [0] * n_to_take\n",
        "\n",
        "    # Concatenate the positve and negative targets\n",
        "    target_l = target_pos + target_neg\n",
        "\n",
        "    # Convert the target list into a numpy array\n",
        "    targets = np.array(target_l)\n",
        "\n",
        "    # Example weights: Treat all examples equally importantly.\n",
        "    example_weights = np.ones_like(targets)\n",
        "  ### END CODE HERE ###\n",
        "  ### GIVEN CODE ###\n",
        "    # note we use yield and not return\n",
        "    yield inputs, targets, example_weights"
      ],
      "execution_count": 19,
      "outputs": []
    },
    {
      "cell_type": "markdown",
      "metadata": {
        "id": "rJ-HNC5_DLT3"
      },
      "source": [
        "Now you can use your data generator to create a data generator for the training data, and another data generator for the validation data.\n",
        "\n",
        "We will create a third data generator that does not loop, for testing the final accuracy of the model."
      ]
    },
    {
      "cell_type": "code",
      "metadata": {
        "id": "wG9pNOkXDHmQ",
        "colab": {
          "base_uri": "https://localhost:8080/"
        },
        "outputId": "221a392d-8e37-41b2-d80b-58422255d2a7"
      },
      "source": [
        "# Set the random number generator for the shuffle procedure\n",
        "rnd.seed(30) \n",
        "\n",
        "# Create the training data generator\n",
        "def train_generator(batch_size, shuffle = False):\n",
        "    return data_generator(train_pos, train_neg, batch_size, True, vocab, shuffle)\n",
        "\n",
        "# Create the validation data generator\n",
        "def val_generator(batch_size, shuffle = False):\n",
        "    return data_generator(val_pos, val_neg, batch_size, True, vocab, shuffle)\n",
        "\n",
        "# Create the validation data generator\n",
        "def test_generator(batch_size, shuffle = False):\n",
        "    return data_generator(val_pos, val_neg, batch_size, False, vocab, shuffle)\n",
        "\n",
        "# Get a batch from the train_generator and inspect.\n",
        "inputs, targets, example_weights = next(train_generator(4, shuffle=True))\n",
        "\n",
        "# this will print a list of 4 tensors padded with zeros\n",
        "print(f'Inputs: {inputs}')\n",
        "print(f'Targets: {targets}')\n",
        "print(f'Example Weights: {example_weights}')"
      ],
      "execution_count": 20,
      "outputs": [
        {
          "output_type": "stream",
          "text": [
            "Inputs: [[2005 4451 3201    9    0    0    0    0    0    0    0]\n",
            " [4954  567 2000 1454 5174 3499  141 3499  130  459    9]\n",
            " [3761  109  136  583 2930 3969    0    0    0    0    0]\n",
            " [ 250 3761    0    0    0    0    0    0    0    0    0]]\n",
            "Targets: [1 1 0 0]\n",
            "Example Weights: [1 1 1 1]\n"
          ],
          "name": "stdout"
        }
      ]
    },
    {
      "cell_type": "code",
      "metadata": {
        "id": "8ERZcrCVDjeu",
        "colab": {
          "base_uri": "https://localhost:8080/"
        },
        "outputId": "efdeeeab-29b6-43f3-9c4d-2ffdb9d706be"
      },
      "source": [
        "# Test the train_generator\n",
        "\n",
        "# Create a data generator for training data,\n",
        "# which produces batches of size 4 (for tensors and their respective targets)\n",
        "tmp_data_gen = train_generator(batch_size = 4)\n",
        "\n",
        "# Call the data generator to get one batch and its targets\n",
        "tmp_inputs, tmp_targets, tmp_example_weights = next(tmp_data_gen)\n",
        "\n",
        "print(f\"The inputs shape is {tmp_inputs.shape}\")\n",
        "print(f\"The targets shape is {tmp_targets.shape}\")\n",
        "print(f\"The example weights shape is {tmp_example_weights.shape}\")\n",
        "\n",
        "for i,t in enumerate(tmp_inputs):\n",
        "    print(f\"input tensor: {t}; target {tmp_targets[i]}; example weights {tmp_example_weights[i]}\")"
      ],
      "execution_count": 21,
      "outputs": [
        {
          "output_type": "stream",
          "text": [
            "The inputs shape is (4, 14)\n",
            "The targets shape is (4,)\n",
            "The example weights shape is (4,)\n",
            "input tensor: [3 4 5 6 7 8 9 0 0 0 0 0 0 0]; target 1; example weights 1\n",
            "input tensor: [10 11 12 13 14 15 16 17 18 19 20  9 21 22]; target 1; example weights 1\n",
            "input tensor: [5738 2901 3761    0    0    0    0    0    0    0    0    0    0    0]; target 0; example weights 1\n",
            "input tensor: [ 858  256 3652 5739  307 4458  567 1230 2767  328 1202 3761    0    0]; target 0; example weights 1\n"
          ],
          "name": "stdout"
        }
      ]
    },
    {
      "cell_type": "markdown",
      "metadata": {
        "id": "_0y2PJLND831"
      },
      "source": [
        "##### Expected output"
      ]
    },
    {
      "cell_type": "markdown",
      "metadata": {
        "id": "9FdS7CONEC0c"
      },
      "source": [
        "```CPP\n",
        "The inputs shape is (4, 14)\n",
        "The targets shape is (4,)\n",
        "The example weights shape is (4,)\n",
        "input tensor: [3 4 5 6 7 8 9 0 0 0 0 0 0 0]; target 1; example weights 1\n",
        "input tensor: [10 11 12 13 14 15 16 17 18 19 20  9 21 22]; target 1; example weights 1\n",
        "input tensor: [5738 2901 3761    0    0    0    0    0    0    0    0    0    0    0]; target 0; example weights 1\n",
        "input tensor: [ 858  256 3652 5739  307 4458  567 1230 2767  328 1202 3761    0    0]; target 0; example weights 1\n",
        "```"
      ]
    },
    {
      "cell_type": "markdown",
      "metadata": {
        "id": "f0cOt387EFUh"
      },
      "source": [
        "Now that you have your train/val generators, you can just call them and they will return tensors which correspond to your tweets in the first column and their corresponding labels in the second column. Now you can go ahead and start building your neural network. "
      ]
    },
    {
      "cell_type": "markdown",
      "metadata": {
        "id": "mwYWCLREEIc9"
      },
      "source": [
        "<a name=\"3\"></a>\n",
        "## Part 3:  Defining classes"
      ]
    },
    {
      "cell_type": "markdown",
      "metadata": {
        "id": "CkjtX4TCELbq"
      },
      "source": [
        "In this part, you will write your own library of layers. It will be very similar\n",
        "to the one used in Trax and also in Keras and PyTorch. Writing your own small\n",
        "framework will help you understand how they all work and use them effectively\n",
        "in the future.\n",
        "\n",
        "Your framework will be based on the following `Layer` class from utils.py.\n",
        "\n",
        "```CPP\n",
        "class Layer(object):\n",
        "    \"\"\" Base class for layers.\n",
        "    \"\"\"\n",
        "      \n",
        "    # Constructor\n",
        "    def __init__(self):\n",
        "        # set weights to None\n",
        "        self.weights = None\n",
        "\n",
        "    # The forward propagation should be implemented\n",
        "    # by subclasses of this Layer class\n",
        "    def forward(self, x):\n",
        "        raise NotImplementedError\n",
        "\n",
        "    # This function initializes the weights\n",
        "    # based on the input signature and random key,\n",
        "    # should be implemented by subclasses of this Layer class\n",
        "    def init_weights_and_state(self, input_signature, random_key):\n",
        "        pass\n",
        "\n",
        "    # This initializes and returns the weights, do not override.\n",
        "    def init(self, input_signature, random_key):\n",
        "        self.init_weights_and_state(input_signature, random_key)\n",
        "        return self.weights\n",
        " \n",
        "    # __call__ allows an object of this class\n",
        "    # to be called like it's a function.\n",
        "    def __call__(self, x):\n",
        "        # When this layer object is called, \n",
        "        # it calls its forward propagation function\n",
        "        return self.forward(x)\n",
        "```"
      ]
    },
    {
      "cell_type": "markdown",
      "metadata": {
        "id": "Zjhqnp8Ee2CQ"
      },
      "source": [
        "<a name=\"3.1\"></a>\n",
        "### 3.1  ReLU class"
      ]
    },
    {
      "cell_type": "markdown",
      "metadata": {
        "id": "FFlQpGeSe3tF"
      },
      "source": [
        "You will now implement the ReLU activation function in a class below. The ReLU function looks as follows: \n",
        "\n",
        "<img src = \"https://raw.githubusercontent.com/rahiakela/img-repo/master/deeplearning.ai-NLPS/trax-relu-layer.png\" style=\"width:300px;height:150px;\"/>\n",
        "\n",
        "$$ \\mathrm{ReLU}(x) = \\mathrm{max}(0,x) $$"
      ]
    },
    {
      "cell_type": "markdown",
      "metadata": {
        "id": "MVF9OK0bhRS7"
      },
      "source": [
        "<a name=\"ex03\"></a>\n",
        "#### Exercise 03"
      ]
    },
    {
      "cell_type": "markdown",
      "metadata": {
        "id": "CEHYkPl1hSjQ"
      },
      "source": [
        "**Instructions:** Implement the ReLU activation function below. Your function should take in a matrix or vector and it should transform all the negative numbers into 0 while keeping all the positive numbers intact. "
      ]
    },
    {
      "cell_type": "markdown",
      "metadata": {
        "id": "px4QYAZFhUiW"
      },
      "source": [
        "<details>    \n",
        "<summary>\n",
        "    <font size=\"3\" color=\"darkgreen\"><b>Hints</b></font>\n",
        "</summary>\n",
        "<p>\n",
        "<ul>\n",
        "    <li>Please use numpy.maximum(A,k) to find the maximum between each element in A and a scalar k</li>\n",
        "</ul>\n",
        "</p>\n"
      ]
    },
    {
      "cell_type": "code",
      "metadata": {
        "id": "7hT8cMgqD7qj"
      },
      "source": [
        "# UNQ_C3 (UNIQUE CELL IDENTIFIER, DO NOT EDIT)\n",
        "# GRADED FUNCTION: Relu\n",
        "class Relu(Layer):\n",
        "  \"\"\"Relu activation function implementation\"\"\"\n",
        "  def forward(self, x):\n",
        "    \"\"\"\n",
        "    Input: \n",
        "        - x (a numpy array): the input\n",
        "    Output:\n",
        "        - activation (numpy array): all positive or 0 version of x\n",
        "    \"\"\"\n",
        "    ### START CODE HERE (Replace instances of 'None' with your code) ###\n",
        "    activation = np.maximum(x, 0)\n",
        "    ### END CODE HERE ###\n",
        "\n",
        "    return activation"
      ],
      "execution_count": 22,
      "outputs": []
    },
    {
      "cell_type": "code",
      "metadata": {
        "id": "qpWgKW0Th-Wn",
        "colab": {
          "base_uri": "https://localhost:8080/"
        },
        "outputId": "a98e13fc-025a-49c2-e469-1e48ec7f16ed"
      },
      "source": [
        "# Test your relu function\n",
        "x = np.array([[-2.0, -1.0, 0.0], [0.0, 1.0, 2.0]], dtype=float)\n",
        "relu_layer = Relu()\n",
        "print(\"Test data is:\")\n",
        "print(x)\n",
        "print(\"Output of Relu is:\")\n",
        "print(relu_layer(x))"
      ],
      "execution_count": 23,
      "outputs": [
        {
          "output_type": "stream",
          "text": [
            "Test data is:\n",
            "[[-2. -1.  0.]\n",
            " [ 0.  1.  2.]]\n",
            "Output of Relu is:\n",
            "[[0. 0. 0.]\n",
            " [0. 1. 2.]]\n"
          ],
          "name": "stdout"
        }
      ]
    },
    {
      "cell_type": "markdown",
      "metadata": {
        "id": "9HraTb3TiP-w"
      },
      "source": [
        "##### Expected Outout"
      ]
    },
    {
      "cell_type": "markdown",
      "metadata": {
        "id": "53AtxOaIiQdR"
      },
      "source": [
        "```CPP\n",
        "Test data is:\n",
        "[[-2. -1.  0.]\n",
        " [ 0.  1.  2.]]\n",
        "Output of Relu is:\n",
        "[[0. 0. 0.]\n",
        " [0. 1. 2.]]\n",
        "```"
      ]
    },
    {
      "cell_type": "markdown",
      "metadata": {
        "id": "hootMghriTD3"
      },
      "source": [
        "<a name=\"3.2\"></a>\n",
        "### 3.2  Dense class"
      ]
    },
    {
      "cell_type": "markdown",
      "metadata": {
        "id": "aPtX8GBziWix"
      },
      "source": [
        "#### Exercise"
      ]
    },
    {
      "cell_type": "markdown",
      "metadata": {
        "id": "_oDLjAM7iZ6f"
      },
      "source": [
        "<img src = \"https://raw.githubusercontent.com/rahiakela/img-repo/master/deeplearning.ai-NLPS/serial-layer.png\" style=\"width:300px;height:150px;\"/>\n",
        "\n",
        "Implement the forward function of the Dense class. \n",
        "- The forward function multiplies the input to the layer (`x`) by the weight matrix (`W`)\n",
        "\n",
        "$$\\mathrm{forward}(\\mathbf{x},\\mathbf{W}) = \\mathbf{xW} $$\n",
        "\n",
        "- You can use `numpy.dot` to perform the matrix multiplication.\n",
        "\n",
        "Note that for more efficient code execution, you will use the trax version of `math`, which includes a trax version of `numpy` and also `random`.\n",
        "\n",
        "Implement the weight initializer `new_weights` function\n",
        "- Weights are initialized with a random key.\n",
        "- The second parameter is a tuple for the desired shape of the weights (num_rows, num_cols)\n",
        "- The num of rows for weights should equal the number of columns in x, because for forward propagation, you will multiply x times weights.\n",
        "\n",
        "Please use `trax.fastmath.random.normal(key, shape, dtype=tf.float32)` to generate random values for the weight matrix. The key difference between this function\n",
        "and the standard `numpy` randomness is the explicit use of random keys, which\n",
        "need to be passed. While it can look tedious at the first sight to pass the random key everywhere, you will learn in Course 4 why this is very helpful when\n",
        "implementing some advanced models.\n",
        "- `key` can be generated by calling `random.get_prng(seed=)` and passing in a number for the `seed`.\n",
        "- `shape` is a tuple with the desired shape of the weight matrix.\n",
        "    - The number of rows in the weight matrix should equal the number of columns in the variable `x`.  Since `x` may have 2 dimensions if it reprsents a single training example (row, col), or three dimensions (batch_size, row, col), get the last dimension from the tuple that holds the dimensions of x.\n",
        "    - The number of columns in the weight matrix is the number of units chosen for that dense layer.  Look at the `__init__` function to see which variable stores the number of units.\n",
        "- `dtype` is the data type of the values in the generated matrix; keep the default of `tf.float32`. In this case, don't explicitly set the dtype (just let it use the default value).\n",
        "\n",
        "Set the standard deviation of the random values to 0.1\n",
        "- The values generated have a mean of 0 and standard deviation of 1.\n",
        "- Set the default standard deviation `stdev` to be 0.1 by multiplying the standard deviation to each of the values in the weight matrix."
      ]
    },
    {
      "cell_type": "code",
      "metadata": {
        "id": "hQlAxKjwiKLw"
      },
      "source": [
        "# use the fastmath module within trax\n",
        "from trax import fastmath\n",
        "\n",
        "# use the numpy module from trax\n",
        "np = fastmath.numpy\n",
        "\n",
        "# use the fastmath.random module from trax\n",
        "random = fastmath.random"
      ],
      "execution_count": 24,
      "outputs": []
    },
    {
      "cell_type": "code",
      "metadata": {
        "id": "a2V_ASE9o_wc",
        "colab": {
          "base_uri": "https://localhost:8080/",
          "height": 141
        },
        "outputId": "0dc8eb05-82db-4cb0-843e-bb6428184459"
      },
      "source": [
        "# See how the fastmath.trax.random.normal function works\n",
        "tmp_key = random.get_prng(seed=1)\n",
        "print(\"The random seed generated by random.get_prng\")\n",
        "display(tmp_key)\n",
        "\n",
        "print(\"choose a matrix with 2 rows and 3 columns\")\n",
        "tmp_shape = (2, 3)\n",
        "display(tmp_shape)\n",
        "\n",
        "# Generate a weight matrix\n",
        "# Note that you'll get an error if you try to set dtype to tf.float32, where tf is tensorflow\n",
        "# Just avoid setting the dtype and allow it to use the default data type\n",
        "tmp_weight = trax.fastmath.random.normal(key=tmp_key, shape=tmp_shape)\n",
        "\n",
        "print(\"Weight matrix generated with a normal distribution with mean 0 and stdev of 1\")\n",
        "display(tmp_weight)"
      ],
      "execution_count": 25,
      "outputs": [
        {
          "output_type": "stream",
          "text": [
            "The random seed generated by random.get_prng\n"
          ],
          "name": "stdout"
        },
        {
          "output_type": "display_data",
          "data": {
            "text/plain": [
              "DeviceArray([0, 1], dtype=uint32)"
            ]
          },
          "metadata": {
            "tags": []
          }
        },
        {
          "output_type": "stream",
          "text": [
            "choose a matrix with 2 rows and 3 columns\n"
          ],
          "name": "stdout"
        },
        {
          "output_type": "display_data",
          "data": {
            "text/plain": [
              "(2, 3)"
            ]
          },
          "metadata": {
            "tags": []
          }
        },
        {
          "output_type": "stream",
          "text": [
            "Weight matrix generated with a normal distribution with mean 0 and stdev of 1\n"
          ],
          "name": "stdout"
        },
        {
          "output_type": "display_data",
          "data": {
            "text/plain": [
              "DeviceArray([[ 0.95730704, -0.9699289 ,  1.0070665 ],\n",
              "             [ 0.3661903 ,  0.1729483 ,  0.29092234]], dtype=float32)"
            ]
          },
          "metadata": {
            "tags": []
          }
        }
      ]
    },
    {
      "cell_type": "markdown",
      "metadata": {
        "id": "zlj5z-rypwA_"
      },
      "source": [
        "<a name=\"ex04\"></a>\n",
        "#### Exercise 04"
      ]
    },
    {
      "cell_type": "markdown",
      "metadata": {
        "id": "HIdnc0Z8pxOd"
      },
      "source": [
        "Implement the `Dense` class."
      ]
    },
    {
      "cell_type": "code",
      "metadata": {
        "id": "nsPp9K-dpmbJ"
      },
      "source": [
        "# UNQ_C4 (UNIQUE CELL IDENTIFIER, DO NOT EDIT)\n",
        "# GRADED FUNCTION: Dense\n",
        "class Dense(Layer):\n",
        "  \"\"\"A dense (fully-connected) layer\"\"\"\n",
        "\n",
        "  # __init__ is implemented for you\n",
        "  def __init__(self, n_units, init_stdev=0.1):\n",
        "    # Set the number of units in this layer\n",
        "    self._n_units = n_units\n",
        "    self._init_stdev = init_stdev\n",
        "\n",
        "  # Please implement 'forward()'\n",
        "  def forward(self, x):\n",
        "    ### START CODE HERE (Replace instances of 'None' with your code) ###\n",
        "    # Matrix multiply x and the weight matrix\n",
        "    dense = np.dot(x, self.weights)\n",
        "    ### END CODE HERE ###\n",
        "    return dense\n",
        "\n",
        "  # init_weights\n",
        "  def init_weights_and_state(self, input_signature, random_key):\n",
        "    ### START CODE HERE (Replace instances of 'None' with your code) ###\n",
        "    # The input_signature has a .shape attribute that gives the shape as a tuple\n",
        "    input_shape = input_signature.shape\n",
        "    # Generate the weight matrix from a normal distribution, and standard deviation of 'stdev'\n",
        "    w = self._init_stdev * random.normal(key=random_key, shape=(input_shape[-1], self._n_units))\n",
        "    ### END CODE HERE ### \n",
        "    self.weights = w\n",
        "    \n",
        "    return self.weights"
      ],
      "execution_count": 26,
      "outputs": []
    },
    {
      "cell_type": "code",
      "metadata": {
        "id": "MYVeLNXSrkrt",
        "colab": {
          "base_uri": "https://localhost:8080/"
        },
        "outputId": "77cd1bc9-556d-4760-eaff-050e8b60ebf5"
      },
      "source": [
        "# Testing your Dense layer\n",
        "dense_layer = Dense(n_units=10)      # sets  number of units in dense layer\n",
        "random_key = random.get_prng(seed=0) # sets random seed\n",
        "z = np.array([[2.0, 7.0, 25.0]])     # input array \n",
        "\n",
        "dense_layer.init(z, random_key)\n",
        "print(\"Weights are\\n \",dense_layer.weights)         #Returns randomly generated weights\n",
        "print(\"Foward function output is \", dense_layer(z)) # Returns multiplied values of units and weights"
      ],
      "execution_count": 27,
      "outputs": [
        {
          "output_type": "stream",
          "text": [
            "Weights are\n",
            "  [[-0.02837107  0.09368163 -0.10050073  0.14165013  0.10543301  0.09108127\n",
            "  -0.04265671  0.0986188  -0.05575324  0.0015325 ]\n",
            " [-0.2078568   0.05548371  0.09142365  0.05744596  0.07227863  0.01210618\n",
            "  -0.03237354  0.16234998  0.02450039 -0.13809781]\n",
            " [-0.06111237  0.01403725  0.08410043 -0.10943579 -0.1077502  -0.11396457\n",
            "  -0.0593338  -0.01557651 -0.03832145 -0.11144515]]\n",
            "Foward function output is  [[-3.0395489   0.92668045  2.5414748  -2.0504727  -1.9769385  -2.5822086\n",
            "  -1.7952732   0.94427466 -0.89803994 -3.7497485 ]]\n"
          ],
          "name": "stdout"
        }
      ]
    },
    {
      "cell_type": "markdown",
      "metadata": {
        "id": "mbvTEUMrsVIX"
      },
      "source": [
        "##### Expected Outout"
      ]
    },
    {
      "cell_type": "markdown",
      "metadata": {
        "id": "rpOumc4jsVqM"
      },
      "source": [
        "```CPP\n",
        "Weights are\n",
        "  [[-0.02837108  0.09368162 -0.10050076  0.14165013  0.10543301  0.09108126\n",
        "  -0.04265672  0.0986188  -0.05575325  0.00153249]\n",
        " [-0.20785688  0.0554837   0.09142365  0.05744595  0.07227863  0.01210617\n",
        "  -0.03237354  0.16234995  0.02450038 -0.13809784]\n",
        " [-0.06111237  0.01403724  0.08410042 -0.1094358  -0.10775021 -0.11396459\n",
        "  -0.05933381 -0.01557652 -0.03832145 -0.11144515]]\n",
        "Foward function output is  [[-3.0395496   0.9266802   2.5414743  -2.050473   -1.9769388  -2.582209\n",
        "  -1.7952735   0.94427425 -0.8980402  -3.7497487 ]]\n",
        "```"
      ]
    },
    {
      "cell_type": "markdown",
      "metadata": {
        "id": "zMteetl1saDv"
      },
      "source": [
        "<a name=\"3.3\"></a>\n",
        "### 3.3  Model"
      ]
    },
    {
      "cell_type": "markdown",
      "metadata": {
        "id": "V6VK8BJZsfG2"
      },
      "source": [
        "Now you will implement a classifier using neural networks. Here is the model architecture you will be implementing. \n",
        "\n",
        "<img src = \"https://raw.githubusercontent.com/rahiakela/img-repo/master/deeplearning.ai-NLPS/nn.jpg\" style=\"width:400px;height:250px;\"/>\n",
        "\n",
        "For the model implementation, you will use the Trax layers library `tl`.\n",
        "Note that the second character of `tl` is the lowercase of letter `L`, not the number 1. Trax layers are very similar to the ones you implemented above,\n",
        "but in addition to trainable weights also have a non-trainable state.\n",
        "State is used in layers like batch normalization and for inference, you will learn more about it in course 4.\n",
        "\n",
        "First, look at the code of the Trax Dense layer and compare to your implementation above.\n",
        "- [tl.Dense](https://github.com/google/trax/blob/master/trax/layers/core.py#L29): Trax Dense layer implementation\n",
        "\n",
        "One other important layer that you will use a lot is one that allows to execute one layer after another in sequence.\n",
        "- [tl.Serial](https://github.com/google/trax/blob/master/trax/layers/combinators.py#L26): Combinator that applies layers serially.  \n",
        "    - You can pass in the layers as arguments to `Serial`, separated by commas. \n",
        "    - For example: `tl.Serial(tl.Embeddings(...), tl.Mean(...), tl.Dense(...), tl.LogSoftmax(...))`\n",
        "\n",
        "Please use the `help` function to view documentation for each layer."
      ]
    },
    {
      "cell_type": "code",
      "metadata": {
        "id": "2Nf5kq0nsJCg"
      },
      "source": [
        "# View documentation on tl.Dense\n",
        "# help(trax_layer.Dense)"
      ],
      "execution_count": 30,
      "outputs": []
    },
    {
      "cell_type": "code",
      "metadata": {
        "id": "8Ce86DjQucCS"
      },
      "source": [
        "# View documentation on tl.Serial\n",
        "# help(trax_layer.Serial)"
      ],
      "execution_count": 31,
      "outputs": []
    },
    {
      "cell_type": "markdown",
      "metadata": {
        "id": "b0ytsWGvvApj"
      },
      "source": [
        "<img src = \"https://raw.githubusercontent.com/rahiakela/img-repo/master/deeplearning.ai-NLPS/trax-embed-layer.png\" style=\"width:400px;height:250px;\"/>\n",
        "\n",
        "- [tl.Embedding](https://github.com/google/trax/blob/1372b903bb66b0daccee19fd0b1fdf44f659330b/trax/layers/core.py#L113): Layer constructor function for an embedding layer.  \n",
        "    - `tl.Embedding(vocab_size, d_feature)`.\n",
        "    - `vocab_size` is the number of unique words in the given vocabulary.\n",
        "    - `d_feature` is the number of elements in the word embedding (some choices for a word embedding size range from 150 to 300, for example)."
      ]
    },
    {
      "cell_type": "code",
      "metadata": {
        "id": "rgXUGkuFuwi3"
      },
      "source": [
        "# View documentation for tl.Embedding\n",
        "# help(trax_layer.Embedding)"
      ],
      "execution_count": 32,
      "outputs": []
    },
    {
      "cell_type": "code",
      "metadata": {
        "id": "LRobpswbvtyE",
        "colab": {
          "base_uri": "https://localhost:8080/",
          "height": 35
        },
        "outputId": "26ed6b96-050c-474a-e1c9-cc5a575fcd90"
      },
      "source": [
        "tmp_embed = trax_layer.Embedding(vocab_size=3, d_feature=2)\n",
        "display(tmp_embed)"
      ],
      "execution_count": 33,
      "outputs": [
        {
          "output_type": "display_data",
          "data": {
            "text/plain": [
              "Embedding_3_2"
            ]
          },
          "metadata": {
            "tags": []
          }
        }
      ]
    },
    {
      "cell_type": "markdown",
      "metadata": {
        "id": "XxARKBCdv7WR"
      },
      "source": [
        "<img src = \"https://raw.githubusercontent.com/rahiakela/img-repo/master/deeplearning.ai-NLPS/trax-mean-layer.png\" style=\"width:400px;height:250px;\"/>\n",
        "\n",
        "- [tl.Mean](https://github.com/google/trax/blob/1372b903bb66b0daccee19fd0b1fdf44f659330b/trax/layers/core.py#L276): Calculates means across an axis.  In this case, please choose axis = 1 to get an average embedding vector (an embedding vector that is an average of all words in the vocabulary).  \n",
        "- For example, if the embedding matrix is 300 elements and vocab size is 10,000 words, taking the mean of the embedding matrix along axis=1 will yield a vector of 300 elements."
      ]
    },
    {
      "cell_type": "code",
      "metadata": {
        "id": "TZ9nPdtow3Ku"
      },
      "source": [
        "# view the documentation for tl.mean\n",
        "# help(trax_layer.Mean)"
      ],
      "execution_count": 34,
      "outputs": []
    },
    {
      "cell_type": "code",
      "metadata": {
        "id": "B_to5NJjw5LL",
        "colab": {
          "base_uri": "https://localhost:8080/",
          "height": 88
        },
        "outputId": "2473dc90-870a-4943-ef49-57c7b4e58509"
      },
      "source": [
        "# Pretend the embedding matrix uses \n",
        "# 2 elements for embedding the meaning of a word\n",
        "# and has a vocabulary size of 3 So it has shape (2,3)\n",
        "tmp_embed = np.array([\n",
        "   [1,2,3,],\n",
        "   [4,5,6]\n",
        "])\n",
        "\n",
        "# take the mean along axis 0\n",
        "print(\"The mean along axis 0 creates a vector whose length equals the vocabulary size\")\n",
        "display(np.mean(tmp_embed,axis=0))\n",
        "\n",
        "print(\"The mean along axis 1 creates a vector whose length equals the number of elements in a word embedding\")\n",
        "display(np.mean(tmp_embed,axis=1))"
      ],
      "execution_count": 35,
      "outputs": [
        {
          "output_type": "stream",
          "text": [
            "The mean along axis 0 creates a vector whose length equals the vocabulary size\n"
          ],
          "name": "stdout"
        },
        {
          "output_type": "display_data",
          "data": {
            "text/plain": [
              "DeviceArray([2.5, 3.5, 4.5], dtype=float32)"
            ]
          },
          "metadata": {
            "tags": []
          }
        },
        {
          "output_type": "stream",
          "text": [
            "The mean along axis 1 creates a vector whose length equals the number of elements in a word embedding\n"
          ],
          "name": "stdout"
        },
        {
          "output_type": "display_data",
          "data": {
            "text/plain": [
              "DeviceArray([2., 5.], dtype=float32)"
            ]
          },
          "metadata": {
            "tags": []
          }
        }
      ]
    },
    {
      "cell_type": "markdown",
      "metadata": {
        "id": "cq34IJioxPt1"
      },
      "source": [
        "- [tl.LogSoftmax](https://github.com/google/trax/blob/1372b903bb66b0daccee19fd0b1fdf44f659330b/trax/layers/core.py#L242): Implements log softmax function\n",
        "- Here, you don't need to set any parameters for `LogSoftMax()`."
      ]
    },
    {
      "cell_type": "code",
      "metadata": {
        "id": "Dhbwb9CFxU_1"
      },
      "source": [
        "# help(trax_layer.LogSoftmax)"
      ],
      "execution_count": 36,
      "outputs": []
    },
    {
      "cell_type": "markdown",
      "metadata": {
        "id": "ObpUJR4SxY-z"
      },
      "source": [
        "**Online documentation**\n",
        "\n",
        "- [tl.Dense](https://trax-ml.readthedocs.io/en/latest/trax.layers.html#trax.layers.core.Dense)\n",
        "\n",
        "- [tl.Serial](https://trax-ml.readthedocs.io/en/latest/trax.layers.html#module-trax.layers.combinators)\n",
        "\n",
        "- [tl.Embedding](https://trax-ml.readthedocs.io/en/latest/trax.layers.html#trax.layers.core.Embedding)\n",
        "\n",
        "- [tl.Mean](https://trax-ml.readthedocs.io/en/latest/trax.layers.html#trax.layers.core.Mean)\n",
        "\n",
        "- [tl.LogSoftmax](https://trax-ml.readthedocs.io/en/latest/trax.layers.html#trax.layers.core.LogSoftmax)"
      ]
    },
    {
      "cell_type": "markdown",
      "metadata": {
        "id": "fC0FxRiOxdTv"
      },
      "source": [
        "<a name=\"ex05\"></a>\n",
        "#### Exercise 05"
      ]
    },
    {
      "cell_type": "markdown",
      "metadata": {
        "id": "DzZ8PYIcxetZ"
      },
      "source": [
        "Implement the classifier function. "
      ]
    },
    {
      "cell_type": "code",
      "metadata": {
        "id": "7NkSnA1vxg4M"
      },
      "source": [
        "# UNQ_C5 (UNIQUE CELL IDENTIFIER, DO NOT EDIT)\n",
        "# GRADED FUNCTION: classifier\n",
        "def classifier(vocab_size=len(vocab), embedding_dim=256, output_dim=2, mode='train'):\n",
        "  ### START CODE HERE (Replace instances of 'None' with your code) ###\n",
        "\n",
        "  # create embedding layer\n",
        "  embed_layer = trax_layer.Embedding(\n",
        "      vocab_size=vocab_size,   # Size of the vocabulary\n",
        "      d_feature=embedding_dim  # Embedding dimension\n",
        "  )\n",
        "  # Create a mean layer, to create an \"average\" word embedding\n",
        "  mean_layer = trax_layer.Mean(axis=1)\n",
        "  # Create a dense layer, one unit for each output\n",
        "  dense_output_layer = trax_layer.Dense(n_units=output_dim)\n",
        "  # Create the log softmax layer (no parameters needed)\n",
        "  log_softmax_layer = trax_layer.LogSoftmax()\n",
        "\n",
        "  # Use tl.Serial to combine all layers and create the classifier of type trax.layers.combinators.Serial\n",
        "  model = trax_layer.Serial(\n",
        "      embed_layer,         # embedding layer\n",
        "      mean_layer,          # mean layer\n",
        "      dense_output_layer,  # dense output layer \n",
        "      log_softmax_layer    # log softmax layer\n",
        "  )\n",
        "  ### END CODE HERE ###  \n",
        "\n",
        "  # return the model of type\n",
        "  return model"
      ],
      "execution_count": 37,
      "outputs": []
    },
    {
      "cell_type": "code",
      "metadata": {
        "id": "0pB7WmOTzGgS"
      },
      "source": [
        "tmp_model = classifier()"
      ],
      "execution_count": 38,
      "outputs": []
    },
    {
      "cell_type": "code",
      "metadata": {
        "id": "ZiGqFKuKzJ8V",
        "colab": {
          "base_uri": "https://localhost:8080/",
          "height": 141
        },
        "outputId": "b4fc5f9b-91f8-4883-a130-982fb62dcb7a"
      },
      "source": [
        "print(type(tmp_model))\n",
        "display(tmp_model)"
      ],
      "execution_count": 39,
      "outputs": [
        {
          "output_type": "stream",
          "text": [
            "<class 'trax.layers.combinators.Serial'>\n"
          ],
          "name": "stdout"
        },
        {
          "output_type": "display_data",
          "data": {
            "text/plain": [
              "Serial[\n",
              "  Embedding_9092_256\n",
              "  Mean\n",
              "  Dense_2\n",
              "  LogSoftmax\n",
              "]"
            ]
          },
          "metadata": {
            "tags": []
          }
        }
      ]
    },
    {
      "cell_type": "markdown",
      "metadata": {
        "id": "fM19IqFRzPNz"
      },
      "source": [
        "##### Expected Outout"
      ]
    },
    {
      "cell_type": "markdown",
      "metadata": {
        "id": "nO4iQpLlzPvf"
      },
      "source": [
        "```CPP\n",
        "<class 'trax.layers.combinators.Serial'>\n",
        "Serial[\n",
        "  Embedding_9088_256\n",
        "  Mean\n",
        "  Dense_2\n",
        "  LogSoftmax\n",
        "]\n",
        "```"
      ]
    },
    {
      "cell_type": "markdown",
      "metadata": {
        "id": "zPfZrsA3zSZA"
      },
      "source": [
        "<a name=\"4\"></a>\n",
        "## Part 4:  Training"
      ]
    },
    {
      "cell_type": "markdown",
      "metadata": {
        "id": "udf_WvcIzV3j"
      },
      "source": [
        "To train a model on a task, Trax defines an abstraction [`trax.supervised.training.TrainTask`](https://trax-ml.readthedocs.io/en/latest/trax.supervised.html#trax.supervised.training.TrainTask) which packages the train data, loss and optimizer (among other things) together into an object.\n",
        "\n",
        "Similarly to evaluate a model, Trax defines an abstraction [`trax.supervised.training.EvalTask`](https://trax-ml.readthedocs.io/en/latest/trax.supervised.html#trax.supervised.training.EvalTask) which packages the eval data and metrics (among other things) into another object.\n",
        "\n",
        "The final piece tying things together is the [`trax.supervised.training.Loop`](https://trax-ml.readthedocs.io/en/latest/trax.supervised.html#trax.supervised.training.Loop) abstraction that is a very simple and flexible way to put everything together and train the model, all the while evaluating it and saving checkpoints.\n",
        "Using `Loop` will save you a lot of code compared to always writing the training loop by hand, like you did in courses 1 and 2. More importantly, you are less likely to have a bug in that code that would ruin your training."
      ]
    },
    {
      "cell_type": "code",
      "metadata": {
        "id": "ziy0Kgn0zKd8"
      },
      "source": [
        "# View documentation for trax.supervised.training.TrainTask\n",
        "# help(trax.supervised.training.TrainTask)"
      ],
      "execution_count": 40,
      "outputs": []
    },
    {
      "cell_type": "code",
      "metadata": {
        "id": "nN4_48SWur3E"
      },
      "source": [
        "# View documentation for trax.supervised.training.EvalTask\n",
        "# help(trax.supervised.training.EvalTask)"
      ],
      "execution_count": 41,
      "outputs": []
    },
    {
      "cell_type": "code",
      "metadata": {
        "id": "HOglgZOPu4d6"
      },
      "source": [
        "# View documentation for trax.supervised.training.Loop\n",
        "# help(trax.supervised.training.Loop)"
      ],
      "execution_count": 55,
      "outputs": []
    },
    {
      "cell_type": "code",
      "metadata": {
        "id": "uM7r9W0WvFcY"
      },
      "source": [
        "# View optimizers that you could choose from\n",
        "# help(trax.optimizers)"
      ],
      "execution_count": 43,
      "outputs": []
    },
    {
      "cell_type": "markdown",
      "metadata": {
        "id": "7pOPQH6jv0Vz"
      },
      "source": [
        "Notice some available optimizers include:\n",
        "```CPP\n",
        "    adafactor\n",
        "    adam\n",
        "    momentum\n",
        "    rms_prop\n",
        "    sm3\n",
        "```"
      ]
    },
    {
      "cell_type": "markdown",
      "metadata": {
        "id": "tmXcYaA2v1ot"
      },
      "source": [
        "<a name=\"4.1\"></a>\n",
        "### 4.1  Training the model"
      ]
    },
    {
      "cell_type": "markdown",
      "metadata": {
        "id": "wqH49rsbv5GJ"
      },
      "source": [
        "Now you are going to train your model. \n",
        "\n",
        "Let's define the `TrainTask`, `EvalTask` and `Loop` in preparation to train the model."
      ]
    },
    {
      "cell_type": "code",
      "metadata": {
        "id": "Nvj0sbUSxBj0"
      },
      "source": [
        "from trax.supervised import training"
      ],
      "execution_count": 44,
      "outputs": []
    },
    {
      "cell_type": "code",
      "metadata": {
        "id": "b1oDObatvowa"
      },
      "source": [
        "batch_size = 16\n",
        "rnd.seed(271)\n",
        "\n",
        "train_task = training.TrainTask(\n",
        "    labeled_data=train_generator(batch_size=batch_size, shuffle=True),\n",
        "    loss_layer=trax_layer.CrossEntropyLoss(),\n",
        "    optimizer=trax.optimizers.Adam(0.01),\n",
        "    n_steps_per_checkpoint=10,\n",
        ")\n",
        "\n",
        "eval_task = training.EvalTask(\n",
        "    labeled_data=val_generator(batch_size=batch_size, shuffle=True),\n",
        "    metrics=[trax_layer.CrossEntropyLoss(), trax_layer.Accuracy()],\n",
        ")\n",
        "\n",
        "model = classifier()"
      ],
      "execution_count": 45,
      "outputs": []
    },
    {
      "cell_type": "markdown",
      "metadata": {
        "id": "_PuNPVdDyn0w"
      },
      "source": [
        "This defines a model trained using [`tl.CrossEntropyLoss`](https://trax-ml.readthedocs.io/en/latest/trax.layers.html#trax.layers.metrics.CrossEntropyLoss) optimized with the [`trax.optimizers.Adam`](https://trax-ml.readthedocs.io/en/latest/trax.optimizers.html#trax.optimizers.adam.Adam) optimizer, all the while tracking the accuracy using [`tl.Accuracy`](https://trax-ml.readthedocs.io/en/latest/trax.layers.html#trax.layers.metrics.Accuracy) metric. We also track `tl.CrossEntropyLoss` on the validation set.\n",
        "\n",
        "Now let's make an output directory and train the model."
      ]
    },
    {
      "cell_type": "code",
      "metadata": {
        "id": "_-cR71gRyrA2",
        "colab": {
          "base_uri": "https://localhost:8080/"
        },
        "outputId": "d3dd33e1-878d-48d5-cac9-26cb09390206"
      },
      "source": [
        "output_dir = '~/model/'\n",
        "output_dir_expand = os.path.expanduser(output_dir)\n",
        "print(output_dir_expand)"
      ],
      "execution_count": 46,
      "outputs": [
        {
          "output_type": "stream",
          "text": [
            "/root/model/\n"
          ],
          "name": "stdout"
        }
      ]
    },
    {
      "cell_type": "markdown",
      "metadata": {
        "id": "wl5zzK_NzQwA"
      },
      "source": [
        "<a name=\"ex06\"></a>\n",
        "#### Exercise 06"
      ]
    },
    {
      "cell_type": "markdown",
      "metadata": {
        "id": "i_un0USfzR8j"
      },
      "source": [
        "**Instructions:** Implement `train_model` to train the model (`classifier` that you wrote earlier) for the given number of training steps (`n_steps`) using `TrainTask`, `EvalTask` and `Loop`."
      ]
    },
    {
      "cell_type": "code",
      "metadata": {
        "id": "6n6smqqazVVl"
      },
      "source": [
        "# UNQ_C6 (UNIQUE CELL IDENTIFIER, DO NOT EDIT)\n",
        "# GRADED FUNCTION: train_model\n",
        "def train_model(classifier, train_task, eval_task, n_steps, output_dir):\n",
        "  \"\"\"\n",
        "  Input: \n",
        "      classifier - the model you are building\n",
        "      train_task - Training task\n",
        "      eval_task - Evaluation task\n",
        "      n_steps - the evaluation steps\n",
        "      output_dir - folder to save your files\n",
        "  Output:\n",
        "      trainer -  trax trainer\n",
        "  \"\"\"\n",
        "\n",
        "  ### START CODE HERE (Replace instances of 'None' with your code) ###\n",
        "  training_loop = training.Loop(\n",
        "      classifier,           # The learning model\n",
        "      train_task,           # The training task\n",
        "      eval_tasks=eval_task,  # The evaluation task\n",
        "      output_dir=output_dir # The output directory\n",
        "  )\n",
        "\n",
        "  training_loop.run(n_steps=n_steps)\n",
        "  ### END CODE HERE ###\n",
        "\n",
        "  # Return the training_loop, since it has the model.\n",
        "  return training_loop"
      ],
      "execution_count": 53,
      "outputs": []
    },
    {
      "cell_type": "code",
      "metadata": {
        "id": "kvUDcICN2Zju",
        "colab": {
          "base_uri": "https://localhost:8080/"
        },
        "outputId": "bcb4a733-6208-4980-8c7c-04ba0f7838bf"
      },
      "source": [
        "training_loop = train_model(model, train_task, eval_task, 100, output_dir_expand)"
      ],
      "execution_count": 54,
      "outputs": [
        {
          "output_type": "stream",
          "text": [
            "/usr/local/lib/python3.7/dist-packages/jax/lib/xla_bridge.py:304: UserWarning: jax.host_id has been renamed to jax.process_index. This alias will eventually be removed; please update your code.\n",
            "  \"jax.host_id has been renamed to jax.process_index. This alias \"\n",
            "/usr/local/lib/python3.7/dist-packages/jax/lib/xla_bridge.py:317: UserWarning: jax.host_count has been renamed to jax.process_count. This alias will eventually be removed; please update your code.\n",
            "  \"jax.host_count has been renamed to jax.process_count. This alias \"\n"
          ],
          "name": "stderr"
        },
        {
          "output_type": "stream",
          "text": [
            "\n",
            "Step      1: Total number of trainable weights: 2328066\n",
            "Step      1: Ran 1 train steps in 1.69 secs\n",
            "Step      1: train CrossEntropyLoss |  0.69021475\n",
            "Step      1: eval  CrossEntropyLoss |  0.67800403\n",
            "Step      1: eval          Accuracy |  0.56250000\n",
            "\n",
            "Step     10: Ran 9 train steps in 5.80 secs\n",
            "Step     10: train CrossEntropyLoss |  0.63209462\n",
            "Step     10: eval  CrossEntropyLoss |  0.56975543\n",
            "Step     10: eval          Accuracy |  0.75000000\n",
            "\n",
            "Step     20: Ran 10 train steps in 3.41 secs\n",
            "Step     20: train CrossEntropyLoss |  0.41576594\n",
            "Step     20: eval  CrossEntropyLoss |  0.25401500\n",
            "Step     20: eval          Accuracy |  1.00000000\n",
            "\n",
            "Step     30: Ran 10 train steps in 2.50 secs\n",
            "Step     30: train CrossEntropyLoss |  0.20533943\n",
            "Step     30: eval  CrossEntropyLoss |  0.12701324\n",
            "Step     30: eval          Accuracy |  1.00000000\n",
            "\n",
            "Step     40: Ran 10 train steps in 1.73 secs\n",
            "Step     40: train CrossEntropyLoss |  0.14222582\n",
            "Step     40: eval  CrossEntropyLoss |  0.09744382\n",
            "Step     40: eval          Accuracy |  1.00000000\n",
            "\n",
            "Step     50: Ran 10 train steps in 0.78 secs\n",
            "Step     50: train CrossEntropyLoss |  0.05389117\n",
            "Step     50: eval  CrossEntropyLoss |  0.12257315\n",
            "Step     50: eval          Accuracy |  0.93750000\n",
            "\n",
            "Step     60: Ran 10 train steps in 1.56 secs\n",
            "Step     60: train CrossEntropyLoss |  0.06783356\n",
            "Step     60: eval  CrossEntropyLoss |  0.02298399\n",
            "Step     60: eval          Accuracy |  1.00000000\n",
            "\n",
            "Step     70: Ran 10 train steps in 0.86 secs\n",
            "Step     70: train CrossEntropyLoss |  0.04738550\n",
            "Step     70: eval  CrossEntropyLoss |  0.00624377\n",
            "Step     70: eval          Accuracy |  1.00000000\n",
            "\n",
            "Step     80: Ran 10 train steps in 0.85 secs\n",
            "Step     80: train CrossEntropyLoss |  0.05141497\n",
            "Step     80: eval  CrossEntropyLoss |  0.00245431\n",
            "Step     80: eval          Accuracy |  1.00000000\n",
            "\n",
            "Step     90: Ran 10 train steps in 1.64 secs\n",
            "Step     90: train CrossEntropyLoss |  0.02924722\n",
            "Step     90: eval  CrossEntropyLoss |  0.00068615\n",
            "Step     90: eval          Accuracy |  1.00000000\n",
            "\n",
            "Step    100: Ran 10 train steps in 0.86 secs\n",
            "Step    100: train CrossEntropyLoss |  0.00953857\n",
            "Step    100: eval  CrossEntropyLoss |  0.00006908\n",
            "Step    100: eval          Accuracy |  1.00000000\n"
          ],
          "name": "stdout"
        }
      ]
    },
    {
      "cell_type": "markdown",
      "metadata": {
        "id": "pP_nH9sJ21io"
      },
      "source": [
        "##### Expected output (Approximately)"
      ]
    },
    {
      "cell_type": "markdown",
      "metadata": {
        "id": "_Gyy13sC22EH"
      },
      "source": [
        "```CPP\n",
        "Step      1: train CrossEntropyLoss |  0.88939196\n",
        "Step      1: eval  CrossEntropyLoss |  0.68833977\n",
        "Step      1: eval          Accuracy |  0.50000000\n",
        "Step     10: train CrossEntropyLoss |  0.61036736\n",
        "Step     10: eval  CrossEntropyLoss |  0.52182281\n",
        "Step     10: eval          Accuracy |  0.68750000\n",
        "Step     20: train CrossEntropyLoss |  0.34137666\n",
        "Step     20: eval  CrossEntropyLoss |  0.20654774\n",
        "Step     20: eval          Accuracy |  1.00000000\n",
        "Step     30: train CrossEntropyLoss |  0.20208922\n",
        "Step     30: eval  CrossEntropyLoss |  0.21594886\n",
        "Step     30: eval          Accuracy |  0.93750000\n",
        "Step     40: train CrossEntropyLoss |  0.19611198\n",
        "Step     40: eval  CrossEntropyLoss |  0.17582777\n",
        "Step     40: eval          Accuracy |  1.00000000\n",
        "Step     50: train CrossEntropyLoss |  0.11203773\n",
        "Step     50: eval  CrossEntropyLoss |  0.07589275\n",
        "Step     50: eval          Accuracy |  1.00000000\n",
        "Step     60: train CrossEntropyLoss |  0.09375446\n",
        "Step     60: eval  CrossEntropyLoss |  0.09290724\n",
        "Step     60: eval          Accuracy |  1.00000000\n",
        "Step     70: train CrossEntropyLoss |  0.08785903\n",
        "Step     70: eval  CrossEntropyLoss |  0.09610598\n",
        "Step     70: eval          Accuracy |  1.00000000\n",
        "Step     80: train CrossEntropyLoss |  0.08858261\n",
        "Step     80: eval  CrossEntropyLoss |  0.02319432\n",
        "Step     80: eval          Accuracy |  1.00000000\n",
        "Step     90: train CrossEntropyLoss |  0.05699894\n",
        "Step     90: eval  CrossEntropyLoss |  0.01778970\n",
        "Step     90: eval          Accuracy |  1.00000000\n",
        "Step    100: train CrossEntropyLoss |  0.03663783\n",
        "Step    100: eval  CrossEntropyLoss |  0.00210550\n",
        "Step    100: eval          Accuracy |  1.00000000\n",
        "```"
      ]
    },
    {
      "cell_type": "markdown",
      "metadata": {
        "id": "bDyyS_En256I"
      },
      "source": [
        "<a name=\"4.2\"></a>\n",
        "### 4.2  Practice Making a prediction"
      ]
    },
    {
      "cell_type": "markdown",
      "metadata": {
        "id": "QU-ax4t028pZ"
      },
      "source": [
        "Now that you have trained a model, you can access it as `training_loop.model` object. We will actually use `training_loop.eval_model` and in the next weeks you will learn why we sometimes use a different model for evaluation, e.g., one without dropout. For now, make predictions with your model.\n",
        "\n",
        "Use the training data just to see how the prediction process works.  \n",
        "- Later, you will use validation data to evaluate your model's performance."
      ]
    },
    {
      "cell_type": "code",
      "metadata": {
        "id": "8Eb6s8Gx3CXU",
        "colab": {
          "base_uri": "https://localhost:8080/"
        },
        "outputId": "03ff4322-fa97-403f-94f6-3ebfc6cc0020"
      },
      "source": [
        "# Create a generator object\n",
        "tmp_train_generator = train_generator(16)\n",
        "\n",
        "# get one batch\n",
        "tmp_batch = next(tmp_train_generator)\n",
        "\n",
        "# Position 0 has the model inputs (tweets as tensors)\n",
        "# position 1 has the targets (the actual labels)\n",
        "tmp_inputs, tmp_targets, tmp_example_weights = tmp_batch\n",
        "print(f\"The batch is a tuple of length {len(tmp_batch)} because position 0 contains the tweets, and position 1 contains the targets.\") \n",
        "print(f\"The shape of the tweet tensors is {tmp_inputs.shape} (num of examples, length of tweet tensors)\")\n",
        "print(f\"The shape of the labels is {tmp_targets.shape}, which is the batch size.\")\n",
        "print(f\"The shape of the example_weights is {tmp_example_weights.shape}, which is the same as inputs/targets size.\")"
      ],
      "execution_count": 56,
      "outputs": [
        {
          "output_type": "stream",
          "text": [
            "The batch is a tuple of length 3 because position 0 contains the tweets, and position 1 contains the targets.\n",
            "The shape of the tweet tensors is (16, 15) (num of examples, length of tweet tensors)\n",
            "The shape of the labels is (16,), which is the batch size.\n",
            "The shape of the example_weights is (16,), which is the same as inputs/targets size.\n"
          ],
          "name": "stdout"
        }
      ]
    },
    {
      "cell_type": "code",
      "metadata": {
        "id": "61-2pTz86yR_",
        "colab": {
          "base_uri": "https://localhost:8080/"
        },
        "outputId": "5d5aa0ac-c8ca-466e-839e-fc9980752476"
      },
      "source": [
        "# feed the tweet tensors into the model to get a prediction\n",
        "tmp_pred = training_loop.eval_model(tmp_inputs)\n",
        "print(f\"The prediction shape is {tmp_pred.shape}, num of tensor_tweets as rows\")\n",
        "print(\"Column 0 is the probability of a negative sentiment (class 0)\")\n",
        "print(\"Column 1 is the probability of a positive sentiment (class 1)\")\n",
        "print()\n",
        "print(\"View the prediction array\")\n",
        "tmp_pred"
      ],
      "execution_count": 57,
      "outputs": [
        {
          "output_type": "stream",
          "text": [
            "The prediction shape is (16, 2), num of tensor_tweets as rows\n",
            "Column 0 is the probability of a negative sentiment (class 0)\n",
            "Column 1 is the probability of a positive sentiment (class 1)\n",
            "\n",
            "View the prediction array\n"
          ],
          "name": "stdout"
        },
        {
          "output_type": "execute_result",
          "data": {
            "text/plain": [
              "DeviceArray([[-8.4913445e+00, -2.0503998e-04],\n",
              "             [-9.4155283e+00, -8.1539154e-05],\n",
              "             [-8.6660824e+00, -1.7213821e-04],\n",
              "             [-8.5560904e+00, -1.9216537e-04],\n",
              "             [-6.2835283e+00, -1.8684864e-03],\n",
              "             [-7.9657712e+00, -3.4713745e-04],\n",
              "             [-8.7217026e+00, -1.6307831e-04],\n",
              "             [-4.8718023e+00, -7.6889992e-03],\n",
              "             [-2.3324490e-03, -6.0620184e+00],\n",
              "             [-2.8560162e-03, -5.8597507e+00],\n",
              "             [-3.4475327e-04, -7.9729404e+00],\n",
              "             [-4.7683716e-07, -1.4905462e+01],\n",
              "             [-9.4540119e-03, -4.6660347e+00],\n",
              "             [-1.1525154e-03, -6.7664347e+00],\n",
              "             [-2.3541451e-03, -6.0527658e+00],\n",
              "             [-6.2251091e-04, -7.3820934e+00]], dtype=float32)"
            ]
          },
          "metadata": {
            "tags": []
          },
          "execution_count": 57
        }
      ]
    },
    {
      "cell_type": "markdown",
      "metadata": {
        "id": "ARv0GyTP7YZY"
      },
      "source": [
        "To turn these probabilities into categories (negative or positive sentiment prediction), for each row:\n",
        "- Compare the probabilities in each column.\n",
        "- If column 1 has a value greater than column 0, classify that as a positive tweet.\n",
        "- Otherwise if column 1 is less than or equal to column 0, classify that example as a negative tweet."
      ]
    },
    {
      "cell_type": "code",
      "metadata": {
        "id": "AzmW7yL_7kbO",
        "colab": {
          "base_uri": "https://localhost:8080/"
        },
        "outputId": "e4486fa8-a551-4970-c003-ff6fe5104ce9"
      },
      "source": [
        "# turn probabilites into category predictions\n",
        "tmp_is_positive = tmp_pred[:, 1] > tmp_pred[:, 0]\n",
        "for i, p in enumerate(tmp_is_positive):\n",
        "  print(f\"Neg log prob {tmp_pred[i,0]:.4f}\\tPos log prob {tmp_pred[i,1]:.4f}\\t is positive? {p}\\t actual {tmp_targets[i]}\") "
      ],
      "execution_count": 58,
      "outputs": [
        {
          "output_type": "stream",
          "text": [
            "Neg log prob -8.4913\tPos log prob -0.0002\t is positive? True\t actual 1\n",
            "Neg log prob -9.4155\tPos log prob -0.0001\t is positive? True\t actual 1\n",
            "Neg log prob -8.6661\tPos log prob -0.0002\t is positive? True\t actual 1\n",
            "Neg log prob -8.5561\tPos log prob -0.0002\t is positive? True\t actual 1\n",
            "Neg log prob -6.2835\tPos log prob -0.0019\t is positive? True\t actual 1\n",
            "Neg log prob -7.9658\tPos log prob -0.0003\t is positive? True\t actual 1\n",
            "Neg log prob -8.7217\tPos log prob -0.0002\t is positive? True\t actual 1\n",
            "Neg log prob -4.8718\tPos log prob -0.0077\t is positive? True\t actual 1\n",
            "Neg log prob -0.0023\tPos log prob -6.0620\t is positive? False\t actual 0\n",
            "Neg log prob -0.0029\tPos log prob -5.8598\t is positive? False\t actual 0\n",
            "Neg log prob -0.0003\tPos log prob -7.9729\t is positive? False\t actual 0\n",
            "Neg log prob -0.0000\tPos log prob -14.9055\t is positive? False\t actual 0\n",
            "Neg log prob -0.0095\tPos log prob -4.6660\t is positive? False\t actual 0\n",
            "Neg log prob -0.0012\tPos log prob -6.7664\t is positive? False\t actual 0\n",
            "Neg log prob -0.0024\tPos log prob -6.0528\t is positive? False\t actual 0\n",
            "Neg log prob -0.0006\tPos log prob -7.3821\t is positive? False\t actual 0\n"
          ],
          "name": "stdout"
        }
      ]
    },
    {
      "cell_type": "markdown",
      "metadata": {
        "id": "M1ukJX228gYE"
      },
      "source": [
        "Notice that since you are making a prediction using a training batch, it's more likely that the model's predictions match the actual targets (labels).  \n",
        "- Every prediction that the tweet is positive is also matching the actual target of 1 (positive sentiment).\n",
        "- Similarly, all predictions that the sentiment is not positive matches the actual target of 0 (negative sentiment)\n",
        "\n",
        "\n",
        "One more useful thing to know is how to compare if the prediction is matching the actual target (label).  \n",
        "- The result of calculation `is_positive` is a boolean.\n",
        "- The target is a type trax.fastmath.numpy.int32\n",
        "- If you expect to be doing division, you may prefer to work with decimal numbers with the data type type trax.fastmath.numpy.int32"
      ]
    },
    {
      "cell_type": "code",
      "metadata": {
        "id": "EcVaKA8J8kbR",
        "colab": {
          "base_uri": "https://localhost:8080/",
          "height": 159
        },
        "outputId": "be41b12c-cc5e-400f-ae8f-364d1416fd1e"
      },
      "source": [
        "# View the array of booleans\n",
        "print(\"Array of booleans\")\n",
        "display(tmp_is_positive)\n",
        "\n",
        "# convert boolean to type int32\n",
        "# True is converted to 1\n",
        "# False is converted to 0\n",
        "tmp_is_positive_int = tmp_is_positive.astype(np.int32)\n",
        "\n",
        "# View the array of integers\n",
        "print(\"Array of integers\")\n",
        "display(tmp_is_positive_int)\n",
        "\n",
        "# convert boolean to type float32\n",
        "tmp_is_positive_float = tmp_is_positive.astype(np.float32)\n",
        "\n",
        "# View the array of floats\n",
        "print(\"Array of floats\")\n",
        "display(tmp_is_positive_float)"
      ],
      "execution_count": 59,
      "outputs": [
        {
          "output_type": "stream",
          "text": [
            "Array of booleans\n"
          ],
          "name": "stdout"
        },
        {
          "output_type": "display_data",
          "data": {
            "text/plain": [
              "DeviceArray([ True,  True,  True,  True,  True,  True,  True,  True,\n",
              "             False, False, False, False, False, False, False, False],            dtype=bool)"
            ]
          },
          "metadata": {
            "tags": []
          }
        },
        {
          "output_type": "stream",
          "text": [
            "Array of integers\n"
          ],
          "name": "stdout"
        },
        {
          "output_type": "display_data",
          "data": {
            "text/plain": [
              "DeviceArray([1, 1, 1, 1, 1, 1, 1, 1, 0, 0, 0, 0, 0, 0, 0, 0], dtype=int32)"
            ]
          },
          "metadata": {
            "tags": []
          }
        },
        {
          "output_type": "stream",
          "text": [
            "Array of floats\n"
          ],
          "name": "stdout"
        },
        {
          "output_type": "display_data",
          "data": {
            "text/plain": [
              "DeviceArray([1., 1., 1., 1., 1., 1., 1., 1., 0., 0., 0., 0., 0., 0., 0.,\n",
              "             0.], dtype=float32)"
            ]
          },
          "metadata": {
            "tags": []
          }
        }
      ]
    },
    {
      "cell_type": "code",
      "metadata": {
        "id": "wmfP-MRQ_GA-",
        "colab": {
          "base_uri": "https://localhost:8080/",
          "height": 35
        },
        "outputId": "2291b64d-dd50-4dee-fe04-e1833b43cf16"
      },
      "source": [
        "tmp_pred.shape"
      ],
      "execution_count": null,
      "outputs": [
        {
          "output_type": "execute_result",
          "data": {
            "text/plain": [
              "(16, 2)"
            ]
          },
          "metadata": {
            "tags": []
          },
          "execution_count": 48
        }
      ]
    },
    {
      "cell_type": "markdown",
      "metadata": {
        "id": "bxkYglC6_T2o"
      },
      "source": [
        "Note that Python usually does type conversion for you when you compare a boolean to an integer\n",
        "- True compared to 1 is True, otherwise any other integer is False.\n",
        "- False compared to 0 is True, otherwise any ohter integer is False."
      ]
    },
    {
      "cell_type": "code",
      "metadata": {
        "id": "nhqHiOt5_hCN",
        "colab": {
          "base_uri": "https://localhost:8080/",
          "height": 87
        },
        "outputId": "dddb0383-d16e-4b5c-db2f-98be3eba5e0a"
      },
      "source": [
        "print(f\"True == 1: {True == 1}\")\n",
        "print(f\"True == 2: {True == 2}\")\n",
        "print(f\"False == 0: {False == 0}\")\n",
        "print(f\"False == 2: {False == 2}\")"
      ],
      "execution_count": null,
      "outputs": [
        {
          "output_type": "stream",
          "text": [
            "True == 1: True\n",
            "True == 2: False\n",
            "False == 0: True\n",
            "False == 2: False\n"
          ],
          "name": "stdout"
        }
      ]
    },
    {
      "cell_type": "markdown",
      "metadata": {
        "id": "6lHZn8oj_jZk"
      },
      "source": [
        "However, we recommend that you keep track of the data type of your variables to avoid unexpected outcomes.  So it helps to convert the booleans into integers\n",
        "- Compare 1 to 1 rather than comparing True to 1.\n",
        "\n",
        "Hopefully you are now familiar with what kinds of inputs and outputs the model uses when making a prediction.\n",
        "- This will help you implement a function that estimates the accuracy of the model's predictions."
      ]
    },
    {
      "cell_type": "markdown",
      "metadata": {
        "id": "3U9RfVcA_mO6"
      },
      "source": [
        "<a name=\"5\"></a>\n",
        "## Part 5:  Evaluation "
      ]
    },
    {
      "cell_type": "markdown",
      "metadata": {
        "id": "AcZhTBg5_pOD"
      },
      "source": [
        "<a name=\"5.1\"></a>\n",
        "### 5.1  Computing the accuracy on a batch"
      ]
    },
    {
      "cell_type": "markdown",
      "metadata": {
        "id": "vEO9d9nc_tNk"
      },
      "source": [
        "You will now write a function that evaluates your model on the validation set and returns the accuracy. \n",
        "- `preds` contains the predictions.\n",
        "    - Its dimensions are `(batch_size, output_dim)`.  `output_dim` is two in this case.  Column 0 contains the probability that the tweet belongs to class 0 (negative sentiment). Column 1 contains probability that it belongs to class 1 (positive sentiment).\n",
        "    - If the probability in column 1 is greater than the probability in column 0, then interpret this as the model's prediction that the example has label 1 (positive sentiment).  \n",
        "    - Otherwise, if the probabilities are equal or the probability in column 0 is higher, the model's prediction is 0 (negative sentiment).\n",
        "- `y` contains the actual labels.\n",
        "- `y_weights` contains the weights to give to predictions."
      ]
    },
    {
      "cell_type": "markdown",
      "metadata": {
        "id": "tD9yQzFkNThb"
      },
      "source": [
        "<a name=\"ex07\"></a>\n",
        "#### Exercise 07"
      ]
    },
    {
      "cell_type": "markdown",
      "metadata": {
        "id": "YkMk4NqsNVJi"
      },
      "source": [
        "Implement `compute_accuracy`."
      ]
    },
    {
      "cell_type": "code",
      "metadata": {
        "id": "0Ibfqi75NYqj"
      },
      "source": [
        "# UNQ_C7 (UNIQUE CELL IDENTIFIER, DO NOT EDIT)\n",
        "# GRADED FUNCTION: compute_accuracy\n",
        "def compute_accuracy(preds, y, y_weights):\n",
        "  \"\"\"\n",
        "  Input: \n",
        "      preds: a tensor of shape (dim_batch, output_dim) \n",
        "      y: a tensor of shape (dim_batch, output_dim) with the true labels\n",
        "      y_weights: a n.ndarray with the a weight for each example\n",
        "  Output: \n",
        "      accuracy: a float between 0-1 \n",
        "      weighted_num_correct (np.float32): Sum of the weighted correct predictions\n",
        "      sum_weights (np.float32): Sum of the weights\n",
        "  \"\"\"\n",
        "\n",
        "  ### START CODE HERE (Replace instances of 'None' with your code) ###\n",
        "  # Create an array of booleans, \n",
        "  # True if the probability of positive sentiment is greater than\n",
        "  # the probability of negative sentiment else False\n",
        "  is_pos = preds[:, 1] > preds[:, 0]\n",
        "\n",
        "  # convert the array of booleans into an array of np.int32\n",
        "  is_pos_int = is_pos.astype(np.int32)\n",
        "  # compare the array of predictions (as int32) with the target (labels) of type int32\n",
        "  correct = is_pos_int == y\n",
        "  # Count the sum of the weights.\n",
        "  sum_weights = np.sum(y_weights)\n",
        "  # convert the array of correct predictions (boolean) into an arrayof np.float32\n",
        "  correct_float = correct.astype(np.float32)\n",
        "  # Multiply each prediction with its corresponding weight.\n",
        "  weighted_correct_float = correct_float * y_weights\n",
        "  # Sum up the weighted correct predictions (of type np.float32), to go in the denominator.\n",
        "  weighted_num_correct = np.sum(weighted_correct_float)\n",
        "  # Divide the number of weighted correct predictions by the sum of the weights.\n",
        "  accuracy = weighted_num_correct / sum_weights\n",
        "  ### END CODE HERE ###\n",
        "\n",
        "  return accuracy, weighted_num_correct, sum_weights"
      ],
      "execution_count": null,
      "outputs": []
    },
    {
      "cell_type": "code",
      "metadata": {
        "id": "9pRKWinN_wqh",
        "colab": {
          "base_uri": "https://localhost:8080/",
          "height": 52
        },
        "outputId": "903ae040-a0ce-40cf-9adc-03edc6eab8e0"
      },
      "source": [
        "# test your function\n",
        "tmp_val_generator = val_generator(64)\n",
        "\n",
        "# get one batch\n",
        "tmp_batch = next(tmp_val_generator)\n",
        "\n",
        "# Position 0 has the model inputs (tweets as tensors)\n",
        "# position 1 has the targets (the actual labels)\n",
        "tmp_inputs, tmp_targets, tmp_example_weights = tmp_batch\n",
        "\n",
        "# feed the tweet tensors into the model to get a prediction\n",
        "tmp_pred = training_loop.eval_model(tmp_inputs)\n",
        "\n",
        "tmp_acc, tmp_num_correct, tmp_num_predictions = compute_accuracy(preds=tmp_pred, y=tmp_targets, y_weights=tmp_example_weights)\n",
        "print(f\"Model's prediction accuracy on a single training batch is: {100 * tmp_acc}%\")\n",
        "print(f\"Weighted number of correct predictions {tmp_num_correct}; weighted number of total observations predicted {tmp_num_predictions}\")"
      ],
      "execution_count": null,
      "outputs": [
        {
          "output_type": "stream",
          "text": [
            "Model's prediction accuracy on a single training batch is: 98.4375%\n",
            "Weighted number of correct predictions 63.0; weighted number of total observations predicted 64\n"
          ],
          "name": "stdout"
        }
      ]
    },
    {
      "cell_type": "markdown",
      "metadata": {
        "id": "F35UuVSYP6J2"
      },
      "source": [
        "##### Expected output (Approximately)"
      ]
    },
    {
      "cell_type": "markdown",
      "metadata": {
        "id": "dQE1zIPmP6rs"
      },
      "source": [
        "```\n",
        "Model's prediction accuracy on a single training batch is: 100.0%\n",
        "Weighted number of correct predictions 64.0; weighted number of total observations predicted 64\n",
        "```"
      ]
    },
    {
      "cell_type": "markdown",
      "metadata": {
        "id": "gCbSZR4pP9Px"
      },
      "source": [
        "<a name=\"5.2\"></a>\n",
        "### 5.2  Testing your model on Validation Data"
      ]
    },
    {
      "cell_type": "markdown",
      "metadata": {
        "id": "ic1Qv2uPQAHh"
      },
      "source": [
        "Now you will write test your model's prediction accuracy on validation data. \n",
        "\n",
        "This program will take in a data generator and your model. \n",
        "- The generator allows you to get batches of data. You can use it with a `for` loop:\n",
        "\n",
        "```\n",
        "for batch in iterator: \n",
        "   # do something with that batch\n",
        "```\n",
        "\n",
        "`batch` has dimensions `(X, Y, weights)`. \n",
        "- Column 0 corresponds to the tweet as a tensor (input).\n",
        "- Column 1 corresponds to its target (actual label, positive or negative sentiment).\n",
        "- Column 2 corresponds to the weights associated (example weights)\n",
        "- You can feed the tweet into model and it will return the predictions for the batch. "
      ]
    },
    {
      "cell_type": "markdown",
      "metadata": {
        "id": "NlE-826EQJQ9"
      },
      "source": [
        "<a name=\"ex08\"></a>\n",
        "#### Exercise 08"
      ]
    },
    {
      "cell_type": "markdown",
      "metadata": {
        "id": "OGFPK53lQKwf"
      },
      "source": [
        "**Instructions:** \n",
        "- Compute the accuracy over all the batches in the validation iterator. \n",
        "- Make use of `compute_accuracy`, which you recently implemented, and return the overall accuracy."
      ]
    },
    {
      "cell_type": "code",
      "metadata": {
        "id": "AYK8huPSPwb8"
      },
      "source": [
        "# UNQ_C8 (UNIQUE CELL IDENTIFIER, DO NOT EDIT)\n",
        "# GRADED FUNCTION: test_model\n",
        "def test_model(generator, model):\n",
        "    '''\n",
        "    Input: \n",
        "        generator: an iterator instance that provides batches of inputs and targets\n",
        "        model: a model instance \n",
        "    Output: \n",
        "        accuracy: float corresponding to the accuracy\n",
        "    '''\n",
        "    \n",
        "    accuracy = 0.\n",
        "    total_num_correct = 0\n",
        "    total_num_pred = 0\n",
        "    \n",
        "    ### START CODE HERE (Replace instances of 'None' with your code) ###\n",
        "    for batch in generator: \n",
        "        \n",
        "        # Retrieve the inputs from the batch\n",
        "        inputs = batch[0]\n",
        "        \n",
        "        # Retrieve the targets (actual labels) from the batch\n",
        "        targets = batch[1]\n",
        "        \n",
        "        # Retrieve the example weight.\n",
        "        example_weight = batch[2]\n",
        "\n",
        "        # Make predictions using the inputs\n",
        "        pred = model(inputs)\n",
        "        \n",
        "        # Calculate accuracy for the batch by comparing its predictions and targets\n",
        "        batch_accuracy, batch_num_correct, batch_num_pred = compute_accuracy(pred, targets, example_weight)\n",
        "        \n",
        "        # Update the total number of correct predictions\n",
        "        # by adding the number of correct predictions from this batch\n",
        "        total_num_correct += batch_num_correct\n",
        "        \n",
        "        # Update the total number of predictions \n",
        "        # by adding the number of predictions made for the batch\n",
        "        total_num_pred += batch_num_pred\n",
        "\n",
        "    # Calculate accuracy over all examples\n",
        "    accuracy = total_num_correct / total_num_pred\n",
        "    \n",
        "    ### END CODE HERE ###\n",
        "    return accuracy"
      ],
      "execution_count": null,
      "outputs": []
    },
    {
      "cell_type": "code",
      "metadata": {
        "id": "FfHiXNdcQygD",
        "colab": {
          "base_uri": "https://localhost:8080/",
          "height": 35
        },
        "outputId": "49d4cc01-f87d-4af3-a5a0-560ce801d564"
      },
      "source": [
        "# DO NOT EDIT THIS CELL\n",
        "# testing the accuracy of your model: this takes around 20 seconds\n",
        "model = training_loop.eval_model\n",
        "accuracy = test_model(test_generator(16), model)\n",
        "\n",
        "print(f'The accuracy of your model on the validation set is {accuracy:.4f}', )"
      ],
      "execution_count": null,
      "outputs": [
        {
          "output_type": "stream",
          "text": [
            "The accuracy of your model on the validation set is 0.9911\n"
          ],
          "name": "stdout"
        }
      ]
    },
    {
      "cell_type": "markdown",
      "metadata": {
        "id": "F7vAs2q0Q3v1"
      },
      "source": [
        "##### Expected Output (Approximately)"
      ]
    },
    {
      "cell_type": "markdown",
      "metadata": {
        "id": "m7VgGSBdQ4RE"
      },
      "source": [
        "```CPP\n",
        "The accuracy of your model on the validation set is 0.9931\n",
        "```"
      ]
    },
    {
      "cell_type": "markdown",
      "metadata": {
        "id": "zlEC5AWzQ6l8"
      },
      "source": [
        "<a name=\"6\"></a>\n",
        "## Part 6:  Testing with your own input"
      ]
    },
    {
      "cell_type": "markdown",
      "metadata": {
        "id": "oOWlLtaxQ9sU"
      },
      "source": [
        "Finally you will test with your own input. You will see that deep nets are more powerful than the older methods you have used before. Although you go close to 100% accuracy on the first two assignments, the task was way easier. "
      ]
    },
    {
      "cell_type": "code",
      "metadata": {
        "id": "JCeGkSb0Q0td"
      },
      "source": [
        "# this is used to predict on your own sentnece\n",
        "def predict(sentence):\n",
        "  inputs = np.array(tweet_to_tensor(sentence, vocab_dict=vocab))\n",
        "\n",
        "  # Batch size 1, add dimension for batch, to work with the model\n",
        "  inputs = inputs[None, :]\n",
        "\n",
        "  # predict with the model\n",
        "  preds_probs = model(inputs)\n",
        "\n",
        "  # Turn probabilities into categories\n",
        "  preds = int(preds_probs[0, 1] > preds_probs[0, 0])\n",
        "\n",
        "  sentiment = \"negative\"\n",
        "  if preds == 1:\n",
        "    sentiment = \"positive\"\n",
        "\n",
        "  return preds, sentiment"
      ],
      "execution_count": null,
      "outputs": []
    },
    {
      "cell_type": "code",
      "metadata": {
        "id": "NQqpGrEjSUgT",
        "colab": {
          "base_uri": "https://localhost:8080/",
          "height": 228
        },
        "outputId": "8bf92c2b-f51f-4996-9469-9e8e90d0d58c"
      },
      "source": [
        "# try a positive sentence\n",
        "sentence = \"It's such a nice day, think i'll be taking Sid to Ramsgate fish and chips for lunch at Peter's fish factory and then the beach maybe\"\n",
        "tmp_pred, tmp_sentiment = predict(sentence)\n",
        "print(f\"The sentiment of the sentence \\n***\\n\\\"{sentence}\\\"\\n***\\nis {tmp_sentiment}.\")\n",
        "\n",
        "print()\n",
        "# try a negative sentence\n",
        "sentence = \"I hated my day, it was the worst, I'm so sad.\"\n",
        "tmp_pred, tmp_sentiment = predict(sentence)\n",
        "print(f\"The sentiment of the sentence \\n***\\n\\\"{sentence}\\\"\\n***\\nis {tmp_sentiment}.\")"
      ],
      "execution_count": null,
      "outputs": [
        {
          "output_type": "stream",
          "text": [
            "The sentiment of the sentence \n",
            "***\n",
            "\"It's such a nice day, think i'll be taking Sid to Ramsgate fish and chips for lunch at Peter's fish factory and then the beach maybe\"\n",
            "***\n",
            "is positive.\n",
            "\n",
            "The sentiment of the sentence \n",
            "***\n",
            "\"I hated my day, it was the worst, I'm so sad.\"\n",
            "***\n",
            "is negative.\n"
          ],
          "name": "stdout"
        }
      ]
    },
    {
      "cell_type": "markdown",
      "metadata": {
        "id": "IwQvyOX_SneB"
      },
      "source": [
        "Notice that the model works well even for complex sentences."
      ]
    },
    {
      "cell_type": "markdown",
      "metadata": {
        "id": "h-Vpp0yfSpB-"
      },
      "source": [
        "## On Deep Nets"
      ]
    },
    {
      "cell_type": "markdown",
      "metadata": {
        "id": "m_s-IbAmSrLk"
      },
      "source": [
        "Deep nets allow you to understand and capture dependencies that you would have not been able to capture with a simple linear regression, or logistic regression. \n",
        "- It also allows you to better use pre-trained embeddings for classification and tends to generalize better."
      ]
    }
  ]
}