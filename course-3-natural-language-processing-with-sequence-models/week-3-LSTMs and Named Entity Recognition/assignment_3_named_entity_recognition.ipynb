{
  "nbformat": 4,
  "nbformat_minor": 0,
  "metadata": {
    "colab": {
      "name": "assignment-3-named-entity-recognition.ipynb",
      "provenance": [],
      "toc_visible": true,
      "authorship_tag": "ABX9TyOiK2h16T+nsEcT9SsQ41yH",
      "include_colab_link": true
    },
    "kernelspec": {
      "name": "python3",
      "display_name": "Python 3"
    },
    "accelerator": "GPU"
  },
  "cells": [
    {
      "cell_type": "markdown",
      "metadata": {
        "id": "view-in-github",
        "colab_type": "text"
      },
      "source": [
        "<a href=\"https://colab.research.google.com/github/rahiakela/coursera-natural-language-processing-specialization/blob/master/course-3-natural-language-processing-with-sequence-models/week-3-LSTMs%20and%20Named%20Entity%20Recognition/assignment_3_named_entity_recognition.ipynb\" target=\"_parent\"><img src=\"https://colab.research.google.com/assets/colab-badge.svg\" alt=\"Open In Colab\"/></a>"
      ]
    },
    {
      "cell_type": "markdown",
      "metadata": {
        "id": "_p0nce2j559w"
      },
      "source": [
        "## Assignment 3 - Named Entity Recognition (NER)"
      ]
    },
    {
      "cell_type": "markdown",
      "metadata": {
        "id": "Il3Ut0pN563F"
      },
      "source": [
        "Welcome to the third programming assignment of Course 3. In this assignment, you will learn to build more complicated models with Trax. By completing this assignment, you will be able to: \n",
        "\n",
        "- Design the architecture of a neural network, train it, and test it. \n",
        "- Process features and represents them\n",
        "- Understand word padding\n",
        "- Implement LSTMs\n",
        "- Test with your own sentence"
      ]
    },
    {
      "cell_type": "markdown",
      "metadata": {
        "id": "4v_Y39bo6JaS"
      },
      "source": [
        "## Outline"
      ]
    },
    {
      "cell_type": "markdown",
      "metadata": {
        "id": "Nqlcw_db6LZj"
      },
      "source": [
        "- [Introduction](#0)\n",
        "- [Part 1:  Exploring the data](#1)\n",
        "    - [1.1  Importing the Data](#1.1)\n",
        "    - [1.2  Data generator](#1.2)\n",
        "\t\t- [Exercise 01](#ex01)\n",
        "- [Part 2:  Building the model](#2)\n",
        "\t- [Exercise 02](#ex02)\n",
        "- [Part 3:  Train the Model ](#3)\n",
        "\t- [Exercise 03](#ex03)\n",
        "- [Part 4:  Compute Accuracy](#4)\n",
        "\t- [Exercise 04](#ex04)\n",
        "- [Part 5:  Testing with your own sentence](#5)"
      ]
    },
    {
      "cell_type": "markdown",
      "metadata": {
        "id": "Ln70hyqD6TNS"
      },
      "source": [
        "<a name=\"0\"></a>\n",
        "## Introduction"
      ]
    },
    {
      "cell_type": "markdown",
      "metadata": {
        "id": "CFenHahM6Um3"
      },
      "source": [
        "We first start by defining named entity recognition (NER). NER is a subtask of information extraction that locates and classifies named entities in a text. The named entities could be organizations, persons, locations, times, etc. \n",
        "\n",
        "For example:\n",
        "\n",
        "<img src='https://github.com/rahiakela/img-repo/blob/master/deeplearning.ai-NLPS/ner.png?raw=1' width='800'/>\n",
        "\n",
        "Is labeled as follows: \n",
        "\n",
        "- French: geopolitical entity\n",
        "- Morocco: geographic entity \n",
        "- Christmas: time indicator\n",
        "\n",
        "Everything else that is labeled with an `O` is not considered to be a named entity. In this assignment, you will train a named entity recognition system that could be trained in a few seconds (on a GPU) and will get around 75% accuracy. Then, you will load in the exact version of your model, which was trained for a longer period of time. You could then evaluate the trained version of your model to get 96% accuracy! Finally, you will be able to test your named entity recognition system with your own sentence."
      ]
    },
    {
      "cell_type": "markdown",
      "metadata": {
        "id": "lnGsnL6WhuSf"
      },
      "source": [
        "##Setup"
      ]
    },
    {
      "cell_type": "code",
      "metadata": {
        "id": "Pak5xrsS6ays"
      },
      "source": [
        "!pip install trax==1.3.9"
      ],
      "execution_count": null,
      "outputs": []
    },
    {
      "cell_type": "code",
      "metadata": {
        "id": "wTNBSxas9aaC",
        "colab": {
          "base_uri": "https://localhost:8080/",
          "height": 52
        },
        "outputId": "49b0bcc2-9259-47c1-a67e-053442f3f04f"
      },
      "source": [
        "import trax\n",
        "from trax import layers as tl\n",
        "\n",
        "import os \n",
        "import numpy as np\n",
        "import pandas as pd\n",
        "\n",
        "from utils import get_params, get_vocab\n",
        "import random as rnd\n",
        "\n",
        "# set random seeds to make this notebook easier to replicate\n",
        "# trax.supervised.trainer_lib.init_random_number_generators(33)"
      ],
      "execution_count": null,
      "outputs": [
        {
          "output_type": "stream",
          "text": [
            "INFO:tensorflow:tokens_length=568 inputs_length=512 targets_length=114 noise_density=0.15 mean_noise_span_length=3.0 \n"
          ],
          "name": "stdout"
        },
        {
          "output_type": "execute_result",
          "data": {
            "text/plain": [
              "DeviceArray([ 0, 33], dtype=uint32)"
            ]
          },
          "metadata": {
            "tags": []
          },
          "execution_count": 2
        }
      ]
    },
    {
      "cell_type": "markdown",
      "metadata": {
        "id": "R6_rZ4Ls9fbW"
      },
      "source": [
        "<a name=\"1\"></a>\n",
        "## Part 1:  Exploring the data"
      ]
    },
    {
      "cell_type": "markdown",
      "metadata": {
        "id": "TnALqJJe9hIA"
      },
      "source": [
        "We will be using a dataset from Kaggle, which we will preprocess for you. The original data consists of four columns, the sentence number, the word, the part of speech of the word, and the tags.  A few tags you might expect to see are: \n",
        "\n",
        "* geo: geographical entity\n",
        "* org: organization\n",
        "* per: person \n",
        "* gpe: geopolitical entity\n",
        "* tim: time indicator\n",
        "* art: artifact\n",
        "* eve: event\n",
        "* nat: natural phenomenon\n",
        "* O: filler word"
      ]
    },
    {
      "cell_type": "code",
      "metadata": {
        "id": "UwBlr2oI9kO9"
      },
      "source": [
        "import zipfile\n",
        "with zipfile.ZipFile('dataset.zip', 'r') as zip_ref:\n",
        "    zip_ref.extractall(\".\")"
      ],
      "execution_count": null,
      "outputs": []
    },
    {
      "cell_type": "code",
      "metadata": {
        "id": "Z_Xanf3kA9Bd",
        "colab": {
          "base_uri": "https://localhost:8080/",
          "height": 232
        },
        "outputId": "ca473dc5-7104-4aa9-8402-a258aa192b44"
      },
      "source": [
        "# display original kaggle data\n",
        "data = pd.read_csv(\"ner_dataset.csv\", encoding=\"ISO-8859-1\")\n",
        "train_sents = open(\"data/small/train/sentences.txt\", \"r\").readline()\n",
        "train_labels = open(\"data/small/train/labels.txt\", \"r\").readline()\n",
        "\n",
        "print('SENTENCE:', train_sents)\n",
        "print('SENTENCE LABEL:', train_labels)\n",
        "print('ORIGINAL DATA:\\n', data.head(5))\n",
        "del(data, train_sents, train_labels)"
      ],
      "execution_count": null,
      "outputs": [
        {
          "output_type": "stream",
          "text": [
            "SENTENCE: Thousands of demonstrators have marched through London to protest the war in Iraq and demand the withdrawal of British troops from that country .\n",
            "\n",
            "SENTENCE LABEL: O O O O O O B-geo O O O O O B-geo O O O O O B-gpe O O O O O\n",
            "\n",
            "ORIGINAL DATA:\n",
            "     Sentence #           Word  POS Tag\n",
            "0  Sentence: 1      Thousands  NNS   O\n",
            "1          NaN             of   IN   O\n",
            "2          NaN  demonstrators  NNS   O\n",
            "3          NaN           have  VBP   O\n",
            "4          NaN        marched  VBN   O\n"
          ],
          "name": "stdout"
        }
      ]
    },
    {
      "cell_type": "markdown",
      "metadata": {
        "id": "bigtlvpAA8Y5"
      },
      "source": [
        "<a name=\"1.1\"></a>\n",
        "### 1.1  Importing the Data"
      ]
    },
    {
      "cell_type": "markdown",
      "metadata": {
        "id": "P_lC5XWaHiPQ"
      },
      "source": [
        "In this part, we will import the preprocessed data and explore it."
      ]
    },
    {
      "cell_type": "code",
      "metadata": {
        "id": "OGV72QBBHkuE"
      },
      "source": [
        "vocab, tag_map = get_vocab(\"data/large/words.txt\", \"data/large/tags.txt\")\n",
        "t_sentences, t_labels, t_size = get_params(vocab, tag_map, \"data/large/train/sentences.txt\", \"data/large/train/labels.txt\")\n",
        "v_sentences, v_labels, v_size = get_params(vocab, tag_map, \"data/large/val/sentences.txt\", \"data/large/val/labels.txt\")\n",
        "test_sentences, test_labels, test_size = get_params(vocab, tag_map, \"data/large/test/sentences.txt\", \"data/large/test/labels.txt\")"
      ],
      "execution_count": null,
      "outputs": []
    },
    {
      "cell_type": "markdown",
      "metadata": {
        "id": "08qZgErjIeD2"
      },
      "source": [
        "`vocab` is a dictionary that translates a word string to a unique number. Given a sentence, you can represent it as an array of numbers translating with this dictionary. The dictionary contains a `<PAD>` token. \n",
        "\n",
        "When training an LSTM using batches, all your input sentences must be the same size. To accomplish this, you set the length of your sentences to a certain number and add the generic `<PAD>` token to fill all the empty spaces. \n"
      ]
    },
    {
      "cell_type": "code",
      "metadata": {
        "id": "FwWPb3kkJUh9",
        "colab": {
          "base_uri": "https://localhost:8080/",
          "height": 52
        },
        "outputId": "9ca2f961-6b11-4324-c51f-831d1706c459"
      },
      "source": [
        "# vocab translates from a word to a unique number\n",
        "print('vocab[\"the\"]:', vocab['the'])\n",
        "# pad token\n",
        "print('padded token:', vocab['<PAD>'])"
      ],
      "execution_count": null,
      "outputs": [
        {
          "output_type": "stream",
          "text": [
            "vocab[\"the\"]: 9\n",
            "padded token: 35180\n"
          ],
          "name": "stdout"
        }
      ]
    },
    {
      "cell_type": "markdown",
      "metadata": {
        "id": "hSKNyg2uJoix"
      },
      "source": [
        "The tag_map corresponds to one of the possible tags a word can have. Run the cell below to see the possible classes you will be predicting. The prepositions in the tags mean:\n",
        "* I: Token is inside an entity.\n",
        "* B: Token begins an entity."
      ]
    },
    {
      "cell_type": "code",
      "metadata": {
        "id": "QbAeKJoWJ-mh",
        "colab": {
          "base_uri": "https://localhost:8080/",
          "height": 55
        },
        "outputId": "074f0de6-4839-485a-8e05-3e4aa7b633db"
      },
      "source": [
        "print(tag_map)"
      ],
      "execution_count": null,
      "outputs": [
        {
          "output_type": "stream",
          "text": [
            "{'O': 0, 'B-geo': 1, 'B-gpe': 2, 'B-per': 3, 'I-geo': 4, 'B-org': 5, 'I-org': 6, 'B-tim': 7, 'B-art': 8, 'I-art': 9, 'I-per': 10, 'I-gpe': 11, 'I-tim': 12, 'B-nat': 13, 'B-eve': 14, 'I-eve': 15, 'I-nat': 16}\n"
          ],
          "name": "stdout"
        }
      ]
    },
    {
      "cell_type": "markdown",
      "metadata": {
        "id": "izE10s3kKPcK"
      },
      "source": [
        "So the coding scheme that tags the entities is a minimal one where B- indicates the first token in a multi-token entity, and I- indicates one in the middle of a multi-token entity. If you had the sentence \n",
        "\n",
        "**\"Sharon flew to Miami on Friday\"**\n",
        "\n",
        "the outputs would look like:\n",
        "\n",
        "```\n",
        "Sharon B-per\n",
        "flew   O\n",
        "to     O\n",
        "Miami  B-geo\n",
        "on     O\n",
        "Friday B-tim\n",
        "```\n",
        "\n",
        "your tags would reflect three tokens beginning with B-, since there are no multi-token entities in the sequence. But if you added Sharon's last name to the sentence: \n",
        "\n",
        "**\"Sharon Floyd flew to Miami on Friday\"**\n",
        "\n",
        "```\n",
        "Sharon B-per\n",
        "Floyd  I-per\n",
        "flew   O\n",
        "to     O\n",
        "Miami  B-geo\n",
        "on     O\n",
        "Friday B-tim\n",
        "```\n",
        "\n",
        "then your tags would change to show first \"Sharon\" as B-per, and \"Floyd\" as I-per, where I- indicates an inner token in a multi-token sequence.\n",
        "\n",
        "<img src='https://github.com/rahiakela/img-repo/blob/master/deeplearning.ai-NLPS/ner-prep.png?raw=1' width='800'/>"
      ]
    },
    {
      "cell_type": "code",
      "metadata": {
        "id": "T16_nNGqKAL8",
        "colab": {
          "base_uri": "https://localhost:8080/",
          "height": 141
        },
        "outputId": "dac62bde-94af-4253-f1cc-42fab0eeb4b8"
      },
      "source": [
        "# Exploring information about the data\n",
        "print('The number of outputs is tag_map', len(tag_map))\n",
        "# The number of vocabulary tokens (including <PAD>)\n",
        "g_vocab_size = len(vocab)\n",
        "print(f\"Num of vocabulary words: {g_vocab_size}\")\n",
        "print('The vocab size is', len(vocab))\n",
        "print('The training size is', t_size)\n",
        "print('The validation size is', v_size)\n",
        "print('An example of the first sentence is', t_sentences[0])\n",
        "print('An example of its corresponding label is', t_labels[0])"
      ],
      "execution_count": null,
      "outputs": [
        {
          "output_type": "stream",
          "text": [
            "The number of outputs is tag_map 17\n",
            "Num of vocabulary words: 35181\n",
            "The vocab size is 35181\n",
            "The training size is 33570\n",
            "The validation size is 7194\n",
            "An example of the first sentence is [0, 1, 2, 3, 4, 5, 6, 7, 8, 9, 10, 11, 12, 13, 14, 9, 15, 1, 16, 17, 18, 19, 20, 21]\n",
            "An example of its corresponding label is [0, 0, 0, 0, 0, 0, 1, 0, 0, 0, 0, 0, 1, 0, 0, 0, 0, 0, 2, 0, 0, 0, 0, 0]\n"
          ],
          "name": "stdout"
        }
      ]
    },
    {
      "cell_type": "markdown",
      "metadata": {
        "id": "5K9XIoIgKgEB"
      },
      "source": [
        "So you can see that we have already encoded each sentence into a tensor by converting it into a number. We also have 16 possible classes, as shown in the tag map."
      ]
    },
    {
      "cell_type": "markdown",
      "metadata": {
        "id": "GrPrnE3ZKjRt"
      },
      "source": [
        "<a name=\"1.2\"></a>\n",
        "### 1.2  Data generator"
      ]
    },
    {
      "cell_type": "markdown",
      "metadata": {
        "id": "NE1iY2zhKl9I"
      },
      "source": [
        "In python, a generator is a function that behaves like an iterator. It will return the next item. Here is a [link](https://wiki.python.org/moin/Generators) to review python generators. \n",
        "\n",
        "In many AI applications it is very useful to have a data generator. You will now implement a data generator for our NER application."
      ]
    },
    {
      "cell_type": "markdown",
      "metadata": {
        "id": "70othcZVKoaU"
      },
      "source": [
        "<a name=\"ex01\"></a>\n",
        "#### Exercise 01"
      ]
    },
    {
      "cell_type": "markdown",
      "metadata": {
        "id": "z4WvquZrKrt8"
      },
      "source": [
        "**Instructions:** Implement a data generator function that takes in `batch_size, x, y, pad, shuffle` where x is a large list of sentences, and y is a list of the tags associated with those sentences and pad is a pad value. Return a subset of those inputs in a tuple of two arrays `(X,Y)`. Each is an array of dimension (`batch_size, max_len`), where `max_len` is the length of the longest sentence *in that batch*. You will pad the X and Y examples with the pad argument. If `shuffle=True`, the data will be traversed in a random form.\n",
        "\n",
        "**Details:**\n",
        "\n",
        "This code as an outer loop  \n",
        "```\n",
        "while True:  \n",
        "...  \n",
        "yield((X,Y))  \n",
        "```\n",
        "\n",
        "Which runs continuously in the fashion of generators, pausing when yielding the next values. We will generate a batch_size output on each pass of this loop.    \n",
        "\n",
        "It has two inner loops. \n",
        "1. The first stores in temporal lists the data samples to be included in the next batch, and finds the maximum length of the sentences contained in it. By adjusting the length to include only the size of the longest sentence in each batch, overall computation is reduced. \n",
        "\n",
        "2. The second loop moves those inputs from the temporal list into NumPy arrays pre-filled with pad values.\n",
        "\n",
        "There are three slightly out of the ordinary features. \n",
        "1. The first is the use of the NumPy `full` function to fill the NumPy arrays with a pad value. See [full function documentation](https://numpy.org/doc/1.18/reference/generated/numpy.full.html).\n",
        "\n",
        "2. The second is tracking the current location in the incoming lists of sentences. Generators variables hold their values between invocations, so we create an `index` variable, initialize to zero, and increment by one for each sample included in a batch. However, we do not use the `index` to access the positions of the list of sentences directly. Instead, we use it to select one index from a list of indexes. In this way, we can change the order in which we traverse our original list, keeping untouched our original list.  \n",
        "\n",
        "3. The third also relates to wrapping. Because `batch_size` and the length of the input lists are not aligned, gathering a batch_size group of inputs may involve wrapping back to the beginning of the input loop. In our approach, it is just enough to reset the `index` to 0. We can re-shuffle the list of indexes to produce different batches each time."
      ]
    },
    {
      "cell_type": "code",
      "metadata": {
        "id": "sLuPra0GKvXO"
      },
      "source": [
        "# UNQ_C1 (UNIQUE CELL IDENTIFIER, DO NOT EDIT)\n",
        "# GRADED FUNCTION: data_generator\n",
        "def data_generator(batch_size, x, y, pad, shuffle=False, verbose=False):\n",
        "  \"\"\"\n",
        "  Input: \n",
        "    batch_size - integer describing the batch size\n",
        "    x - list containing sentences where words are represented as integers\n",
        "    y - list containing tags associated with the sentences\n",
        "    shuffle - Shuffle the data order\n",
        "    pad - an integer representing a pad character\n",
        "    verbose - Print information during runtime\n",
        "  Output:\n",
        "    a tuple containing 2 elements:\n",
        "    X - np.ndarray of dim (batch_size, max_len) of padded sentences\n",
        "    Y - np.ndarray of dim (batch_size, max_len) of tags associated with the sentences in X\n",
        "  \"\"\"\n",
        "\n",
        "  # count the number of lines in data_lines\n",
        "  num_lines = len(x)\n",
        "  \n",
        "  # create an array with the indexes of data_lines that can be shuffled\n",
        "  lines_index = [*range(num_lines)]\n",
        "  \n",
        "  # shuffle the indexes if shuffle is set to True\n",
        "  if shuffle:\n",
        "      rnd.shuffle(lines_index)\n",
        "  \n",
        "  index = 0 # tracks current location in x, y\n",
        "  while True:\n",
        "      buffer_x = [0] * batch_size # Temporal array to store the raw x data for this batch\n",
        "      buffer_y = [0] * batch_size # Temporal array to store the raw y data for this batch\n",
        "              \n",
        "### START CODE HERE (Replace instances of 'None' with your code) ###\n",
        "      \n",
        "      # Copy into the temporal buffers the sentences in x[index : index + batch_size] \n",
        "      # along with their corresponding labels y[index : index + batch_size]\n",
        "      # Find maximum length of sentences in x[index : index + batch_size] for this batch. \n",
        "      # Reset the index if we reach the end of the data set, and shuffle the indexes if needed.\n",
        "      max_len = 0\n",
        "      for i in range(batch_size):\n",
        "            # if the index is greater than or equal to the number of lines in x\n",
        "          if index >= num_lines:\n",
        "              # then reset the index to 0\n",
        "              index = 0\n",
        "              # re-shuffle the indexes if shuffle is set to True\n",
        "              if shuffle:\n",
        "                  rnd.shuffle(lines_index)\n",
        "          \n",
        "          # The current position is obtained using `lines_index[index]`\n",
        "          # Store the x value at the current position into the buffer_x\n",
        "          buffer_x[i] = x[lines_index[index]]\n",
        "          \n",
        "          # Store the y value at the current position into the buffer_y\n",
        "          buffer_y[i] = y[lines_index[index]]\n",
        "          \n",
        "          lenx = len(x[lines_index[index]])    #length of current x[]\n",
        "          if lenx > max_len:\n",
        "              max_len = lenx                   #max_len tracks longest x[]\n",
        "          \n",
        "          # increment index by one\n",
        "          index += 1\n",
        "\n",
        "\n",
        "      # create X,Y, NumPy arrays of size (batch_size, max_len) 'full' of pad value\n",
        "      X = np.full((batch_size, max_len), pad)\n",
        "      Y = np.full((batch_size, max_len), pad)\n",
        "\n",
        "      # copy values from lists to NumPy arrays. Use the buffered values\n",
        "      for i in range(batch_size):\n",
        "          # get the example (sentence as a tensor)\n",
        "          # in `buffer_x` at the `i` index\n",
        "          x_i = buffer_x[i]\n",
        "          \n",
        "          # similarly, get the example's labels\n",
        "          # in `buffer_y` at the `i` index\n",
        "          y_i = buffer_y[i]\n",
        "          \n",
        "          # Walk through each word in x_i\n",
        "          for j in range(len(x_i)):\n",
        "              # store the word in x_i at position j into X\n",
        "              X[i, j] = x_i[j]\n",
        "              \n",
        "              # store the label in y_i at position j into Y\n",
        "              Y[i, j] = y_i[j]\n",
        "\n",
        "  ### END CODE HERE ###\n",
        "      if verbose: print(\"index=\", index)\n",
        "      yield((X,Y))"
      ],
      "execution_count": null,
      "outputs": []
    },
    {
      "cell_type": "code",
      "metadata": {
        "id": "ZacncT-iFKVk",
        "colab": {
          "base_uri": "https://localhost:8080/",
          "height": 177
        },
        "outputId": "f250b139-03c8-4560-a05f-92279b36bda1"
      },
      "source": [
        "batch_size = 5\n",
        "mini_sentences = t_sentences[0: 8]\n",
        "mini_labels = t_labels[0: 8]\n",
        "dg = data_generator(batch_size, mini_sentences, mini_labels, vocab['<PAD>'], shuffle=False, verbose=True)\n",
        "X1, Y1 = next(dg)\n",
        "X2, Y2 = next(dg)\n",
        "print(Y1.shape, X1.shape, Y2.shape, X2.shape)\n",
        "print(X1[0][:], \"\\n\", Y1[0][:])"
      ],
      "execution_count": null,
      "outputs": [
        {
          "output_type": "stream",
          "text": [
            "index= 5\n",
            "index= 2\n",
            "(5, 30) (5, 30) (5, 30) (5, 30)\n",
            "[    0     1     2     3     4     5     6     7     8     9    10    11\n",
            "    12    13    14     9    15     1    16    17    18    19    20    21\n",
            " 35180 35180 35180 35180 35180 35180] \n",
            " [    0     0     0     0     0     0     1     0     0     0     0     0\n",
            "     1     0     0     0     0     0     2     0     0     0     0     0\n",
            " 35180 35180 35180 35180 35180 35180]\n"
          ],
          "name": "stdout"
        }
      ]
    },
    {
      "cell_type": "markdown",
      "metadata": {
        "id": "fJmimohdGACK"
      },
      "source": [
        "**Expected output:**   \n",
        "```\n",
        "index= 5\n",
        "index= 2\n",
        "(5, 30) (5, 30) (5, 30) (5, 30)\n",
        "[    0     1     2     3     4     5     6     7     8     9    10    11\n",
        "    12    13    14     9    15     1    16    17    18    19    20    21\n",
        " 35180 35180 35180 35180 35180 35180] \n",
        " [    0     0     0     0     0     0     1     0     0     0     0     0\n",
        "     1     0     0     0     0     0     2     0     0     0     0     0\n",
        " 35180 35180 35180 35180 35180 35180]  \n",
        "```"
      ]
    },
    {
      "cell_type": "markdown",
      "metadata": {
        "id": "TrFpo5cpGA9k"
      },
      "source": [
        "<a name=\"2\"></a>\n",
        "## Part 2:  Building the model"
      ]
    },
    {
      "cell_type": "markdown",
      "metadata": {
        "id": "vg1oYJoQGEai"
      },
      "source": [
        "You will now implement the model. You will be using Google's TensorFlow. Your model will be able to distinguish the following:\n",
        "<table>\n",
        "    <tr>\n",
        "        <td>\n",
        "        <img src='https://github.com/rahiakela/img-repo/blob/master/deeplearning.ai-NLPS/ner1.png?raw=1' width=\"width\" height=\"height\" style=\"width:500px;height:150px;\"/>\n",
        "        </td>\n",
        "    </tr>\n",
        "</table>\n",
        "\n",
        "The model architecture will be as follows: \n",
        "\n",
        "<img src='https://github.com/rahiakela/img-repo/blob/master/deeplearning.ai-NLPS/ner2.png?raw=1' width=\"width\" height=\"height\" style=\"width:600px;height:250px;\"/>\n",
        "\n",
        "Concretely: \n",
        "\n",
        "* Use the input tensors you built in your data generator\n",
        "* Feed it into an Embedding layer, to produce more semantic entries\n",
        "* Feed it into an LSTM layer\n",
        "* Run the output through a linear layer\n",
        "* Run the result through a log softmax layer to get the predicted class for each word.\n",
        "\n",
        "Good news! We won't make you implement the LSTM unit drawn above. However, we will ask you to build the model. "
      ]
    },
    {
      "cell_type": "markdown",
      "metadata": {
        "id": "-2HmwveYGNs5"
      },
      "source": [
        "<a name=\"ex02\"></a>\n",
        "### Exercise 02"
      ]
    },
    {
      "cell_type": "markdown",
      "metadata": {
        "id": "DE1giTONGQLm"
      },
      "source": [
        "**Instructions:** Implement the initialization step and the forward function of your Named Entity Recognition system.  \n",
        "Please utilize help function e.g. `help(tl.Dense)` for more information on a layer\n",
        "   \n",
        "- [tl.Serial](https://github.com/google/trax/blob/1372b903bb66b0daccee19fd0b1fdf44f659330b/trax/layers/combinators.py#L26): Combinator that applies layers serially (by function composition).\n",
        "    - You can pass in the layers as arguments to `Serial`, separated by commas. \n",
        "    - For example: `tl.Serial(tl.Embeddings(...), tl.Mean(...), tl.Dense(...), tl.LogSoftmax(...))` \n",
        "\n",
        "\n",
        "-  [tl.Embedding](https://github.com/google/trax/blob/1372b903bb66b0daccee19fd0b1fdf44f659330b/trax/layers/core.py#L113): Initializes the embedding. In this case it is the dimension of the model by the size of the vocabulary. \n",
        "    - `tl.Embedding(vocab_size, d_feature)`.\n",
        "    - `vocab_size` is the number of unique words in the given vocabulary.\n",
        "    - `d_feature` is the number of elements in the word embedding (some choices for a word embedding size range from 150 to 300, for example).\n",
        "    \n",
        "\n",
        "-  [tl.LSTM](https://github.com/google/trax/blob/1372b903bb66b0daccee19fd0b1fdf44f659330b/trax/layers/rnn.py#L87):`Trax` LSTM layer of size d_model. \n",
        "    - `LSTM(n_units)` Builds an LSTM layer of n_cells.\n",
        "\n",
        "\n",
        "\n",
        "-  [tl.Dense](https://github.com/google/trax/blob/1372b903bb66b0daccee19fd0b1fdf44f659330b/trax/layers/core.py#L28):  A dense layer.\n",
        "    - `tl.Dense(n_units)`: The parameter `n_units` is the number of units chosen for this dense layer.  \n",
        "\n",
        "\n",
        "- [tl.LogSoftmax](https://github.com/google/trax/blob/1372b903bb66b0daccee19fd0b1fdf44f659330b/trax/layers/core.py#L242): Log of the output probabilities.\n",
        "    - Here, you don't need to set any parameters for `LogSoftMax()`.\n",
        " \n",
        "\n",
        "**Online documentation**\n",
        "\n",
        "- [tl.Serial](https://trax-ml.readthedocs.io/en/latest/trax.layers.html#module-trax.layers.combinators)\n",
        "\n",
        "- [tl.Embedding](https://trax-ml.readthedocs.io/en/latest/trax.layers.html#trax.layers.core.Embedding)\n",
        "\n",
        "-  [tl.LSTM](https://trax-ml.readthedocs.io/en/latest/trax.layers.html#trax.layers.rnn.LSTM)\n",
        "\n",
        "-  [tl.Dense](https://trax-ml.readthedocs.io/en/latest/trax.layers.html#trax.layers.core.Dense)\n",
        "\n",
        "- [tl.LogSoftmax](https://trax-ml.readthedocs.io/en/latest/trax.layers.html#trax.layers.core.LogSoftmax)  "
      ]
    },
    {
      "cell_type": "code",
      "metadata": {
        "id": "sUBpBOc7Fx2a"
      },
      "source": [
        "# UNQ_C2 (UNIQUE CELL IDENTIFIER, DO NOT EDIT)\n",
        "# GRADED FUNCTION: NER\n",
        "def NER(vocab_size=35181, d_model=50, tags=tag_map):\n",
        "  \"\"\"\n",
        "  Input: \n",
        "    vocab_size - integer containing the size of the vocabulary\n",
        "    d_model - integer describing the embedding size\n",
        "  Output:\n",
        "    model - a trax serial model\n",
        "  \"\"\"\n",
        "\n",
        "  ### START CODE HERE (Replace instances of 'None' with your code) ###\n",
        "  model = tl.Serial(\n",
        "      tl.Embedding(vocab_size, d_model), # Embedding layer\n",
        "      tl.LSTM(d_model),                  # LSTM layer  \n",
        "      tl.Dense(len(tags)),               # Dense layer with len(tags) units\n",
        "      tl.LogSoftmax()                    # LogSoftmax layer\n",
        "  )\n",
        "  ### END CODE HERE ###\n",
        "\n",
        "  return model"
      ],
      "execution_count": null,
      "outputs": []
    },
    {
      "cell_type": "code",
      "metadata": {
        "id": "0xOWmfYiJxy7",
        "colab": {
          "base_uri": "https://localhost:8080/",
          "height": 124
        },
        "outputId": "30875660-e73d-4841-a407-24f3c3707375"
      },
      "source": [
        "# initializing your model\n",
        "model = NER()\n",
        "# display your model\n",
        "print(model)"
      ],
      "execution_count": null,
      "outputs": [
        {
          "output_type": "stream",
          "text": [
            "Serial[\n",
            "  Embedding_35181_50\n",
            "  LSTM_50\n",
            "  Dense_17\n",
            "  LogSoftmax\n",
            "]\n"
          ],
          "name": "stdout"
        }
      ]
    },
    {
      "cell_type": "markdown",
      "metadata": {
        "id": "0mzlDQo7KBTC"
      },
      "source": [
        "**Expected output:**  \n",
        "```\n",
        "Serial[\n",
        "  Embedding_35181_50\n",
        "  LSTM_50\n",
        "  Dense_17\n",
        "  LogSoftmax\n",
        "]\n",
        "```  \n"
      ]
    },
    {
      "cell_type": "markdown",
      "metadata": {
        "id": "7ikSLHn1KBy0"
      },
      "source": [
        "<a name=\"3\"></a>\n",
        "## Part 3:  Train the Model "
      ]
    },
    {
      "cell_type": "markdown",
      "metadata": {
        "id": "PEfaGO03KFCo"
      },
      "source": [
        "This section will train your model.\n",
        "\n",
        "Before you start, you need to create the data generators for training and validation data. It is important that you mask padding in the loss weights of your data, which can be done using the `id_to_mask` argument of `trax.supervised.inputs.add_loss_weights`."
      ]
    },
    {
      "cell_type": "code",
      "metadata": {
        "id": "6EM1c3dYJ4ee"
      },
      "source": [
        "from trax.supervised import training\n",
        "\n",
        "rnd.seed(33)\n",
        "\n",
        "batch_size = 64"
      ],
      "execution_count": null,
      "outputs": []
    },
    {
      "cell_type": "code",
      "metadata": {
        "id": "JKtDt6KHgbcX"
      },
      "source": [
        "# Create training data, mask pad id=35180 for training.\n",
        "train_generator = trax.supervised.inputs.add_loss_weights(data_generator(batch_size, t_sentences, t_labels, vocab['<PAD>'], True),\n",
        "                                                          id_to_mask=vocab['<PAD>'])\n",
        "# Create validation data, mask pad id=35180 for training.\n",
        "eval_generator = trax.supervised.inputs.add_loss_weights(data_generator(batch_size, v_sentences, v_labels, vocab['<PAD>'], True),\n",
        "                                                          id_to_mask=vocab['<PAD>'])"
      ],
      "execution_count": null,
      "outputs": []
    },
    {
      "cell_type": "markdown",
      "metadata": {
        "id": "Ri6SFmpThtaP"
      },
      "source": [
        "<a name='3.1'></a>\n",
        "### 3.1 Training the model"
      ]
    },
    {
      "cell_type": "markdown",
      "metadata": {
        "id": "iB7uakgchvrN"
      },
      "source": [
        "You will now write a function that takes in your model and trains it.\n",
        "\n",
        "As you've seen in the previous assignments, you will first create the [TrainTask](https://trax-ml.readthedocs.io/en/stable/trax.supervised.html#trax.supervised.training.TrainTask) and [EvalTask](https://trax-ml.readthedocs.io/en/stable/trax.supervised.html#trax.supervised.training.EvalTask) using your data generator. Then you will use the `training.Loop` to train your model."
      ]
    },
    {
      "cell_type": "markdown",
      "metadata": {
        "id": "v5J_1rTNhy8v"
      },
      "source": [
        "<a name=\"ex03\"></a>\n",
        "#### Exercise 03"
      ]
    },
    {
      "cell_type": "markdown",
      "metadata": {
        "id": "G5Rx-N4Jh2LB"
      },
      "source": [
        "**Instructions:** Implement the `train_model` program below to train the neural network above. Here is a list of things you should do: \n",
        "- Create the trainer object by calling [`trax.supervised.training.Loop`](https://trax-ml.readthedocs.io/en/latest/trax.supervised.html#trax.supervised.training.Loop) and pass in the following:\n",
        "\n",
        "    - model = [NER](#ex02)\n",
        "    - [training task](https://trax-ml.readthedocs.io/en/latest/trax.supervised.html#trax.supervised.training.TrainTask) that uses the train data generator defined in the cell above\n",
        "        - loss_layer = [tl.CrossEntropyLoss()](https://github.com/google/trax/blob/22765bb18608d376d8cd660f9865760e4ff489cd/trax/layers/metrics.py#L71)\n",
        "        - optimizer = [trax.optimizers.Adam(0.01)](https://github.com/google/trax/blob/03cb32995e83fc1455b0c8d1c81a14e894d0b7e3/trax/optimizers/adam.py#L23)\n",
        "    - [evaluation task](https://trax-ml.readthedocs.io/en/latest/trax.supervised.html#trax.supervised.training.EvalTask) that uses the validation data generator defined in the cell above\n",
        "        - metrics for `EvalTask`: `tl.CrossEntropyLoss()` and `tl.Accuracy()`\n",
        "        - in `EvalTask` set `n_eval_batches=10` for better evaluation accuracy\n",
        "    - output_dir = output_dir\n",
        "\n",
        "You'll be using a [cross entropy loss](https://trax-ml.readthedocs.io/en/latest/trax.layers.html#trax.layers.metrics.CrossEntropyLoss), with an [Adam optimizer](https://trax-ml.readthedocs.io/en/latest/trax.optimizers.html#trax.optimizers.adam.Adam). Please read the [trax](https://trax-ml.readthedocs.io/en/latest/trax.html) documentation to get a full understanding. The [trax GitHub](https://github.com/google/trax) also contains some useful information and a link to a colab notebook."
      ]
    },
    {
      "cell_type": "code",
      "metadata": {
        "id": "Ep8gAD6thpyy"
      },
      "source": [
        "# UNQ_C3 (UNIQUE CELL IDENTIFIER, DO NOT EDIT)\n",
        "# GRADED FUNCTION: train_model\n",
        "def train_model(NER, train_generator, eval_generator, train_steps=1, output_dir='model'):\n",
        "  \"\"\"\n",
        "  Input: \n",
        "      NER - the model you are building\n",
        "      train_generator - The data generator for training examples\n",
        "      eval_generator - The data generator for validation examples,\n",
        "      train_steps - number of training steps\n",
        "      output_dir - folder to save your model\n",
        "  Output:\n",
        "      training_loop - a trax supervised training Loop\n",
        "  \"\"\"\n",
        "\n",
        "  ### START CODE HERE (Replace instances of 'None' with your code) ###\n",
        "\n",
        "  train_task = training.TrainTask(\n",
        "      train_generator,                      # A train data generator\n",
        "      loss_layer=tl.CrossEntropyLoss(),     # A cross-entropy loss function\n",
        "      optimizer=trax.optimizers.Adam(0.01)  # The adam optimizer\n",
        "  )\n",
        "\n",
        "  eval_task = training.EvalTask(\n",
        "      labeled_data=eval_generator,                    # A labeled data generator\n",
        "      metrics=[tl.CrossEntropyLoss(), tl.Accuracy()], # Evaluate with cross-entropy loss and accuracy\n",
        "      n_eval_batches=10                               # Number of batches to use on each evaluation\n",
        "  )\n",
        "\n",
        "  training_loop = training.Loop(NER, train_task, eval_task=eval_task, output_dir=output_dir)\n",
        "  # Train with train_steps\n",
        "  training_loop.run(n_steps=train_steps)\n",
        "\n",
        "  ### END CODE HERE ###\n",
        "\n",
        "  return training_loop"
      ],
      "execution_count": null,
      "outputs": []
    },
    {
      "cell_type": "markdown",
      "metadata": {
        "id": "WFIb6wnClea7"
      },
      "source": [
        "On your local machine, you can run this training for 1000 train_steps and get your own model. \n",
        "\n",
        "This training takes about 5 to 10 minutes to run."
      ]
    },
    {
      "cell_type": "code",
      "metadata": {
        "id": "pty7A5BjlXEM",
        "colab": {
          "base_uri": "https://localhost:8080/",
          "height": 124
        },
        "outputId": "089bf3f1-334f-418e-f4b3-5588c66b802c"
      },
      "source": [
        "train_steps = 100             # In coursera we can only train 100 steps\n",
        "!rm -f 'model/model.pkl.gz'   # Remove old model.pkl if it exists\n",
        "\n",
        "# Train the model\n",
        "training_loop = train_model(NER(), train_generator, eval_generator, train_steps)"
      ],
      "execution_count": null,
      "outputs": [
        {
          "output_type": "stream",
          "text": [
            "Step      1: train CrossEntropyLoss |  2.89228654\n",
            "Step      1: eval  CrossEntropyLoss |  1.91789842\n",
            "Step      1: eval          Accuracy |  0.66664735\n",
            "Step    100: train CrossEntropyLoss |  0.60055083\n",
            "Step    100: eval  CrossEntropyLoss |  0.36314735\n",
            "Step    100: eval          Accuracy |  0.91259871\n"
          ],
          "name": "stdout"
        }
      ]
    },
    {
      "cell_type": "markdown",
      "metadata": {
        "id": "XEeNgr4FmKp-"
      },
      "source": [
        "**Expected output (Approximately)**\n",
        "\n",
        "```\n",
        "...\n",
        "Step      1: train CrossEntropyLoss |  2.94375849\n",
        "Step      1: eval  CrossEntropyLoss |  1.93172036\n",
        "Step      1: eval          Accuracy |  0.78727312\n",
        "Step    100: train CrossEntropyLoss |  0.57727730\n",
        "Step    100: eval  CrossEntropyLoss |  0.36356260\n",
        "Step    100: eval          Accuracy |  0.90943187\n",
        "...\n",
        "```\n",
        "This value may change between executions, but it must be around 90% of accuracy on train and validations sets, after 100 training steps.\n",
        "\n",
        "Let's train it for 1000 epoch.\n"
      ]
    },
    {
      "cell_type": "code",
      "metadata": {
        "id": "Vd3swkx8mG3u",
        "colab": {
          "base_uri": "https://localhost:8080/",
          "height": 604
        },
        "outputId": "2fe43c40-99d1-48ec-dd4f-2bdf6fc8b6a2"
      },
      "source": [
        "train_steps = 1000            \n",
        "!rm -f 'model/model2.pkl.gz'   # Remove old model.pkl if it exists\n",
        "\n",
        "# Train the model\n",
        "training_loop = train_model(NER(), train_generator, eval_generator, train_steps)"
      ],
      "execution_count": null,
      "outputs": [
        {
          "output_type": "stream",
          "text": [
            "Step      1: train CrossEntropyLoss |  2.38728118\n",
            "Step      1: eval  CrossEntropyLoss |  1.54533528\n",
            "Step      1: eval          Accuracy |  0.81785378\n",
            "Step    100: train CrossEntropyLoss |  0.57730359\n",
            "Step    100: eval  CrossEntropyLoss |  0.36775450\n",
            "Step    100: eval          Accuracy |  0.90697797\n",
            "Step    200: train CrossEntropyLoss |  0.29412484\n",
            "Step    200: eval  CrossEntropyLoss |  0.24479663\n",
            "Step    200: eval          Accuracy |  0.93568764\n",
            "Step    300: train CrossEntropyLoss |  0.22349979\n",
            "Step    300: eval  CrossEntropyLoss |  0.20877587\n",
            "Step    300: eval          Accuracy |  0.93900917\n",
            "Step    400: train CrossEntropyLoss |  0.19628842\n",
            "Step    400: eval  CrossEntropyLoss |  0.17702150\n",
            "Step    400: eval          Accuracy |  0.94797196\n",
            "Step    500: train CrossEntropyLoss |  0.16707774\n",
            "Step    500: eval  CrossEntropyLoss |  0.16908250\n",
            "Step    500: eval          Accuracy |  0.95111343\n",
            "Step    600: train CrossEntropyLoss |  0.15390672\n",
            "Step    600: eval  CrossEntropyLoss |  0.17948669\n",
            "Step    600: eval          Accuracy |  0.94834677\n",
            "Step    700: train CrossEntropyLoss |  0.14980070\n",
            "Step    700: eval  CrossEntropyLoss |  0.16354338\n",
            "Step    700: eval          Accuracy |  0.95190009\n",
            "Step    800: train CrossEntropyLoss |  0.14288138\n",
            "Step    800: eval  CrossEntropyLoss |  0.15387155\n",
            "Step    800: eval          Accuracy |  0.95437207\n",
            "Step    900: train CrossEntropyLoss |  0.13674827\n",
            "Step    900: eval  CrossEntropyLoss |  0.15645118\n",
            "Step    900: eval          Accuracy |  0.95336386\n",
            "Step   1000: train CrossEntropyLoss |  0.12757833\n",
            "Step   1000: eval  CrossEntropyLoss |  0.14729911\n",
            "Step   1000: eval          Accuracy |  0.95668079\n"
          ],
          "name": "stdout"
        }
      ]
    },
    {
      "cell_type": "markdown",
      "metadata": {
        "id": "hAZARLCompzJ"
      },
      "source": [
        "We have trained the model longer, and we give you such a trained model. In that way, we ensure you can continue with the rest of the assignment even if you had some troubles up to here, and also we are sure that everybody will get the same outputs for the last example. However, you are free to try your model, as well. "
      ]
    },
    {
      "cell_type": "code",
      "metadata": {
        "id": "Lt5ugOb0nWqZ"
      },
      "source": [
        "# loading in a pretrained model..\n",
        "model = NER()\n",
        "model.init(trax.shapes.ShapeDtype((1, 1), dtype=np.int32))\n",
        "\n",
        "# Load the pretrained model\n",
        "model.init_from_file(\"model/model.pkl.gz\", weights_only=True)"
      ],
      "execution_count": null,
      "outputs": []
    },
    {
      "cell_type": "markdown",
      "metadata": {
        "id": "_iS0VKGwnxbf"
      },
      "source": [
        "<a name=\"4\"></a>\n",
        "## Part 4:  Compute Accuracy"
      ]
    },
    {
      "cell_type": "markdown",
      "metadata": {
        "id": "zel4AIH2n28Y"
      },
      "source": [
        "You will now evaluate in the test set. Previously, you have seen the accuracy on the training set and the validation (noted as eval) set. You will now evaluate on your test set. To get a good evaluation, you will need to create a mask to avoid counting the padding tokens when computing the accuracy. "
      ]
    },
    {
      "cell_type": "markdown",
      "metadata": {
        "id": "hUTPEiVin5XQ"
      },
      "source": [
        "<a name=\"ex04\"></a>\n",
        "### Exercise 04"
      ]
    },
    {
      "cell_type": "markdown",
      "metadata": {
        "id": "td2J7XQFn7mE"
      },
      "source": [
        "**Instructions:** Write a program that takes in your model and uses it to evaluate on the test set. You should be able to get an accuracy of 95%.  "
      ]
    },
    {
      "cell_type": "markdown",
      "metadata": {
        "id": "oGhLSxDDoJIG"
      },
      "source": [
        "<details>    \n",
        "<summary>\n",
        "    <font size=\"3\" color=\"darkgreen\"><b>More Detailed Instructions </b></font>\n",
        "</summary>\n",
        "\n",
        "* *Step 1*: model(sentences) will give you the predicted output. \n",
        "\n",
        "* *Step 2*: Prediction will produce an output with an added dimension. For each sentence, for each word, there will be a vector of probabilities for each tag type. For each sentence,word, you need to pick the maximum valued tag. This will require `np.argmax` and careful use of the `axis` argument.\n",
        "* *Step 3*: Create a mask to prevent counting pad characters. It has the same dimension as output. An example below on matrix comparison provides a hint.\n",
        "* *Step 4*: Compute the accuracy metric by comparing your outputs against your test labels. Take the sum of that and divide by the total number of **unpadded** tokens. Use your mask value to mask the padded tokens. Return the accuracy. \n",
        "</detail>"
      ]
    },
    {
      "cell_type": "code",
      "metadata": {
        "id": "Lva2fSJaoM8D",
        "colab": {
          "base_uri": "https://localhost:8080/",
          "height": 35
        },
        "outputId": "58c5aa07-d9db-4e03-ed23-6111ec42823e"
      },
      "source": [
        "# Example of a comparision on a matrix \n",
        "a = np.array([1, 2, 3, 4])\n",
        "a == 2"
      ],
      "execution_count": null,
      "outputs": [
        {
          "output_type": "execute_result",
          "data": {
            "text/plain": [
              "array([False,  True, False, False])"
            ]
          },
          "metadata": {
            "tags": []
          },
          "execution_count": 25
        }
      ]
    },
    {
      "cell_type": "code",
      "metadata": {
        "id": "zVwc2E6Bpq4G",
        "colab": {
          "base_uri": "https://localhost:8080/",
          "height": 35
        },
        "outputId": "f36bfb24-c933-481b-a2c2-e572c4f36472"
      },
      "source": [
        "# create the evaluation inputs\n",
        "x, y = next(data_generator(len(test_sentences), test_sentences, test_labels, vocab['<PAD>']))\n",
        "print(\"Input shapes: \", x.shape, y.shape)"
      ],
      "execution_count": null,
      "outputs": [
        {
          "output_type": "stream",
          "text": [
            "Input shapes:  (7194, 70) (7194, 70)\n"
          ],
          "name": "stdout"
        }
      ]
    },
    {
      "cell_type": "code",
      "metadata": {
        "id": "qf6p39AjqC_P",
        "colab": {
          "base_uri": "https://localhost:8080/",
          "height": 52
        },
        "outputId": "db1c7bc5-acb0-4df4-d3e7-7874d113ed40"
      },
      "source": [
        "# sample prediction\n",
        "tmp_pred = model(x)\n",
        "print(type(tmp_pred))\n",
        "print(f\"tmp_pred has shape: {tmp_pred.shape}\")"
      ],
      "execution_count": null,
      "outputs": [
        {
          "output_type": "stream",
          "text": [
            "<class 'jax.interpreters.xla.DeviceArray'>\n",
            "tmp_pred has shape: (7194, 70, 17)\n"
          ],
          "name": "stdout"
        }
      ]
    },
    {
      "cell_type": "markdown",
      "metadata": {
        "id": "HBzkHnWYqiY1"
      },
      "source": [
        "Note that the model's prediction has 3 axes: \n",
        "- the number of examples\n",
        "- the number of words in each example (padded to be as long as the longest sentence in the batch)\n",
        "- the number of possible targets (the 17 named entity tags)."
      ]
    },
    {
      "cell_type": "code",
      "metadata": {
        "id": "zq3UKmXkqT2O"
      },
      "source": [
        "# UNQ_C4 (UNIQUE CELL IDENTIFIER, DO NOT EDIT)\n",
        "# GRADED FUNCTION: evaluate_prediction\n",
        "def evaluate_prediction(pred, labels, pad):\n",
        "  \"\"\"\n",
        "  Inputs:\n",
        "      pred: prediction array with shape (num examples, max sentence length in batch, num of classes)\n",
        "      labels: array of size (batch_size, seq_len)\n",
        "      pad: integer representing pad character\n",
        "  Outputs:\n",
        "      accuracy: float\n",
        "  \"\"\"\n",
        "  ### START CODE HERE (Replace instances of 'None' with your code) ###\n",
        "\n",
        "  ## step 1 ##\n",
        "  outputs = np.argmax(pred, axis=2)\n",
        "  print(\"outputs shape: \", outputs.shape)\n",
        "\n",
        "  ## step 2 ##\n",
        "  mask = labels != pad\n",
        "  print(\"mask shape:\", mask.shape, \"mask[0][20:30]:\", mask[0][20:30])\n",
        "\n",
        "  ## step 3 ##\n",
        "  accuracy = np.sum(outputs==labels) / float(np.sum(mask))\n",
        "\n",
        "  ### END CODE HERE ###\n",
        "\n",
        "  return accuracy"
      ],
      "execution_count": null,
      "outputs": []
    },
    {
      "cell_type": "code",
      "metadata": {
        "id": "vv_QCxTvum1R",
        "colab": {
          "base_uri": "https://localhost:8080/",
          "height": 70
        },
        "outputId": "fbe4f1d8-f154-46be-dae4-831396be014c"
      },
      "source": [
        "accuracy = evaluate_prediction(model(x), y, vocab['<PAD>'])\n",
        "print(\"accuracy: \", accuracy)"
      ],
      "execution_count": null,
      "outputs": [
        {
          "output_type": "stream",
          "text": [
            "outputs shape:  (7194, 70)\n",
            "mask shape: (7194, 70) mask[0][20:30]: [ True  True  True False False False False False False False]\n",
            "accuracy:  0.9554450375718474\n"
          ],
          "name": "stdout"
        }
      ]
    },
    {
      "cell_type": "markdown",
      "metadata": {
        "id": "DiGsoLMqvHbu"
      },
      "source": [
        "**Expected output (Approximately)**   \n",
        "```\n",
        "outputs shape: (7194, 70)\n",
        "mask shape: (7194, 70) mask[0][20:30]: [ True  True  True False False False False False False False]\n",
        "accuracy:  0.9543761281155191\n",
        "```\n"
      ]
    },
    {
      "cell_type": "markdown",
      "metadata": {
        "id": "8Cav8C1DvImN"
      },
      "source": [
        "<a name=\"5\"></a>\n",
        "## Part 5:  Testing with your own sentence"
      ]
    },
    {
      "cell_type": "markdown",
      "metadata": {
        "id": "4Djddj0ovLk7"
      },
      "source": [
        "Below, you can test it out with your own sentence! "
      ]
    },
    {
      "cell_type": "code",
      "metadata": {
        "id": "4T_M7Ybsu19h"
      },
      "source": [
        "# This is the function you will be using to test your own sentence.\n",
        "def predict(sentence, model, vocab, tag_map):\n",
        "  s = [vocab[token] if token in vocab else vocab['UNK'] for token in sentence.split(' ')]\n",
        "  batch_data = np.ones((1, len(s)))\n",
        "  batch_data[0][:] = s\n",
        "\n",
        "  sentence = np.array(batch_data).astype(int)\n",
        "  output = model(sentence)\n",
        "  outputs = np.argmax(output, axis=2)\n",
        "  labels = list(tag_map.keys())\n",
        "\n",
        "  pred = []\n",
        "  for i in range(len(outputs[0])):\n",
        "    idx = outputs[0][i]\n",
        "    pred_label = labels[idx]\n",
        "    pred.append(pred_label)\n",
        "  \n",
        "  return pred"
      ],
      "execution_count": null,
      "outputs": []
    },
    {
      "cell_type": "code",
      "metadata": {
        "id": "IlIUIfdawe_I",
        "colab": {
          "base_uri": "https://localhost:8080/",
          "height": 70
        },
        "outputId": "031b402b-0beb-4a2e-f936-235fa8e5dd0f"
      },
      "source": [
        "# Try the output for the introduction example\n",
        "sentence = \"Many French citizens are goin to visit Morocco for summer\"\n",
        "s = [vocab[token] if token in vocab else vocab['UNK'] for token in sentence.split(' ')]\n",
        "predictions = predict(sentence, model, vocab, tag_map)\n",
        "for x, y in zip(sentence.split(' '), predictions):\n",
        "   if y != 'O':\n",
        "     print(x, y)"
      ],
      "execution_count": null,
      "outputs": [
        {
          "output_type": "stream",
          "text": [
            "French B-gpe\n",
            "Morocco B-geo\n",
            "summer B-tim\n"
          ],
          "name": "stdout"
        }
      ]
    },
    {
      "cell_type": "code",
      "metadata": {
        "id": "pHq3rbayxYTg",
        "colab": {
          "base_uri": "https://localhost:8080/",
          "height": 70
        },
        "outputId": "b9828819-c1db-40f9-841f-9c4d605faf14"
      },
      "source": [
        "sentence = \"Sharon Floyd flew to Miami last Friday\"\n",
        "s = [vocab[token] if token in vocab else vocab['UNK'] for token in sentence.split(' ')]\n",
        "predictions = predict(sentence, model, vocab, tag_map)\n",
        "for x, y in zip(sentence.split(' '), predictions):\n",
        "   if y != 'O':\n",
        "     print(x, y)"
      ],
      "execution_count": null,
      "outputs": [
        {
          "output_type": "stream",
          "text": [
            "Sharon B-per\n",
            "Miami B-geo\n",
            "Friday B-tim\n"
          ],
          "name": "stdout"
        }
      ]
    },
    {
      "cell_type": "code",
      "metadata": {
        "id": "s5pjSkUdxUEg",
        "colab": {
          "base_uri": "https://localhost:8080/",
          "height": 159
        },
        "outputId": "9e031835-84fb-4a58-8774-0783e0c1f71d"
      },
      "source": [
        "# New york times news:\n",
        "sentence = \"Peter Navarro, the White House director of trade and manufacturing policy of U.S, said in an interview on Sunday morning that the White House was working to prepare for the possibility of a second wave of the coronavirus in the fall, though he said it wouldn’t necessarily come\"\n",
        "s = [vocab[token] if token in vocab else vocab['UNK'] for token in sentence.split(' ')]\n",
        "predictions = predict(sentence, model, vocab, tag_map)\n",
        "for x, y in zip(sentence.split(' '), predictions):\n",
        "   if y != 'O':\n",
        "     print(x, y)"
      ],
      "execution_count": null,
      "outputs": [
        {
          "output_type": "stream",
          "text": [
            "Peter B-per\n",
            "Navarro, I-per\n",
            "White B-org\n",
            "House I-org\n",
            "Sunday B-tim\n",
            "morning I-tim\n",
            "White B-org\n",
            "House I-org\n"
          ],
          "name": "stdout"
        }
      ]
    },
    {
      "cell_type": "markdown",
      "metadata": {
        "id": "I7T-XidIydbI"
      },
      "source": [
        "**Expected Results**\n",
        "\n",
        "```\n",
        "Peter B-per\n",
        "Navarro, I-per\n",
        "White B-org\n",
        "House I-org\n",
        "Sunday B-tim\n",
        "morning I-tim\n",
        "White B-org\n",
        "House I-org\n",
        "coronavirus B-tim\n",
        "fall, B-tim\n",
        "```"
      ]
    }
  ]
}