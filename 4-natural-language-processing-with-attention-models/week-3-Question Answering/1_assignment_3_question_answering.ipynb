{
  "nbformat": 4,
  "nbformat_minor": 0,
  "metadata": {
    "colab": {
      "name": "1-assignment-3-question-answering.ipynb",
      "provenance": [],
      "toc_visible": true,
      "authorship_tag": "ABX9TyN65fhw+fA4nvkE654zTJJa",
      "include_colab_link": true
    },
    "kernelspec": {
      "name": "python3",
      "display_name": "Python 3"
    },
    "accelerator": "GPU"
  },
  "cells": [
    {
      "cell_type": "markdown",
      "metadata": {
        "id": "view-in-github",
        "colab_type": "text"
      },
      "source": [
        "<a href=\"https://colab.research.google.com/github/rahiakela/coursera-natural-language-processing-specialization/blob/4-natural-language-processing-with-attention-models/week-3/1_assignment_3_question_answering.ipynb\" target=\"_parent\"><img src=\"https://colab.research.google.com/assets/colab-badge.svg\" alt=\"Open In Colab\"/></a>"
      ]
    },
    {
      "cell_type": "markdown",
      "metadata": {
        "id": "MW224V8kJgBb"
      },
      "source": [
        "# Assignment 3: Question Answering"
      ]
    },
    {
      "cell_type": "markdown",
      "metadata": {
        "id": "gx6iGbxgJh_b"
      },
      "source": [
        "Welcome to this week's assignment of course 4. In this you will explore question answering. You will implement the \"Text to Text Transfer from Transformers\" (better known as T5). Since you implemented transformers from scratch last week you will now be able to use them. \n",
        "\n",
        "<img src='https://github.com/rahiakela/img-repo/blob/master/deeplearning.ai-NLPS/qa.png?raw=1' width='800'/>"
      ]
    },
    {
      "cell_type": "markdown",
      "metadata": {
        "id": "8MJ2w9S2KXSZ"
      },
      "source": [
        "## Outline"
      ]
    },
    {
      "cell_type": "markdown",
      "metadata": {
        "id": "ebO8uNysKXyw"
      },
      "source": [
        "- [Overview](#0)\n",
        "- [Part 0: Importing the Packages](#0)\n",
        "- [Part 1: C4 Dataset](#1)\n",
        "    - [1.1 Pre-Training Objective](#1.1)\n",
        "    - [1.2 Process C4](#1.2)\n",
        "        - [1.2.1 Decode to natural language](#1.2.1)\n",
        "    - [1.3 Tokenizing and Masking](#1.3)\n",
        "        - [Exercise 01](#ex01)\n",
        "    - [1.4 Creating the Pairs](#1.4)\n",
        "- [Part 2: Transfomer](#2)\n",
        "    - [2.1 Transformer Encoder](#2.1)\n",
        "        - [2.1.1 The Feedforward Block](#2.1.1)\n",
        "            - [Exercise 02](#ex02)\n",
        "        - [2.1.2 The Encoder Block](#2.1.2)\n",
        "            - [Exercise 03](#ex03)\n",
        "        - [2.1.3 The Transformer Encoder](#2.1.3)            \n",
        "            - [Exercise 04](#ex04)"
      ]
    },
    {
      "cell_type": "markdown",
      "metadata": {
        "id": "i5TaYZ-eKbi2"
      },
      "source": [
        "<a name='0'></a>\n",
        "## Overview"
      ]
    },
    {
      "cell_type": "markdown",
      "metadata": {
        "id": "C3hvMahLKfdA"
      },
      "source": [
        "This assignment will be different from the two previous ones. Due to memory and time constraints of this environment you will not be able to train a model and use it for inference. Instead you will create the necessary building blocks for the transformer encoder model and will use a pretrained version of the same model in two ungraded labs after this assignment.\n",
        "\n",
        "After completing these 3 (1 graded and 2 ungraded) labs you will:\n",
        "* Implement the code neccesary for Bidirectional Encoder Representation from Transformer (BERT).\n",
        "* Understand how the C4 dataset is structured.\n",
        "* Use a pretrained model for inference.\n",
        "* Understand how the \"Text to Text Transfer from Transformers\" or T5 model works. "
      ]
    },
    {
      "cell_type": "markdown",
      "metadata": {
        "id": "fdY2izpSKh3m"
      },
      "source": [
        "<a name='0'></a>\n",
        "## Part 0: Importing the Packages"
      ]
    },
    {
      "cell_type": "code",
      "metadata": {
        "id": "HPAtWWy1Kx5X"
      },
      "source": [
        "!pip install trax==1.3.4"
      ],
      "execution_count": null,
      "outputs": []
    },
    {
      "cell_type": "code",
      "metadata": {
        "id": "SQc3q6BaKpJi"
      },
      "source": [
        "import ast\n",
        "import string\n",
        "import textwrap\n",
        "import itertools\n",
        "import numpy as np\n",
        "\n",
        "import trax \n",
        "from trax import layers as tl\n",
        "from trax.supervised import decoding\n",
        "\n",
        "# Will come handy later.\n",
        "wrapper = textwrap.TextWrapper(width=70)\n",
        "\n",
        "# Set random seed\n",
        "np.random.seed(42)"
      ],
      "execution_count": 2,
      "outputs": []
    },
    {
      "cell_type": "markdown",
      "metadata": {
        "id": "N7LpuyHfKuv5"
      },
      "source": [
        "<a name='1'></a>\n",
        "## Part 1: C4 Dataset"
      ]
    },
    {
      "cell_type": "markdown",
      "metadata": {
        "id": "UHaYlRqmKvbq"
      },
      "source": [
        "The [C4](https://www.tensorflow.org/datasets/catalog/c4) is a huge data set. For the purpose of this assignment you will use a few examples out of it which are present in `data.txt`. C4 is based on the [common crawl](https://commoncrawl.org/) project. Feel free to read more on their website. \n",
        "\n",
        "Run the cell below to see how the examples look like. "
      ]
    },
    {
      "cell_type": "code",
      "metadata": {
        "id": "SPsGvotIaszN",
        "colab": {
          "base_uri": "https://localhost:8080/"
        },
        "outputId": "b878220a-054e-4f75-db57-94c8e650c05c"
      },
      "source": [
        "!wget https://raw.githubusercontent.com/rahiakela/coursera-natural-language-processing-specialization/4-natural-language-processing-with-attention-models/week-3/data.txt"
      ],
      "execution_count": 3,
      "outputs": [
        {
          "output_type": "stream",
          "text": [
            "--2020-11-22 08:47:07--  https://raw.githubusercontent.com/rahiakela/coursera-natural-language-processing-specialization/4-natural-language-processing-with-attention-models/week-3/data.txt\n",
            "Resolving raw.githubusercontent.com (raw.githubusercontent.com)... 151.101.0.133, 151.101.64.133, 151.101.128.133, ...\n",
            "Connecting to raw.githubusercontent.com (raw.githubusercontent.com)|151.101.0.133|:443... connected.\n",
            "HTTP request sent, awaiting response... 200 OK\n",
            "Length: 5513 (5.4K) [text/plain]\n",
            "Saving to: ‘data.txt’\n",
            "\n",
            "\rdata.txt              0%[                    ]       0  --.-KB/s               \rdata.txt            100%[===================>]   5.38K  --.-KB/s    in 0s      \n",
            "\n",
            "2020-11-22 08:47:07 (76.0 MB/s) - ‘data.txt’ saved [5513/5513]\n",
            "\n"
          ],
          "name": "stdout"
        }
      ]
    },
    {
      "cell_type": "code",
      "metadata": {
        "id": "Rgpn_afNYvoy"
      },
      "source": [
        "# load example jsons\n",
        "example_jsons = list(map(ast.literal_eval, open(\"data.txt\")))"
      ],
      "execution_count": 4,
      "outputs": []
    },
    {
      "cell_type": "code",
      "metadata": {
        "id": "tVbASoY7bBPW",
        "colab": {
          "base_uri": "https://localhost:8080/"
        },
        "outputId": "b23315af-8307-4bfc-ade8-e069dd777e38"
      },
      "source": [
        "# Printing the examples to see how the data looks like\n",
        "for i in range(5):\n",
        "  print(f\"example number {i + 1}: \\n\\n{example_jsons[i]} \\n\")"
      ],
      "execution_count": 5,
      "outputs": [
        {
          "output_type": "stream",
          "text": [
            "example number 1: \n",
            "\n",
            "{'content-length': b'1970', 'content-type': b'text/plain', 'text': b'Beginners BBQ Class Taking Place in Missoula!\\nDo you want to get better at making delicious BBQ? You will have the opportunity, put this on your calendar now. Thursday, September 22nd join World Class BBQ Champion, Tony Balay from Lonestar Smoke Rangers. He will be teaching a beginner level class for everyone who wants to get better with their culinary skills.\\nHe will teach you everything you need to know to compete in a KCBS BBQ competition, including techniques, recipes, timelines, meat selection and trimming, plus smoker and fire information.\\nThe cost to be in the class is $35 per person, and for spectators it is free. Included in the cost will be either a t-shirt or apron and you will be tasting samples of each meat that is prepared.', 'timestamp': b'2019-04-25T12:57:54Z', 'url': b'https://klyq.com/beginners-bbq-class-taking-place-in-missoula/'} \n",
            "\n",
            "example number 2: \n",
            "\n",
            "{'content-length': b'12064', 'content-type': b'text/plain', 'text': b'Discussion in \\'Mac OS X Lion (10.7)\\' started by axboi87, Jan 20, 2012.\\nI\\'ve got a 500gb internal drive and a 240gb SSD.\\nWhen trying to restore using disk utility i\\'m given the error \"Not enough space on disk ____ to restore\"\\nBut I shouldn\\'t have to do that!!!\\nAny ideas or workarounds before resorting to the above?\\nUse Carbon Copy Cloner to copy one drive to the other. I\\'ve done this several times going from larger HDD to smaller SSD and I wound up with a bootable SSD drive. One step you have to remember not to skip is to use Disk Utility to partition the SSD as GUID partition scheme HFS+ before doing the clone. If it came Apple Partition Scheme, even if you let CCC do the clone, the resulting drive won\\'t be bootable. CCC usually works in \"file mode\" and it can easily copy a larger drive (that\\'s mostly empty) onto a smaller drive. If you tell CCC to clone a drive you did NOT boot from, it can work in block copy mode where the destination drive must be the same size or larger than the drive you are cloning from (if I recall).\\nI\\'ve actually done this somehow on Disk Utility several times (booting from a different drive (or even the dvd) so not running disk utility from the drive your cloning) and had it work just fine from larger to smaller bootable clone. Definitely format the drive cloning to first, as bootable Apple etc..\\nThanks for pointing this out. My only experience using DU to go larger to smaller was when I was trying to make a Lion install stick and I was unable to restore InstallESD.dmg to a 4 GB USB stick but of course the reason that wouldn\\'t fit is there was slightly more than 4 GB of data.', 'timestamp': b'2019-04-21T10:07:13Z', 'url': b'https://forums.macrumors.com/threads/restore-from-larger-disk-to-smaller-disk.1311329/'} \n",
            "\n",
            "example number 3: \n",
            "\n",
            "{'content-length': b'5235', 'content-type': b'text/plain', 'text': b'Foil plaid lycra and spandex shortall with metallic slinky insets. Attached metallic elastic belt with O-ring. Headband included. Great hip hop or jazz dance costume. Made in the USA.', 'timestamp': b'2019-04-25T10:40:23Z', 'url': b'https://awishcometrue.com/Catalogs/Clearance/Tweens/V1960-Find-A-Way'} \n",
            "\n",
            "example number 4: \n",
            "\n",
            "{'content-length': b'4967', 'content-type': b'text/plain', 'text': b\"How many backlinks per day for new site?\\nDiscussion in 'Black Hat SEO' started by Omoplata, Dec 3, 2010.\\n1) for a newly created site, what's the max # backlinks per day I should do to be safe?\\n2) how long do I have to let my site age before I can start making more blinks?\\nI did about 6000 forum profiles every 24 hours for 10 days for one of my sites which had a brand new domain.\\nThere is three backlinks for every of these forum profile so thats 18 000 backlinks every 24 hours and nothing happened in terms of being penalized or sandboxed. This is now maybe 3 months ago and the site is ranking on first page for a lot of my targeted keywords.\\nbuild more you can in starting but do manual submission and not spammy type means manual + relevant to the post.. then after 1 month you can make a big blast..\\nWow, dude, you built 18k backlinks a day on a brand new site? How quickly did you rank up? What kind of competition/searches did those keywords have?\", 'timestamp': b'2019-04-21T12:46:19Z', 'url': b'https://www.blackhatworld.com/seo/how-many-backlinks-per-day-for-new-site.258615/'} \n",
            "\n",
            "example number 5: \n",
            "\n",
            "{'content-length': b'4499', 'content-type': b'text/plain', 'text': b'The Denver Board of Education opened the 2017-18 school year with an update on projects that include new construction, upgrades, heat mitigation and quality learning environments.\\nWe are excited that Denver students will be the beneficiaries of a four year, $572 million General Obligation Bond. Since the passage of the bond, our construction team has worked to schedule the projects over the four-year term of the bond.\\nDenver voters on Tuesday approved bond and mill funding measures for students in Denver Public Schools, agreeing to invest $572 million in bond funding to build and improve schools and $56.6 million in operating dollars to support proven initiatives, such as early literacy.\\nDenver voters say yes to bond and mill levy funding support for DPS students and schools. Click to learn more about the details of the voter-approved bond measure.\\nDenver voters on Nov. 8 approved bond and mill funding measures for DPS students and schools. Learn more about what\\xe2\\x80\\x99s included in the mill levy measure.', 'timestamp': b'2019-04-20T14:33:21Z', 'url': b'http://bond.dpsk12.org/category/news/'} \n",
            "\n"
          ],
          "name": "stdout"
        }
      ]
    },
    {
      "cell_type": "markdown",
      "metadata": {
        "id": "SsE3zp6nbd_O"
      },
      "source": [
        "Notice the `b` before each string? This means that this data comes as bytes rather than strings. Strings are actually lists of bytes so for the rest of the assignments the name `strings` will be used to describe the data. \n",
        "\n",
        "To check this run the following cell:"
      ]
    },
    {
      "cell_type": "code",
      "metadata": {
        "id": "7tTlHhwKbRcF",
        "colab": {
          "base_uri": "https://localhost:8080/"
        },
        "outputId": "ec09cce8-d096-4eee-9686-170698b7e3e4"
      },
      "source": [
        "type(example_jsons[0].get(\"text\"))"
      ],
      "execution_count": 6,
      "outputs": [
        {
          "output_type": "execute_result",
          "data": {
            "text/plain": [
              "bytes"
            ]
          },
          "metadata": {
            "tags": []
          },
          "execution_count": 6
        }
      ]
    },
    {
      "cell_type": "markdown",
      "metadata": {
        "id": "rg_Ik89sbs2r"
      },
      "source": [
        "<a name='1.1'></a>\n",
        "###  1.1 Pre-Training Objective"
      ]
    },
    {
      "cell_type": "markdown",
      "metadata": {
        "id": "gvEA4vevbtxe"
      },
      "source": [
        "**Note:** The word \"mask\" will be used throughout this assignment in context of hiding/removing word(s)\n",
        "\n",
        "You will be implementing the BERT loss as shown in the following image. \n",
        "\n",
        "<img src='https://github.com/rahiakela/img-repo/blob/master/deeplearning.ai-NLPS/loss.png?raw=1' width='800'/>\n",
        "\n",
        "Assume you have the following text: <span style = \"color:blue\"> **Thank you <span style = \"color:red\">for inviting </span> me to your party <span style = \"color:red\">last</span>  week** </span> \n",
        "\n",
        "\n",
        "Now as input you will mask the words in red in the text: \n",
        "\n",
        "<span style = \"color:blue\"> **Input:**</span> Thank you  **X** me to your party **Y** week.\n",
        "\n",
        "<span style = \"color:blue\">**Output:**</span> The model should predict the words(s) for **X** and **Y**. \n",
        "\n",
        "**Z** is used to represent the end."
      ]
    },
    {
      "cell_type": "markdown",
      "metadata": {
        "id": "pXb681OEcz7L"
      },
      "source": [
        "<a name='1.2'></a>\n",
        "### 1.2 Process C4"
      ]
    },
    {
      "cell_type": "markdown",
      "metadata": {
        "id": "bzfGq4Dfc0h_"
      },
      "source": [
        "C4 only has the plain string `text` field, so you will tokenize and have `inputs` and `targets` out of it for supervised learning. Given your inputs, the goal is to predict the targets during training. \n",
        "\n",
        "You will now take the `text` and convert it to `inputs` and `targets`."
      ]
    },
    {
      "cell_type": "code",
      "metadata": {
        "id": "BuIVEgCPbn1a",
        "colab": {
          "base_uri": "https://localhost:8080/"
        },
        "outputId": "72431a7a-df52-4634-d471-0c9a1a74128c"
      },
      "source": [
        "# Grab text field from dictionary\n",
        "natural_language_texts = [example_json[\"text\"] for example_json in example_jsons]\n",
        "\n",
        "# First text example\n",
        "natural_language_texts[4]"
      ],
      "execution_count": 7,
      "outputs": [
        {
          "output_type": "execute_result",
          "data": {
            "text/plain": [
              "b'The Denver Board of Education opened the 2017-18 school year with an update on projects that include new construction, upgrades, heat mitigation and quality learning environments.\\nWe are excited that Denver students will be the beneficiaries of a four year, $572 million General Obligation Bond. Since the passage of the bond, our construction team has worked to schedule the projects over the four-year term of the bond.\\nDenver voters on Tuesday approved bond and mill funding measures for students in Denver Public Schools, agreeing to invest $572 million in bond funding to build and improve schools and $56.6 million in operating dollars to support proven initiatives, such as early literacy.\\nDenver voters say yes to bond and mill levy funding support for DPS students and schools. Click to learn more about the details of the voter-approved bond measure.\\nDenver voters on Nov. 8 approved bond and mill funding measures for DPS students and schools. Learn more about what\\xe2\\x80\\x99s included in the mill levy measure.'"
            ]
          },
          "metadata": {
            "tags": []
          },
          "execution_count": 7
        }
      ]
    },
    {
      "cell_type": "markdown",
      "metadata": {
        "id": "UaltPg5Td1xe"
      },
      "source": [
        "<a name='1.2.1'></a>\n",
        "#### 1.2.1 Decode to natural language"
      ]
    },
    {
      "cell_type": "markdown",
      "metadata": {
        "id": "gaY2f34kd3p4"
      },
      "source": [
        "The following functions will help you `detokenize` and`tokenize` the text data.  \n",
        "\n",
        "The `sentencepiece` vocabulary was used to convert from text to ids. This vocabulary file is loaded and used in this helper functions.\n",
        "\n",
        "`natural_language_texts` has the text from the examples we gave you. \n",
        "\n",
        "Run the cells below to see what is going on. "
      ]
    },
    {
      "cell_type": "code",
      "metadata": {
        "id": "F3Pq2PuLMIeK",
        "outputId": "7235e821-a980-4540-cbec-ab9b3b5beba3",
        "colab": {
          "base_uri": "https://localhost:8080/"
        }
      },
      "source": [
        "!wget https://github.com/rahiakela/coursera-natural-language-processing-specialization/blob/4-natural-language-processing-with-attention-models/week-3/sentencepiece.model"
      ],
      "execution_count": 10,
      "outputs": [
        {
          "output_type": "stream",
          "text": [
            "--2020-11-22 09:04:59--  https://github.com/rahiakela/coursera-natural-language-processing-specialization/blob/4-natural-language-processing-with-attention-models/week-3/sentencepiece.model\n",
            "Resolving github.com (github.com)... 140.82.113.4\n",
            "Connecting to github.com (github.com)|140.82.113.4|:443... connected.\n",
            "HTTP request sent, awaiting response... 200 OK\n",
            "Length: unspecified [text/html]\n",
            "Saving to: ‘sentencepiece.model’\n",
            "\n",
            "sentencepiece.model     [ <=>                ]  93.57K  --.-KB/s    in 0.006s  \n",
            "\n",
            "2020-11-22 09:04:59 (16.2 MB/s) - ‘sentencepiece.model’ saved [95820]\n",
            "\n"
          ],
          "name": "stdout"
        }
      ]
    },
    {
      "cell_type": "code",
      "metadata": {
        "id": "0HVNOJR1SNoY",
        "outputId": "f22fa8a6-a3d2-453d-9491-d207a7a1bf5d",
        "colab": {
          "base_uri": "https://localhost:8080/"
        }
      },
      "source": [
        "!pip install sentencepiece\n",
        "!wget https://raw.githubusercontent.com/google/sentencepiece/master/data/botchan.txt"
      ],
      "execution_count": 12,
      "outputs": [
        {
          "output_type": "stream",
          "text": [
            "Requirement already satisfied: sentencepiece in /usr/local/lib/python3.6/dist-packages (0.1.94)\n",
            "--2020-11-22 09:28:56--  https://raw.githubusercontent.com/google/sentencepiece/master/data/botchan.txt\n",
            "Resolving raw.githubusercontent.com (raw.githubusercontent.com)... 151.101.0.133, 151.101.64.133, 151.101.128.133, ...\n",
            "Connecting to raw.githubusercontent.com (raw.githubusercontent.com)|151.101.0.133|:443... connected.\n",
            "HTTP request sent, awaiting response... 200 OK\n",
            "Length: 278779 (272K) [text/plain]\n",
            "Saving to: ‘botchan.txt’\n",
            "\n",
            "botchan.txt         100%[===================>] 272.25K  --.-KB/s    in 0.008s  \n",
            "\n",
            "2020-11-22 09:28:56 (34.0 MB/s) - ‘botchan.txt’ saved [278779/278779]\n",
            "\n"
          ],
          "name": "stdout"
        }
      ]
    },
    {
      "cell_type": "code",
      "metadata": {
        "id": "lJOjwoV6dq5Q"
      },
      "source": [
        "# Special tokens\n",
        "PAD, EOS, UNK = 0, 1, 2\n",
        "\n",
        "def detokenize(np_array):\n",
        "  return trax.data.detokenize(\n",
        "      np_array,\n",
        "      vocab_type=\"sentencepiece\",\n",
        "      vocab_file=\"sentencepiece.model\",\n",
        "      vocab_dir=\".\"\n",
        "  )\n",
        "\n",
        "def tokenize(s):\n",
        "  # The trax.data.tokenize function operates on streams, that's why we have to create 1-element stream with iter\n",
        "  # and later retrieve the result with next.\n",
        "  return next(trax.data.tokenize(\n",
        "      iter([s]),\n",
        "      vocab_type=\"sentencepiece\",\n",
        "      vocab_file=\"sentencepiece.model\",\n",
        "      vocab_dir=\".\"\n",
        "  ))"
      ],
      "execution_count": 8,
      "outputs": []
    },
    {
      "cell_type": "code",
      "metadata": {
        "id": "ZvPnKUdyLao0"
      },
      "source": [
        "# printing the encoding of each word to see how subwords are tokenized\n",
        "tokenized_text = [(tokenize(word).tolist(), word) for word in natural_language_texts[0].split()]\n",
        "print(tokenized_text, \"\\n\")"
      ],
      "execution_count": null,
      "outputs": []
    },
    {
      "cell_type": "code",
      "metadata": {
        "id": "HzX1T_o4MB8I"
      },
      "source": [
        "# We can see that detokenize successfully undoes the tokenization\n",
        "print(f\"tokenized: {tokenize('Beginners')}\\ndetokenized: {detokenize(tokenize('Beginners'))}\")"
      ],
      "execution_count": null,
      "outputs": []
    },
    {
      "cell_type": "markdown",
      "metadata": {
        "id": "yB6FcnRmUa6G"
      },
      "source": [
        "As you can see above, you were able to take a piece of string and tokenize it. \n",
        "\n",
        "Now you will create `input` and `target` pairs that will allow you to train your model. T5 uses the ids at the end of the vocab file as sentinels. For example, it will replace: \n",
        "   - `vocab_size - 1` by `<Z>`\n",
        "   - `vocab_size - 2` by `<Y>`\n",
        "   - and so forth. \n",
        "   \n",
        "It assigns every word a `chr`.\n",
        "\n",
        "The `pretty_decode` function below, which you will use in a bit, helps in handling the type when decoding. Take a look and try to understand what the function is doing.\n",
        "\n",
        "\n",
        "Notice that:\n",
        "```python\n",
        "string.ascii_letters = 'abcdefghijklmnopqrstuvwxyzABCDEFGHIJKLMNOPQRSTUVWXYZ'\n",
        "```\n",
        "\n",
        "**NOTE:** Targets may have more than the 52 sentinels we replace, but this is just to give you an idea of things."
      ]
    },
    {
      "cell_type": "code",
      "metadata": {
        "id": "-g0u2iJgUecj"
      },
      "source": [
        ""
      ],
      "execution_count": null,
      "outputs": []
    }
  ]
}