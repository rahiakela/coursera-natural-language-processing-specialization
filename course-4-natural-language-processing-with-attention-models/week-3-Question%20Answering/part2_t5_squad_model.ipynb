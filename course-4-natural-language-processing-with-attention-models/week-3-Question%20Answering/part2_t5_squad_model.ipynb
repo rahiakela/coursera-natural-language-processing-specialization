{
  "nbformat": 4,
  "nbformat_minor": 0,
  "metadata": {
    "colab": {
      "name": "part2-t5-squad-model.ipynb",
      "provenance": [],
      "toc_visible": true,
      "authorship_tag": "ABX9TyO3kcBILhg9kRcxJU0wMRBo",
      "include_colab_link": true
    },
    "kernelspec": {
      "name": "python3",
      "display_name": "Python 3"
    }
  },
  "cells": [
    {
      "cell_type": "markdown",
      "metadata": {
        "id": "view-in-github",
        "colab_type": "text"
      },
      "source": [
        "<a href=\"https://colab.research.google.com/github/rahiakela/coursera-natural-language-processing-specialization/blob/master/course-4-natural-language-processing-with-attention-models/week-3-Question%2520Answering/part2_t5_squad_model.ipynb\" target=\"_parent\"><img src=\"https://colab.research.google.com/assets/colab-badge.svg\" alt=\"Open In Colab\"/></a>"
      ]
    },
    {
      "cell_type": "markdown",
      "metadata": {
        "id": "MW224V8kJgBb"
      },
      "source": [
        "##Part 2: T5 SQuAD Model"
      ]
    },
    {
      "cell_type": "markdown",
      "metadata": {
        "id": "gx6iGbxgJh_b"
      },
      "source": [
        "Welcome to the part 2 of testing the models for this week's assignment. This time we will perform decoding using the T5 SQuAD model. In this notebook we'll perform Question Answering by providing a \"Question\", its \"Context\" and see how well we get the \"Target\" answer. "
      ]
    },
    {
      "cell_type": "markdown",
      "metadata": {
        "id": "8MJ2w9S2KXSZ"
      },
      "source": [
        "## Colab"
      ]
    },
    {
      "cell_type": "markdown",
      "metadata": {
        "id": "ebO8uNysKXyw"
      },
      "source": [
        "Since this ungraded lab takes a lot of time to run on coursera, as an alternative we have a colab prepared for you.\n",
        "\n",
        "[T5 SQuAD Model Colab](https://drive.google.com/file/d/1c-8KJkTySRGqCx_JjwjvXuRBTNTqEE0N/view?usp=sharing)\n",
        "\n",
        "- If you run into a page that looks similar to the one below, with the option `Open with`, this would mean you need to download the `Colaboratory` app. You can do so by `Open with -> Connect more apps -> in the search bar write \"Colaboratory\" -> install`\n",
        "\n",
        "<img src='https://github.com/rahiakela/img-repo/blob/master/deeplearning.ai-NLPS/colab_help_1.png?raw=1' width='800'/>\n",
        "\n",
        "- After installation it should look like this. Click on `Open with Google Colaboratory`\n",
        "\n",
        "<img src='https://github.com/rahiakela/img-repo/blob/master/deeplearning.ai-NLPS/colab_help_2.png?raw=1' width='800'/>"
      ]
    },
    {
      "cell_type": "markdown",
      "metadata": {
        "id": "i5TaYZ-eKbi2"
      },
      "source": [
        "<a name='0'></a>\n",
        "## Outline"
      ]
    },
    {
      "cell_type": "markdown",
      "metadata": {
        "id": "C3hvMahLKfdA"
      },
      "source": [
        " [Overview](#0)\n",
        "- [Part 1: Resuming the assignment (T5 SQuAD Model)](#1)\n",
        "- [Part 2: Fine-tuning on SQuAD](#2)\n",
        "    - [2.1 Loading in the data and preprocessing](#2.1)\n",
        "    - [2.2 Decoding from a fine-tuned model](#2.2)"
      ]
    },
    {
      "cell_type": "markdown",
      "metadata": {
        "id": "s0U_N56BNsYL"
      },
      "source": [
        "<a name='0'></a>\n",
        "## Overview"
      ]
    },
    {
      "cell_type": "markdown",
      "metadata": {
        "id": "kXZJD6L-NvBJ"
      },
      "source": [
        "In this notebook you will:\n",
        "* Implement the Bidirectional Encoder Representation from Transformer (BERT) loss. \n",
        "* Use a pretrained version of the model you created in the assignment for inference."
      ]
    },
    {
      "cell_type": "markdown",
      "metadata": {
        "id": "fdY2izpSKh3m"
      },
      "source": [
        "<a name='1'></a>\n",
        "# Part 1: Getting ready"
      ]
    },
    {
      "cell_type": "markdown",
      "metadata": {
        "id": "2YOUhqyWN1Et"
      },
      "source": [
        "Run the code cells below to import the necessary libraries and to define some functions which will be useful for decoding. The code and the functions are the same as the ones you previsouly ran on the graded assignment."
      ]
    },
    {
      "cell_type": "code",
      "metadata": {
        "id": "HPAtWWy1Kx5X"
      },
      "source": [
        "!pip install trax==1.3.9"
      ],
      "execution_count": null,
      "outputs": []
    },
    {
      "cell_type": "code",
      "metadata": {
        "id": "SQc3q6BaKpJi"
      },
      "source": [
        "import string\n",
        "import t5\n",
        "import numpy as np\n",
        "import trax \n",
        "from trax.supervised import decoding\n",
        "import textwrap \n",
        "\n",
        "wrapper = textwrap.TextWrapper(width=70)"
      ],
      "execution_count": null,
      "outputs": []
    },
    {
      "cell_type": "markdown",
      "metadata": {
        "id": "UHaYlRqmKvbq"
      },
      "source": [
        ""
      ]
    }
  ]
}