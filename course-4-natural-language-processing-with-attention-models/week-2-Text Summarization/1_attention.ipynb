{
  "nbformat": 4,
  "nbformat_minor": 0,
  "metadata": {
    "colab": {
      "name": "1-attention.ipynb",
      "provenance": [],
      "toc_visible": true,
      "authorship_tag": "ABX9TyOvj4e+w52KOMx/Daqusj85",
      "include_colab_link": true
    },
    "kernelspec": {
      "name": "python3",
      "display_name": "Python 3"
    },
    "accelerator": "GPU"
  },
  "cells": [
    {
      "cell_type": "markdown",
      "metadata": {
        "id": "view-in-github",
        "colab_type": "text"
      },
      "source": [
        "<a href=\"https://colab.research.google.com/github/rahiakela/coursera-natural-language-processing-specialization/blob/4-natural-language-processing-with-attention-models/week-2/1_attention.ipynb\" target=\"_parent\"><img src=\"https://colab.research.google.com/assets/colab-badge.svg\" alt=\"Open In Colab\"/></a>"
      ]
    },
    {
      "cell_type": "markdown",
      "metadata": {
        "id": "WBZvmlQhSwt3"
      },
      "source": [
        "# The Three Ways of Attention and Dot Product Attention"
      ]
    },
    {
      "cell_type": "markdown",
      "metadata": {
        "id": "JdHx0si9XABf"
      },
      "source": [
        "In this notebook you'll explore the three ways of attention:\n",
        "\n",
        "1. Encoder-Decoder Attention: Tradition RNN based attention\n",
        "2. Causal Attention/Self-Attention: Text generation based on language modling used by GPT-2\n",
        "3. Bi-directional Self-Attention: Contextual  text repersentation used by BERT\n",
        "\n",
        "and how to implement the latter two with dot product attention. "
      ]
    },
    {
      "cell_type": "markdown",
      "metadata": {
        "id": "5gQUuI8mXAk-"
      },
      "source": [
        "## Background"
      ]
    },
    {
      "cell_type": "markdown",
      "metadata": {
        "id": "JK-8y6-dXEml"
      },
      "source": [
        "As you learned last week, **attention models** constitute powerful tools in the NLP practitioner's toolkit. Like LSTMs, they learn which words are most important to phrases, sentences, paragraphs, and so on. Moreover, they mitigate the vanishing gradient problem even better than LSTMs. You've already seen how to combine attention with LSTMs to build **encoder-decoder models** for applications such as machine translation. \n",
        "\n",
        "<img src='https://github.com/rahiakela/img-repo/blob/master/deeplearning.ai-NLPS/attention_lnb_figs/C4_W2_L3_dot-product-attention_S01_introducing-attention_stripped.png?raw=1' width='800'/>\n",
        "\n",
        "This week, you'll see how to integrate attention into **transformers**. Because transformers are not sequence models, they are much easier to parallelize and accelerate. Beyond machine translation, applications of transformers include: \n",
        "* Auto-completion\n",
        "* Named Entity Recognition\n",
        "* Chatbots\n",
        "* Question-Answering\n",
        "* And more!\n",
        "\n",
        "Along with embedding, positional encoding, dense layers, and residual connections, attention is a crucial component of transformers. At the heart of any attention scheme used in a transformer is **dot product attention**, of which the figures below display a simplified picture:\n",
        "\n",
        "<img src='https://github.com/rahiakela/img-repo/blob/master/deeplearning.ai-NLPS/attention_lnb_figs/C4_W2_L3_dot-product-attention_S03_concept-of-attention_stripped.png?raw=1' width='800'/>\n",
        "\n",
        "<img src='https://github.com/rahiakela/img-repo/blob/master/deeplearning.ai-NLPS/attention_lnb_figs/C4_W2_L3_dot-product-attention_S04_attention-math_stripped.png?raw=1' width='800'/>\n",
        "\n",
        "With basic dot product attention, you capture the interactions between every word (embedding) in your query and every word in your key. If the queries and keys belong to the same sentences, this constitutes **bi-directional self-attention**. In some situations, however, it's more appropriate to consider only words which have come before the current one. Such cases, particularly when the queries and keys come from the same sentences, fall into the category of **causal attention**. \n",
        "\n",
        "<img src='https://github.com/rahiakela/img-repo/blob/master/deeplearning.ai-NLPS/attention_lnb_figs/C4_W2_L4_causal-attention_S02_causal-attention_stripped.png?raw=1' width='800'/>\n",
        "\n",
        "For causal attention, we add a **mask** to the argument of our softmax function, as illustrated below: \n",
        "\n",
        "<img src='https://github.com/rahiakela/img-repo/blob/master/deeplearning.ai-NLPS/attention_lnb_figs/C4_W2_L4_causal-attention_S03_causal-attention-math_stripped.png?raw=1' width='800'/>\n",
        "\n",
        "<img src='https://github.com/rahiakela/img-repo/blob/master/deeplearning.ai-NLPS/attention_lnb_figs/C4_W2_L4_causal-attention_S04_causal-attention-math-2_stripped.png?raw=1' width='800'/>\n",
        "\n",
        "Now let's see how to implement attention with NumPy. When you integrate attention into a transformer network defined with Trax, you'll have to use `trax.fastmath.numpy` instead, since Trax's arrays are based on JAX DeviceArrays. Fortunately, the function interfaces are often identical."
      ]
    },
    {
      "cell_type": "markdown",
      "metadata": {
        "id": "1IRPCNHPXItJ"
      },
      "source": [
        "## Imports"
      ]
    },
    {
      "cell_type": "code",
      "metadata": {
        "id": "fqftzaThXMvA"
      },
      "source": [
        "import sys\n",
        "\n",
        "import numpy as np\n",
        "import scipy.special\n",
        "\n",
        "import textwrap\n",
        "wrapper = textwrap.TextWrapper(width=70)\n",
        "\n",
        "# to print the entire np array\n",
        "np.set_printoptions(threshold=sys.maxsize)"
      ],
      "execution_count": 1,
      "outputs": []
    },
    {
      "cell_type": "markdown",
      "metadata": {
        "id": "xVSQ3a2bXOjJ"
      },
      "source": [
        "Here are some helper functions that will help you create tensors and display useful information:\n",
        "\n",
        "* `create_tensor()` creates a numpy array from a list of lists.\n",
        "* `display_tensor()` prints out the shape and the actual tensor."
      ]
    },
    {
      "cell_type": "code",
      "metadata": {
        "id": "P9qpDFDpauPg"
      },
      "source": [
        "def create_tensor(t):\n",
        "    \"\"\"Create tensor from list of lists\"\"\"\n",
        "    return np.array(t)\n",
        "\n",
        "\n",
        "def display_tensor(t, name):\n",
        "    \"\"\"Display shape and tensor\"\"\"\n",
        "    print(f'{name} shape: {t.shape}\\n')\n",
        "    print(f'{t}\\n')"
      ],
      "execution_count": 2,
      "outputs": []
    },
    {
      "cell_type": "markdown",
      "metadata": {
        "id": "on60S01uj6SL"
      },
      "source": [
        "Create some tensors and display their shapes. Feel free to experiment with your own tensors. \n",
        "\n",
        "Keep in mind, though, that the query, key, and value arrays must all have the same embedding dimensions (number of columns), and the mask array must have the same shape as `np.dot(query, key.T)`. "
      ]
    },
    {
      "cell_type": "code",
      "metadata": {
        "id": "kMfzhbeTj3zB",
        "outputId": "724e2d7a-0c9a-4f7b-a916-3a51daf2872f",
        "colab": {
          "base_uri": "https://localhost:8080/",
          "height": 372
        }
      },
      "source": [
        "q = create_tensor([[1, 0, 0], [0, 1, 0]])\n",
        "display_tensor(q, \"query\")\n",
        "\n",
        "k = create_tensor([[1, 2, 3], [4, 5, 6]])\n",
        "display_tensor(k, \"key\")\n",
        "\n",
        "v = create_tensor([[0, 1, 0], [1, 0, 1]])\n",
        "display_tensor(v, \"value\")\n",
        "\n",
        "m = create_tensor([[0, 0], [-1e9, 0]])\n",
        "display_tensor(m, \"mask\")"
      ],
      "execution_count": 3,
      "outputs": [
        {
          "output_type": "stream",
          "text": [
            "query shape: (2, 3)\n",
            "\n",
            "[[1 0 0]\n",
            " [0 1 0]]\n",
            "\n",
            "key shape: (2, 3)\n",
            "\n",
            "[[1 2 3]\n",
            " [4 5 6]]\n",
            "\n",
            "value shape: (2, 3)\n",
            "\n",
            "[[0 1 0]\n",
            " [1 0 1]]\n",
            "\n",
            "mask shape: (2, 2)\n",
            "\n",
            "[[ 0.e+00  0.e+00]\n",
            " [-1.e+09  0.e+00]]\n",
            "\n"
          ],
          "name": "stdout"
        }
      ]
    },
    {
      "cell_type": "markdown",
      "metadata": {
        "id": "Gn8EeaTVlE_K"
      },
      "source": [
        "## Dot product attention"
      ]
    },
    {
      "cell_type": "markdown",
      "metadata": {
        "id": "gANpHs4flFsP"
      },
      "source": [
        "Here we come to the crux of this lab, in which we compute \n",
        "$\\textrm{softmax} \\left(\\frac{Q K^T}{\\sqrt{d}} + M \\right) V$, where the (optional, but default) scaling factor $\\sqrt{d}$ is the square root of the embedding dimension."
      ]
    },
    {
      "cell_type": "code",
      "metadata": {
        "id": "RaLgkViHk4Ls"
      },
      "source": [
        "def dot_product_attention(query, key, value, mask, scale=True):\n",
        "  \"\"\"\n",
        "  Dot product self-attention.\n",
        "  Args:\n",
        "      query (numpy.ndarray): array of query representations with shape (L_q by d)\n",
        "      key (numpy.ndarray): array of key representations with shape (L_k by d)\n",
        "      value (numpy.ndarray): array of value representations with shape (L_k by d) where L_v = L_k\n",
        "      mask (numpy.ndarray): attention-mask, gates attention with shape (L_q by L_k)\n",
        "      scale (bool): whether to scale the dot product of the query and transposed key\n",
        "\n",
        "  Returns:\n",
        "      numpy.ndarray: Self-attention array for q, k, v arrays. (L_q by L_k)\n",
        "  \"\"\"\n",
        "\n",
        "  assert query.shape[-1] == key.shape[-1] == value.shape[-1], \"Embedding dimensions of q, k, v aren't all the same\"\n",
        "\n",
        "  # Save depth/dimension of the query embedding for scaling down the dot product\n",
        "  if scale:\n",
        "    depth = query.shape[-1]\n",
        "  else:\n",
        "    depth = 1\n",
        "\n",
        "  # Calculate scaled query key dot product according to formula above\n",
        "  dots = np.matmul(query, np.swapaxes(key, -1, -2)) / np.sqrt(depth)\n",
        "  print(\"Before softmax: \\n\", dots)\n",
        "\n",
        "  # Apply the mask\n",
        "  if mask is not None:\n",
        "    dots = np.where(mask, dots, np.full_like(dots, -1e9))\n",
        "\n",
        "  # Softmax formula implementation\n",
        "  # Use scipy.special.logsumexp of masked_qkT to avoid underflow by division by large numbers\n",
        "  # Note: softmax = e^(dots - logaddexp(dots)) = E^dots / sumexp(dots)\n",
        "  logsumexp = scipy.special.logsumexp(dots, axis=1, keepdims=True)\n",
        "\n",
        "  # Take exponential of dots minus logsumexp to get softmax\n",
        "  # Use np.exp()\n",
        "  dots = np.exp(dots - logsumexp)\n",
        "  print(\"Before attention: \\n\", dots)\n",
        "\n",
        "  # Multiply dots by value to get self-attention\n",
        "  # Use np.matmul()\n",
        "  attention = np.matmul(dots, value)\n",
        "  print(\"After attention: \\n\", attention)\n",
        "\n",
        "  return attention"
      ],
      "execution_count": 4,
      "outputs": []
    },
    {
      "cell_type": "markdown",
      "metadata": {
        "id": "V9_4zNBoo2Hd"
      },
      "source": [
        "Now let's implement the *masked* dot product self-attention (at the heart of causal attention) as a special case of dot product attention"
      ]
    },
    {
      "cell_type": "code",
      "metadata": {
        "id": "788qptS2ozPl"
      },
      "source": [
        "def dot_product_self_attention(q, k, v, scale=True):\n",
        "  \"\"\"\n",
        "  Masked dot product self attention.\n",
        "  Args:\n",
        "      q (numpy.ndarray): queries.\n",
        "      k (numpy.ndarray): keys.\n",
        "      v (numpy.ndarray): values.\n",
        "  Returns:\n",
        "      numpy.ndarray: masked dot product self attention tensor.\n",
        "  \"\"\"\n",
        "\n",
        "  # Size of the penultimate dimension of the query\n",
        "  mask_size = q.shape[-2]\n",
        "\n",
        "  # Creates a matrix with ones below the diagonal and 0s above. It should have shape (1, mask_size, mask_size)\n",
        "  # Use np.tril() - Lower triangle of an array and np.ones()\n",
        "  mask = np.tril(np.ones((1, mask_size, mask_size), dtype=np.bool_), k=0)\n",
        "\n",
        "  return dot_product_attention(q, k, v, mask, scale=scale)"
      ],
      "execution_count": 5,
      "outputs": []
    },
    {
      "cell_type": "code",
      "metadata": {
        "id": "bOc6SuRMpqeQ",
        "outputId": "0931d6e2-0dbc-4077-b06e-584bb7982760",
        "colab": {
          "base_uri": "https://localhost:8080/",
          "height": 212
        }
      },
      "source": [
        "dot_product_self_attention(q, k, v)"
      ],
      "execution_count": 6,
      "outputs": [
        {
          "output_type": "stream",
          "text": [
            "Before softmax: \n",
            " [[0.57735027 2.30940108]\n",
            " [1.15470054 2.88675135]]\n",
            "Before attention: \n",
            " [[[0.35954252 0.        ]\n",
            "  [0.64045748 1.        ]]]\n",
            "After attention: \n",
            " [[[0.         0.35954252 0.        ]\n",
            "  [1.         0.64045748 1.        ]]]\n"
          ],
          "name": "stdout"
        },
        {
          "output_type": "execute_result",
          "data": {
            "text/plain": [
              "array([[[0.        , 0.35954252, 0.        ],\n",
              "        [1.        , 0.64045748, 1.        ]]])"
            ]
          },
          "metadata": {
            "tags": []
          },
          "execution_count": 6
        }
      ]
    },
    {
      "cell_type": "code",
      "metadata": {
        "id": "P_cLw6kar-X3"
      },
      "source": [
        ""
      ],
      "execution_count": null,
      "outputs": []
    }
  ]
}