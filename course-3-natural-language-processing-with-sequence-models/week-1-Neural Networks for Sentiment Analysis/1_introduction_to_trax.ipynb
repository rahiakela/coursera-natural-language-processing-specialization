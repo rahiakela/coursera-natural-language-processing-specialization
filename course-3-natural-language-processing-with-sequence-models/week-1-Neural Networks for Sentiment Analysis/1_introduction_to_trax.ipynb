{
  "nbformat": 4,
  "nbformat_minor": 0,
  "metadata": {
    "colab": {
      "name": "1-introduction-to-trax.ipynb",
      "provenance": [],
      "toc_visible": true,
      "authorship_tag": "ABX9TyPxPoQSKQPYRM0g3fOi9nTm",
      "include_colab_link": true
    },
    "kernelspec": {
      "name": "python3",
      "display_name": "Python 3"
    },
    "accelerator": "GPU"
  },
  "cells": [
    {
      "cell_type": "markdown",
      "metadata": {
        "id": "view-in-github",
        "colab_type": "text"
      },
      "source": [
        "<a href=\"https://colab.research.google.com/github/rahiakela/coursera-natural-language-processing-specialization/blob/master/course-3-natural-language-processing-with-sequence-models/week-1-Neural%20Networks%20for%20Sentiment%20Analysis/1_introduction_to_trax.ipynb\" target=\"_parent\"><img src=\"https://colab.research.google.com/assets/colab-badge.svg\" alt=\"Open In Colab\"/></a>"
      ]
    },
    {
      "cell_type": "markdown",
      "metadata": {
        "id": "6hheca8AnX_I"
      },
      "source": [
        "## Introduction to Trax"
      ]
    },
    {
      "cell_type": "markdown",
      "metadata": {
        "id": "HBK9Z9uXrTU9"
      },
      "source": [
        "In this notebook you'll get to know about the Trax framework and learn about some of its basic building blocks."
      ]
    },
    {
      "cell_type": "markdown",
      "metadata": {
        "id": "nWmDUPQSrUD0"
      },
      "source": [
        "## Background"
      ]
    },
    {
      "cell_type": "markdown",
      "metadata": {
        "id": "NiBRIqOqrXEw"
      },
      "source": [
        "**Why Trax and not TensorFlow or PyTorch?**\n",
        "\n",
        "TensorFlow and PyTorch are both extensive frameworks that can do almost anything in deep learning. They offer a lot of flexibility, but that often means verbosity of syntax and extra time to code.\n",
        "\n",
        "Trax is much more concise. It runs on a TensorFlow backend but allows you to train models with 1 line commands. Trax also runs end to end, allowing you to get data, model and train all with a single terse statements. This means you can focus on learning, instead of spending hours on the idiosyncrasies of big framework implementation.\n",
        "\n",
        "**Why not Keras then?**\n",
        "\n",
        "Keras is now part of Tensorflow itself from 2.0 onwards. Also, trax is good for implementing new state of the art algorithms like Transformers, Reformers, BERT because it is actively maintained by Google Brain Team for advanced deep learning tasks. It runs smoothly on CPUs,GPUs and TPUs as well with comparatively lesser modifications in code.\n",
        "\n",
        "**How to Code in Trax**\n",
        "Building models in Trax relies on 2 key concepts:- **layers** and **combinators**.\n",
        "Trax layers are simple objects that process data and perform computations. They can be chained together into composite layers using Trax combinators, allowing you to build layers and models of any complexity.\n",
        "\n",
        "**Trax, JAX, TensorFlow and Tensor2Tensor**\n",
        "\n",
        "You already know that Trax uses Tensorflow as a backend, but it also uses the JAX library to speed up computation too. You can view JAX as an enhanced and optimized version of numpy. \n",
        "\n",
        "**Watch out for assignments which import `import trax.fastmath.numpy as np`. If you see this line, remember that when calling `np` you are really calling Trax’s version of numpy that is compatible with JAX.**\n",
        "\n",
        "As a result of this, where you used to encounter the type `numpy.ndarray` now you will find the type `jax.interpreters.xla.DeviceArray`.\n",
        "\n",
        "Tensor2Tensor is another name you might have heard. It started as an end to end solution much like how Trax is designed, but it grew unwieldy and complicated. So you can view Trax as the new improved version that operates much faster and simpler.\n",
        "\n",
        "**Resources**\n",
        "\n",
        "- Trax source code can be found on Github: [Trax](https://github.com/google/trax)\n",
        "- JAX library: [JAX](https://jax.readthedocs.io/en/latest/index.html)"
      ]
    },
    {
      "cell_type": "markdown",
      "metadata": {
        "id": "pPwr0l39rsjZ"
      },
      "source": [
        "## Installing Trax"
      ]
    },
    {
      "cell_type": "markdown",
      "metadata": {
        "id": "RiiRVpR9tiw9"
      },
      "source": [
        "Trax has dependencies on JAX and some libraries like JAX which are yet to be supported in [Windows](https://github.com/google/jax/blob/1bc5896ee4eab5d7bb4ec6f161d8b2abb30557be/README.md#installation) but work well in Ubuntu and MacOS. We would suggest that if you are working on Windows, try to install Trax on WSL2. \n",
        "\n",
        "Official maintained documentation - [trax-ml](https://trax-ml.readthedocs.io/en/latest/) not to be confused with this [TraX](https://trax.readthedocs.io/en/latest/index.html)"
      ]
    },
    {
      "cell_type": "code",
      "metadata": {
        "id": "M_4eHAlVrSh4"
      },
      "source": [
        "!pip install trax==1.3.9 # Use this version for this notebook"
      ],
      "execution_count": null,
      "outputs": []
    },
    {
      "cell_type": "code",
      "metadata": {
        "id": "5ul4WovRtxVD"
      },
      "source": [
        "# Imports trax\n",
        "import numpy as np  # regular ol' numpy\n",
        "\n",
        "from trax import layers as trax_layer  # core building block\n",
        "from trax import shapes        # data signatures: dimensionality and type\n",
        "from trax import fastmath      # uses jax, offers numpy on steroids"
      ],
      "execution_count": 2,
      "outputs": []
    },
    {
      "cell_type": "code",
      "metadata": {
        "id": "A8aMYNzt0Gfi",
        "colab": {
          "base_uri": "https://localhost:8080/"
        },
        "outputId": "ebd6dbd1-8dcf-45f8-8ab7-6827751d8588"
      },
      "source": [
        "# Trax version 1.3.1 or better \n",
        "!pip list | grep trax"
      ],
      "execution_count": 3,
      "outputs": [
        {
          "output_type": "stream",
          "text": [
            "trax                          1.3.9                \n"
          ],
          "name": "stdout"
        }
      ]
    },
    {
      "cell_type": "code",
      "metadata": {
        "id": "U487GOx01ESI"
      },
      "source": [
        "import warnings\n",
        "warnings.filterwarnings(\"ignore\", category=UserWarning)"
      ],
      "execution_count": 9,
      "outputs": []
    },
    {
      "cell_type": "markdown",
      "metadata": {
        "id": "laVzOaeB0TTE"
      },
      "source": [
        "## Layers"
      ]
    },
    {
      "cell_type": "markdown",
      "metadata": {
        "id": "4-Kvad4v0TyZ"
      },
      "source": [
        "Layers are the core building blocks in Trax or as mentioned in the lectures, they are the base classes.\n",
        "\n",
        "They take inputs, compute functions/custom calculations and return outputs.\n",
        "\n",
        "You can also inspect layer properties. Let me show you some examples."
      ]
    },
    {
      "cell_type": "markdown",
      "metadata": {
        "id": "QInY1Apz0Wtu"
      },
      "source": [
        "### Relu Layer"
      ]
    },
    {
      "cell_type": "markdown",
      "metadata": {
        "id": "-qXUtqd00g9H"
      },
      "source": [
        "First I'll show you how to build a relu activation function as a layer. A layer like this is one of the simplest types. Notice there is no object initialization so it works just like a math function.\n",
        "\n",
        "<img src = \"https://raw.githubusercontent.com/rahiakela/img-repo/master/deeplearning.ai-NLPS/trax-relu-layer.png\" style=\"width:300px;height:150px;\"/>\n",
        "\n",
        "**Note: Activation functions are also layers in Trax, which might look odd if you have been using other frameworks for a longer time.**"
      ]
    },
    {
      "cell_type": "code",
      "metadata": {
        "id": "_gpI6-AH0KqC",
        "colab": {
          "base_uri": "https://localhost:8080/"
        },
        "outputId": "a5acf948-6cc4-45b5-e018-d237f57fa614"
      },
      "source": [
        "# Layers\n",
        "# Create a relu trax layer\n",
        "relu = trax_layer.Relu()\n",
        "\n",
        "# Inspect properties\n",
        "print(\"-- Properties --\")\n",
        "print(\"Name: \", relu.name)\n",
        "print(\"Expected inputs: \", relu.n_in)\n",
        "print(\"Promised outputs:\", relu.n_out, \"\\n\")\n",
        "\n",
        "# Inputs\n",
        "x = np.array([-2, -1, 0, 1, 2])\n",
        "print(\"-- Inputs --\")\n",
        "print(\"x: \", x, \"\\n\")\n",
        "\n",
        "# Outputs\n",
        "y = relu(x)\n",
        "print(\"-- Outputs --\")\n",
        "print(\"y: \", y)"
      ],
      "execution_count": 4,
      "outputs": [
        {
          "output_type": "stream",
          "text": [
            "-- Properties --\n",
            "Name:  Serial\n",
            "Expected inputs:  1\n",
            "Promised outputs: 1 \n",
            "\n",
            "-- Inputs --\n",
            "x:  [-2 -1  0  1  2] \n",
            "\n",
            "-- Outputs --\n",
            "y:  [0 0 0 1 2]\n"
          ],
          "name": "stdout"
        }
      ]
    },
    {
      "cell_type": "markdown",
      "metadata": {
        "id": "nEJKM1Ba1tJk"
      },
      "source": [
        "### Concatenate Layer"
      ]
    },
    {
      "cell_type": "markdown",
      "metadata": {
        "id": "GT_IEeHM1uMs"
      },
      "source": [
        "Now I'll show you how to build a layer that takes 2 inputs. Notice the change in the expected inputs property from 1 to 2."
      ]
    },
    {
      "cell_type": "code",
      "metadata": {
        "id": "89cz84yI1ePT",
        "colab": {
          "base_uri": "https://localhost:8080/"
        },
        "outputId": "15126e07-cc5a-49f4-f71d-2b3e98e5dfc2"
      },
      "source": [
        "# Create a concatenate trax layer\n",
        "concat_layer = trax_layer.Concatenate()\n",
        "\n",
        "print(\"-- Properties --\")\n",
        "print(\"name :\", concat_layer.name)\n",
        "print(\"expected inputs :\", concat_layer.n_in)\n",
        "print(\"promised outputs :\", concat_layer.n_out, \"\\n\")\n",
        "\n",
        "# Inputs\n",
        "x1 = np.array([-10, -20, -30])\n",
        "x2 = x1 / -10\n",
        "print(\"-- Inputs --\")\n",
        "print(\"x1 :\", x1)\n",
        "print(\"x2 :\", x2, \"\\n\")\n",
        "\n",
        "# Outputs\n",
        "y = concat_layer([x1, x2])\n",
        "print(\"-- Outputs --\")\n",
        "print(\"y :\", y)"
      ],
      "execution_count": 5,
      "outputs": [
        {
          "output_type": "stream",
          "text": [
            "-- Properties --\n",
            "name : Concatenate\n",
            "expected inputs : 2\n",
            "promised outputs : 1 \n",
            "\n",
            "-- Inputs --\n",
            "x1 : [-10 -20 -30]\n",
            "x2 : [1. 2. 3.] \n",
            "\n",
            "-- Outputs --\n",
            "y : [-10. -20. -30.   1.   2.   3.]\n"
          ],
          "name": "stdout"
        }
      ]
    },
    {
      "cell_type": "markdown",
      "metadata": {
        "id": "GyPoGh6y2ubs"
      },
      "source": [
        "## Layers are Configurable"
      ]
    },
    {
      "cell_type": "markdown",
      "metadata": {
        "id": "yaK3Wv7z22tz"
      },
      "source": [
        "You can change the default settings of layers. For example, you can change the expected inputs for a concatenate layer from 2 to 3 using the optional parameter `n_items`."
      ]
    },
    {
      "cell_type": "code",
      "metadata": {
        "id": "vWsIMNOG25Jr",
        "colab": {
          "base_uri": "https://localhost:8080/"
        },
        "outputId": "54e3977b-0d70-40b5-ead7-95fd268809c5"
      },
      "source": [
        "# Configure a concatenate layer\n",
        "concat_3_layer = trax_layer.Concatenate(n_items=3)  # configure the layer's expected inputs\n",
        "\n",
        "print(\"-- Properties --\")\n",
        "print(\"name :\", concat_3_layer.name)\n",
        "print(\"expected inputs :\", concat_3_layer.n_in)\n",
        "print(\"promised outputs :\", concat_3_layer.n_out, \"\\n\")\n",
        "\n",
        "# Inputs\n",
        "x1 = np.array([-10, -20, -30])\n",
        "x2 = x1 / -10\n",
        "x3 = x2 * 0.99\n",
        "print(\"-- Inputs --\")\n",
        "print(\"x1 :\", x1)\n",
        "print(\"x2 :\", x2)\n",
        "print(\"x3 :\", x3, \"\\n\")\n",
        "\n",
        "# Outputs\n",
        "y = concat_3_layer([x1, x2, x3])\n",
        "print(\"-- Outputs --\")\n",
        "print(\"y :\", y)"
      ],
      "execution_count": 6,
      "outputs": [
        {
          "output_type": "stream",
          "text": [
            "-- Properties --\n",
            "name : Concatenate\n",
            "expected inputs : 3\n",
            "promised outputs : 1 \n",
            "\n",
            "-- Inputs --\n",
            "x1 : [-10 -20 -30]\n",
            "x2 : [1. 2. 3.]\n",
            "x3 : [0.99 1.98 2.97] \n",
            "\n",
            "-- Outputs --\n",
            "y : [-10.   -20.   -30.     1.     2.     3.     0.99   1.98   2.97]\n"
          ],
          "name": "stdout"
        }
      ]
    },
    {
      "cell_type": "markdown",
      "metadata": {
        "id": "GnzurFti51IU"
      },
      "source": [
        "**Note: At any point,if you want to refer the function help/ look up the [documentation](https://trax-ml.readthedocs.io/en/latest/) or use help function.**"
      ]
    },
    {
      "cell_type": "code",
      "metadata": {
        "id": "EJ-QNWCx5_1t"
      },
      "source": [
        "# help(tl.Concatenate) #Uncomment this to see the function docstring with explaination"
      ],
      "execution_count": null,
      "outputs": []
    },
    {
      "cell_type": "markdown",
      "metadata": {
        "id": "NeelzZ-Z6Qkw"
      },
      "source": [
        "## Layers can have Weights"
      ]
    },
    {
      "cell_type": "markdown",
      "metadata": {
        "id": "djTKLKki6RLT"
      },
      "source": [
        "Some layer types include mutable weights and biases that are used in computation and training. Layers of this type require initialization before use.\n",
        "\n",
        "For example the `LayerNorm` layer calculates normalized data, that is also scaled by weights and biases. During initialization you pass the data shape and data type of the inputs, so the layer can initialize compatible arrays of weights and biases."
      ]
    },
    {
      "cell_type": "code",
      "metadata": {
        "id": "hdWK4e2I6BF1"
      },
      "source": [
        "# Uncomment any of them to see information regarding the function\n",
        "# help(tl.LayerNorm)\n",
        "# help(shapes.signature)"
      ],
      "execution_count": null,
      "outputs": []
    },
    {
      "cell_type": "code",
      "metadata": {
        "id": "rctceL5P6oWb",
        "colab": {
          "base_uri": "https://localhost:8080/"
        },
        "outputId": "c6487891-2e9a-488b-9b78-c1811a2fbe64"
      },
      "source": [
        "# Layer initialization\n",
        "norm_layer = trax_layer.LayerNorm()\n",
        "\n",
        "# You first must know what the input data will look like\n",
        "x = np.array([0, 1, 2, 3], dtype=\"float\")\n",
        "\n",
        "# Use the input data signature to get shape and type for initializing weights and biases\n",
        "# We need to convert the input datatype from usual tuple to trax ShapeDtype\n",
        "norm_layer.init(shapes.signature(x))\n",
        "\n",
        "print(\"Normal shape:\", x.shape, \"Data Type:\", type(x.shape))\n",
        "print(\"Shapes Trax:\", shapes.signature(x), \"Data Type:\", type(shapes.signature(x)))\n",
        "\n",
        "# Inspect properties\n",
        "print(\"\\n-- Properties --\")\n",
        "print(\"name :\", norm_layer.name)\n",
        "print(\"expected inputs :\", norm_layer.n_in)\n",
        "print(\"promised outputs :\", norm_layer.n_out)\n",
        "\n",
        "# Weights and biases\n",
        "print(\"weights :\", norm_layer.weights[0])\n",
        "print(\"biases :\", norm_layer.weights[1], \"\\n\")\n",
        "\n",
        "# Inputs\n",
        "print(\"-- Inputs --\")\n",
        "print(\"x :\", x)"
      ],
      "execution_count": 10,
      "outputs": [
        {
          "output_type": "stream",
          "text": [
            "Normal shape: (4,) Data Type: <class 'tuple'>\n",
            "Shapes Trax: ShapeDtype{shape:(4,), dtype:float64} Data Type: <class 'trax.shapes.ShapeDtype'>\n",
            "\n",
            "-- Properties --\n",
            "name : LayerNorm\n",
            "expected inputs : 1\n",
            "promised outputs : 1\n",
            "weights : [1. 1. 1. 1.]\n",
            "biases : [0. 0. 0. 0.] \n",
            "\n",
            "-- Inputs --\n",
            "x : [0. 1. 2. 3.]\n"
          ],
          "name": "stdout"
        }
      ]
    },
    {
      "cell_type": "markdown",
      "metadata": {
        "id": "FGdaHfi2doE1"
      },
      "source": [
        "## Custom Layers"
      ]
    },
    {
      "cell_type": "markdown",
      "metadata": {
        "id": "OgMfE2bYdo7p"
      },
      "source": [
        "This is where things start getting more interesting!\n",
        "You can create your own custom layers too and define custom functions for computations by using `trax_layer.Fn`. Let me show you how."
      ]
    },
    {
      "cell_type": "code",
      "metadata": {
        "id": "_sLqwjBkdrUr",
        "colab": {
          "base_uri": "https://localhost:8080/"
        },
        "outputId": "acf27ee4-34e3-4265-c9fc-3ae22f5d9c24"
      },
      "source": [
        "help(trax_layer.Fn)"
      ],
      "execution_count": 11,
      "outputs": [
        {
          "output_type": "stream",
          "text": [
            "Help on function Fn in module trax.layers.base:\n",
            "\n",
            "Fn(name, f, n_out=1)\n",
            "    Returns a layer with no weights that applies the function `f`.\n",
            "    \n",
            "    `f` can take and return any number of arguments, and takes only positional\n",
            "    arguments -- no default or keyword arguments. It often uses JAX-numpy (`jnp`).\n",
            "    The following, for example, would create a layer that takes two inputs and\n",
            "    returns two outputs -- element-wise sums and maxima:\n",
            "    \n",
            "        `Fn('SumAndMax', lambda x0, x1: (x0 + x1, jnp.maximum(x0, x1)), n_out=2)`\n",
            "    \n",
            "    The layer's number of inputs (`n_in`) is automatically set to number of\n",
            "    positional arguments in `f`, but you must explicitly set the number of\n",
            "    outputs (`n_out`) whenever it's not the default value 1.\n",
            "    \n",
            "    Args:\n",
            "      name: Class-like name for the resulting layer; for use in debugging.\n",
            "      f: Pure function from input tensors to output tensors, where each input\n",
            "          tensor is a separate positional arg, e.g., `f(x0, x1) --> x0 + x1`.\n",
            "          Output tensors must be packaged as specified in the `Layer` class\n",
            "          docstring.\n",
            "      n_out: Number of outputs promised by the layer; default value 1.\n",
            "    \n",
            "    Returns:\n",
            "      Layer executing the function `f`.\n",
            "\n"
          ],
          "name": "stdout"
        }
      ]
    },
    {
      "cell_type": "code",
      "metadata": {
        "id": "JIG2zMEbeUQG"
      },
      "source": [
        "# Define a custom layer\n",
        "# In this example you will create a layer to calculate the input times 2\n",
        "def TimesTwo():\n",
        "  layer_name = \"TimesTwo\"  # don't forget to give your custom layer a name to identify\n",
        "\n",
        "  # Custom function for the custom layer\n",
        "  def func(x):\n",
        "    return x * 2\n",
        "  \n",
        "  return trax_layer.Fn(layer_name, func)"
      ],
      "execution_count": 12,
      "outputs": []
    },
    {
      "cell_type": "code",
      "metadata": {
        "id": "KwKu6LfDgcvL",
        "colab": {
          "base_uri": "https://localhost:8080/"
        },
        "outputId": "e7fe9b14-8ec7-43e3-e0da-84087e853507"
      },
      "source": [
        "# Test it\n",
        "times_two = TimesTwo()\n",
        "\n",
        "# Inspect properties\n",
        "print(\"-- Properties --\")\n",
        "print(\"name :\", times_two.name)\n",
        "print(\"expected inputs :\", times_two.n_in)\n",
        "print(\"promised outputs :\", times_two.n_out, \"\\n\")\n",
        "\n",
        "# Inputs\n",
        "x = np.array([1, 2, 3])\n",
        "print(\"-- Inputs --\")\n",
        "print(\"x :\", x, \"\\n\")\n",
        "\n",
        "# Outputs\n",
        "y = times_two(x)\n",
        "print(\"-- Outputs --\")\n",
        "print(\"y :\", y)"
      ],
      "execution_count": 13,
      "outputs": [
        {
          "output_type": "stream",
          "text": [
            "-- Properties --\n",
            "name : TimesTwo\n",
            "expected inputs : 1\n",
            "promised outputs : 1 \n",
            "\n",
            "-- Inputs --\n",
            "x : [1 2 3] \n",
            "\n",
            "-- Outputs --\n",
            "y : [2 4 6]\n"
          ],
          "name": "stdout"
        }
      ]
    },
    {
      "cell_type": "markdown",
      "metadata": {
        "id": "kWk2L7UHgloO"
      },
      "source": [
        "## Combinators"
      ]
    },
    {
      "cell_type": "markdown",
      "metadata": {
        "id": "IA1-5igxgqPZ"
      },
      "source": [
        "You can combine layers to build more complex layers. Trax provides a set of objects named combinator layers to make this happen. Combinators are themselves layers, so behavior commutes."
      ]
    },
    {
      "cell_type": "markdown",
      "metadata": {
        "id": "l94rzYgtgsMC"
      },
      "source": [
        "### Serial Combinator"
      ]
    },
    {
      "cell_type": "markdown",
      "metadata": {
        "id": "nYTN_MUgguiS"
      },
      "source": [
        "This is the most common and easiest to use. For example, it could build a simple neural network by combining layers into a single layer using the `Serial` combinator. This new layer then acts just like a single layer, so you can inspect intputs, outputs and weights. Or even combine it into another layer! Combinators can then be used as trainable models. _Try adding more layers_\n",
        "\n",
        "**Note:As you must have guessed, if there is serial combinator, there must be a parallel combinator as well. Do try to explore about combinators and other layers from the trax documentation and look at the repo to understand how these layers are written.**"
      ]
    },
    {
      "cell_type": "code",
      "metadata": {
        "id": "RgRhPROVgxiJ"
      },
      "source": [
        "# help(tl.Serial)\n",
        "# help(tl.Parallel)"
      ],
      "execution_count": null,
      "outputs": []
    },
    {
      "cell_type": "code",
      "metadata": {
        "id": "mUQ5FGj4hE9a",
        "colab": {
          "base_uri": "https://localhost:8080/"
        },
        "outputId": "62abae07-5311-4932-b8f8-f92dc4863f91"
      },
      "source": [
        "# Serial combinator\n",
        "serial_combinator = trax_layer.Serial(\n",
        "    trax_layer.LayerNorm(),   # normalize input\n",
        "    trax_layer.Relu(),        # convert negative values to zero\n",
        "    times_two,                # the custom layer you created above, multiplies the input recieved from above by 2\n",
        "\n",
        "    ### START CODE HERE\n",
        "    trax_layer.Dense(n_units=2),  # try adding more layers. eg uncomment these lines\n",
        "    trax_layer.Dense(n_units=1),  # Binary classification, maybe? uncomment at your own peril\n",
        "    trax_layer.LogSoftmax()       # Yes, LogSoftmax is also a layer\n",
        "    ### END CODE HERE\n",
        ")\n",
        "\n",
        "# Initialization\n",
        "x = np.array([-2, -1, 0, 1, 2])             # inputs\n",
        "serial_combinator.init(shapes.signature(x))  # initialising serial combinator instance\n",
        "\n",
        "print(\"-- Serial Model --\")\n",
        "print(serial_combinator, \"\\n\")\n",
        "\n",
        "print(\"-- Properties --\")\n",
        "print(\"name :\", serial_combinator.name)\n",
        "print(\"sublayers :\", serial_combinator.sublayers)\n",
        "print(\"expected inputs :\", serial_combinator.n_in)\n",
        "print(\"promised outputs :\", serial_combinator.n_out)\n",
        "print(\"weights & biases:\", serial_combinator.weights, \"\\n\")\n",
        "\n",
        "# Inputs\n",
        "print(\"-- Inputs --\")\n",
        "print(\"x :\", x, \"\\n\")\n",
        "\n",
        "# Outputs\n",
        "y = serial_combinator(x)\n",
        "print(\"-- Outputs --\")\n",
        "print(\"y :\", y)"
      ],
      "execution_count": 15,
      "outputs": [
        {
          "output_type": "stream",
          "text": [
            "-- Serial Model --\n",
            "Serial[\n",
            "  LayerNorm\n",
            "  Serial[\n",
            "    Relu\n",
            "  ]\n",
            "  TimesTwo\n",
            "  Dense_2\n",
            "  Dense_1\n",
            "  LogSoftmax\n",
            "] \n",
            "\n",
            "-- Properties --\n",
            "name : Serial\n",
            "sublayers : [LayerNorm, Serial[\n",
            "  Relu\n",
            "], TimesTwo, Dense_2, Dense_1, LogSoftmax]\n",
            "expected inputs : 1\n",
            "promised outputs : 1\n",
            "weights & biases: ((DeviceArray([1, 1, 1, 1, 1], dtype=int32), DeviceArray([0, 0, 0, 0, 0], dtype=int32)), ((), (), ()), (), (DeviceArray([[-0.9116586 , -0.54944944],\n",
            "             [ 0.28624928,  0.8543135 ],\n",
            "             [-0.8686311 , -0.4329626 ],\n",
            "             [-0.8610326 ,  0.11454642],\n",
            "             [-0.09870857,  0.74174774]], dtype=float32), DeviceArray([-4.6709769e-07, -1.3443628e-06], dtype=float32)), (DeviceArray([[ 0.69042337],\n",
            "             [-0.84827715]], dtype=float32), DeviceArray([-3.6066967e-07], dtype=float32)), ()) \n",
            "\n",
            "-- Inputs --\n",
            "x : [-2 -1  0  1  2] \n",
            "\n",
            "-- Outputs --\n",
            "y : [0.]\n"
          ],
          "name": "stdout"
        }
      ]
    },
    {
      "cell_type": "markdown",
      "metadata": {
        "id": "2OxQ8ruSiZR5"
      },
      "source": [
        "## JAX"
      ]
    },
    {
      "cell_type": "markdown",
      "metadata": {
        "id": "l8VTyNEfinbg"
      },
      "source": [
        "Just remember to lookout for which numpy you are using, the regular ol' numpy or Trax's JAX compatible numpy. Both tend to use the alias np so watch those import blocks.\n",
        "\n",
        "**Note:There are certain things which are still not possible in fastmath.numpy which can be done in numpy so you will see in assignments we will switch between them to get our work done.**"
      ]
    },
    {
      "cell_type": "code",
      "metadata": {
        "id": "pxLLhwsUiqzx",
        "colab": {
          "base_uri": "https://localhost:8080/"
        },
        "outputId": "3c928dbe-18af-4a29-8dde-58f4e5edbcb5"
      },
      "source": [
        "# Numpy vs fastmath.numpy have different data types\n",
        "# Regular ol' numpy\n",
        "x_numpy = np.array([1, 2, 3])\n",
        "print(\"good old numpy : \", type(x_numpy), \"\\n\")\n",
        "\n",
        "# Fastmath and jax numpy\n",
        "x_jax = fastmath.numpy.array([1, 2, 3])\n",
        "print(\"jax trax numpy : \", type(x_jax))"
      ],
      "execution_count": 16,
      "outputs": [
        {
          "output_type": "stream",
          "text": [
            "good old numpy :  <class 'numpy.ndarray'> \n",
            "\n",
            "jax trax numpy :  <class 'jaxlib.xla_extension.DeviceArray'>\n"
          ],
          "name": "stdout"
        }
      ]
    },
    {
      "cell_type": "markdown",
      "metadata": {
        "id": "zvikuaAoi1ft"
      },
      "source": [
        "## Summary"
      ]
    },
    {
      "cell_type": "markdown",
      "metadata": {
        "id": "yy46ihBYi5cq"
      },
      "source": [
        "Trax is a concise framework, built on TensorFlow, for end to end machine learning. The key building blocks are layers and combinators. This notebook is just a taste, but sets you up with some key inuitions to take forward into the rest of the course and assignments where you will build end to end models."
      ]
    }
  ]
}