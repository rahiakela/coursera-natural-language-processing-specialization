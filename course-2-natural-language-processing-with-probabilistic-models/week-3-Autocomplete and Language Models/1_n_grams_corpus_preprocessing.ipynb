{
  "nbformat": 4,
  "nbformat_minor": 0,
  "metadata": {
    "colab": {
      "name": "1-n-grams-corpus-preprocessing.ipynb",
      "provenance": [],
      "toc_visible": true,
      "authorship_tag": "ABX9TyPoopkGB40U4b5Xsurpm6+4",
      "include_colab_link": true
    },
    "kernelspec": {
      "name": "python3",
      "display_name": "Python 3"
    }
  },
  "cells": [
    {
      "cell_type": "markdown",
      "metadata": {
        "id": "view-in-github",
        "colab_type": "text"
      },
      "source": [
        "<a href=\"https://colab.research.google.com/github/rahiakela/coursera-natural-language-processing-specialization/blob/master/course-2-natural-language-processing-with-probabilistic-models/week-3-Autocomplete%20and%20Language%20Models/1_n_grams_corpus_preprocessing.ipynb\" target=\"_parent\"><img src=\"https://colab.research.google.com/assets/colab-badge.svg\" alt=\"Open In Colab\"/></a>"
      ]
    },
    {
      "cell_type": "markdown",
      "metadata": {
        "id": "syn0KhMh9eeW"
      },
      "source": [
        "# N-grams Corpus preprocessing"
      ]
    },
    {
      "cell_type": "markdown",
      "metadata": {
        "id": "ehqQQOLP9fht"
      },
      "source": [
        "The input corpus in this week's assignment is a continuous text that needs some preprocessing so that you can start calculating the n-gram probabilities.\n",
        "\n",
        "Some common preprocessing steps for the language models include:\n",
        "- lowercasing the text\n",
        "- remove special characters\n",
        "- split text to list of sentences\n",
        "- split sentence into list of words\n",
        "\n",
        "Can you note the similarities and differences among the preprocessing steps shown during the Course 1 of this specialization?"
      ]
    },
    {
      "cell_type": "code",
      "metadata": {
        "id": "GR9E76Dj-Uhk",
        "colab": {
          "base_uri": "https://localhost:8080/"
        },
        "outputId": "157a3261-62d7-4a66-8d96-1664aa94b042"
      },
      "source": [
        "import nltk               # NLP toolkit\n",
        "import re                 # Library for Regular expression operations\n",
        "\n",
        "nltk.download('punkt')    # Download the Punkt sentence tokenizer "
      ],
      "execution_count": 1,
      "outputs": [
        {
          "output_type": "stream",
          "text": [
            "[nltk_data] Downloading package punkt to /root/nltk_data...\n",
            "[nltk_data]   Unzipping tokenizers/punkt.zip.\n"
          ],
          "name": "stdout"
        },
        {
          "output_type": "execute_result",
          "data": {
            "text/plain": [
              "True"
            ]
          },
          "metadata": {
            "tags": []
          },
          "execution_count": 1
        }
      ]
    },
    {
      "cell_type": "markdown",
      "metadata": {
        "id": "jEpPdTot-q3x"
      },
      "source": [
        "## Lowercasing the text"
      ]
    },
    {
      "cell_type": "markdown",
      "metadata": {
        "id": "DHsQRbKc-xuJ"
      },
      "source": [
        "Words at the beginning of a sentence and names start with a capital letter. However, when counting words, you want to treat them the same as if they appeared in the middle of a sentence. \n",
        "\n",
        "You can do that by converting the text to lowercase using [str.lowercase]\n",
        "(https://docs.python.org/3/library/stdtypes.html?highlight=split#str.lower)."
      ]
    },
    {
      "cell_type": "code",
      "metadata": {
        "id": "YlUm8ZJh-lEn",
        "colab": {
          "base_uri": "https://localhost:8080/"
        },
        "outputId": "89d47627-82f6-4ea9-e987-c1e347940f06"
      },
      "source": [
        "# change the corpus to lowercase\n",
        "corpus = \"Learning% makes 'me' happy. I am happy be-cause I am learning! :)\"\n",
        "corpus = corpus.lower()\n",
        "\n",
        "# note that word \"learning\" will now be the same regardless of its position in the sentence\n",
        "print(corpus)"
      ],
      "execution_count": 2,
      "outputs": [
        {
          "output_type": "stream",
          "text": [
            "learning% makes 'me' happy. i am happy be-cause i am learning! :)\n"
          ],
          "name": "stdout"
        }
      ]
    },
    {
      "cell_type": "markdown",
      "metadata": {
        "id": "lDOwGShA_ajh"
      },
      "source": [
        "## Remove special charactes"
      ]
    },
    {
      "cell_type": "markdown",
      "metadata": {
        "id": "YITXUSri_bDy"
      },
      "source": [
        "Some of the characters may need to be removed from the corpus before we start processing the text to find n-grams. \n",
        "\n",
        "Often, the special characters such as double quotes '\"' or dash '-' are removed, and the interpunction such as full stop '.' or question mark '?' are left in the corpus."
      ]
    },
    {
      "cell_type": "code",
      "metadata": {
        "id": "EQz8SArT_UwS",
        "colab": {
          "base_uri": "https://localhost:8080/"
        },
        "outputId": "386d77b9-5ac2-4360-d271-9109d8a513f9"
      },
      "source": [
        "# remove special characters\n",
        "corpus = \"Learning% makes 'me' happy. I am happy be-cause I am learning! :)\"\n",
        "corpus = re.sub(r'[^a-zA-Z0-9.?! ]+', '', corpus)\n",
        "print(corpus)"
      ],
      "execution_count": 3,
      "outputs": [
        {
          "output_type": "stream",
          "text": [
            "Learning makes me happy. I am happy because I am learning! \n"
          ],
          "name": "stdout"
        }
      ]
    },
    {
      "cell_type": "markdown",
      "metadata": {
        "id": "yUZDZy6rAIyd"
      },
      "source": [
        "Note that this process gets rid of the happy face made with punctuations :). Remember that for sentiment analysis, this emoticon was very important. However, we will not consider it here."
      ]
    },
    {
      "cell_type": "markdown",
      "metadata": {
        "id": "muHCFKLPAJYI"
      },
      "source": [
        "## Spliting text to list of sentences"
      ]
    },
    {
      "cell_type": "markdown",
      "metadata": {
        "id": "e4j5b01NAhfl"
      },
      "source": [
        "In the assignment, the sentences in the corpus are separated by a special delimiter \\n. You will need to split the corpus into an array of sentences using this delimiter. \n",
        "One way to do that is by using the [str.split](https://docs.python.org/3/library/stdtypes.html?highlight=split#str.split) method.\n",
        "\n",
        "\n",
        "The following examples illustrate how to use this method. The code shows:\n",
        "- how to split a string containing a date into an array of date parts\n",
        "- how to split a string with time into an array containing hours, minutes and seconds \n",
        "\n",
        "Also, note what happens if there are several back-to-back delimiters like between \"May\" and \"9\"."
      ]
    },
    {
      "cell_type": "code",
      "metadata": {
        "id": "ttG66qo-ADoW",
        "colab": {
          "base_uri": "https://localhost:8080/"
        },
        "outputId": "68ac5897-0300-40e6-930f-db453a69302f"
      },
      "source": [
        "# split text by a delimiter to array\n",
        "input_date = \"Sat May  9 07:33:35 CEST 2020\"\n",
        "\n",
        "# get the date parts in array\n",
        "date_parts = input_date.split(' ')\n",
        "print(f'date parts = {date_parts}')\n",
        "\n",
        "# get the time parts in array\n",
        "time_parts = date_parts[4].split(':')\n",
        "print(f'time parts = {time_parts}')"
      ],
      "execution_count": 4,
      "outputs": [
        {
          "output_type": "stream",
          "text": [
            "date parts = ['Sat', 'May', '', '9', '07:33:35', 'CEST', '2020']\n",
            "time parts = ['07', '33', '35']\n"
          ],
          "name": "stdout"
        }
      ]
    },
    {
      "cell_type": "markdown",
      "metadata": {
        "id": "w2Au4wJJB6M9"
      },
      "source": [
        "This text splitting is more complicated than the tokenization process used for sentiment analysis."
      ]
    },
    {
      "cell_type": "markdown",
      "metadata": {
        "id": "lIGjCO-YCAYC"
      },
      "source": [
        "## Sentence tokenizing: Spliting sentence into list words"
      ]
    },
    {
      "cell_type": "markdown",
      "metadata": {
        "id": "Xx9MeJeWCDB-"
      },
      "source": [
        "Once you have a list of sentences, the next step is to split each sentence into a list of words.\n",
        "\n",
        "This process could be done in several ways, even using the str.split method described above, but we will use the NLTK library [nltk](https://www.nltk.org/) to help us with that.\n",
        "\n",
        "In the code assignment, you will use the method [word_tokenize](https://www.nltk.org/api/nltk.tokenize.html#nltk.tokenize.punkt.PunktLanguageVars.word_tokenize) to split your sentence into a list of words. Let us try the method in an example."
      ]
    },
    {
      "cell_type": "code",
      "metadata": {
        "id": "_YeOlGiPByA4",
        "colab": {
          "base_uri": "https://localhost:8080/"
        },
        "outputId": "171affc9-2eac-44c6-c24f-c16c1c4ff13b"
      },
      "source": [
        "# tokenize the sentence into an array of words\n",
        "sentence = 'i am happy because i am learning.'\n",
        "tokenized_sentence = nltk.word_tokenize(sentence)\n",
        "print(f'{sentence} > {tokenized_sentence}')"
      ],
      "execution_count": 5,
      "outputs": [
        {
          "output_type": "stream",
          "text": [
            "i am happy because i am learning. > ['i', 'am', 'happy', 'because', 'i', 'am', 'learning', '.']\n"
          ],
          "name": "stdout"
        }
      ]
    },
    {
      "cell_type": "markdown",
      "metadata": {
        "id": "Dzd_HAR4CxqM"
      },
      "source": [
        "Now that the sentence is tokenized, you can work with each word in the sentence separately. This will be useful later when creating and counting N-grams. In the following code example, you will see how to find the length of each word."
      ]
    },
    {
      "cell_type": "code",
      "metadata": {
        "id": "6gTyNA-fCs7D",
        "colab": {
          "base_uri": "https://localhost:8080/"
        },
        "outputId": "b11db67d-db78-413f-9ada-5b5d3c2fa6b0"
      },
      "source": [
        "# find length of each word in the tokenized sentence\n",
        "sentence = ['i', 'am', 'happy', 'because', 'i', 'am', 'learning', '.']\n",
        "# Create a list with the word lengths using a list comprehension\n",
        "word_lengths = [(word, len(word)) for word in sentence]\n",
        "print(f'Lengths of the words: \\n{word_lengths}')"
      ],
      "execution_count": 6,
      "outputs": [
        {
          "output_type": "stream",
          "text": [
            "Lengths of the words: \n",
            "[('i', 1), ('am', 2), ('happy', 5), ('because', 7), ('i', 1), ('am', 2), ('learning', 8), ('.', 1)]\n"
          ],
          "name": "stdout"
        }
      ]
    },
    {
      "cell_type": "markdown",
      "metadata": {
        "id": "o8SusXAPDTVH"
      },
      "source": [
        "The previous result produces a list of pairs. This is not equivalent to a dictionary."
      ]
    },
    {
      "cell_type": "markdown",
      "metadata": {
        "id": "HcH7tR_7DUDW"
      },
      "source": [
        "## N-grams"
      ]
    },
    {
      "cell_type": "markdown",
      "metadata": {
        "id": "x5eyQ0hvDXCY"
      },
      "source": [
        "### Sentence to n-gram"
      ]
    },
    {
      "cell_type": "markdown",
      "metadata": {
        "id": "RCgZy2gADZst"
      },
      "source": [
        "The next step is to build n-grams from the tokenized sentences. \n",
        "\n",
        "A sliding window of size n-words can generate the n-grams. The window scans the list of words starting at the sentence beginning, moving by a step of one word until it reaches the end of the sentence.\n",
        "\n",
        "Here is an example method that prints all trigrams in the given sentence."
      ]
    },
    {
      "cell_type": "code",
      "metadata": {
        "id": "Ju243y7PDOqE",
        "colab": {
          "base_uri": "https://localhost:8080/"
        },
        "outputId": "b5059cdc-7954-424c-8516-db94a551a263"
      },
      "source": [
        "def sentence_to_trigram(tokenized_sentence):\n",
        "  \"\"\"\n",
        "  Prints all trigrams in the given tokenized sentence.\n",
        "  Args:\n",
        "      tokenized_sentence: The words list.\n",
        "  Returns:\n",
        "      No output\n",
        "  \"\"\"\n",
        "\n",
        "  # note that the last position of i is 3rd to the end\n",
        "  for i in range(len(tokenized_sentence) - 3 + 1):\n",
        "    # the sliding window starts at position i and contains 3 words\n",
        "    trigram = tokenized_sentence[i: i + 3]\n",
        "    print(trigram)\n",
        "\n",
        "tokenized_sentence = ['i', 'am', 'happy', 'because', 'i', 'am', 'learning', '.']\n",
        "\n",
        "print(f'List all trigrams of sentence:  {tokenized_sentence}')\n",
        "sentence_to_trigram(tokenized_sentence)"
      ],
      "execution_count": 7,
      "outputs": [
        {
          "output_type": "stream",
          "text": [
            "List all trigrams of sentence:  ['i', 'am', 'happy', 'because', 'i', 'am', 'learning', '.']\n",
            "['i', 'am', 'happy']\n",
            "['am', 'happy', 'because']\n",
            "['happy', 'because', 'i']\n",
            "['because', 'i', 'am']\n",
            "['i', 'am', 'learning']\n",
            "['am', 'learning', '.']\n"
          ],
          "name": "stdout"
        }
      ]
    },
    {
      "cell_type": "markdown",
      "metadata": {
        "id": "9UvP5ljwga8X"
      },
      "source": [
        "### Prefix of an n-gram"
      ]
    },
    {
      "cell_type": "markdown",
      "metadata": {
        "id": "ZTdNsvzigbdV"
      },
      "source": [
        "As you saw in the lecture, the n-gram probability is often calculated based on the (n-1)-gram counts. The prefix is needed in the formula to calculate the probability of an n-gram.\n",
        "\n",
        "\\begin{equation*}\n",
        "P(w_n|w_1^{n-1})=\\frac{C(w_1^n)}{C(w_1^{n-1})}\n",
        "\\end{equation*}\n",
        "\n",
        "The following code shows how to get an (n-1)-gram  prefix from n-gram on an example of getting trigram from a 4-gram."
      ]
    },
    {
      "cell_type": "code",
      "metadata": {
        "id": "kt7UmNz3fdix",
        "colab": {
          "base_uri": "https://localhost:8080/"
        },
        "outputId": "9e3fefac-c361-4fbd-ba0a-6c36b1a269ff"
      },
      "source": [
        "# get trigram prefix from a 4-gram\n",
        "fourgram = ['i', 'am', 'happy','because']\n",
        "trigram = fourgram[0:-1]  # Get the elements from 0, included, up to the last element, not included.\n",
        "print(trigram)"
      ],
      "execution_count": 8,
      "outputs": [
        {
          "output_type": "stream",
          "text": [
            "['i', 'am', 'happy']\n"
          ],
          "name": "stdout"
        }
      ]
    },
    {
      "cell_type": "markdown",
      "metadata": {
        "id": "itGCbVV4g9YK"
      },
      "source": [
        "### Start and end of sentence word $<s>$ and $</s>$"
      ]
    },
    {
      "cell_type": "markdown",
      "metadata": {
        "id": "AE2A8NDCg98_"
      },
      "source": [
        "You could see in the lecture that we must add some special characters at the beginning and the end of each sentence: \n",
        "* $<s>$  at beginning\n",
        "* $</s>$ at the end\n",
        "\n",
        "For n-grams, we must prepend n-1 of characters at the begining of the sentence. \n",
        "\n",
        "Let us have a look at how you can implement this in code."
      ]
    },
    {
      "cell_type": "code",
      "metadata": {
        "id": "L2xPhl-bgwHM",
        "colab": {
          "base_uri": "https://localhost:8080/"
        },
        "outputId": "8f0d01fe-710f-4f3f-c504-a4c3257dfb24"
      },
      "source": [
        "# when working with trigrams, you need to prepend 2 <s> and append one </s>\n",
        "n = 3\n",
        "tokenized_sentence = ['i', 'am', 'happy', 'because', 'i', 'am', 'learning', '.']\n",
        "tokenized_sentence = ['<s>'] * (n - 1) + tokenized_sentence + ['</s>']\n",
        "print(tokenized_sentence)"
      ],
      "execution_count": 9,
      "outputs": [
        {
          "output_type": "stream",
          "text": [
            "['<s>', '<s>', 'i', 'am', 'happy', 'because', 'i', 'am', 'learning', '.', '</s>']\n"
          ],
          "name": "stdout"
        }
      ]
    },
    {
      "cell_type": "markdown",
      "metadata": {
        "id": "hSjfmdGCh1gc"
      },
      "source": [
        "That's all for the lab for \"N-gram\" lesson of week 3."
      ]
    }
  ]
}