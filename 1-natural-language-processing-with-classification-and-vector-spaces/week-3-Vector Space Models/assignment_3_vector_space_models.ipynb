{
  "nbformat": 4,
  "nbformat_minor": 0,
  "metadata": {
    "colab": {
      "name": "assignment-3-vector-space-models.ipynb",
      "provenance": [],
      "toc_visible": true,
      "authorship_tag": "ABX9TyMyxVolPpNbIbrkWhw8zKFM",
      "include_colab_link": true
    },
    "kernelspec": {
      "name": "python3",
      "display_name": "Python 3"
    }
  },
  "cells": [
    {
      "cell_type": "markdown",
      "metadata": {
        "id": "view-in-github",
        "colab_type": "text"
      },
      "source": [
        "<a href=\"https://colab.research.google.com/github/rahiakela/coursera-natural-language-processing-specialization/blob/1-natural-language-processing-with-classification-and-vector-spaces/week-3/assignment_3_vector_space_models.ipynb\" target=\"_parent\"><img src=\"https://colab.research.google.com/assets/colab-badge.svg\" alt=\"Open In Colab\"/></a>"
      ]
    },
    {
      "cell_type": "markdown",
      "metadata": {
        "id": "T6HCJm4AZ2Vh",
        "colab_type": "text"
      },
      "source": [
        "#Assignment: Vector Space Models"
      ]
    },
    {
      "cell_type": "markdown",
      "metadata": {
        "id": "a_JuOQdBaBaX",
        "colab_type": "text"
      },
      "source": [
        "Welcome to this week's programming assignment on exploring word vectors.\n",
        "In natural language processing, we represent each word as a vector consisting of numbers.\n",
        "The vector encodes the meaning of the word. These numbers (or weights) for each word are learned using various machine\n",
        "learning models, which we will explore in more detail later in this specialization. Rather than make you code the\n",
        "machine learning models from scratch, we will show you how to use them. In the real world, you can always load the\n",
        "trained word vectors, and you will almost never have to train them from scratch. In this assignment, you will:\n",
        "\n",
        "- Predict analogies between words.\n",
        "- Use PCA to reduce the dimensionality of the word embeddings and plot them in two dimensions.\n",
        "- Compare word embeddings by using a similarity measure (the cosine similarity).\n",
        "- Understand how these vector space models work."
      ]
    },
    {
      "cell_type": "markdown",
      "metadata": {
        "id": "fW2BnT86aB7k",
        "colab_type": "text"
      },
      "source": [
        "### 1.0 Predict the Countries from Capitals"
      ]
    },
    {
      "cell_type": "markdown",
      "metadata": {
        "id": "6j2lZcxtaEV_",
        "colab_type": "text"
      },
      "source": [
        "In the lectures, we have illustrated the word analogies\n",
        "by finding the capital of a country from the country. \n",
        "We have changed the problem a bit in this part of the assignment. You are asked to predict the **countries** \n",
        "that corresponds to some **capitals**.\n",
        "You are playing trivia against some second grader who just took their geography test and knows all the capitals by heart.\n",
        "Thanks to NLP, you will be able to answer the questions properly. In other words, you will write a program that can give\n",
        "you the country by its capital. That way you are pretty sure you will win the trivia game. We will start by exploring the data set.\n",
        "\n",
        "<img src=\"https://raw.githubusercontent.com/rahiakela/img-repo/master/deeplearning.ai-NLPS/map.jpg\" width=\"width\" height=\"height\" style=\"width:467px;height:300px;\"/>"
      ]
    },
    {
      "cell_type": "markdown",
      "metadata": {
        "id": "u0dcou3waHul",
        "colab_type": "text"
      },
      "source": [
        "###  1.1 Importing the data"
      ]
    },
    {
      "cell_type": "markdown",
      "metadata": {
        "id": "7cZ0MgYIaL8E",
        "colab_type": "text"
      },
      "source": [
        "As usual, you start by importing some essential Python libraries and then load the dataset.\n",
        "The dataset will be loaded as a [Pandas DataFrame](https://pandas.pydata.org/pandas-docs/stable/getting_started/dsintro.html),\n",
        "which is very a common method in data science.\n",
        "This may take a few minutes because of the large size of the data."
      ]
    },
    {
      "cell_type": "code",
      "metadata": {
        "id": "X7Ot-IBfaOeT",
        "colab_type": "code",
        "colab": {}
      },
      "source": [
        "# Run this cell to import packages.\n",
        "import pickle\n",
        "import numpy as np\n",
        "import pandas as pd\n",
        "import matplotlib.pyplot as plt\n",
        "\n",
        "from utils import get_vectors"
      ],
      "execution_count": 1,
      "outputs": []
    },
    {
      "cell_type": "code",
      "metadata": {
        "id": "PCriV3PQcnN5",
        "colab_type": "code",
        "colab": {
          "base_uri": "https://localhost:8080/",
          "height": 0
        },
        "outputId": "9886badf-441a-4900-c3da-87faeb1bf9d6"
      },
      "source": [
        "data = pd.read_csv('capitals.txt', delimiter=' ')\n",
        "data.columns = ['city1', 'country1', 'city2', 'country2']\n",
        "\n",
        "# print first five elements in the DataFrame\n",
        "data.head()"
      ],
      "execution_count": 2,
      "outputs": [
        {
          "output_type": "execute_result",
          "data": {
            "text/html": [
              "<div>\n",
              "<style scoped>\n",
              "    .dataframe tbody tr th:only-of-type {\n",
              "        vertical-align: middle;\n",
              "    }\n",
              "\n",
              "    .dataframe tbody tr th {\n",
              "        vertical-align: top;\n",
              "    }\n",
              "\n",
              "    .dataframe thead th {\n",
              "        text-align: right;\n",
              "    }\n",
              "</style>\n",
              "<table border=\"1\" class=\"dataframe\">\n",
              "  <thead>\n",
              "    <tr style=\"text-align: right;\">\n",
              "      <th></th>\n",
              "      <th>city1</th>\n",
              "      <th>country1</th>\n",
              "      <th>city2</th>\n",
              "      <th>country2</th>\n",
              "    </tr>\n",
              "  </thead>\n",
              "  <tbody>\n",
              "    <tr>\n",
              "      <th>0</th>\n",
              "      <td>Athens</td>\n",
              "      <td>Greece</td>\n",
              "      <td>Bangkok</td>\n",
              "      <td>Thailand</td>\n",
              "    </tr>\n",
              "    <tr>\n",
              "      <th>1</th>\n",
              "      <td>Athens</td>\n",
              "      <td>Greece</td>\n",
              "      <td>Beijing</td>\n",
              "      <td>China</td>\n",
              "    </tr>\n",
              "    <tr>\n",
              "      <th>2</th>\n",
              "      <td>Athens</td>\n",
              "      <td>Greece</td>\n",
              "      <td>Berlin</td>\n",
              "      <td>Germany</td>\n",
              "    </tr>\n",
              "    <tr>\n",
              "      <th>3</th>\n",
              "      <td>Athens</td>\n",
              "      <td>Greece</td>\n",
              "      <td>Bern</td>\n",
              "      <td>Switzerland</td>\n",
              "    </tr>\n",
              "    <tr>\n",
              "      <th>4</th>\n",
              "      <td>Athens</td>\n",
              "      <td>Greece</td>\n",
              "      <td>Cairo</td>\n",
              "      <td>Egypt</td>\n",
              "    </tr>\n",
              "  </tbody>\n",
              "</table>\n",
              "</div>"
            ],
            "text/plain": [
              "    city1 country1    city2     country2\n",
              "0  Athens   Greece  Bangkok     Thailand\n",
              "1  Athens   Greece  Beijing        China\n",
              "2  Athens   Greece   Berlin      Germany\n",
              "3  Athens   Greece     Bern  Switzerland\n",
              "4  Athens   Greece    Cairo        Egypt"
            ]
          },
          "metadata": {
            "tags": []
          },
          "execution_count": 2
        }
      ]
    },
    {
      "cell_type": "markdown",
      "metadata": {
        "id": "Znbi9VxEdCDz",
        "colab_type": "text"
      },
      "source": [
        "#### To Run This Code On Your Own Machine:"
      ]
    },
    {
      "cell_type": "markdown",
      "metadata": {
        "id": "xyv86nsMdCpZ",
        "colab_type": "text"
      },
      "source": [
        "Note that because the original google news word embedding dataset is about 3.64 gigabytes,\n",
        "the workspace is not able to handle the full file set.  So we've downloaded the full dataset,\n",
        "extracted a sample of the words that we're going to analyze in this assignment, and saved\n",
        "it in a pickle file called `word_embeddings_capitals.p`\n",
        "\n",
        "If you want to download the full dataset on your own and choose your own set of word embeddings,\n",
        "please see the instructions and some helper code.\n",
        "\n",
        "- Download the dataset from this [page](https://code.google.com/archive/p/word2vec/).\n",
        "- Search in the page for 'GoogleNews-vectors-negative300.bin.gz' and click the link to download."
      ]
    },
    {
      "cell_type": "markdown",
      "metadata": {
        "id": "euGe8NKgdIvn",
        "colab_type": "text"
      },
      "source": [
        "Copy-paste the code below and run it on your local machine after downloading\n",
        "the dataset to the same directory as the notebook.\n",
        "\n",
        "```python\n",
        "import nltk\n",
        "from gensim.models import KeyedVectors\n",
        "\n",
        "\n",
        "embeddings = KeyedVectors.load_word2vec_format('./GoogleNews-vectors-negative300.bin', binary = True)\n",
        "f = open('capitals.txt', 'r').read()\n",
        "set_words = set(nltk.word_tokenize(f))\n",
        "select_words = words = ['king', 'queen', 'oil', 'gas', 'happy', 'sad', 'city', 'town', 'village', 'country', 'continent', 'petroleum', 'joyful']\n",
        "for w in select_words:\n",
        "    set_words.add(w)\n",
        "\n",
        "def get_word_embeddings(embeddings):\n",
        "\n",
        "    word_embeddings = {}\n",
        "    for word in embeddings.vocab:\n",
        "        if word in set_words:\n",
        "            word_embeddings[word] = embeddings[word]\n",
        "    return word_embeddings\n",
        "\n",
        "\n",
        "# Testing your function\n",
        "word_embeddings = get_word_embeddings(embeddings)\n",
        "print(len(word_embeddings))\n",
        "pickle.dump( word_embeddings, open( \"word_embeddings_subset.p\", \"wb\" ) )\n",
        "```\n",
        " "
      ]
    },
    {
      "cell_type": "code",
      "metadata": {
        "id": "G9BNRMI0c8Tr",
        "colab_type": "code",
        "colab": {
          "base_uri": "https://localhost:8080/",
          "height": 0
        },
        "outputId": "837ccda5-fb67-4f3d-cd9c-cab08bcf85e1"
      },
      "source": [
        "# download dataset\n",
        "!wget -P /tmp/input/ -c \"https://s3.amazonaws.com/dl4j-distribution/GoogleNews-vectors-negative300.bin.gz\""
      ],
      "execution_count": 3,
      "outputs": [
        {
          "output_type": "stream",
          "text": [
            "--2020-09-06 13:52:35--  https://s3.amazonaws.com/dl4j-distribution/GoogleNews-vectors-negative300.bin.gz\n",
            "Resolving s3.amazonaws.com (s3.amazonaws.com)... 52.217.0.29\n",
            "Connecting to s3.amazonaws.com (s3.amazonaws.com)|52.217.0.29|:443... connected.\n",
            "HTTP request sent, awaiting response... 200 OK\n",
            "Length: 1647046227 (1.5G) [application/x-gzip]\n",
            "Saving to: ‘/tmp/input/GoogleNews-vectors-negative300.bin.gz’\n",
            "\n",
            "GoogleNews-vectors- 100%[===================>]   1.53G  46.2MB/s    in 34s     \n",
            "\n",
            "2020-09-06 13:53:10 (45.8 MB/s) - ‘/tmp/input/GoogleNews-vectors-negative300.bin.gz’ saved [1647046227/1647046227]\n",
            "\n"
          ],
          "name": "stdout"
        }
      ]
    },
    {
      "cell_type": "code",
      "metadata": {
        "id": "o4v7vOAcHk4J",
        "colab_type": "code",
        "colab": {
          "base_uri": "https://localhost:8080/",
          "height": 0
        },
        "outputId": "52fc7885-bbf2-4dc8-b93c-3d1191daf051"
      },
      "source": [
        "import nltk\n",
        "from gensim.models import KeyedVectors\n",
        "nltk.download('punkt')"
      ],
      "execution_count": 4,
      "outputs": [
        {
          "output_type": "stream",
          "text": [
            "[nltk_data] Downloading package punkt to /root/nltk_data...\n",
            "[nltk_data]   Unzipping tokenizers/punkt.zip.\n"
          ],
          "name": "stdout"
        },
        {
          "output_type": "execute_result",
          "data": {
            "text/plain": [
              "True"
            ]
          },
          "metadata": {
            "tags": []
          },
          "execution_count": 4
        }
      ]
    },
    {
      "cell_type": "code",
      "metadata": {
        "id": "0D4D-O4QDLY7",
        "colab_type": "code",
        "colab": {
          "base_uri": "https://localhost:8080/",
          "height": 0
        },
        "outputId": "9dee362f-8a00-4086-8ed9-2ffd0cd607e2"
      },
      "source": [
        "embeddings = KeyedVectors.load_word2vec_format('/tmp/input/GoogleNews-vectors-negative300.bin.gz', binary = True)\n",
        "f = open('capitals.txt', 'r').read()\n",
        "set_words = set(nltk.word_tokenize(f))\n",
        "select_words = words = ['king', 'queen', 'oil', 'gas', 'happy', 'sad', 'city', 'town', 'village', 'country', 'continent', 'petroleum', 'joyful']\n",
        "for w in select_words:\n",
        "    set_words.add(w)\n",
        " \n",
        "def get_word_embeddings(embeddings):\n",
        " \n",
        "    word_embeddings = {}\n",
        "    for word in embeddings.vocab:\n",
        "        if word in set_words:\n",
        "            word_embeddings[word] = embeddings[word]\n",
        "    return word_embeddings\n",
        " \n",
        " \n",
        "# Testing your function\n",
        "word_embeddings = get_word_embeddings(embeddings)\n",
        "print(len(word_embeddings))\n",
        "pickle.dump( word_embeddings, open( \"word_embeddings_subset.p\", \"wb\" ) )"
      ],
      "execution_count": 5,
      "outputs": [
        {
          "output_type": "stream",
          "text": [
            "/usr/local/lib/python3.6/dist-packages/smart_open/smart_open_lib.py:254: UserWarning: This function is deprecated, use smart_open.open instead. See the migration notes for details: https://github.com/RaRe-Technologies/smart_open/blob/master/README.rst#migrating-to-the-new-open-function\n",
            "  'See the migration notes for details: %s' % _MIGRATION_NOTES_URL\n"
          ],
          "name": "stderr"
        },
        {
          "output_type": "stream",
          "text": [
            "243\n"
          ],
          "name": "stdout"
        }
      ]
    },
    {
      "cell_type": "markdown",
      "metadata": {
        "id": "uy6f6wIrDQdD",
        "colab_type": "text"
      },
      "source": [
        "Now we will load the word embeddings as a [Python dictionary](https://docs.python.org/3/tutorial/datastructures.html#dictionaries).\n",
        "As stated, these have already been obtained through a machine learning algorithm."
      ]
    },
    {
      "cell_type": "code",
      "metadata": {
        "id": "IJ0hPxWbDRAJ",
        "colab_type": "code",
        "colab": {
          "base_uri": "https://localhost:8080/",
          "height": 0
        },
        "outputId": "6d86d287-5e46-4f8f-bf68-b0bc2de19dd1"
      },
      "source": [
        "word_embeddings = pickle.load(open(\"word_embeddings_subset.p\", \"rb\"))\n",
        "# there should be 243 words that will be used in this assignment\n",
        "len(word_embeddings)"
      ],
      "execution_count": 6,
      "outputs": [
        {
          "output_type": "execute_result",
          "data": {
            "text/plain": [
              "243"
            ]
          },
          "metadata": {
            "tags": []
          },
          "execution_count": 6
        }
      ]
    },
    {
      "cell_type": "markdown",
      "metadata": {
        "id": "BTwZsbs0Hw9g",
        "colab_type": "text"
      },
      "source": [
        "Each of the word embedding is a 300-dimensional vector."
      ]
    },
    {
      "cell_type": "code",
      "metadata": {
        "id": "FK6vDW14HgOF",
        "colab_type": "code",
        "colab": {
          "base_uri": "https://localhost:8080/",
          "height": 0
        },
        "outputId": "929c00f6-a98e-42c2-87c9-97e12d677c00"
      },
      "source": [
        "print(\"dimension: {}\".format(word_embeddings['Spain'].shape[0]))"
      ],
      "execution_count": 7,
      "outputs": [
        {
          "output_type": "stream",
          "text": [
            "dimension: 300\n"
          ],
          "name": "stdout"
        }
      ]
    },
    {
      "cell_type": "markdown",
      "metadata": {
        "id": "sF51SxubH-UB",
        "colab_type": "text"
      },
      "source": [
        "#### Predict relationships among words"
      ]
    },
    {
      "cell_type": "markdown",
      "metadata": {
        "id": "ZhSYHAw-IMXW",
        "colab_type": "text"
      },
      "source": [
        "Now you will write a function that will use the word embeddings to predict relationships among words.\n",
        "* The function will take as input three words.\n",
        "* The first two are related to each other.\n",
        "* It will predict a 4th word which is related to the third word in a similar manner as the two first words are related to each other.\n",
        "* As an example, \"Athens is to Greece as Bangkok is to ______\"?\n",
        "* You will write a program that is capable of finding the fourth word.\n",
        "* We will give you a hint to show you how to compute this.\n",
        "\n",
        "A similar analogy would be the following:\n",
        "\n",
        "<img src=\"https://raw.githubusercontent.com/rahiakela/img-repo/master/deeplearning.ai-NLPS/vectors.jpg\" width=\"width\" height=\"height\" style=\"width:467px;height:300px;\"/>\n",
        "\n",
        "You will implement a function that can tell you the capital of a country.\n",
        "You should use the same methodology shown in the figure above. To do this,\n",
        "compute you'll first compute cosine similarity metric or the Euclidean distance."
      ]
    },
    {
      "cell_type": "markdown",
      "metadata": {
        "id": "KHO-5bV3Ige6",
        "colab_type": "text"
      },
      "source": [
        "### 1.2 Cosine Similarity"
      ]
    },
    {
      "cell_type": "markdown",
      "metadata": {
        "id": "cq0fE9XlIjkY",
        "colab_type": "text"
      },
      "source": [
        "The cosine similarity function is:\n",
        "\n",
        "$$\\cos (\\theta)=\\frac{\\mathbf{A} \\cdot \\mathbf{B}}{\\|\\mathbf{A}\\|\\|\\mathbf{B}\\|}=\\frac{\\sum_{i=1}^{n} A_{i} B_{i}}{\\sqrt{\\sum_{i=1}^{n} A_{i}^{2}} \\sqrt{\\sum_{i=1}^{n} B_{i}^{2}}}\\tag{1}$$\n",
        "\n",
        "$A$ and $B$ represent the word vectors and $A_i$ or $B_i$ represent index i of that vector.\n",
        "& Note that if A and B are identical, you will get $cos(\\theta) = 1$.\n",
        "* Otherwise, if they are the total opposite, meaning, $A= -B$, then you would get $cos(\\theta) = -1$.\n",
        "* If you get $cos(\\theta) =0$, that means that they are orthogonal (or perpendicular).\n",
        "* Numbers between 0 and 1 indicate a similarity score.\n",
        "* Numbers between -1-0 indicate a dissimilarity score.\n",
        "\n",
        "**Instructions**: Implement a function that takes in two word vectors and computes the cosine distance."
      ]
    },
    {
      "cell_type": "markdown",
      "metadata": {
        "id": "nQI8GIbbInmn",
        "colab_type": "text"
      },
      "source": [
        "<details>\n",
        "<summary>\n",
        "    <font size=\"3\" color=\"darkgreen\"><b>Hints</b></font>\n",
        "</summary>\n",
        "<p>\n",
        "<ul>\n",
        "    <li> Python's<a href=\"https://docs.scipy.org/doc/numpy/reference/\" > NumPy library </a> adds support for linear algebra operations (e.g., dot product, vector norm ...).</li>\n",
        "    <li>Use <a href=\"https://docs.scipy.org/doc/numpy/reference/generated/numpy.dot.html\" > numpy.dot </a>.</li>\n",
        "    <li>Use <a href=\"https://docs.scipy.org/doc/numpy/reference/generated/numpy.linalg.norm.html\">numpy.linalg.norm </a>.</li>\n",
        "</ul>\n",
        "</p>"
      ]
    },
    {
      "cell_type": "code",
      "metadata": {
        "id": "2iBU63QWIcL9",
        "colab_type": "code",
        "colab": {}
      },
      "source": [
        "# UNQ_C2 (UNIQUE CELL IDENTIFIER, DO NOT EDIT)\n",
        "def cosine_similarity(A, B):\n",
        "  \"\"\"\n",
        "  Input:\n",
        "      A: a numpy array which corresponds to a word vector\n",
        "      B: A numpy array which corresponds to a word vector\n",
        "  Output:\n",
        "      d: numerical number representing the cosine similarity between A and B.\n",
        "  \"\"\"\n",
        "  ### START CODE HERE (REPLACE INSTANCES OF 'None' with your code) ###\n",
        "\n",
        "  dot = np.dot(A, B)\n",
        "  norma = np.sqrt(np.dot(A, A))\n",
        "  normb = np.sqrt(np.dot(B, B))\n",
        "  cos = dot / (norma * normb)\n",
        "\n",
        "  ### END CODE HERE ###\n",
        "\n",
        "  return cos"
      ],
      "execution_count": 8,
      "outputs": []
    },
    {
      "cell_type": "code",
      "metadata": {
        "id": "Je6CiC0IQOFc",
        "colab_type": "code",
        "colab": {
          "base_uri": "https://localhost:8080/",
          "height": 0
        },
        "outputId": "5cd77f00-da96-4afd-d0bb-a676339b4144"
      },
      "source": [
        "# feel free to try different words\n",
        "king = word_embeddings['king'] \n",
        "queen = word_embeddings['queen']\n",
        "\n",
        "cosine_similarity(king, queen)"
      ],
      "execution_count": 9,
      "outputs": [
        {
          "output_type": "execute_result",
          "data": {
            "text/plain": [
              "0.6510956"
            ]
          },
          "metadata": {
            "tags": []
          },
          "execution_count": 9
        }
      ]
    },
    {
      "cell_type": "markdown",
      "metadata": {
        "id": "8ycTgG6YR4RR",
        "colab_type": "text"
      },
      "source": [
        "**Expected Output**:\n",
        "\n",
        "$\\approx$ 0.6510956"
      ]
    },
    {
      "cell_type": "markdown",
      "metadata": {
        "id": "0L9M-8RAQ6mz",
        "colab_type": "text"
      },
      "source": [
        "### 1.3 Euclidean distance"
      ]
    },
    {
      "cell_type": "markdown",
      "metadata": {
        "id": "Rz4NJH4lQ62i",
        "colab_type": "text"
      },
      "source": [
        "You will now implement a function that computes the similarity between two vectors using the Euclidean distance.\n",
        "Euclidean distance is defined as:\n",
        "\n",
        "$$ \\begin{aligned} d(\\mathbf{A}, \\mathbf{B})=d(\\mathbf{B}, \\mathbf{A}) &=\\sqrt{\\left(A_{1}-B_{1}\\right)^{2}+\\left(A_{2}-B_{2}\\right)^{2}+\\cdots+\\left(A_{n}-B_{n}\\right)^{2}} \\\\ &=\\sqrt{\\sum_{i=1}^{n}\\left(A_{i}-B_{i}\\right)^{2}} \\end{aligned}$$\n",
        "\n",
        "* $n$ is the number of elements in the vector\n",
        "* $A$ and $B$ are the corresponding word vectors. \n",
        "* The more similar the words, the more likely the Euclidean distance will be close to 0. \n",
        "\n",
        "**Instructions**: Write a function that computes the Euclidean distance between two vectors."
      ]
    },
    {
      "cell_type": "markdown",
      "metadata": {
        "id": "uOiERpQJSKbM",
        "colab_type": "text"
      },
      "source": [
        "<details>    \n",
        "<summary>\n",
        "    <font size=\"3\" color=\"darkgreen\"><b>Hints</b></font>\n",
        "</summary>\n",
        "<p>\n",
        "<ul>\n",
        "    <li>Use <a href=\"https://docs.scipy.org/doc/numpy/reference/generated/numpy.linalg.norm.html\" > numpy.linalg.norm </a>.</li>\n",
        "</ul>\n",
        "</p>"
      ]
    },
    {
      "cell_type": "code",
      "metadata": {
        "id": "d2M81VGVQ7MM",
        "colab_type": "code",
        "colab": {}
      },
      "source": [
        "# UNQ_C2 (UNIQUE CELL IDENTIFIER, DO NOT EDIT)\n",
        "def euclidean(A, B):\n",
        "  \"\"\"\n",
        "  Input:\n",
        "      A: a numpy array which corresponds to a word vector\n",
        "      B: A numpy array which corresponds to a word vector\n",
        "  Output:\n",
        "      d: numerical number representing the Euclidean distance between A and B.\n",
        "  \"\"\"\n",
        "  ### START CODE HERE (REPLACE INSTANCES OF 'None' with your code) ###\n",
        "\n",
        "  # euclidean distance\n",
        "  d = np.linalg.norm(A-B)\n",
        "\n",
        "  ### END CODE HERE ###\n",
        "\n",
        "  return d"
      ],
      "execution_count": 10,
      "outputs": []
    },
    {
      "cell_type": "code",
      "metadata": {
        "id": "tno5tCMAS0Ct",
        "colab_type": "code",
        "colab": {
          "base_uri": "https://localhost:8080/",
          "height": 0
        },
        "outputId": "d45c1e5f-c66f-4976-c719-395186374698"
      },
      "source": [
        "# Test your function\n",
        "euclidean(king, queen)"
      ],
      "execution_count": 11,
      "outputs": [
        {
          "output_type": "execute_result",
          "data": {
            "text/plain": [
              "2.4796925"
            ]
          },
          "metadata": {
            "tags": []
          },
          "execution_count": 11
        }
      ]
    },
    {
      "cell_type": "markdown",
      "metadata": {
        "id": "t_yigtyAS8JJ",
        "colab_type": "text"
      },
      "source": [
        "**Expected Output:**\n",
        "\n",
        "2.4796925"
      ]
    },
    {
      "cell_type": "markdown",
      "metadata": {
        "id": "Xk59AhXUTAQV",
        "colab_type": "text"
      },
      "source": [
        "### 1.4 Finding the country of each capital"
      ]
    },
    {
      "cell_type": "markdown",
      "metadata": {
        "id": "i3oavDDjTAu5",
        "colab_type": "text"
      },
      "source": [
        "Now, you  will use the previous functions to compute similarities between vectors,\n",
        "and use these to find the capital cities of countries. You will write a function that\n",
        "takes in three words, and the embeddings dictionary. Your task is to find the\n",
        "capital cities. For example, given the following words: \n",
        "\n",
        "- 1: Athens 2: Greece 3: Baghdad,\n",
        "\n",
        "your task is to predict the country 4: Iraq.\n",
        "\n",
        "**Instructions**: \n",
        "\n",
        "1. To predict the capital you might want to look at the *King - Man + Woman = Queen* example above, and implement that scheme into a mathematical function, using the word embeddings and a similarity function.\n",
        "\n",
        "2. Iterate over the embeddings dictionary and compute the cosine similarity score between your vector and the current word embedding.\n",
        "\n",
        "3. You should add a check to make sure that the word you return is not any of the words that you fed into your function. Return the one with the highest score."
      ]
    },
    {
      "cell_type": "code",
      "metadata": {
        "id": "9gXO8a63S5mL",
        "colab_type": "code",
        "colab": {}
      },
      "source": [
        "# UNQ_C3 (UNIQUE CELL IDENTIFIER, DO NOT EDIT)\n",
        "def get_country(city1, country1, city2, embeddings):\n",
        "  \"\"\"\n",
        "  Input:\n",
        "      city1: a string (the capital city of country1)\n",
        "      country1: a string (the country of capital1)\n",
        "      city2: a string (the capital city of country2)\n",
        "      embeddings: a dictionary where the keys are words and values are their embeddings\n",
        "  Output:\n",
        "      countries: a dictionary with the most likely country and its similarity score\n",
        "  \"\"\"\n",
        "  ### START CODE HERE (REPLACE INSTANCES OF 'None' with your code) ###\n",
        "\n",
        "  # store the city1, country 1, and city 2 in a set called group\n",
        "  group = set((city1, country1, city2))\n",
        "\n",
        "  # get embeddings of city 1\n",
        "  city1_emb = word_embeddings[city1]\n",
        "  # get embedding of country 1\n",
        "  country1_emb = word_embeddings[country1]\n",
        "  # get embedding of city 2\n",
        "  city2_emb = word_embeddings[city2]\n",
        "\n",
        "  # get embedding of country 2 (it's a combination of the embeddings of country 1, city 1 and city 2)\n",
        "  # Remember: King - Man + Woman = Queen\n",
        "  vec = country1_emb - city1_emb + city2_emb\n",
        "\n",
        "  # Initialize the similarity to -1 (it will be replaced by a similarities that are closer to +1)\n",
        "  similarity = -1\n",
        "  # initialize country to an empty string\n",
        "  country = ''\n",
        "\n",
        "  # loop through all words in the embeddings dictionary\n",
        "  for word in embeddings.keys():\n",
        "    # first check that the word is not already in the 'group'\n",
        "    if word not in group:\n",
        "      # get the word embedding\n",
        "      word_emb = word_embeddings[word]\n",
        "      # calculate cosine similarity between embedding of country 2 and the word in the embeddings dictionary\n",
        "      cur_similarity = cosine_similarity(vec, word_emb)\n",
        "      # if the cosine similarity is more similar than the previously best similarity...\n",
        "      if cur_similarity > similarity:\n",
        "        # update the similarity to the new, better similarity\n",
        "        similarity = cur_similarity\n",
        "        # store the country as a tuple, which contains the word and the similarity\n",
        "        country = (word, similarity)\n",
        "\n",
        "  ### END CODE HERE ###\n",
        "\n",
        "  return country"
      ],
      "execution_count": 12,
      "outputs": []
    },
    {
      "cell_type": "code",
      "metadata": {
        "id": "lBEuIr4mmk6B",
        "colab_type": "code",
        "colab": {
          "base_uri": "https://localhost:8080/",
          "height": 0
        },
        "outputId": "4973f100-d6c6-4ed6-d5e5-8d363742a2ec"
      },
      "source": [
        "# Testing your function, note to make it more robust you can return the 5 most similar words.\n",
        "get_country('Athens', 'Greece', 'Cairo', word_embeddings)"
      ],
      "execution_count": 13,
      "outputs": [
        {
          "output_type": "execute_result",
          "data": {
            "text/plain": [
              "('Egypt', 0.7626821)"
            ]
          },
          "metadata": {
            "tags": []
          },
          "execution_count": 13
        }
      ]
    },
    {
      "cell_type": "markdown",
      "metadata": {
        "id": "JvyoZuseofxE",
        "colab_type": "text"
      },
      "source": [
        "**Expected Output:**\n",
        "\n",
        "('Egypt', 0.7626821)"
      ]
    },
    {
      "cell_type": "markdown",
      "metadata": {
        "id": "L_VtL5OFogQt",
        "colab_type": "text"
      },
      "source": [
        "### 1.5 Model Accuracy"
      ]
    },
    {
      "cell_type": "markdown",
      "metadata": {
        "id": "OE0qTWEqoisz",
        "colab_type": "text"
      },
      "source": [
        "Now you will test your new function on the dataset and check the accuracy of the model:\n",
        "\n",
        "$$\\text{Accuracy}=\\frac{\\text{Correct # of predictions}}{\\text{Total # of predictions}}$$\n",
        "\n",
        "**Instructions**: Write a program that can compute the accuracy on the dataset provided for you. You have to iterate over every row to get the corresponding words and feed them into you `get_country` function above. "
      ]
    },
    {
      "cell_type": "markdown",
      "metadata": {
        "id": "eu70BWsdolIu",
        "colab_type": "text"
      },
      "source": [
        "<details>\n",
        "<summary>\n",
        "    <font size=\"3\" color=\"darkgreen\"><b>Hints</b></font>\n",
        "</summary>\n",
        "<p>\n",
        "<ul>\n",
        "    <li>Use <a href=\"https://pandas.pydata.org/pandas-docs/stable/reference/api/pandas.DataFrame.iterrows.html\" > pandas.DataFrame.iterrows </a>.</li>\n",
        "</ul>\n",
        "</p>"
      ]
    },
    {
      "cell_type": "code",
      "metadata": {
        "id": "0aK49swGob8e",
        "colab_type": "code",
        "colab": {}
      },
      "source": [
        "# UNQ_C4 (UNIQUE CELL IDENTIFIER, DO NOT EDIT)\n",
        "def get_accuracy(word_embeddings, data):\n",
        "  \"\"\"\n",
        "  Input:\n",
        "      word_embeddings: a dictionary where the key is a word and the value is its embedding\n",
        "      data: a pandas dataframe containing all the country and capital city pairs\n",
        "  \n",
        "  Output:\n",
        "      accuracy: the accuracy of the model\n",
        "  \"\"\"\n",
        "  ### START CODE HERE (REPLACE INSTANCES OF 'None' with your code) ###\n",
        "\n",
        "  # initialize num correct to zero\n",
        "  num_correct = 0\n",
        "\n",
        "  # loop through the rows of the dataframe\n",
        "  for i, row in data.iterrows():\n",
        "    # get city1\n",
        "    city1 = row['city1']\n",
        "    # get country1\n",
        "    country1 = row['country1']\n",
        "    # get city2\n",
        "    city2 = row['city2']\n",
        "    # get country2\n",
        "    country2 = row['country2']\n",
        "\n",
        "    # use get_country to find the predicted country2\n",
        "    predicted_country2, _ = get_country(city1, country1, city2, word_embeddings)\n",
        "\n",
        "    # if the predicted country2 is the same as the actual country2...\n",
        "    if predicted_country2 == country2:\n",
        "      # increment the number of correct by 1\n",
        "      num_correct += 1\n",
        "\n",
        "  # get the number of rows in the data dataframe (length of dataframe)\n",
        "  m = len(data)\n",
        "  # calculate the accuracy by dividing the number correct by m\n",
        "  accuracy = num_correct / m\n",
        "\n",
        "  ### END CODE HERE ###\n",
        "\n",
        "  return accuracy"
      ],
      "execution_count": 14,
      "outputs": []
    },
    {
      "cell_type": "markdown",
      "metadata": {
        "id": "OJCrt9axqRUP",
        "colab_type": "text"
      },
      "source": [
        "**NOTE: The cell below takes about 30 SECONDS to run.**"
      ]
    },
    {
      "cell_type": "code",
      "metadata": {
        "id": "37w3veYcqPPT",
        "colab_type": "code",
        "colab": {
          "base_uri": "https://localhost:8080/",
          "height": 0
        },
        "outputId": "fedd4fd1-0c4b-43f5-cf38-54445195b8ff"
      },
      "source": [
        "accuracy = get_accuracy(word_embeddings, data)\n",
        "print(f\"Accuracy is {accuracy:.2f}\")"
      ],
      "execution_count": 15,
      "outputs": [
        {
          "output_type": "stream",
          "text": [
            "Accuracy is 0.92\n"
          ],
          "name": "stdout"
        }
      ]
    },
    {
      "cell_type": "markdown",
      "metadata": {
        "id": "0SDsJ0Byqf-i",
        "colab_type": "text"
      },
      "source": [
        "**Expected Output:**\n",
        "\n",
        "$\\approx$ 0.92"
      ]
    },
    {
      "cell_type": "markdown",
      "metadata": {
        "id": "hg-J3GmOqhEv",
        "colab_type": "text"
      },
      "source": [
        "## Plotting the vectors using PCA"
      ]
    },
    {
      "cell_type": "markdown",
      "metadata": {
        "id": "lOXNaAQqqkzJ",
        "colab_type": "text"
      },
      "source": [
        "Now you will explore the distance between word vectors after reducing their dimension.\n",
        "The technique we will employ is known as\n",
        "[*principal component analysis* (PCA)](https://en.wikipedia.org/wiki/Principal_component_analysis).\n",
        "As we saw, we are working in a 300-dimensional space in this case.\n",
        "Although from a computational perspective we were able to perform a good job,\n",
        "it is impossible to visualize results in such high dimensional spaces.\n",
        "\n",
        "You can think of PCA as a method that projects our vectors in a space of reduced\n",
        "dimension, while keeping the maximum information about the original vectors in\n",
        "their reduced counterparts. In this case, by *maximum infomation* we mean that the\n",
        "Euclidean distance between the original vectors and their projected siblings is\n",
        "minimal. Hence vectors that were originally close in the embeddings dictionary,\n",
        "will produce lower dimensional vectors that are still close to each other.\n",
        "\n",
        "You will see that when you map out the words, similar words will be clustered\n",
        "next to each other. For example, the words 'sad', 'happy', 'joyful' all describe\n",
        "emotion and are supposed to be near each other when plotted.\n",
        "The words: 'oil', 'gas', and 'petroleum' all describe natural resources.\n",
        "Words like 'city', 'village', 'town' could be seen as synonyms and describe a\n",
        "similar thing.\n",
        "\n",
        "Before plotting the words, you need to first be able to reduce each word vector\n",
        "with PCA into 2 dimensions and then plot it. The steps to compute PCA are as follows:\n",
        "\n",
        "1. Mean normalize the data\n",
        "2. Compute the covariance matrix of your data ($\\Sigma$). \n",
        "3. Compute the eigenvectors and the eigenvalues of your covariance matrix\n",
        "4. Multiply the first K eigenvectors by your normalized data. The transformation should look something as follows:\n",
        "\n",
        "<img src=\"https://raw.githubusercontent.com/rahiakela/img-repo/master/deeplearning.ai-NLPS/word_embf.jpg\" width=\"width\" height=\"height\" style=\"width:467px;height:300px;\"/>\n",
        "\n",
        "**Instructions**: \n",
        "\n",
        "You will write a program that takes in a data set where each row corresponds to a word vector. \n",
        "* The word vectors are of dimension 300. \n",
        "* Use PCA to change the 300 dimensions to `n_components` dimensions. \n",
        "* The new matrix should be of dimension `m, n_componentns`. \n",
        "\n",
        "* First de-mean the data\n",
        "* Get the eigenvalues using `linalg.eigh`.  Use `eigh` rather than `eig` since R is symmetric.  The performance gain when using `eigh` instead of `eig` is substantial.\n",
        "* Sort the eigenvectors and eigenvalues by decreasing order of the eigenvalues.\n",
        "* Get a subset of the eigenvectors (choose how many principle components you want to use using `n_components`).\n",
        "* Return the new transformation of the data by multiplying the eigenvectors with the original data."
      ]
    },
    {
      "cell_type": "markdown",
      "metadata": {
        "id": "Y6Da7gFiqucf",
        "colab_type": "text"
      },
      "source": [
        "<details>\n",
        "<summary>\n",
        "    <font size=\"3\" color=\"darkgreen\"><b>Hints</b></font>\n",
        "</summary>\n",
        "<p>\n",
        "<ul>\n",
        "    <li>Use <a href=\"https://docs.scipy.org/doc/numpy/reference/generated/numpy.mean.html\" > numpy.mean(a,axis=None) </a> : If you set <code>axis = 0</code>, you take the mean for each column.  If you set <code>axis = 1</code>, you take the mean for each row.  Remember that each row is a word vector, and the number of columns are the number of dimensions in a word vector. </li>\n",
        "    <li>Use <a href=\"https://docs.scipy.org/doc/numpy/reference/generated/numpy.cov.html\" > numpy.cov(m, rowvar=True) </a>. This calculates the covariance matrix.  By default <code>rowvar</code> is <code>True</code>.  From the documentation: \"If rowvar is True (default), then each row represents a variable, with observations in the columns.\"  In our case, each row is a word vector observation, and each column is a feature (variable). </li>\n",
        "    <li>Use <a href=\"https://docs.scipy.org/doc/numpy/reference/generated/numpy.linalg.eigh.html\" > numpy.linalg.eigh(a, UPLO='L') </a> </li>\n",
        "    <li>Use <a href=\"https://docs.scipy.org/doc/numpy/reference/generated/numpy.argsort.html\" > numpy.argsort </a> sorts the values in an array from smallest to largest, then returns the indices from this sort. </li>\n",
        "    <li>In order to reverse the order of a list, you can use: <code>x[::-1]</code>.</li>\n",
        "    <li>To apply the sorted indices to eigenvalues, you can use this format <code>x[indices_sorted]</code>.</li>\n",
        "    <li>When applying the sorted indices to eigen vectors, note that each column represents an eigenvector.  In order to preserve the rows but sort on the columns, you can use this format <code>x[:,indices_sorted]</code></li>\n",
        "    <li>To transform the data using a subset of the most relevant principle components, take the matrix multiplication of the eigenvectors with the original data.  </li>\n",
        "    <li>The data is of shape <code>(n_observations, n_features)</code>.  </li>\n",
        "    <li>The subset of eigenvectors are in a matrix of shape <code>(n_features, n_components)</code>.</li>\n",
        "    <li>To multiply these together, take the transposes of both the eigenvectors <code>(n_components, n_features)</code> and the data (n_features, n_observations).</li>\n",
        "    <li>The product of these two has dimensions <code>(n_components,n_observations)</code>.  Take its transpose to get the shape <code>(n_observations, n_components)</code>.</li>\n",
        "</ul>\n",
        "</p>"
      ]
    },
    {
      "cell_type": "code",
      "metadata": {
        "id": "hmz8oY-mqdhf",
        "colab_type": "code",
        "colab": {}
      },
      "source": [
        "# UNQ_C5 (UNIQUE CELL IDENTIFIER, DO NOT EDIT)\n",
        "def compute_pca(X, n_components=2):\n",
        "  \"\"\"\n",
        "  Input:\n",
        "      X: of dimension (m,n) where each row corresponds to a word vector\n",
        "      n_components: Number of components you want to keep.\n",
        "  Output:\n",
        "      X_reduced: data transformed in 2 dims/columns + regenerated original data\n",
        "  \"\"\"\n",
        "  ### START CODE HERE (REPLACE INSTANCES OF 'None' with your code) ###\n",
        "\n",
        "\n",
        "  # mean center the data\n",
        "  X_demeaned = X - np.mean(X, axis=0)\n",
        "  print('X_demeaned.shape: ', X_demeaned.shape)\n",
        "\n",
        "  # calculate the covariance matrix\n",
        "  covariance_matrix = np.cov(X_demeaned, rowvar=False)\n",
        "\n",
        "  # calculate eigenvectors & eigenvalues of the covariance matrix\n",
        "  eigen_vals, eigen_vecs = np.linalg.eigh(covariance_matrix, UPLO='L')\n",
        "\n",
        "  # sort eigenvalue in increasing order (get the indices from the sort)\n",
        "  idx_sorted = np.argsort(eigen_vals)\n",
        "\n",
        "  # reverse the order so that it's from highest to lowest.\n",
        "  idx_sorted_decreasing = idx_sorted[::-1]\n",
        "\n",
        "  # sort the eigen values by idx_sorted_decreasing\n",
        "  eigen_vals_sorted = eigen_vals[idx_sorted_decreasing]\n",
        "\n",
        "  # sort eigenvectors using the idx_sorted_decreasing indices\n",
        "  eigen_vecs_sorted = eigen_vecs[:, idx_sorted_decreasing]\n",
        "\n",
        "  # select the first n eigenvectors (n is desired dimension\n",
        "  # of rescaled data array, or dims_rescaled_data)\n",
        "  eigen_vecs_subset = eigen_vecs_sorted[:, 0: n_components]\n",
        "\n",
        "  # transform the data by multiplying the transpose of the eigenvectors \n",
        "  # with the transpose of the de-meaned data, Then take the transpose of that product. \n",
        "  X_reduced = np.dot(eigen_vecs_subset.transpose(), X_demeaned.transpose()).transpose()\n",
        "\n",
        "  ### END CODE HERE ###\n",
        "\n",
        "  return X_reduced"
      ],
      "execution_count": 19,
      "outputs": []
    },
    {
      "cell_type": "code",
      "metadata": {
        "id": "v-YYkwD8y6sG",
        "colab_type": "code",
        "colab": {
          "base_uri": "https://localhost:8080/",
          "height": 177
        },
        "outputId": "9ba562e3-1260-4440-fdf1-f459be52eae8"
      },
      "source": [
        "# Testing your function\n",
        "np.random.seed(1)\n",
        "X = np.random.rand(3, 10)\n",
        "print(X)"
      ],
      "execution_count": 20,
      "outputs": [
        {
          "output_type": "stream",
          "text": [
            "[[4.17022005e-01 7.20324493e-01 1.14374817e-04 3.02332573e-01\n",
            "  1.46755891e-01 9.23385948e-02 1.86260211e-01 3.45560727e-01\n",
            "  3.96767474e-01 5.38816734e-01]\n",
            " [4.19194514e-01 6.85219500e-01 2.04452250e-01 8.78117436e-01\n",
            "  2.73875932e-02 6.70467510e-01 4.17304802e-01 5.58689828e-01\n",
            "  1.40386939e-01 1.98101489e-01]\n",
            " [8.00744569e-01 9.68261576e-01 3.13424178e-01 6.92322616e-01\n",
            "  8.76389152e-01 8.94606664e-01 8.50442114e-02 3.90547832e-02\n",
            "  1.69830420e-01 8.78142503e-01]]\n"
          ],
          "name": "stdout"
        }
      ]
    },
    {
      "cell_type": "code",
      "metadata": {
        "id": "gdiybbbGzBkQ",
        "colab_type": "code",
        "colab": {
          "base_uri": "https://localhost:8080/",
          "height": 106
        },
        "outputId": "ac6bbccf-9f0c-4e8b-92f1-3960e2b722eb"
      },
      "source": [
        "X_reduced = compute_pca(X, n_components=2)\n",
        "print(f'Your original matrix was {str(X.shape)} and it became:')\n",
        "print(X_reduced)"
      ],
      "execution_count": 21,
      "outputs": [
        {
          "output_type": "stream",
          "text": [
            "X_demeaned.shape:  (3, 10)\n",
            "Your original matrix was (3, 10) and it became:\n",
            "[[ 0.43437323  0.49820384]\n",
            " [ 0.42077249 -0.50351448]\n",
            " [-0.85514571  0.00531064]]\n"
          ],
          "name": "stdout"
        }
      ]
    },
    {
      "cell_type": "markdown",
      "metadata": {
        "id": "U8rqA_ki0BBg",
        "colab_type": "text"
      },
      "source": [
        "**Expected Output:**\n",
        "\n",
        "Your original matrix was: (3,10) and it became:\n",
        "\n",
        "<table>\n",
        "    <tr>\n",
        "        <td>\n",
        "           0.43437323\n",
        "            </td>\n",
        "                <td>\n",
        "            0.49820384\n",
        "            </td>\n",
        "    </tr>\n",
        "    <tr>\n",
        "        <td>\n",
        "            0.42077249\n",
        "            </td>\n",
        "                <td>\n",
        "           -0.50351448\n",
        "            </td>\n",
        "    </tr>\n",
        "    <tr>\n",
        "        <td>\n",
        "            -0.85514571\n",
        "            </td>\n",
        "                <td>\n",
        "           0.00531064\n",
        "            </td>\n",
        "    </tr>\n",
        "</table>\n",
        "\n",
        "Now you will use your pca function to plot a few words we have chosen for you.\n",
        "You will see that similar words tend to be clustered near each other.\n",
        "Sometimes, even antonyms tend to be clustered near each other. Antonyms\n",
        "describe the same thing but just tend to be on the other end of the scale\n",
        "They are usually found in the same location of a sentence,\n",
        "have the same parts of speech, and thus when\n",
        "learning the word vectors, you end up getting similar weights. In the next week\n",
        "we will go over how you learn them, but for now let's just enjoy using them.\n",
        "\n",
        "**Instructions:** Run the cell below."
      ]
    },
    {
      "cell_type": "code",
      "metadata": {
        "id": "Q7B6nq3azVlK",
        "colab_type": "code",
        "colab": {
          "base_uri": "https://localhost:8080/",
          "height": 35
        },
        "outputId": "2ff8f6f2-6c91-4bc2-813d-096b4121e44b"
      },
      "source": [
        "words = ['oil', 'gas', 'happy', 'sad', 'city', 'town',\n",
        "         'village', 'country', 'continent', 'petroleum', 'joyful']\n",
        "\n",
        "# given a list of words and the embeddings, it returns a matrix with all the embeddings\n",
        "X = get_vectors(word_embeddings, words)\n",
        "print(f'You have 11 words each of 300 dimensions thus X.shape is: {X.shape}')"
      ],
      "execution_count": 22,
      "outputs": [
        {
          "output_type": "stream",
          "text": [
            "You have 11 words each of 300 dimensions thus X.shape is: (11, 300)\n"
          ],
          "name": "stdout"
        }
      ]
    },
    {
      "cell_type": "code",
      "metadata": {
        "id": "D9EbzOGl02g-",
        "colab_type": "code",
        "colab": {
          "base_uri": "https://localhost:8080/",
          "height": 287
        },
        "outputId": "1ac49050-bca0-48ba-a52d-c86c32fcdddf"
      },
      "source": [
        "# We have done the plotting for you. Just run this cell.\n",
        "result = compute_pca(X, 2)\n",
        "plt.scatter(result[:, 0], result[:, 1])\n",
        "for i, word in enumerate(words):\n",
        "  plt.annotate(word, xy=(result[i, 0] - 0.05, result[i, 1] + 0.1))\n",
        "plt.show()"
      ],
      "execution_count": 23,
      "outputs": [
        {
          "output_type": "stream",
          "text": [
            "X_demeaned.shape:  (11, 300)\n"
          ],
          "name": "stdout"
        },
        {
          "output_type": "display_data",
          "data": {
            "image/png": "[encoded data removed]",
            "text/plain": [
              "<Figure size 432x288 with 1 Axes>"
            ]
          },
          "metadata": {
            "tags": [],
            "needs_background": "light"
          }
        }
      ]
    },
    {
      "cell_type": "markdown",
      "metadata": {
        "id": "506Vfrf71_6Q",
        "colab_type": "text"
      },
      "source": [
        "**What do you notice?**\n",
        "\n",
        "The word vectors for 'gas', 'oil' and 'petroleum' appear related to each other,\n",
        "because their vectors are close to each other.  Similarly, 'sad', 'joyful'\n",
        "and 'happy' all express emotions, and are also near each other."
      ]
    }
  ]
}