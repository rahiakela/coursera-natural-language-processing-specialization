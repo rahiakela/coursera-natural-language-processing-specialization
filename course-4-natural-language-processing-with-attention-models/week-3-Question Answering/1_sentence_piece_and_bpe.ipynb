{
  "nbformat": 4,
  "nbformat_minor": 0,
  "metadata": {
    "colab": {
      "name": "1-sentence-piece-and-bpe.ipynb",
      "provenance": [],
      "toc_visible": true,
      "authorship_tag": "ABX9TyNXevX7u6UMJapPdUiDXfwQ",
      "include_colab_link": true
    },
    "kernelspec": {
      "name": "python3",
      "display_name": "Python 3"
    }
  },
  "cells": [
    {
      "cell_type": "markdown",
      "metadata": {
        "id": "view-in-github",
        "colab_type": "text"
      },
      "source": [
        "<a href=\"https://colab.research.google.com/github/rahiakela/coursera-natural-language-processing-specialization/blob/master/course-4-natural-language-processing-with-attention-models/week-3-Question%20Answering/1_sentence_piece_and_bpe.ipynb\" target=\"_parent\"><img src=\"https://colab.research.google.com/assets/colab-badge.svg\" alt=\"Open In Colab\"/></a>"
      ]
    },
    {
      "cell_type": "markdown",
      "metadata": {
        "id": "8uwUl8PJb7Qj"
      },
      "source": [
        "## Introduction to Tokenization"
      ]
    },
    {
      "cell_type": "markdown",
      "metadata": {
        "id": "Kka68q8kdr90"
      },
      "source": [
        "In order to process text in neural network models, it is first required to **encode** text as numbers with ids (such as the embedding vectors we've been using in the previous assignments), since the tensor operations act on numbers. Finally, if the output of the network are words, it is required to **decode** the predicted tokens ids back to text.\n",
        "\n",
        "To encode text, the first decision that has to be made is to what level of granularity are we going to consider the text? Because ultimately, from these **tokens**, features are going to be created about them. Many different experiments have been carried out using *words*, *morphological units*, *phonemic units*, *characters*. For example, \n",
        "\n",
        "- Tokens are tricky. (raw text)\n",
        "- Tokens are tricky . ([words](https://arxiv.org/pdf/1301.3781))\n",
        "- Token s _ are _ trick _ y . ([morphemes](https://arxiv.org/pdf/1907.02423.pdf))\n",
        "- t oʊ k ə n z _ ɑː _ ˈt r ɪ k i. ([phonemes](https://www.aclweb.org/anthology/W18-5812.pdf), for STT)\n",
        "- T o k e n s _ a r e _ t r i c k y . ([character](https://www.aclweb.org/anthology/C18-1139/))\n",
        "\n",
        "But how to identify these units, such as words, are largely determined by the language they come from. For example, in many European languages a space is used to separate words, while in some Asian languages there are no spaces between words. Compare English and Mandarin.\n",
        "\n",
        "- Tokens are tricky. (original sentence)\n",
        "- 令牌很棘手 (Mandarin)\n",
        "- Lìng pái hěn jí shǒu (pinyin)\n",
        "- 令牌 很 棘手 (Mandarin with spaces)\n",
        "\n",
        "\n",
        "So, the ability to **tokenize**, i.e. split text into meaningful fundamental units is not always straight-forward.\n",
        "\n",
        "Also, there are practical issues of how large our *vocabulary* of words, `vocab_size`, should be, considering memory limitations vs. coverage. A compromise between the finest-grained models employing characters which can be memory and more computationally efficient *subword* units such as [n-grams](https://arxiv.org/pdf/1712.09405) or larger units need to be made.\n",
        "\n",
        "In [SentencePiece](https://www.aclweb.org/anthology/D18-2012.pdf) unicode characters are grouped together using either a [unigram language model](https://www.aclweb.org/anthology/P18-1007.pdf) (used in this week's assignment) or [BPE](https://arxiv.org/pdf/1508.07909.pdf), **byte-pair encoding**. We will discuss BPE, since BERT and many of its variant uses a modified version of BPE and its pseudocode is easy to implement and understand... hopefully!"
      ]
    },
    {
      "cell_type": "markdown",
      "metadata": {
        "id": "sQf_lnTxdz2z"
      },
      "source": [
        "## SentencePiece Preprocessing"
      ]
    },
    {
      "cell_type": "markdown",
      "metadata": {
        "id": "6M6Wfp1Ud35E"
      },
      "source": [
        "### NFKC Normalization"
      ]
    },
    {
      "cell_type": "markdown",
      "metadata": {
        "id": "_I12zon2d6Lv"
      },
      "source": [
        "Unsurprisingly, even using unicode to initially tokenize text can be ambiguous, e.g., "
      ]
    },
    {
      "cell_type": "code",
      "metadata": {
        "id": "1uZui8-Zd9ic",
        "colab": {
          "base_uri": "https://localhost:8080/"
        },
        "outputId": "c558dc7b-de61-4073-ef1b-42bfbbd8b588"
      },
      "source": [
        "eaccent = '\\u00E9'\n",
        "e_accent = '\\u0065\\u0301'\n",
        "print(f'{eaccent} = {e_accent} : {eaccent == e_accent}')"
      ],
      "execution_count": 1,
      "outputs": [
        {
          "output_type": "stream",
          "text": [
            "é = é : False\n"
          ],
          "name": "stdout"
        }
      ]
    },
    {
      "cell_type": "markdown",
      "metadata": {
        "id": "49lxDzX9fWuD"
      },
      "source": [
        "SentencePiece uses the Unicode standard Normalization form, [NFKC](https://en.wikipedia.org/wiki/Unicode_equivalence), so this isn't an issue. Looking at our example from above again with normalization:"
      ]
    },
    {
      "cell_type": "code",
      "metadata": {
        "id": "ddu6PMpWfZmB",
        "colab": {
          "base_uri": "https://localhost:8080/"
        },
        "outputId": "62109e1e-433e-4da6-fb0d-3cbf0c8252a3"
      },
      "source": [
        "from unicodedata import normalize\n",
        "\n",
        "norm_eaccent = normalize(\"NFKC\", \"\\u00E9\")\n",
        "norm_e_accent = normalize(\"NFKC\", \"\\u0065\\u0301\")\n",
        "print(f\"{norm_eaccent} = {norm_e_accent} : {norm_eaccent == norm_e_accent}\")"
      ],
      "execution_count": 2,
      "outputs": [
        {
          "output_type": "stream",
          "text": [
            "é = é : True\n"
          ],
          "name": "stdout"
        }
      ]
    },
    {
      "cell_type": "markdown",
      "metadata": {
        "id": "E4wr-l5FPO2c"
      },
      "source": [
        "Normalization has actually changed the unicode code point (unicode unique id) for one of these two characters."
      ]
    },
    {
      "cell_type": "code",
      "metadata": {
        "id": "AORzGiOnPPXO"
      },
      "source": [
        "def get_hex_encoding(s):\n",
        "  return \" \".join(hex(ord(c)) for c in s)\n",
        "\n",
        "def print_string_and_encoding(s):\n",
        "  print(f\"{s} : {get_hex_encoding(s)}\")"
      ],
      "execution_count": 3,
      "outputs": []
    },
    {
      "cell_type": "code",
      "metadata": {
        "id": "kMY-PdvIP0aU",
        "colab": {
          "base_uri": "https://localhost:8080/"
        },
        "outputId": "3e9cd531-d895-43b6-fbf3-7dd4634dea1d"
      },
      "source": [
        "for s in [eaccent, e_accent, norm_eaccent, norm_e_accent]:\n",
        "  print_string_and_encoding(s)"
      ],
      "execution_count": 4,
      "outputs": [
        {
          "output_type": "stream",
          "text": [
            "é : 0xe9\n",
            "é : 0x65 0x301\n",
            "é : 0xe9\n",
            "é : 0xe9\n"
          ],
          "name": "stdout"
        }
      ]
    },
    {
      "cell_type": "markdown",
      "metadata": {
        "id": "ocPzedrxQvGn"
      },
      "source": [
        "This normalization has other side effects which may be considered useful such as converting curly quotes &ldquo; to \" their ASCII equivalent. (Although we *now* lose directionality of the quote...)"
      ]
    },
    {
      "cell_type": "markdown",
      "metadata": {
        "id": "Wtx3JXnIQvv3"
      },
      "source": [
        "### Lossless Tokenization<sup>*</sup>"
      ]
    },
    {
      "cell_type": "markdown",
      "metadata": {
        "id": "kqmS1a-GQ5hI"
      },
      "source": [
        "SentencePiece also ensures that when you tokenize your data and detokenize your data the original position of white space is preserved. (However, tabs and newlines are converted to spaces, please try this experiment yourself later below.)\n",
        "\n",
        "To ensure this **lossless tokenization** it replaces white space with _ (U+2581). So that a simple join of the replace underscores with spaces can restore the white space, even if there are consecutives symbols. But remember first to normalize and then replace spaces with _ (U+2581). As the following example shows."
      ]
    },
    {
      "cell_type": "code",
      "metadata": {
        "id": "2f79q1MYQsFZ"
      },
      "source": [
        "s = \"Tokenization is hard.\"\n",
        "s_ = s.replace(\" \", \"\\u2581\")\n",
        "s_n = normalize(\"NFKC\", \"Tokenization is hard.\")"
      ],
      "execution_count": 5,
      "outputs": []
    },
    {
      "cell_type": "code",
      "metadata": {
        "id": "RzjwNGpPUtZ6",
        "colab": {
          "base_uri": "https://localhost:8080/"
        },
        "outputId": "60f0d1c8-6514-4a08-c1c0-8df8e71d40cb"
      },
      "source": [
        "print(get_hex_encoding(s))\n",
        "print(get_hex_encoding(s_))\n",
        "print(get_hex_encoding(s_n))"
      ],
      "execution_count": 6,
      "outputs": [
        {
          "output_type": "stream",
          "text": [
            "0x54 0x6f 0x6b 0x65 0x6e 0x69 0x7a 0x61 0x74 0x69 0x6f 0x6e 0x20 0x69 0x73 0x20 0x68 0x61 0x72 0x64 0x2e\n",
            "0x54 0x6f 0x6b 0x65 0x6e 0x69 0x7a 0x61 0x74 0x69 0x6f 0x6e 0x2581 0x69 0x73 0x2581 0x68 0x61 0x72 0x64 0x2e\n",
            "0x54 0x6f 0x6b 0x65 0x6e 0x69 0x7a 0x61 0x74 0x69 0x6f 0x6e 0x20 0x69 0x73 0x20 0x68 0x61 0x72 0x64 0x2e\n"
          ],
          "name": "stdout"
        }
      ]
    },
    {
      "cell_type": "markdown",
      "metadata": {
        "id": "9DNt08gsVGF3"
      },
      "source": [
        "So the special unicode underscore was replaced by the ASCII unicode. Reversing the order, we see that the special unicode underscore was retained."
      ]
    },
    {
      "cell_type": "code",
      "metadata": {
        "id": "3DLbORP6U4YK"
      },
      "source": [
        "s = \"Tokenization is hard.\"\n",
        "sn = normalize(\"NFKC\", \"Tokenization is hard.\")\n",
        "sn_ = s.replace(\" \", \"\\u2581\")"
      ],
      "execution_count": 7,
      "outputs": []
    },
    {
      "cell_type": "code",
      "metadata": {
        "id": "vSSo7BSHWOVQ",
        "colab": {
          "base_uri": "https://localhost:8080/"
        },
        "outputId": "affad368-bc6e-49b5-c9b9-02d43ee7a408"
      },
      "source": [
        "print(get_hex_encoding(s))\n",
        "print(get_hex_encoding(sn))\n",
        "print(get_hex_encoding(sn_))"
      ],
      "execution_count": 8,
      "outputs": [
        {
          "output_type": "stream",
          "text": [
            "0x54 0x6f 0x6b 0x65 0x6e 0x69 0x7a 0x61 0x74 0x69 0x6f 0x6e 0x20 0x69 0x73 0x20 0x68 0x61 0x72 0x64 0x2e\n",
            "0x54 0x6f 0x6b 0x65 0x6e 0x69 0x7a 0x61 0x74 0x69 0x6f 0x6e 0x20 0x69 0x73 0x20 0x68 0x61 0x72 0x64 0x2e\n",
            "0x54 0x6f 0x6b 0x65 0x6e 0x69 0x7a 0x61 0x74 0x69 0x6f 0x6e 0x2581 0x69 0x73 0x2581 0x68 0x61 0x72 0x64 0x2e\n"
          ],
          "name": "stdout"
        }
      ]
    },
    {
      "cell_type": "markdown",
      "metadata": {
        "id": "YhteWmUfWYXL"
      },
      "source": [
        "## BPE Algorithm"
      ]
    },
    {
      "cell_type": "markdown",
      "metadata": {
        "id": "ZEed2V6SWY6n"
      },
      "source": [
        "Now that we have discussed the preprocessing that SentencePiece performs we will go get our data, preprocess, and apply the BPE algorithm. We will show how this reproduces the tokenization produced by training SentencePiece on our example dataset (from this week's assignment)."
      ]
    },
    {
      "cell_type": "markdown",
      "metadata": {
        "id": "-Nli_bdIWcRB"
      },
      "source": [
        "### Preparing our Data"
      ]
    },
    {
      "cell_type": "markdown",
      "metadata": {
        "id": "TpYKNWNVWeqo"
      },
      "source": [
        "First, we get our Squad data and process as above."
      ]
    },
    {
      "cell_type": "code",
      "metadata": {
        "id": "IT8uIXKMWmP9"
      },
      "source": [
        "import ast\n",
        "\n",
        "def convert_json_examples_to_text(filepath):\n",
        "  example_jsons = list(map(ast.literal_eval, open(filepath)))                        # Read in the json from the example file\n",
        "  texts = [example_json['text'].decode('utf-8') for example_json in example_jsons]   # Decode the byte sequences\n",
        "  text = \"\\n\\n\".join(texts)        # Separate different articles by two newlines\n",
        "  text = normalize(\"NFKC\", text)   # Normalize the text\n",
        "\n",
        "  with open(\"example.txt\", \"w\") as fw:\n",
        "    fw.write(text)\n",
        "\n",
        "  return text"
      ],
      "execution_count": 9,
      "outputs": []
    },
    {
      "cell_type": "code",
      "metadata": {
        "id": "CpX4wwFiihnC",
        "colab": {
          "base_uri": "https://localhost:8080/"
        },
        "outputId": "3e2102b8-6c9c-47d1-db64-5adb2b928c8d"
      },
      "source": [
        "%%shell\n",
        "\n",
        "wget -q https://github.com/rahiakela/coursera-natural-language-processing-specialization/raw/master/course-4-natural-language-processing-with-attention-models/week-3-Question%20Answering/dataset/data.txt\n",
        "wget -q https://github.com/rahiakela/coursera-natural-language-processing-specialization/raw/master/course-4-natural-language-processing-with-attention-models/week-3-Question%20Answering/dataset/example.txt"
      ],
      "execution_count": 12,
      "outputs": [
        {
          "output_type": "execute_result",
          "data": {
            "text/plain": [
              ""
            ]
          },
          "metadata": {
            "tags": []
          },
          "execution_count": 12
        }
      ]
    },
    {
      "cell_type": "code",
      "metadata": {
        "id": "DddVIzC5WUlq",
        "colab": {
          "base_uri": "https://localhost:8080/"
        },
        "outputId": "19d09cd9-a6d7-454e-a900-11c8514e1041"
      },
      "source": [
        "text = convert_json_examples_to_text(\"data.txt\")\n",
        "print(text[:900])"
      ],
      "execution_count": 13,
      "outputs": [
        {
          "output_type": "stream",
          "text": [
            "Beginners BBQ Class Taking Place in Missoula!\n",
            "Do you want to get better at making delicious BBQ? You will have the opportunity, put this on your calendar now. Thursday, September 22nd join World Class BBQ Champion, Tony Balay from Lonestar Smoke Rangers. He will be teaching a beginner level class for everyone who wants to get better with their culinary skills.\n",
            "He will teach you everything you need to know to compete in a KCBS BBQ competition, including techniques, recipes, timelines, meat selection and trimming, plus smoker and fire information.\n",
            "The cost to be in the class is $35 per person, and for spectators it is free. Included in the cost will be either a t-shirt or apron and you will be tasting samples of each meat that is prepared.\n",
            "\n",
            "Discussion in 'Mac OS X Lion (10.7)' started by axboi87, Jan 20, 2012.\n",
            "I've got a 500gb internal drive and a 240gb SSD.\n",
            "When trying to restore using di\n"
          ],
          "name": "stdout"
        }
      ]
    },
    {
      "cell_type": "markdown",
      "metadata": {
        "id": "S2mY8beVZ-N8"
      },
      "source": [
        "In the algorithm the `vocab` variable is actually a frequency dictionary of the words. Further, those words have been prepended with an *underscore* to indicate that they are the beginning of a word. \n",
        "\n",
        "Finally, the characters have been delimited by spaces so that the BPE algorithm can group the most common characters together in the dictionary in a greedy fashion. We will see how that is exactly done shortly."
      ]
    },
    {
      "cell_type": "code",
      "metadata": {
        "id": "I4qCPx5sYNX5"
      },
      "source": [
        "from collections import Counter"
      ],
      "execution_count": 14,
      "outputs": []
    },
    {
      "cell_type": "code",
      "metadata": {
        "id": "cQYtJ573bu6l"
      },
      "source": [
        "vocab = Counter([\"\\u2581\" + word for word in text.split()])\n",
        "vocab = {\" \".join([l for l in word]): freq for word, freq in vocab.items()}"
      ],
      "execution_count": 15,
      "outputs": []
    },
    {
      "cell_type": "code",
      "metadata": {
        "id": "q_R8wJB5cItU"
      },
      "source": [
        "def show_vocab(vocab, end=\"\\n\", limit=20):\n",
        "  shown = 0\n",
        "  for word, freq in vocab.items():\n",
        "    print(f\"{word}: {freq}\", end=end)\n",
        "    shown += 1\n",
        "    if shown > limit:\n",
        "      break"
      ],
      "execution_count": 16,
      "outputs": []
    },
    {
      "cell_type": "code",
      "metadata": {
        "id": "qBVgCa4pcv6L",
        "colab": {
          "base_uri": "https://localhost:8080/"
        },
        "outputId": "4012f0b5-53ba-4c10-e6a9-1cf8d569c946"
      },
      "source": [
        "show_vocab(vocab)"
      ],
      "execution_count": 17,
      "outputs": [
        {
          "output_type": "stream",
          "text": [
            "▁ B e g i n n e r s: 1\n",
            "▁ B B Q: 3\n",
            "▁ C l a s s: 2\n",
            "▁ T a k i n g: 1\n",
            "▁ P l a c e: 1\n",
            "▁ i n: 15\n",
            "▁ M i s s o u l a !: 1\n",
            "▁ D o: 1\n",
            "▁ y o u: 13\n",
            "▁ w a n t: 1\n",
            "▁ t o: 33\n",
            "▁ g e t: 2\n",
            "▁ b e t t e r: 2\n",
            "▁ a t: 1\n",
            "▁ m a k i n g: 2\n",
            "▁ d e l i c i o u s: 1\n",
            "▁ B B Q ?: 1\n",
            "▁ Y o u: 1\n",
            "▁ w i l l: 6\n",
            "▁ h a v e: 4\n",
            "▁ t h e: 31\n"
          ],
          "name": "stdout"
        }
      ]
    },
    {
      "cell_type": "markdown",
      "metadata": {
        "id": "a3PhPboic4y0"
      },
      "source": [
        "We check the size of the vocabulary (frequency dictionary) because this is the one hyperparameter that BPE depends on crucially on how far it breaks up a word into SentencePieces. \n",
        "\n",
        "It turns out that for our trained model on our small dataset that 60% of 455 merges of the most frequent characters need to be done to reproduce the upperlimit of a 32K `vocab_size` over the entire corpus of examples."
      ]
    },
    {
      "cell_type": "code",
      "metadata": {
        "id": "N4H-F5Egcy6A",
        "colab": {
          "base_uri": "https://localhost:8080/"
        },
        "outputId": "8f8a9642-32ed-4f41-f559-742d89780ba3"
      },
      "source": [
        "print(f\"Total number of unique words: {len(vocab)}\")\n",
        "print(f\"Number of merges required to reproduce SentencePiece training on the whole corpus: {int(0.60 * len(vocab))}\")"
      ],
      "execution_count": 18,
      "outputs": [
        {
          "output_type": "stream",
          "text": [
            "Total number of unique words: 455\n",
            "Number of merges required to reproduce SentencePiece training on the whole corpus: 273\n"
          ],
          "name": "stdout"
        }
      ]
    },
    {
      "cell_type": "markdown",
      "metadata": {
        "id": "WtId5qHud9kA"
      },
      "source": [
        "### BPE Algorithm"
      ]
    },
    {
      "cell_type": "markdown",
      "metadata": {
        "id": "bt5E9FV5d-Ht"
      },
      "source": [
        "Directly from the BPE paper we have the following algorithm. \n",
        "\n",
        "To understand what's going on first take a look at the third function `get_sentence_piece_vocab`. It takes in the current `vocab` word-frequency dictionary and the fraction of the total `vocab_size` to merge characters in the words of the dictionary, `num_merges` times. Then for each *merge* operation it `get_stats` on how many of each pair of character sequences there are. It gets the most frequent *pair* of symbols as the `best` pair. Then it merges those pair of symbols (removes the space between them) in each word in the `vocab` that contains this `best` (= `pair`). Consquently, `merge_vocab` creates a new `vocab`, `v_out`. This process is repeated `num_merges` times and the result is the set of SentencePieces (keys of the final `sp_vocab`).\n",
        "\n",
        "Please feel free to skip the below if the above description was enough.\n",
        "\n",
        "In a little more detail then, we can see in `get_stats` we initially create a list of bigram frequencies (two character sequence) from our vocabulary. Later, this may include (trigrams, quadgrams, etc.). Note that the key of the `pairs` frequency dictionary is actually a 2-tuple, which is just shorthand notation for a pair.\n",
        "\n",
        "In `merge_vocab` we take in an individual `pair` (of character sequences, note this is the most frequency `best` pair) and the current `vocab` as `v_in`. We create a new `vocab`, `v_out`, from the old by joining together the characters in the pair (removing the space), if they are present in the a word of the dictionary. \n",
        "\n",
        "[Warning](https://regex101.com/): the expression `(?<!\\S)` means that either whitespace character follows before the `bigram` or there is nothing before (beginning of word) the bigram, similarly for `(?!\\S)` for preceding whitespace or end of word. "
      ]
    },
    {
      "cell_type": "code",
      "metadata": {
        "id": "xbsJ5isndTjd"
      },
      "source": [
        "import re, collections"
      ],
      "execution_count": 19,
      "outputs": []
    },
    {
      "cell_type": "code",
      "metadata": {
        "id": "lgIVj1G5iXW6"
      },
      "source": [
        "def get_stats(vocab):\n",
        "  pairs = collections.defaultdict(int)\n",
        "  for word, freq in vocab.items():\n",
        "    symbols = word.split()\n",
        "    for i in range(len(symbols) - 1):\n",
        "      pairs[symbols[i], symbols[i+1]] += freq\n",
        "  return pairs\n",
        "\n",
        "def merge_vocab(pair, v_in):\n",
        "  v_out = {}\n",
        "  bigram = re.escape(\" \".join(pair))\n",
        "  p = re.compile(r\"(?<!\\S)\" + bigram + r\"(?!\\S)\")\n",
        "  for word in v_in:\n",
        "    w_out = p.sub(\"\".join(pair), word)\n",
        "    v_out[w_out] = v_in[word]\n",
        "  return v_out\n",
        "\n",
        "def get_sentence_piece_vocab(vocab, frac_merges=0.60):\n",
        "  sp_vocab = vocab.copy()\n",
        "  num_merges = int(len(sp_vocab) * frac_merges)\n",
        "\n",
        "  for i in range(num_merges):\n",
        "    pairs = get_stats(sp_vocab)\n",
        "    best = max(pairs, key=pairs.get)\n",
        "    sp_vocab = merge_vocab(best, sp_vocab)\n",
        "  \n",
        "  return sp_vocab"
      ],
      "execution_count": 20,
      "outputs": []
    },
    {
      "cell_type": "code",
      "metadata": {
        "id": "mzfqdw2qnvOc",
        "colab": {
          "base_uri": "https://localhost:8080/"
        },
        "outputId": "0ef9b543-688b-41db-8935-d866bb941c66"
      },
      "source": [
        "sp_vocab = get_sentence_piece_vocab(vocab)\n",
        "show_vocab(sp_vocab)"
      ],
      "execution_count": 21,
      "outputs": [
        {
          "output_type": "stream",
          "text": [
            "▁B e g in n ers: 1\n",
            "▁BBQ: 3\n",
            "▁Cl ass: 2\n",
            "▁T ak ing: 1\n",
            "▁P la ce: 1\n",
            "▁in: 15\n",
            "▁M is s ou la !: 1\n",
            "▁D o: 1\n",
            "▁you: 13\n",
            "▁w an t: 1\n",
            "▁to: 33\n",
            "▁g et: 2\n",
            "▁be t ter: 2\n",
            "▁a t: 1\n",
            "▁mak ing: 2\n",
            "▁d e l ic i ou s: 1\n",
            "▁BBQ ?: 1\n",
            "▁ Y ou: 1\n",
            "▁will: 6\n",
            "▁have: 4\n",
            "▁the: 31\n"
          ],
          "name": "stdout"
        }
      ]
    },
    {
      "cell_type": "markdown",
      "metadata": {
        "id": "pdKayvb2oVUw"
      },
      "source": [
        "## Train SentencePiece BPE Tokenizer on Example Data"
      ]
    },
    {
      "cell_type": "markdown",
      "metadata": {
        "id": "jj2AMt9woV2H"
      },
      "source": [
        "### Explore SentencePiece Model"
      ]
    },
    {
      "cell_type": "markdown",
      "metadata": {
        "id": "R_kJfrIUoX76"
      },
      "source": [
        "First let us explore the SentencePiece model provided with this week's assignment. Remember you can always use Python's built in `help` command to see the documentation for any object or method."
      ]
    },
    {
      "cell_type": "code",
      "metadata": {
        "id": "sQdt1a7jl_P3",
        "colab": {
          "base_uri": "https://localhost:8080/"
        },
        "outputId": "a7824926-8c0f-4f0d-8bee-c646d04037b4"
      },
      "source": [
        "%%shell\n",
        "\n",
        "wget -q https://github.com/rahiakela/coursera-natural-language-processing-specialization/raw/master/course-4-natural-language-processing-with-attention-models/week-3-Question%20Answering/model/sentencepiece.model\n",
        "wget -q https://raw.githubusercontent.com/google/sentencepiece/master/data/botchan.txt"
      ],
      "execution_count": 23,
      "outputs": [
        {
          "output_type": "execute_result",
          "data": {
            "text/plain": [
              ""
            ]
          },
          "metadata": {
            "tags": []
          },
          "execution_count": 23
        }
      ]
    },
    {
      "cell_type": "code",
      "metadata": {
        "id": "_3U_sNA_myRR",
        "colab": {
          "base_uri": "https://localhost:8080/"
        },
        "outputId": "3674f0fc-3f75-4617-ad47-d73e058cf095"
      },
      "source": [
        "!pip -q install sentencepiece"
      ],
      "execution_count": 24,
      "outputs": [
        {
          "output_type": "stream",
          "text": [
            "\u001b[?25l\r\u001b[K     |▎                               | 10kB 13.6MB/s eta 0:00:01\r\u001b[K     |▌                               | 20kB 17.3MB/s eta 0:00:01\r\u001b[K     |▉                               | 30kB 21.6MB/s eta 0:00:01\r\u001b[K     |█                               | 40kB 24.2MB/s eta 0:00:01\r\u001b[K     |█▍                              | 51kB 25.5MB/s eta 0:00:01\r\u001b[K     |█▋                              | 61kB 27.4MB/s eta 0:00:01\r\u001b[K     |██                              | 71kB 28.0MB/s eta 0:00:01\r\u001b[K     |██▏                             | 81kB 27.9MB/s eta 0:00:01\r\u001b[K     |██▍                             | 92kB 29.1MB/s eta 0:00:01\r\u001b[K     |██▊                             | 102kB 29.6MB/s eta 0:00:01\r\u001b[K     |███                             | 112kB 29.6MB/s eta 0:00:01\r\u001b[K     |███▎                            | 122kB 29.6MB/s eta 0:00:01\r\u001b[K     |███▌                            | 133kB 29.6MB/s eta 0:00:01\r\u001b[K     |███▉                            | 143kB 29.6MB/s eta 0:00:01\r\u001b[K     |████                            | 153kB 29.6MB/s eta 0:00:01\r\u001b[K     |████▎                           | 163kB 29.6MB/s eta 0:00:01\r\u001b[K     |████▋                           | 174kB 29.6MB/s eta 0:00:01\r\u001b[K     |████▉                           | 184kB 29.6MB/s eta 0:00:01\r\u001b[K     |█████▏                          | 194kB 29.6MB/s eta 0:00:01\r\u001b[K     |█████▍                          | 204kB 29.6MB/s eta 0:00:01\r\u001b[K     |█████▊                          | 215kB 29.6MB/s eta 0:00:01\r\u001b[K     |██████                          | 225kB 29.6MB/s eta 0:00:01\r\u001b[K     |██████▏                         | 235kB 29.6MB/s eta 0:00:01\r\u001b[K     |██████▌                         | 245kB 29.6MB/s eta 0:00:01\r\u001b[K     |██████▊                         | 256kB 29.6MB/s eta 0:00:01\r\u001b[K     |███████                         | 266kB 29.6MB/s eta 0:00:01\r\u001b[K     |███████▎                        | 276kB 29.6MB/s eta 0:00:01\r\u001b[K     |███████▋                        | 286kB 29.6MB/s eta 0:00:01\r\u001b[K     |███████▉                        | 296kB 29.6MB/s eta 0:00:01\r\u001b[K     |████████                        | 307kB 29.6MB/s eta 0:00:01\r\u001b[K     |████████▍                       | 317kB 29.6MB/s eta 0:00:01\r\u001b[K     |████████▋                       | 327kB 29.6MB/s eta 0:00:01\r\u001b[K     |█████████                       | 337kB 29.6MB/s eta 0:00:01\r\u001b[K     |█████████▏                      | 348kB 29.6MB/s eta 0:00:01\r\u001b[K     |█████████▌                      | 358kB 29.6MB/s eta 0:00:01\r\u001b[K     |█████████▊                      | 368kB 29.6MB/s eta 0:00:01\r\u001b[K     |██████████                      | 378kB 29.6MB/s eta 0:00:01\r\u001b[K     |██████████▎                     | 389kB 29.6MB/s eta 0:00:01\r\u001b[K     |██████████▌                     | 399kB 29.6MB/s eta 0:00:01\r\u001b[K     |██████████▉                     | 409kB 29.6MB/s eta 0:00:01\r\u001b[K     |███████████                     | 419kB 29.6MB/s eta 0:00:01\r\u001b[K     |███████████▍                    | 430kB 29.6MB/s eta 0:00:01\r\u001b[K     |███████████▋                    | 440kB 29.6MB/s eta 0:00:01\r\u001b[K     |███████████▉                    | 450kB 29.6MB/s eta 0:00:01\r\u001b[K     |████████████▏                   | 460kB 29.6MB/s eta 0:00:01\r\u001b[K     |████████████▍                   | 471kB 29.6MB/s eta 0:00:01\r\u001b[K     |████████████▊                   | 481kB 29.6MB/s eta 0:00:01\r\u001b[K     |█████████████                   | 491kB 29.6MB/s eta 0:00:01\r\u001b[K     |█████████████▎                  | 501kB 29.6MB/s eta 0:00:01\r\u001b[K     |█████████████▌                  | 512kB 29.6MB/s eta 0:00:01\r\u001b[K     |█████████████▊                  | 522kB 29.6MB/s eta 0:00:01\r\u001b[K     |██████████████                  | 532kB 29.6MB/s eta 0:00:01\r\u001b[K     |██████████████▎                 | 542kB 29.6MB/s eta 0:00:01\r\u001b[K     |██████████████▋                 | 552kB 29.6MB/s eta 0:00:01\r\u001b[K     |██████████████▉                 | 563kB 29.6MB/s eta 0:00:01\r\u001b[K     |███████████████▏                | 573kB 29.6MB/s eta 0:00:01\r\u001b[K     |███████████████▍                | 583kB 29.6MB/s eta 0:00:01\r\u001b[K     |███████████████▋                | 593kB 29.6MB/s eta 0:00:01\r\u001b[K     |████████████████                | 604kB 29.6MB/s eta 0:00:01\r\u001b[K     |████████████████▏               | 614kB 29.6MB/s eta 0:00:01\r\u001b[K     |████████████████▌               | 624kB 29.6MB/s eta 0:00:01\r\u001b[K     |████████████████▊               | 634kB 29.6MB/s eta 0:00:01\r\u001b[K     |█████████████████               | 645kB 29.6MB/s eta 0:00:01\r\u001b[K     |█████████████████▎              | 655kB 29.6MB/s eta 0:00:01\r\u001b[K     |█████████████████▌              | 665kB 29.6MB/s eta 0:00:01\r\u001b[K     |█████████████████▉              | 675kB 29.6MB/s eta 0:00:01\r\u001b[K     |██████████████████              | 686kB 29.6MB/s eta 0:00:01\r\u001b[K     |██████████████████▍             | 696kB 29.6MB/s eta 0:00:01\r\u001b[K     |██████████████████▋             | 706kB 29.6MB/s eta 0:00:01\r\u001b[K     |███████████████████             | 716kB 29.6MB/s eta 0:00:01\r\u001b[K     |███████████████████▏            | 727kB 29.6MB/s eta 0:00:01\r\u001b[K     |███████████████████▍            | 737kB 29.6MB/s eta 0:00:01\r\u001b[K     |███████████████████▊            | 747kB 29.6MB/s eta 0:00:01\r\u001b[K     |████████████████████            | 757kB 29.6MB/s eta 0:00:01\r\u001b[K     |████████████████████▎           | 768kB 29.6MB/s eta 0:00:01\r\u001b[K     |████████████████████▌           | 778kB 29.6MB/s eta 0:00:01\r\u001b[K     |████████████████████▉           | 788kB 29.6MB/s eta 0:00:01\r\u001b[K     |█████████████████████           | 798kB 29.6MB/s eta 0:00:01\r\u001b[K     |█████████████████████▎          | 808kB 29.6MB/s eta 0:00:01\r\u001b[K     |█████████████████████▋          | 819kB 29.6MB/s eta 0:00:01\r\u001b[K     |█████████████████████▉          | 829kB 29.6MB/s eta 0:00:01\r\u001b[K     |██████████████████████▏         | 839kB 29.6MB/s eta 0:00:01\r\u001b[K     |██████████████████████▍         | 849kB 29.6MB/s eta 0:00:01\r\u001b[K     |██████████████████████▊         | 860kB 29.6MB/s eta 0:00:01\r\u001b[K     |███████████████████████         | 870kB 29.6MB/s eta 0:00:01\r\u001b[K     |███████████████████████▏        | 880kB 29.6MB/s eta 0:00:01\r\u001b[K     |███████████████████████▌        | 890kB 29.6MB/s eta 0:00:01\r\u001b[K     |███████████████████████▊        | 901kB 29.6MB/s eta 0:00:01\r\u001b[K     |████████████████████████        | 911kB 29.6MB/s eta 0:00:01\r\u001b[K     |████████████████████████▎       | 921kB 29.6MB/s eta 0:00:01\r\u001b[K     |████████████████████████▋       | 931kB 29.6MB/s eta 0:00:01\r\u001b[K     |████████████████████████▉       | 942kB 29.6MB/s eta 0:00:01\r\u001b[K     |█████████████████████████       | 952kB 29.6MB/s eta 0:00:01\r\u001b[K     |█████████████████████████▍      | 962kB 29.6MB/s eta 0:00:01\r\u001b[K     |█████████████████████████▋      | 972kB 29.6MB/s eta 0:00:01\r\u001b[K     |██████████████████████████      | 983kB 29.6MB/s eta 0:00:01\r\u001b[K     |██████████████████████████▏     | 993kB 29.6MB/s eta 0:00:01\r\u001b[K     |██████████████████████████▌     | 1.0MB 29.6MB/s eta 0:00:01\r\u001b[K     |██████████████████████████▊     | 1.0MB 29.6MB/s eta 0:00:01\r\u001b[K     |███████████████████████████     | 1.0MB 29.6MB/s eta 0:00:01\r\u001b[K     |███████████████████████████▎    | 1.0MB 29.6MB/s eta 0:00:01\r\u001b[K     |███████████████████████████▌    | 1.0MB 29.6MB/s eta 0:00:01\r\u001b[K     |███████████████████████████▉    | 1.1MB 29.6MB/s eta 0:00:01\r\u001b[K     |████████████████████████████    | 1.1MB 29.6MB/s eta 0:00:01\r\u001b[K     |████████████████████████████▍   | 1.1MB 29.6MB/s eta 0:00:01\r\u001b[K     |████████████████████████████▋   | 1.1MB 29.6MB/s eta 0:00:01\r\u001b[K     |████████████████████████████▉   | 1.1MB 29.6MB/s eta 0:00:01\r\u001b[K     |█████████████████████████████▏  | 1.1MB 29.6MB/s eta 0:00:01\r\u001b[K     |█████████████████████████████▍  | 1.1MB 29.6MB/s eta 0:00:01\r\u001b[K     |█████████████████████████████▊  | 1.1MB 29.6MB/s eta 0:00:01\r\u001b[K     |██████████████████████████████  | 1.1MB 29.6MB/s eta 0:00:01\r\u001b[K     |██████████████████████████████▎ | 1.1MB 29.6MB/s eta 0:00:01\r\u001b[K     |██████████████████████████████▌ | 1.2MB 29.6MB/s eta 0:00:01\r\u001b[K     |██████████████████████████████▊ | 1.2MB 29.6MB/s eta 0:00:01\r\u001b[K     |███████████████████████████████ | 1.2MB 29.6MB/s eta 0:00:01\r\u001b[K     |███████████████████████████████▎| 1.2MB 29.6MB/s eta 0:00:01\r\u001b[K     |███████████████████████████████▋| 1.2MB 29.6MB/s eta 0:00:01\r\u001b[K     |███████████████████████████████▉| 1.2MB 29.6MB/s eta 0:00:01\r\u001b[K     |████████████████████████████████| 1.2MB 29.6MB/s \n",
            "\u001b[?25h"
          ],
          "name": "stdout"
        }
      ]
    },
    {
      "cell_type": "code",
      "metadata": {
        "id": "_gA8eg65n6mc",
        "colab": {
          "base_uri": "https://localhost:8080/"
        },
        "outputId": "e535b30a-94b1-4f7d-f5bd-562fd5789271"
      },
      "source": [
        "import sentencepiece as spm\n",
        "\n",
        "# sp = spm.SentencePieceProcessor(model_file=\"sentencepiece.model\")\n",
        "sp = spm.SentencePieceProcessor()\n",
        "sp.load(\"sentencepiece.model\")"
      ],
      "execution_count": 25,
      "outputs": [
        {
          "output_type": "execute_result",
          "data": {
            "text/plain": [
              "True"
            ]
          },
          "metadata": {
            "tags": []
          },
          "execution_count": 25
        }
      ]
    },
    {
      "cell_type": "code",
      "metadata": {
        "id": "JPUQt5Jclg7b"
      },
      "source": [
        "#help(sp)"
      ],
      "execution_count": 27,
      "outputs": []
    },
    {
      "cell_type": "markdown",
      "metadata": {
        "id": "t5qGsBoOhWDl"
      },
      "source": [
        "Let's work with the first sentence of our example text."
      ]
    },
    {
      "cell_type": "code",
      "metadata": {
        "id": "ALf8l-dDg2WC"
      },
      "source": [
        "s0 = \"Beginners BBQ Class Taking Place in Missoula!\""
      ],
      "execution_count": 28,
      "outputs": []
    },
    {
      "cell_type": "code",
      "metadata": {
        "id": "s2mHCoB-hfPa",
        "outputId": "1449dbfc-f971-4ccb-9dae-195534bedc55",
        "colab": {
          "base_uri": "https://localhost:8080/"
        }
      },
      "source": [
        "# encode: text => id\n",
        "print(sp.encode_as_pieces(s0))\n",
        "print(sp.encode_as_ids(s0))\n",
        "\n",
        "# decode: id => text\n",
        "print(sp.decode_pieces(sp.encode_as_pieces(s0)))\n",
        "print(sp.decode_ids([12847, 277]))"
      ],
      "execution_count": 29,
      "outputs": [
        {
          "output_type": "stream",
          "text": [
            "['▁Beginn', 'ers', '▁BBQ', '▁Class', '▁', 'Taking', '▁Place', '▁in', '▁Miss', 'oul', 'a', '!']\n",
            "[12847, 277, 15068, 4501, 3, 12297, 3399, 16, 5964, 7115, 9, 55]\n",
            "Beginners BBQ Class Taking Place in Missoula!\n",
            "Beginners\n"
          ],
          "name": "stdout"
        }
      ]
    },
    {
      "cell_type": "markdown",
      "metadata": {
        "id": "JSQxgiUVifjx"
      },
      "source": [
        "Notice how SentencePiece breaks the words into seemingly odd parts, but we've seen something similar from our work with BPE. But how close were we to this model trained on the whole corpus of examles with a `vocab_size` of 32,000 instead of 455? Here you can also test what happens to white space, like '\\n'.\n",
        "\n",
        "But first let us note that SentencePiece encodes the SentencePieces, the tokens, and has reserved some of the ids as can be seen in this week's assignment."
      ]
    },
    {
      "cell_type": "code",
      "metadata": {
        "id": "7KV97biZh2km",
        "outputId": "868f3e6c-b05b-478d-9297-94417b3d6b64",
        "colab": {
          "base_uri": "https://localhost:8080/"
        }
      },
      "source": [
        "uid = 15068\n",
        "spiece = \"\\u2581BBQ\"\n",
        "unknown = \"__MUST_BE_UNKNOWN__\"\n",
        "\n",
        "# id <=> piece conversion\n",
        "print(f\"SentencePiece for ID {uid}: {sp.id_to_piece(uid)}\")\n",
        "print(f\"ID for Sentence Piece {spiece}: {sp.piece_to_id(spiece)}\")\n",
        "\n",
        "# returns 0 for unknown tokens (we can change the id for UNK)\n",
        "print(f\"ID for unknown text {unknown}: {sp.piece_to_id(unknown)}\")"
      ],
      "execution_count": 30,
      "outputs": [
        {
          "output_type": "stream",
          "text": [
            "SentencePiece for ID 15068: ▁BBQ\n",
            "ID for Sentence Piece ▁BBQ: 15068\n",
            "ID for unknown text __MUST_BE_UNKNOWN__: 2\n"
          ],
          "name": "stdout"
        }
      ]
    },
    {
      "cell_type": "code",
      "metadata": {
        "id": "hwoVfbCBkZgS",
        "outputId": "d15eb6c8-9928-4e8b-95cd-f144e1f9c8f6",
        "colab": {
          "base_uri": "https://localhost:8080/"
        }
      },
      "source": [
        "print(f'Beginning of sentence id: {sp.bos_id()}')\n",
        "print(f'Pad id: {sp.pad_id()}')\n",
        "print(f'End of sentence id: {sp.eos_id()}')\n",
        "print(f'Unknown id: {sp.unk_id()}')\n",
        "print(f'Vocab size: {sp.vocab_size()}')"
      ],
      "execution_count": 31,
      "outputs": [
        {
          "output_type": "stream",
          "text": [
            "Beginning of sentence id: -1\n",
            "Pad id: 0\n",
            "End of sentence id: 1\n",
            "Unknown id: 2\n",
            "Vocab size: 32000\n"
          ],
          "name": "stdout"
        }
      ]
    },
    {
      "cell_type": "markdown",
      "metadata": {
        "id": "bMDItGZJkjh2"
      },
      "source": [
        "We can also check what are the ids for the first part and last part of the vocabulary."
      ]
    },
    {
      "cell_type": "code",
      "metadata": {
        "id": "WkDmoBXskfXm",
        "outputId": "a093a769-33e3-475b-a778-56d27805b565",
        "colab": {
          "base_uri": "https://localhost:8080/"
        }
      },
      "source": [
        "print(\"\\nId\\tSentP\\tControl?\")\n",
        "print(\"------------------------\")\n",
        "\n",
        "# <unk>, <s>, </s> are defined by default. Their ids are (0, 1, 2)\n",
        "# <s> and </s> are defined as 'control' symbol.\n",
        "for uid in range(10):\n",
        "  print(uid, sp.id_to_piece(uid), sp.is_control(uid), sep=\"\\t\")\n",
        "\n",
        "# for uid in range(sp.vocab_size()-10,sp.vocab_size()):\n",
        "#    print(uid, sp.id_to_piece(uid), sp.is_control(uid), sep='\\t')"
      ],
      "execution_count": 32,
      "outputs": [
        {
          "output_type": "stream",
          "text": [
            "\n",
            "Id\tSentP\tControl?\n",
            "------------------------\n",
            "0\t<pad>\tTrue\n",
            "1\t</s>\tTrue\n",
            "2\t<unk>\tFalse\n",
            "3\t▁\tFalse\n",
            "4\tX\tFalse\n",
            "5\t.\tFalse\n",
            "6\t,\tFalse\n",
            "7\ts\tFalse\n",
            "8\t▁the\tFalse\n",
            "9\ta\tFalse\n"
          ],
          "name": "stdout"
        }
      ]
    },
    {
      "cell_type": "markdown",
      "metadata": {
        "id": "383f80-ClI6R"
      },
      "source": [
        "###Train SentencePiece BPE model with our example.txt"
      ]
    },
    {
      "cell_type": "markdown",
      "metadata": {
        "id": "t2nktb1plJqB"
      },
      "source": [
        "Finally, let's train our own BPE model directly from the SentencePiece library and compare it to the results of our implemention of the algorithm from the BPE paper itself."
      ]
    },
    {
      "cell_type": "code",
      "metadata": {
        "id": "QWevvCXzk_6s",
        "outputId": "c5c93769-d578-4d3c-fc36-a75643a650df",
        "colab": {
          "base_uri": "https://localhost:8080/"
        }
      },
      "source": [
        "spm.SentencePieceTrainer.train(\"--input=example.txt --model_prefix=example_bpe --vocab_size=450 --model_type=bpe\")\n",
        "sp_bpe = spm.SentencePieceProcessor()\n",
        "sp_bpe.load(\"example_bpe.model\")\n",
        "\n",
        "print(\"*** BPE ***\")\n",
        "print(sp_bpe.encode_as_pieces(s0))"
      ],
      "execution_count": 33,
      "outputs": [
        {
          "output_type": "stream",
          "text": [
            "*** BPE ***\n",
            "['▁B', 'e', 'ginn', 'ers', '▁BBQ', '▁Cl', 'ass', '▁T', 'ak', 'ing', '▁P', 'la', 'ce', '▁in', '▁M', 'is', 's', 'ou', 'la', '!']\n"
          ],
          "name": "stdout"
        }
      ]
    },
    {
      "cell_type": "markdown",
      "metadata": {
        "id": "BGJ9EXmrl3LB"
      },
      "source": [
        "Our implementation of BPE's code from the paper matches up pretty well with the library itself! Difference are probably accounted for by the `vocab_size`. There is also another technical difference in that in the SentencePiece implementation of BPE a priority queue is used to more efficiently keep track of the best pairs. Actually, there is a priority queue in the Python standard library called heapq if you would like to give that a try below!"
      ]
    },
    {
      "cell_type": "code",
      "metadata": {
        "id": "iDDneSmJlzR7"
      },
      "source": [
        "from heapq import heappush, heappop"
      ],
      "execution_count": 34,
      "outputs": []
    },
    {
      "cell_type": "code",
      "metadata": {
        "id": "IAEFo_gqpcbE"
      },
      "source": [
        "def heapsort(iterable):\n",
        "  h = []\n",
        "  for value in iterable:\n",
        "    heappush(h, value)\n",
        "  return [heappop(h) for i in range(len(h))]"
      ],
      "execution_count": 39,
      "outputs": []
    },
    {
      "cell_type": "code",
      "metadata": {
        "id": "BVqSJytppsn4",
        "outputId": "9b15006b-2d6a-4940-cd06-e95dda4b7f30",
        "colab": {
          "base_uri": "https://localhost:8080/"
        }
      },
      "source": [
        "a = [1,4,3,1,3,2,1,4,2]\n",
        "heapsort(a)"
      ],
      "execution_count": 40,
      "outputs": [
        {
          "output_type": "execute_result",
          "data": {
            "text/plain": [
              "[1, 1, 1, 2, 2, 3, 3, 4, 4]"
            ]
          },
          "metadata": {
            "tags": []
          },
          "execution_count": 40
        }
      ]
    },
    {
      "cell_type": "markdown",
      "metadata": {
        "id": "hq9972hrqJyQ"
      },
      "source": [
        "For a more extensive example consider looking at [the SentencePiece repo](https://github.com/google/sentencepiece/blob/master/python/sentencepiece_python_module_example.ipynb). The last section of this code is repurposed from that tutorial. \n",
        "\n",
        "Thanks for your participation!"
      ]
    }
  ]
}