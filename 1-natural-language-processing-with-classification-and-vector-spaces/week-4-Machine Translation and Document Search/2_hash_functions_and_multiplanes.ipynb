{
  "nbformat": 4,
  "nbformat_minor": 0,
  "metadata": {
    "colab": {
      "name": "2-hash-functions-and-multiplanes.ipynb",
      "provenance": [],
      "toc_visible": true,
      "authorship_tag": "ABX9TyOeBbqu3zr8xfN3FEmK3aiS",
      "include_colab_link": true
    },
    "kernelspec": {
      "name": "python3",
      "display_name": "Python 3"
    }
  },
  "cells": [
    {
      "cell_type": "markdown",
      "metadata": {
        "id": "view-in-github",
        "colab_type": "text"
      },
      "source": [
        "<a href=\"https://colab.research.google.com/github/rahiakela/coursera-natural-language-processing-specialization/blob/1-natural-language-processing-with-classification-and-vector-spaces/week-4/2_hash_functions_and_multiplanes.ipynb\" target=\"_parent\"><img src=\"https://colab.research.google.com/assets/colab-badge.svg\" alt=\"Open In Colab\"/></a>"
      ]
    },
    {
      "cell_type": "markdown",
      "metadata": {
        "id": "fB4l2-ZkmjLy",
        "colab_type": "text"
      },
      "source": [
        "# Hash functions and multiplanes"
      ]
    },
    {
      "cell_type": "markdown",
      "metadata": {
        "id": "gRo8lQL4mjuq",
        "colab_type": "text"
      },
      "source": [
        "In this lab, we are going to practice the most important concepts related to the hash functions explained in the videos. You will be using these in this week's assignment.\n",
        "\n",
        "A key point for the lookup using hash functions is the calculation of the hash key or bucket id that we assign for a given entry. In this notebook, we will cover:\n",
        "\n",
        "* Basic hash tables\n",
        "* Multiplanes\n",
        "* Random planes"
      ]
    },
    {
      "cell_type": "markdown",
      "metadata": {
        "id": "TUb3w_EGmvjs",
        "colab_type": "text"
      },
      "source": [
        "## Basic Hash tables"
      ]
    },
    {
      "cell_type": "markdown",
      "metadata": {
        "id": "gHY5Nh0UmwAZ",
        "colab_type": "text"
      },
      "source": [
        "Hash tables are data structures that allow indexing data to make lookup tasks more efficient. \n",
        "In this part, you will see the implementation of the simplest hash function."
      ]
    },
    {
      "cell_type": "code",
      "metadata": {
        "id": "BGLo9pSvmyAo",
        "colab_type": "code",
        "colab": {}
      },
      "source": [
        "import numpy as np                # library for array and matrix manipulation\n",
        "import pprint                     # utilities for console printing \n",
        "from utils_nb import plot_vectors # helper function to plot vectors\n",
        "import matplotlib.pyplot as plt   # visualization library\n",
        "\n",
        "pp = pprint.PrettyPrinter(indent=4) # Instantiate a pretty printer"
      ],
      "execution_count": 4,
      "outputs": []
    },
    {
      "cell_type": "markdown",
      "metadata": {
        "id": "TaLEwAipnCpQ",
        "colab_type": "text"
      },
      "source": [
        "In the next cell, we will define a straightforward hash function for integer numbers. The function will receive a list of integer numbers and the desired amount of buckets. The function will produce a hash table stored as a dictionary, where keys contain the hash keys, and the values will provide the hashed elements of the input list. \n",
        "\n",
        "The hash function is just the remainder of the integer division between each element and the desired number of buckets."
      ]
    },
    {
      "cell_type": "code",
      "metadata": {
        "id": "DdII2sLZm1Bs",
        "colab_type": "code",
        "colab": {}
      },
      "source": [
        "def basic_hash_table(value_l, n_buckets):\n",
        "\n",
        "  def hash_function(value, n_buckets):\n",
        "    return int(value) % n_buckets\n",
        "\n",
        "  # Initialize all the buckets in the hash table as empty lists\n",
        "  hash_table = {i: [] for i in range(n_buckets)}\n",
        "\n",
        "  for value in value_l:\n",
        "    hash_value = hash_function(value, n_buckets)  # Get the hash key for the given value\n",
        "    hash_table[hash_value].append(value)          # Add the element to the corresponding bucket\n",
        "\n",
        "  return hash_table"
      ],
      "execution_count": 5,
      "outputs": []
    },
    {
      "cell_type": "markdown",
      "metadata": {
        "id": "1iGeRt-doZiy",
        "colab_type": "text"
      },
      "source": [
        "Now let's see the hash table function in action. The pretty print function (`pprint()`) will produce a visually appealing output. "
      ]
    },
    {
      "cell_type": "code",
      "metadata": {
        "id": "qJx4U3sZoU4f",
        "colab_type": "code",
        "colab": {
          "base_uri": "https://localhost:8080/",
          "height": 195
        },
        "outputId": "691558eb-b0db-4fe6-991a-677e43dc7fbf"
      },
      "source": [
        "value_l = [100, 10, 14, 17, 97] # Set of values to hash\n",
        "hash_table_example = basic_hash_table(value_l, n_buckets=10)\n",
        "pp.pprint(hash_table_example)"
      ],
      "execution_count": 6,
      "outputs": [
        {
          "output_type": "stream",
          "text": [
            "{   0: [100, 10],\n",
            "    1: [],\n",
            "    2: [],\n",
            "    3: [],\n",
            "    4: [14],\n",
            "    5: [],\n",
            "    6: [],\n",
            "    7: [17, 97],\n",
            "    8: [],\n",
            "    9: []}\n"
          ],
          "name": "stdout"
        }
      ]
    },
    {
      "cell_type": "code",
      "metadata": {
        "id": "g7oocP7fopxQ",
        "colab_type": "code",
        "colab": {
          "base_uri": "https://localhost:8080/",
          "height": 195
        },
        "outputId": "dd7292b5-3622-4b5c-ab8d-7f4bdfe33ac9"
      },
      "source": [
        "value_l = [100, 10, 14, 17, 97, 15, 19, 11, 12, 22, 21, 23] # Set of values to hash\n",
        "hash_table_example = basic_hash_table(value_l, n_buckets=10)\n",
        "pp.pprint(hash_table_example)"
      ],
      "execution_count": 7,
      "outputs": [
        {
          "output_type": "stream",
          "text": [
            "{   0: [100, 10],\n",
            "    1: [11, 21],\n",
            "    2: [12, 22],\n",
            "    3: [23],\n",
            "    4: [14],\n",
            "    5: [15],\n",
            "    6: [],\n",
            "    7: [17, 97],\n",
            "    8: [],\n",
            "    9: [19]}\n"
          ],
          "name": "stdout"
        }
      ]
    },
    {
      "cell_type": "markdown",
      "metadata": {
        "id": "wl_IoEBwpTCo",
        "colab_type": "text"
      },
      "source": [
        "In this case, the bucket key must be the rightmost digit of each number."
      ]
    },
    {
      "cell_type": "markdown",
      "metadata": {
        "id": "FkdGWfjxpTe6",
        "colab_type": "text"
      },
      "source": [
        "## Planes"
      ]
    },
    {
      "cell_type": "markdown",
      "metadata": {
        "id": "a4bnftx1pVOE",
        "colab_type": "text"
      },
      "source": [
        "Multiplanes hash functions are other types of hash functions. Multiplanes hash functions are based on the idea of numbering every single region that is formed by the intersection of n planes. In the following code, we show the most basic forms of the multiplanes principle. First, with a single plane:"
      ]
    },
    {
      "cell_type": "code",
      "metadata": {
        "id": "lGX_rjsNpBTP",
        "colab_type": "code",
        "colab": {
          "base_uri": "https://localhost:8080/",
          "height": 487
        },
        "outputId": "6ed61ae7-b185-41d7-c2f5-84c4b39f1a16"
      },
      "source": [
        "P = np.array([[1, 1]])        # Define a single plane. \n",
        "fig, ax1 = plt.subplots(figsize=(8, 8))  # Create a plot\n",
        "\n",
        "# Plot the plane P as a vector\n",
        "plot_vectors([P], axes=[2, 2], ax=ax1)\n",
        "\n",
        "# Plot  random points. \n",
        "for i in range(0, 10):\n",
        "  v1 = np.array(np.random.uniform(-2, 2, 2))  # Get a pair of random numbers between -4 and 4 \n",
        "  side_of_plane = np.sign(np.dot(P, v1.T))\n",
        "\n",
        "  # Color the points depending on the sign of the result of np.dot(P, point.T)\n",
        "  if side_of_plane == 1:\n",
        "    ax1.plot([v1[0]], [v1[1]], \"b\")  # Plot blue points\n",
        "  else:\n",
        "    ax1.plot([v1[0]], [v1[1]], \"ro\") # Plot red points\n",
        "\n",
        "plt.show()"
      ],
      "execution_count": 9,
      "outputs": [
        {
          "output_type": "display_data",
          "data": {
            "image/png": "[encoded data removed]",
            "text/plain": [
              "<Figure size 576x576 with 1 Axes>"
            ]
          },
          "metadata": {
            "tags": [],
            "needs_background": "light"
          }
        }
      ]
    },
    {
      "cell_type": "markdown",
      "metadata": {
        "id": "6DDdaAnNEBy3",
        "colab_type": "text"
      },
      "source": [
        "The first thing to note is that the vector that defines the plane does not mark the boundary between the two sides of the plane. It marks the direction in which you find the 'positive' side of the plane. Not intuitive at all!\n",
        "\n",
        "If we want to plot the separation plane, we need to plot a line that is perpendicular to our vector `P`. We can get such a line using a $90^o$ rotation matrix.\n",
        "\n",
        "Feel free to change the direction of the plane `P`."
      ]
    },
    {
      "cell_type": "code",
      "metadata": {
        "id": "gIBXmNs7Dyr9",
        "colab_type": "code",
        "colab": {
          "base_uri": "https://localhost:8080/",
          "height": 487
        },
        "outputId": "774ff605-be9f-49b1-e02f-1d96e78374ba"
      },
      "source": [
        "P = np.array([[1, 2]])  # Define a single plane. You may change the direction\n",
        "\n",
        "# Get a new plane perpendicular to P. We use a rotation matrix\n",
        "PT = np.dot([[0, 1], [-1, 0]], P.T).T  \n",
        "\n",
        "fig, ax1 = plt.subplots(figsize=(8, 8)) # Create a plot with custom size\n",
        "\n",
        "plot_vectors([P], colors=['b'], axes=[2, 2], ax=ax1) # Plot the plane P as a vector\n",
        "\n",
        "# Plot the plane P as a 2 vectors. \n",
        "# We scale by 2 just to get the arrows outside the current box\n",
        "plot_vectors([PT * 4, PT * -4], colors=['k', 'k'], axes=[4, 4], ax=ax1)\n",
        "\n",
        "# Plot 20 random points. \n",
        "for i in range(0, 20):\n",
        "        v1 = np.array(np.random.uniform(-4, 4, 2)) # Get a pair of random numbers between -4 and 4 \n",
        "        side_of_plane = np.sign(np.dot(P, v1.T)) # Get the sign of the dot product with P\n",
        "        # Color the points depending on the sign of the result of np.dot(P, point.T)\n",
        "        if side_of_plane == 1:\n",
        "            ax1.plot([v1[0]], [v1[1]], 'bo') # Plot a blue point\n",
        "        else:\n",
        "            ax1.plot([v1[0]], [v1[1]], 'ro') # Plot a red point\n",
        "\n",
        "plt.show()"
      ],
      "execution_count": 10,
      "outputs": [
        {
          "output_type": "display_data",
          "data": {
            "image/png": "[encoded data removed]",
            "text/plain": [
              "<Figure size 576x576 with 1 Axes>"
            ]
          },
          "metadata": {
            "tags": [],
            "needs_background": "light"
          }
        }
      ]
    },
    {
      "cell_type": "markdown",
      "metadata": {
        "id": "7IBHJ6UNGjrg",
        "colab_type": "text"
      },
      "source": [
        "Now, let us see what is inside the code that color the points. "
      ]
    },
    {
      "cell_type": "code",
      "metadata": {
        "id": "d0DTFxmYGdvq",
        "colab_type": "code",
        "colab": {}
      },
      "source": [
        "P = np.array([[1, 1]])      # Single plane\n",
        "v1 = np.array([[1, 2]])     # Sample point 1\n",
        "v2 = np.array([[-1, 1]])    # Sample point 2\n",
        "v3 = np.array([[-2, -1]])   # Sample point 3"
      ],
      "execution_count": 11,
      "outputs": []
    },
    {
      "cell_type": "code",
      "metadata": {
        "id": "4GVHcZnUGn4c",
        "colab_type": "code",
        "colab": {
          "base_uri": "https://localhost:8080/",
          "height": 35
        },
        "outputId": "3163a280-e0a8-4b7f-c78b-3bdd5616f477"
      },
      "source": [
        "np.dot(P, v1.T)"
      ],
      "execution_count": 12,
      "outputs": [
        {
          "output_type": "execute_result",
          "data": {
            "text/plain": [
              "array([[3]])"
            ]
          },
          "metadata": {
            "tags": []
          },
          "execution_count": 12
        }
      ]
    },
    {
      "cell_type": "code",
      "metadata": {
        "id": "6Vuv8Yr0Goqu",
        "colab_type": "code",
        "colab": {
          "base_uri": "https://localhost:8080/",
          "height": 35
        },
        "outputId": "88330a3e-343a-4d3c-ff14-b6f5a90d30c1"
      },
      "source": [
        "np.dot(P, v2.T)"
      ],
      "execution_count": 13,
      "outputs": [
        {
          "output_type": "execute_result",
          "data": {
            "text/plain": [
              "array([[0]])"
            ]
          },
          "metadata": {
            "tags": []
          },
          "execution_count": 13
        }
      ]
    },
    {
      "cell_type": "code",
      "metadata": {
        "id": "9hoQo7PwGqNa",
        "colab_type": "code",
        "colab": {
          "base_uri": "https://localhost:8080/",
          "height": 35
        },
        "outputId": "ab5e2b89-3e13-4e72-f8fa-03f8431677b5"
      },
      "source": [
        "np.dot(P, v3.T)"
      ],
      "execution_count": 14,
      "outputs": [
        {
          "output_type": "execute_result",
          "data": {
            "text/plain": [
              "array([[-3]])"
            ]
          },
          "metadata": {
            "tags": []
          },
          "execution_count": 14
        }
      ]
    },
    {
      "cell_type": "markdown",
      "metadata": {
        "id": "uOmJxuCVGuTV",
        "colab_type": "text"
      },
      "source": [
        "The function below checks in which side of the plane P is located the vector `v`"
      ]
    },
    {
      "cell_type": "code",
      "metadata": {
        "id": "qNUB3TI6Gryo",
        "colab_type": "code",
        "colab": {}
      },
      "source": [
        "def side_of_plane(P, v):\n",
        "  dotproduct = np.dot(P, v.T)  # Get the dot product P * v'\n",
        "  sign_of_dot_product = np.sign(dotproduct)  # The sign of the elements of the dotproduct matrix \n",
        "  sign_of_dot_product_scalar = sign_of_dot_product.item()  # The value of the first item\n",
        "\n",
        "  return sign_of_dot_product_scalar"
      ],
      "execution_count": 15,
      "outputs": []
    },
    {
      "cell_type": "code",
      "metadata": {
        "id": "SKnDYjaxHMtb",
        "colab_type": "code",
        "colab": {
          "base_uri": "https://localhost:8080/",
          "height": 35
        },
        "outputId": "6499889d-dbca-417d-a0b9-828d80526af6"
      },
      "source": [
        "side_of_plane(P, v1) # In which side is [1, 2]"
      ],
      "execution_count": 16,
      "outputs": [
        {
          "output_type": "execute_result",
          "data": {
            "text/plain": [
              "1"
            ]
          },
          "metadata": {
            "tags": []
          },
          "execution_count": 16
        }
      ]
    },
    {
      "cell_type": "code",
      "metadata": {
        "id": "kNIDwHTTHO5H",
        "colab_type": "code",
        "colab": {
          "base_uri": "https://localhost:8080/",
          "height": 35
        },
        "outputId": "bab7602b-cf8f-464d-dede-ec3b527b03fa"
      },
      "source": [
        "side_of_plane(P, v2) # In which side is [-1, 1]"
      ],
      "execution_count": 17,
      "outputs": [
        {
          "output_type": "execute_result",
          "data": {
            "text/plain": [
              "0"
            ]
          },
          "metadata": {
            "tags": []
          },
          "execution_count": 17
        }
      ]
    },
    {
      "cell_type": "code",
      "metadata": {
        "id": "qdWW-JdYHQ-D",
        "colab_type": "code",
        "colab": {
          "base_uri": "https://localhost:8080/",
          "height": 35
        },
        "outputId": "1dcdc750-12de-4a75-e41c-2ea45d9f1b99"
      },
      "source": [
        "side_of_plane(P, v3) # In which side is [-2, -1]"
      ],
      "execution_count": 18,
      "outputs": [
        {
          "output_type": "execute_result",
          "data": {
            "text/plain": [
              "-1"
            ]
          },
          "metadata": {
            "tags": []
          },
          "execution_count": 18
        }
      ]
    },
    {
      "cell_type": "markdown",
      "metadata": {
        "id": "XlkwrqAeHUpq",
        "colab_type": "text"
      },
      "source": [
        "## Hash Function with multiple planes"
      ]
    },
    {
      "cell_type": "markdown",
      "metadata": {
        "id": "sI278XIOHVJn",
        "colab_type": "text"
      },
      "source": [
        "In the following section, we are going to define a hash function with a list of three custom planes in 2D."
      ]
    },
    {
      "cell_type": "code",
      "metadata": {
        "id": "Rd71VQpTHSXy",
        "colab_type": "code",
        "colab": {}
      },
      "source": [
        "P1 = np.array([[1, 1]])   # First plane 2D\n",
        "P2 = np.array([[-1, 1]])  # Second plane 2D\n",
        "P3 = np.array([[-1, -1]]) # Third plane 2D\n",
        "P_l = [P1, P2, P3]  # List of arrays. It is the multi plane\n",
        "\n",
        "# Vector to search\n",
        "v = np.array([[2, 2]])"
      ],
      "execution_count": 19,
      "outputs": []
    },
    {
      "cell_type": "markdown",
      "metadata": {
        "id": "CpDm_9DoHjbe",
        "colab_type": "text"
      },
      "source": [
        "The next function creates a hash value based on a set of planes. The output value is a combination of the side of the plane where the vector is localized with respect to the collection of planes.\n",
        "\n",
        "We can think of this list of planes as a set of basic hash functions, each of which can produce only 1 or 0 as output."
      ]
    },
    {
      "cell_type": "code",
      "metadata": {
        "id": "tdnrkX1sHkBG",
        "colab_type": "code",
        "colab": {}
      },
      "source": [
        "def hash_multi_plane(P_1, v):\n",
        "  hash_value = 0\n",
        "  for i, p in enumerate(P_1):\n",
        "    sign = side_of_plane(P, v)\n",
        "    hash_i = 1 if sign >= 0 else 0\n",
        "    hash_value += 2 ** i * hash_i\n",
        "  return hash_value"
      ],
      "execution_count": 21,
      "outputs": []
    },
    {
      "cell_type": "code",
      "metadata": {
        "id": "EOmTGECWIIz-",
        "colab_type": "code",
        "colab": {
          "base_uri": "https://localhost:8080/",
          "height": 35
        },
        "outputId": "7b8ef2e5-c5e6-42ab-879c-432bfcf5a674"
      },
      "source": [
        "hash_multi_plane(P_l, v) # Find the number of the plane that containes this value"
      ],
      "execution_count": 22,
      "outputs": [
        {
          "output_type": "execute_result",
          "data": {
            "text/plain": [
              "7"
            ]
          },
          "metadata": {
            "tags": []
          },
          "execution_count": 22
        }
      ]
    },
    {
      "cell_type": "markdown",
      "metadata": {
        "id": "EYgsedAcIPqr",
        "colab_type": "text"
      },
      "source": [
        "## Random Planes"
      ]
    },
    {
      "cell_type": "markdown",
      "metadata": {
        "id": "s52kUUvXIQJP",
        "colab_type": "text"
      },
      "source": [
        "In the cell below, we create a set of three random planes"
      ]
    },
    {
      "cell_type": "code",
      "metadata": {
        "id": "2fImkzIGINH9",
        "colab_type": "code",
        "colab": {
          "base_uri": "https://localhost:8080/",
          "height": 70
        },
        "outputId": "c088ef85-9ae9-4319-ba61-bf58e355f489"
      },
      "source": [
        "np.random.seed(0)\n",
        "num_dimensions = 2  # is 300 in assignment\n",
        "num_planes = 3      # is 10 in assignment\n",
        "random_planes_matrix = np.random.normal(size=(num_planes, num_dimensions))\n",
        "print(random_planes_matrix)"
      ],
      "execution_count": 23,
      "outputs": [
        {
          "output_type": "stream",
          "text": [
            "[[ 1.76405235  0.40015721]\n",
            " [ 0.97873798  2.2408932 ]\n",
            " [ 1.86755799 -0.97727788]]\n"
          ],
          "name": "stdout"
        }
      ]
    },
    {
      "cell_type": "code",
      "metadata": {
        "id": "kOUUzNMCIiO-",
        "colab_type": "code",
        "colab": {}
      },
      "source": [
        "v = np.array([[2, 2]])"
      ],
      "execution_count": 24,
      "outputs": []
    },
    {
      "cell_type": "markdown",
      "metadata": {
        "id": "rm_04a0fIkPg",
        "colab_type": "text"
      },
      "source": [
        "The next function is similar to the `side_of_plane()` function, but it evaluates more than a plane each time. \n",
        "\n",
        "The result is an array with the side of the plane of `v`, for the set of planes `P`"
      ]
    },
    {
      "cell_type": "code",
      "metadata": {
        "id": "bHVpAr8MInIP",
        "colab_type": "code",
        "colab": {}
      },
      "source": [
        "# Side of the plane function. The result is a matrix\n",
        "def side_of_plane_matrix(P, v):\n",
        "  dotproduct = np.dot(P, v.T)\n",
        "  sign_of_dot_product = np.sign(dotproduct)  # Get a boolean value telling if the value in the cell is positive or negative\n",
        "  \n",
        "  return sign_of_dot_product"
      ],
      "execution_count": 25,
      "outputs": []
    },
    {
      "cell_type": "markdown",
      "metadata": {
        "id": "csObJ0xRJlQW",
        "colab_type": "text"
      },
      "source": [
        "Get the side of the plane of the vector `[2, 2]` for the set of random planes. "
      ]
    },
    {
      "cell_type": "code",
      "metadata": {
        "id": "Tmwy5--QJjf1",
        "colab_type": "code",
        "colab": {
          "base_uri": "https://localhost:8080/",
          "height": 70
        },
        "outputId": "9bae7df3-8765-4af3-c516-fcd80ce162f5"
      },
      "source": [
        "sides_l = side_of_plane_matrix(random_planes_matrix, v)\n",
        "sides_l"
      ],
      "execution_count": 26,
      "outputs": [
        {
          "output_type": "execute_result",
          "data": {
            "text/plain": [
              "array([[1.],\n",
              "       [1.],\n",
              "       [1.]])"
            ]
          },
          "metadata": {
            "tags": []
          },
          "execution_count": 26
        }
      ]
    },
    {
      "cell_type": "markdown",
      "metadata": {
        "id": "Sl3M3sptJxQ1",
        "colab_type": "text"
      },
      "source": [
        "Now, let us use the former function to define our multiplane hash function."
      ]
    },
    {
      "cell_type": "code",
      "metadata": {
        "id": "pKIia7pZJu_E",
        "colab_type": "code",
        "colab": {}
      },
      "source": [
        "def hash_multi_plane_matrix(P, v, num_planes):\n",
        "  sides_matrix = side_of_plane_matrix(P, v)  # Get the side of planes for P and v\n",
        "\n",
        "  hash_value=0\n",
        "  for i in range(num_planes):\n",
        "    sign = sides_matrix[i].item()  # Get the value inside the matrix cell\n",
        "    hash_i = 1 if sign >= 0 else 0\n",
        "    hash_value += 2 ** i * hash_i  # sum 2^i * hash_i\n",
        "\n",
        "  return hash_value"
      ],
      "execution_count": 27,
      "outputs": []
    },
    {
      "cell_type": "markdown",
      "metadata": {
        "id": "98ynj9sbKcUy",
        "colab_type": "text"
      },
      "source": [
        "Print the bucket hash for the vector `v = [2, 2]`. "
      ]
    },
    {
      "cell_type": "code",
      "metadata": {
        "id": "jsjsMNaQKb0U",
        "colab_type": "code",
        "colab": {
          "base_uri": "https://localhost:8080/",
          "height": 35
        },
        "outputId": "21926cfa-e9bd-48ab-8847-321e6447d979"
      },
      "source": [
        "hash_multi_plane_matrix(random_planes_matrix, v, num_planes)"
      ],
      "execution_count": 28,
      "outputs": [
        {
          "output_type": "execute_result",
          "data": {
            "text/plain": [
              "7"
            ]
          },
          "metadata": {
            "tags": []
          },
          "execution_count": 28
        }
      ]
    },
    {
      "cell_type": "markdown",
      "metadata": {
        "id": "ThhUBgKSKgws",
        "colab_type": "text"
      },
      "source": [
        "#### Note\n",
        "This showed you how to make one set of random planes.  You will make multiple sets of random planes in order to make the approximate nearest neighbors more accurate."
      ]
    },
    {
      "cell_type": "markdown",
      "metadata": {
        "id": "ZmeQyVuTKiQV",
        "colab_type": "text"
      },
      "source": [
        "## Document vectors"
      ]
    },
    {
      "cell_type": "markdown",
      "metadata": {
        "id": "CUszcdudKmHz",
        "colab_type": "text"
      },
      "source": [
        "Before we finish this lab, remember that you can represent a document as a vector by adding up the word vectors for the words inside the document. \n",
        "\n",
        "In this example, our embedding contains only three words, each represented by a 3D array."
      ]
    },
    {
      "cell_type": "code",
      "metadata": {
        "id": "s9YSq5GcKZ5U",
        "colab_type": "code",
        "colab": {
          "base_uri": "https://localhost:8080/",
          "height": 35
        },
        "outputId": "b919ac43-31c6-45bc-f005-f61053fce1be"
      },
      "source": [
        "word_embedding = {\n",
        "    \"I\": np.array([1,0,1]),\n",
        "    \"love\": np.array([-1,0,1]),\n",
        "    \"learning\": np.array([1,0,1])\n",
        "}\n",
        "words_in_document = ['I', 'love', 'learning', 'not_a_word']\n",
        "document_embedding = np.array([0, 0, 0])\n",
        "for word in words_in_document:\n",
        "  document_embedding += word_embedding.get(word, 0)\n",
        "\n",
        "print(document_embedding)"
      ],
      "execution_count": 29,
      "outputs": [
        {
          "output_type": "stream",
          "text": [
            "[1 0 3]\n"
          ],
          "name": "stdout"
        }
      ]
    },
    {
      "cell_type": "markdown",
      "metadata": {
        "id": "rdvjODlYNYuj",
        "colab_type": "text"
      },
      "source": [
        "**Congratulations! You've now completed this lab on hash functions and multiplanes!**"
      ]
    }
  ]
}