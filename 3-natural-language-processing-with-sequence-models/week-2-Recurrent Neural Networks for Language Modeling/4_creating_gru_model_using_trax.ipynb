{
  "nbformat": 4,
  "nbformat_minor": 0,
  "metadata": {
    "colab": {
      "name": "4-creating-gru-model-using-trax.ipynb",
      "provenance": [],
      "authorship_tag": "ABX9TyNX/WFx7M4O00JYbD20vvTY",
      "include_colab_link": true
    },
    "kernelspec": {
      "name": "python3",
      "display_name": "Python 3"
    }
  },
  "cells": [
    {
      "cell_type": "markdown",
      "metadata": {
        "id": "view-in-github",
        "colab_type": "text"
      },
      "source": [
        "<a href=\"https://colab.research.google.com/github/rahiakela/coursera-natural-language-processing-specialization/blob/3-natural-language-processing-with-sequence-models/week-2/4_creating_gru_model_using_trax.ipynb\" target=\"_parent\"><img src=\"https://colab.research.google.com/assets/colab-badge.svg\" alt=\"Open In Colab\"/></a>"
      ]
    },
    {
      "cell_type": "markdown",
      "metadata": {
        "id": "AgvWG9HqD6uU",
        "colab_type": "text"
      },
      "source": [
        "# Creating a GRU model using Trax"
      ]
    },
    {
      "cell_type": "markdown",
      "metadata": {
        "id": "rFw8O3iSEskF",
        "colab_type": "text"
      },
      "source": [
        "For this lecture notebook you will be using Trax's layers. These are the building blocks for creating neural networks with Trax."
      ]
    },
    {
      "cell_type": "code",
      "metadata": {
        "id": "1K_Z-upBFKqk",
        "colab_type": "code",
        "colab": {}
      },
      "source": [
        "!pip install trax==1.3.1 # Use this version for this notebook"
      ],
      "execution_count": null,
      "outputs": []
    },
    {
      "cell_type": "code",
      "metadata": {
        "id": "YaXORPnfEtV_",
        "colab_type": "code",
        "colab": {}
      },
      "source": [
        "import trax\n",
        "from trax import layers as trax_layer"
      ],
      "execution_count": 2,
      "outputs": []
    },
    {
      "cell_type": "markdown",
      "metadata": {
        "id": "kNYYPChBEyHA",
        "colab_type": "text"
      },
      "source": [
        "Trax allows to define neural network architectures by stacking layers (similarly to other libraries such as Keras). For this the `Serial()` is often used as it is a combinator that allows to stack layers serially using function composition.\n",
        "\n",
        "Next you can see a simple vanilla NN architecture containing 1 hidden(dense) layer with 128 cells and output (dense) layer with 10 cells on which we apply the final layer of logsoftmax."
      ]
    },
    {
      "cell_type": "code",
      "metadata": {
        "id": "G_Bh-5ESE2wi",
        "colab_type": "code",
        "colab": {}
      },
      "source": [
        "mlp = trax_layer.Serial(\n",
        "    trax_layer.Dense(128),\n",
        "    trax_layer.Relu(),\n",
        "    trax_layer.Dense(10),\n",
        "    trax_layer.LogSoftmax()\n",
        ")"
      ],
      "execution_count": 3,
      "outputs": []
    },
    {
      "cell_type": "markdown",
      "metadata": {
        "id": "uds0OJp7F8kn",
        "colab_type": "text"
      },
      "source": [
        "Each of the layers within the `Serial` combinator layer is considered a sublayer. Notice that unlike similar libraries, **in Trax the activation functions are considered layers.** To know more about the `Serial` layer check the docs [here](https://trax-ml.readthedocs.io/en/latest/trax.layers.html#trax.layers.combinators.Serial).\n",
        "\n",
        "You can try printing this object:"
      ]
    },
    {
      "cell_type": "code",
      "metadata": {
        "id": "a80eeyrfGBPq",
        "colab_type": "code",
        "colab": {
          "base_uri": "https://localhost:8080/",
          "height": 124
        },
        "outputId": "9df48e6a-b051-4608-be61-0bd182101889"
      },
      "source": [
        "print(mlp)"
      ],
      "execution_count": 4,
      "outputs": [
        {
          "output_type": "stream",
          "text": [
            "Serial[\n",
            "  Dense_128\n",
            "  Relu\n",
            "  Dense_10\n",
            "  LogSoftmax\n",
            "]\n"
          ],
          "name": "stdout"
        }
      ]
    },
    {
      "cell_type": "markdown",
      "metadata": {
        "id": "b7zfhKNqGNH6",
        "colab_type": "text"
      },
      "source": [
        "Printing the model gives you the exact same information as the model's definition itself.\n",
        "\n",
        "By just looking at the definition you can clearly see what is going on inside the neural network. Trax is very straightforward in the way a network is defined, that is one of the things that makes it awesome! "
      ]
    },
    {
      "cell_type": "markdown",
      "metadata": {
        "id": "aiGpBHmTGONb",
        "colab_type": "text"
      },
      "source": [
        "## GRU MODEL"
      ]
    },
    {
      "cell_type": "markdown",
      "metadata": {
        "id": "UWIQn0GEGRA1",
        "colab_type": "text"
      },
      "source": [
        "To create a `GRU` model you will need to be familiar with the following layers (Documentation link attached with each layer name):\n",
        "   - [`ShiftRight`](https://trax-ml.readthedocs.io/en/latest/trax.layers.html#trax.layers.attention.ShiftRight) Shifts the tensor to the right by padding on axis 1. The `mode` should be specified and it refers to the context in which the model is being used. Possible values are: 'train', 'eval' or 'predict', predict mode is for fast inference. Defaults to \"train\".\n",
        "   \n",
        "   - [`Embedding`](https://trax-ml.readthedocs.io/en/latest/trax.layers.html#trax.layers.core.Embedding) Maps discrete tokens to vectors. It will have shape `(vocabulary length X dimension of output vectors)`. The dimension of output vectors (also called `d_feature`) is the number of elements in the word embedding.\n",
        "   - [`GRU`](https://trax-ml.readthedocs.io/en/latest/trax.layers.html#trax.layers.rnn.GRU) The GRU layer. It leverages another Trax layer called [`GRUCell`](https://trax-ml.readthedocs.io/en/latest/trax.layers.html#trax.layers.rnn.GRUCell). The number of GRU units should be specified and should match the number of elements in the word embedding. If you want to stack two consecutive GRU layers, it can be done by using python's list comprehension.\n",
        "   - [`Dense`](https://trax-ml.readthedocs.io/en/latest/trax.layers.html#trax.layers.core.Dense) Vanilla Dense layer.\n",
        "   - [`LogSoftMax`](https://trax-ml.readthedocs.io/en/latest/trax.layers.html#trax.layers.core.LogSoftmax) Log Softmax function.\n",
        "\n",
        "Putting everything together the GRU model will look like this:"
      ]
    },
    {
      "cell_type": "code",
      "metadata": {
        "id": "3P2AhMXeGC66",
        "colab_type": "code",
        "colab": {}
      },
      "source": [
        "mode = 'train'\n",
        "vocab_size = 256\n",
        "model_dimension = 512\n",
        "n_layers = 2\n",
        "\n",
        "GRU = trax_layer.Serial(\n",
        "    # Do remember to pass the mode parameter if you are using it for interence/test as default is train\n",
        "    trax_layer.ShiftRight(mode=mode),    \n",
        "    trax_layer.Embedding(vocab_size=vocab_size, d_feature=model_dimension),\n",
        "    # You can play around n_layers if you want to stack more GRU layers together\n",
        "    [trax_layer.GRU(n_units=model_dimension) for _ in range(n_layers)], \n",
        "    trax_layer.Dense(n_units=vocab_size),\n",
        "    trax_layer.LogSoftmax()\n",
        ")"
      ],
      "execution_count": 5,
      "outputs": []
    },
    {
      "cell_type": "markdown",
      "metadata": {
        "id": "CSO1K5jbIz-x",
        "colab_type": "text"
      },
      "source": [
        "Next is a helper function that prints information for every layer (sublayer within `Serial`):\n",
        "\n",
        "_Try changing the parameters defined before the GRU model and see how it changes!_\n"
      ]
    },
    {
      "cell_type": "code",
      "metadata": {
        "id": "AErApnZbI24s",
        "colab_type": "code",
        "colab": {}
      },
      "source": [
        "def show_layers(model, layer_prefix='Serial.sublayers'):\n",
        "  print(f\"Total layers: {model.sublayers}\")\n",
        "  for i in range(len(model.sublayers)):\n",
        "    print('========')\n",
        "    print(f\"{layer_prefix}_{i}: {model.sublayers[i]}\")"
      ],
      "execution_count": 6,
      "outputs": []
    },
    {
      "cell_type": "code",
      "metadata": {
        "id": "ZpadyOhQJfku",
        "colab_type": "code",
        "colab": {
          "base_uri": "https://localhost:8080/",
          "height": 248
        },
        "outputId": "fc8ae7bb-2f94-4593-c900-d1c3a6ebacf4"
      },
      "source": [
        "show_layers(GRU)"
      ],
      "execution_count": 7,
      "outputs": [
        {
          "output_type": "stream",
          "text": [
            "Total layers: [ShiftRight(1), Embedding_256_512, GRU_512, GRU_512, Dense_256, LogSoftmax]\n",
            "========\n",
            "Serial.sublayers_0: ShiftRight(1)\n",
            "========\n",
            "Serial.sublayers_1: Embedding_256_512\n",
            "========\n",
            "Serial.sublayers_2: GRU_512\n",
            "========\n",
            "Serial.sublayers_3: GRU_512\n",
            "========\n",
            "Serial.sublayers_4: Dense_256\n",
            "========\n",
            "Serial.sublayers_5: LogSoftmax\n"
          ],
          "name": "stdout"
        }
      ]
    },
    {
      "cell_type": "markdown",
      "metadata": {
        "id": "DgQZwJQ_JoRT",
        "colab_type": "text"
      },
      "source": [
        "Hope you are now more familiarized with creating GRU models using Trax. \n",
        "\n",
        "You will train this model in this week's assignment and see it in action. \n",
        "\n",
        "\n",
        "**GRU and the trax minions will return, in this week's endgame.**"
      ]
    }
  ]
}