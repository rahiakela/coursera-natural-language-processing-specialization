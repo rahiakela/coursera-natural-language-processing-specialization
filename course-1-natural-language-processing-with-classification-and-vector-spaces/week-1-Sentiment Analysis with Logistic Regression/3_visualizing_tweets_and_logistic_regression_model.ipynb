{
  "nbformat": 4,
  "nbformat_minor": 0,
  "metadata": {
    "colab": {
      "name": "3-visualizing-tweets-and-logistic-regression-model.ipynb",
      "provenance": [],
      "toc_visible": true,
      "authorship_tag": "ABX9TyM2cEPRAi0FjTIDLAhpXBQI",
      "include_colab_link": true
    },
    "kernelspec": {
      "name": "python3",
      "display_name": "Python 3"
    }
  },
  "cells": [
    {
      "cell_type": "markdown",
      "metadata": {
        "id": "view-in-github",
        "colab_type": "text"
      },
      "source": [
        "<a href=\"https://colab.research.google.com/github/rahiakela/coursera-natural-language-processing-specialization/blob/master/course-1-natural-language-processing-with-classification-and-vector-spaces/week-1-Sentiment%20Analysis%20with%20Logistic%20Regression/3_visualizing_tweets_and_logistic_regression_model.ipynb\" target=\"_parent\"><img src=\"https://colab.research.google.com/assets/colab-badge.svg\" alt=\"Open In Colab\"/></a>"
      ]
    },
    {
      "cell_type": "markdown",
      "metadata": {
        "id": "kQxO30V0Z9Ij"
      },
      "source": [
        "# Visualizing tweets and the Logistic Regression model"
      ]
    },
    {
      "cell_type": "markdown",
      "metadata": {
        "id": "IAyvw6nJcBsa"
      },
      "source": [
        "**Objectives:** Visualize and interpret the logistic regression model\n",
        "\n",
        "**Steps:**\n",
        "* Plot tweets in a scatter plot using their positive and negative sums.\n",
        "* Plot the output of the logistic regression model in the same plot as a solid line"
      ]
    },
    {
      "cell_type": "markdown",
      "metadata": {
        "id": "ukE0oseKcD6g"
      },
      "source": [
        "## Import the required libraries"
      ]
    },
    {
      "cell_type": "markdown",
      "metadata": {
        "id": "hpiaBkehcHGq"
      },
      "source": [
        "We will be using [*NLTK*](http://www.nltk.org/howto/twitter.html), an opensource NLP library, for collecting, handling, and processing Twitter data. In this lab, we will use the example dataset that comes alongside with NLTK. This dataset has been manually annotated and serves to establish baselines for models quickly. \n",
        "\n",
        "So, to start, let's import the required libraries. "
      ]
    },
    {
      "cell_type": "code",
      "metadata": {
        "id": "hiMmvBKiMGev",
        "outputId": "80f0a60a-62ef-4b25-cb2c-e017ffd5d757",
        "colab": {
          "base_uri": "https://localhost:8080/"
        }
      },
      "source": [
        "!wget https://raw.githubusercontent.com/rahiakela/coursera-natural-language-processing-specialization/master/course-1-natural-language-processing-with-classification-and-vector-spaces/week-1-Sentiment%20Analysis%20with%20Logistic%20Regression/utils.py"
      ],
      "execution_count": 2,
      "outputs": [
        {
          "output_type": "stream",
          "text": [
            "--2021-01-13 05:27:47--  https://raw.githubusercontent.com/rahiakela/coursera-natural-language-processing-specialization/master/course-1-natural-language-processing-with-classification-and-vector-spaces/week-1-Sentiment%20Analysis%20with%20Logistic%20Regression/utils.py\n",
            "Resolving raw.githubusercontent.com (raw.githubusercontent.com)... 151.101.0.133, 151.101.64.133, 151.101.128.133, ...\n",
            "Connecting to raw.githubusercontent.com (raw.githubusercontent.com)|151.101.0.133|:443... connected.\n",
            "HTTP request sent, awaiting response... 200 OK\n",
            "Length: 2261 (2.2K) [text/plain]\n",
            "Saving to: ‘utils.py’\n",
            "\n",
            "\rutils.py              0%[                    ]       0  --.-KB/s               \rutils.py            100%[===================>]   2.21K  --.-KB/s    in 0s      \n",
            "\n",
            "2021-01-13 05:27:47 (16.4 MB/s) - ‘utils.py’ saved [2261/2261]\n",
            "\n"
          ],
          "name": "stdout"
        }
      ]
    },
    {
      "cell_type": "code",
      "metadata": {
        "id": "XKgJLlA4cZft"
      },
      "source": [
        "import nltk                         # NLP toolbox\n",
        "from os import getcwd\n",
        "import pandas as pd                 # Library for Dataframes \n",
        "from nltk.corpus import twitter_samples \n",
        "import matplotlib.pyplot as plt     # Library for visualization\n",
        "import numpy as np                  # Library for math functions\n",
        "\n",
        "from utils import process_tweet, build_freqs # Our functions for NLP        "
      ],
      "execution_count": 3,
      "outputs": []
    },
    {
      "cell_type": "code",
      "metadata": {
        "id": "Q8N1uosaevKz",
        "colab": {
          "base_uri": "https://localhost:8080/"
        },
        "outputId": "20687ae6-c0cf-49e6-cc3c-951170f5f071"
      },
      "source": [
        "nltk.download('twitter_samples')"
      ],
      "execution_count": 4,
      "outputs": [
        {
          "output_type": "stream",
          "text": [
            "[nltk_data] Downloading package twitter_samples to /root/nltk_data...\n",
            "[nltk_data]   Unzipping corpora/twitter_samples.zip.\n"
          ],
          "name": "stdout"
        },
        {
          "output_type": "execute_result",
          "data": {
            "text/plain": [
              "True"
            ]
          },
          "metadata": {
            "tags": []
          },
          "execution_count": 4
        }
      ]
    },
    {
      "cell_type": "markdown",
      "metadata": {
        "id": "oTvR1xA9cxTp"
      },
      "source": [
        "## Load the NLTK sample dataset"
      ]
    },
    {
      "cell_type": "markdown",
      "metadata": {
        "id": "eBMAaWsocx4a"
      },
      "source": [
        "To complete this lab, you need the sample dataset of the previous lab. Here, we assume the files are already available, and we only need to load into Python lists."
      ]
    },
    {
      "cell_type": "code",
      "metadata": {
        "id": "_nerszZjc1dI",
        "colab": {
          "base_uri": "https://localhost:8080/"
        },
        "outputId": "b03a97de-e0fb-43bc-ab30-fb766ba24f1f"
      },
      "source": [
        "# select the set of positive and negative tweets\n",
        "all_positive_tweets = twitter_samples.strings('positive_tweets.json')\n",
        "all_negative_tweets = twitter_samples.strings('negative_tweets.json')\n",
        "\n",
        "# Concatenate positive and negative tweets \n",
        "tweets = all_positive_tweets + all_negative_tweets\n",
        "labels = np.append(np.ones((len(all_positive_tweets), 1)), np.zeros((len(all_negative_tweets), 1)), axis=0)\n",
        "\n",
        "# split the data into two pieces, one for training and one for testing (validation set) \n",
        "train_pos = all_positive_tweets[:4000]\n",
        "train_neg = all_negative_tweets[:4000]\n",
        "\n",
        "train_x = train_pos + train_neg\n",
        "print('Number of tweets: ', len(train_x))"
      ],
      "execution_count": 5,
      "outputs": [
        {
          "output_type": "stream",
          "text": [
            "Number of tweets:  8000\n"
          ],
          "name": "stdout"
        }
      ]
    },
    {
      "cell_type": "markdown",
      "metadata": {
        "id": "0rsneU3RfVRV"
      },
      "source": [
        "## Load the extracted features"
      ]
    },
    {
      "cell_type": "markdown",
      "metadata": {
        "id": "dG8KVMdvfWOF"
      },
      "source": [
        "Part of this week's assignment is the creation of the numerical features needed for the Logistic regression model. In order not to interfere with it, we have previously calculated and stored these features in a CSV file for the entire training set.\n",
        "\n",
        "So, please load these features created for the tweets sample. "
      ]
    },
    {
      "cell_type": "code",
      "metadata": {
        "id": "uq3bi2BbOj1p",
        "outputId": "7e3b9f8c-a6cc-4988-93e6-44c75e4fdc6f",
        "colab": {
          "base_uri": "https://localhost:8080/"
        }
      },
      "source": [
        "!wget https://raw.githubusercontent.com/rahiakela/coursera-natural-language-processing-specialization/master/course-1-natural-language-processing-with-classification-and-vector-spaces/week-1-Sentiment%20Analysis%20with%20Logistic%20Regression/logistic_features.csv"
      ],
      "execution_count": 7,
      "outputs": [
        {
          "output_type": "stream",
          "text": [
            "--2021-01-13 05:31:39--  https://raw.githubusercontent.com/rahiakela/coursera-natural-language-processing-specialization/master/course-1-natural-language-processing-with-classification-and-vector-spaces/week-1-Sentiment%20Analysis%20with%20Logistic%20Regression/logistic_features.csv\n",
            "Resolving raw.githubusercontent.com (raw.githubusercontent.com)... 151.101.0.133, 151.101.64.133, 151.101.128.133, ...\n",
            "Connecting to raw.githubusercontent.com (raw.githubusercontent.com)|151.101.0.133|:443... connected.\n",
            "HTTP request sent, awaiting response... 200 OK\n",
            "Length: 162402 (159K) [text/plain]\n",
            "Saving to: ‘logistic_features.csv’\n",
            "\n",
            "logistic_features.c 100%[===================>] 158.60K  --.-KB/s    in 0.04s   \n",
            "\n",
            "2021-01-13 05:31:39 (4.13 MB/s) - ‘logistic_features.csv’ saved [162402/162402]\n",
            "\n"
          ],
          "name": "stdout"
        }
      ]
    },
    {
      "cell_type": "code",
      "metadata": {
        "id": "m7eDVvpEeoGS",
        "colab": {
          "base_uri": "https://localhost:8080/",
          "height": 352
        },
        "outputId": "fe781632-63ea-47eb-9b1a-d16f668e30f0"
      },
      "source": [
        "# Load a 3 columns csv file using pandas function\n",
        "data = pd.read_csv('logistic_features.csv');\n",
        "data.head(10)"
      ],
      "execution_count": 8,
      "outputs": [
        {
          "output_type": "execute_result",
          "data": {
            "text/html": [
              "<div>\n",
              "<style scoped>\n",
              "    .dataframe tbody tr th:only-of-type {\n",
              "        vertical-align: middle;\n",
              "    }\n",
              "\n",
              "    .dataframe tbody tr th {\n",
              "        vertical-align: top;\n",
              "    }\n",
              "\n",
              "    .dataframe thead th {\n",
              "        text-align: right;\n",
              "    }\n",
              "</style>\n",
              "<table border=\"1\" class=\"dataframe\">\n",
              "  <thead>\n",
              "    <tr style=\"text-align: right;\">\n",
              "      <th></th>\n",
              "      <th>bias</th>\n",
              "      <th>positive</th>\n",
              "      <th>negative</th>\n",
              "      <th>sentiment</th>\n",
              "    </tr>\n",
              "  </thead>\n",
              "  <tbody>\n",
              "    <tr>\n",
              "      <th>0</th>\n",
              "      <td>1.0</td>\n",
              "      <td>3020.0</td>\n",
              "      <td>61.0</td>\n",
              "      <td>1.0</td>\n",
              "    </tr>\n",
              "    <tr>\n",
              "      <th>1</th>\n",
              "      <td>1.0</td>\n",
              "      <td>3573.0</td>\n",
              "      <td>444.0</td>\n",
              "      <td>1.0</td>\n",
              "    </tr>\n",
              "    <tr>\n",
              "      <th>2</th>\n",
              "      <td>1.0</td>\n",
              "      <td>3005.0</td>\n",
              "      <td>115.0</td>\n",
              "      <td>1.0</td>\n",
              "    </tr>\n",
              "    <tr>\n",
              "      <th>3</th>\n",
              "      <td>1.0</td>\n",
              "      <td>2862.0</td>\n",
              "      <td>4.0</td>\n",
              "      <td>1.0</td>\n",
              "    </tr>\n",
              "    <tr>\n",
              "      <th>4</th>\n",
              "      <td>1.0</td>\n",
              "      <td>3119.0</td>\n",
              "      <td>225.0</td>\n",
              "      <td>1.0</td>\n",
              "    </tr>\n",
              "    <tr>\n",
              "      <th>5</th>\n",
              "      <td>1.0</td>\n",
              "      <td>2955.0</td>\n",
              "      <td>119.0</td>\n",
              "      <td>1.0</td>\n",
              "    </tr>\n",
              "    <tr>\n",
              "      <th>6</th>\n",
              "      <td>1.0</td>\n",
              "      <td>3934.0</td>\n",
              "      <td>538.0</td>\n",
              "      <td>1.0</td>\n",
              "    </tr>\n",
              "    <tr>\n",
              "      <th>7</th>\n",
              "      <td>1.0</td>\n",
              "      <td>3162.0</td>\n",
              "      <td>276.0</td>\n",
              "      <td>1.0</td>\n",
              "    </tr>\n",
              "    <tr>\n",
              "      <th>8</th>\n",
              "      <td>1.0</td>\n",
              "      <td>628.0</td>\n",
              "      <td>189.0</td>\n",
              "      <td>1.0</td>\n",
              "    </tr>\n",
              "    <tr>\n",
              "      <th>9</th>\n",
              "      <td>1.0</td>\n",
              "      <td>264.0</td>\n",
              "      <td>112.0</td>\n",
              "      <td>1.0</td>\n",
              "    </tr>\n",
              "  </tbody>\n",
              "</table>\n",
              "</div>"
            ],
            "text/plain": [
              "   bias  positive  negative  sentiment\n",
              "0   1.0    3020.0      61.0        1.0\n",
              "1   1.0    3573.0     444.0        1.0\n",
              "2   1.0    3005.0     115.0        1.0\n",
              "3   1.0    2862.0       4.0        1.0\n",
              "4   1.0    3119.0     225.0        1.0\n",
              "5   1.0    2955.0     119.0        1.0\n",
              "6   1.0    3934.0     538.0        1.0\n",
              "7   1.0    3162.0     276.0        1.0\n",
              "8   1.0     628.0     189.0        1.0\n",
              "9   1.0     264.0     112.0        1.0"
            ]
          },
          "metadata": {
            "tags": []
          },
          "execution_count": 8
        }
      ]
    },
    {
      "cell_type": "markdown",
      "metadata": {
        "id": "meintGmtgIGS"
      },
      "source": [
        "Now let us get rid of the data frame to keep only Numpy arrays."
      ]
    },
    {
      "cell_type": "code",
      "metadata": {
        "id": "J-Lg6z7XgBct",
        "colab": {
          "base_uri": "https://localhost:8080/"
        },
        "outputId": "c73bb348-49c0-4159-bddd-869cdc8d3d3a"
      },
      "source": [
        "# Each feature is labeled as bias, positive and negative\n",
        "X = data[['bias', 'positive', 'negative']].values         # Get only the numerical values of the dataframe\n",
        "Y = data['sentiment'].values                              # Put in Y the corresponding labels or sentiments\n",
        "\n",
        "print(X.shape)\n",
        "print(Y.shape)\n",
        "print(X[:10])"
      ],
      "execution_count": 9,
      "outputs": [
        {
          "output_type": "stream",
          "text": [
            "(8000, 3)\n",
            "(8000,)\n",
            "[[1.000e+00 3.020e+03 6.100e+01]\n",
            " [1.000e+00 3.573e+03 4.440e+02]\n",
            " [1.000e+00 3.005e+03 1.150e+02]\n",
            " [1.000e+00 2.862e+03 4.000e+00]\n",
            " [1.000e+00 3.119e+03 2.250e+02]\n",
            " [1.000e+00 2.955e+03 1.190e+02]\n",
            " [1.000e+00 3.934e+03 5.380e+02]\n",
            " [1.000e+00 3.162e+03 2.760e+02]\n",
            " [1.000e+00 6.280e+02 1.890e+02]\n",
            " [1.000e+00 2.640e+02 1.120e+02]]\n"
          ],
          "name": "stdout"
        }
      ]
    },
    {
      "cell_type": "markdown",
      "metadata": {
        "id": "B9bnsU40hudX"
      },
      "source": [
        "## Load a pretrained Logistic Regression model"
      ]
    },
    {
      "cell_type": "markdown",
      "metadata": {
        "id": "J4DN4iVOhvP8"
      },
      "source": [
        "In the same way, as part of this week's assignment, a Logistic regression model must be trained. The next cell contains the resulting model from such training. Notice that a list of 3 numeric values represents the whole model, that we have called _theta_ $\\theta$."
      ]
    },
    {
      "cell_type": "code",
      "metadata": {
        "id": "f20Qw3uig39v"
      },
      "source": [
        "theta = [7e-08, 0.0005239, -0.00055517]"
      ],
      "execution_count": 10,
      "outputs": []
    },
    {
      "cell_type": "markdown",
      "metadata": {
        "id": "cU8sfILdh6Vj"
      },
      "source": [
        "## Plot the samples in a scatter plot"
      ]
    },
    {
      "cell_type": "markdown",
      "metadata": {
        "id": "4IUEy_BXh81c"
      },
      "source": [
        "The vector theta represents a plane that split our feature space into two parts. Samples located over that plane are considered positive, and samples located under that plane are considered negative. Remember that we have a 3D feature space, i.e., each tweet is represented as a vector comprised of three values: `[bias, positive_sum, negative_sum]`, always having `bias = 1`. \n",
        "\n",
        "If we ignore the bias term, we can plot each tweet in a cartesian plane, using `positive_sum` and `negative_sum`. In the cell below, we do precisely this. Additionally, we color each tweet, depending on its class. Positive tweets will be green and negative tweets will be red."
      ]
    },
    {
      "cell_type": "code",
      "metadata": {
        "id": "fB883t03h5uU",
        "colab": {
          "base_uri": "https://localhost:8080/",
          "height": 515
        },
        "outputId": "f3089338-3e08-4856-8a85-0f28bc239f24"
      },
      "source": [
        "# Plot the samples using columns 1 and 2 of the matrix\n",
        "fig, ax = plt.subplots(figsize=(8, 8))\n",
        "\n",
        "colors = ['red', 'green']\n",
        "\n",
        "# Color based on the sentiment Y\n",
        "ax.scatter(X[:, 1], X[:, 2], c=[colors[int(k)] for k in Y], s=0.1)   # Plot a dot for each pair of words\n",
        "plt.xlabel('Positive')\n",
        "plt.ylabel('Negative') "
      ],
      "execution_count": 11,
      "outputs": [
        {
          "output_type": "execute_result",
          "data": {
            "text/plain": [
              "Text(0, 0.5, 'Negative')"
            ]
          },
          "metadata": {
            "tags": []
          },
          "execution_count": 11
        },
        {
          "output_type": "display_data",
          "data": {
            "image/png": "[encoded data removed]",
            "text/plain": [
              "<Figure size 576x576 with 1 Axes>"
            ]
          },
          "metadata": {
            "tags": [],
            "needs_background": "light"
          }
        }
      ]
    },
    {
      "cell_type": "markdown",
      "metadata": {
        "id": "06rmfQXYjGyF"
      },
      "source": [
        "From the plot, it is evident that the features that we have chosen to represent tweets as numerical vectors allow an almost perfect separation between positive and negative tweets. So you can expect a very high accuracy for this model! "
      ]
    },
    {
      "cell_type": "code",
      "metadata": {
        "id": "_SbmqZbyQOSU",
        "outputId": "b3fbbcb8-e258-4b8d-9f9b-f6884f8136cc",
        "colab": {
          "base_uri": "https://localhost:8080/",
          "height": 515
        }
      },
      "source": [
        "# Plot the samples using columns 1 and 2 of the matrix\r\n",
        "fig, ax = plt.subplots(figsize=(8, 8))\r\n",
        "\r\n",
        "colors = ['red', 'green']\r\n",
        "\r\n",
        "# Color based on the sentiment Y\r\n",
        "ax.scatter(X[:, 1], Y[:], c=[colors[int(k)] for k in Y], s=0.1)   # Plot a dot for each pair of words\r\n",
        "plt.xlabel('Positive')\r\n",
        "plt.ylabel('Sentiment') "
      ],
      "execution_count": 12,
      "outputs": [
        {
          "output_type": "execute_result",
          "data": {
            "text/plain": [
              "Text(0, 0.5, 'Sentiment')"
            ]
          },
          "metadata": {
            "tags": []
          },
          "execution_count": 12
        },
        {
          "output_type": "display_data",
          "data": {
            "image/png": "[encoded data removed]",
            "text/plain": [
              "<Figure size 576x576 with 1 Axes>"
            ]
          },
          "metadata": {
            "tags": [],
            "needs_background": "light"
          }
        }
      ]
    },
    {
      "cell_type": "code",
      "metadata": {
        "id": "U9OLxFjjQeme",
        "outputId": "51a73dc2-61bd-49a3-b0a0-4c909e2bd391",
        "colab": {
          "base_uri": "https://localhost:8080/",
          "height": 515
        }
      },
      "source": [
        "# Plot the samples using columns 1 and 2 of the matrix\r\n",
        "fig, ax = plt.subplots(figsize=(8, 8))\r\n",
        "\r\n",
        "colors = ['red', 'green']\r\n",
        "\r\n",
        "# Color based on the sentiment Y\r\n",
        "ax.scatter(X[:, 2], Y[:], c=[colors[int(k)] for k in Y], s=0.1)   # Plot a dot for each pair of words\r\n",
        "plt.xlabel('Negetive')\r\n",
        "plt.ylabel('Sentiment') "
      ],
      "execution_count": 13,
      "outputs": [
        {
          "output_type": "execute_result",
          "data": {
            "text/plain": [
              "Text(0, 0.5, 'Sentiment')"
            ]
          },
          "metadata": {
            "tags": []
          },
          "execution_count": 13
        },
        {
          "output_type": "display_data",
          "data": {
            "image/png": "[encoded data removed]",
            "text/plain": [
              "<Figure size 576x576 with 1 Axes>"
            ]
          },
          "metadata": {
            "tags": [],
            "needs_background": "light"
          }
        }
      ]
    },
    {
      "cell_type": "markdown",
      "metadata": {
        "id": "xoYlqS96jHh8"
      },
      "source": [
        "## Plot the model alongside the data"
      ]
    },
    {
      "cell_type": "markdown",
      "metadata": {
        "id": "KU78CfVEjKN5"
      },
      "source": [
        "We will draw a gray line to show the cutoff between the positive and negative regions. In other words, the gray line marks the line where $$ z = \\theta * x = 0.$$\n",
        "To draw this line, we have to solve the above equation in terms of one of the independent variables.\n",
        "\n",
        "$$ z = \\theta * x = 0$$\n",
        "$$ x = [1, pos, neg] $$\n",
        "$$ z(\\theta, x) = \\theta_0+ \\theta_1 * pos + \\theta_2 * neg = 0 $$\n",
        "$$ neg = (-\\theta_0 - \\theta_1 * pos) / \\theta_2 $$\n",
        "\n",
        "The red and green lines that point in the direction of the corresponding sentiment are calculated using a perpendicular line to the separation line calculated in the previous equations(neg function). It must point in the same direction as the derivative of the Logit function, but the magnitude may differ. It is only for a visual representation of the model. \n",
        "\n",
        "$$direction = pos * \\theta_2 / \\theta_1$$"
      ]
    },
    {
      "cell_type": "code",
      "metadata": {
        "id": "fUog6RSAi9Qr"
      },
      "source": [
        "# Equation for the separation plane\n",
        "# It give a value in the negative axe as a function of a positive value\n",
        "# f(pos, neg, W) = w0 + w1 * pos + w2 * neg = 0\n",
        "# s(pos, W) = (w0 - w1 * pos) / w2\n",
        "def neg(theta, pos):\n",
        "  return (-theta[0] - pos * theta[1] / theta[2])\n",
        "\n",
        "# Equation for the direction of the sentiments change\n",
        "# We don't care about the magnitude of the change. We are only interested \n",
        "# in the direction. So this direction is just a perpendicular function to the separation plane\n",
        "# df(pos, W) = pos * w2 / w1\n",
        "def direction(theta, pos):\n",
        "  return pos * theta[2] / theta[1]"
      ],
      "execution_count": 14,
      "outputs": []
    },
    {
      "cell_type": "markdown",
      "metadata": {
        "id": "ONZiAHwWlTam"
      },
      "source": [
        "The green line in the chart points in the direction where z > 0 and the red line points in the direction where z < 0. The direction of these lines are given by the weights $\\theta_1$ and $\\theta_2$"
      ]
    },
    {
      "cell_type": "code",
      "metadata": {
        "id": "mrZLYDNqlch_",
        "colab": {
          "base_uri": "https://localhost:8080/",
          "height": 515
        },
        "outputId": "3ee93136-1995-46cf-ce35-ecf2abb6d717"
      },
      "source": [
        "# Plot the samples using columns 1 and 2 of the matrix\n",
        "fig, ax = plt.subplots(figsize=(8, 8))\n",
        "\n",
        "colors = ['red', 'green']\n",
        "\n",
        "# Color based on the sentiment Y\n",
        "ax.scatter(X[:, 1], X[:, 2], c=[colors[int(k)] for k in Y], s=0.1)   # Plot a dot for each pair of words\n",
        "plt.xlabel('Positive')\n",
        "plt.ylabel('Negative')\n",
        "\n",
        "# Now lets represent the logistic regression model in this chart. \n",
        "maxpos = np.max(X[:, 1])\n",
        "# The pos value for the direction vectors origin\n",
        "offset = 5000\n",
        "\n",
        "# Plot a gray line that divides the 2 areas.\n",
        "ax.plot([0, maxpos], [neg(theta, 0), neg(theta, maxpos)], color='gray')\n",
        "\n",
        "# Plot a green line pointing to the positive direction\n",
        "ax.arrow(offset, neg(theta, offset), offset, direction(theta, offset), head_width=500, head_length=500, fc='g', ec='g')\n",
        "# Plot a red line pointing to the negative direction\n",
        "ax.arrow(offset, neg(theta, offset), -offset, -direction(theta, offset), head_width=500, head_length=500, fc='r', ec='r')"
      ],
      "execution_count": 15,
      "outputs": [
        {
          "output_type": "execute_result",
          "data": {
            "text/plain": [
              "<matplotlib.patches.FancyArrow at 0x7ff7928c2f98>"
            ]
          },
          "metadata": {
            "tags": []
          },
          "execution_count": 15
        },
        {
          "output_type": "display_data",
          "data": {
            "image/png": "[encoded data removed]",
            "text/plain": [
              "<Figure size 576x576 with 1 Axes>"
            ]
          },
          "metadata": {
            "tags": [],
            "needs_background": "light"
          }
        }
      ]
    },
    {
      "cell_type": "markdown",
      "metadata": {
        "id": "lKECZcwJnN5u"
      },
      "source": [
        "**Note that more critical than the Logistic regression itself, are the features extracted from tweets that allow getting the right results in this exercise.**\n",
        "\n",
        "That is all, folks. Hopefully, now you understand better what the Logistic regression model represents, and why it works that well for this specific problem. "
      ]
    }
  ]
}