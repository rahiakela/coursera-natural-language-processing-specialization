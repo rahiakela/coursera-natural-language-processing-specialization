{
  "nbformat": 4,
  "nbformat_minor": 0,
  "metadata": {
    "colab": {
      "name": "1-assignment-3-question-answering.ipynb",
      "provenance": [],
      "toc_visible": true,
      "authorship_tag": "ABX9TyOCc/spdYMNC2RT5J44cfYg",
      "include_colab_link": true
    },
    "kernelspec": {
      "name": "python3",
      "display_name": "Python 3"
    },
    "accelerator": "GPU"
  },
  "cells": [
    {
      "cell_type": "markdown",
      "metadata": {
        "id": "view-in-github",
        "colab_type": "text"
      },
      "source": [
        "<a href=\"https://colab.research.google.com/github/rahiakela/coursera-natural-language-processing-specialization/blob/master/course-4-natural-language-processing-with-attention-models/week-3-Question%20Answering/1_assignment_3_question_answering.ipynb\" target=\"_parent\"><img src=\"https://colab.research.google.com/assets/colab-badge.svg\" alt=\"Open In Colab\"/></a>"
      ]
    },
    {
      "cell_type": "markdown",
      "metadata": {
        "id": "MW224V8kJgBb"
      },
      "source": [
        "## Assignment 3: Question Answering"
      ]
    },
    {
      "cell_type": "markdown",
      "metadata": {
        "id": "gx6iGbxgJh_b"
      },
      "source": [
        "Welcome to this week's assignment of course 4. In this you will explore question answering. You will implement the \"Text to Text Transfer from Transformers\" (better known as T5). Since you implemented transformers from scratch last week you will now be able to use them. \n",
        "\n",
        "<img src='https://github.com/rahiakela/img-repo/blob/master/deeplearning.ai-NLPS/qa.png?raw=1' width='800'/>"
      ]
    },
    {
      "cell_type": "markdown",
      "metadata": {
        "id": "8MJ2w9S2KXSZ"
      },
      "source": [
        "## Outline"
      ]
    },
    {
      "cell_type": "markdown",
      "metadata": {
        "id": "ebO8uNysKXyw"
      },
      "source": [
        "- [Overview](#0)\n",
        "- [Part 0: Setup](#0)\n",
        "- [Part 1: C4 Dataset](#1)\n",
        "    - [1.1 Pre-Training Objective](#1.1)\n",
        "    - [1.2 Process C4](#1.2)\n",
        "        - [1.2.1 Decode to natural language](#1.2.1)\n",
        "    - [1.3 Tokenizing and Masking](#1.3)\n",
        "        - [Exercise 01](#ex01)\n",
        "    - [1.4 Creating the Pairs](#1.4)\n",
        "- [Part 2: Transfomer](#2)\n",
        "    - [2.1 Transformer Encoder](#2.1)\n",
        "        - [2.1.1 The Feedforward Block](#2.1.1)\n",
        "            - [Exercise 02](#ex02)\n",
        "        - [2.1.2 The Encoder Block](#2.1.2)\n",
        "            - [Exercise 03](#ex03)\n",
        "        - [2.1.3 The Transformer Encoder](#2.1.3)            \n",
        "            - [Exercise 04](#ex04)"
      ]
    },
    {
      "cell_type": "markdown",
      "metadata": {
        "id": "i5TaYZ-eKbi2"
      },
      "source": [
        "<a name='0'></a>\n",
        "## Overview"
      ]
    },
    {
      "cell_type": "markdown",
      "metadata": {
        "id": "C3hvMahLKfdA"
      },
      "source": [
        "This assignment will be different from the two previous ones. Due to memory and time constraints of this environment you will not be able to train a model and use it for inference. Instead you will create the necessary building blocks for the transformer encoder model and will use a pretrained version of the same model in two ungraded labs after this assignment.\n",
        "\n",
        "After completing these 3 (1 graded and 2 ungraded) labs you will:\n",
        "* Implement the code neccesary for Bidirectional Encoder Representation from Transformer (BERT).\n",
        "* Understand how the C4 dataset is structured.\n",
        "* Use a pretrained model for inference.\n",
        "* Understand how the \"Text to Text Transfer from Transformers\" or T5 model works. "
      ]
    },
    {
      "cell_type": "markdown",
      "metadata": {
        "id": "fdY2izpSKh3m"
      },
      "source": [
        "<a name='0'></a>\n",
        "## Part 0: Setup"
      ]
    },
    {
      "cell_type": "code",
      "metadata": {
        "id": "HPAtWWy1Kx5X"
      },
      "source": [
        "!pip -q install trax==1.3.9\n",
        "!pip -q install sentencepiece"
      ],
      "execution_count": 7,
      "outputs": []
    },
    {
      "cell_type": "code",
      "metadata": {
        "id": "SQc3q6BaKpJi"
      },
      "source": [
        "import ast\n",
        "import string\n",
        "import textwrap\n",
        "import itertools\n",
        "import numpy as np\n",
        "\n",
        "import trax \n",
        "from trax import layers as tl\n",
        "from trax.supervised import decoding\n",
        "\n",
        "# Will come handy later.\n",
        "wrapper = textwrap.TextWrapper(width=70)\n",
        "\n",
        "# Set random seed\n",
        "np.random.seed(42)"
      ],
      "execution_count": 2,
      "outputs": []
    },
    {
      "cell_type": "code",
      "metadata": {
        "id": "M53Ph-mXcO19",
        "outputId": "4705d6ef-8848-4806-8a7d-7ba0df892fae",
        "colab": {
          "base_uri": "https://localhost:8080/"
        }
      },
      "source": [
        "%%shell\n",
        "\n",
        "wget -q https://github.com/rahiakela/coursera-natural-language-processing-specialization/raw/master/course-4-natural-language-processing-with-attention-models/week-3-Question%20Answering/dataset/data.txt\n",
        "wget -q https://github.com/rahiakela/coursera-natural-language-processing-specialization/raw/master/course-4-natural-language-processing-with-attention-models/week-3-Question%20Answering/model/sentencepiece.model\n",
        "wget -q https://raw.githubusercontent.com/google/sentencepiece/master/data/botchan.txt"
      ],
      "execution_count": 8,
      "outputs": [
        {
          "output_type": "execute_result",
          "data": {
            "text/plain": [
              ""
            ]
          },
          "metadata": {
            "tags": []
          },
          "execution_count": 8
        }
      ]
    },
    {
      "cell_type": "markdown",
      "metadata": {
        "id": "N7LpuyHfKuv5"
      },
      "source": [
        "<a name='1'></a>\n",
        "## Part 1: C4 Dataset"
      ]
    },
    {
      "cell_type": "markdown",
      "metadata": {
        "id": "UHaYlRqmKvbq"
      },
      "source": [
        "The [C4](https://www.tensorflow.org/datasets/catalog/c4) is a huge data set. For the purpose of this assignment you will use a few examples out of it which are present in `data.txt`. C4 is based on the [common crawl](https://commoncrawl.org/) project. Feel free to read more on their website. \n",
        "\n",
        "Run the cell below to see how the examples look like. "
      ]
    },
    {
      "cell_type": "code",
      "metadata": {
        "id": "Rgpn_afNYvoy"
      },
      "source": [
        "# load example jsons\n",
        "example_jsons = list(map(ast.literal_eval, open(\"data.txt\")))"
      ],
      "execution_count": 4,
      "outputs": []
    },
    {
      "cell_type": "code",
      "metadata": {
        "id": "tVbASoY7bBPW",
        "colab": {
          "base_uri": "https://localhost:8080/"
        },
        "outputId": "e5038ae4-32f3-4528-c81e-8ad827fc39bd"
      },
      "source": [
        "# Printing the examples to see how the data looks like\n",
        "for i in range(5):\n",
        "  print(f\"example number {i + 1}: \\n\\n{example_jsons[i]} \\n\")"
      ],
      "execution_count": 5,
      "outputs": [
        {
          "output_type": "stream",
          "text": [
            "example number 1: \n",
            "\n",
            "{'content-length': b'1970', 'content-type': b'text/plain', 'text': b'Beginners BBQ Class Taking Place in Missoula!\\nDo you want to get better at making delicious BBQ? You will have the opportunity, put this on your calendar now. Thursday, September 22nd join World Class BBQ Champion, Tony Balay from Lonestar Smoke Rangers. He will be teaching a beginner level class for everyone who wants to get better with their culinary skills.\\nHe will teach you everything you need to know to compete in a KCBS BBQ competition, including techniques, recipes, timelines, meat selection and trimming, plus smoker and fire information.\\nThe cost to be in the class is $35 per person, and for spectators it is free. Included in the cost will be either a t-shirt or apron and you will be tasting samples of each meat that is prepared.', 'timestamp': b'2019-04-25T12:57:54Z', 'url': b'https://klyq.com/beginners-bbq-class-taking-place-in-missoula/'} \n",
            "\n",
            "example number 2: \n",
            "\n",
            "{'content-length': b'12064', 'content-type': b'text/plain', 'text': b'Discussion in \\'Mac OS X Lion (10.7)\\' started by axboi87, Jan 20, 2012.\\nI\\'ve got a 500gb internal drive and a 240gb SSD.\\nWhen trying to restore using disk utility i\\'m given the error \"Not enough space on disk ____ to restore\"\\nBut I shouldn\\'t have to do that!!!\\nAny ideas or workarounds before resorting to the above?\\nUse Carbon Copy Cloner to copy one drive to the other. I\\'ve done this several times going from larger HDD to smaller SSD and I wound up with a bootable SSD drive. One step you have to remember not to skip is to use Disk Utility to partition the SSD as GUID partition scheme HFS+ before doing the clone. If it came Apple Partition Scheme, even if you let CCC do the clone, the resulting drive won\\'t be bootable. CCC usually works in \"file mode\" and it can easily copy a larger drive (that\\'s mostly empty) onto a smaller drive. If you tell CCC to clone a drive you did NOT boot from, it can work in block copy mode where the destination drive must be the same size or larger than the drive you are cloning from (if I recall).\\nI\\'ve actually done this somehow on Disk Utility several times (booting from a different drive (or even the dvd) so not running disk utility from the drive your cloning) and had it work just fine from larger to smaller bootable clone. Definitely format the drive cloning to first, as bootable Apple etc..\\nThanks for pointing this out. My only experience using DU to go larger to smaller was when I was trying to make a Lion install stick and I was unable to restore InstallESD.dmg to a 4 GB USB stick but of course the reason that wouldn\\'t fit is there was slightly more than 4 GB of data.', 'timestamp': b'2019-04-21T10:07:13Z', 'url': b'https://forums.macrumors.com/threads/restore-from-larger-disk-to-smaller-disk.1311329/'} \n",
            "\n",
            "example number 3: \n",
            "\n",
            "{'content-length': b'5235', 'content-type': b'text/plain', 'text': b'Foil plaid lycra and spandex shortall with metallic slinky insets. Attached metallic elastic belt with O-ring. Headband included. Great hip hop or jazz dance costume. Made in the USA.', 'timestamp': b'2019-04-25T10:40:23Z', 'url': b'https://awishcometrue.com/Catalogs/Clearance/Tweens/V1960-Find-A-Way'} \n",
            "\n",
            "example number 4: \n",
            "\n",
            "{'content-length': b'4967', 'content-type': b'text/plain', 'text': b\"How many backlinks per day for new site?\\nDiscussion in 'Black Hat SEO' started by Omoplata, Dec 3, 2010.\\n1) for a newly created site, what's the max # backlinks per day I should do to be safe?\\n2) how long do I have to let my site age before I can start making more blinks?\\nI did about 6000 forum profiles every 24 hours for 10 days for one of my sites which had a brand new domain.\\nThere is three backlinks for every of these forum profile so thats 18 000 backlinks every 24 hours and nothing happened in terms of being penalized or sandboxed. This is now maybe 3 months ago and the site is ranking on first page for a lot of my targeted keywords.\\nbuild more you can in starting but do manual submission and not spammy type means manual + relevant to the post.. then after 1 month you can make a big blast..\\nWow, dude, you built 18k backlinks a day on a brand new site? How quickly did you rank up? What kind of competition/searches did those keywords have?\", 'timestamp': b'2019-04-21T12:46:19Z', 'url': b'https://www.blackhatworld.com/seo/how-many-backlinks-per-day-for-new-site.258615/'} \n",
            "\n",
            "example number 5: \n",
            "\n",
            "{'content-length': b'4499', 'content-type': b'text/plain', 'text': b'The Denver Board of Education opened the 2017-18 school year with an update on projects that include new construction, upgrades, heat mitigation and quality learning environments.\\nWe are excited that Denver students will be the beneficiaries of a four year, $572 million General Obligation Bond. Since the passage of the bond, our construction team has worked to schedule the projects over the four-year term of the bond.\\nDenver voters on Tuesday approved bond and mill funding measures for students in Denver Public Schools, agreeing to invest $572 million in bond funding to build and improve schools and $56.6 million in operating dollars to support proven initiatives, such as early literacy.\\nDenver voters say yes to bond and mill levy funding support for DPS students and schools. Click to learn more about the details of the voter-approved bond measure.\\nDenver voters on Nov. 8 approved bond and mill funding measures for DPS students and schools. Learn more about what\\xe2\\x80\\x99s included in the mill levy measure.', 'timestamp': b'2019-04-20T14:33:21Z', 'url': b'http://bond.dpsk12.org/category/news/'} \n",
            "\n"
          ],
          "name": "stdout"
        }
      ]
    },
    {
      "cell_type": "markdown",
      "metadata": {
        "id": "SsE3zp6nbd_O"
      },
      "source": [
        "Notice the `b` before each string? This means that this data comes as bytes rather than strings. Strings are actually lists of bytes so for the rest of the assignments the name `strings` will be used to describe the data. \n",
        "\n",
        "To check this run the following cell:"
      ]
    },
    {
      "cell_type": "code",
      "metadata": {
        "id": "7tTlHhwKbRcF",
        "colab": {
          "base_uri": "https://localhost:8080/"
        },
        "outputId": "13fd0f94-2549-4e79-8697-60737ec40703"
      },
      "source": [
        "type(example_jsons[0].get(\"text\"))"
      ],
      "execution_count": 6,
      "outputs": [
        {
          "output_type": "execute_result",
          "data": {
            "text/plain": [
              "bytes"
            ]
          },
          "metadata": {
            "tags": []
          },
          "execution_count": 6
        }
      ]
    },
    {
      "cell_type": "markdown",
      "metadata": {
        "id": "rg_Ik89sbs2r"
      },
      "source": [
        "<a name='1.1'></a>\n",
        "###  1.1 Pre-Training Objective"
      ]
    },
    {
      "cell_type": "markdown",
      "metadata": {
        "id": "gvEA4vevbtxe"
      },
      "source": [
        "**Note:** The word \"mask\" will be used throughout this assignment in context of hiding/removing word(s)\n",
        "\n",
        "You will be implementing the BERT loss as shown in the following image. \n",
        "\n",
        "<img src='https://github.com/rahiakela/img-repo/blob/master/deeplearning.ai-NLPS/loss.png?raw=1' width='800'/>\n",
        "\n",
        "Assume you have the following text: <span style = \"color:blue\"> **Thank you <span style = \"color:red\">for inviting </span> me to your party <span style = \"color:red\">last</span>  week** </span> \n",
        "\n",
        "\n",
        "Now as input you will mask the words in red in the text: \n",
        "\n",
        "<span style = \"color:blue\"> **Input:**</span> Thank you  **X** me to your party **Y** week.\n",
        "\n",
        "<span style = \"color:blue\">**Output:**</span> The model should predict the words(s) for **X** and **Y**. \n",
        "\n",
        "**Z** is used to represent the end."
      ]
    },
    {
      "cell_type": "markdown",
      "metadata": {
        "id": "pXb681OEcz7L"
      },
      "source": [
        "<a name='1.2'></a>\n",
        "### 1.2 Process C4"
      ]
    },
    {
      "cell_type": "markdown",
      "metadata": {
        "id": "bzfGq4Dfc0h_"
      },
      "source": [
        "C4 only has the plain string `text` field, so you will tokenize and have `inputs` and `targets` out of it for supervised learning. Given your inputs, the goal is to predict the targets during training. \n",
        "\n",
        "You will now take the `text` and convert it to `inputs` and `targets`."
      ]
    },
    {
      "cell_type": "code",
      "metadata": {
        "id": "BuIVEgCPbn1a",
        "colab": {
          "base_uri": "https://localhost:8080/"
        },
        "outputId": "276952f8-eadc-4a6e-8259-31e9c5fc561c"
      },
      "source": [
        "# Grab text field from dictionary\n",
        "natural_language_texts = [example_json[\"text\"] for example_json in example_jsons]\n",
        "\n",
        "# First text example\n",
        "natural_language_texts[4]"
      ],
      "execution_count": 10,
      "outputs": [
        {
          "output_type": "execute_result",
          "data": {
            "text/plain": [
              "b'The Denver Board of Education opened the 2017-18 school year with an update on projects that include new construction, upgrades, heat mitigation and quality learning environments.\\nWe are excited that Denver students will be the beneficiaries of a four year, $572 million General Obligation Bond. Since the passage of the bond, our construction team has worked to schedule the projects over the four-year term of the bond.\\nDenver voters on Tuesday approved bond and mill funding measures for students in Denver Public Schools, agreeing to invest $572 million in bond funding to build and improve schools and $56.6 million in operating dollars to support proven initiatives, such as early literacy.\\nDenver voters say yes to bond and mill levy funding support for DPS students and schools. Click to learn more about the details of the voter-approved bond measure.\\nDenver voters on Nov. 8 approved bond and mill funding measures for DPS students and schools. Learn more about what\\xe2\\x80\\x99s included in the mill levy measure.'"
            ]
          },
          "metadata": {
            "tags": []
          },
          "execution_count": 10
        }
      ]
    },
    {
      "cell_type": "markdown",
      "metadata": {
        "id": "UaltPg5Td1xe"
      },
      "source": [
        "<a name='1.2.1'></a>\n",
        "#### 1.2.1 Decode to natural language"
      ]
    },
    {
      "cell_type": "markdown",
      "metadata": {
        "id": "gaY2f34kd3p4"
      },
      "source": [
        "The following functions will help you `detokenize` and`tokenize` the text data.  \n",
        "\n",
        "The `sentencepiece` vocabulary was used to convert from text to ids. This vocabulary file is loaded and used in this helper functions.\n",
        "\n",
        "`natural_language_texts` has the text from the examples we gave you. \n",
        "\n",
        "Run the cells below to see what is going on. "
      ]
    },
    {
      "cell_type": "code",
      "metadata": {
        "id": "lJOjwoV6dq5Q"
      },
      "source": [
        "# Special tokens\n",
        "PAD, EOS, UNK = 0, 1, 2\n",
        "\n",
        "def detokenize(np_array):\n",
        "  return trax.data.detokenize(\n",
        "      np_array,\n",
        "      vocab_type=\"sentencepiece\",\n",
        "      vocab_file=\"sentencepiece.model\",\n",
        "      vocab_dir=\".\"\n",
        "  )\n",
        "\n",
        "def tokenize(s):\n",
        "  # The trax.data.tokenize function operates on streams, that's why we have to create 1-element stream with iter\n",
        "  # and later retrieve the result with next.\n",
        "  return next(trax.data.tokenize(\n",
        "      iter([s]),\n",
        "      vocab_type=\"sentencepiece\",\n",
        "      vocab_file=\"sentencepiece.model\",\n",
        "      vocab_dir=\".\"\n",
        "  ))"
      ],
      "execution_count": 11,
      "outputs": []
    },
    {
      "cell_type": "code",
      "metadata": {
        "id": "ZvPnKUdyLao0",
        "outputId": "476232e4-ffe0-48ef-c232-def11c0d6465",
        "colab": {
          "base_uri": "https://localhost:8080/"
        }
      },
      "source": [
        "# printing the encoding of each word to see how subwords are tokenized\n",
        "tokenized_text = [(tokenize(word).tolist(), word) for word in natural_language_texts[0].split()]\n",
        "print(tokenized_text, \"\\n\")"
      ],
      "execution_count": 12,
      "outputs": [
        {
          "output_type": "stream",
          "text": [
            "[([12847, 277], b'Beginners'), ([15068], b'BBQ'), ([4501], b'Class'), ([3, 12297], b'Taking'), ([3399], b'Place'), ([16], b'in'), ([5964, 7115, 9, 55], b'Missoula!'), ([531], b'Do'), ([25], b'you'), ([241], b'want'), ([12], b'to'), ([129], b'get'), ([394], b'better'), ([44], b'at'), ([492], b'making'), ([3326], b'delicious'), ([15068, 58], b'BBQ?'), ([148], b'You'), ([56], b'will'), ([43], b'have'), ([8], b'the'), ([1004, 6], b'opportunity,'), ([474], b'put'), ([48], b'this'), ([30], b'on'), ([39], b'your'), ([4793], b'calendar'), ([230, 5], b'now.'), ([2721, 6], b'Thursday,'), ([1600], b'September'), ([1630, 727], b'22nd'), ([1715], b'join'), ([1150], b'World'), ([4501], b'Class'), ([15068], b'BBQ'), ([16127, 6], b'Champion,'), ([9137], b'Tony'), ([2659, 5595], b'Balay'), ([45], b'from'), ([301, 782, 3624], b'Lonestar'), ([14627, 15], b'Smoke'), ([12612, 277, 5], b'Rangers.'), ([216], b'He'), ([56], b'will'), ([36], b'be'), ([2119], b'teaching'), ([3, 9], b'a'), ([19529], b'beginner'), ([593], b'level'), ([853], b'class'), ([21], b'for'), ([921], b'everyone'), ([113], b'who'), ([2746], b'wants'), ([12], b'to'), ([129], b'get'), ([394], b'better'), ([28], b'with'), ([70], b'their'), ([17712], b'culinary'), ([1098, 5], b'skills.'), ([216], b'He'), ([56], b'will'), ([3884], b'teach'), ([25], b'you'), ([762], b'everything'), ([25], b'you'), ([174], b'need'), ([12], b'to'), ([214], b'know'), ([12], b'to'), ([5978], b'compete'), ([16], b'in'), ([3, 9], b'a'), ([3, 23405, 4547], b'KCBS'), ([15068], b'BBQ'), ([2259, 6], b'competition,'), ([379], b'including'), ([2097, 6], b'techniques,'), ([5459, 6], b'recipes,'), ([13618, 7, 6], b'timelines,'), ([3604], b'meat'), ([1801], b'selection'), ([11], b'and'), ([27856, 6], b'trimming,'), ([303], b'plus'), ([24190], b'smoker'), ([11], b'and'), ([1472], b'fire'), ([251, 5], b'information.'), ([37], b'The'), ([583], b'cost'), ([12], b'to'), ([36], b'be'), ([16], b'in'), ([8], b'the'), ([853], b'class'), ([19], b'is'), ([25264], b'$35'), ([399], b'per'), ([568, 6], b'person,'), ([11], b'and'), ([21], b'for'), ([21380, 7], b'spectators'), ([34], b'it'), ([19], b'is'), ([339, 5], b'free.'), ([15746, 26], b'Included'), ([16], b'in'), ([8], b'the'), ([583], b'cost'), ([56], b'will'), ([36], b'be'), ([893], b'either'), ([3, 9], b'a'), ([3, 17, 18, 9486], b't-shirt'), ([42], b'or'), ([3, 9, 1409, 29], b'apron'), ([11], b'and'), ([25], b'you'), ([56], b'will'), ([36], b'be'), ([12246], b'tasting'), ([5977], b'samples'), ([13], b'of'), ([284], b'each'), ([3604], b'meat'), ([24], b'that'), ([19], b'is'), ([2657, 5], b'prepared.')] \n",
            "\n"
          ],
          "name": "stdout"
        }
      ]
    },
    {
      "cell_type": "code",
      "metadata": {
        "id": "HzX1T_o4MB8I",
        "outputId": "2fcad4a8-1af7-4a4c-97cf-9ccefdd07e46",
        "colab": {
          "base_uri": "https://localhost:8080/"
        }
      },
      "source": [
        "# We can see that detokenize successfully undoes the tokenization\n",
        "print(f\"tokenized: {tokenize('Beginners')}\\ndetokenized: {detokenize(tokenize('Beginners'))}\")"
      ],
      "execution_count": 13,
      "outputs": [
        {
          "output_type": "stream",
          "text": [
            "tokenized: [12847   277]\n",
            "detokenized: Beginners\n"
          ],
          "name": "stdout"
        }
      ]
    },
    {
      "cell_type": "markdown",
      "metadata": {
        "id": "yB6FcnRmUa6G"
      },
      "source": [
        "As you can see above, you were able to take a piece of string and tokenize it. \n",
        "\n",
        "Now you will create `input` and `target` pairs that will allow you to train your model. T5 uses the ids at the end of the vocab file as sentinels. \n",
        "\n",
        "For example, it will replace: \n",
        "   - `vocab_size - 1` by `<Z>`\n",
        "   - `vocab_size - 2` by `<Y>`\n",
        "   - and so forth. \n",
        "   \n",
        "It assigns every word a `chr`.\n",
        "\n",
        "The `pretty_decode` function below, which you will use in a bit, helps in handling the type when decoding. Take a look and try to understand what the function is doing.\n",
        "\n",
        "\n",
        "Notice that:\n",
        "```python\n",
        "string.ascii_letters = 'abcdefghijklmnopqrstuvwxyzABCDEFGHIJKLMNOPQRSTUVWXYZ'\n",
        "```\n",
        "\n",
        "**NOTE:** Targets may have more than the 52 sentinels we replace, but this is just to give you an idea of things."
      ]
    },
    {
      "cell_type": "code",
      "metadata": {
        "id": "-g0u2iJgUecj"
      },
      "source": [
        "vocab_size = trax.data.vocab_size(vocab_type=\"sentencepiece\", vocab_file=\"sentencepiece.model\", vocab_dir=\".\")\n",
        "\n",
        "def get_sentinels(vocab_size=vocab_size, display=False):\n",
        "  sentinels = {}\n",
        "  for i, char in enumerate(reversed(string.ascii_letters), 1):\n",
        "    decoded_text = detokenize([vocab_size - 1])\n",
        "\n",
        "    # Sentinels, ex: <Z> - <a>\n",
        "    sentinels[decoded_text] = f\"<{char}>\"\n",
        "\n",
        "    if display:\n",
        "      print(f\"The sentinel is <{char}> and the decoded token is:\", decoded_text)\n",
        "  return sentinels"
      ],
      "execution_count": 14,
      "outputs": []
    },
    {
      "cell_type": "code",
      "metadata": {
        "id": "vFQwx0ssm64D",
        "outputId": "9d5e1234-b423-4244-a374-3fc92952b784",
        "colab": {
          "base_uri": "https://localhost:8080/"
        }
      },
      "source": [
        "sentinels = get_sentinels(vocab_size, display=True)"
      ],
      "execution_count": 15,
      "outputs": [
        {
          "output_type": "stream",
          "text": [
            "The sentinel is <Z> and the decoded token is: Internațional\n",
            "The sentinel is <Y> and the decoded token is: Internațional\n",
            "The sentinel is <X> and the decoded token is: Internațional\n",
            "The sentinel is <W> and the decoded token is: Internațional\n",
            "The sentinel is <V> and the decoded token is: Internațional\n",
            "The sentinel is <U> and the decoded token is: Internațional\n",
            "The sentinel is <T> and the decoded token is: Internațional\n",
            "The sentinel is <S> and the decoded token is: Internațional\n",
            "The sentinel is <R> and the decoded token is: Internațional\n",
            "The sentinel is <Q> and the decoded token is: Internațional\n",
            "The sentinel is <P> and the decoded token is: Internațional\n",
            "The sentinel is <O> and the decoded token is: Internațional\n",
            "The sentinel is <N> and the decoded token is: Internațional\n",
            "The sentinel is <M> and the decoded token is: Internațional\n",
            "The sentinel is <L> and the decoded token is: Internațional\n",
            "The sentinel is <K> and the decoded token is: Internațional\n",
            "The sentinel is <J> and the decoded token is: Internațional\n",
            "The sentinel is <I> and the decoded token is: Internațional\n",
            "The sentinel is <H> and the decoded token is: Internațional\n",
            "The sentinel is <G> and the decoded token is: Internațional\n",
            "The sentinel is <F> and the decoded token is: Internațional\n",
            "The sentinel is <E> and the decoded token is: Internațional\n",
            "The sentinel is <D> and the decoded token is: Internațional\n",
            "The sentinel is <C> and the decoded token is: Internațional\n",
            "The sentinel is <B> and the decoded token is: Internațional\n",
            "The sentinel is <A> and the decoded token is: Internațional\n",
            "The sentinel is <z> and the decoded token is: Internațional\n",
            "The sentinel is <y> and the decoded token is: Internațional\n",
            "The sentinel is <x> and the decoded token is: Internațional\n",
            "The sentinel is <w> and the decoded token is: Internațional\n",
            "The sentinel is <v> and the decoded token is: Internațional\n",
            "The sentinel is <u> and the decoded token is: Internațional\n",
            "The sentinel is <t> and the decoded token is: Internațional\n",
            "The sentinel is <s> and the decoded token is: Internațional\n",
            "The sentinel is <r> and the decoded token is: Internațional\n",
            "The sentinel is <q> and the decoded token is: Internațional\n",
            "The sentinel is <p> and the decoded token is: Internațional\n",
            "The sentinel is <o> and the decoded token is: Internațional\n",
            "The sentinel is <n> and the decoded token is: Internațional\n",
            "The sentinel is <m> and the decoded token is: Internațional\n",
            "The sentinel is <l> and the decoded token is: Internațional\n",
            "The sentinel is <k> and the decoded token is: Internațional\n",
            "The sentinel is <j> and the decoded token is: Internațional\n",
            "The sentinel is <i> and the decoded token is: Internațional\n",
            "The sentinel is <h> and the decoded token is: Internațional\n",
            "The sentinel is <g> and the decoded token is: Internațional\n",
            "The sentinel is <f> and the decoded token is: Internațional\n",
            "The sentinel is <e> and the decoded token is: Internațional\n",
            "The sentinel is <d> and the decoded token is: Internațional\n",
            "The sentinel is <c> and the decoded token is: Internațional\n",
            "The sentinel is <b> and the decoded token is: Internațional\n",
            "The sentinel is <a> and the decoded token is: Internațional\n"
          ],
          "name": "stdout"
        }
      ]
    },
    {
      "cell_type": "code",
      "metadata": {
        "id": "WwrGUsmmnAtv"
      },
      "source": [
        "def pretty_decode(encoded_str_list, sentinels=sentinels):\n",
        "  # If already a string, just do the replacements.\n",
        "  if isinstance(encoded_str_list, (str, bytes)):\n",
        "    for token, char in sentinels.items():\n",
        "      encoded_str_list = encoded_str_list.replace(token, char)\n",
        "    return encoded_str_list\n",
        "  \n",
        "  #  We need to decode and then prettyfy it.\n",
        "  return pretty_decode(detokenize(encoded_str_list))"
      ],
      "execution_count": 16,
      "outputs": []
    },
    {
      "cell_type": "code",
      "metadata": {
        "id": "lpChWS-6nsbQ",
        "outputId": "07daf786-3668-4c8d-8214-629175c0e314",
        "colab": {
          "base_uri": "https://localhost:8080/",
          "height": 35
        }
      },
      "source": [
        "pretty_decode(\"I want to dress up as an Intellectual this halloween.\")"
      ],
      "execution_count": 17,
      "outputs": [
        {
          "output_type": "execute_result",
          "data": {
            "application/vnd.google.colaboratory.intrinsic+json": {
              "type": "string"
            },
            "text/plain": [
              "'I want to dress up as an Intellectual this halloween.'"
            ]
          },
          "metadata": {
            "tags": []
          },
          "execution_count": 17
        }
      ]
    },
    {
      "cell_type": "markdown",
      "metadata": {
        "id": "oDsq2dGVpIIS"
      },
      "source": [
        "The functions above make your `inputs` and `targets` more readable. For example, you might see something like this once you implement the masking function below. \n",
        "\n",
        "- <span style=\"color:red\"> Input sentence: </span> Younes and Lukasz were working together in the lab yesterday after lunch. \n",
        "- <span style=\"color:red\">Input: </span> Younes and Lukasz  **Z** together in the **Y** yesterday after lunch.\n",
        "- <span style=\"color:red\">Target: </span> **Z** were working **Y** lab.\n"
      ]
    },
    {
      "cell_type": "markdown",
      "metadata": {
        "id": "v7YbKJgVpUwB"
      },
      "source": [
        "<a name='1.3'></a>\n",
        "### 1.3 Tokenizing and Masking"
      ]
    },
    {
      "cell_type": "markdown",
      "metadata": {
        "id": "QAboi1n6pVM0"
      },
      "source": [
        "You will now implement the `tokenize_and_mask` function. This function  will allow you to tokenize and mask input words with a noise probability. We usually mask 15% of the words."
      ]
    },
    {
      "cell_type": "markdown",
      "metadata": {
        "id": "n3ydwxdDpZNK"
      },
      "source": [
        "<a name='ex01'></a>\n",
        "### Exercise 01"
      ]
    },
    {
      "cell_type": "code",
      "metadata": {
        "id": "LO6F76fZpEja"
      },
      "source": [
        "# UNQ_C1\n",
        "# GRADED FUNCTION: tokenize_and_mask\n",
        "def tokenize_and_mask(text, vocab_size=vocab_size, noise=0.15, randomizer=np.random.uniform, tokenize=tokenize):\n",
        "  \"\"\"\n",
        "  Tokenizes and masks a given input.\n",
        "\n",
        "  Args:\n",
        "      text (str or bytes): Text input.\n",
        "      vocab_size (int, optional): Size of the vocabulary. Defaults to vocab_size.\n",
        "      noise (float, optional): Probability of masking a token. Defaults to 0.15.\n",
        "      randomizer (function, optional): Function that generates random values. Defaults to np.random.uniform.\n",
        "      tokenize (function, optional): Tokenizer function. Defaults to tokenize.\n",
        "\n",
        "  Returns:\n",
        "      tuple: Tuple of lists of integers associated to inputs and targets.\n",
        "  \"\"\"\n",
        "  \n",
        "  # current sentinel number (starts at 0)\n",
        "  cur_sentinel_num = 0\n",
        "  # inputs\n",
        "  inps = []\n",
        "  # targets\n",
        "  targs = []\n",
        "  \n",
        "  ### START CODE HERE (REPLACE INSTANCES OF 'None' WITH YOUR CODE) ###\n",
        "  \n",
        "  # prev_no_mask is True if the previous token was NOT masked, False otherwise\n",
        "  # set prev_no_mask to True\n",
        "  prev_no_mask = True\n",
        "  \n",
        "  # loop through tokenized `text`\n",
        "  for token in tokenize(text):\n",
        "      # check if the `noise` is greater than a random value (weighted coin flip)\n",
        "      if randomizer() < noise:\n",
        "          # check to see if the previous token was not masked\n",
        "          if prev_no_mask==True: # add new masked token at end_id\n",
        "              # number of masked tokens increases by 1\n",
        "              cur_sentinel_num += 1\n",
        "              # compute `end_id` by subtracting current sentinel value out of the total vocabulary size\n",
        "              end_id = vocab_size - cur_sentinel_num\n",
        "              # append `end_id` at the end of the targets\n",
        "              targs.append(end_id)\n",
        "              # append `end_id` at the end of the inputs\n",
        "              inps.append(end_id)\n",
        "          # append `token` at the end of the targets\n",
        "          targs.append(token)\n",
        "          # set prev_no_mask accordingly\n",
        "          prev_no_mask = False\n",
        "      \n",
        "      else: # don't have two masked tokens in a row\n",
        "          # append `token ` at the end of the inputs\n",
        "          inps.append(token)\n",
        "          # set prev_no_mask accordingly\n",
        "          prev_no_mask = True\n",
        "          \n",
        "  ### END CODE HERE ###\n",
        "  \n",
        "  return inps, targs"
      ],
      "execution_count": 21,
      "outputs": []
    },
    {
      "cell_type": "code",
      "metadata": {
        "id": "xXedFuMWrSW9"
      },
      "source": [
        "# Some logic to mock a np.random value generator\n",
        "# Needs to be in the same cell for it to always generate same output\n",
        "def testing_rnd():\n",
        "\n",
        "  def dummy_generator():\n",
        "    vals = np.linspace(0, 1, 10)\n",
        "    cyclic_vals = itertools.cycle(vals)\n",
        "    for _ in range(100):\n",
        "      yield next(cyclic_vals)\n",
        "    \n",
        "  dumr = itertools.cycle(dummy_generator())\n",
        "\n",
        "  def dummy_randomizer():\n",
        "    return next(dumr)\n",
        "\n",
        "  return dummy_randomizer"
      ],
      "execution_count": 22,
      "outputs": []
    },
    {
      "cell_type": "code",
      "metadata": {
        "id": "grh0U5xar67Q",
        "outputId": "b4a8bb48-de41-41b3-e119-efb13d1f566c",
        "colab": {
          "base_uri": "https://localhost:8080/"
        }
      },
      "source": [
        "input_str = natural_language_texts[0]\n",
        "print(f\"input string:\\n\\n{input_str}\\n\")\n",
        "\n",
        "inps, targs = tokenize_and_mask(input_str, randomizer=testing_rnd())\n",
        "print(f\"tokenized inputs:\\n\\n{inps}\\n\")\n",
        "print(f\"targets:\\n\\n{targs}\")"
      ],
      "execution_count": 23,
      "outputs": [
        {
          "output_type": "stream",
          "text": [
            "input string:\n",
            "\n",
            "b'Beginners BBQ Class Taking Place in Missoula!\\nDo you want to get better at making delicious BBQ? You will have the opportunity, put this on your calendar now. Thursday, September 22nd join World Class BBQ Champion, Tony Balay from Lonestar Smoke Rangers. He will be teaching a beginner level class for everyone who wants to get better with their culinary skills.\\nHe will teach you everything you need to know to compete in a KCBS BBQ competition, including techniques, recipes, timelines, meat selection and trimming, plus smoker and fire information.\\nThe cost to be in the class is $35 per person, and for spectators it is free. Included in the cost will be either a t-shirt or apron and you will be tasting samples of each meat that is prepared.'\n",
            "\n",
            "tokenized inputs:\n",
            "\n",
            "[31999, 15068, 4501, 3, 12297, 3399, 16, 5964, 7115, 31998, 531, 25, 241, 12, 129, 394, 44, 492, 31997, 58, 148, 56, 43, 8, 1004, 6, 474, 31996, 39, 4793, 230, 5, 2721, 6, 1600, 1630, 31995, 1150, 4501, 15068, 16127, 6, 9137, 2659, 5595, 31994, 782, 3624, 14627, 15, 12612, 277, 5, 216, 31993, 2119, 3, 9, 19529, 593, 853, 21, 921, 31992, 12, 129, 394, 28, 70, 17712, 1098, 5, 31991, 3884, 25, 762, 25, 174, 12, 214, 12, 31990, 3, 9, 3, 23405, 4547, 15068, 2259, 6, 31989, 6, 5459, 6, 13618, 7, 6, 3604, 1801, 31988, 6, 303, 24190, 11, 1472, 251, 5, 37, 31987, 36, 16, 8, 853, 19, 25264, 399, 568, 31986, 21, 21380, 7, 34, 19, 339, 5, 15746, 31985, 8, 583, 56, 36, 893, 3, 9, 3, 31984, 9486, 42, 3, 9, 1409, 29, 11, 25, 31983, 12246, 5977, 13, 284, 3604, 24, 19, 2657, 31982]\n",
            "\n",
            "targets:\n",
            "\n",
            "[31999, 12847, 277, 31998, 9, 55, 31997, 3326, 15068, 31996, 48, 30, 31995, 727, 1715, 31994, 45, 301, 31993, 56, 36, 31992, 113, 2746, 31991, 216, 56, 31990, 5978, 16, 31989, 379, 2097, 31988, 11, 27856, 31987, 583, 12, 31986, 6, 11, 31985, 26, 16, 31984, 17, 18, 31983, 56, 36, 31982, 5]\n"
          ],
          "name": "stdout"
        }
      ]
    },
    {
      "cell_type": "markdown",
      "metadata": {
        "id": "VEEx2EfWsVdD"
      },
      "source": [
        "**Expected Output:**\n",
        "```CPP\n",
        "b'Beginners BBQ Class Taking Place in Missoula!\\nDo you want to get better at making delicious BBQ? You will have the opportunity, put this on your calendar now. Thursday, September 22nd join World Class BBQ Champion, Tony Balay from Lonestar Smoke Rangers. He will be teaching a beginner level class for everyone who wants to get better with their culinary skills.\\nHe will teach you everything you need to know to compete in a KCBS BBQ competition, including techniques, recipes, timelines, meat selection and trimming, plus smoker and fire information.\\nThe cost to be in the class is $35 per person, and for spectators it is free. Included in the cost will be either a t-shirt or apron and you will be tasting samples of each meat that is prepared.'\n",
        "\n",
        "tokenized inputs:\n",
        "\n",
        "[31999, 15068, 4501, 3, 12297, 3399, 16, 5964, 7115, 31998, 531, 25, 241, 12, 129, 394, 44, 492, 31997, 58, 148, 56, 43, 8, 1004, 6, 474, 31996, 39, 4793, 230, 5, 2721, 6, 1600, 1630, 31995, 1150, 4501, 15068, 16127, 6, 9137, 2659, 5595, 31994, 782, 3624, 14627, 15, 12612, 277, 5, 216, 31993, 2119, 3, 9, 19529, 593, 853, 21, 921, 31992, 12, 129, 394, 28, 70, 17712, 1098, 5, 31991, 3884, 25, 762, 25, 174, 12, 214, 12, 31990, 3, 9, 3, 23405, 4547, 15068, 2259, 6, 31989, 6, 5459, 6, 13618, 7, 6, 3604, 1801, 31988, 6, 303, 24190, 11, 1472, 251, 5, 37, 31987, 36, 16, 8, 853, 19, 25264, 399, 568, 31986, 21, 21380, 7, 34, 19, 339, 5, 15746, 31985, 8, 583, 56, 36, 893, 3, 9, 3, 31984, 9486, 42, 3, 9, 1409, 29, 11, 25, 31983, 12246, 5977, 13, 284, 3604, 24, 19, 2657, 31982]\n",
        "\n",
        "targets:\n",
        "\n",
        "[31999, 12847, 277, 31998, 9, 55, 31997, 3326, 15068, 31996, 48, 30, 31995, 727, 1715, 31994, 45, 301, 31993, 56, 36, 31992, 113, 2746, 31991, 216, 56, 31990, 5978, 16, 31989, 379, 2097, 31988, 11, 27856, 31987, 583, 12, 31986, 6, 11, 31985, 26, 16, 31984, 17, 18, 31983, 56, 36, 31982, 5]\n",
        "```\n",
        "\n",
        "You will now use the inputs and the targets from the `tokenize_and_mask` function you implemented above. Take a look at the masked sentence using your `inps` and `targs` from the sentence above. "
      ]
    },
    {
      "cell_type": "code",
      "metadata": {
        "id": "iUMS3yIKr-aI",
        "outputId": "b37ca870-3b42-4c73-b554-2617cadb2c50",
        "colab": {
          "base_uri": "https://localhost:8080/"
        }
      },
      "source": [
        "print('Inputs: \\n\\n', pretty_decode(inps))\n",
        "print('\\nTargets: \\n\\n', pretty_decode(targs))"
      ],
      "execution_count": 24,
      "outputs": [
        {
          "output_type": "stream",
          "text": [
            "Inputs: \n",
            "\n",
            " <a> BBQ Class Taking Place in Missoul erwachsene Do you want to get better at making Cushion? You will have the opportunity, put imunitar your calendar now. Thursday, September 22 Intellectual World Class BBQ Champion, Tony Balay traditionestar Smoke Rangers. He disguise teaching a beginner level class for everyoneexerce to get better with their culinary skills.nourishe teach you everything you need to know to predominant a KCBS BBQ competition,amitié, recipes, timelines, meat selection erkennt, plus smoker and fire information. Thedimension be in the class is $35 per person inférieur for spectators it is free. Include refugi the cost will be either a  cheddarshirt or apron and you unterlieg tasting samples of each meat that is prepared garanteaz\n",
            "\n",
            "Targets: \n",
            "\n",
            " <a> Beginners erwachsenea! Cushion delicious BBQ imunitar this on Intellectualnd join traditi from L disguise will beexerce who wantsnourishe He will predominant compete inamitié including techniques erkennt and trimmingdimension cost to inférieur, and refugid in cheddart- unterlieg will be garanteaz.\n"
          ],
          "name": "stdout"
        }
      ]
    },
    {
      "cell_type": "markdown",
      "metadata": {
        "id": "Q7ztk535sjB5"
      },
      "source": [
        "<a name='1.4'></a>\n",
        "### 1.4 Creating the Pairs"
      ]
    },
    {
      "cell_type": "markdown",
      "metadata": {
        "id": "f_a8RJ8Esjeh"
      },
      "source": [
        "You will now create pairs using your dataset. You will iterate over your data and create (inp, targ) pairs using the functions that we have given you. "
      ]
    },
    {
      "cell_type": "code",
      "metadata": {
        "id": "6gavk1z9se1y"
      },
      "source": [
        "#  Apply tokenize_and_mask\n",
        "inputs_targets_pairs = [tokenize_and_mask(text) for text in natural_language_texts]"
      ],
      "execution_count": 25,
      "outputs": []
    },
    {
      "cell_type": "code",
      "metadata": {
        "id": "glRCqJ9esyUy"
      },
      "source": [
        "def display_input_target_pairs(inputs_targets_pairs):\n",
        "  for i, inp_tgt_pair in enumerate(inputs_targets_pairs, 1):\n",
        "    inps, tgts = inp_tgt_pair\n",
        "    inps, tgts = pretty_decode(inps), pretty_decode(tgts)\n",
        "\n",
        "    print(f\"[{i}]\\n\\n\" \n",
        "          f\"inputs:\\n{wrapper.fill(text=inps)}\\n\\n\"\n",
        "          f\"targets:\\n{wrapper.fill(text=tgts)}\\n\\n\\n\\n\")"
      ],
      "execution_count": 26,
      "outputs": []
    },
    {
      "cell_type": "code",
      "metadata": {
        "id": "xEXfXosSu0UY",
        "outputId": "c7689e1d-a143-4fe1-bc90-4b71777ad713",
        "colab": {
          "base_uri": "https://localhost:8080/"
        }
      },
      "source": [
        "display_input_target_pairs(inputs_targets_pairs)"
      ],
      "execution_count": 27,
      "outputs": [
        {
          "output_type": "stream",
          "text": [
            "[1]\n",
            "\n",
            "inputs:\n",
            "Beginners BBQ Class Taking <a> in Missoul erwachsene! Do you want to\n",
            "get better at making delicious Cushion? You will have the opportunity,\n",
            "imunitar this on Intellectual calendar now. Thursday traditi September\n",
            "22 disguise joinexerce Class BBQ Champion, Tony Balay from Lonestar\n",
            "Smokenourisheers predominant He will be teaching a beginneramitié\n",
            "class erkennt everyone who wantsdimension get better with their\n",
            "inférieur skills refugi He will teach cheddar everything you need to\n",
            "know to unterlieg in a KCBS BBQ garanteaz techniques, recipes,\n",
            "timelines, meatfăcute and trimming, plus smoker and fire information.\n",
            "The cost to beréglage the class is $35 pedepse person, andGermain\n",
            "spectators it is free. Included in the cost willdistinctly either\n",
            "Schraub t- emanat or apron and you will be tasting samples trimestre\n",
            "each meat that disrespect prepared.\n",
            "\n",
            "targets:\n",
            "<a> Place erwachsenea Cushion BBQ imunitar put Intellectual your\n",
            "traditi, disguisendexerce Worldnourishe Rang predominant.amitié level\n",
            "erkennt fordimension to inférieur culinary refugi. cheddar you\n",
            "unterlieg compete garanteaz competition, includingfăcute\n",
            "selectionréglage in pedepse perGermain fordistinctly beSchrauba\n",
            "emanatshirt trimestre of disrespect is\n",
            "\n",
            "\n",
            "\n",
            "\n",
            "[2]\n",
            "\n",
            "inputs:\n",
            "<a> in 'Mac OS X erwachsene (10 Cushion7)' started by axb imunitari87,\n",
            "Jan 20, 2012. I've got Intellectuala 500g traditi drive disguise a\n",
            "240gb SSD. When trying to restore usingexerce utility i'm given the\n",
            "error \"Not enough space on disknourishe____ to restore predominant But\n",
            "I shouldn't have to do that!!! Any ideas or workamitiés before\n",
            "erkennting to the above? Use Carbon Copy Cloner to copy one drive to\n",
            "the other. I'dimension done inférieur several times going from refugiD\n",
            "to cheddar SSD and I wound unterlieg a bootable SSD drive. One step\n",
            "you garanteaz remember not to skip is to use Disk Utility to partition\n",
            "the SSD as GUID partition schemefăcute doing the réglagene. If it came\n",
            "Apple pedepseition Scheme, even ifGermain letdistinctlyCC do the\n",
            "clone, the resulting driveSchraub boot emanat. C trimestre usually\n",
            "works disrespect \"file mode\" and it can easily copy a larger drive\n",
            "(that's mostly empty Erasmus onto a smaller drive.Australia\n",
            "youpermeabil CCC to clone a drive you diddeseori bootmanipulated, it\n",
            "can work suggér copy mode corespund destinationnitro must beoyons size\n",
            "or larger than the drive you areAccountcloning from échéanif\n",
            "laundering recall genealogyve actually done this somehow on Disk\n",
            "Utility QuickBooks timesconstitutedbooting from Fertigunga different\n",
            "drive (or even the dvd)goutte not running disk utility from the drive\n",
            "your cloregulăing) and had it work just fine from larger to smaller\n",
            "bootable clooverwhelmingly. Definitely format the drive cloning to\n",
            "first émerg as bootable Apple etc.. Thanks for broyeur this out. My\n",
            "only experience povești DU to go larger to smaller was when emulator\n",
            "trying to make  halloween install stick and I was unable to restore\n",
            "InstallESD combustibildmg to a 4 GB Théâtre ofKeep the reason that\n",
            "wouldn't fit isdürftig was slightly moreutti GB of data.\n",
            "\n",
            "targets:\n",
            "<a> Discussion erwachsene Lion Cushion. imunitaro Intellectual\n",
            "traditib internal disguise andexerce disknourishe\n",
            "predominant\"amitiéaround erkennt resortdimensionve inférieur this\n",
            "refugi larger HD cheddar smaller unterlieg up with garanteaz have\n",
            "tofăcute HFS+ beforeréglageclo pedepse PartGermain youdistinctly\n",
            "CSchraub won't be emanatable trimestreCC disrespect in\n",
            "Erasmus)Australia Ifpermeabil telldeseori NOTmanipulated from suggér\n",
            "in block corespund where thenitro driveoyons the sameAccount  échéan (\n",
            "laundering I genealogy). I' QuickBooks severalconstituted ( Fertigung\n",
            "goutte soregulănoverwhelminglyne émerg,broyeurpointing povești using\n",
            "emulator I was halloweena Lion combustibil. Théâtre USB stick butKeep\n",
            "coursedürftig thereutti than 4\n",
            "\n",
            "\n",
            "\n",
            "\n",
            "[3]\n",
            "\n",
            "inputs:\n",
            "<a>il plaid erwachsenelycra Cushion spandex shortall with metallic\n",
            "slinky imunitarsets. Attache Intellectual metallic elastic belt with O\n",
            "traditiring. Head disguise included. Great hip hopexerce jazz dance\n",
            "costume.nourishe in the USA.\n",
            "\n",
            "targets:\n",
            "<a> Fo erwachsene  Cushion and imunitar in Intellectuald traditi-\n",
            "disguisebandexerce ornourishe Made\n",
            "\n",
            "\n",
            "\n",
            "\n",
            "[4]\n",
            "\n",
            "inputs:\n",
            "How many backlink <a> per day for new site? Discussion erwachsene\n",
            "'Black Cushion SEO' started by Omoplata, Dec 3, 2010. 1) for a\n",
            "imunitar created site, what's Intellectual max traditilinks per day I\n",
            "should do to be safe? 2) how disguise do I haveexerce let my\n",
            "sitenourishe before I can start making more blinks? I did about 6000\n",
            "forum profiles every 24 hours for 10 days for predominant of my\n",
            "sitesamitié had a brand new domain. There is erkennt backlinks for\n",
            "everydimension these inférieur profile so refugis 18 000 backlinks\n",
            "every 24 hours and nothing happened in terms of being penalized\n",
            "cheddar sandboxed. This is now maybe 3 months ago unterlieg the site\n",
            "garanteaz ranking on first page forfăcutea lotréglage my targeted\n",
            "keywords. build more you can in starting pedepse do manual submission\n",
            "and not spammyGermain means manual +distinctly toSchraub post.. emanat\n",
            "after 1 month you can trimestre a disrespect blast.. Wow, dude, you\n",
            "built 18k backlink Erasmus a dayAustralia a brandpermeabil? How\n",
            "quickly diddeseori rank up? What kind of competition/searchmanipulated\n",
            "did suggér keywords have?\n",
            "\n",
            "targets:\n",
            "<a>s erwachsene in Cushion Hat imunitar newly Intellectual the traditi\n",
            "# back disguise longexerce tonourishe age predominant oneamitié which\n",
            "erkennt threedimension of inférieur forum refugi that cheddar or\n",
            "unterlieg and garanteaz isfăcute réglage of pedepse butGermain\n",
            "typedistinctly relevantSchraub the emanat then trimestre make\n",
            "disrespect big ErasmussAustralia onpermeabil new sitedeseori\n",
            "youmanipulatedes suggér those\n",
            "\n",
            "\n",
            "\n",
            "\n",
            "[5]\n",
            "\n",
            "inputs:\n",
            "The Denver Board of Education opened the 2017-18 school year with an\n",
            "update <a> projects that include new construction erwachsene upgrades,\n",
            "heat mitigation Cushion quality learning environments. We imunitar\n",
            "excited Intellectual Denver students will be the beneficiaries\n",
            "traditia four year, $572 million General Oblig disguise Bond.exerce\n",
            "the passage of the bond, our construction team has worked to\n",
            "schedulenourishe projects over predominant four-year termamitié bond.\n",
            "Denver voters on Tuesday approved bond and mill funding erkennt\n",
            "fordimension in Denver Public Schools, agreeing to invest $572 million\n",
            "in bond funding inférieur build and improve schools and refugi6.6\n",
            "million in operating dollars to support proven initiatives, cheddar as\n",
            "early unterlieg Denver voters say garanteaz to bond and mill levy\n",
            "fundingfăcute forréglagePS students and schools. Click to learn more\n",
            "about the details of the voter-approved pedepse measure. Denver\n",
            "votersGermain. 8 approved bond and mill fundingdistinctly for DPS\n",
            "students and schools. Learn more about what’s included in the mill\n",
            "Schrauby measure.\n",
            "\n",
            "targets:\n",
            "<a> on erwachsene, Cushion and imunitar are Intellectual that traditi\n",
            "of  disguiseationexerce Sincenourishe the predominant theamitié of the\n",
            "erkennt measuresdimension students inférieur to refugi $5 cheddar such\n",
            "unterlieg literacy. garanteaz yesfăcute supportréglage D pedepse\n",
            "bondGermain on Novdistinctly measuresSchraublev\n",
            "\n",
            "\n",
            "\n",
            "\n"
          ],
          "name": "stdout"
        }
      ]
    },
    {
      "cell_type": "markdown",
      "metadata": {
        "id": "rGfUIfdLu_TO"
      },
      "source": [
        "<a name='2'></a>\n",
        "## Part 2: Transfomer"
      ]
    },
    {
      "cell_type": "markdown",
      "metadata": {
        "id": "rJ11v9fOvBIC"
      },
      "source": [
        "We now load a Transformer model checkpoint that has been pre-trained using the above C4 dataset and decode from it. This will save you a lot of time rather than have to train your model yourself. Later in this notebook, we will show you how to fine-tune your model.\n",
        "\n",
        "<img src='https://github.com/rahiakela/img-repo/blob/master/deeplearning.ai-NLPS/fulltransformer.png?raw=1' width='300'/>\n",
        "\n",
        "Start by loading in the model. We copy the checkpoint to local dir for speed, otherwise initialization takes a very long time. Last week you implemented the decoder part for the transformer. Now you will implement the encoder part. Concretely you will implement the following. \n",
        "\n",
        "<img src='https://github.com/rahiakela/img-repo/blob/master/deeplearning.ai-NLPS/encoder.png?raw=1' width='300'/>"
      ]
    },
    {
      "cell_type": "markdown",
      "metadata": {
        "id": "gOpFiLS4vJAJ"
      },
      "source": [
        "<a name='2.1'></a>\n",
        "### 2.1 Transformer Encoder"
      ]
    },
    {
      "cell_type": "markdown",
      "metadata": {
        "id": "4vy1I6J4vJg2"
      },
      "source": [
        "You will now implement the transformer encoder. Concretely you will implement two functions. The first function is `FeedForwardBlock`."
      ]
    },
    {
      "cell_type": "markdown",
      "metadata": {
        "id": "WYbp_V6qvL7e"
      },
      "source": [
        "<a name='2.1.1'></a>\n",
        "#### 2.1.1 The Feedforward Block"
      ]
    },
    {
      "cell_type": "markdown",
      "metadata": {
        "id": "CG-_AKjWvrvm"
      },
      "source": [
        "The `FeedForwardBlock` function is an important one so you will start by implementing it. To do so, you need to return a list of the following: \n",
        "\n",
        "- [`tl.LayerNorm()`](https://trax-ml.readthedocs.io/en/latest/trax.layers.html#trax.layers.normalization.LayerNorm) = layer normalization.\n",
        "- [`tl.Dense(d_ff)`](https://trax-ml.readthedocs.io/en/latest/trax.layers.html#trax.layers.core.Dense) = fully connected layer.\n",
        "- [`activation`](https://trax-ml.readthedocs.io/en/latest/trax.layers.html#trax.layers.activation_fns.Relu) = activation relu, tanh, sigmoid etc. \n",
        "- `dropout_middle` = we gave you this function (don't worry about its implementation).\n",
        "- [`tl.Dense(d_model)`](https://trax-ml.readthedocs.io/en/latest/trax.layers.html#trax.layers.core.Dense) = fully connected layer with same dimension as the model.\n",
        "- `dropout_final` = we gave you this function (don't worry about its implementation).\n",
        "\n",
        "You can always take a look at [trax documentation](https://trax-ml.readthedocs.io/en/latest/) if needed.\n",
        "\n",
        "**Instructions**: Implement the feedforward part of the transformer. You will be returning a list. "
      ]
    },
    {
      "cell_type": "markdown",
      "metadata": {
        "id": "hVnYlNLHvwgj"
      },
      "source": [
        "<a name='ex02'></a>\n",
        "#### Exercise 02"
      ]
    },
    {
      "cell_type": "code",
      "metadata": {
        "id": "4dwHDmNGu5T2"
      },
      "source": [
        ""
      ],
      "execution_count": null,
      "outputs": []
    }
  ]
}