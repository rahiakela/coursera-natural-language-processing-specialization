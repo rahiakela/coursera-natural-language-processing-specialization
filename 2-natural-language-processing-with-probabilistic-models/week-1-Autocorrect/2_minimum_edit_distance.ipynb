{
  "nbformat": 4,
  "nbformat_minor": 0,
  "metadata": {
    "colab": {
      "name": "2-minimum-edit-distance",
      "provenance": [],
      "authorship_tag": "ABX9TyMfyBBx4KS0FKo5aDiv/opw",
      "include_colab_link": true
    },
    "kernelspec": {
      "name": "python3",
      "display_name": "Python 3"
    }
  },
  "cells": [
    {
      "cell_type": "markdown",
      "metadata": {
        "id": "view-in-github",
        "colab_type": "text"
      },
      "source": [
        "<a href=\"https://colab.research.google.com/github/rahiakela/coursera-natural-language-processing-specialization/blob/2-natural-language-processing-with-probabilistic-models/week-1/2_minimum_edit_distance.ipynb\" target=\"_parent\"><img src=\"https://colab.research.google.com/assets/colab-badge.svg\" alt=\"Open In Colab\"/></a>"
      ]
    },
    {
      "cell_type": "markdown",
      "metadata": {
        "id": "KWNE8gUVm2w6",
        "colab_type": "text"
      },
      "source": [
        "# Minimum edit distance"
      ]
    },
    {
      "cell_type": "markdown",
      "metadata": {
        "id": "9t9GwNY9nBZd",
        "colab_type": "text"
      },
      "source": [
        "## Candidates from String Edits"
      ]
    },
    {
      "cell_type": "markdown",
      "metadata": {
        "id": "da3TjLhunCOY",
        "colab_type": "text"
      },
      "source": [
        "Create a list of candidate strings by applying an edit operation.\n",
        "<br>\n",
        "\n",
        "Imports and Data"
      ]
    },
    {
      "cell_type": "code",
      "metadata": {
        "id": "6vNU_6v8nFPt",
        "colab_type": "code",
        "colab": {}
      },
      "source": [
        "# data\n",
        "word ='dearz' # 🦌"
      ],
      "execution_count": 1,
      "outputs": []
    },
    {
      "cell_type": "markdown",
      "metadata": {
        "id": "0e5sSYJ4nU5v",
        "colab_type": "text"
      },
      "source": [
        "##  Splits"
      ]
    },
    {
      "cell_type": "markdown",
      "metadata": {
        "id": "B65FRZxknX9w",
        "colab_type": "text"
      },
      "source": [
        "Find all the ways you can split a word into 2 parts !"
      ]
    },
    {
      "cell_type": "code",
      "metadata": {
        "id": "EQZC2Eb1nT73",
        "colab_type": "code",
        "colab": {
          "base_uri": "https://localhost:8080/",
          "height": 119
        },
        "outputId": "e40306b9-1963-43d1-d619-90b3fc15fe19"
      },
      "source": [
        "# splits with a loop\n",
        "splits_a = []\n",
        "for i in range(len(word) + 1):\n",
        "  splits_a.append([word[:i], word[i:]])\n",
        "\n",
        "for i in splits_a:\n",
        "  print(i)"
      ],
      "execution_count": 2,
      "outputs": [
        {
          "output_type": "stream",
          "text": [
            "['', 'dearz']\n",
            "['d', 'earz']\n",
            "['de', 'arz']\n",
            "['dea', 'rz']\n",
            "['dear', 'z']\n",
            "['dearz', '']\n"
          ],
          "name": "stdout"
        }
      ]
    },
    {
      "cell_type": "code",
      "metadata": {
        "id": "wR93OpY1n4kl",
        "colab_type": "code",
        "colab": {
          "base_uri": "https://localhost:8080/",
          "height": 119
        },
        "outputId": "e7b982ff-fa2b-4eab-e6c6-41676a209910"
      },
      "source": [
        "# same splits, done using a list comprehension\n",
        "splits_b = [(word[:i], word[i:]) for i in range(len(word) + 1)]\n",
        "for i in splits_b:\n",
        "  print(i)"
      ],
      "execution_count": 3,
      "outputs": [
        {
          "output_type": "stream",
          "text": [
            "('', 'dearz')\n",
            "('d', 'earz')\n",
            "('de', 'arz')\n",
            "('dea', 'rz')\n",
            "('dear', 'z')\n",
            "('dearz', '')\n"
          ],
          "name": "stdout"
        }
      ]
    },
    {
      "cell_type": "markdown",
      "metadata": {
        "id": "to7EqpOEo3Kh",
        "colab_type": "text"
      },
      "source": [
        "## Delete Edit"
      ]
    },
    {
      "cell_type": "markdown",
      "metadata": {
        "id": "KIPAhpteo4Hj",
        "colab_type": "text"
      },
      "source": [
        "Delete a letter from each string in the splits list.\n",
        "\n",
        "What this does is effectivly delete each possible letter from the original word being edited."
      ]
    },
    {
      "cell_type": "code",
      "metadata": {
        "id": "WH-4rq2uoepA",
        "colab_type": "code",
        "colab": {
          "base_uri": "https://localhost:8080/",
          "height": 119
        },
        "outputId": "846c0da6-a4c5-4da6-eff2-16ff5c12d1b2"
      },
      "source": [
        "# deletes with a loop\n",
        "splits = splits_a\n",
        "deletes = []\n",
        "\n",
        "print('word: ', word)\n",
        "for L, R in splits:\n",
        "  if R:\n",
        "    print(L + R[1:], ' <-- delete ', R[0])"
      ],
      "execution_count": 4,
      "outputs": [
        {
          "output_type": "stream",
          "text": [
            "word:  dearz\n",
            "earz  <-- delete  d\n",
            "darz  <-- delete  e\n",
            "derz  <-- delete  a\n",
            "deaz  <-- delete  r\n",
            "dear  <-- delete  z\n"
          ],
          "name": "stdout"
        }
      ]
    },
    {
      "cell_type": "markdown",
      "metadata": {
        "id": "rEgiGXu5pmFG",
        "colab_type": "text"
      },
      "source": [
        "It's worth taking a closer look at how this is excecuting a 'delete'.\n",
        "\n",
        "Taking the first item from the splits list :"
      ]
    },
    {
      "cell_type": "code",
      "metadata": {
        "id": "rFbWtwVNpaEV",
        "colab_type": "code",
        "colab": {
          "base_uri": "https://localhost:8080/",
          "height": 119
        },
        "outputId": "4b2010e1-d48f-483f-8989-2c9b58f2e5f7"
      },
      "source": [
        "# breaking it down\n",
        "print('word: ', word)\n",
        "one_split = splits[0]\n",
        "print('first item from the splits list: ', one_split)\n",
        "L = one_split[0]\n",
        "R = one_split[1]\n",
        "print('L: ', L)\n",
        "print('R: ', R)\n",
        "print('*** now implicit delete by excluding the leading letter ***')\n",
        "print('L + R[1:] : ', L + R[1:], ' <-- delete ', R[0])"
      ],
      "execution_count": 5,
      "outputs": [
        {
          "output_type": "stream",
          "text": [
            "word:  dearz\n",
            "first item from the splits list:  ['', 'dearz']\n",
            "L:  \n",
            "R:  dearz\n",
            "*** now implicit delete by excluding the leading letter ***\n",
            "L + R[1:] :  earz  <-- delete  d\n"
          ],
          "name": "stdout"
        }
      ]
    },
    {
      "cell_type": "markdown",
      "metadata": {
        "id": "NrcR6liVrVd5",
        "colab_type": "text"
      },
      "source": [
        "So the end result transforms **'dearz'** to **'earz'** by deleting the first character.\n",
        "<br>\n",
        "And you use a **loop** (code block above) or a **list comprehension** (code block below) to do\n",
        "<br>\n",
        "this for the entire `splits` list."
      ]
    },
    {
      "cell_type": "code",
      "metadata": {
        "id": "_wUDS3hjrFH5",
        "colab_type": "code",
        "colab": {
          "base_uri": "https://localhost:8080/",
          "height": 136
        },
        "outputId": "37a58ce1-9d72-4748-8ce2-85b1364f2829"
      },
      "source": [
        "# deletes with a list comprehension\n",
        "splits = splits_a\n",
        "deletes = [L + R[1:] for L, R in splits if R]\n",
        "\n",
        "print(deletes)\n",
        "print('*** which is the same as ***')\n",
        "for i in deletes:\n",
        "  print(i)"
      ],
      "execution_count": 6,
      "outputs": [
        {
          "output_type": "stream",
          "text": [
            "['earz', 'darz', 'derz', 'deaz', 'dear']\n",
            "*** which is the same as ***\n",
            "earz\n",
            "darz\n",
            "derz\n",
            "deaz\n",
            "dear\n"
          ],
          "name": "stdout"
        }
      ]
    },
    {
      "cell_type": "markdown",
      "metadata": {
        "id": "pFtsB5nhsYc8",
        "colab_type": "text"
      },
      "source": [
        "## Exercise"
      ]
    },
    {
      "cell_type": "markdown",
      "metadata": {
        "id": "IO8HzaqGsZVt",
        "colab_type": "text"
      },
      "source": [
        "You now have a list of ***candidate strings*** created after performing a **delete** edit.\n",
        "<br>\n",
        "Next step will be to filter this list for ***candidate words*** found in a vocabulary.\n",
        "<br>\n",
        "Given the example vocab below, can you think of a way to create a list of candidate words ? \n",
        "<br>\n",
        "Remember, you already have a list of candidate strings, some of which are certainly not actual words you might find in your vocabulary !\n",
        "<br>\n",
        "<br>\n",
        "So from the above list **earz, darz, derz, deaz, dear**. \n",
        "<br>\n",
        "You're really only interested in **dear**."
      ]
    },
    {
      "cell_type": "code",
      "metadata": {
        "id": "SklF7IdUsOJ3",
        "colab_type": "code",
        "colab": {
          "base_uri": "https://localhost:8080/",
          "height": 51
        },
        "outputId": "d99762c6-fa66-43a4-f094-9ffadbadb4cd"
      },
      "source": [
        "vocab = ['dean','deer','dear','fries','and','coke']\n",
        "edits = list(deletes)\n",
        "print('vocab : ', vocab)\n",
        "print('edits : ', edits)"
      ],
      "execution_count": 7,
      "outputs": [
        {
          "output_type": "stream",
          "text": [
            "vocab :  ['dean', 'deer', 'dear', 'fries', 'and', 'coke']\n",
            "edits :  ['earz', 'darz', 'derz', 'deaz', 'dear']\n"
          ],
          "name": "stdout"
        }
      ]
    },
    {
      "cell_type": "code",
      "metadata": {
        "id": "l9R05nnPvNpK",
        "colab_type": "code",
        "colab": {
          "base_uri": "https://localhost:8080/",
          "height": 34
        },
        "outputId": "d4bb5c42-a2d4-4951-9379-8d6bb65ef3cf"
      },
      "source": [
        "candidates = []\n",
        "### START CODE HERE ###\n",
        "candidates = set(vocab).intersection(edits)        # hint: 'set.intersection'\n",
        "### END CODE HERE ###\n",
        "\n",
        "print('candidate words : ', candidates)"
      ],
      "execution_count": 11,
      "outputs": [
        {
          "output_type": "stream",
          "text": [
            "candidate words :  {'dear'}\n"
          ],
          "name": "stdout"
        }
      ]
    },
    {
      "cell_type": "markdown",
      "metadata": {
        "id": "y6JhMP7Sskxq",
        "colab_type": "text"
      },
      "source": [
        "## Summary"
      ]
    },
    {
      "cell_type": "markdown",
      "metadata": {
        "id": "p66xLeMXslo8",
        "colab_type": "text"
      },
      "source": [
        "You've unpacked an integral part of the assignment by breaking down **splits** and **edits**, specifically looking at **deletes** here.\n",
        "<br>\n",
        "Implementation of the other edit types (insert, replace, switch) follow a similar methodology and should now feel somewhat familiar when you see them.\n",
        "<br>\n",
        "This bit of the code isn't as intuitive as other sections, so well done!\n",
        "<br>\n",
        "You should now feel confident facing some of the more technical parts of the assignment at the end of the week."
      ]
    }
  ]
}