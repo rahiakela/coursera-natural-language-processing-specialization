{
  "nbformat": 4,
  "nbformat_minor": 0,
  "metadata": {
    "colab": {
      "name": "3-evaluate-siamese-model.ipynb",
      "provenance": [],
      "toc_visible": true,
      "authorship_tag": "ABX9TyPLxqEsn82a68ttkzF4ho+N",
      "include_colab_link": true
    },
    "kernelspec": {
      "name": "python3",
      "display_name": "Python 3"
    },
    "accelerator": "GPU"
  },
  "cells": [
    {
      "cell_type": "markdown",
      "metadata": {
        "id": "view-in-github",
        "colab_type": "text"
      },
      "source": [
        "<a href=\"https://colab.research.google.com/github/rahiakela/coursera-natural-language-processing-specialization/blob/master/course-3-natural-language-processing-with-sequence-models/week-4-Siamese%20Networks/3_evaluate_siamese_model.ipynb\" target=\"_parent\"><img src=\"https://colab.research.google.com/assets/colab-badge.svg\" alt=\"Open In Colab\"/></a>"
      ]
    },
    {
      "cell_type": "markdown",
      "metadata": {
        "id": "nAc-XxOxLSNb"
      },
      "source": [
        "## Evaluate a Siamese model"
      ]
    },
    {
      "cell_type": "code",
      "metadata": {
        "id": "__ebl4igLtrB"
      },
      "source": [
        "!pip install trax==1.3.9"
      ],
      "execution_count": null,
      "outputs": []
    },
    {
      "cell_type": "code",
      "metadata": {
        "id": "ISQknNocM96l"
      },
      "source": [
        "import trax.fastmath.numpy as np"
      ],
      "execution_count": 2,
      "outputs": []
    },
    {
      "cell_type": "code",
      "metadata": {
        "id": "sXVCyKpqZGFt",
        "outputId": "1dec5fe0-47ee-473b-a8dd-1d20fd278b43",
        "colab": {
          "base_uri": "https://localhost:8080/"
        }
      },
      "source": [
        "%%shell\n",
        "\n",
        "wget -q https://github.com/rahiakela/coursera-natural-language-processing-specialization/raw/master/course-3-natural-language-processing-with-sequence-models/week-4-Siamese%20Networks/data/q1.npy\n",
        "wget -q https://github.com/rahiakela/coursera-natural-language-processing-specialization/raw/master/course-3-natural-language-processing-with-sequence-models/week-4-Siamese%20Networks/data/q2.npy\n",
        "wget -q https://github.com/rahiakela/coursera-natural-language-processing-specialization/raw/master/course-3-natural-language-processing-with-sequence-models/week-4-Siamese%20Networks/data/v1.npy\n",
        "wget -q https://github.com/rahiakela/coursera-natural-language-processing-specialization/raw/master/course-3-natural-language-processing-with-sequence-models/week-4-Siamese%20Networks/data/v2.npy\n",
        "wget -q https://github.com/rahiakela/coursera-natural-language-processing-specialization/raw/master/course-3-natural-language-processing-with-sequence-models/week-4-Siamese%20Networks/data/y_test.npy"
      ],
      "execution_count": 4,
      "outputs": [
        {
          "output_type": "execute_result",
          "data": {
            "text/plain": [
              ""
            ]
          },
          "metadata": {
            "tags": []
          },
          "execution_count": 4
        }
      ]
    },
    {
      "cell_type": "markdown",
      "metadata": {
        "id": "dx4XS8u-LS5P"
      },
      "source": [
        "## Inspecting the necessary elements"
      ]
    },
    {
      "cell_type": "markdown",
      "metadata": {
        "id": "NF91PB3iL6-c"
      },
      "source": [
        "<img src='https://github.com/rahiakela/img-repo/blob/master/deeplearning.ai-NLPS/prep-batch.png?raw=1' width='800'/>\n",
        "\n",
        "In this lecture notebook you will learn how to evaluate a Siamese model using the accuracy metric. Because there are many steps before evaluating a Siamese network (as you will see in this week's assignment) the necessary elements and variables are replicated here using real data from the assignment:\n",
        "\n",
        "   - `q1`: vector with dimension `(batch_size X max_length)` containing first questions to compare in the test set.\n",
        "   - `q2`: vector with dimension `(batch_size X max_length)` containing second questions to compare in the test set.\n",
        "   \n",
        "   **Notice that for each pair of vectors within a batch $([q1_1, q1_2, q1_3, ...]$, $[q2_1, q2_2,q2_3, ...])$  $q1_i$ is associated to $q2_k$.**\n",
        "        \n",
        "        \n",
        "   - `y_test`: 1 if  $q1_i$ and $q2_k$ are duplicates, 0 otherwise.\n",
        "   \n",
        "   - `v1`: output vector from the model's prediction associated with the first questions.\n",
        "   - `v2`: output vector from the model's prediction associated with the second questions.\n",
        "\n",
        "You can inspect each one of these variables by running the following cells:"
      ]
    },
    {
      "cell_type": "code",
      "metadata": {
        "id": "FkbDOXYhMAvT",
        "colab": {
          "base_uri": "https://localhost:8080/"
        },
        "outputId": "ed1ebb0a-9866-48aa-c094-40923ab7b8b6"
      },
      "source": [
        "q1 = np.load(\"q1.npy\")\n",
        "print(f\"q1 has shape: {q1.shape} \\n\\nAnd it looks like this: \\n\\n {q1} \\n\\n\")"
      ],
      "execution_count": 5,
      "outputs": [
        {
          "output_type": "stream",
          "text": [
            "q1 has shape: (512, 64) \n",
            "\n",
            "And it looks like this: \n",
            "\n",
            " [[ 32  38   4 ...   1   1   1]\n",
            " [ 30 156  78 ...   1   1   1]\n",
            " [ 32  38   4 ...   1   1   1]\n",
            " ...\n",
            " [ 32  33   4 ...   1   1   1]\n",
            " [ 30 156 317 ...   1   1   1]\n",
            " [ 30 156   6 ...   1   1   1]] \n",
            "\n",
            "\n"
          ],
          "name": "stdout"
        }
      ]
    },
    {
      "cell_type": "markdown",
      "metadata": {
        "id": "tg-n8cAoNKH4"
      },
      "source": [
        "Notice those 1s on the right-hand side?  \n",
        "\n",
        "Hope you remember that the value of `1` was used for padding. "
      ]
    },
    {
      "cell_type": "code",
      "metadata": {
        "id": "AmZpeZ95M6yX",
        "colab": {
          "base_uri": "https://localhost:8080/"
        },
        "outputId": "0159d1ca-fa92-40ec-d119-6ce72644c88a"
      },
      "source": [
        "q2 = np.load(\"q2.npy\")\n",
        "print(f\"q2 has shape: {q2.shape} \\n\\nAnd it looks like this: \\n\\n {q2} \\n\\n\")"
      ],
      "execution_count": 6,
      "outputs": [
        {
          "output_type": "stream",
          "text": [
            "q2 has shape: (512, 64) \n",
            "\n",
            "And it looks like this: \n",
            "\n",
            " [[   30   156    78 ...     1     1     1]\n",
            " [  283   156    78 ...     1     1     1]\n",
            " [   32    38     4 ...     1     1     1]\n",
            " ...\n",
            " [   32    33     4 ...     1     1     1]\n",
            " [   30   156    78 ...     1     1     1]\n",
            " [   30   156 10596 ...     1     1     1]] \n",
            "\n",
            "\n"
          ],
          "name": "stdout"
        }
      ]
    },
    {
      "cell_type": "code",
      "metadata": {
        "id": "4pBH08TmNZmj",
        "colab": {
          "base_uri": "https://localhost:8080/"
        },
        "outputId": "a39370e3-16e3-472c-b962-9482885c09c3"
      },
      "source": [
        "y_test = np.load(\"y_test.npy\")\n",
        "print(f\"y_test has shape: {y_test.shape} \\n\\nAnd looks like this: \\n\\n {y_test} \\n\\n\")"
      ],
      "execution_count": 7,
      "outputs": [
        {
          "output_type": "stream",
          "text": [
            "y_test has shape: (512,) \n",
            "\n",
            "And looks like this: \n",
            "\n",
            " [0 1 1 0 0 0 0 1 0 1 1 0 0 0 1 1 1 0 1 1 0 0 0 0 1 1 0 0 0 0 1 0 1 1 0 0 0\n",
            " 0 0 0 1 0 0 0 1 0 0 0 0 1 0 1 1 1 1 0 1 0 1 0 0 0 1 0 1 1 1 0 0 0 1 0 1 0\n",
            " 0 0 0 1 0 0 1 1 0 0 0 1 0 1 1 0 1 0 0 0 1 0 1 0 0 0 0 1 1 1 0 1 0 1 1 0 0\n",
            " 0 1 0 0 1 1 0 0 1 0 1 0 0 1 1 0 1 0 0 1 1 0 1 1 1 0 1 0 0 0 0 0 0 0 0 0 0\n",
            " 1 0 1 1 1 0 0 0 0 0 0 1 0 0 0 1 0 0 0 0 1 0 0 0 0 0 1 1 0 1 0 1 1 0 1 1 1\n",
            " 1 0 1 1 0 0 0 0 1 1 0 0 0 0 0 1 1 0 1 0 0 1 1 0 0 0 1 0 1 0 0 0 0 1 0 0 1\n",
            " 0 0 0 0 0 0 0 1 1 0 0 0 0 1 0 0 0 1 0 0 0 0 0 0 0 0 0 0 0 0 0 1 0 0 0 0 0\n",
            " 1 0 0 0 0 1 0 0 0 0 1 0 1 0 1 1 0 0 0 0 1 1 1 1 0 0 0 0 0 0 0 0 1 0 0 0 1\n",
            " 1 0 1 1 0 0 0 1 0 1 0 1 1 0 0 0 1 0 0 0 0 1 0 0 0 0 1 1 1 0 1 0 1 1 1 0 0\n",
            " 0 1 0 1 0 1 1 0 0 0 0 0 0 0 0 1 0 1 0 1 0 1 0 0 1 0 0 1 0 1 0 0 1 0 0 0 0\n",
            " 0 0 1 0 1 1 0 0 0 0 1 1 0 0 0 0 0 0 0 1 1 1 0 0 1 1 1 0 1 1 0 1 0 1 1 1 0\n",
            " 1 1 0 1 0 1 0 0 0 0 0 0 0 0 1 1 0 0 0 1 0 0 0 1 1 0 1 1 1 0 0 0 1 0 1 1 1\n",
            " 0 1 0 0 0 0 0 0 0 1 1 1 0 0 1 1 0 0 0 1 0 0 0 1 0 0 0 0 0 1 1 0 0 0 0 0 1\n",
            " 1 0 1 0 0 1 0 0 0 0 0 0 1 1 1 0 0 0 0 0 0 0 0 0 0 0 0 0 0 0 0] \n",
            "\n",
            "\n"
          ],
          "name": "stdout"
        }
      ]
    },
    {
      "cell_type": "code",
      "metadata": {
        "id": "J1pim6vFN8j_",
        "colab": {
          "base_uri": "https://localhost:8080/"
        },
        "outputId": "9cb488a8-fe9f-448d-8563-55846f9d6a83"
      },
      "source": [
        "v1 = np.load('v1.npy')\n",
        "print(f'v1 has shape: {v1.shape} \\n\\nAnd looks like this: \\n\\n {v1}\\n\\n')\n",
        "v2 = np.load('v2.npy')\n",
        "print(f'v2 has shape: {v2.shape} \\n\\nAnd looks like this: \\n\\n {v2}\\n\\n')"
      ],
      "execution_count": 8,
      "outputs": [
        {
          "output_type": "stream",
          "text": [
            "v1 has shape: (512, 128) \n",
            "\n",
            "And looks like this: \n",
            "\n",
            " [[ 0.01273625 -0.1496373  -0.01982759 ...  0.02205012 -0.00169148\n",
            "  -0.01598107]\n",
            " [-0.05592084  0.05792497 -0.02226785 ...  0.08156938 -0.02570007\n",
            "  -0.00503111]\n",
            " [ 0.05686752  0.0294889   0.04522024 ...  0.03141788 -0.08459651\n",
            "  -0.00968536]\n",
            " ...\n",
            " [ 0.15115018  0.17791134  0.02200656 ... -0.00851707  0.00571415\n",
            "  -0.00431194]\n",
            " [ 0.06995274  0.13110274  0.0202337  ... -0.00902792 -0.01221745\n",
            "   0.00505962]\n",
            " [-0.16043712 -0.11899089 -0.15950686 ...  0.06544471 -0.01208312\n",
            "  -0.01183368]]\n",
            "\n",
            "\n",
            "v2 has shape: (512, 128) \n",
            "\n",
            "And looks like this: \n",
            "\n",
            " [[ 0.07437647  0.02804951 -0.02974014 ...  0.02378932 -0.01696189\n",
            "  -0.01897198]\n",
            " [ 0.03270066  0.15122835 -0.02175895 ...  0.00517202 -0.14617395\n",
            "   0.00204823]\n",
            " [ 0.05635608  0.05454165  0.042222   ...  0.03831453 -0.05387777\n",
            "  -0.01447786]\n",
            " ...\n",
            " [ 0.04727105 -0.06748016  0.04194937 ...  0.07600753 -0.03072828\n",
            "   0.00400715]\n",
            " [ 0.00269269  0.15222628  0.01714724 ...  0.01482705 -0.0197884\n",
            "   0.01389528]\n",
            " [-0.15475044 -0.15718803 -0.14732707 ...  0.04299919 -0.01070975\n",
            "  -0.01318042]]\n",
            "\n",
            "\n"
          ],
          "name": "stdout"
        }
      ]
    },
    {
      "cell_type": "markdown",
      "metadata": {
        "id": "JzZsR_pQNuBk"
      },
      "source": [
        "## Calculating the accuracy"
      ]
    },
    {
      "cell_type": "markdown",
      "metadata": {
        "id": "H1LLkmrdOGdv"
      },
      "source": [
        "You will calculate the accuracy by iterating over the test set and checking if the model predicts right or wrong.\n",
        "\n",
        "The first step is to set the accuracy to zero:"
      ]
    },
    {
      "cell_type": "code",
      "metadata": {
        "id": "JH7bqRVUOI-8"
      },
      "source": [
        "accuracy = 0"
      ],
      "execution_count": 9,
      "outputs": []
    },
    {
      "cell_type": "markdown",
      "metadata": {
        "id": "AP4_ZI7UOQIe"
      },
      "source": [
        "You will also need the `batch size` and the `threshold` that determines if two questions are the same or not. \n",
        "\n",
        "**Note :A higher threshold means that only very similar questions will be considered as the same question.**"
      ]
    },
    {
      "cell_type": "code",
      "metadata": {
        "id": "nppWf_O2OStI"
      },
      "source": [
        "batch_size = 512 # Note: The max it can be is y_test.shape[0] i.e all the samples in test data\n",
        "threshold = 0.7 # You can play around with threshold and then see the change in accuracy."
      ],
      "execution_count": 10,
      "outputs": []
    },
    {
      "cell_type": "markdown",
      "metadata": {
        "id": "PbSc7zacPeg-"
      },
      "source": [
        "<img src='https://github.com/rahiakela/img-repo/blob/master/deeplearning.ai-NLPS/siamese-testing.png?raw=1' width='800'/>\n",
        "\n",
        "In the assignment you will iterate over multiple batches of data but since this is a simplified version only one batch is provided. \n",
        "\n",
        "**Note: Be careful with the indices when slicing the test data in the assignment!**\n",
        "\n",
        "The process is pretty straightforward:\n",
        "   - Iterate over each one of the elements in the batch\n",
        "   - Compute the cosine similarity between the predictions\n",
        "       - For computing the cosine similarity, the two output vectors should have been normalized using L2 normalization meaning their magnitude will be 1. This has been taken care off by the Siamese network you will build in the assignment. Hence the cosine similarity here is just dot product between two vectors. You can check by implementing the usual cosine similarity formula and check if this holds or not.\n",
        "   - Determine if this value is greater than the threshold (If it is, consider the two questions as the same and return 1 else 0)\n",
        "   - Compare against the actual target and if the prediction matches, add 1 to the accuracy (increment the correct prediction counter)\n",
        "   - Divide the accuracy by the number of processed elements"
      ]
    },
    {
      "cell_type": "code",
      "metadata": {
        "id": "CJ3DXQcSP6CT"
      },
      "source": [
        "# Iterate over each one of the elements in the batch\n",
        "for j in range(batch_size):\n",
        "  # Compute the cosine similarity between the predictions as l2 normalized, ||v1[j]||==||v2[j]||==1 so only dot product is needed\n",
        "  d = np.dot(v1[j], v2[j])  \n",
        "  # Determine if this value is greater than the threshold (if it is consider the two questions as the same)\n",
        "  res = d > threshold       \n",
        "  # Compare against the actual target and if the prediction matches, add 1 to the accuracy\n",
        "  accuracy += (y_test[j] == res)\n",
        "\n",
        "accuracy = accuracy / batch_size"
      ],
      "execution_count": 11,
      "outputs": []
    },
    {
      "cell_type": "code",
      "metadata": {
        "id": "naU5KzwRQ0ER",
        "colab": {
          "base_uri": "https://localhost:8080/"
        },
        "outputId": "07ff6172-3783-4604-85de-42d1ca86c6a1"
      },
      "source": [
        "print(f\"The accuracy of the model is: {accuracy}\")"
      ],
      "execution_count": 12,
      "outputs": [
        {
          "output_type": "stream",
          "text": [
            "The accuracy of the model is: 0.7421875\n"
          ],
          "name": "stdout"
        }
      ]
    },
    {
      "cell_type": "markdown",
      "metadata": {
        "id": "vZyfrFXkQ5YA"
      },
      "source": [
        "**Congratulations on finishing this lecture notebook!** \n",
        "\n",
        "Now you should have a clearer understanding of how to evaluate your Siamese language models using the accuracy metric. \n",
        "\n",
        "**Keep it up!**"
      ]
    }
  ]
}