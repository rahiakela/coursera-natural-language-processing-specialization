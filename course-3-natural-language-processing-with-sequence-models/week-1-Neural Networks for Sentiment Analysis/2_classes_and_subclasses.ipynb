{
  "nbformat": 4,
  "nbformat_minor": 0,
  "metadata": {
    "colab": {
      "name": "2-classes-and-subclasses.ipynb",
      "provenance": [],
      "toc_visible": true,
      "authorship_tag": "ABX9TyNGp6xKZhWq6rbWJlkD+1Wp",
      "include_colab_link": true
    },
    "kernelspec": {
      "name": "python3",
      "display_name": "Python 3"
    }
  },
  "cells": [
    {
      "cell_type": "markdown",
      "metadata": {
        "id": "view-in-github",
        "colab_type": "text"
      },
      "source": [
        "<a href=\"https://colab.research.google.com/github/rahiakela/coursera-natural-language-processing-specialization/blob/master/course-3-natural-language-processing-with-sequence-models/week-1-Neural%20Networks%20for%20Sentiment%20Analysis/2_classes_and_subclasses.ipynb\" target=\"_parent\"><img src=\"https://colab.research.google.com/assets/colab-badge.svg\" alt=\"Open In Colab\"/></a>"
      ]
    },
    {
      "cell_type": "markdown",
      "metadata": {
        "id": "xai1rdgAolvO"
      },
      "source": [
        "## Classes and subclasses "
      ]
    },
    {
      "cell_type": "markdown",
      "metadata": {
        "id": "Z_y5hb4HotAI"
      },
      "source": [
        "In this notebook, I will show you the basics of classes and subclasses in Python. As you've seen in the lectures from this week, `Trax` uses layer classes as building blocks for deep learning models, so it is important to understand how classes and subclasses behave in order to be able to build custom layers when needed. \n",
        "\n",
        "By completing this notebook, you will:\n",
        "\n",
        "- Be able to define classes and subclasses in Python\n",
        "- Understand how inheritance works in subclasses\n",
        "- Be able to work with instances"
      ]
    },
    {
      "cell_type": "markdown",
      "metadata": {
        "id": "QZjFQU16o0wn"
      },
      "source": [
        "## Part 1: Parameters, methods and instances"
      ]
    },
    {
      "cell_type": "markdown",
      "metadata": {
        "id": "LHAdhInro1bk"
      },
      "source": [
        "First, let's define a class `My_Class`. "
      ]
    },
    {
      "cell_type": "code",
      "metadata": {
        "id": "0ytRaC6PovAi"
      },
      "source": [
        "# Definition of My_class\n",
        "class My_Class:\n",
        "  x = None"
      ],
      "execution_count": 1,
      "outputs": []
    },
    {
      "cell_type": "markdown",
      "metadata": {
        "id": "JbstIHSappK4"
      },
      "source": [
        "`My_Class`  has one parameter `x` without any value. You can think of parameters as the variables that every object assigned to a class will have. So, at this point, any object of class `My_Class` would have a variable `x` equal to `None`. \n",
        "\n",
        "To check this,  I'll create two instances of that class and get the value of `x` for both of them."
      ]
    },
    {
      "cell_type": "code",
      "metadata": {
        "id": "2UFpRby1ps4j",
        "colab": {
          "base_uri": "https://localhost:8080/"
        },
        "outputId": "e3f666bc-65ca-47c3-e4ed-234ccf572b0f"
      },
      "source": [
        "# To create an instance from class \"My_Class\" you have to call \"My_Class\"\n",
        "instance_a = My_Class()\n",
        "instance_b = My_Class()\n",
        "\n",
        "# To get a parameter 'x' from an instance 'a', write 'a.x'\n",
        "print(\"Parameter x of instance_a: \", str(instance_a.x))\n",
        "print(\"Parameter x of instance_b: \", str(instance_b.x))"
      ],
      "execution_count": 2,
      "outputs": [
        {
          "output_type": "stream",
          "text": [
            "Parameter x of instance_a:  None\n",
            "Parameter x of instance_b:  None\n"
          ],
          "name": "stdout"
        }
      ]
    },
    {
      "cell_type": "markdown",
      "metadata": {
        "id": "cowZxij-qSgN"
      },
      "source": [
        "For an existing instance you can assign new values for any of its parameters. In the next cell, assign a value of `5` to the parameter `x` of `instance_a`."
      ]
    },
    {
      "cell_type": "code",
      "metadata": {
        "id": "ytZQYwOjqbRl",
        "colab": {
          "base_uri": "https://localhost:8080/"
        },
        "outputId": "532ef7a2-8ba0-4aaf-c782-04a9478e6f76"
      },
      "source": [
        "### START CODE HERE (1 line) ### \n",
        "instance_a.x = 5\n",
        "### END CODE HERE ###\n",
        "print(\"Parameter x of instance_a: \", str(instance_a.x))"
      ],
      "execution_count": 3,
      "outputs": [
        {
          "output_type": "stream",
          "text": [
            "Parameter x of instance_a:  5\n"
          ],
          "name": "stdout"
        }
      ]
    },
    {
      "cell_type": "markdown",
      "metadata": {
        "id": "0jkS4qYZqkqd"
      },
      "source": [
        "### 1.1 The `__init__` method"
      ]
    },
    {
      "cell_type": "markdown",
      "metadata": {
        "id": "uN3TcXAGqocT"
      },
      "source": [
        "When you want to assign values to the parameters of your class when an instance is created, it is necessary to define a special method: `__init__`. The `__init__` method is called when you create an instance of a class. It can have multiple arguments to initialize the paramenters of your instance. \n",
        "\n",
        "In the next cell, I will define `My_Class` with an `__init__` method that takes the instance (`self`) and an argument `y` as inputs."
      ]
    },
    {
      "cell_type": "code",
      "metadata": {
        "id": "E3_EKt9Wqr_F"
      },
      "source": [
        "# Definition of My_class\n",
        "class My_Class:\n",
        "\n",
        "  # The __init__ method takes as input the instance to be initialized and a variable y\n",
        "  def __init__(self, y):\n",
        "    self.x = y  # Sets parameter x to be equal to y"
      ],
      "execution_count": 4,
      "outputs": []
    },
    {
      "cell_type": "markdown",
      "metadata": {
        "id": "p6Meb5f7rYDJ"
      },
      "source": [
        "In this case, the parameter `x` of an instance from `My_Class` would take the value of an argument `y`. \n",
        "The argument `self` is used to pass information from the instance being created to the method `__init__`. \n",
        "\n",
        "In the next cell, create an instance `instance_c`, with `x` equal to `10`."
      ]
    },
    {
      "cell_type": "code",
      "metadata": {
        "id": "n_a5QY7NrbNZ",
        "colab": {
          "base_uri": "https://localhost:8080/"
        },
        "outputId": "c1429891-c0cf-4e03-bbb0-d037323c24a6"
      },
      "source": [
        "### START CODE HERE (1 line) ### \n",
        "instance_c = My_Class(10)\n",
        "### END CODE HERE ###\n",
        "print('Parameter x of instance_c: ' + str(instance_c.x))"
      ],
      "execution_count": 5,
      "outputs": [
        {
          "output_type": "stream",
          "text": [
            "Parameter x of instance_c: 10\n"
          ],
          "name": "stdout"
        }
      ]
    },
    {
      "cell_type": "markdown",
      "metadata": {
        "id": "xmU8OF3YrmmY"
      },
      "source": [
        "Note that in this case, you had to pass the argument `y` from the `__init__` method to create an instance of `My_Class`."
      ]
    },
    {
      "cell_type": "markdown",
      "metadata": {
        "id": "gkVwqmEWromR"
      },
      "source": [
        "### 1.2 The `__call__` method"
      ]
    },
    {
      "cell_type": "markdown",
      "metadata": {
        "id": "BvtTtzWjrwK7"
      },
      "source": [
        "Another important method is the `__call__` method. It is performed whenever you call an initialized instance of a class. It can have multiple arguments and you can define it to do whatever you want like\n",
        "\n",
        "- Change a parameter, \n",
        "- Print a message,\n",
        "- Create new variables, etc.\n",
        "\n",
        "In the next cell, I'll define `My_Class` with the same `__init__` method as before and with a `__call__` method that adds `z` to parameter `x` and prints the result."
      ]
    },
    {
      "cell_type": "code",
      "metadata": {
        "id": "VujbnemPrzVe"
      },
      "source": [
        "# Definition of My_class\n",
        "class My_Class:\n",
        "\n",
        "  # The __init__ method takes as input the instance to be initialized and a variable y\n",
        "  def __init__(self, y):\n",
        "    self.x = y  # Sets parameter x to be equal to y\n",
        "\n",
        "  # The __call__ method with self and z as arguments\n",
        "  def __call__(self, z):\n",
        "    self.x += z # Adds z to parameter x when called \n",
        "    print(self.x)"
      ],
      "execution_count": 6,
      "outputs": []
    },
    {
      "cell_type": "markdown",
      "metadata": {
        "id": "-rq98rBmsTMw"
      },
      "source": [
        "Let’s create `instance_d` with `x` equal to 5."
      ]
    },
    {
      "cell_type": "code",
      "metadata": {
        "id": "mTHUMgCDsUR9"
      },
      "source": [
        "instance_d = My_Class(5)"
      ],
      "execution_count": 7,
      "outputs": []
    },
    {
      "cell_type": "markdown",
      "metadata": {
        "id": "2dIwzmPPsZ5W"
      },
      "source": [
        "And now, see what happens when `instance_d` is called with argument `10`."
      ]
    },
    {
      "cell_type": "code",
      "metadata": {
        "id": "RzGvMvGysXSL",
        "colab": {
          "base_uri": "https://localhost:8080/"
        },
        "outputId": "9f4d4e76-b665-4736-8dd1-562fc3e7d428"
      },
      "source": [
        "instance_d(10)"
      ],
      "execution_count": 8,
      "outputs": [
        {
          "output_type": "stream",
          "text": [
            "15\n"
          ],
          "name": "stdout"
        }
      ]
    },
    {
      "cell_type": "markdown",
      "metadata": {
        "id": "Y9mwqluIsg7f"
      },
      "source": [
        "Now, you are ready to complete the following cell so any instance from `My_Class`:\n",
        "\n",
        "- Is initialized taking two arguments `y` and `z` and assigns them to `x_1` and `x_2`, respectively. And, \n",
        "- When called, takes the values of the parameters `x_1` and `x_2`, sums them, prints  and returns the result."
      ]
    },
    {
      "cell_type": "code",
      "metadata": {
        "id": "j_YeZ7D7sd4J"
      },
      "source": [
        "# Definition of My_class\n",
        "class My_Class:\n",
        "\n",
        "  # Initialization of x_1 and x_2 with arguments y and z\n",
        "  def __init__(self, y, z):\n",
        "    self.x_1 = y  \n",
        "    self.x_2 = z\n",
        "\n",
        "  # When called, adds the values of parameters x_1 and x_2, prints and returns the result \n",
        "  def __call__(self):\n",
        "    result = self.x_1 + self.x_2\n",
        "    print(\"Addition of {} and {} is {}\".format(self.x_1, self.x_2, result))\n",
        "    return result"
      ],
      "execution_count": 9,
      "outputs": []
    },
    {
      "cell_type": "markdown",
      "metadata": {
        "id": "jVO1JfKntO46"
      },
      "source": [
        "Run the next cell to check your implementation. If everything is correct, you shouldn't get any errors."
      ]
    },
    {
      "cell_type": "code",
      "metadata": {
        "id": "PKQNHMGktMOu"
      },
      "source": [
        "instance_e = My_Class(10, 15)\n",
        "\n",
        "def test_class_definition():\n",
        "  assert instance_e.x_1 == 10, \"Check the value assigned to x_1\"\n",
        "  assert instance_e.x_2 == 15, \"Check the value assigned to x_2\"\n",
        "  assert instance_e() == 25, \"Check the __call__ method\"\n",
        "\n",
        "  print(\"\\033[92mAll tests passed!\")"
      ],
      "execution_count": 10,
      "outputs": []
    },
    {
      "cell_type": "code",
      "metadata": {
        "id": "mRD2yGo4tyuS",
        "colab": {
          "base_uri": "https://localhost:8080/"
        },
        "outputId": "73dc8e2b-72e3-4628-bd18-95a7ae162987"
      },
      "source": [
        "test_class_definition()"
      ],
      "execution_count": 11,
      "outputs": [
        {
          "output_type": "stream",
          "text": [
            "Addition of 10 and 15 is 25\n",
            "\u001b[92mAll tests passed!\n"
          ],
          "name": "stdout"
        }
      ]
    },
    {
      "cell_type": "markdown",
      "metadata": {
        "id": "ItmkY7bxt52A"
      },
      "source": [
        "### 1.3 Custom methods"
      ]
    },
    {
      "cell_type": "markdown",
      "metadata": {
        "id": "ldylQf4ut6uo"
      },
      "source": [
        "In addition to the `__init__` and `__call__` methods, your classes can have custom-built methods to do whatever you want when called. To define a custom method, you have to indicate its input arguments, the instructions that you want it to perform and the values to return (if any). \n",
        "\n",
        "In the next cell, `My_Class` is defined with `my_method` that multiplies the values of `x_1` and `x_2`, sums that product with an input `w`, and returns the result."
      ]
    },
    {
      "cell_type": "code",
      "metadata": {
        "id": "CcjsvFPdt0oQ"
      },
      "source": [
        "# Definition of My_class\n",
        "class My_Class:\n",
        "\n",
        "  # Initialization of x_1 and x_2 with arguments y and z\n",
        "  def __init__(self, y, z):\n",
        "    self.x_1 = y  \n",
        "    self.x_2 = z\n",
        "\n",
        "  # Performs an operation with x_1 and x_2, and returns the result\n",
        "  def __call__(self):\n",
        "    a = self.x_1 - 2 * self.x_2\n",
        "    return a\n",
        "\n",
        "  # Multiplies x_1 and x_2, adds argument w and returns the result\n",
        "  def my_method(self, w):\n",
        "    result = self.x_1 * self.x_2 + w\n",
        "\n",
        "    return result"
      ],
      "execution_count": 12,
      "outputs": []
    },
    {
      "cell_type": "markdown",
      "metadata": {
        "id": "DeO3QwTv1qCR"
      },
      "source": [
        "Create an instance `instance_f` of `My_Class` with any integer values that you want for `x_1` and `x_2`. \n",
        "\n",
        "For that instance, see the result of calling `My_method`, with an argument `w` equal to `16`."
      ]
    },
    {
      "cell_type": "code",
      "metadata": {
        "id": "u_cfUDVB1nlm",
        "colab": {
          "base_uri": "https://localhost:8080/"
        },
        "outputId": "24adc617-4d07-4ffc-a954-c07c5927590e"
      },
      "source": [
        "### START CODE HERE (1 line) ### \n",
        "instance_f = My_Class(1,10)\n",
        "### END CODE HERE ### \n",
        "print(\"Output of my_method:\", instance_f.my_method(16))"
      ],
      "execution_count": 13,
      "outputs": [
        {
          "output_type": "stream",
          "text": [
            "Output of my_method: 26\n"
          ],
          "name": "stdout"
        }
      ]
    },
    {
      "cell_type": "markdown",
      "metadata": {
        "id": "cAyTP3LD19pR"
      },
      "source": [
        "As you can corroborate in the previous cell, to call a custom method `m`, with arguments `args`, for an instance `i` you must write `i.m(args)`. With that in mind, methods can call others within a class. \n",
        "\n",
        "In the following cell, try to define `new_method` which calls `my_method` with `v` as input argument. Try to do this on your own in the cell given below.\n",
        "\n"
      ]
    },
    {
      "cell_type": "code",
      "metadata": {
        "id": "OJp0Jsnn13bZ"
      },
      "source": [
        "# Definition of My_class\n",
        "class My_Class:\n",
        "\n",
        "  # Initialization of x_1 and x_2 with arguments y and z\n",
        "  def __init__(self, y, z):\n",
        "    self.x_1 = y  \n",
        "    self.x_2 = z\n",
        "\n",
        "  # Performs an operation with x_1 and x_2, and returns the result\n",
        "  def __call__(self):\n",
        "    a = self.x_1 - 2 * self.x_2\n",
        "    return a\n",
        "\n",
        "  # Multiplies x_1 and x_2, adds argument w and returns the result\n",
        "  def my_method(self, w):\n",
        "    b = self.x_1 * self.x_2 + w\n",
        "    return b\n",
        "\n",
        "  # Calls My_method with argument v\n",
        "  def new_method(self, v):\n",
        "    result = self.my_method(v)\n",
        "    return result"
      ],
      "execution_count": 14,
      "outputs": []
    },
    {
      "cell_type": "markdown",
      "metadata": {
        "id": "kTpw8f-G2l8_"
      },
      "source": [
        "<b>SPOILER ALERT</b> Solution:"
      ]
    },
    {
      "cell_type": "code",
      "metadata": {
        "id": "9agW2nD22iWF"
      },
      "source": [
        "# Definition of My_class\n",
        "class My_Class:\n",
        "\n",
        "  # Initialization of x_1 and x_2 with arguments y and z\n",
        "  def __init__(self, y, z):\n",
        "    self.x_1 = y  \n",
        "    self.x_2 = z\n",
        "\n",
        "  # Performs an operation with x_1 and x_2, and returns the result\n",
        "  def __call__(self):\n",
        "    a = self.x_1 - 2 * self.x_2\n",
        "    return a\n",
        "\n",
        "  # Multiplies x_1 and x_2, adds argument w and returns the result\n",
        "  def my_method(self, w):\n",
        "    b = self.x_1 * self.x_2 + w\n",
        "    return b\n",
        "\n",
        "  # Calls My_method with argument v\n",
        "  def new_method(self, v):\n",
        "    result = self.my_method(v)\n",
        "    return result"
      ],
      "execution_count": 15,
      "outputs": []
    },
    {
      "cell_type": "code",
      "metadata": {
        "id": "GD5CPqqC23an",
        "colab": {
          "base_uri": "https://localhost:8080/"
        },
        "outputId": "e961b0b5-599a-403f-b241-82f7e3d62211"
      },
      "source": [
        "instance_g = My_Class(1, 10)\n",
        "print(\"Output of my_method:\", instance_g.my_method(16))\n",
        "print(\"Output of new_method:\", instance_g.new_method(16))"
      ],
      "execution_count": 16,
      "outputs": [
        {
          "output_type": "stream",
          "text": [
            "Output of my_method: 26\n",
            "Output of new_method: 26\n"
          ],
          "name": "stdout"
        }
      ]
    },
    {
      "cell_type": "markdown",
      "metadata": {
        "id": "aS3aQNf429kc"
      },
      "source": [
        "## Part 2: Subclasses and Inheritance"
      ]
    },
    {
      "cell_type": "markdown",
      "metadata": {
        "id": "gMo8iy0A2_Ms"
      },
      "source": [
        "`Trax` uses classes and subclasses to define layers. The base class in `Trax` is `layer`, which means that every layer from a deep learning model is defined as a subclass of the `layer` class. In this part of the notebook, you are going to see how subclasses work. To define a subclass `sub` from class `super`, you have to write `class sub(super):` and define any method and parameter that you want for your subclass. \n",
        "\n",
        "In the next cell, I define `My_Sub_Class` as a subclass of `My_Class` with only one method (`additional_method`)."
      ]
    },
    {
      "cell_type": "code",
      "metadata": {
        "id": "pWSmzNVE27Sz"
      },
      "source": [
        "# Subclass My_Sub_Class from My_class\n",
        "class My_Sub_Class(My_Class):\n",
        "  # Prints the value of parameter x_1\n",
        "  def additional_method(self):\n",
        "    print(self.x_1)"
      ],
      "execution_count": 17,
      "outputs": []
    },
    {
      "cell_type": "markdown",
      "metadata": {
        "id": "9qETdKbj4yer"
      },
      "source": [
        "### 2.1 Inheritance"
      ]
    },
    {
      "cell_type": "markdown",
      "metadata": {
        "id": "sR5b2q7a4zZA"
      },
      "source": [
        "When you define a subclass `sub`, every method and parameter is inherited from `super` class, including the `__init__` and `__call__` methods. This means that any instance from `sub` can use the methods defined in `super`.  \n",
        "\n",
        "Run the following cell and see for yourself."
      ]
    },
    {
      "cell_type": "code",
      "metadata": {
        "id": "yF4qdcON43T6",
        "colab": {
          "base_uri": "https://localhost:8080/"
        },
        "outputId": "a29006bf-8408-4b6e-e4bf-0c55eee0a106"
      },
      "source": [
        "instance_sub_a = My_Sub_Class(1, 10)\n",
        "print(\"Parameter x_1 of instance_sub_a: \", str(instance_sub_a.x_1))\n",
        "print(\"Parameter x_2 of instance_sub_a: \", str(instance_sub_a.x_2))\n",
        "print(\"Output of my_method of instance_sub_a: \", str(instance_sub_a.my_method(16)))"
      ],
      "execution_count": 18,
      "outputs": [
        {
          "output_type": "stream",
          "text": [
            "Parameter x_1 of instance_sub_a:  1\n",
            "Parameter x_2 of instance_sub_a:  10\n",
            "Output of my_method of instance_sub_a:  26\n"
          ],
          "name": "stdout"
        }
      ]
    },
    {
      "cell_type": "markdown",
      "metadata": {
        "id": "DKFI1wz85dPz"
      },
      "source": [
        "As you can see, `My_Sub_Class` does not have an initialization method `__init__`, it is inherited from `My_class`. However, you can overwrite any method you want by defining it again in the subclass. \n",
        "\n",
        "For instance, in the next cell define a class `My_Sub_Class` with a redefined `my_Method` that multiplies `x_1` and `x_2` but does not add any additional argument."
      ]
    },
    {
      "cell_type": "code",
      "metadata": {
        "id": "-R3t2m-z5YUk"
      },
      "source": [
        "# Subclass My_Sub_Class from My_class\n",
        "class My_Sub_Class(My_Class):\n",
        "  # Overwrite the parent method: Multiplies x_1 and x_2 and returns the result\n",
        "  def my_method(self):\n",
        "    b = self.x_1 * self.x_2\n",
        "    return b"
      ],
      "execution_count": 19,
      "outputs": []
    },
    {
      "cell_type": "markdown",
      "metadata": {
        "id": "2ilF9iuB6GrX"
      },
      "source": [
        "To check your implementation run the following cell."
      ]
    },
    {
      "cell_type": "code",
      "metadata": {
        "id": "xap0rfIt6PjS",
        "colab": {
          "base_uri": "https://localhost:8080/"
        },
        "outputId": "3fc48476-0b3c-4265-8720-436a3272344c"
      },
      "source": [
        "test = My_Sub_Class(3, 10)\n",
        "assert test.my_method() == 30, \"The method my_method should return the product between x_1 and x_2\"\n",
        "\n",
        "# notice we didn't pass any parameter to call my_method\n",
        "print(\"Output of overridden my_method of test:\", test.my_method())"
      ],
      "execution_count": 20,
      "outputs": [
        {
          "output_type": "stream",
          "text": [
            "Output of overridden my_method of test: 30\n"
          ],
          "name": "stdout"
        }
      ]
    },
    {
      "cell_type": "code",
      "metadata": {
        "id": "y228LsH-6lGt",
        "colab": {
          "base_uri": "https://localhost:8080/",
          "height": 185
        },
        "outputId": "0f9db47a-a10f-4c5f-9f0b-e68b87ea0b42"
      },
      "source": [
        "# try to see what happens if you call it with 1 argument\n",
        "print(\"Output of overridden my_method of test:\", test.my_method(16))"
      ],
      "execution_count": 21,
      "outputs": [
        {
          "output_type": "error",
          "ename": "TypeError",
          "evalue": "ignored",
          "traceback": [
            "\u001b[0;31m---------------------------------------------------------------------------\u001b[0m",
            "\u001b[0;31mTypeError\u001b[0m                                 Traceback (most recent call last)",
            "\u001b[0;32m<ipython-input-21-fb89550a26d2>\u001b[0m in \u001b[0;36m<module>\u001b[0;34m()\u001b[0m\n\u001b[1;32m      1\u001b[0m \u001b[0;31m# try to see what happens if you call it with 1 argument\u001b[0m\u001b[0;34m\u001b[0m\u001b[0;34m\u001b[0m\u001b[0;34m\u001b[0m\u001b[0m\n\u001b[0;32m----> 2\u001b[0;31m \u001b[0mprint\u001b[0m\u001b[0;34m(\u001b[0m\u001b[0;34m\"Output of overridden my_method of test:\"\u001b[0m\u001b[0;34m,\u001b[0m \u001b[0mtest\u001b[0m\u001b[0;34m.\u001b[0m\u001b[0mmy_method\u001b[0m\u001b[0;34m(\u001b[0m\u001b[0;36m16\u001b[0m\u001b[0;34m)\u001b[0m\u001b[0;34m)\u001b[0m\u001b[0;34m\u001b[0m\u001b[0;34m\u001b[0m\u001b[0m\n\u001b[0m",
            "\u001b[0;31mTypeError\u001b[0m: my_method() takes 1 positional argument but 2 were given"
          ]
        }
      ]
    },
    {
      "cell_type": "markdown",
      "metadata": {
        "id": "2VY9JXRF64Ph"
      },
      "source": [
        "\n",
        "\n",
        "In the next cell, two instances are created, one of `My_Class` and another one of `My_Sub_Class`. The instances are initialized with equal `x_1` and `x_2` parameters."
      ]
    },
    {
      "cell_type": "code",
      "metadata": {
        "id": "mkJfdSH86psC",
        "colab": {
          "base_uri": "https://localhost:8080/"
        },
        "outputId": "bb2fdf21-65f4-4948-fdcd-91b466bba4a0"
      },
      "source": [
        "y, z= 1,10\n",
        "instance_sub_a = My_Sub_Class(y,z)\n",
        "instance_a = My_Class(y, z)\n",
        "print('My_method for an instance of sub_c returns: ' + str(instance_sub_a.my_method()))\n",
        "print('My_method for an instance of My_Class returns: ' + str(instance_a.my_method(10)))"
      ],
      "execution_count": 22,
      "outputs": [
        {
          "output_type": "stream",
          "text": [
            "My_method for an instance of sub_c returns: 10\n",
            "My_method for an instance of My_Class returns: 20\n"
          ],
          "name": "stdout"
        }
      ]
    },
    {
      "cell_type": "markdown",
      "metadata": {
        "id": "BlWWudVN7IzM"
      },
      "source": [
        "As you can see, even though `My_Sub_Class` is a subclass from `My_Class` and both instances are initialized with the same values, `My_method` returns different results for each instance because you overwrote `My_method` for `My_Sub_Class`.\n",
        "\n",
        "<b>Congratulations!</b> \n",
        "\n",
        "You just reviewed the basics behind classes and subclasses. Now you can define your own classes and subclasses, work with instances and overwrite inherited methods. The concepts within this notebook are more than enough to understand how layers in `Trax` work."
      ]
    }
  ]
}