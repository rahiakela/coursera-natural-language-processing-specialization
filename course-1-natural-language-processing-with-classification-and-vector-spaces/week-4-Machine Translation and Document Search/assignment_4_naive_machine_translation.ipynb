{
  "nbformat": 4,
  "nbformat_minor": 0,
  "metadata": {
    "colab": {
      "name": "assignment-4-naive-machine-translation.ipynb",
      "provenance": [],
      "toc_visible": true,
      "authorship_tag": "ABX9TyNAhnMxMcniHgOgfkdBBANu",
      "include_colab_link": true
    },
    "kernelspec": {
      "name": "python3",
      "display_name": "Python 3"
    }
  },
  "cells": [
    {
      "cell_type": "markdown",
      "metadata": {
        "id": "view-in-github",
        "colab_type": "text"
      },
      "source": [
        "<a href=\"https://colab.research.google.com/github/rahiakela/coursera-natural-language-processing-specialization/blob/master/course-1-natural-language-processing-with-classification-and-vector-spaces/week-4-Machine%20Translation%20and%20Document%20Search/assignment_4_naive_machine_translation.ipynb\" target=\"_parent\"><img src=\"https://colab.research.google.com/assets/colab-badge.svg\" alt=\"Open In Colab\"/></a>"
      ]
    },
    {
      "cell_type": "markdown",
      "metadata": {
        "id": "TF7A32-VqtoI"
      },
      "source": [
        "# Assignment 4 - Naive Machine Translation and LSH"
      ]
    },
    {
      "cell_type": "markdown",
      "metadata": {
        "id": "YjD0KxMMq7fT"
      },
      "source": [
        "You will now implement your first machine translation system and then you\n",
        "will see how locality sensitive hashing works. Let's get started by importing\n",
        "the required functions!\n",
        "\n",
        "If you are running this notebook in your local computer, don't forget to\n",
        "download the twitter samples and stopwords from nltk.\n",
        "\n",
        "```\n",
        "nltk.download('stopwords')\n",
        "nltk.download('twitter_samples')\n",
        "```"
      ]
    },
    {
      "cell_type": "markdown",
      "metadata": {
        "id": "FZIfE98RrsCd"
      },
      "source": [
        "## Setup"
      ]
    },
    {
      "cell_type": "code",
      "metadata": {
        "id": "R3KNn51D9YEa"
      },
      "source": [
        "%%shell\r\n",
        "\r\n",
        "wget https://raw.githubusercontent.com/rahiakela/coursera-natural-language-processing-specialization/master/course-1-natural-language-processing-with-classification-and-vector-spaces/week-4-Machine%20Translation%20and%20Document%20Search/utils.py\r\n",
        "wget https://raw.githubusercontent.com/rahiakela/coursera-natural-language-processing-specialization/master/course-1-natural-language-processing-with-classification-and-vector-spaces/week-4-Machine%20Translation%20and%20Document%20Search/utils_nb.py\r\n",
        "\r\n",
        "\r\n",
        "wget https://raw.githubusercontent.com/rahiakela/coursera-natural-language-processing-specialization/master/course-1-natural-language-processing-with-classification-and-vector-spaces/week-4-Machine%20Translation%20and%20Document%20Search/en-fr.train.txt\r\n",
        "wget https://raw.githubusercontent.com/rahiakela/coursera-natural-language-processing-specialization/master/course-1-natural-language-processing-with-classification-and-vector-spaces/week-4-Machine%20Translation%20and%20Document%20Search/en-fr.test.txt"
      ],
      "execution_count": null,
      "outputs": []
    },
    {
      "cell_type": "code",
      "metadata": {
        "id": "YA7uRzstq8AA"
      },
      "source": [
        "import pdb\n",
        "import pickle\n",
        "import string\n",
        "\n",
        "import time\n",
        "\n",
        "import gensim\n",
        "import matplotlib.pyplot as plt\n",
        "import nltk\n",
        "import numpy as np\n",
        "import scipy\n",
        "import sklearn\n",
        "from gensim.models import KeyedVectors\n",
        "from nltk.corpus import stopwords, twitter_samples\n",
        "from nltk.tokenize import TweetTokenizer\n",
        "\n",
        "from utils import cosine_similarity, get_dict, process_tweet\n",
        "from os import getcwd"
      ],
      "execution_count": 2,
      "outputs": []
    },
    {
      "cell_type": "code",
      "metadata": {
        "id": "81AK2MdVrUkT",
        "colab": {
          "base_uri": "https://localhost:8080/"
        },
        "outputId": "4e793d45-ece7-4507-f58f-fcb308b2214e"
      },
      "source": [
        "nltk.download('stopwords')\n",
        "nltk.download('twitter_samples')"
      ],
      "execution_count": 3,
      "outputs": [
        {
          "output_type": "stream",
          "text": [
            "[nltk_data] Downloading package stopwords to /root/nltk_data...\n",
            "[nltk_data]   Unzipping corpora/stopwords.zip.\n",
            "[nltk_data] Downloading package twitter_samples to /root/nltk_data...\n",
            "[nltk_data]   Unzipping corpora/twitter_samples.zip.\n"
          ],
          "name": "stdout"
        },
        {
          "output_type": "execute_result",
          "data": {
            "text/plain": [
              "True"
            ]
          },
          "metadata": {
            "tags": []
          },
          "execution_count": 3
        }
      ]
    },
    {
      "cell_type": "code",
      "metadata": {
        "id": "Exu3Dx_Gre0S"
      },
      "source": [
        "# add folder, tmp2, from our local workspace containing pre-downloaded corpora files to nltk's data path\n",
        "filePath = f\"{getcwd()}/../tmp2/\"\n",
        "nltk.data.path.append(filePath)"
      ],
      "execution_count": 4,
      "outputs": []
    },
    {
      "cell_type": "markdown",
      "metadata": {
        "id": "1BbiBg0PrkKS"
      },
      "source": [
        "## 1- The word embeddings data for English and French words"
      ]
    },
    {
      "cell_type": "markdown",
      "metadata": {
        "id": "FMqvuPLKrmtW"
      },
      "source": [
        "Write a program that translates English to French."
      ]
    },
    {
      "cell_type": "markdown",
      "metadata": {
        "id": "t12bQrB0r4H-"
      },
      "source": [
        "### The data"
      ]
    },
    {
      "cell_type": "markdown",
      "metadata": {
        "id": "_X9C8WZ-r6HC"
      },
      "source": [
        "The full dataset for English embeddings is about 3.64 gigabytes, and the French\n",
        "embeddings are about 629 megabytes. To prevent the Coursera workspace from\n",
        "crashing, we've extracted a subset of the embeddings for the words that you'll\n",
        "use in this assignment.\n",
        "\n",
        "If you want to run this on your local computer and use the full dataset,\n",
        "you can download the\n",
        "* English embeddings from Google code archive word2vec\n",
        "[look for GoogleNews-vectors-negative300.bin.gz](https://code.google.com/archive/p/word2vec/)\n",
        "    * You'll need to unzip the file first.\n",
        "* and the French embeddings from\n",
        "[cross_lingual_text_classification](https://github.com/vjstark/crosslingual_text_classification).\n",
        "    * in the terminal, type (in one line)\n",
        "    `curl -o ./wiki.multi.fr.vec https://dl.fbaipublicfiles.com/arrival/vectors/wiki.multi.fr.vec`\n",
        "\n",
        "Then copy-paste the code below and run it."
      ]
    },
    {
      "cell_type": "code",
      "metadata": {
        "id": "yyNwfLlLtXun",
        "colab": {
          "base_uri": "https://localhost:8080/"
        },
        "outputId": "8ae68589-648c-40fd-d109-32a42265ef1e"
      },
      "source": [
        "!wget \"https://s3.amazonaws.com/dl4j-distribution/GoogleNews-vectors-negative300.bin.gz\""
      ],
      "execution_count": 5,
      "outputs": [
        {
          "output_type": "stream",
          "text": [
            "--2021-02-08 04:49:35--  https://s3.amazonaws.com/dl4j-distribution/GoogleNews-vectors-negative300.bin.gz\n",
            "Resolving s3.amazonaws.com (s3.amazonaws.com)... 52.216.186.133\n",
            "Connecting to s3.amazonaws.com (s3.amazonaws.com)|52.216.186.133|:443... connected.\n",
            "HTTP request sent, awaiting response... 200 OK\n",
            "Length: 1647046227 (1.5G) [application/x-gzip]\n",
            "Saving to: ‘GoogleNews-vectors-negative300.bin.gz’\n",
            "\n",
            "GoogleNews-vectors- 100%[===================>]   1.53G  94.4MB/s    in 16s     \n",
            "\n",
            "2021-02-08 04:49:52 (95.4 MB/s) - ‘GoogleNews-vectors-negative300.bin.gz’ saved [1647046227/1647046227]\n",
            "\n"
          ],
          "name": "stdout"
        }
      ]
    },
    {
      "cell_type": "code",
      "metadata": {
        "id": "W5uSPT03r9cz",
        "colab": {
          "base_uri": "https://localhost:8080/"
        },
        "outputId": "9f33be88-caf0-488f-f640-f3c7eedce86d"
      },
      "source": [
        "!curl -o ./wiki.multi.fr.vec https://dl.fbaipublicfiles.com/arrival/vectors/wiki.multi.fr.vec"
      ],
      "execution_count": 6,
      "outputs": [
        {
          "output_type": "stream",
          "text": [
            "  % Total    % Received % Xferd  Average Speed   Time    Time     Time  Current\n",
            "                                 Dload  Upload   Total   Spent    Left  Speed\n",
            "100  599M  100  599M    0     0  25.9M      0  0:00:23  0:00:23 --:--:-- 26.6M\n"
          ],
          "name": "stdout"
        }
      ]
    },
    {
      "cell_type": "code",
      "metadata": {
        "id": "OvjtzUaRs4I0"
      },
      "source": [
        "# unzip the file\n",
        "!gunzip GoogleNews-vectors-negative300.bin.gz"
      ],
      "execution_count": 7,
      "outputs": []
    },
    {
      "cell_type": "code",
      "metadata": {
        "id": "vqqaHDHbuNBZ",
        "colab": {
          "base_uri": "https://localhost:8080/"
        },
        "outputId": "8e13c224-ddde-4dd3-bdc7-d10d25add43f"
      },
      "source": [
        "# Use this code to download and process the full dataset on your local computer\n",
        "from gensim.models import KeyedVectors\n",
        " \n",
        "en_embeddings = KeyedVectors.load_word2vec_format('./GoogleNews-vectors-negative300.bin', binary = True)\n",
        "fr_embeddings = KeyedVectors.load_word2vec_format('./wiki.multi.fr.vec')\n",
        " \n",
        "# loading the english to french dictionaries\n",
        "en_fr_train = get_dict('en-fr.train.txt')\n",
        "print('The length of the english to french training dictionary is', len(en_fr_train))\n",
        "en_fr_test = get_dict('en-fr.test.txt')\n",
        "print('The length of the english to french test dictionary is', len(en_fr_train))\n",
        " \n",
        "english_set = set(en_embeddings.vocab)\n",
        "french_set = set(fr_embeddings.vocab)\n",
        "en_embeddings_subset = {}\n",
        "fr_embeddings_subset = {}\n",
        "french_words = set(en_fr_train.values())\n",
        " \n",
        "for en_word in en_fr_train.keys():\n",
        "    fr_word = en_fr_train[en_word]\n",
        "    if fr_word in french_set and en_word in english_set:\n",
        "        en_embeddings_subset[en_word] = en_embeddings[en_word]\n",
        "        fr_embeddings_subset[fr_word] = fr_embeddings[fr_word]\n",
        " \n",
        "for en_word in en_fr_test.keys():\n",
        "    fr_word = en_fr_test[en_word]\n",
        "    if fr_word in french_set and en_word in english_set:\n",
        "        en_embeddings_subset[en_word] = en_embeddings[en_word]\n",
        "        fr_embeddings_subset[fr_word] = fr_embeddings[fr_word]\n",
        " \n",
        "pickle.dump(en_embeddings_subset, open(\"en_embeddings.p\", \"wb\"))\n",
        "pickle.dump(fr_embeddings_subset, open(\"fr_embeddings.p\", \"wb\"))"
      ],
      "execution_count": 10,
      "outputs": [
        {
          "output_type": "stream",
          "text": [
            "The length of the english to french training dictionary is 5000\n",
            "The length of the english to french test dictionary is 5000\n"
          ],
          "name": "stdout"
        }
      ]
    },
    {
      "cell_type": "markdown",
      "metadata": {
        "id": "fLeMDKTfxLer"
      },
      "source": [
        "#### The subset of data"
      ]
    },
    {
      "cell_type": "markdown",
      "metadata": {
        "id": "3t0RAyHvxMqy"
      },
      "source": [
        "To do the assignment on the Coursera workspace, we'll use the subset of word embeddings."
      ]
    },
    {
      "cell_type": "code",
      "metadata": {
        "id": "4QjZjro4wdSP"
      },
      "source": [
        "en_embeddings_subset = pickle.load(open(\"en_embeddings.p\", \"rb\"))\n",
        "fr_embeddings_subset = pickle.load(open(\"fr_embeddings.p\", \"rb\"))"
      ],
      "execution_count": 11,
      "outputs": []
    },
    {
      "cell_type": "markdown",
      "metadata": {
        "id": "eX6wosZcxTTe"
      },
      "source": [
        "#### Look at the data"
      ]
    },
    {
      "cell_type": "markdown",
      "metadata": {
        "id": "0jZO3_z2xWG7"
      },
      "source": [
        "* en_embeddings_subset: the key is an English word, and the vaule is a\n",
        "300 dimensional array, which is the embedding for that word.\n",
        "```\n",
        "'the': array([ 0.08007812,  0.10498047,  0.04980469,  0.0534668 , -0.06738281, ....\n",
        "```\n",
        "\n",
        "* fr_embeddings_subset: the key is an French word, and the vaule is a 300\n",
        "dimensional array, which is the embedding for that word.\n",
        "```\n",
        "'la': array([-6.18250e-03, -9.43867e-04, -8.82648e-03,  3.24623e-02,...\n",
        "```"
      ]
    },
    {
      "cell_type": "markdown",
      "metadata": {
        "id": "GllXB-jZyb_Q"
      },
      "source": [
        "#### Load two dictionaries mapping the English to French words"
      ]
    },
    {
      "cell_type": "markdown",
      "metadata": {
        "id": "8_0mUCqdycdJ"
      },
      "source": [
        "* A training dictionary\n",
        "* and a testing dictionary."
      ]
    },
    {
      "cell_type": "code",
      "metadata": {
        "id": "aXXmY6oQxXJX",
        "colab": {
          "base_uri": "https://localhost:8080/"
        },
        "outputId": "23d2ba17-3464-4e2b-8692-a7f83d116003"
      },
      "source": [
        "# loading the english to french dictionaries\n",
        "en_fr_train = get_dict('en-fr.train.txt')\n",
        "print('The length of the English to French training dictionary is', len(en_fr_train))\n",
        "\n",
        "en_fr_test = get_dict('en-fr.test.txt')\n",
        "print('The length of the English to French test dictionary is', len(en_fr_train))"
      ],
      "execution_count": 12,
      "outputs": [
        {
          "output_type": "stream",
          "text": [
            "The length of the English to French training dictionary is 5000\n",
            "The length of the English to French test dictionary is 5000\n"
          ],
          "name": "stdout"
        }
      ]
    },
    {
      "cell_type": "markdown",
      "metadata": {
        "id": "LP6tt_bcStYa"
      },
      "source": [
        "#### Looking at the English French dictionary"
      ]
    },
    {
      "cell_type": "markdown",
      "metadata": {
        "id": "VI7gJ5czSuLT"
      },
      "source": [
        "* `en_fr_train` is a dictionary where the key is the English word and the value\n",
        "is the French translation of that English word.\n",
        "```\n",
        "{'the': 'la',\n",
        " 'and': 'et',\n",
        " 'was': 'était',\n",
        " 'for': 'pour',\n",
        "```\n",
        "\n",
        "* `en_fr_test` is similar to `en_fr_train`, but is a test set.  We won't look at it\n",
        "until we get to testing."
      ]
    },
    {
      "cell_type": "markdown",
      "metadata": {
        "id": "1_-mxwQASzat"
      },
      "source": [
        "### 1.1 Generate embedding and transform matrices"
      ]
    },
    {
      "cell_type": "markdown",
      "metadata": {
        "id": "e5MzLUNBS0C8"
      },
      "source": [
        "#### Exercise: Translating English dictionary to French by using embeddings"
      ]
    },
    {
      "cell_type": "markdown",
      "metadata": {
        "id": "3iJss9IJS4aG"
      },
      "source": [
        "You will now implement a function `get_matrices`, which takes the loaded data\n",
        "and returns matrices `X` and `Y`.\n",
        "\n",
        "Inputs:\n",
        "- `en_fr` : English to French dictionary\n",
        "- `en_embeddings` : English to embeddings dictionary\n",
        "- `fr_embeddings` : French to embeddings dictionary\n",
        "\n",
        "Returns:\n",
        "- Matrix `X` and matrix `Y`, where each row in X is the word embedding for an\n",
        "english word, and the same row in Y is the word embedding for the French\n",
        "version of that English word.\n",
        "\n",
        "<img src='https://github.com/rahiakela/img-repo/blob/master/deeplearning.ai-NLPS/X_to_Y.jpg?raw=1' width='800'/>\n",
        "\n",
        "Use the `en_fr` dictionary to ensure that the ith row in the `X` matrix\n",
        "corresponds to the ith row in the `Y` matrix.\n",
        "\n",
        "**Instructions**: Complete the function `get_matrices()`:\n",
        "* Iterate over English words in `en_fr` dictionary.\n",
        "* Check if the word have both English and French embedding."
      ]
    },
    {
      "cell_type": "markdown",
      "metadata": {
        "id": "I_mHvNnCS-cK"
      },
      "source": [
        "<details>\n",
        "<summary>\n",
        "    <font size=\"3\" color=\"darkgreen\"><b>Hints</b></font>\n",
        "</summary>\n",
        "    <p>\n",
        "        <ul>\n",
        "            <li><a href=\"https://realpython.com/python-sets/#set-size-and-membership\" >Sets</a> are useful data structures that can be used to check if an item is a member of a group.</li>\n",
        "            <li>You can get words which are embedded into the language by using <a href=\"https://www.w3schools.com/python/ref_dictionary_keys.asp\"> keys</a> method.</li>\n",
        "            <li>Keep vectors in `X` and `Y` sorted in list. You can use <a href=\"https://docs.scipy.org/doc/numpy-1.13.0/reference/generated/numpy.ma.vstack.html\"> np.vstack()</a> to merge them into the numpy matrix. </li>\n",
        "            <li><a href=\"https://docs.scipy.org/doc/numpy/reference/generated/numpy.vstack.html\">numpy.vstack</a> stacks the items in a list as rows in a matrix.</li>\n",
        "        </ul>\n",
        "    </p>"
      ]
    },
    {
      "cell_type": "code",
      "metadata": {
        "id": "1pBbNRquTChf"
      },
      "source": [
        "# UNQ_C1 (UNIQUE CELL IDENTIFIER, DO NOT EDIT)\n",
        "def get_matrices(en_fr, french_vectors, english_vectors):\n",
        "  \"\"\"\n",
        "  Input:\n",
        "      en_fr: English to French dictionary\n",
        "      french_vectors: French words to their corresponding word embeddings.\n",
        "      english_vectors: English words to their corresponding word embeddings.\n",
        "  Output: \n",
        "      X: a matrix where the columns are the English embeddings.\n",
        "      Y: a matrix where the columns correspong to the French embeddings.\n",
        "      R: the projection matrix that minimizes the F norm ||X R -Y||^2.\n",
        "  \"\"\"\n",
        "  ### START CODE HERE (REPLACE INSTANCES OF 'None' with your code) ###\n",
        "\n",
        "  # X_l and Y_l are lists of the english and french word embeddings\n",
        "  X_l = list()\n",
        "  Y_l = list()\n",
        "\n",
        "  # get the english words (the keys in the dictionary) and store in a set()\n",
        "  english_set = english_vectors.keys()\n",
        "  # get the french words (keys in the dictionary) and store in a set()\n",
        "  french_set = french_vectors.keys()\n",
        "\n",
        "  # store the french words that are part of the english-french dictionary (these are the values of the dictionary)\n",
        "  french_words = set(en_fr.values())\n",
        "\n",
        "  # loop through all english, french word pairs in the english french dictionary\n",
        "  for en_word, fr_word in en_fr.items():\n",
        "    # check that the french word has an embedding and that the english word has an embedding\n",
        "    if en_word in english_set and fr_word in french_set:\n",
        "      # get the english embedding\n",
        "      en_vector = english_vectors[en_word]\n",
        "      # get the french embedding\n",
        "      fr_vector = french_vectors[fr_word]\n",
        "\n",
        "      # add the english embedding to the list\n",
        "      X_l.append(en_vector)\n",
        "      # add the french embedding to the list\n",
        "      Y_l.append(fr_vector)\n",
        "\n",
        "  # stack the vectors of X_l into a matrix X\n",
        "  X = np.vstack(X_l)\n",
        "  # stack the vectors of Y_l into a matrix Y\n",
        "  Y = np.vstack(Y_l)\n",
        "\n",
        "  ### END CODE HERE ###\n",
        "\n",
        "  return X, Y"
      ],
      "execution_count": 13,
      "outputs": []
    },
    {
      "cell_type": "markdown",
      "metadata": {
        "id": "ekPnYW2G0xzl"
      },
      "source": [
        "Now we will use function `get_matrices()` to obtain sets `X_train` and `Y_train`\n",
        "of English and French word embeddings into the corresponding vector space models."
      ]
    },
    {
      "cell_type": "code",
      "metadata": {
        "id": "mWHbMaWU0rpu",
        "colab": {
          "base_uri": "https://localhost:8080/"
        },
        "outputId": "bc998665-4ff2-4373-9625-d9836398a941"
      },
      "source": [
        "# UNQ_C2 (UNIQUE CELL IDENTIFIER, DO NOT EDIT)\n",
        "# You do not have to input any code in this cell, but it is relevant to grading, so please do not change anything\n",
        "\n",
        "# getting the training set:\n",
        "X_train, Y_train = get_matrices(en_fr_train, fr_embeddings_subset, en_embeddings_subset)\n",
        "print(X_train.shape, Y_train.shape)"
      ],
      "execution_count": 14,
      "outputs": [
        {
          "output_type": "stream",
          "text": [
            "(4932, 300) (4932, 300)\n"
          ],
          "name": "stdout"
        }
      ]
    },
    {
      "cell_type": "markdown",
      "metadata": {
        "id": "Oe49c4FX13x9"
      },
      "source": [
        "## 2- Translations"
      ]
    },
    {
      "cell_type": "markdown",
      "metadata": {
        "id": "Nz2niC-W14uH"
      },
      "source": [
        "<img src='https://github.com/rahiakela/img-repo/blob/master/deeplearning.ai-NLPS/e_to_f.jpg?raw=1' width='800'/>\n",
        "\n",
        "Write a program that translates English words to French words using word embeddings and vector space models. "
      ]
    },
    {
      "cell_type": "markdown",
      "metadata": {
        "id": "_qMWLcOC2JPe"
      },
      "source": [
        "### 2.1 Translation as linear transformation of embeddings"
      ]
    },
    {
      "cell_type": "markdown",
      "metadata": {
        "id": "j_2eEgdi2J_K"
      },
      "source": [
        "Given dictionaries of English and French word embeddings you will create a transformation matrix `R`\n",
        "* Given an English word embedding, $\\mathbf{e}$, you can multiply $\\mathbf{eR}$ to get a new word embedding $\\mathbf{f}$.\n",
        "    * Both $\\mathbf{e}$ and $\\mathbf{f}$ are [row vectors](https://en.wikipedia.org/wiki/Row_and_column_vectors).\n",
        "* You can then compute the nearest neighbors to `f` in the french embeddings and recommend the word that is most similar to the transformed word embedding.\n",
        "\n",
        "\n",
        "**Describing translation as the minimization problem**\n",
        "\n",
        "Find a matrix `R` that minimizes the following equation. \n",
        "\n",
        "$$\\arg \\min _{\\mathbf{R}}\\| \\mathbf{X R} - \\mathbf{Y}\\|_{F}\\tag{1} $$\n",
        "\n",
        "**Frobenius norm**\n",
        "\n",
        "The Frobenius norm of a matrix $A$ (assuming it is of dimension $m,n$) is defined as the square root of the sum of the absolute squares of its elements:\n",
        "\n",
        "$$\\|\\mathbf{A}\\|_{F} \\equiv \\sqrt{\\sum_{i=1}^{m} \\sum_{j=1}^{n}\\left|a_{i j}\\right|^{2}}\\tag{2}$$\n",
        "\n",
        "\n",
        "**Actual loss function**\n",
        "\n",
        "In the real world applications, the Frobenius norm loss:\n",
        "\n",
        "$$\\| \\mathbf{XR} - \\mathbf{Y}\\|_{F}$$\n",
        "\n",
        "is often replaced by it's squared value divided by $m$:\n",
        "\n",
        "$$ \\frac{1}{m} \\|  \\mathbf{X R} - \\mathbf{Y} \\|_{F}^{2}$$\n",
        "\n",
        "where $m$ is the number of examples (rows in $\\mathbf{X}$).\n",
        "\n",
        "* The same R is found when using this loss function versus the original Frobenius norm.\n",
        "* The reason for taking the square is that it's easier to compute the gradient of the squared Frobenius.\n",
        "* The reason for dividing by $m$ is that we're more interested in the average loss per embedding than the  loss for the entire training set.\n",
        "    * The loss for all training set increases with more words (training examples),\n",
        "    so taking the average helps us to track the average loss regardless of the size of the training set."
      ]
    },
    {
      "cell_type": "markdown",
      "metadata": {
        "id": "ceFw3MaX2vCX"
      },
      "source": [
        "**[Optional] Detailed explanation why we use norm squared instead of the norm:**\n",
        "\n",
        "<details>\n",
        "<summary>\n",
        "    Click for optional details\n",
        "</summary>\n",
        "    <p>\n",
        "        <ul>\n",
        "            <li>The norm is always nonnegative (we're summing up absolute values), and so is the square. \n",
        "            <li> When we take the square of all non-negative (positive or zero) numbers, the order of the data is preserved.  \n",
        "            <li> For example, if 3 > 2, 3^2 > 2^2\n",
        "            <li> Using the norm or squared norm in gradient descent results in the same <i>location</i> of the minimum.\n",
        "            <li> Squaring cancels the square root in the Frobenius norm formula. Because of the <a href=\"https://en.wikipedia.org/wiki/Chain_rule\"> chain rule</a>, we would have to do more calculations if we had a square root in our expression for summation.\n",
        "            <li> Dividing the function value by the positive number doesn't change the optimum of the function, for the same reason as described above.\n",
        "            <li> We're interested in transforming English embedding into the French. Thus, it is more important to measure average loss per embedding than the loss for the entire dictionary (which increases as the number of words in the dictionary increases).\n",
        "        </ul>\n",
        "    </p>"
      ]
    },
    {
      "cell_type": "markdown",
      "metadata": {
        "id": "puiV1x6l27KO"
      },
      "source": [
        "#### Exercise: Implementing translation mechanism described in this section."
      ]
    },
    {
      "cell_type": "markdown",
      "metadata": {
        "id": "jTxcPPEX29iA"
      },
      "source": [
        "##### Step 1: Computing the loss"
      ]
    },
    {
      "cell_type": "markdown",
      "metadata": {
        "id": "FnxNSSw03DWc"
      },
      "source": [
        "* The loss function will be squared Frobenoius norm of the difference between\n",
        "matrix and its approximation, divided by the number of training examples $m$.\n",
        "* Its formula is:\n",
        "$$ L(X, Y, R)=\\frac{1}{m}\\sum_{i=1}^{m} \\sum_{j=1}^{n}\\left( a_{i j} \\right)^{2}$$\n",
        "\n",
        "where $a_{i j}$ is value in $i$th row and $j$th column of the matrix $\\mathbf{XR}-\\mathbf{Y}$.\n",
        "\n",
        "**Instructions: complete the `compute_loss()` function**\n",
        "\n",
        "* Compute the approximation of `Y` by matrix multiplying `X` and `R`\n",
        "* Compute difference `XR - Y`\n",
        "* Compute the squared Frobenius norm of the difference and divide it by $m$."
      ]
    },
    {
      "cell_type": "markdown",
      "metadata": {
        "id": "Pjp0Vqy-3M49"
      },
      "source": [
        "<details>    \n",
        "<summary>\n",
        "    <font size=\"3\" color=\"darkgreen\"><b>Hints</b></font>\n",
        "</summary>\n",
        "<p>\n",
        "<ul>\n",
        "   <li> Useful functions:\n",
        "       <a href=\"https://docs.scipy.org/doc/numpy/reference/generated/numpy.dot.html\">Numpy dot </a>,\n",
        "       <a href=\"https://docs.scipy.org/doc/numpy/reference/generated/numpy.sum.html\">Numpy sum</a>,\n",
        "       <a href=\"https://docs.scipy.org/doc/numpy/reference/generated/numpy.square.html\">Numpy square</a>,\n",
        "       <a href=\"https://docs.scipy.org/doc/numpy/reference/generated/numpy.linalg.norm.html\">Numpy norm</a>\n",
        "    </li>\n",
        "   <li> Be careful about which operation is elementwise and which operation is a matrix multiplication.</li>\n",
        "   <li> Try to use matrix operations instead of the numpy norm function.  If you choose to use norm function, take care of extra arguments and that it's returning loss squared, and not the loss itself.</li>\n",
        "\n",
        "</ul>\n",
        "</p>"
      ]
    },
    {
      "cell_type": "code",
      "metadata": {
        "id": "4k7Gui5u1Tql"
      },
      "source": [
        "# UNQ_C3 (UNIQUE CELL IDENTIFIER, DO NOT EDIT)\n",
        "def compute_loss(X, Y, R):\n",
        "  \"\"\"\n",
        "  Inputs: \n",
        "      X: a matrix of dimension (m,n) where the columns are the English embeddings.\n",
        "      Y: a matrix of dimension (m,n) where the columns correspong to the French embeddings.\n",
        "      R: a matrix of dimension (n,n) - transformation matrix from English to French vector space embeddings.\n",
        "  Outputs:\n",
        "      L: a matrix of dimension (m,n) - the value of the loss function for given X, Y and R.\n",
        "  \"\"\"\n",
        "  ### START CODE HERE (REPLACE INSTANCES OF 'None' with your code) ###\n",
        "\n",
        "  # m is the number of rows in X\n",
        "  m = X.shape[0]\n",
        "\n",
        "  # diff is XR - Y\n",
        "  diff = np.dot(X, R) - Y\n",
        "\n",
        "  # diff_squared is the element-wise square of the difference\n",
        "  diff_squared = diff ** 2\n",
        "\n",
        "  # sum_diff_squared is the sum of the squared elements\n",
        "  sum_diff_squared = np.sum(diff_squared)\n",
        "\n",
        "  # loss i the sum_diff_squard divided by the number of examples (m)\n",
        "  loss = sum_diff_squared / m\n",
        "\n",
        "  ### END CODE HERE ###\n",
        "\n",
        "  return loss"
      ],
      "execution_count": null,
      "outputs": []
    },
    {
      "cell_type": "markdown",
      "metadata": {
        "id": "n6JP5crg8fa1"
      },
      "source": [
        "##### Step 2: Computing the gradient of loss in respect to transform matrix R"
      ]
    },
    {
      "cell_type": "markdown",
      "metadata": {
        "id": "rcqGcEt78gNk"
      },
      "source": [
        "* Calculate the gradient of the loss with respect to transform matrix `R`.\n",
        "* The gradient is a matrix that encodes how much a small change in `R`\n",
        "affect the change in the loss function.\n",
        "* The gradient gives us the direction in which we should decrease `R`\n",
        "to minimize the loss.\n",
        "* $m$ is the number of training examples (number of rows in $X$).\n",
        "* The formula for the gradient of the loss function $𝐿(𝑋,𝑌,𝑅)$ is:\n",
        "\n",
        "$$\\frac{d}{dR}𝐿(𝑋,𝑌,𝑅)=\\frac{d}{dR}\\Big(\\frac{1}{m}\\| X R -Y\\|_{F}^{2}\\Big) = \\frac{2}{m}X^{T} (X R - Y)$$\n",
        "\n",
        "**Instructions**: Complete the `compute_gradient` function below."
      ]
    },
    {
      "cell_type": "markdown",
      "metadata": {
        "id": "Nx7sXZr08qqb"
      },
      "source": [
        "<details>\n",
        "<summary>\n",
        "    <font size=\"3\" color=\"darkgreen\"><b>Hints</b></font>\n",
        "</summary>\n",
        "<p>\n",
        "    <ul>\n",
        "    <li><a href=\"https://docs.scipy.org/doc/numpy/reference/generated/numpy.matrix.T.html\" > Transposing in numpy </a></li>\n",
        "    <li><a href=\"https://docs.scipy.org/doc/numpy/reference/generated/numpy.ndarray.shape.html\" > Finding out the dimensions</a> of matrices in numpy </li>\n",
        "    <li>Remember to use numpy.dot for matrix multiplication </li>\n",
        "    </ul>\n",
        "</p>\n",
        " "
      ]
    },
    {
      "cell_type": "code",
      "metadata": {
        "id": "uW6tBrwv8WFY"
      },
      "source": [
        "# UNQ_C4 (UNIQUE CELL IDENTIFIER, DO NOT EDIT)\n",
        "def compute_gradient(X, Y, R):\n",
        "  \"\"\"\n",
        "  Inputs: \n",
        "      X: a matrix of dimension (m,n) where the columns are the English embeddings.\n",
        "      Y: a matrix of dimension (m,n) where the columns correspong to the French embeddings.\n",
        "      R: a matrix of dimension (n,n) - transformation matrix from English to French vector space embeddings.\n",
        "  Outputs:\n",
        "      g: a matrix of dimension (n,n) - gradient of the loss function L for given X, Y and R.\n",
        "  \"\"\"\n",
        "  ### START CODE HERE (REPLACE INSTANCES OF 'None' with your code) ###\n",
        "\n",
        "  # m is the number of rows in X\n",
        "  m = X.shape[0]\n",
        "\n",
        "  # gradient is X^T(XR - Y) * 2/m\n",
        "  gradient = np.dot(X.transpose(), np.dot(X, R) - Y) * 2 / m\n",
        "\n",
        "  ### END CODE HERE ###\n",
        "\n",
        "  return gradient"
      ],
      "execution_count": null,
      "outputs": []
    },
    {
      "cell_type": "markdown",
      "metadata": {
        "id": "j8m5CPvy-h0x"
      },
      "source": [
        "##### Step 3: Finding the optimal R with gradient descent algorithm"
      ]
    },
    {
      "cell_type": "markdown",
      "metadata": {
        "id": "rN87qIlo-inv"
      },
      "source": [
        "###### Gradient descent"
      ]
    },
    {
      "cell_type": "markdown",
      "metadata": {
        "id": "TemDSTkJ-o3A"
      },
      "source": [
        "[Gradient descent](https://ml-cheatsheet.readthedocs.io/en/latest/gradient_descent.html) is an iterative algorithm which is used in searching for the optimum of the function. \n",
        "* Earlier, we've mentioned that the gradient of the loss with respect to the matrix encodes how much a tiny change in some coordinate of that matrix affect the change of loss function.\n",
        "* Gradient descent uses that information to iteratively change matrix `R` until we reach a point where the loss is minimized. \n",
        "\n",
        "**Training with a fixed number of iterations**\n",
        "\n",
        "Most of the time we iterate for a fixed number of training steps rather than iterating until the loss falls below a threshold."
      ]
    },
    {
      "cell_type": "markdown",
      "metadata": {
        "id": "bm1IBhBn-5l_"
      },
      "source": [
        "**OPTIONAL: explanation for fixed number of iterations**\n",
        "\n",
        "<details>\n",
        "<summary>\n",
        "    <font size=\"3\" color=\"darkgreen\"><b>click here for detailed discussion</b></font>\n",
        "</summary>\n",
        "<p>\n",
        "<ul>\n",
        "    <li> You cannot rely on training loss getting low -- what you really want is the validation loss to go down, or validation accuracy to go up. And indeed - in some cases people train until validation accuracy reaches a threshold, or -- commonly known as \"early stopping\" -- until the validation accuracy starts to go down, which is a sign of over-fitting.\n",
        "    </li>\n",
        "    <li>\n",
        "    Why not always do \"early stopping\"? Well, mostly because well-regularized models on larger data-sets never stop improving. Especially in NLP, you can often continue training for months and the model will continue getting slightly and slightly better. This is also the reason why it's hard to just stop at a threshold -- unless there's an external customer setting the threshold, why stop, where do you put the threshold?\n",
        "    </li>\n",
        "    <li>Stopping after a certain number of steps has the advantage that you know how long your training will take - so you can keep some sanity and not train for months. You can then try to get the best performance within this time budget. Another advantage is that you can fix your learning rate schedule -- e.g., lower the learning rate at 10% before finish, and then again more at 1% before finishing. Such learning rate schedules help a lot, but are harder to do if you don't know how long you're training.\n",
        "    </li>\n",
        "</ul>\n",
        "</p>"
      ]
    },
    {
      "cell_type": "markdown",
      "metadata": {
        "id": "YpIPb4FY_Foh"
      },
      "source": [
        "Pseudocode:\n",
        "1. Calculate gradient $g$ of the loss with respect to the matrix $R$.\n",
        "2. Update $R$ with the formula:\n",
        "$$R_{\\text{new}}= R_{\\text{old}}-\\alpha g$$\n",
        "\n",
        "Where $\\alpha$ is the learning rate, which is a scalar."
      ]
    },
    {
      "cell_type": "markdown",
      "metadata": {
        "id": "0nl-hyd6_LhM"
      },
      "source": [
        "###### Learning rate"
      ]
    },
    {
      "cell_type": "markdown",
      "metadata": {
        "id": "7jgVchHb_MWg"
      },
      "source": [
        "* The learning rate or \"step size\" $\\alpha$ is a coefficient which decides how much we want to change $R$ in each step.\n",
        "* If we change $R$ too much, we could skip the optimum by taking too large of a step.\n",
        "* If we make only small changes to $R$, we will need many steps to reach the optimum.\n",
        "* Learning rate $\\alpha$ is used to control those changes.\n",
        "* Values of $\\alpha$ are chosen depending on the problem, and we'll use `learning_rate`$=0.0003$ as the default value for our algorithm.\n",
        "\n",
        "**Instructions: Implement `align_embeddings()`**"
      ]
    },
    {
      "cell_type": "markdown",
      "metadata": {
        "id": "udo2-3Nz_Xdu"
      },
      "source": [
        "<details>\n",
        "<summary>\n",
        "    <font size=\"3\" color=\"darkgreen\"><b>Hints</b></font>\n",
        "</summary>\n",
        "<p>\n",
        "<ul>\n",
        "    <li>Use the 'compute_gradient()' function to get the gradient in each step</li>\n",
        "\n",
        "</ul>\n",
        "</p>"
      ]
    },
    {
      "cell_type": "code",
      "metadata": {
        "id": "VdZRk9fy-YkD"
      },
      "source": [
        "# UNQ_C5 (UNIQUE CELL IDENTIFIER, DO NOT EDIT)\n",
        "def align_embeddings(X, Y, train_steps=100, learning_rate=0.0003):\n",
        "  \"\"\"\n",
        "  Inputs:\n",
        "      X: a matrix of dimension (m,n) where the columns are the English embeddings.\n",
        "      Y: a matrix of dimension (m,n) where the columns correspong to the French embeddings.\n",
        "      train_steps: positive int - describes how many steps will gradient descent algorithm do.\n",
        "      learning_rate: positive float - describes how big steps will  gradient descent algorithm do.\n",
        "  Outputs:\n",
        "      R: a matrix of dimension (n,n) - the projection matrix that minimizes the F norm ||X R -Y||^2\n",
        "  \"\"\"\n",
        "\n",
        "  np.random.seed(129)\n",
        "\n",
        "  # the number of columns in X is the number of dimensions for a word vector (e.g. 300)\n",
        "  # R is a square matrix with length equal to the number of dimensions in th  word embedding\n",
        "  R = np.random.rand(X.shape[1], X.shape[1])\n",
        "\n",
        "  for i in range(train_steps):\n",
        "    if i % 25 == 0:\n",
        "      print(f\"loss at iteration {i} is: {compute_loss(X, Y, R):.4f}\")\n",
        "    ### START CODE HERE (REPLACE INSTANCES OF 'None' with your code) ###\n",
        "\n",
        "    # use the function that you defined to compute the gradient\n",
        "    gradient = compute_gradient(X, Y, R)\n",
        "\n",
        "    # update R by subtracting the learning rate times gradient\n",
        "    R -= learning_rate * gradient\n",
        "\n",
        "    ### END CODE HERE ###\n",
        "  \n",
        "  return R"
      ],
      "execution_count": null,
      "outputs": []
    },
    {
      "cell_type": "code",
      "metadata": {
        "id": "R7mvYXFdD0wr",
        "colab": {
          "base_uri": "https://localhost:8080/"
        },
        "outputId": "dea7eb1d-d5f0-4aa7-95f2-e6e4f23fe14f"
      },
      "source": [
        "# UNQ_C6 (UNIQUE CELL IDENTIFIER, DO NOT EDIT)\n",
        "# You do not have to input any code in this cell, but it is relevant to grading, so please do not change anything\n",
        "\n",
        "# Testing your implementation.\n",
        "np.random.seed(129)\n",
        "\n",
        "m = 10\n",
        "n = 5\n",
        "X = np.random.rand(m, n)\n",
        "Y = np.random.rand(m, n) * .1\n",
        "R = align_embeddings(X, Y)"
      ],
      "execution_count": null,
      "outputs": [
        {
          "output_type": "stream",
          "text": [
            "loss at iteration 0 is: 3.7242\n",
            "loss at iteration 25 is: 3.6283\n",
            "loss at iteration 50 is: 3.5350\n",
            "loss at iteration 75 is: 3.4442\n"
          ],
          "name": "stdout"
        }
      ]
    },
    {
      "cell_type": "markdown",
      "metadata": {
        "id": "KbMhuvS9EQuI"
      },
      "source": [
        "**Expected Output:**\n",
        "```\n",
        "loss at iteration 0 is: 3.7242\n",
        "loss at iteration 25 is: 3.6283\n",
        "loss at iteration 50 is: 3.5350\n",
        "loss at iteration 75 is: 3.4442\n",
        "```"
      ]
    },
    {
      "cell_type": "markdown",
      "metadata": {
        "id": "WBxy-W14A-nz"
      },
      "source": [
        "###### Calculate transformation matrix R"
      ]
    },
    {
      "cell_type": "markdown",
      "metadata": {
        "id": "v4kwVYEqA_3I"
      },
      "source": [
        "Using those the training set, find the transformation matrix $\\mathbf{R}$ by calling the function `align_embeddings()`."
      ]
    },
    {
      "cell_type": "code",
      "metadata": {
        "id": "qX084am6BFgT",
        "colab": {
          "base_uri": "https://localhost:8080/"
        },
        "outputId": "cc36f06c-0eae-4407-a8e2-69e23b3f338d"
      },
      "source": [
        "# UNQ_C7 (UNIQU\n",
        "#E CELL IDENTIFIER, DO NOT EDIT)\n",
        "# You do not have to input any code in this cell, but it is relevant to grading, so please do not change anything\n",
        "R_train = align_embeddings(X_train, Y_train, train_steps=400, learning_rate=0.8)"
      ],
      "execution_count": null,
      "outputs": [
        {
          "output_type": "stream",
          "text": [
            "loss at iteration 0 is: 963.0146\n",
            "loss at iteration 25 is: 97.8292\n",
            "loss at iteration 50 is: 26.8329\n",
            "loss at iteration 75 is: 9.7893\n",
            "loss at iteration 100 is: 4.3776\n",
            "loss at iteration 125 is: 2.3281\n",
            "loss at iteration 150 is: 1.4480\n",
            "loss at iteration 175 is: 1.0338\n",
            "loss at iteration 200 is: 0.8251\n",
            "loss at iteration 225 is: 0.7145\n",
            "loss at iteration 250 is: 0.6534\n",
            "loss at iteration 275 is: 0.6185\n",
            "loss at iteration 300 is: 0.5981\n",
            "loss at iteration 325 is: 0.5858\n",
            "loss at iteration 350 is: 0.5782\n",
            "loss at iteration 375 is: 0.5735\n"
          ],
          "name": "stdout"
        }
      ]
    },
    {
      "cell_type": "markdown",
      "metadata": {
        "id": "G8RmfwmVEpiG"
      },
      "source": [
        "**Expected Output**\n",
        "\n",
        "```\n",
        "loss at iteration 0 is: 963.0146\n",
        "loss at iteration 25 is: 97.8292\n",
        "loss at iteration 50 is: 26.8329\n",
        "loss at iteration 75 is: 9.7893\n",
        "loss at iteration 100 is: 4.3776\n",
        "loss at iteration 125 is: 2.3281\n",
        "loss at iteration 150 is: 1.4480\n",
        "loss at iteration 175 is: 1.0338\n",
        "loss at iteration 200 is: 0.8251\n",
        "loss at iteration 225 is: 0.7145\n",
        "loss at iteration 250 is: 0.6534\n",
        "loss at iteration 275 is: 0.6185\n",
        "loss at iteration 300 is: 0.5981\n",
        "loss at iteration 325 is: 0.5858\n",
        "loss at iteration 350 is: 0.5782\n",
        "loss at iteration 375 is: 0.5735\n",
        "```"
      ]
    },
    {
      "cell_type": "markdown",
      "metadata": {
        "id": "YOxGR4sFBLjn"
      },
      "source": [
        "### 2.2 Testing the translation"
      ]
    },
    {
      "cell_type": "markdown",
      "metadata": {
        "id": "YN7JNk-IBMxp"
      },
      "source": [
        "#### k-Nearest neighbors algorithm"
      ]
    },
    {
      "cell_type": "markdown",
      "metadata": {
        "id": "p9Vx1hSXgIal"
      },
      "source": [
        "[k-Nearest neighbors algorithm](https://en.wikipedia.org/wiki/K-nearest_neighbors_algorithm) \n",
        "* k-NN is a method which takes a vector as input and finds the other vectors in the dataset that are closest to it. \n",
        "* The 'k' is the number of \"nearest neighbors\" to find (e.g. k=2 finds the closest two neighbors).\n",
        "\n",
        "**Searching for the translation embedding**\n",
        "\n",
        "Since we're approximating the translation function from English to French embeddings by a linear transformation matrix $\\mathbf{R}$, most of the time we won't get the exact embedding of a French word when we transform embedding $\\mathbf{e}$ of some particular English word into the French embedding space. \n",
        "* This is where $k$-NN becomes really useful! By using $1$-NN with $\\mathbf{eR}$ as input, we can search for an embedding $\\mathbf{f}$ (as a row) in the matrix $\\mathbf{Y}$ which is the closest to the transformed vector $\\mathbf{eR}$"
      ]
    },
    {
      "cell_type": "markdown",
      "metadata": {
        "id": "UaDgDZmIgSwH"
      },
      "source": [
        "#### Cosine similarity"
      ]
    },
    {
      "cell_type": "markdown",
      "metadata": {
        "id": "tgpB91PjgTa-"
      },
      "source": [
        "Cosine similarity between vectors $u$ and $v$ calculated as the cosine of the angle between them.\n",
        "The formula is \n",
        "\n",
        "$$\\cos(u,v)=\\frac{u\\cdot v}{\\left\\|u\\right\\|\\left\\|v\\right\\|}$$\n",
        "\n",
        "* $\\cos(u,v)$ = $1$ when $u$ and $v$ lie on the same line and have the same direction.\n",
        "* $\\cos(u,v)$ is $-1$ when they have exactly opposite directions.\n",
        "* $\\cos(u,v)$ is $0$ when the vectors are orthogonal (perpendicular) to each other.\n",
        "\n",
        "\n",
        "**Note: Distance and similarity are pretty much opposite things.**\n",
        "\n",
        "* We can obtain distance metric from cosine similarity, but the cosine similarity can't be used directly as the distance metric. \n",
        "* When the cosine similarity increases (towards $1$), the \"distance\" between the two vectors decreases (towards $0$). \n",
        "* We can define the cosine distance between $u$ and $v$ as\n",
        "$$d_{\\text{cos}}(u,v)=1-\\cos(u,v)$$\n",
        "\n",
        "**Exercise**: Complete the function `nearest_neighbor()`\n",
        "\n",
        "Inputs:\n",
        "* Vector `v`,\n",
        "* A set of possible nearest neighbors `candidates`\n",
        "* `k` nearest neighbors to find.\n",
        "* The distance metric should be based on cosine similarity.\n",
        "* `cosine_similarity` function is already implemented and imported for you. It's arguments are two vectors and it returns the cosine of the angle between them.\n",
        "* Iterate over rows in `candidates`, and save the result of similarities between current row and vector `v` in a python list. Take care that similarities are in the same order as row vectors of `candidates`.\n",
        "* Now you can use [numpy argsort]( https://docs.scipy.org/doc/numpy/reference/generated/numpy.argsort.html#numpy.argsort) to sort the indices for the rows of `candidates`."
      ]
    },
    {
      "cell_type": "markdown",
      "metadata": {
        "id": "NfHgWBDCghe6"
      },
      "source": [
        "<details>\n",
        "<summary>\n",
        "    <font size=\"3\" color=\"darkgreen\"><b>Hints</b></font>\n",
        "</summary>\n",
        "<p>\n",
        "<ul>\n",
        "    <li> numpy.argsort sorts values from most negative to most positive (smallest to largest) </li>\n",
        "    <li> The candidates that are nearest to 'v' should have the highest cosine similarity </li>\n",
        "    <li> To get the last element of a list 'tmp', the notation is tmp[-1:] </li>\n",
        "</ul>\n",
        "</p>"
      ]
    },
    {
      "cell_type": "code",
      "metadata": {
        "id": "ABkVAzYdgiGd"
      },
      "source": [
        "# UNQ_C8 (UNIQUE CELL IDENTIFIER, DO NOT EDIT)\n",
        "def nearest_neighbor(v, candidates, k=1):\n",
        "  \"\"\"\n",
        "  Input:\n",
        "    - v, the vector you are going find the nearest neighbor for\n",
        "    - candidates: a set of vectors where we will find the neighbors\n",
        "    - k: top k nearest neighbors to find\n",
        "  Output:\n",
        "    - k_idx: the indices of the top k closest vectors in sorted form\n",
        "  \"\"\"\n",
        "  ### START CODE HERE (REPLACE INSTANCES OF 'None' with your code) ###\n",
        "\n",
        "  similarity_l = []\n",
        "\n",
        "  # for each candidate vector...\n",
        "  for row in candidates:\n",
        "    # get the cosine similarity\n",
        "    cos_similarity = cosine_similarity(v, row)\n",
        "    # append the similarity to the list\n",
        "    similarity_l.append(cos_similarity)\n",
        "  \n",
        "  # sort the similarity list and get the indices of the sorted list\n",
        "  sorted_ids = np.argsort(similarity_l)\n",
        "  # get the indices of the k most similar candidate vectors\n",
        "  k_idx = sorted_ids[-k:]\n",
        "\n",
        "  ### END CODE HERE ###\n",
        "\n",
        "  return k_idx"
      ],
      "execution_count": null,
      "outputs": []
    },
    {
      "cell_type": "code",
      "metadata": {
        "id": "KsAcXK65lAan",
        "colab": {
          "base_uri": "https://localhost:8080/",
          "height": 70
        },
        "outputId": "d651cf7a-34a0-491b-863d-60732849af96"
      },
      "source": [
        "# UNQ_C9 (UNIQUE CELL IDENTIFIER, DO NOT EDIT)\n",
        "# You do not have to input any code in this cell, but it is relevant to grading, so please do not change anything\n",
        "\n",
        "# Test your implementation:\n",
        "v = np.array([1, 0, 1])\n",
        "candidates = np.array([[1, 0, 5], [-2, 5, 3], [2, 0, 1], [6, -9, 5], [9, 9, 9]])\n",
        "print(candidates[nearest_neighbor(v, candidates, 3)])"
      ],
      "execution_count": null,
      "outputs": [
        {
          "output_type": "stream",
          "text": [
            "[[9 9 9]\n",
            " [1 0 5]\n",
            " [2 0 1]]\n"
          ],
          "name": "stdout"
        }
      ]
    },
    {
      "cell_type": "markdown",
      "metadata": {
        "id": "78AJeQ-2lYU4"
      },
      "source": [
        "**Expected Output**:\n",
        "\n",
        "`[[9 9 9]\n",
        " [1 0 5]\n",
        " [2 0 1]]`"
      ]
    },
    {
      "cell_type": "markdown",
      "metadata": {
        "id": "Mj3K1NI3la2E"
      },
      "source": [
        "#### Test your translation and compute its accuracy"
      ]
    },
    {
      "cell_type": "markdown",
      "metadata": {
        "id": "-AJ1qVGtlgHB"
      },
      "source": [
        "**Exercise**:\n",
        "Complete the function `test_vocabulary` which takes in English\n",
        "embedding matrix $X$, French embedding matrix $Y$ and the $R$\n",
        "matrix and returns the accuracy of translations from $X$ to $Y$ by $R$.\n",
        "\n",
        "* Iterate over transformed English word embeddings and check if the\n",
        "closest French word vector belongs to French word that is the actual\n",
        "translation.\n",
        "* Obtain an index of the closest French embedding by using\n",
        "`nearest_neighbor` (with argument `k=1`), and compare it to the index\n",
        "of the English embedding you have just transformed.\n",
        "* Keep track of the number of times you get the correct translation.\n",
        "* Calculate accuracy as $$\\text{accuracy}=\\frac{\\#(\\text{correct predictions})}{\\#(\\text{total predictions})}$$"
      ]
    },
    {
      "cell_type": "code",
      "metadata": {
        "id": "ettOnJjPl7sI"
      },
      "source": [
        "# UNQ_C10 (UNIQUE CELL IDENTIFIER, DO NOT EDIT)\n",
        "def test_vocabulary(X, Y, R):\n",
        "  \"\"\"\n",
        "  Input:\n",
        "      X: a matrix where the columns are the English embeddings.\n",
        "      Y: a matrix where the columns correspong to the French embeddings.\n",
        "      R: the transform matrix which translates word embeddings from\n",
        "      English to French word vector space.\n",
        "  Output:\n",
        "      accuracy: for the English to French capitals\n",
        "  \"\"\"\n",
        "  ### START CODE HERE (REPLACE INSTANCES OF 'None' with your code) ###\n",
        "\n",
        "  # The prediction is X times R\n",
        "  pred = np.dot(X, R)\n",
        "\n",
        "  # initialize the number correct to zero\n",
        "  num_correct = 0\n",
        "\n",
        "  # loop through each row in pred (each transformed embedding)\n",
        "  for i in range(len(pred)):\n",
        "    # get the index of the nearest neighbor of pred at row 'i'; also pass in the candidates in Y\n",
        "    pred_idx = nearest_neighbor(pred[i], Y)\n",
        "    # if the index of the nearest neighbor equals the row of i... \\\n",
        "    if pred_idx == i:\n",
        "      # increment the number correct by 1.\n",
        "      num_correct += 1\n",
        "\n",
        "  # accuracy is the number correct divided by the number of rows in 'pred' (also number of rows in X)\n",
        "  accuracy = num_correct / len(pred)\n",
        "\n",
        "  ### END CODE HERE ###\n",
        "\n",
        "  return accuracy"
      ],
      "execution_count": null,
      "outputs": []
    },
    {
      "cell_type": "markdown",
      "metadata": {
        "id": "IU5r5mqyoxbR"
      },
      "source": [
        "Let's see how is your translation mechanism working on the unseen data:"
      ]
    },
    {
      "cell_type": "code",
      "metadata": {
        "id": "z1PUHvNoosuk"
      },
      "source": [
        "X_val, Y_val = get_matrices(en_fr_test, fr_embeddings_subset, en_embeddings_subset)"
      ],
      "execution_count": null,
      "outputs": []
    },
    {
      "cell_type": "code",
      "metadata": {
        "id": "SjcXrUu_pCz0",
        "colab": {
          "base_uri": "https://localhost:8080/",
          "height": 35
        },
        "outputId": "f50857d4-3a4d-4cb1-f4e3-a5eb007aacf6"
      },
      "source": [
        "# UNQ_C11 (UNIQUE CELL IDENTIFIER, DO NOT EDIT)\n",
        "# You do not have to input any code in this cell, but it is relevant to grading, so please do not change anything\n",
        "#print((np.dot(X,R)[0]))\n",
        "acc = test_vocabulary(X_val, Y_val, R_train)   # this might take a minute or two\n",
        "print(f\"accuracy on test set is {acc:.3f}\")"
      ],
      "execution_count": null,
      "outputs": [
        {
          "output_type": "stream",
          "text": [
            "accuracy on test set is 0.557\n"
          ],
          "name": "stdout"
        }
      ]
    },
    {
      "cell_type": "markdown",
      "metadata": {
        "id": "dc6L5V8JpVW5"
      },
      "source": [
        "**Expected Output**:\n",
        "\n",
        "```\n",
        "0.557\n",
        "```\n",
        "\n",
        "You managed to translate words from one language to another language\n",
        "without ever seeing them with almost 56% accuracy by using some basic\n",
        "linear algebra and learning a mapping of words from one language to another!"
      ]
    },
    {
      "cell_type": "markdown",
      "metadata": {
        "id": "PjyseX1npYRV"
      },
      "source": [
        "## 3- LSH and document search"
      ]
    },
    {
      "cell_type": "markdown",
      "metadata": {
        "id": "0NhN_7MLpa1g"
      },
      "source": [
        "In this part of the assignment, you will implement a more efficient version\n",
        "of k-nearest neighbors using locality sensitive hashing.\n",
        "You will then apply this to document search.\n",
        "\n",
        "* Process the tweets and represent each tweet as a vector (represent a\n",
        "document with a vector embedding).\n",
        "* Use locality sensitive hashing and k nearest neighbors to find tweets\n",
        "that are similar to a given tweet."
      ]
    },
    {
      "cell_type": "code",
      "metadata": {
        "id": "_oXclxIvqHCN"
      },
      "source": [
        ""
      ],
      "execution_count": null,
      "outputs": []
    }
  ]
}