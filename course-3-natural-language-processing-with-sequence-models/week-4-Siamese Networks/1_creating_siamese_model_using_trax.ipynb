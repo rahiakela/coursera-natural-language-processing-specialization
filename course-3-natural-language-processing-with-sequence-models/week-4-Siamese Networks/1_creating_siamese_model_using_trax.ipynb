{
  "nbformat": 4,
  "nbformat_minor": 0,
  "metadata": {
    "colab": {
      "name": "1-creating-siamese-model-using-trax.ipynb",
      "provenance": [],
      "toc_visible": true,
      "authorship_tag": "ABX9TyMaUmwRxgYI9tLWxThymWx9",
      "include_colab_link": true
    },
    "kernelspec": {
      "name": "python3",
      "display_name": "Python 3"
    },
    "accelerator": "GPU"
  },
  "cells": [
    {
      "cell_type": "markdown",
      "metadata": {
        "id": "view-in-github",
        "colab_type": "text"
      },
      "source": [
        "<a href=\"https://colab.research.google.com/github/rahiakela/coursera-natural-language-processing-specialization/blob/master/course-3-natural-language-processing-with-sequence-models/week-4-Siamese%20Networks/1_creating_siamese_model_using_trax.ipynb\" target=\"_parent\"><img src=\"https://colab.research.google.com/assets/colab-badge.svg\" alt=\"Open In Colab\"/></a>"
      ]
    },
    {
      "cell_type": "markdown",
      "metadata": {
        "id": "_EZ-LDxdj7Nd"
      },
      "source": [
        "## Creating a Siamese model using Trax"
      ]
    },
    {
      "cell_type": "code",
      "metadata": {
        "id": "9SnyVxiXlt3W"
      },
      "source": [
        "!pip install trax==1.3.9"
      ],
      "execution_count": null,
      "outputs": []
    },
    {
      "cell_type": "code",
      "metadata": {
        "id": "tMgrYiovkHNO"
      },
      "source": [
        "import trax\n",
        "from trax import layers as tl\n",
        "import trax.fastmath.numpy as np\n",
        "import numpy\n",
        "\n",
        "# Setting random seeds\n",
        "# trax.supervised.trainer_lib.init_random_number_generators(10)\n",
        "numpy.random.seed(10)"
      ],
      "execution_count": 2,
      "outputs": []
    },
    {
      "cell_type": "markdown",
      "metadata": {
        "id": "AICyMBavkMDA"
      },
      "source": [
        "## L2 Normalization"
      ]
    },
    {
      "cell_type": "markdown",
      "metadata": {
        "id": "-kJh8v5FkMnc"
      },
      "source": [
        "Before building the model you will need to define a function that applies L2 normalization to a tensor. This is very important because in this week's assignment you will create a custom loss function which expects the tensors it receives to be normalized. \n",
        "\n",
        "Luckily this is pretty straightforward:"
      ]
    },
    {
      "cell_type": "code",
      "metadata": {
        "id": "wYDiLizvlphX"
      },
      "source": [
        "def normalize(x):\n",
        "  return x / np.sqrt(np.sum(x * x, axis=-1, keepdims=True))"
      ],
      "execution_count": 4,
      "outputs": []
    },
    {
      "cell_type": "markdown",
      "metadata": {
        "id": "Gt0p-AabnQlB"
      },
      "source": [
        "Notice that the denominator can be replaced by `np.linalg.norm(x, axis=-1, keepdims=True)` to achieve the same results and that Trax's numpy is being used within the function."
      ]
    },
    {
      "cell_type": "code",
      "metadata": {
        "id": "Lae-7bnhnJ2b",
        "colab": {
          "base_uri": "https://localhost:8080/"
        },
        "outputId": "f61b4278-956e-4af1-b211-18aea45243e5"
      },
      "source": [
        "tensor = numpy.random.random((2, 5))\n",
        "print(f'The tensor is of type: {type(tensor)} \\n\\nAnd looks like this:\\n\\n {tensor}')"
      ],
      "execution_count": 5,
      "outputs": [
        {
          "output_type": "stream",
          "text": [
            "The tensor is of type: <class 'numpy.ndarray'> \n",
            "\n",
            "And looks like this:\n",
            "\n",
            " [[0.77132064 0.02075195 0.63364823 0.74880388 0.49850701]\n",
            " [0.22479665 0.19806286 0.76053071 0.16911084 0.08833981]]\n"
          ],
          "name": "stdout"
        }
      ]
    },
    {
      "cell_type": "code",
      "metadata": {
        "id": "ct6gr3abnhrY",
        "colab": {
          "base_uri": "https://localhost:8080/"
        },
        "outputId": "c4713253-bc47-4888-ba69-f47fd53c2ee1"
      },
      "source": [
        "norm_tensor = normalize(tensor)\n",
        "print(f'The normalized tensor is of type: {type(norm_tensor)}\\n\\nAnd looks like this:\\n\\n {norm_tensor}')"
      ],
      "execution_count": 6,
      "outputs": [
        {
          "output_type": "stream",
          "text": [
            "The normalized tensor is of type: <class 'jaxlib.xla_extension.DeviceArray'>\n",
            "\n",
            "And looks like this:\n",
            "\n",
            " [[0.5739379  0.01544148 0.4714962  0.5571832  0.37093794]\n",
            " [0.26781026 0.23596111 0.9060541  0.20146926 0.10524315]]\n"
          ],
          "name": "stdout"
        }
      ]
    },
    {
      "cell_type": "markdown",
      "metadata": {
        "id": "EoUVzXQnnzgo"
      },
      "source": [
        "Notice that the initial tensor was converted from a numpy array to a jax array in the process."
      ]
    },
    {
      "cell_type": "markdown",
      "metadata": {
        "id": "ZtfIuZZJn0DT"
      },
      "source": [
        "## Siamese Model"
      ]
    },
    {
      "cell_type": "markdown",
      "metadata": {
        "id": "He4U0fZZn4po"
      },
      "source": [
        "To create a `Siamese` model you will first need to create a LSTM model using the `Serial` combinator layer and then use another combinator layer called `Parallel` to create the Siamese model. You should be familiar with the following layers (notice each layer can be clicked to go to the docs):\n",
        "   - [`Serial`](https://trax-ml.readthedocs.io/en/latest/trax.layers.html#trax.layers.combinators.Serial) A combinator layer that allows to stack layers serially using function composition.\n",
        "   - [`Embedding`](https://trax-ml.readthedocs.io/en/latest/trax.layers.html#trax.layers.core.Embedding) Maps discrete tokens to vectors. It will have shape `(vocabulary length X dimension of output vectors)`. The dimension of output vectors (also called `d_feature`) is the number of elements in the word embedding.\n",
        "   - [`LSTM`](https://trax-ml.readthedocs.io/en/latest/trax.layers.html#trax.layers.rnn.LSTM) The LSTM layer. It leverages another Trax layer called [`LSTMCell`](https://trax-ml.readthedocs.io/en/latest/trax.layers.html#trax.layers.rnn.LSTMCell). The number of units should be specified and should match the number of elements in the word embedding.\n",
        "   - [`Mean`](https://trax-ml.readthedocs.io/en/latest/trax.layers.html#trax.layers.core.Mean) Computes the mean across a desired axis. Mean uses one tensor axis to form groups of values and replaces each group with the mean value of that group.\n",
        "   - [`Fn`](https://trax-ml.readthedocs.io/en/latest/trax.layers.html#trax.layers.base.Fn) Layer with no weights that applies the function f, which should be specified using a lambda syntax. \n",
        "   - [`Parallel`](https://trax-ml.readthedocs.io/en/latest/trax.layers.html#trax.layers.combinators.Parallel) It is a combinator layer (like `Serial`) that applies a list of layers in parallel to its inputs.\n",
        "\n",
        "<img src='https://github.com/rahiakela/img-repo/blob/master/deeplearning.ai-NLPS/siamese-architecture.png?raw=1' width='800'/>\n",
        "\n",
        "Putting everything together the Siamese model will look like this:"
      ]
    },
    {
      "cell_type": "code",
      "metadata": {
        "id": "VsvuZzpxnuRL"
      },
      "source": [
        "vocab_size = 500\n",
        "model_dimension = 128\n",
        "\n",
        "# Define the LSTM model\n",
        "LSTM_model = tl.Serial(\n",
        "    tl.Embedding(vocab_size=vocab_size, d_feature=model_dimension),\n",
        "    tl.LSTM(model_dimension),\n",
        "    tl.Mean(axis=1),\n",
        "    tl.Fn('Normalize', lambda x: normalize(x))\n",
        ")\n",
        "\n",
        "# Use the Parallel combinator to create a Siamese model out of the LSTM \n",
        "Siamese = tl.Parallel(LSTM_model, LSTM_model)"
      ],
      "execution_count": 7,
      "outputs": []
    },
    {
      "cell_type": "markdown",
      "metadata": {
        "id": "xT6eOVhHvD-i"
      },
      "source": [
        "Next is a helper function that prints information for every layer (sublayer within `Serial`):"
      ]
    },
    {
      "cell_type": "code",
      "metadata": {
        "id": "x5LwCL2XvAnz"
      },
      "source": [
        "def show_layers(model, layer_prefix):\n",
        "  print(f'Total layers: {len(model.sublayers)}')\n",
        "\n",
        "  for i in range(len(model.sublayers)):\n",
        "    print('==========')\n",
        "    print(f'{layer_prefix}_{i}: {model.sublayers[i]}\\n')"
      ],
      "execution_count": 8,
      "outputs": []
    },
    {
      "cell_type": "code",
      "metadata": {
        "id": "0mcnJby-v6in",
        "colab": {
          "base_uri": "https://localhost:8080/"
        },
        "outputId": "0b87960d-7473-4b5b-9f7a-b341f2d3e9ac"
      },
      "source": [
        "print('Siamese model:\\n')\n",
        "show_layers(Siamese, 'Parallel.sublayers')\n",
        "\n",
        "print('Detail of LSTM models:\\n')\n",
        "show_layers(LSTM_model, 'Serial.sublayers')"
      ],
      "execution_count": 9,
      "outputs": [
        {
          "output_type": "stream",
          "text": [
            "Siamese model:\n",
            "\n",
            "Total layers: 2\n",
            "==========\n",
            "Parallel.sublayers_0: Serial[\n",
            "  Embedding_500_128\n",
            "  LSTM_128\n",
            "  Mean\n",
            "  Normalize\n",
            "]\n",
            "\n",
            "==========\n",
            "Parallel.sublayers_1: Serial[\n",
            "  Embedding_500_128\n",
            "  LSTM_128\n",
            "  Mean\n",
            "  Normalize\n",
            "]\n",
            "\n",
            "Detail of LSTM models:\n",
            "\n",
            "Total layers: 4\n",
            "==========\n",
            "Serial.sublayers_0: Embedding_500_128\n",
            "\n",
            "==========\n",
            "Serial.sublayers_1: LSTM_128\n",
            "\n",
            "==========\n",
            "Serial.sublayers_2: Mean\n",
            "\n",
            "==========\n",
            "Serial.sublayers_3: Normalize\n",
            "\n"
          ],
          "name": "stdout"
        }
      ]
    },
    {
      "cell_type": "markdown",
      "metadata": {
        "id": "9pHwVM8YwdB4"
      },
      "source": [
        "Try changing the parameters defined before the Siamese model and see how it changes!\n",
        "\n",
        "You will actually train this model in this week's assignment. For now you should be more familiarized with creating Siamese models using Trax. **Keep it up!**"
      ]
    }
  ]
}