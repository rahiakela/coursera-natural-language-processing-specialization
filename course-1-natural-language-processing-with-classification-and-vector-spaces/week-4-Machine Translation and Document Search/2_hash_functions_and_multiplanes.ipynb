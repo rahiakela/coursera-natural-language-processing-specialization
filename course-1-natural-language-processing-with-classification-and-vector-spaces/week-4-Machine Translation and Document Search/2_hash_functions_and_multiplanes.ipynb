{
  "nbformat": 4,
  "nbformat_minor": 0,
  "metadata": {
    "colab": {
      "name": "2-hash-functions-and-multiplanes.ipynb",
      "provenance": [],
      "toc_visible": true,
      "authorship_tag": "ABX9TyPzgh3eqiOlr0+iMt5leFYL",
      "include_colab_link": true
    },
    "kernelspec": {
      "name": "python3",
      "display_name": "Python 3"
    }
  },
  "cells": [
    {
      "cell_type": "markdown",
      "metadata": {
        "id": "view-in-github",
        "colab_type": "text"
      },
      "source": [
        "<a href=\"https://colab.research.google.com/github/rahiakela/coursera-natural-language-processing-specialization/blob/master/course-1-natural-language-processing-with-classification-and-vector-spaces/week-4-Machine%20Translation%20and%20Document%20Search/2_hash_functions_and_multiplanes.ipynb\" target=\"_parent\"><img src=\"https://colab.research.google.com/assets/colab-badge.svg\" alt=\"Open In Colab\"/></a>"
      ]
    },
    {
      "cell_type": "markdown",
      "metadata": {
        "id": "fB4l2-ZkmjLy"
      },
      "source": [
        "# Hash functions and multiplanes"
      ]
    },
    {
      "cell_type": "markdown",
      "metadata": {
        "id": "gRo8lQL4mjuq"
      },
      "source": [
        "In this lab, we are going to practice the most important concepts related to the hash functions explained in the videos. You will be using these in this week's assignment.\n",
        "\n",
        "A key point for the lookup using hash functions is the calculation of the hash key or bucket id that we assign for a given entry. In this notebook, we will cover:\n",
        "\n",
        "* Basic hash tables\n",
        "* Multiplanes\n",
        "* Random planes"
      ]
    },
    {
      "cell_type": "markdown",
      "metadata": {
        "id": "TUb3w_EGmvjs"
      },
      "source": [
        "## Basic Hash tables"
      ]
    },
    {
      "cell_type": "markdown",
      "metadata": {
        "id": "gHY5Nh0UmwAZ"
      },
      "source": [
        "Hash tables are data structures that allow indexing data to make lookup tasks more efficient. \n",
        "In this part, you will see the implementation of the simplest hash function."
      ]
    },
    {
      "cell_type": "code",
      "metadata": {
        "id": "nO_tZDE_XkZ3"
      },
      "source": [
        "%%shell\r\n",
        "\r\n",
        "wget https://raw.githubusercontent.com/rahiakela/coursera-natural-language-processing-specialization/master/course-1-natural-language-processing-with-classification-and-vector-spaces/week-4-Machine%20Translation%20and%20Document%20Search/utils.py\r\n",
        "wget https://raw.githubusercontent.com/rahiakela/coursera-natural-language-processing-specialization/master/course-1-natural-language-processing-with-classification-and-vector-spaces/week-4-Machine%20Translation%20and%20Document%20Search/utils_nb.py"
      ],
      "execution_count": null,
      "outputs": []
    },
    {
      "cell_type": "code",
      "metadata": {
        "id": "BGLo9pSvmyAo"
      },
      "source": [
        "import numpy as np                # library for array and matrix manipulation\n",
        "import pprint                     # utilities for console printing \n",
        "from utils_nb import plot_vectors # helper function to plot vectors\n",
        "import matplotlib.pyplot as plt   # visualization library\n",
        "\n",
        "pp = pprint.PrettyPrinter(indent=4) # Instantiate a pretty printer"
      ],
      "execution_count": 2,
      "outputs": []
    },
    {
      "cell_type": "markdown",
      "metadata": {
        "id": "TaLEwAipnCpQ"
      },
      "source": [
        "In the next cell, we will define a straightforward hash function for integer numbers. The function will receive a list of integer numbers and the desired amount of buckets. The function will produce a hash table stored as a dictionary, where keys contain the hash keys, and the values will provide the hashed elements of the input list. \n",
        "\n",
        "The hash function is just the remainder of the integer division between each element and the desired number of buckets."
      ]
    },
    {
      "cell_type": "code",
      "metadata": {
        "id": "DdII2sLZm1Bs"
      },
      "source": [
        "def basic_hash_table(value_l, n_buckets):\n",
        "\n",
        "  def hash_function(value, n_buckets):\n",
        "    return int(value) % n_buckets\n",
        "\n",
        "  # Initialize all the buckets in the hash table as empty lists\n",
        "  hash_table = {i: [] for i in range(n_buckets)}\n",
        "\n",
        "  for value in value_l:\n",
        "    hash_value = hash_function(value, n_buckets)  # Get the hash key for the given value\n",
        "    hash_table[hash_value].append(value)          # Add the element to the corresponding bucket\n",
        "\n",
        "  return hash_table"
      ],
      "execution_count": 3,
      "outputs": []
    },
    {
      "cell_type": "markdown",
      "metadata": {
        "id": "1iGeRt-doZiy"
      },
      "source": [
        "Now let's see the hash table function in action. The pretty print function (`pprint()`) will produce a visually appealing output. "
      ]
    },
    {
      "cell_type": "code",
      "metadata": {
        "id": "qJx4U3sZoU4f",
        "colab": {
          "base_uri": "https://localhost:8080/"
        },
        "outputId": "6e05e6e0-c5b4-4743-f56d-6622ae625835"
      },
      "source": [
        "value_l = [100, 10, 14, 17, 97] # Set of values to hash\n",
        "hash_table_example = basic_hash_table(value_l, n_buckets=10)\n",
        "pp.pprint(hash_table_example)"
      ],
      "execution_count": 4,
      "outputs": [
        {
          "output_type": "stream",
          "text": [
            "{   0: [100, 10],\n",
            "    1: [],\n",
            "    2: [],\n",
            "    3: [],\n",
            "    4: [14],\n",
            "    5: [],\n",
            "    6: [],\n",
            "    7: [17, 97],\n",
            "    8: [],\n",
            "    9: []}\n"
          ],
          "name": "stdout"
        }
      ]
    },
    {
      "cell_type": "code",
      "metadata": {
        "id": "g7oocP7fopxQ",
        "colab": {
          "base_uri": "https://localhost:8080/"
        },
        "outputId": "68d098ba-225d-40a4-e142-8314bb3db81a"
      },
      "source": [
        "value_l = [100, 10, 14, 17, 97, 15, 19, 11, 12, 22, 21, 23] # Set of values to hash\n",
        "hash_table_example = basic_hash_table(value_l, n_buckets=10)\n",
        "pp.pprint(hash_table_example)"
      ],
      "execution_count": 5,
      "outputs": [
        {
          "output_type": "stream",
          "text": [
            "{   0: [100, 10],\n",
            "    1: [11, 21],\n",
            "    2: [12, 22],\n",
            "    3: [23],\n",
            "    4: [14],\n",
            "    5: [15],\n",
            "    6: [],\n",
            "    7: [17, 97],\n",
            "    8: [],\n",
            "    9: [19]}\n"
          ],
          "name": "stdout"
        }
      ]
    },
    {
      "cell_type": "markdown",
      "metadata": {
        "id": "wl_IoEBwpTCo"
      },
      "source": [
        "In this case, the bucket key must be the rightmost digit of each number."
      ]
    },
    {
      "cell_type": "markdown",
      "metadata": {
        "id": "FkdGWfjxpTe6"
      },
      "source": [
        "## Planes"
      ]
    },
    {
      "cell_type": "markdown",
      "metadata": {
        "id": "a4bnftx1pVOE"
      },
      "source": [
        "Multiplanes hash functions are other types of hash functions. Multiplanes hash functions are based on the idea of numbering every single region that is formed by the intersection of n planes. In the following code, we show the most basic forms of the multiplanes principle. First, with a single plane:"
      ]
    },
    {
      "cell_type": "code",
      "metadata": {
        "id": "lGX_rjsNpBTP",
        "colab": {
          "base_uri": "https://localhost:8080/",
          "height": 487
        },
        "outputId": "1e08db82-55a9-4827-8f9e-025bcff93ae2"
      },
      "source": [
        "P = np.array([[1, 1]])        # Define a single plane. \n",
        "fig, ax1 = plt.subplots(figsize=(8, 8))  # Create a plot\n",
        "\n",
        "# Plot the plane P as a vector\n",
        "plot_vectors([P], axes=[2, 2], ax=ax1)\n",
        "\n",
        "# Plot  random points. \n",
        "for i in range(0, 10):\n",
        "  v1 = np.array(np.random.uniform(-2, 2, 2))  # Get a pair of random numbers between -4 and 4 \n",
        "  side_of_plane = np.sign(np.dot(P, v1.T))\n",
        "\n",
        "  # Color the points depending on the sign of the result of np.dot(P, point.T)\n",
        "  if side_of_plane == 1:\n",
        "    ax1.plot([v1[0]], [v1[1]], \"b\")  # Plot blue points\n",
        "  else:\n",
        "    ax1.plot([v1[0]], [v1[1]], \"ro\") # Plot red points\n",
        "\n",
        "plt.show()"
      ],
      "execution_count": 6,
      "outputs": [
        {
          "output_type": "display_data",
          "data": {
            "image/png": "[encoded data removed]",
            "text/plain": [
              "<Figure size 576x576 with 1 Axes>"
            ]
          },
          "metadata": {
            "tags": [],
            "needs_background": "light"
          }
        }
      ]
    },
    {
      "cell_type": "markdown",
      "metadata": {
        "id": "6DDdaAnNEBy3"
      },
      "source": [
        "The first thing to note is that the vector that defines the plane does not mark the boundary between the two sides of the plane. It marks the direction in which you find the 'positive' side of the plane. Not intuitive at all!\n",
        "\n",
        "If we want to plot the separation plane, we need to plot a line that is perpendicular to our vector `P`. We can get such a line using a $90^o$ rotation matrix.\n",
        "\n",
        "Feel free to change the direction of the plane `P`."
      ]
    },
    {
      "cell_type": "code",
      "metadata": {
        "id": "gIBXmNs7Dyr9",
        "colab": {
          "base_uri": "https://localhost:8080/",
          "height": 487
        },
        "outputId": "34c0b6ac-5169-4396-ea0f-dce601da3e46"
      },
      "source": [
        "P = np.array([[1, 2]])  # Define a single plane. You may change the direction\n",
        "\n",
        "# Get a new plane perpendicular to P. We use a rotation matrix\n",
        "PT = np.dot([[0, 1], [-1, 0]], P.T).T  \n",
        "\n",
        "fig, ax1 = plt.subplots(figsize=(8, 8)) # Create a plot with custom size\n",
        "\n",
        "plot_vectors([P], colors=['b'], axes=[2, 2], ax=ax1) # Plot the plane P as a vector\n",
        "\n",
        "# Plot the plane P as a 2 vectors. \n",
        "# We scale by 2 just to get the arrows outside the current box\n",
        "plot_vectors([PT * 4, PT * -4], colors=['k', 'k'], axes=[4, 4], ax=ax1)\n",
        "\n",
        "# Plot 20 random points. \n",
        "for i in range(0, 20):\n",
        "  v1 = np.array(np.random.uniform(-4, 4, 2)) # Get a pair of random numbers between -4 and 4 \n",
        "  side_of_plane = np.sign(np.dot(P, v1.T)) # Get the sign of the dot product with P\n",
        "  # Color the points depending on the sign of the result of np.dot(P, point.T)\n",
        "  if side_of_plane == 1:\n",
        "      ax1.plot([v1[0]], [v1[1]], 'bo') # Plot a blue point\n",
        "  else:\n",
        "      ax1.plot([v1[0]], [v1[1]], 'ro') # Plot a red point\n",
        "\n",
        "plt.show()"
      ],
      "execution_count": 7,
      "outputs": [
        {
          "output_type": "display_data",
          "data": {
            "image/png": "[encoded data removed]",
            "text/plain": [
              "<Figure size 576x576 with 1 Axes>"
            ]
          },
          "metadata": {
            "tags": [],
            "needs_background": "light"
          }
        }
      ]
    },
    {
      "cell_type": "markdown",
      "metadata": {
        "id": "7IBHJ6UNGjrg"
      },
      "source": [
        "Now, let us see what is inside the code that color the points. "
      ]
    },
    {
      "cell_type": "code",
      "metadata": {
        "id": "d0DTFxmYGdvq"
      },
      "source": [
        "P = np.array([[1, 1]])      # Single plane\n",
        "v1 = np.array([[1, 2]])     # Sample point 1\n",
        "v2 = np.array([[-1, 1]])    # Sample point 2\n",
        "v3 = np.array([[-2, -1]])   # Sample point 3"
      ],
      "execution_count": 8,
      "outputs": []
    },
    {
      "cell_type": "code",
      "metadata": {
        "id": "4GVHcZnUGn4c",
        "colab": {
          "base_uri": "https://localhost:8080/"
        },
        "outputId": "ef746bf4-7701-4efa-b052-e6e7653a370b"
      },
      "source": [
        "np.dot(P, v1.T)"
      ],
      "execution_count": 9,
      "outputs": [
        {
          "output_type": "execute_result",
          "data": {
            "text/plain": [
              "array([[3]])"
            ]
          },
          "metadata": {
            "tags": []
          },
          "execution_count": 9
        }
      ]
    },
    {
      "cell_type": "code",
      "metadata": {
        "id": "6Vuv8Yr0Goqu",
        "colab": {
          "base_uri": "https://localhost:8080/"
        },
        "outputId": "387b32eb-ccfb-485c-e3f4-e1a80f92d1db"
      },
      "source": [
        "np.dot(P, v2.T)"
      ],
      "execution_count": 10,
      "outputs": [
        {
          "output_type": "execute_result",
          "data": {
            "text/plain": [
              "array([[0]])"
            ]
          },
          "metadata": {
            "tags": []
          },
          "execution_count": 10
        }
      ]
    },
    {
      "cell_type": "code",
      "metadata": {
        "id": "9hoQo7PwGqNa",
        "colab": {
          "base_uri": "https://localhost:8080/"
        },
        "outputId": "1d57d79d-eec0-4f3c-97d1-0c35efd6e39a"
      },
      "source": [
        "np.dot(P, v3.T)"
      ],
      "execution_count": 11,
      "outputs": [
        {
          "output_type": "execute_result",
          "data": {
            "text/plain": [
              "array([[-3]])"
            ]
          },
          "metadata": {
            "tags": []
          },
          "execution_count": 11
        }
      ]
    },
    {
      "cell_type": "markdown",
      "metadata": {
        "id": "uOmJxuCVGuTV"
      },
      "source": [
        "The function below checks in which side of the plane P is located the vector `v`"
      ]
    },
    {
      "cell_type": "code",
      "metadata": {
        "id": "qNUB3TI6Gryo"
      },
      "source": [
        "def side_of_plane(P, v):\n",
        "  dotproduct = np.dot(P, v.T)  # Get the dot product P * v'\n",
        "  sign_of_dot_product = np.sign(dotproduct)  # The sign of the elements of the dotproduct matrix \n",
        "  sign_of_dot_product_scalar = sign_of_dot_product.item()  # The value of the first item\n",
        "\n",
        "  return sign_of_dot_product_scalar"
      ],
      "execution_count": 12,
      "outputs": []
    },
    {
      "cell_type": "code",
      "metadata": {
        "id": "SKnDYjaxHMtb",
        "colab": {
          "base_uri": "https://localhost:8080/"
        },
        "outputId": "c357ec64-c10d-47b6-d18b-29b61c472cb4"
      },
      "source": [
        "side_of_plane(P, v1) # In which side is [1, 2]"
      ],
      "execution_count": 13,
      "outputs": [
        {
          "output_type": "execute_result",
          "data": {
            "text/plain": [
              "1"
            ]
          },
          "metadata": {
            "tags": []
          },
          "execution_count": 13
        }
      ]
    },
    {
      "cell_type": "code",
      "metadata": {
        "id": "kNIDwHTTHO5H",
        "colab": {
          "base_uri": "https://localhost:8080/"
        },
        "outputId": "5d64a9bf-7bef-4c8a-9b2b-126a1044ff37"
      },
      "source": [
        "side_of_plane(P, v2) # In which side is [-1, 1]"
      ],
      "execution_count": 14,
      "outputs": [
        {
          "output_type": "execute_result",
          "data": {
            "text/plain": [
              "0"
            ]
          },
          "metadata": {
            "tags": []
          },
          "execution_count": 14
        }
      ]
    },
    {
      "cell_type": "code",
      "metadata": {
        "id": "qdWW-JdYHQ-D",
        "colab": {
          "base_uri": "https://localhost:8080/"
        },
        "outputId": "2172cb34-021d-4a12-dd7d-a067cecc0fbe"
      },
      "source": [
        "side_of_plane(P, v3) # In which side is [-2, -1]"
      ],
      "execution_count": 15,
      "outputs": [
        {
          "output_type": "execute_result",
          "data": {
            "text/plain": [
              "-1"
            ]
          },
          "metadata": {
            "tags": []
          },
          "execution_count": 15
        }
      ]
    },
    {
      "cell_type": "markdown",
      "metadata": {
        "id": "XlkwrqAeHUpq"
      },
      "source": [
        "## Hash Function with multiple planes"
      ]
    },
    {
      "cell_type": "markdown",
      "metadata": {
        "id": "sI278XIOHVJn"
      },
      "source": [
        "In the following section, we are going to define a hash function with a list of three custom planes in 2D."
      ]
    },
    {
      "cell_type": "code",
      "metadata": {
        "id": "Rd71VQpTHSXy"
      },
      "source": [
        "P1 = np.array([[1, 1]])   # First plane 2D\n",
        "P2 = np.array([[-1, 1]])  # Second plane 2D\n",
        "P3 = np.array([[-1, -1]]) # Third plane 2D\n",
        "P_l = [P1, P2, P3]  # List of arrays. It is the multi plane\n",
        "\n",
        "# Vector to search\n",
        "v = np.array([[2, 2]])"
      ],
      "execution_count": 16,
      "outputs": []
    },
    {
      "cell_type": "markdown",
      "metadata": {
        "id": "CpDm_9DoHjbe"
      },
      "source": [
        "The next function creates a hash value based on a set of planes. The output value is a combination of the side of the plane where the vector is localized with respect to the collection of planes.\n",
        "\n",
        "We can think of this list of planes as a set of basic hash functions, each of which can produce only 1 or 0 as output."
      ]
    },
    {
      "cell_type": "code",
      "metadata": {
        "id": "tdnrkX1sHkBG"
      },
      "source": [
        "def hash_multi_plane(P_1, v):\n",
        "  hash_value = 0\n",
        "  for i, p in enumerate(P_1):\n",
        "    sign = side_of_plane(P, v)\n",
        "    hash_i = 1 if sign >= 0 else 0\n",
        "    hash_value += 2 ** i * hash_i\n",
        "  return hash_value"
      ],
      "execution_count": 17,
      "outputs": []
    },
    {
      "cell_type": "code",
      "metadata": {
        "id": "EOmTGECWIIz-",
        "colab": {
          "base_uri": "https://localhost:8080/"
        },
        "outputId": "2454e06a-dcba-40ef-ca6a-585e3f9f6a42"
      },
      "source": [
        "hash_multi_plane(P_l, v) # Find the number of the plane that containes this value"
      ],
      "execution_count": 18,
      "outputs": [
        {
          "output_type": "execute_result",
          "data": {
            "text/plain": [
              "7"
            ]
          },
          "metadata": {
            "tags": []
          },
          "execution_count": 18
        }
      ]
    },
    {
      "cell_type": "markdown",
      "metadata": {
        "id": "EYgsedAcIPqr"
      },
      "source": [
        "## Random Planes"
      ]
    },
    {
      "cell_type": "markdown",
      "metadata": {
        "id": "s52kUUvXIQJP"
      },
      "source": [
        "In the cell below, we create a set of three random planes"
      ]
    },
    {
      "cell_type": "code",
      "metadata": {
        "id": "2fImkzIGINH9",
        "colab": {
          "base_uri": "https://localhost:8080/"
        },
        "outputId": "763312bb-19e0-4580-f262-54f996bf2d97"
      },
      "source": [
        "np.random.seed(0)\n",
        "num_dimensions = 2  # is 300 in assignment\n",
        "num_planes = 3      # is 10 in assignment\n",
        "random_planes_matrix = np.random.normal(size=(num_planes, num_dimensions))\n",
        "print(random_planes_matrix)"
      ],
      "execution_count": 19,
      "outputs": [
        {
          "output_type": "stream",
          "text": [
            "[[ 1.76405235  0.40015721]\n",
            " [ 0.97873798  2.2408932 ]\n",
            " [ 1.86755799 -0.97727788]]\n"
          ],
          "name": "stdout"
        }
      ]
    },
    {
      "cell_type": "code",
      "metadata": {
        "id": "kOUUzNMCIiO-"
      },
      "source": [
        "v = np.array([[2, 2]])"
      ],
      "execution_count": 20,
      "outputs": []
    },
    {
      "cell_type": "markdown",
      "metadata": {
        "id": "rm_04a0fIkPg"
      },
      "source": [
        "The next function is similar to the `side_of_plane()` function, but it evaluates more than a plane each time. \n",
        "\n",
        "The result is an array with the side of the plane of `v`, for the set of planes `P`"
      ]
    },
    {
      "cell_type": "code",
      "metadata": {
        "id": "bHVpAr8MInIP"
      },
      "source": [
        "# Side of the plane function. The result is a matrix\n",
        "def side_of_plane_matrix(P, v):\n",
        "  dotproduct = np.dot(P, v.T)\n",
        "  sign_of_dot_product = np.sign(dotproduct)  # Get a boolean value telling if the value in the cell is positive or negative\n",
        "  \n",
        "  return sign_of_dot_product"
      ],
      "execution_count": 21,
      "outputs": []
    },
    {
      "cell_type": "markdown",
      "metadata": {
        "id": "csObJ0xRJlQW"
      },
      "source": [
        "Get the side of the plane of the vector `[2, 2]` for the set of random planes. "
      ]
    },
    {
      "cell_type": "code",
      "metadata": {
        "id": "Tmwy5--QJjf1",
        "colab": {
          "base_uri": "https://localhost:8080/"
        },
        "outputId": "ebe9eb5d-1b4c-4580-ca0b-6384a8496e37"
      },
      "source": [
        "sides_l = side_of_plane_matrix(random_planes_matrix, v)\n",
        "sides_l"
      ],
      "execution_count": 22,
      "outputs": [
        {
          "output_type": "execute_result",
          "data": {
            "text/plain": [
              "array([[1.],\n",
              "       [1.],\n",
              "       [1.]])"
            ]
          },
          "metadata": {
            "tags": []
          },
          "execution_count": 22
        }
      ]
    },
    {
      "cell_type": "markdown",
      "metadata": {
        "id": "Sl3M3sptJxQ1"
      },
      "source": [
        "Now, let us use the former function to define our multiplane hash function."
      ]
    },
    {
      "cell_type": "code",
      "metadata": {
        "id": "pKIia7pZJu_E"
      },
      "source": [
        "def hash_multi_plane_matrix(P, v, num_planes):\n",
        "  sides_matrix = side_of_plane_matrix(P, v)  # Get the side of planes for P and v\n",
        "\n",
        "  hash_value=0\n",
        "  for i in range(num_planes):\n",
        "    sign = sides_matrix[i].item()  # Get the value inside the matrix cell\n",
        "    hash_i = 1 if sign >= 0 else 0\n",
        "    hash_value += 2 ** i * hash_i  # sum 2^i * hash_i\n",
        "\n",
        "  return hash_value"
      ],
      "execution_count": 23,
      "outputs": []
    },
    {
      "cell_type": "markdown",
      "metadata": {
        "id": "98ynj9sbKcUy"
      },
      "source": [
        "Print the bucket hash for the vector `v = [2, 2]`. "
      ]
    },
    {
      "cell_type": "code",
      "metadata": {
        "id": "jsjsMNaQKb0U",
        "colab": {
          "base_uri": "https://localhost:8080/"
        },
        "outputId": "80f548b7-eefe-4ce7-9aa0-a3326b0bbfd8"
      },
      "source": [
        "hash_multi_plane_matrix(random_planes_matrix, v, num_planes)"
      ],
      "execution_count": 24,
      "outputs": [
        {
          "output_type": "execute_result",
          "data": {
            "text/plain": [
              "7"
            ]
          },
          "metadata": {
            "tags": []
          },
          "execution_count": 24
        }
      ]
    },
    {
      "cell_type": "markdown",
      "metadata": {
        "id": "ThhUBgKSKgws"
      },
      "source": [
        "#### Note\n",
        "This showed you how to make one set of random planes.  You will make multiple sets of random planes in order to make the approximate nearest neighbors more accurate."
      ]
    },
    {
      "cell_type": "markdown",
      "metadata": {
        "id": "ZmeQyVuTKiQV"
      },
      "source": [
        "## Document vectors"
      ]
    },
    {
      "cell_type": "markdown",
      "metadata": {
        "id": "CUszcdudKmHz"
      },
      "source": [
        "Before we finish this lab, remember that you can represent a document as a vector by adding up the word vectors for the words inside the document. \n",
        "\n",
        "In this example, our embedding contains only three words, each represented by a 3D array."
      ]
    },
    {
      "cell_type": "code",
      "metadata": {
        "id": "s9YSq5GcKZ5U",
        "colab": {
          "base_uri": "https://localhost:8080/"
        },
        "outputId": "9635fa77-1a2e-4523-8836-a81c3d174cab"
      },
      "source": [
        "word_embedding = {\n",
        "    \"I\": np.array([1,0,1]),\n",
        "    \"love\": np.array([-1,0,1]),\n",
        "    \"learning\": np.array([1,0,1])\n",
        "}\n",
        "words_in_document = ['I', 'love', 'learning', 'not_a_word']\n",
        "document_embedding = np.array([0, 0, 0])\n",
        "for word in words_in_document:\n",
        "  document_embedding += word_embedding.get(word, 0)\n",
        "\n",
        "print(document_embedding)"
      ],
      "execution_count": 25,
      "outputs": [
        {
          "output_type": "stream",
          "text": [
            "[1 0 3]\n"
          ],
          "name": "stdout"
        }
      ]
    },
    {
      "cell_type": "markdown",
      "metadata": {
        "id": "rdvjODlYNYuj"
      },
      "source": [
        "**Congratulations! You've now completed this lab on hash functions and multiplanes!**"
      ]
    }
  ]
}